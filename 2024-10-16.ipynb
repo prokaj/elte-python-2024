{
 "cells": [
  {
   "cell_type": "markdown",
   "metadata": {},
   "source": [
    "[![Open In Colab](https://colab.research.google.com/assets/colab-badge.svg)](https://colab.research.google.com/github/prokaj/elte-python-2024/blob/main/2024-10-16.ipynb)   "
   ]
  },
  {
   "cell_type": "markdown",
   "metadata": {},
   "source": [
    "## Házi feladat"
   ]
  },
  {
   "cell_type": "markdown",
   "metadata": {},
   "source": [
    "Írjunk egy generátor függvényt, ami bemenetként kap egy sztringet. A generátor a sztringben szereplő szavakat adja vissza. A szavakat a szóközök választják el. A generált sorozat ne tartalmazzon üres szavakat.\n",
    "\n",
    "Például:\n",
    "```python\n",
    "it = words(\"Ez egy teszt\")\n",
    "for word in it:\n",
    "    print(word)\n",
    "    next(it, None)\n",
    "```\n",
    "eredménye:\n",
    "```text\n",
    "Ez\n",
    "teszt\n",
    "```\n",
    "Írjunk teszteket a függvényhez és ellenőrizzük, hogy a függvény helyesen működik-e."
   ]
  },
  {
   "cell_type": "markdown",
   "metadata": {},
   "source": [
    "Könnyű út: használjuk az `str.split` függvényt"
   ]
  },
  {
   "cell_type": "code",
   "execution_count": 1,
   "metadata": {},
   "outputs": [],
   "source": [
    "def words(text):\n",
    "    for word in text.split():\n",
    "        yield word\n",
    "\n",
    "## így is lehetne\n",
    "def words_v2(text):\n",
    "    yield from text.split()"
   ]
  },
  {
   "cell_type": "code",
   "execution_count": 2,
   "metadata": {},
   "outputs": [],
   "source": [
    "import ipytest\n",
    "ipytest.autoconfig()"
   ]
  },
  {
   "cell_type": "code",
   "execution_count": 9,
   "metadata": {},
   "outputs": [
    {
     "name": "stdout",
     "output_type": "stream",
     "text": [
      "\u001b[32m.\u001b[0m\u001b[32m.\u001b[0m\u001b[32m.\u001b[0m\u001b[32m.\u001b[0m\u001b[32m.\u001b[0m\u001b[32m                                                                                        [100%]\u001b[0m\n",
      "\u001b[32m\u001b[32m\u001b[1m5 passed\u001b[0m\u001b[32m in 0.01s\u001b[0m\u001b[0m\n"
     ]
    }
   ],
   "source": [
    "%%ipytest\n",
    "\n",
    "def test_words():\n",
    "    text = \"this is a test\"\n",
    "    assert [*words(text)] == [\"this\", \"is\", \"a\", \"test\"]\n",
    "    assert [*words_v2(text)] == [\"this\", \"is\", \"a\", \"test\"]\n",
    "\n",
    "def test_words_empty():\n",
    "    text = \"\"\n",
    "    assert [*words(text)] == []\n",
    "    assert [*words_v2(text)] == []\n",
    "\n",
    "def test_words_multi_spaces():\n",
    "    text = \"this   is a test\"\n",
    "    assert [*words(text)] == [\"this\", \"is\", \"a\", \"test\"]\n",
    "    assert [*words_v2(text)] == [\"this\", \"is\", \"a\", \"test\"]\n",
    "\n",
    "def test_words_every_second():\n",
    "    text = \"this is a test\"\n",
    "    it = words(text)\n",
    "    lst = []\n",
    "    for word in it:\n",
    "        lst.append(word)\n",
    "        next(it, None)\n",
    "\n",
    "    assert lst == [\"this\", \"a\"]\n",
    "\n",
    "def test_words_pairs():\n",
    "    text = \"this is a test\"\n",
    "    it1 = words_v2(text)\n",
    "    it2 = words(text)\n",
    "    next(it2, None)\n",
    "    pairs = [*zip(it1, it2)]\n",
    "    assert pairs == [(\"this\", \"is\"), (\"is\", \"a\"), (\"a\", \"test\")]\n",
    "    "
   ]
  },
  {
   "cell_type": "markdown",
   "metadata": {},
   "source": [
    "### Szorgalmi feladat"
   ]
  },
  {
   "cell_type": "markdown",
   "metadata": {},
   "source": [
    "Írjunk egy osztályt, ami egy egyszerű szöveges játékot valósít meg. A játékban egy karakter egy térképen mozoghat. A térkép a négyzetrács a síkon. A karakter a térképen egy $x,y$ koordinátával van jellemezve. A `left`, `right`, `up` és `down` metódusokkal a karakter balra, jobbra, felfelé és lefelé tud mozogni. A karakter inicializáláskor kap egy nevet és kezdeti pozíciót. A karakter szöveges reprezentációja írja ki a nevet és az aktuális pozíciót.\n",
    "\n",
    "Pl.\n",
    "```python\n",
    "mario = Character(\"Mario\", 0, 0)\n",
    "print(mario)\n",
    "mario.right()\n",
    "print(mario)\n",
    "mario.down()\n",
    "print(mario)\n",
    "```\n",
    "eredménye:\n",
    "```text\n",
    "Mario@(0, 0)\n",
    "Mario@(1, 0)\n",
    "Mario@(1, -1)\n",
    "```"
   ]
  },
  {
   "cell_type": "code",
   "execution_count": 12,
   "metadata": {},
   "outputs": [],
   "source": [
    "class Character:\n",
    "    def __init__(self, name, x, y):\n",
    "        self.name = name\n",
    "        self.x = x\n",
    "        self.y = y\n",
    "\n",
    "    def __repr__(self):\n",
    "        return f\"Character({self.name!r}, {self.x}, {self.y})\"\n",
    "    \n",
    "    def __str__(self):\n",
    "        return f\"{self.name} at ({self.x}, {self.y})\"\n",
    "    \n",
    "    def left(self):\n",
    "        self.x -= 1\n",
    "    \n",
    "    def right(self):\n",
    "        self.x += 1\n",
    "\n",
    "    def up(self):\n",
    "        self.y += 1\n",
    "    \n",
    "    def down(self):\n",
    "        self.y -= 1"
   ]
  },
  {
   "cell_type": "code",
   "execution_count": 13,
   "metadata": {},
   "outputs": [
    {
     "name": "stdout",
     "output_type": "stream",
     "text": [
      "\u001b[32m.\u001b[0m\u001b[32m                                                                                            [100%]\u001b[0m\n",
      "\u001b[32m\u001b[32m\u001b[1m1 passed\u001b[0m\u001b[32m in 0.01s\u001b[0m\u001b[0m\n"
     ]
    }
   ],
   "source": [
    "%%ipytest\n",
    "\n",
    "def test_character():\n",
    "    c = Character(\"Alice\", 0, 0)\n",
    "    assert str(c) == \"Alice at (0, 0)\"\n",
    "    c.left()\n",
    "    assert str(c) == \"Alice at (-1, 0)\"\n",
    "    c.right()\n",
    "    assert str(c) == \"Alice at (0, 0)\"\n",
    "    c.up()\n",
    "    assert str(c) == \"Alice at (0, 1)\"\n",
    "    c.down()\n",
    "    assert str(c) == \"Alice at (0, 0)\"\n",
    "    c.left()\n",
    "    c.left()\n",
    "    c.down()\n",
    "    assert str(c) == \"Alice at (-2, -1)\"\n",
    "    c.right()\n",
    "    c.right()\n",
    "    c.up()\n",
    "    c.up()\n",
    "    assert str(c) == \"Alice at (0, 1)\""
   ]
  },
  {
   "cell_type": "markdown",
   "metadata": {},
   "source": [
    "## Feladatok"
   ]
  },
  {
   "cell_type": "markdown",
   "metadata": {},
   "source": [
    "1. Előadáson, és a múltkori gyakorlaton is a `Polinom` osztályt használtuk illusztrációnak.\n",
    "   \n",
    "   * Egészítsük ki a `Polinom` osztályunkat az aritmetikai műveletekkel. \n",
    "   * Implementáljuk a hatványozást hatékonyabban, mint előadáson. \n",
    "   * Oldjuk meg, hogy ha `p` `Polinom` típusú, akkor `p(x)` a polinom értékét adja vissza az `x` helyen.\n",
    "     Azaz érjük el, hogy a `Polinom` osztály egyedeit függvényként is lehessen használni."
   ]
  },
  {
   "cell_type": "markdown",
   "metadata": {},
   "source": [
    "#### Nevezetes polinom sorozatok:\n"
   ]
  },
  {
   "cell_type": "markdown",
   "metadata": {},
   "source": [
    "\n",
    "2. Hermite polinomok:\n",
    "   $$\n",
    "    h_n(x) = (-1)^n e^{x^2/2}\\left(\\frac{d}{dx}\\right)^n e^{-x^2/2}\n",
    "   $$\n",
    "   Írjunk fel rekurziót az Hermite polinomok sorozatára. Írjunk egy generátort, ami az Hermite polinomok sorozatát generálja."
   ]
  },
  {
   "cell_type": "markdown",
   "metadata": {},
   "source": [
    "3. Csebisev polinomok: $cos(nx) = p_n(cos(x))$ \n",
    "\n",
    "   A \n",
    "   $$\n",
    "    \\cos \\alpha \\cos\\beta = \\frac12(\\cos(\\alpha+\\beta)+\\cos(\\alpha-\\beta))\n",
    "   $$\n",
    "   összefüggésből kiindulva írjuk fel a rekurziót $p_n$-re és számoljuk ki a sorozat első néhány tagját. Azaz, írjunk egy generátor függvényt, ami a Csebisev polinomok sorozatát adja vissza. "
   ]
  },
  {
   "cell_type": "markdown",
   "metadata": {},
   "source": [
    "4. Tegyük fel, hogy van egy generátorunk, ami egy polinom sorozatot állít elő. A sorozat $n$. eleme egy $n.$ fokú polinom.\n",
    "   Írjunk egy függvényt, ami bemenetként kap egy $p$ polinomot és egy $(e_n)$ polinom sorozatot a fenti alakban és kiszámolja hogyan írható fel $p$ az $(e_n)$ polinomok lineáris kombinációjaként.\n",
    "\n",
    "   Pl. ha $p(x) = x^2$ és $e_0=1$, $e_1(x)=x$, $e_2(x)=x^2-1$, akkor ez eredmény `[1, 0, 1]`, mert\n",
    "   $$\n",
    "    p(x) = e_0+e_2(x)\n",
    "   $$\n",
    "\n",
    "   A függvény ellenőrzése lehet, ha pl $x^k$-ont, felírjuk valamelyik fenti nevezetes polinom sorozattal és megnézzük, hogy a lineáris kombináció visszaadja-e az $x^k$ polinomot."
   ]
  },
  {
   "cell_type": "markdown",
   "metadata": {},
   "source": [
    "5. Középiskolában láttuk, hogy \n",
    "   $$\n",
    "   \\sum _{k=0}^n k = \\frac{n(n+1)}2, \\quad\n",
    "   \\sum_{k=0}^n k^2 = \\frac{n(n+1)(2n+1)}6\n",
    "   $$\n",
    "\n",
    "   Látható, hogy a jobb oldal $n$ polinomja. Írjunk egy függvényt, ami kiszámolja azt a $p_r$ polinomot, amire\n",
    "   $$\n",
    "    p_r(n) = \\sum_{k=0}^{n} k^r,\\quad \\text{minden $n$ természetes számra}\n",
    "   $$\n",
    "\n",
    "   Ehhez a feladathoz jól jöhet a következő összefüggés:\n",
    "   $$\n",
    "    \\sum_{k=r}^n \\binom{k}{r} = \\binom{n+1}{r+1}\n",
    "   $$"
   ]
  },
  {
   "cell_type": "markdown",
   "metadata": {},
   "source": [
    "6. Rajzoljuk ki a fenti nevezetes polinomok grafikonját, mondjuk a $[-1, 1]$ intervallumban. "
   ]
  },
  {
   "cell_type": "markdown",
   "metadata": {},
   "source": [
    "# Egy gráfelméleti algoritmus"
   ]
  },
  {
   "cell_type": "markdown",
   "metadata": {},
   "source": [
    "## Feladat"
   ]
  },
  {
   "cell_type": "markdown",
   "metadata": {},
   "source": [
    "Adott egy `n` csúcsú irányítatlan gráf az élek listájával. A gráf csúcsait `0`-tól `n-1`-ig címkéztük meg, az éleket pedig a végpontokkal.\n",
    "\n",
    "Emellett adott egy kiindulási pont és egy végpont. Azt szeretnénk eldönteni, hogy el lehet-e jutni a kiindulási pontból a végpontba a gráf éleit használva.\n",
    "\n",
    "Gondolhatunk arra, hogy a gráf egy úthálózatot ír le és a kérdés az, hogy el tudunk-e jutni `A`-ból `B`-be."
   ]
  },
  {
   "cell_type": "markdown",
   "metadata": {},
   "source": [
    "Pl. `n = 3`, élek `edges = [[0,1], [1,2], [2,0]]`, `A =  0`, `B = 2`."
   ]
  },
  {
   "cell_type": "markdown",
   "metadata": {},
   "source": [
    "Gráfok megjelenítésére egy hasznos könyvtár a `graphviz`."
   ]
  },
  {
   "cell_type": "code",
   "execution_count": null,
   "metadata": {},
   "outputs": [],
   "source": [
    "import importlib\n",
    "if importlib.util.find_spec('graphviz') is None:\n",
    "    ! pip install graphviz\n",
    "import graphviz"
   ]
  },
  {
   "cell_type": "code",
   "execution_count": null,
   "metadata": {},
   "outputs": [],
   "source": [
    "edges = [[0,1], [1,2], [2,0]]\n",
    "g0 = graphviz.Graph()\n",
    "\n",
    "g0.edges([(str(a), str(b)) for a, b in edges])\n",
    "g0"
   ]
  },
  {
   "cell_type": "markdown",
   "metadata": {},
   "source": [
    "A gráf összefüggő, tetszőleges `A`, `B` esetén a válasz: `True`"
   ]
  },
  {
   "cell_type": "code",
   "execution_count": null,
   "metadata": {},
   "outputs": [],
   "source": [
    "n = 6\n",
    "edges = [[0,1],[0,2],[3,5],[5,4],[4,3]]\n",
    "A = 0\n",
    "B = 5\n",
    "\n",
    "g1 = graphviz.Graph()\n",
    "g1.edges([(str(a), str(b)) for a, b in edges])\n",
    "g1"
   ]
  },
  {
   "cell_type": "markdown",
   "metadata": {},
   "source": [
    "Nincs út 0 és 5 között. A válasz: `False`"
   ]
  },
  {
   "cell_type": "markdown",
   "metadata": {},
   "source": [
    "Összefüggőségi komponenseket szeretnénk számolni.\n",
    "\n"
   ]
  },
  {
   "cell_type": "markdown",
   "metadata": {},
   "source": [
    "## Ötlet.\n",
    "\n",
    "Az él nélküli gráfból indulunk ki. Itt egy elemű komponensek vannak.\n",
    "\n",
    "Minden komponensből válasszunk egy reprezentáns és minden $i$ pontra feljegyezzük, melyik komponensben van.\n",
    "\n",
    "\n"
   ]
  },
  {
   "cell_type": "code",
   "execution_count": null,
   "metadata": {},
   "outputs": [],
   "source": [
    "def show_graph(roots, direction = 'LR'):\n",
    "    g = graphviz.Digraph(graph_attr={'rankdir': direction})\n",
    "    g.edges((str(i), str(r)) for i, r in enumerate(roots))\n",
    "    return g"
   ]
  },
  {
   "cell_type": "code",
   "execution_count": null,
   "metadata": {},
   "outputs": [],
   "source": [
    "n = 5\n",
    "roots = [i for i in range(n)]\n",
    "display(show_graph(roots, 'TD'))"
   ]
  },
  {
   "cell_type": "markdown",
   "metadata": {},
   "source": [
    "ha behúzzuk a $(0, 1)$ élet, akkor $0$ és $1$ azonos komponensbe kerül. Választhatunk a két összeuniózott komponens reprezentánsa között, legyen pl. 1"
   ]
  },
  {
   "cell_type": "code",
   "execution_count": null,
   "metadata": {},
   "outputs": [],
   "source": [
    "roots[0] = 1\n",
    "display(show_graph(roots, 'TD'))"
   ]
  },
  {
   "cell_type": "markdown",
   "metadata": {},
   "source": [
    "Ha most a (0, 2) élet akarjuk behúzni, akkor nem állíthatjuk át `roots[0]`. Meg kell keresnünk `0` komponensének reprezentását, ez 1 és vagy `roots[1]`-et állítjuk 2 -re, vagy `roots[2]`-t 1-re."
   ]
  },
  {
   "cell_type": "code",
   "execution_count": null,
   "metadata": {},
   "outputs": [],
   "source": [
    "def find(roots, a):\n",
    "    while a != roots[a]:\n",
    "        a = roots[a]\n",
    "    return a"
   ]
  },
  {
   "cell_type": "code",
   "execution_count": null,
   "metadata": {},
   "outputs": [],
   "source": [
    "find(roots, 0), find(roots, 2)"
   ]
  },
  {
   "cell_type": "code",
   "execution_count": null,
   "metadata": {},
   "outputs": [],
   "source": [
    "def union(roots, a, b):\n",
    "    ra = find(roots, a)\n",
    "    rb = find(roots, b)\n",
    "    roots[ra] = rb"
   ]
  },
  {
   "cell_type": "code",
   "execution_count": null,
   "metadata": {},
   "outputs": [],
   "source": [
    "union(roots, 0, 2)\n",
    "print(f\"After union(0, 2) {roots=}\")\n",
    "display(show_graph(roots))\n",
    "\n",
    "union(roots, 3, 4)\n",
    "print(f\"After union(3, 4) {roots=}\")\n",
    "print(roots)\n",
    "display(show_graph(roots))\n",
    "\n",
    "union(roots, 3, 2)\n",
    "print(f\"After union(3, 2) {roots=}\")\n",
    "print(roots)\n",
    "display(show_graph(roots))"
   ]
  },
  {
   "cell_type": "markdown",
   "metadata": {},
   "source": [
    "Ezután az a kérdés, hogy el lehet-e jutni `A`-ból, `B`-be könnyen eldönthető. Ha `A` és `B` azonos komponensben van, akkor `A` és `B` között megy út az eredeti gráfban, különben nem."
   ]
  },
  {
   "cell_type": "markdown",
   "metadata": {},
   "source": [
    "1. példa\n",
    "`n = 3`, élek `edges = [[0,1], [1,2], [2,0]]`, `A =  0`, `B = 2`."
   ]
  },
  {
   "cell_type": "code",
   "execution_count": null,
   "metadata": {},
   "outputs": [],
   "source": [
    "def show_edges(edges, direction='LR'):\n",
    "    g = graphviz.Graph(graph_attr={'rankdir': direction})\n",
    "    g.edges([(str(a), str(b)) for a, b in edges])\n",
    "    return g"
   ]
  },
  {
   "cell_type": "code",
   "execution_count": null,
   "metadata": {},
   "outputs": [],
   "source": [
    "n = 3\n",
    "edges = [[0,1], [1,2], [2,0]]\n",
    "A =  0\n",
    "B = 2\n",
    "\n",
    "display(show_edges(edges, 'TD'))\n",
    "print(f\"Eredeti gráf\")\n",
    "print(\"=\"*50)\n",
    "\n",
    "roots = [i for i in range(n)]\n",
    "for a, b in edges:\n",
    "    union(roots, a, b)\n",
    "\n",
    "display(show_graph(roots))\n",
    "print(f\"{A=} és {B=} {'azonos' if find(roots, A)==find(roots, B) else 'különböző'} komponensben van\")"
   ]
  },
  {
   "cell_type": "markdown",
   "metadata": {},
   "source": [
    "2. példa"
   ]
  },
  {
   "cell_type": "code",
   "execution_count": null,
   "metadata": {},
   "outputs": [],
   "source": [
    "n = 6\n",
    "edges = [[0,1],[0,2],[3,5],[5,4],[4,3]]\n",
    "A = 0\n",
    "B = 5\n",
    "\n",
    "display(show_edges(edges))\n",
    "print(f\"Eredeti gráf\")\n",
    "print(\"=\"*50)\n",
    "\n",
    "roots = [i for i in range(n)]\n",
    "for a, b in edges:\n",
    "    union(roots, a, b)\n",
    "\n",
    "display(show_graph(roots))\n",
    "print(f\"{A=} és {B=} {'azonos' if find(roots, A)==find(roots, B) else 'különböző'} komponensben van\")\n"
   ]
  },
  {
   "cell_type": "markdown",
   "metadata": {},
   "source": [
    "Mi történik, ha nagyobb gráfunk van?"
   ]
  },
  {
   "cell_type": "code",
   "execution_count": null,
   "metadata": {},
   "outputs": [],
   "source": [
    "n = 10\n",
    "edges = [(0,i+1) for i in range(n-1)]\n",
    "display(show_edges(edges, 'TD'))\n",
    "\n",
    "roots = [i for i in range(n)]\n",
    "for a, b in edges:\n",
    "    union(roots, a, b)\n",
    "\n",
    "display(show_graph(roots))\n"
   ]
  },
  {
   "cell_type": "markdown",
   "metadata": {},
   "source": [
    "Valahányszor behúzzuk a $(0, i)$ élet, meg kell keresni $0$ reprezentánsát. $k$ él behúzása után $k$-lépéssel találjuk meg. Ha 10 helyett 10_000 méretű a gráf ez nem fog működni.\n",
    "\n",
    "### Javítási lehetőségek.\n",
    "\n",
    "- Amikor megkeressük $i$ reprezentánsát végig megyünk a reprezentánshoz vezető úton. Minden meglátogatott csúcsra ismerté válik a reprezentáns értéke. Ezt beírhatjuk a `roots` tömbe. (path compression)\n",
    "\n",
    "- A nagyobb komponensbe kössük be a kisebbet és ne fordítva. Ehhez  a ,,méretet'' nyilván kell tartani."
   ]
  },
  {
   "cell_type": "code",
   "execution_count": null,
   "metadata": {},
   "outputs": [],
   "source": [
    "def find_better(roots, a):\n",
    "    ra = roots[a]\n",
    "    if a != ra:\n",
    "        ra = find_better(roots, ra)\n",
    "        roots[a] = ra\n",
    "    return ra\n",
    "\n",
    "def find_better_without_recursion(roots, a):\n",
    "    stack = []\n",
    "\n",
    "    ra = roots[a]\n",
    "    while a != ra:\n",
    "        stack.append(a)\n",
    "        a = ra\n",
    "        ra = roots[a]\n",
    "\n",
    "    while stack:\n",
    "        roots[stack.pop()] = ra\n",
    "\n",
    "    return ra\n",
    "\n",
    "\n",
    "def union_sizes(roots, sizes, a, b):\n",
    "    ra = find_better(roots, a)\n",
    "    rb = find_better(roots, b)\n",
    "    if ra != rb:\n",
    "        if sizes[ra] < sizes[rb]:\n",
    "            ra, rb = rb, ra\n",
    "        roots[rb] = ra\n",
    "        sizes[ra] += sizes[rb]\n",
    "\n",
    "def union_ranks(roots, ranks, a, b):\n",
    "    ra = find_better(roots, a)\n",
    "    rb = find_better(roots, b)\n",
    "    if ra != rb:\n",
    "        if ranks[ra] < ranks[rb]:\n",
    "            ra, rb = rb, ra\n",
    "        roots[rb] = ra\n",
    "        if ranks[ra] == ranks[rb]:\n",
    "            ranks[ra] += 1\n",
    "\n",
    "\n"
   ]
  },
  {
   "cell_type": "code",
   "execution_count": null,
   "metadata": {},
   "outputs": [],
   "source": [
    "n = 10\n",
    "edges = [(0, i) for i in range(1, n)]\n",
    "display(show_edges(edges, 'TD'))\n",
    "\n",
    "roots = [i for i in range(n)]\n",
    "\n",
    "for a, b in edges:\n",
    "    ra = find_better(roots, a)\n",
    "    rb = find_better(roots, b)\n",
    "    roots[ra] = rb\n",
    "\n",
    "display(show_graph(roots, 'LR'))\n"
   ]
  },
  {
   "cell_type": "code",
   "execution_count": null,
   "metadata": {},
   "outputs": [],
   "source": [
    "n = 10\n",
    "edges = [(0, i) for i in range(1, n)]\n",
    "display(show_edges(edges, 'TD'))\n",
    "\n",
    "roots = [i for i in range(n)]\n",
    "\n",
    "for a, b in edges:\n",
    "    ra = find_better(roots, a)\n",
    "    rb = find_better(roots, b)\n",
    "    roots[rb] = ra\n",
    "\n",
    "display(show_graph(roots, 'TD'))\n"
   ]
  },
  {
   "cell_type": "code",
   "execution_count": null,
   "metadata": {},
   "outputs": [],
   "source": [
    "n = 10\n",
    "edges = [(0, i) for i in range(1, n)]\n",
    "display(show_edges(edges, 'TD'))\n",
    "\n",
    "roots = [i for i in range(n)]\n",
    "sizes = [1]*n\n",
    "\n",
    "for a, b in edges:\n",
    "    union_sizes(roots, sizes, a, b)\n",
    "\n",
    "display(show_graph(roots, 'TD'))\n"
   ]
  },
  {
   "cell_type": "code",
   "execution_count": null,
   "metadata": {},
   "outputs": [],
   "source": [
    "n = 10\n",
    "edges = [(0, i) for i in range(1, n)]\n",
    "display(show_edges(edges, 'TD'))\n",
    "\n",
    "roots = [i for i in range(n)]\n",
    "ranks = [0]*n\n",
    "\n",
    "for a, b in edges:\n",
    "    union_ranks(roots, ranks, a, b)\n",
    "\n",
    "display(show_graph(roots, 'TD'))\n"
   ]
  },
  {
   "cell_type": "markdown",
   "metadata": {},
   "source": [
    "### Szokásos implementáció"
   ]
  },
  {
   "cell_type": "code",
   "execution_count": null,
   "metadata": {},
   "outputs": [],
   "source": [
    "class UnionFind:\n",
    "    def __init__(self, n):\n",
    "        self.roots = [i for i in range(n)]\n",
    "        self.sizes = [1]*n\n",
    "\n",
    "    def find(self, a):\n",
    "        ra = self.roots[a]\n",
    "        if a != ra:\n",
    "            ra = self.find( ra)\n",
    "            self.roots[a] = ra\n",
    "        return ra\n",
    "\n",
    "    def union(self, a, b):\n",
    "        ra = self.find(a)\n",
    "        rb = self.find(b)\n",
    "        if ra != rb:\n",
    "            if self.sizes[ra] < self.sizes[rb]:\n",
    "                ra, rb = rb, ra\n",
    "            self.roots[rb] = ra\n",
    "            self.sizes[ra] += self.sizes[rb]\n"
   ]
  },
  {
   "cell_type": "code",
   "execution_count": null,
   "metadata": {},
   "outputs": [],
   "source": [
    "uf = UnionFind(10)\n",
    "print(uf)\n",
    "uf.union(1, 2)\n",
    "print(uf)\n",
    "uf.union(5, 9)\n",
    "uf.union(6, 7)\n",
    "print(uf)\n",
    "\n",
    "uf"
   ]
  },
  {
   "cell_type": "markdown",
   "metadata": {},
   "source": [
    "`__str__` és `__repr__` metódusok"
   ]
  },
  {
   "cell_type": "code",
   "execution_count": null,
   "metadata": {},
   "outputs": [],
   "source": [
    "def as_set(seq):\n",
    "    return f\"{{{', '.join(map(str, seq))}}}\"\n",
    "\n",
    "def uf_str(self):\n",
    "    components = {}\n",
    "    for a in range(len(self.roots)):\n",
    "        ra = self.find(a)\n",
    "        if ra not in components:\n",
    "            components[ra] = []\n",
    "        components[ra].append(a)\n",
    "    return f\"{{{ ', '.join(map(as_set, components.values()))}}}\"\n",
    "\n",
    "def uf_repr(self):\n",
    "    return f\"{type(self).__name__}({len(self.roots)})\"\n",
    "\n",
    "# Így is lehet:\n",
    "UnionFind.__str__ = uf_str\n",
    "UnionFind.__repr__ = uf_repr"
   ]
  },
  {
   "cell_type": "code",
   "execution_count": null,
   "metadata": {},
   "outputs": [],
   "source": [
    "uf = UnionFind(10)\n",
    "print(uf)\n",
    "uf.union(1, 2)\n",
    "print(uf)\n",
    "uf.union(5, 9)\n",
    "uf.union(6, 7)\n",
    "print(uf)\n",
    "\n",
    "uf"
   ]
  },
  {
   "cell_type": "markdown",
   "metadata": {},
   "source": [
    "### További kérdések\n",
    "\n",
    "- Tegyük fel, hogy a komponensek száma érdekel minket. Hogyan oldanánk, meg, hogy konstans idő alatt megkaphassuk.\n",
    "- Tegyük fel, hogy a legnagyobb komponens méretet érdekel minket. Hogyan oldanánk, meg, hogy konstans idő alatt megkaphassuk.\n",
    "- Hogyan ellenőriznénk, hogy két partíció azonos?"
   ]
  }
 ],
 "metadata": {
  "kernelspec": {
   "display_name": "python3.10",
   "language": "python",
   "name": "python3"
  },
  "language_info": {
   "codemirror_mode": {
    "name": "ipython",
    "version": 3
   },
   "file_extension": ".py",
   "mimetype": "text/x-python",
   "name": "python",
   "nbconvert_exporter": "python",
   "pygments_lexer": "ipython3",
   "version": "3.10.12"
  }
 },
 "nbformat": 4,
 "nbformat_minor": 2
}
