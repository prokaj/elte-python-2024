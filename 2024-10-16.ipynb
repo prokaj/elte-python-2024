{
 "cells": [
  {
   "cell_type": "markdown",
   "metadata": {},
   "source": [
    "[![Open In Colab](https://colab.research.google.com/assets/colab-badge.svg)](https://colab.research.google.com/github/prokaj/elte-python-2024/blob/main/2024-10-16.ipynb)   "
   ]
  },
  {
   "cell_type": "markdown",
   "metadata": {},
   "source": [
    "## Házi feladat"
   ]
  },
  {
   "cell_type": "markdown",
   "metadata": {},
   "source": [
    "Írjunk egy generátor függvényt, ami bemenetként kap egy sztringet. A generátor a sztringben szereplő szavakat adja vissza. A szavakat a szóközök választják el. A generált sorozat ne tartalmazzon üres szavakat.\n",
    "\n",
    "Például:\n",
    "```python\n",
    "it = words(\"Ez egy teszt\")\n",
    "for word in it:\n",
    "    print(word)\n",
    "    next(it, None)\n",
    "```\n",
    "eredménye:\n",
    "```text\n",
    "Ez\n",
    "teszt\n",
    "```\n",
    "Írjunk teszteket a függvényhez és ellenőrizzük, hogy a függvény helyesen működik-e."
   ]
  },
  {
   "cell_type": "markdown",
   "metadata": {},
   "source": [
    "Könnyű út: használjuk az `str.split` függvényt"
   ]
  },
  {
   "cell_type": "code",
   "execution_count": 1,
   "metadata": {},
   "outputs": [],
   "source": [
    "def words(text):\n",
    "    for word in text.split():\n",
    "        yield word\n",
    "\n",
    "## így is lehetne\n",
    "def words_v2(text):\n",
    "    yield from text.split()"
   ]
  },
  {
   "cell_type": "code",
   "execution_count": 2,
   "metadata": {},
   "outputs": [],
   "source": [
    "import ipytest\n",
    "ipytest.autoconfig()"
   ]
  },
  {
   "cell_type": "code",
   "execution_count": 9,
   "metadata": {},
   "outputs": [
    {
     "name": "stdout",
     "output_type": "stream",
     "text": [
      "\u001b[32m.\u001b[0m\u001b[32m.\u001b[0m\u001b[32m.\u001b[0m\u001b[32m.\u001b[0m\u001b[32m.\u001b[0m\u001b[32m                                                                                        [100%]\u001b[0m\n",
      "\u001b[32m\u001b[32m\u001b[1m5 passed\u001b[0m\u001b[32m in 0.01s\u001b[0m\u001b[0m\n"
     ]
    }
   ],
   "source": [
    "%%ipytest\n",
    "\n",
    "def test_words():\n",
    "    text = \"this is a test\"\n",
    "    assert [*words(text)] == [\"this\", \"is\", \"a\", \"test\"]\n",
    "    assert [*words_v2(text)] == [\"this\", \"is\", \"a\", \"test\"]\n",
    "\n",
    "def test_words_empty():\n",
    "    text = \"\"\n",
    "    assert [*words(text)] == []\n",
    "    assert [*words_v2(text)] == []\n",
    "\n",
    "def test_words_multi_spaces():\n",
    "    text = \"this   is a test\"\n",
    "    assert [*words(text)] == [\"this\", \"is\", \"a\", \"test\"]\n",
    "    assert [*words_v2(text)] == [\"this\", \"is\", \"a\", \"test\"]\n",
    "\n",
    "def test_words_every_second():\n",
    "    text = \"this is a test\"\n",
    "    it = words(text)\n",
    "    lst = []\n",
    "    for word in it:\n",
    "        lst.append(word)\n",
    "        next(it, None)\n",
    "\n",
    "    assert lst == [\"this\", \"a\"]\n",
    "\n",
    "def test_words_pairs():\n",
    "    text = \"this is a test\"\n",
    "    it1 = words_v2(text)\n",
    "    it2 = words(text)\n",
    "    next(it2, None)\n",
    "    pairs = [*zip(it1, it2)]\n",
    "    assert pairs == [(\"this\", \"is\"), (\"is\", \"a\"), (\"a\", \"test\")]\n",
    "    "
   ]
  },
  {
   "cell_type": "markdown",
   "metadata": {},
   "source": [
    "### Szorgalmi feladat"
   ]
  },
  {
   "cell_type": "markdown",
   "metadata": {},
   "source": [
    "Írjunk egy osztályt, ami egy egyszerű szöveges játékot valósít meg. A játékban egy karakter egy térképen mozoghat. A térkép a négyzetrács a síkon. A karakter a térképen egy $x,y$ koordinátával van jellemezve. A `left`, `right`, `up` és `down` metódusokkal a karakter balra, jobbra, felfelé és lefelé tud mozogni. A karakter inicializáláskor kap egy nevet és kezdeti pozíciót. A karakter szöveges reprezentációja írja ki a nevet és az aktuális pozíciót.\n",
    "\n",
    "Pl.\n",
    "```python\n",
    "mario = Character(\"Mario\", 0, 0)\n",
    "print(mario)\n",
    "mario.right()\n",
    "print(mario)\n",
    "mario.down()\n",
    "print(mario)\n",
    "```\n",
    "eredménye:\n",
    "```text\n",
    "Mario@(0, 0)\n",
    "Mario@(1, 0)\n",
    "Mario@(1, -1)\n",
    "```"
   ]
  },
  {
   "cell_type": "code",
   "execution_count": 12,
   "metadata": {},
   "outputs": [],
   "source": [
    "class Character:\n",
    "    def __init__(self, name, x, y):\n",
    "        self.name = name\n",
    "        self.x = x\n",
    "        self.y = y\n",
    "\n",
    "    def __repr__(self):\n",
    "        return f\"Character({self.name!r}, {self.x}, {self.y})\"\n",
    "    \n",
    "    def __str__(self):\n",
    "        return f\"{self.name} at ({self.x}, {self.y})\"\n",
    "    \n",
    "    def left(self):\n",
    "        self.x -= 1\n",
    "    \n",
    "    def right(self):\n",
    "        self.x += 1\n",
    "\n",
    "    def up(self):\n",
    "        self.y += 1\n",
    "    \n",
    "    def down(self):\n",
    "        self.y -= 1"
   ]
  },
  {
   "cell_type": "code",
   "execution_count": 13,
   "metadata": {},
   "outputs": [
    {
     "name": "stdout",
     "output_type": "stream",
     "text": [
      "\u001b[32m.\u001b[0m\u001b[32m                                                                                            [100%]\u001b[0m\n",
      "\u001b[32m\u001b[32m\u001b[1m1 passed\u001b[0m\u001b[32m in 0.01s\u001b[0m\u001b[0m\n"
     ]
    }
   ],
   "source": [
    "%%ipytest\n",
    "\n",
    "def test_character():\n",
    "    c = Character(\"Alice\", 0, 0)\n",
    "    assert str(c) == \"Alice at (0, 0)\"\n",
    "    c.left()\n",
    "    assert str(c) == \"Alice at (-1, 0)\"\n",
    "    c.right()\n",
    "    assert str(c) == \"Alice at (0, 0)\"\n",
    "    c.up()\n",
    "    assert str(c) == \"Alice at (0, 1)\"\n",
    "    c.down()\n",
    "    assert str(c) == \"Alice at (0, 0)\"\n",
    "    c.left()\n",
    "    c.left()\n",
    "    c.down()\n",
    "    assert str(c) == \"Alice at (-2, -1)\"\n",
    "    c.right()\n",
    "    c.right()\n",
    "    c.up()\n",
    "    c.up()\n",
    "    assert str(c) == \"Alice at (0, 1)\""
   ]
  },
  {
   "cell_type": "markdown",
   "metadata": {},
   "source": [
    "## Feladatok"
   ]
  },
  {
   "cell_type": "markdown",
   "metadata": {},
   "source": [
    "1. Előadáson, és a múltkori gyakorlaton is a `Polinom` osztályt használtuk illusztrációnak.\n",
    "   \n",
    "   * Egészítsük ki a `Polinom` osztályunkat az aritmetikai műveletekkel. \n",
    "   * Implementáljuk a hatványozást hatékonyabban, mint előadáson. \n",
    "   * Oldjuk meg, hogy ha `p` `Polinom` típusú, akkor `p(x)` a polinom értékét adja vissza az `x` helyen.\n",
    "     Azaz érjük el, hogy a `Polinom` osztály egyedeit függvényként is lehessen használni."
   ]
  },
  {
   "cell_type": "markdown",
   "metadata": {},
   "source": [
    "#### Nevezetes polinom sorozatok:\n"
   ]
  },
  {
   "cell_type": "markdown",
   "metadata": {},
   "source": [
    "\n",
    "2. Hermite polinomok:\n",
    "   $$\n",
    "    h_n(x) = (-1)^n e^{x^2/2}\\left(\\frac{d}{dx}\\right)^n e^{-x^2/2}\n",
    "   $$\n",
    "   Írjunk fel rekurziót az Hermite polinomok sorozatára. Írjunk egy generátort, ami az Hermite polinomok sorozatát generálja."
   ]
  },
  {
   "cell_type": "markdown",
   "metadata": {},
   "source": [
    "3. Csebisev polinomok: $cos(nx) = p_n(cos(x))$ \n",
    "\n",
    "   A \n",
    "   $$\n",
    "    \\cos \\alpha \\cos\\beta = \\frac12(\\cos(\\alpha+\\beta)+\\cos(\\alpha-\\beta))\n",
    "   $$\n",
    "   összefüggésből kiindulva írjuk fel a rekurziót $p_n$-re és számoljuk ki a sorozat első néhány tagját. Azaz, írjunk egy generátor függvényt, ami a Csebisev polinomok sorozatát adja vissza. "
   ]
  },
  {
   "cell_type": "markdown",
   "metadata": {},
   "source": [
    "4. Tegyük fel, hogy van egy generátorunk, ami egy polinom sorozatot állít elő. A sorozat $n$. eleme egy $n.$ fokú polinom.\n",
    "   Írjunk egy függvényt, ami bemenetként kap egy $p$ polinomot és egy $(e_n)$ polinom sorozatot a fenti alakban és kiszámolja hogyan írható fel $p$ az $(e_n)$ polinomok lineáris kombinációjaként.\n",
    "\n",
    "   Pl. ha $p(x) = x^2$ és $e_0=1$, $e_1(x)=x$, $e_2(x)=x^2-1$, akkor ez eredmény `[1, 0, 1]`, mert\n",
    "   $$\n",
    "    p(x) = e_0+e_2(x)\n",
    "   $$\n",
    "\n",
    "   A függvény ellenőrzése lehet, ha pl $x^k$-ont, felírjuk valamelyik fenti nevezetes polinom sorozattal és megnézzük, hogy a lineáris kombináció visszaadja-e az $x^k$ polinomot."
   ]
  },
  {
   "cell_type": "markdown",
   "metadata": {},
   "source": [
    "5. Középiskolában láttuk, hogy \n",
    "   $$\n",
    "   \\sum _{k=0}^n k = \\frac{n(n+1)}2, \\quad\n",
    "   \\sum_{k=0}^n k^2 = \\frac{n(n+1)(2n+1)}6\n",
    "   $$\n",
    "\n",
    "   Látható, hogy a jobb oldal $n$ polinomja. Írjunk egy függvényt, ami kiszámolja azt a $p_r$ polinomot, amire\n",
    "   $$\n",
    "    p_r(n) = \\sum_{k=0}^{n} k^r,\\quad \\text{minden $n$ természetes számra}\n",
    "   $$\n",
    "\n",
    "   Ehhez a feladathoz jól jöhet a következő összefüggés:\n",
    "   $$\n",
    "    \\sum_{k=r}^n \\binom{k}{r} = \\binom{n+1}{r+1}\n",
    "   $$"
   ]
  },
  {
   "cell_type": "markdown",
   "metadata": {},
   "source": [
    "6. Rajzoljuk ki a fenti nevezetes polinomok grafikonját, mondjuk a $[-1, 1]$ intervallumban. "
   ]
  }
 ],
 "metadata": {
  "kernelspec": {
   "display_name": "python3.10",
   "language": "python",
   "name": "python3"
  },
  "language_info": {
   "codemirror_mode": {
    "name": "ipython",
    "version": 3
   },
   "file_extension": ".py",
   "mimetype": "text/x-python",
   "name": "python",
   "nbconvert_exporter": "python",
   "pygments_lexer": "ipython3",
   "version": "3.10.12"
  }
 },
 "nbformat": 4,
 "nbformat_minor": 2
}
