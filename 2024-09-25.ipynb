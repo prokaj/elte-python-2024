{
 "cells": [
  {
   "cell_type": "markdown",
   "metadata": {},
   "source": [
    "[![Open In Colab](https://colab.research.google.com/assets/colab-badge.svg)](https://colab.research.google.com/github/prokaj/2024-elte-python/blob/main/2024-09-25.ipynb)"
   ]
  },
  {
   "cell_type": "markdown",
   "metadata": {},
   "source": [
    "# Házi feladatok.\n",
    "\n"
   ]
  },
  {
   "cell_type": "markdown",
   "metadata": {},
   "source": [
    "## Feladat"
   ]
  },
  {
   "cell_type": "markdown",
   "metadata": {},
   "source": [
    "\n",
    "Írjunk egy függvényt, ami a bemenetként kapott `text` és `number` értékekből összerak egy sztringet. Az eredményben a `text` sztring első 11 karaktere szerepeljen egy 13 karakter széles mezőben jobbra igazítva, majd kettős ponttal és szóközzel elválasztva következzen `number` három tizedes jegy pontossággal.\n",
    "\n",
    "Emellett írjunk egy `main` nevű függvényt is a fenti függvény kipróbálásához. Ez olvasson be a standard inputról két sort, az elsőből egy sztringet, a másodikból egy lebegőpontos számot. A kapott értékkel meghívja a fenti függvényt és az eredményt a standard outputra írja.\n",
    "\n",
    "Az első 11 karakter kiolvasása `text`-ből: `text[:11]`.\n",
    "\n",
    "pl. ha a függvény bemenete\n",
    "```Python\n",
    "text = \"A␣pi␣értéke␣jó␣közelítéssel\"\n",
    "number = 3.1415926535\n",
    "```\n",
    "akkor az eredmény\n",
    "```\n",
    "␣␣A␣pi␣értéke:␣3.142\n",
    "```\n",
    "Használjunk `f-string`-et.\n",
    "\n",
    "Próbáljuk ki arra az esetre is, ha text 11 karakternél hosszabb és arra az esetre is, amikor 11 karakternél rövidebb."
   ]
  },
  {
   "cell_type": "code",
   "execution_count": null,
   "metadata": {},
   "outputs": [],
   "source": [
    "def main():\n",
    "    number = float(input(\"Mi legyen a szám? \"))\n",
    "    text = input(\"Mi legyen a szöveg? \")\n",
    "    print(format_text_and_number(text, number))\n",
    "\n",
    "\n",
    "\n",
    "def format_text_and_number(text, number):\n",
    "    return f\"{text[:11]:>13}: {number:.3f}\"\n",
    "\n"
   ]
  },
  {
   "cell_type": "code",
   "execution_count": null,
   "metadata": {},
   "outputs": [
    {
     "name": "stdout",
     "output_type": "stream",
     "text": [
      "Mi legyen a szám? 3.154789\n",
      "Mi legyen a szöveg? dgjsdjgwgwrgh\n",
      "  dgjsdjgwgwr: 3.155\n"
     ]
    }
   ],
   "source": [
    "\n",
    "main()\n"
   ]
  },
  {
   "cell_type": "code",
   "execution_count": null,
   "metadata": {},
   "outputs": [],
   "source": [
    "def visual_test(text, number):\n",
    "    print(f\"{text = }\")\n",
    "    print(f\"{number = }\")\n",
    "    print(f\"{format_text_and_number(text, number) = }\")\n"
   ]
  },
  {
   "cell_type": "code",
   "execution_count": null,
   "metadata": {},
   "outputs": [
    {
     "name": "stdout",
     "output_type": "stream",
     "text": [
      "text = 'A pi értéke jó közelítéssel'\n",
      "number = 3.1415926535\n",
      "format_text_and_number(text, number) = '  A pi értéke: 3.142'\n"
     ]
    }
   ],
   "source": [
    "\n",
    "visual_test(text = \"A pi értéke jó közelítéssel\", number = 3.1415926535)\n",
    "visual_test(text = \"pi értéke\", number = 3.1415926535)\n"
   ]
  },
  {
   "cell_type": "markdown",
   "metadata": {},
   "source": [
    "## Feladat"
   ]
  },
  {
   "cell_type": "markdown",
   "metadata": {},
   "source": [
    "\n",
    "Írjunk egy függvényt ami bemenetként kap egy egész értéket, a futási\n",
    "időt nanoszekundumokban és az eredményben visszaad egy formázott\n",
    "sztringet. Az eredmény szintén a futási időt adja meg, de milliszkundum,\n",
    "mikroszekundum, nanoszekundum felbontásban.\n",
    "\n",
    "pl. ha a futási idő 6800 (ns), akkor a függény eredménye:\n",
    "```python\n",
    "\"  0 ms   6 µs 800 ns\"\n",
    "```\n",
    "Vegyük észre, hogy az eredményben mindegyik érték (ms, µs, ns) egy három\n",
    "karakterszéles mezőben van jobbra igazítva. (A mikro utf karaktert: µ\n",
    "másoljuk át a feladat szövegéből).\n",
    "\n",
    "Írjunk egy main függvényt is a fenti függvény kipróbálására, ami a\n",
    "standard inputról olvas be egy egész számot és a standard outputra írja\n",
    "a függvény eredményét. Feltehetjük, hogy a megadott egész szám kisebb\n",
    "mint $10^9$-en, azaz egy másodpercnél rövidebb a futás idő."
   ]
  },
  {
   "cell_type": "code",
   "execution_count": null,
   "metadata": {},
   "outputs": [],
   "source": [
    "def format_time(time):\n",
    "    time, nano = divmod(time, 1000)\n",
    "    milli, mikro = divmod(time, 1000)\n",
    "\n",
    "    return f\"{milli:3} ms {mikro:3} µs {nano:3} ns\"\n",
    "\n",
    "def main():\n",
    "    pass"
   ]
  },
  {
   "cell_type": "code",
   "execution_count": null,
   "metadata": {},
   "outputs": [],
   "source": [
    "main()"
   ]
  },
  {
   "cell_type": "code",
   "execution_count": null,
   "metadata": {},
   "outputs": [],
   "source": [
    "def visual_test_format_time(time):\n",
    "    print(f\"{time = }\")\n",
    "    print(f\"{format_time(time) = }\")"
   ]
  },
  {
   "cell_type": "markdown",
   "metadata": {},
   "source": [
    "## Feladat"
   ]
  },
  {
   "cell_type": "markdown",
   "metadata": {},
   "source": [
    "\n",
    "Szeretnénk egy sorszámot határozott névelővel kiírni úgy, hogy a névelő\n",
    ",,a\" ha a szám mássalhangzóval kezdődik és ,,az\" ha magánhangzóval.\n",
    "\n",
    "Írjunk egy rövid programot ami beolvas egy egész számot a standard\n",
    "inputról és a standard outputra kiírja hogy a sorozat hányadik elemére\n",
    "kérdeztünk rá.\n",
    "\n",
    "Feltehető, hogy a szám 1 és 9999 között van. Példa\n",
    "\n",
    "-   Ha a bemenet\n",
    "    ```python\n",
    "    345\n",
    "    ```\n",
    "    akkor az elvárt kimenet\n",
    "    ```python\n",
    "    A 345. elem\n",
    "    ```\n",
    "    hiszen a szám mássalhangzóval kezdődik.\n",
    "\n",
    "-   Ha a bemenet\n",
    "    ```python\n",
    "    56\n",
    "    ```\n",
    "    akkor az elvárt kimenet\n",
    "    ```python\n",
    "    Az 56. elem\n",
    "    ```\n",
    "    hiszen a szám magánhangzóval kezdődik.\n",
    "\n",
    "-   Ha a bemenet\n",
    "    ```python\n",
    "    10\n",
    "    ```\n",
    "    akkor az elvárt kimenet\n",
    "    ```python\n",
    "    A 10. elem\n",
    "    ```\n",
    "    hiszen a szám mássalhangzóval kezdődik"
   ]
  },
  {
   "cell_type": "code",
   "execution_count": 15,
   "metadata": {},
   "outputs": [],
   "source": [
    "def article(num):\n",
    "    leading_digit = num\n",
    "    num_digits = 0\n",
    "    while leading_digit >= 10:\n",
    "        leading_digit //= 10\n",
    "        num_digits += 1\n",
    "    if (leading_digit == 1 and num_digits % 3 == 0) or leading_digit == 5:\n",
    "        return \"az\"\n",
    "    else:\n",
    "        return \"a\"\n",
    "    \n",
    "def add_article(num):\n",
    "    return f\"{article(num).title()} {num}. elem\"\n",
    "\n",
    "def main():\n",
    "    num = int(input(\"Hányadik elemet szeretnéd? \"))\n",
    "    print(add_article(num))\n"
   ]
  },
  {
   "cell_type": "code",
   "execution_count": 6,
   "metadata": {},
   "outputs": [
    {
     "name": "stdout",
     "output_type": "stream",
     "text": [
      "A 4568. elem\n"
     ]
    }
   ],
   "source": [
    "main()"
   ]
  },
  {
   "cell_type": "code",
   "execution_count": 18,
   "metadata": {},
   "outputs": [],
   "source": [
    "def visual_test(num):\n",
    "    print(f\"{num=:5}: {add_article(num) = }\")"
   ]
  },
  {
   "cell_type": "code",
   "execution_count": 19,
   "metadata": {},
   "outputs": [
    {
     "name": "stdout",
     "output_type": "stream",
     "text": [
      "num=    0: add_article(num) = 'A 0. elem'\n",
      "num=    1: add_article(num) = 'Az 1. elem'\n",
      "num=   10: add_article(num) = 'A 10. elem'\n",
      "num=  101: add_article(num) = 'A 101. elem'\n",
      "num= 1125: add_article(num) = 'Az 1125. elem'\n",
      "num= 5000: add_article(num) = 'Az 5000. elem'\n",
      "num=11001: add_article(num) = 'A 11001. elem'\n"
     ]
    }
   ],
   "source": [
    "visual_test(0)\n",
    "visual_test(1)\n",
    "visual_test(10)\n",
    "visual_test(101)\n",
    "visual_test(1125)\n",
    "visual_test(5000)\n",
    "visual_test(11001)"
   ]
  },
  {
   "cell_type": "markdown",
   "metadata": {},
   "source": [
    "## Feladat"
   ]
  },
  {
   "cell_type": "markdown",
   "metadata": {},
   "source": [
    "\n",
    "Írjunk egy rövid programot, ami beolvas egy lebegő pontos $x$ számot a\n",
    "standard inputról és a standard outputra kiírja a következő függvénynek\n",
    "az értékét az $x$ helyen 4 tizedes jegy pontossággal: $$f(x)=\n",
    "    \\begin{cases}\n",
    "      0& \\text{ha $x<0$}\\\\\n",
    "      x^2/2&\\text{ha $0\\leq x\\leq 1$}\\\\\n",
    "      x-1/2&\\text{ha $1<x$}\n",
    "    \\end{cases}$$\n",
    "\n",
    "Példa. Ha a bemenet\n",
    "```python\n",
    "4.15\n",
    "```\n",
    "akkor az elvárt kimenet\n",
    "```python\n",
    "3.6500\n",
    "```\n",
    "Ha a bemenet\n",
    "```python\n",
    "0.156\n",
    "```\n",
    "akkor az elvárt kimenet\n",
    "```python\n",
    "0.0122\n",
    "```\n",
    "Kísérletezzünk a `f\"{y:.4f}\"`, `f\"{y:.4g}\"`, `f\"{y:.4e}\"` stb.\n",
    "formátumokkal, vagy ezek `format`-os megfelelőjével, ahol $y=f(x)$, ha\n",
    "$x$ volt a bemenet értéke."
   ]
  },
  {
   "cell_type": "code",
   "execution_count": 20,
   "metadata": {},
   "outputs": [],
   "source": [
    "def f(x):\n",
    "    value = 0\n",
    "    if 0 < x <= 1:\n",
    "        value = x**2/2\n",
    "    elif 1 < x:\n",
    "        value = x-1/2\n",
    "    return value\n",
    "\n",
    "def main():\n",
    "    x = float(input(\"Mi legyen az x? \"))\n",
    "    print(f\"{f(x):.4f}\")"
   ]
  },
  {
   "cell_type": "markdown",
   "metadata": {},
   "source": [
    "## Feladat"
   ]
  },
  {
   "cell_type": "markdown",
   "metadata": {},
   "source": [
    "Egy web áruházban a megrendelt termék egységára a vásárolt mennyiségtől\n",
    "függ, és a kiszállítási díj egy adott érték határ fölött nulla míg az\n",
    "alatt konstans.\n",
    "\n",
    "Írjunk egy rövid programot, ami a standard inputról beolvas három sort a\n",
    "rendelés adatokkal és a standard outputra kiírja a fizetendő összeget.\n",
    "\n",
    "Az input első sora három számot tartalmaz szóközzel elválasztva az\n",
    "egység árakról: ezek az egységár ha rendelt darabszám kevesebb mint 10,\n",
    "legalább 10 de kevesebb mint 100, vagy több mint 100. A második sorban\n",
    "két szám van: az első a szállítási költség, a második az érték határ ami\n",
    "fölött már nem kell a szállításért külön fizetni. A harmadik sorban a\n",
    "megrendelt áruk darabszáma van.\n",
    "\n",
    "Az kimenetre kerüljön három sor: az elsőben a megrendelt termékek\n",
    "értéke, a másodikban a szállítási költség, a harmadikban a fizetendő\n",
    "összeg.\n",
    "\n",
    "Példa. Ha a bemenet\n",
    "```python\n",
    "10 9 8\n",
    "20 100\n",
    "10\n",
    "```\n",
    "Akkor a kimenet\n",
    "```python\n",
    "90\n",
    "20\n",
    "110\n",
    "```\n",
    "hiszen ha tíz db terméket rendelünk, akkor már a kedvezményes 9-es árat\n",
    "kapjuk, a rendelés értéke nem érte el a 100-at ezért kell fizetnünk a\n",
    "szállításért is és így a végösszeg 110.\n",
    "\n",
    "Figyelem a bemenet első két sorában valójában lebegőpontos számok\n",
    "vannak! A megrendelt termékek száma (harmadik sor) egész."
   ]
  },
  {
   "cell_type": "code",
   "execution_count": 24,
   "metadata": {},
   "outputs": [],
   "source": [
    "def price(unit_prices, shipping, amount):\n",
    "    price0, price10, price100 = unit_prices\n",
    "    cost, limit = shipping\n",
    "    value = 0\n",
    "    if amount < 10:\n",
    "        value = price0 * amount\n",
    "    elif amount < 100:\n",
    "        value = price10*amount\n",
    "    else:\n",
    "        value = price100*amount\n",
    "    shipping_cost = cost if amount <= limit else 0\n",
    "    return value, shipping_cost, value + shipping_cost\n",
    "\n",
    "def main():\n",
    "    unit_prices = [float(x) for x in input().split()]\n",
    "    shipping = [float(x) for x in input().split()]\n",
    "    amount = int(input())\n",
    "    price, shipping_cost, total = price(unit_prices, shipping, amount)\n",
    "    print(price, shipping_cost, total, sep=\"\\n\")"
   ]
  },
  {
   "cell_type": "markdown",
   "metadata": {},
   "source": []
  },
  {
   "cell_type": "code",
   "execution_count": 25,
   "metadata": {},
   "outputs": [],
   "source": [
    "def visual_test(unit_prices, shipping, amount):\n",
    "    print(f\"{unit_prices = }\")\n",
    "    print(f\"{shipping = }\")\n",
    "    print(f\"{amount = }\")\n",
    "    print(f\"{price(unit_prices, shipping, amount) = }\")\n",
    "    "
   ]
  },
  {
   "cell_type": "code",
   "execution_count": 30,
   "metadata": {},
   "outputs": [
    {
     "name": "stdout",
     "output_type": "stream",
     "text": [
      "unit_prices = [10, 9, 8]\n",
      "shipping = [20, 100]\n",
      "amount = 10\n",
      "price(unit_prices, shipping, amount) = (90, 20, 110)\n",
      "unit_prices = [10, 9, 8]\n",
      "shipping = [20, 100]\n",
      "amount = 200\n",
      "price(unit_prices, shipping, amount) = (1600, 0, 1600)\n"
     ]
    }
   ],
   "source": [
    "visual_test([10, 9, 8], [20, 100], 10)\n",
    "visual_test([10, 9, 8], [20, 100], 200)\n"
   ]
  },
  {
   "cell_type": "markdown",
   "metadata": {},
   "source": [
    "## Osztályozatok\n"
   ]
  },
  {
   "cell_type": "markdown",
   "metadata": {},
   "source": [
    "\n",
    "Ebben a kurzusban a jegy:\n",
    "\n",
    "- 90 % felett jeles\n",
    "\n",
    "- 80 és 90 % között jó\n",
    "\n",
    "- 70 és 80 % között közepes\n",
    "\n",
    "- 60 és 70 % között elégséges\n",
    "\n",
    "- 60 % alatt elégtelen\n",
    "\n",
    "Próbáljuk a százalékos eredményt szöveges eredménybe konvertálni!"
   ]
  },
  {
   "cell_type": "code",
   "execution_count": null,
   "metadata": {},
   "outputs": [
    {
     "name": "stdout",
     "output_type": "stream",
     "text": [
      "Százalékos esermény: 85\n",
      "Százalékos eredmény: 85 %\n"
     ]
    }
   ],
   "source": [
    "percent = int(input(\"Százalékos esermény: \"))\n",
    "print(f\"Százalékos eredmény: {percent} %\")"
   ]
  },
  {
   "cell_type": "code",
   "execution_count": null,
   "metadata": {},
   "outputs": [
    {
     "name": "stdout",
     "output_type": "stream",
     "text": [
      "Százalékos eredmény: 85 %, jegy: jó\n"
     ]
    }
   ],
   "source": [
    "if percent >= 90:\n",
    "    grade = \"jeles\"\n",
    "elif percent < 90 and percent >= 80:\n",
    "    grade = \"jó\"\n",
    "elif percent < 80 and percent >= 70:\n",
    "    grade = \"közepes\"\n",
    "elif percent < 70 and percent >= 60:\n",
    "    grade = \"elégséges\"\n",
    "elif percent < 60:\n",
    "    grade = \"elégtelen\"\n",
    "\n",
    "print(f\"Százalékos eredmény: {percent} %, jegy: {grade}\")"
   ]
  },
  {
   "cell_type": "markdown",
   "metadata": {},
   "source": [
    "Lehet-e egyszerűsíteni?\n",
    "\n",
    "pl.\n",
    "```python\n",
    "percent < 70 and percent >= 60\n",
    "```\n",
    "ugyanarra az értékre vonatkozó két feltétel. Ez egyenértékű  a következővel:\n",
    "```python\n",
    "60 <= percent < 70\n",
    "```"
   ]
  },
  {
   "cell_type": "code",
   "execution_count": null,
   "metadata": {},
   "outputs": [
    {
     "name": "stdout",
     "output_type": "stream",
     "text": [
      "Százalékos eredmény: 85 %, jegy: jó\n"
     ]
    }
   ],
   "source": [
    "if percent >= 90:\n",
    "    grade = \"jeles\"\n",
    "elif 80 <= percent < 90:\n",
    "    grade = \"jó\"\n",
    "elif 70 <= percent < 80:\n",
    "    grade = \"közepes\"\n",
    "elif 60 <= percent < 70:\n",
    "    grade = \"elégséges\"\n",
    "elif percent < 60:\n",
    "    grade = \"elégtelen\"\n",
    "\n",
    "print(f\"Százalékos eredmény: {percent} %, jegy: {grade}\")"
   ]
  },
  {
   "cell_type": "markdown",
   "metadata": {},
   "source": [
    "Kicsit tömörebb és talán jobban olvasható.\n",
    "\n",
    "Szükség van-e pl.\n",
    "```python\n",
    "80 <= percent < 90\n",
    "```\n",
    "feltételben a 90-nel való összehasonlításra?\n",
    "\n",
    "Csak akkor jutunk erre az ágra, ha `percent` kisebb mint 90 a másik esetet már az első ág elintézi.\n",
    "\n",
    "További egyszerűsítés."
   ]
  },
  {
   "cell_type": "code",
   "execution_count": null,
   "metadata": {},
   "outputs": [
    {
     "name": "stdout",
     "output_type": "stream",
     "text": [
      "Százalékos eredmény: 85 %, jegy: jó\n"
     ]
    }
   ],
   "source": [
    "if 90 <= percent:\n",
    "    grade = \"jeles\"\n",
    "elif 80 <= percent:\n",
    "    grade = \"jó\"\n",
    "elif 70 <= percent:\n",
    "    grade = \"közepes\"\n",
    "elif 60 <= percent:\n",
    "    grade = \"elégséges\"\n",
    "else:\n",
    "    grade = \"elégtelen\"\n",
    "\n",
    "print(f\"Százalékos eredmény: {percent} %, jegy: {grade}\")"
   ]
  },
  {
   "cell_type": "markdown",
   "metadata": {},
   "source": [
    "## Eset széválasztás `match` segítségével"
   ]
  },
  {
   "cell_type": "markdown",
   "metadata": {},
   "source": [
    "Ez egy viszonylag új konstrukció Python-ban.\n",
    "\n",
    "Példa."
   ]
  },
  {
   "cell_type": "code",
   "execution_count": null,
   "metadata": {},
   "outputs": [
    {
     "name": "stdout",
     "output_type": "stream",
     "text": [
      "Everything is good! status = 204\n"
     ]
    }
   ],
   "source": [
    "http_status = 204\n",
    "match http_status:\n",
    "    case 200 | 201 | 204 as status:\n",
    "        print(f\"Everything is good! {status = }\")\n",
    "\n",
    "    case 400 | 404 as status:\n",
    "        print(f\"You did something wrong! {status = }\")\n",
    "\n",
    "    case 500 as status:\n",
    "        print(f\"Oops... Is the server down!? {status = }\")\n",
    "\n",
    "    case _ as status:\n",
    "        print(f\"No clue what to do with {status = }!\")"
   ]
  },
  {
   "cell_type": "markdown",
   "metadata": {},
   "source": [
    "## Párosság ellenőrzése"
   ]
  },
  {
   "cell_type": "markdown",
   "metadata": {},
   "source": [
    "Egy szám páros, ha kettővel osztva a maradék nulla páratlan, ha a maradék 1.\n",
    "\n",
    "(a nulla is páros)"
   ]
  },
  {
   "cell_type": "code",
   "execution_count": null,
   "metadata": {},
   "outputs": [],
   "source": [
    "x = int(input(\"Mi legyen x? \"))\n",
    "\n",
    "if x % 2 == 0:\n",
    "    print(\"páros\")\n",
    "else:\n",
    "    print(\"páratlan\")"
   ]
  },
  {
   "cell_type": "markdown",
   "metadata": {},
   "source": [
    "Ha függvényt akarnánk, akkor az első megoldás lehet:"
   ]
  },
  {
   "cell_type": "code",
   "execution_count": null,
   "metadata": {},
   "outputs": [],
   "source": [
    "def is_even(n):\n",
    "    if n % 2 == 0:\n",
    "        return True\n",
    "    else:\n",
    "        return False"
   ]
  },
  {
   "cell_type": "markdown",
   "metadata": {},
   "source": [
    "Rövidebben is lehetne."
   ]
  },
  {
   "cell_type": "code",
   "execution_count": null,
   "metadata": {},
   "outputs": [],
   "source": [
    "def is_even(n):\n",
    "    return \"páros\" if n % 2 == 0 else \"páratlan\""
   ]
  },
  {
   "cell_type": "markdown",
   "metadata": {},
   "source": [
    "Nem csak `return` kifejezésben szerepelhet elágazás, értékadásnál is"
   ]
  },
  {
   "cell_type": "code",
   "execution_count": null,
   "metadata": {},
   "outputs": [
    {
     "data": {
      "application/vnd.google.colaboratory.intrinsic+json": {
       "type": "string"
      },
      "text/plain": [
       "'páratlan'"
      ]
     },
     "metadata": {},
     "output_type": "display_data"
    }
   ],
   "source": [
    "n = 101\n",
    "parity = \"páros\" if n % 2 == 0 else \"páratlan\"\n",
    "parity"
   ]
  },
  {
   "cell_type": "markdown",
   "metadata": {},
   "source": [
    "Ha `C` felől érkezünk, akkor az\n",
    "\n",
    "```\n",
    "(n % 2 == 0)? True: False\n",
    "```\n",
    "konstrukciónak felel meg, csak olvashatóbb.\n",
    "\n",
    "Az `is_even` függvény még rövidebb lehet."
   ]
  },
  {
   "cell_type": "code",
   "execution_count": null,
   "metadata": {},
   "outputs": [],
   "source": [
    "def is_even(n):\n",
    "    return n & 2 == 0"
   ]
  },
  {
   "cell_type": "code",
   "execution_count": null,
   "metadata": {},
   "outputs": [
    {
     "name": "stdout",
     "output_type": "stream",
     "text": [
      "00001101\n",
      "00000001\n"
     ]
    }
   ],
   "source": [
    "print(f\"{13:08b}\\n{13&1:08b}\")"
   ]
  },
  {
   "cell_type": "markdown",
   "metadata": {},
   "source": [
    "## Mekkora lehet egy lebegőpontos szám?"
   ]
  },
  {
   "cell_type": "markdown",
   "metadata": {},
   "source": [
    "A valós (float) számot tizedesponttal írjuk. Ezeket a gép 64 biten tárolja:\n",
    "```bash\n",
    "előjel, exponens, mantissza  = 1 bit, 11 bit, 52 bit\n",
    "\n",
    "(-1)^{előjel} * 2^{exponens-1023} * (mantissza/2^{52})\n",
    "```\n",
    "alakban.\n",
    "\n",
    "Ez a felbontás kiszámolható  a `math` könyvtár `frexp` függvényével."
   ]
  },
  {
   "cell_type": "code",
   "execution_count": 34,
   "metadata": {},
   "outputs": [
    {
     "name": "stdout",
     "output_type": "stream",
     "text": [
      "math.frexp(1.0)=(0.5, 1)\n",
      "math.frexp(0.5**(1023+51))=(0.5, -1073) 5e-324\n",
      "math.frexp(0.5**(1024+51))=(0.0, 0) 0.0\n",
      "math.frexp(2.0**(1023))=(0.5, 1024) 8.98846567431158e+307\n"
     ]
    }
   ],
   "source": [
    "import math\n",
    "print(f\"{math.frexp(1.0)=}\")\n",
    "print(f\"{math.frexp(0.5**(1023+51))=} {0.5**(1023+51)}\")\n",
    "print(f\"{math.frexp(0.5**(1024+51))=} {0.5**(1024+51)}\")\n",
    "print(f\"{math.frexp(2.0**(1023))=} {2.0**(1023)}\")\n",
    "\n",
    "# print(math.frexp(2.0**(1024))) # OverflowError: int too large to convert to float"
   ]
  },
  {
   "cell_type": "markdown",
   "metadata": {},
   "source": [
    "Vegyük észre, hogy a függvény visszatérési értéke egy pár! Tudunk-e olyan saját függvényt írni, ami egy párt ad vissza eredményül?"
   ]
  },
  {
   "cell_type": "code",
   "execution_count": 37,
   "metadata": {},
   "outputs": [
    {
     "name": "stdout",
     "output_type": "stream",
     "text": [
      "num = 1e-15 (num + 1) - 1 = 1.1102230246251565e-15\n",
      "num = 1e-16 (num + 1) - 1 = 0.0\n"
     ]
    }
   ],
   "source": [
    "num = 1e-15\n",
    "print(f\"{num = } {(num + 1) - 1 = }\")\n",
    "num = 1e-16\n",
    "print(f\"{num = } {(num + 1) - 1 = }\")\n"
   ]
  },
  {
   "cell_type": "code",
   "execution_count": 38,
   "metadata": {},
   "outputs": [
    {
     "name": "stdout",
     "output_type": "stream",
     "text": [
      "\u001b[0;31mSignature:\u001b[0m \u001b[0mmath\u001b[0m\u001b[0;34m.\u001b[0m\u001b[0mfsum\u001b[0m\u001b[0;34m(\u001b[0m\u001b[0mseq\u001b[0m\u001b[0;34m,\u001b[0m \u001b[0;34m/\u001b[0m\u001b[0;34m)\u001b[0m\u001b[0;34m\u001b[0m\u001b[0;34m\u001b[0m\u001b[0m\n",
      "\u001b[0;31mDocstring:\u001b[0m\n",
      "Return an accurate floating point sum of values in the iterable seq.\n",
      "\n",
      "Assumes IEEE-754 floating point arithmetic.\n",
      "\u001b[0;31mType:\u001b[0m      builtin_function_or_method\n"
     ]
    }
   ],
   "source": [
    "math.fsum?"
   ]
  },
  {
   "cell_type": "code",
   "execution_count": 39,
   "metadata": {},
   "outputs": [
    {
     "data": {
      "text/plain": [
       "1e-16"
      ]
     },
     "execution_count": 39,
     "metadata": {},
     "output_type": "execute_result"
    }
   ],
   "source": [
    "math.fsum([1e-16, 1, -1])"
   ]
  },
  {
   "cell_type": "markdown",
   "metadata": {},
   "source": [
    "## Prím számok\n"
   ]
  },
  {
   "cell_type": "markdown",
   "metadata": {},
   "source": [
    "\n",
    "Cél: `is_prime` függvény ami adott $n>1$ számról eldönti, hogy prím-e.\n",
    "\n"
   ]
  },
  {
   "cell_type": "markdown",
   "metadata": {},
   "source": [
    "### Naív algoritmus"
   ]
  },
  {
   "cell_type": "code",
   "execution_count": 40,
   "metadata": {},
   "outputs": [],
   "source": [
    "def is_prime_naive(n):\n",
    "    if n < 0:\n",
    "        n = -n \n",
    "    for d in range(2, n):\n",
    "        if n % d == 0:\n",
    "            return False\n",
    "    return n > 1\n"
   ]
  },
  {
   "cell_type": "code",
   "execution_count": 42,
   "metadata": {},
   "outputs": [
    {
     "name": "stdout",
     "output_type": "stream",
     "text": [
      "-3 prím\n",
      "-2 prím\n",
      "-1 nem prím\n",
      "0 nem prím\n",
      "1 nem prím\n",
      "2 prím\n",
      "3 prím\n",
      "4 nem prím\n",
      "5 prím\n",
      "6 nem prím\n",
      "7 prím\n",
      "8 nem prím\n",
      "9 nem prím\n",
      "10 nem prím\n",
      "11 prím\n",
      "12 nem prím\n",
      "13 prím\n",
      "14 nem prím\n",
      "15 nem prím\n",
      "16 nem prím\n",
      "17 prím\n",
      "18 nem prím\n",
      "19 prím\n",
      "20 nem prím\n",
      "21 nem prím\n",
      "22 nem prím\n",
      "23 prím\n",
      "24 nem prím\n",
      "25 nem prím\n",
      "26 nem prím\n",
      "27 nem prím\n",
      "28 nem prím\n",
      "29 prím\n"
     ]
    }
   ],
   "source": [
    "for i in range(-3, 30):\n",
    "    if is_prime_naive(i):\n",
    "        print(f\"{i} prím\")\n",
    "    else:\n",
    "        print(f\"{i} nem prím\")\n"
   ]
  },
  {
   "cell_type": "code",
   "execution_count": 43,
   "metadata": {},
   "outputs": [
    {
     "name": "stdout",
     "output_type": "stream",
     "text": [
      "CPU times: user 1.74 s, sys: 0 ns, total: 1.74 s\n",
      "Wall time: 1.74 s\n"
     ]
    }
   ],
   "source": [
    "%%time\n",
    "n = 30_000\n",
    "primes_naive = [i for i in range(n) if is_prime_naive(i)]"
   ]
  },
  {
   "cell_type": "code",
   "execution_count": 44,
   "metadata": {},
   "outputs": [
    {
     "name": "stdout",
     "output_type": "stream",
     "text": [
      "prímek száma 30000-ig: 3245\n"
     ]
    }
   ],
   "source": [
    "print(f\"prímek száma {n}-ig: {len(primes_naive)}\")"
   ]
  },
  {
   "cell_type": "markdown",
   "metadata": {},
   "source": [
    "### Kis gyorsítás"
   ]
  },
  {
   "cell_type": "markdown",
   "metadata": {},
   "source": [
    "\n",
    "Elég $d\\leq\\sqrt{n}$-re ellenőrizni, hogy $d$ osztja-e $n$-et.\n",
    "\n",
    "Ha $d$ osztja $n$-et, akkor $n/d$ is és a kettő közül a kisebbiknek a négyzete sem lehet nagyobb mint $n$.\n",
    "\n",
    "Egy egész szám négyzetgyökét számolhatjuk hatványozással:"
   ]
  },
  {
   "cell_type": "code",
   "execution_count": null,
   "metadata": {},
   "outputs": [
    {
     "data": {
      "text/plain": [
       "100.0"
      ]
     },
     "metadata": {},
     "output_type": "display_data"
    }
   ],
   "source": [
    "n = 10_000\n",
    "n**0.5"
   ]
  },
  {
   "cell_type": "markdown",
   "metadata": {},
   "source": [
    "Vegyük észre, hogy az eredmény lebegőpontos szám, azaz akármilyen nagy egészekre ez nem fog működni"
   ]
  },
  {
   "cell_type": "code",
   "execution_count": null,
   "metadata": {},
   "outputs": [
    {
     "ename": "OverflowError",
     "evalue": "int too large to convert to float",
     "output_type": "error",
     "traceback": [
      "\u001b[0;31m---------------------------------------------------------------------------\u001b[0m\n",
      "\u001b[0;31mOverflowError\u001b[0m                             Traceback (most recent call last)\n",
      "Cell \u001b[0;32mIn[29], line 2\u001b[0m\n",
      "\u001b[1;32m      1\u001b[0m n \u001b[39m=\u001b[39m \u001b[39mint\u001b[39m(\u001b[39m\"\u001b[39m\u001b[39m1\u001b[39m\u001b[39m\"\u001b[39m\u001b[39m+\u001b[39m\u001b[39m\"\u001b[39m\u001b[39m0\u001b[39m\u001b[39m\"\u001b[39m\u001b[39m*\u001b[39m\u001b[39m500\u001b[39m)\n",
      "\u001b[0;32m----> 2\u001b[0m sqrtn \u001b[39m=\u001b[39m (n\u001b[39m*\u001b[39;49m\u001b[39m*\u001b[39;49m\u001b[39m0.5\u001b[39;49m)\n",
      "\n",
      "\u001b[0;31mOverflowError\u001b[0m: int too large to convert to float"
     ]
    }
   ],
   "source": [
    "n = int(\"1\"+\"0\"*500)\n",
    "sqrtn = (n**0.5)"
   ]
  },
  {
   "cell_type": "markdown",
   "metadata": {},
   "source": [
    "A `math` könyvtárban van egészgyökvonás, ami nem konvertál lebegőpontos számmá és tetszőleges egészre működik. Az eredmény a négyzetgyök egészrésze, tehát `int` típusú!"
   ]
  },
  {
   "cell_type": "code",
   "execution_count": null,
   "metadata": {},
   "outputs": [
    {
     "data": {
      "text/plain": [
       "251"
      ]
     },
     "metadata": {},
     "output_type": "display_data"
    }
   ],
   "source": [
    "import math\n",
    "n = int(str(\"1\"+\"0\"*500))\n",
    "sqrtn = math.isqrt(n)\n",
    "len(str(sqrtn))"
   ]
  },
  {
   "cell_type": "code",
   "execution_count": 46,
   "metadata": {},
   "outputs": [],
   "source": [
    "\n",
    "import math\n",
    "\n",
    "def is_prime_faster(n):\n",
    "    if n < 0:\n",
    "        n = -n \n",
    "    for d in range(2, math.isqrt(n)+1):\n",
    "        if n % d == 0:\n",
    "            return False\n",
    "    return n > 1\n",
    "\n",
    "## vagy\n",
    "def is_prime_faster_v1(n):\n",
    "    if n < 0:\n",
    "        n = -n \n",
    "    for d in range(2, n):\n",
    "        m, r = divmod(n, d)\n",
    "        if r == 0:\n",
    "            return False\n",
    "        if m <= d:\n",
    "            break\n",
    "    return n > 1\n"
   ]
  },
  {
   "cell_type": "code",
   "execution_count": 47,
   "metadata": {},
   "outputs": [
    {
     "name": "stdout",
     "output_type": "stream",
     "text": [
      "CPU times: user 29.9 ms, sys: 1.95 ms, total: 31.8 ms\n",
      "Wall time: 30.5 ms\n"
     ]
    }
   ],
   "source": [
    "%%time\n",
    "n = 30_000\n",
    "primes_faster = [i for i in range(n) if is_prime_faster(i)]"
   ]
  },
  {
   "cell_type": "code",
   "execution_count": 49,
   "metadata": {},
   "outputs": [
    {
     "name": "stdout",
     "output_type": "stream",
     "text": [
      "CPU times: user 62.3 ms, sys: 14 µs, total: 62.3 ms\n",
      "Wall time: 61.4 ms\n"
     ]
    }
   ],
   "source": [
    "%%time\n",
    "n = 30_000\n",
    "primes_faster = [i for i in range(n) if is_prime_faster_v1(i)]"
   ]
  },
  {
   "cell_type": "markdown",
   "metadata": {},
   "source": [
    "A futási idő lényegesen csökkent 1.71 s-ről 45.6 ms-re"
   ]
  },
  {
   "cell_type": "code",
   "execution_count": 50,
   "metadata": {},
   "outputs": [
    {
     "name": "stdout",
     "output_type": "stream",
     "text": [
      "A naív algorítmus 37.5-szor több ideig fut\n"
     ]
    }
   ],
   "source": [
    "print(f\"A naív algorítmus {1710/45.6}-szor több ideig fut\")"
   ]
  },
  {
   "cell_type": "markdown",
   "metadata": {},
   "source": [
    "Hány műveletet kellett végezni az egyes esetekben?\n",
    "\n",
    "Csak az osztások számát nézzük. Az összehasonlítás számít persze."
   ]
  },
  {
   "cell_type": "code",
   "execution_count": 55,
   "metadata": {},
   "outputs": [],
   "source": [
    "\n",
    "def is_prime_naive_with_op_count(n):\n",
    "    nops = 0\n",
    "    for d in range(2, n):\n",
    "        nops += 1\n",
    "        if n % d == 0:\n",
    "            return nops\n",
    "    return nops\n",
    "\n",
    "def is_prime_faster_with_op_count(n):\n",
    "    nops = 0\n",
    "    for d in range(2, math.isqrt(n)+1):\n",
    "        nops += 1\n",
    "        if n % d == 0:\n",
    "            return nops\n",
    "    return nops\n",
    "\n",
    "n = 30_000\n",
    "\n",
    "def count_ops(fun, n):\n",
    "    return [fun(i) for i in range(n)]\n",
    "\n",
    "op_counts =[count_ops(fun, n) for fun in [is_prime_naive_with_op_count, is_prime_faster_with_op_count]]\n",
    "\n"
   ]
  },
  {
   "cell_type": "code",
   "execution_count": 56,
   "metadata": {},
   "outputs": [
    {
     "name": "stdout",
     "output_type": "stream",
     "text": [
      "Osztások száma\n",
      "naive:\t  45_839_466\n",
      "faster:\t     523_928\n",
      "arány:\t       87.49\n"
     ]
    }
   ],
   "source": [
    "total_nops = [sum(nops) for nops in op_counts]\n",
    "print(f\"Osztások száma\\nnaive:\\t{total_nops[0]:>12_}\\nfaster:\\t{total_nops[1]:>12_}\\narány:\\t{total_nops[0]/total_nops[1]:>12.2f}\")"
   ]
  },
  {
   "cell_type": "code",
   "execution_count": 57,
   "metadata": {},
   "outputs": [],
   "source": [
    "import matplotlib.pyplot as plt"
   ]
  },
  {
   "cell_type": "code",
   "execution_count": 58,
   "metadata": {},
   "outputs": [
    {
     "data": {
      "image/png": "[encoded data removed]",
      "text/plain": [
       "<Figure size 640x480 with 1 Axes>"
      ]
     },
     "metadata": {},
     "output_type": "display_data"
    },
    {
     "data": {
      "image/png": "[encoded data removed]",
      "text/plain": [
       "<Figure size 640x480 with 1 Axes>"
      ]
     },
     "metadata": {},
     "output_type": "display_data"
    }
   ],
   "source": [
    "\n",
    "plt.plot(op_counts[0][:], \"o\", markersize=1, alpha=0.5, label=\"naiv\")\n",
    "plt.legend()\n",
    "plt.show()\n",
    "plt.plot(op_counts[1][:], \"o\", markersize=1, alpha=0.5, label=\"faster\")\n",
    "plt.legend()\n",
    "plt.show()\n"
   ]
  },
  {
   "cell_type": "markdown",
   "metadata": {},
   "source": [
    "### Még több matek, még gyorsabb futás!"
   ]
  },
  {
   "cell_type": "markdown",
   "metadata": {},
   "source": [
    "Ha $p$ prím, akkor tetszőleges $0 < a < p$ relatív prím $p$-hez. Elemi megfontolás mutatja, hogy\n",
    "$$\n",
    "a^{p-1} \\equiv 1 \\mod p,\n",
    "$$\n",
    "sőt ha\n",
    "$$\n",
    "a^k \\not\\equiv 1 \\mod p,\\quad\\text{de}\\quad a^{2*k} \\equiv 1 \\mod p\n",
    "$$\n",
    "akkor csak\n",
    "$$\n",
    "a^k \\equiv -1 \\mod p\n",
    "$$\n",
    "fordulhat elő.\n",
    "Ellenkező esetben, ha $a^k \\equiv b\\not\\equiv -1 \\mod p$ azt kapnánk, hogy\n",
    "$$\n",
    "    0 \\equiv b^2 - 1 \\mod p\n",
    "$$\n",
    "és  $(b-1)(b+1)$-nek osztója lenne $p$. Mivel $1 < b < p-1$, ezért $1 < b-1 < p$ és $1 < b+1 < p$ is teljesül, azaz ez lehetetlen.\n",
    "\n",
    "Ezen az észrevételen alapul a következő teszt. Az első néhány prímmel kiszórjuk a nem prímek nagy részét, majd $a=2$-re és $a=3$ ellenőrizzük az előző észrevételt\n",
    "Ha az első $k$ kitevő, amire $a^k\\equiv 1$ teljesül páros, akkor $a^{k//2}$-nek $-1$-gyel kongruensnek lennie modulo $p$.\n",
    "\n",
    "\n",
    "Az derül ki, hogy  a minket érdeklő tartományban elegendő az első néhány prím $a$-ra ellenőrizni:\n",
    "\n",
    "- ha $n < 1\\_373\\_653$ és átmegy a teszten $a=2,3$-ra, akkor $n$ prím.\n",
    "- ha $n < 25\\_326\\_001$ és átmegy a teszten $a=2,3,5$-re, akkor $n$ prím.\n",
    "- ha $n < 25\\_000\\_000\\_000$ és átmegy a teszten $a=2,3,5,7$-re, valamint $n\\neq 3\\_215\\_031\\_751$, akkor $n$ prím.\n",
    "- ha $n < 2\\_152\\_302\\_898\\_747$ és átmegy a teszten $a=2,3,5,7,11$-re, akkor $n$ prím.\n",
    "- ha $n < 3\\_474\\_749\\_660\\_383$ és átmegy a teszten $a=2,3,5,7,11,13$-ra, akkor $n$ prím.\n",
    "- ha $n < 341\\_550\\_071\\_728\\_321$ és átmegy a teszten $a=2,3,5,7,11,13,17$-re, akkor $n$ prím.\n",
    "\n",
    "Részletesebb leírás:\n",
    "\n",
    "https://t5k.org/prove/prove2_3.html"
   ]
  },
  {
   "cell_type": "code",
   "execution_count": 59,
   "metadata": {},
   "outputs": [],
   "source": [
    "\n",
    "def sprp(a, p):\n",
    "    t = p-1\n",
    "    d = t & (-t)\n",
    "    x = pow(a, t//d, p)\n",
    "    if x == 1 or x == p-1:\n",
    "        return True\n",
    "    while d > 0 and not (x == 1 or x == p-1):\n",
    "        d >>= 1\n",
    "        x = (x*x) % p\n",
    "    return x == p-1\n",
    "\n",
    "def is_prime_fast(n):\n",
    "    for p in [2, 3, 5, 7, 11, 13]:\n",
    "        if n % p == 0:\n",
    "            return n == p\n",
    "\n",
    "    is_prime = sprp(2, n) and sprp(3, n)\n",
    "    if n >= 1_373_653:\n",
    "        is_prime = is_prime and sprp(5, n)\n",
    "        if n >= 25_326_001:\n",
    "            is_prime = is_prime and (3_215_031_751!= n) and sprp(7, n)\n",
    "    return is_prime\n"
   ]
  },
  {
   "cell_type": "code",
   "execution_count": 60,
   "metadata": {},
   "outputs": [
    {
     "name": "stdout",
     "output_type": "stream",
     "text": [
      "len(primes0)=78_498, primes0[-10:]=[999863, 999883, 999907, 999917, 999931, 999953, 999959, 999961, 999979, 999983]\n",
      "CPU times: user 2.6 s, sys: 536 µs, total: 2.6 s\n",
      "Wall time: 2.6 s\n"
     ]
    }
   ],
   "source": [
    "%%time\n",
    "primes0 = [k for k in range(2,1_000_000) if is_prime_faster(k)]\n",
    "print(f\"{len(primes0)=:_}, {primes0[-10:]=}\")"
   ]
  },
  {
   "cell_type": "code",
   "execution_count": 61,
   "metadata": {},
   "outputs": [
    {
     "name": "stdout",
     "output_type": "stream",
     "text": [
      "len(primes1)=78_498, primes1[-10:]=[999863, 999883, 999907, 999917, 999931, 999953, 999959, 999961, 999979, 999983]\n",
      "CPU times: user 627 ms, sys: 1.33 ms, total: 629 ms\n",
      "Wall time: 627 ms\n"
     ]
    }
   ],
   "source": [
    "%%time\n",
    "primes1 = [k for k in range(2, 1_000_000) if is_prime_fast(k)]\n",
    "print(f\"{len(primes1)=:_}, {primes1[-10:]=}\")"
   ]
  },
  {
   "cell_type": "markdown",
   "metadata": {},
   "source": [
    "### Szita módszer"
   ]
  },
  {
   "cell_type": "markdown",
   "metadata": {},
   "source": [
    "A legegyszerűbb módszer a leggyorsabb, igaz itt meg a memória igény miatt nem tudunk feljebb menni $n$-nel."
   ]
  },
  {
   "cell_type": "code",
   "execution_count": 63,
   "metadata": {},
   "outputs": [],
   "source": [
    "def sieve(n):\n",
    "    markers = bytearray(n)\n",
    "    markers[0] = markers[1] = 1\n",
    "    for i in range(2, math.isqrt(n)+1):\n",
    "        if markers[i] == 0:\n",
    "            for j in range(i*i, n, i):\n",
    "                markers[j] = 1\n",
    "    return [i for i, m in enumerate(markers) if m == 0]\n"
   ]
  },
  {
   "cell_type": "code",
   "execution_count": 65,
   "metadata": {},
   "outputs": [
    {
     "name": "stdout",
     "output_type": "stream",
     "text": [
      "CPU times: user 6.16 s, sys: 104 ms, total: 6.27 s\n",
      "Wall time: 6.27 s\n"
     ]
    }
   ],
   "source": [
    "%%time\n",
    "\n",
    "n = 50_000_000\n",
    "\n",
    "primes = sieve(n)"
   ]
  },
  {
   "cell_type": "code",
   "execution_count": 66,
   "metadata": {},
   "outputs": [
    {
     "name": "stdout",
     "output_type": "stream",
     "text": [
      "prímek száma 50_000_000-ig: 3_001_134\n"
     ]
    }
   ],
   "source": [
    "print(f\"prímek száma {n:_}-ig: {len(primes):_}\")"
   ]
  },
  {
   "cell_type": "markdown",
   "metadata": {},
   "source": [
    "### Prímek száma $n$-ig, $k$. prím nagyságrendje"
   ]
  },
  {
   "cell_type": "markdown",
   "metadata": {},
   "source": [
    "Nevezetes tétel számelméletben, hogy\n",
    "$$\n",
    "    \\frac{\\pi(n)}{\\frac{n}{\\log(n)}} \\approx 1,\\quad\\text{amint $n\\to\\infty$},\n",
    "$$\n",
    "ahol $\\pi(n)$ a prímek száma $n$-ig.\n",
    "\n",
    "Itt\n",
    "\n",
    "- ha $n$ a $k$. prímszám, akkor $\\pi(n)$ értéke $k$ és a jobboldal $k\\log(n)/n$. \n",
    "- ha $n+1$ a $k$. prímszám, akkor $\\pi(n)$ értéke $k-1$ és a jobboldal $(k-1)\\log(n)/n$."
   ]
  },
  {
   "cell_type": "code",
   "execution_count": 67,
   "metadata": {},
   "outputs": [],
   "source": [
    "def f0(k, n):\n",
    "    return k*math.log(n)/n\n",
    "\n",
    "\n",
    "def f1(k, n):\n",
    "    return (k-1)*math.log(n-1)/(n-1)"
   ]
  },
  {
   "cell_type": "markdown",
   "metadata": {},
   "source": [
    "Ha ábrát szeretnénk készíteni, akkor pythonban a `matplotlib` könytárat fogjuk használni."
   ]
  },
  {
   "cell_type": "code",
   "execution_count": null,
   "metadata": {},
   "outputs": [],
   "source": [
    "import matplotlib.pyplot as plt\n",
    "import math"
   ]
  },
  {
   "cell_type": "code",
   "execution_count": 74,
   "metadata": {},
   "outputs": [
    {
     "data": {
      "text/plain": [
       "[<matplotlib.lines.Line2D at 0x7e82a87487c0>]"
      ]
     },
     "execution_count": 74,
     "metadata": {},
     "output_type": "execute_result"
    },
    {
     "data": {
      "image/png": "[encoded data removed]",
      "text/plain": [
       "<Figure size 640x480 with 1 Axes>"
      ]
     },
     "metadata": {},
     "output_type": "display_data"
    }
   ],
   "source": [
    "xy0 = [(primes[k], f0(k, primes[k])) for k in range(0, len(primes), 1000)]\n",
    "\n",
    "plt.plot(*zip(*xy0))\n",
    "\n",
    "xy1 = [(primes[k], f1(k, primes[k])) for k in range(0, len(primes), 1000)]\n",
    "\n",
    "plt.plot(*zip(*xy1))"
   ]
  },
  {
   "cell_type": "markdown",
   "metadata": {},
   "source": [
    "# Feladatok"
   ]
  },
  {
   "cell_type": "markdown",
   "metadata": {},
   "source": [
    "- Írjunk egy függvényt, ami egy stringből eltávolítja az egymás után ismétlődő karaktereket!"
   ]
  },
  {
   "cell_type": "code",
   "execution_count": 75,
   "metadata": {},
   "outputs": [],
   "source": [
    "def rm_duplicates(s: str) -> str:\n",
    "    pass"
   ]
  },
  {
   "cell_type": "code",
   "execution_count": null,
   "metadata": {},
   "outputs": [],
   "source": [
    "%%ipytest\n",
    "\n",
    "def test_rm_duplicates():\n",
    "    assert rm_duplicates(\"aabbcaaa\") == \"abca\"\n",
    "    assert rm_duplicates(\"\") == \"\"\n",
    "    assert rm_duplicates(\"kukuriiikuuuu\") == \"kukuriku\""
   ]
  },
  {
   "cell_type": "markdown",
   "metadata": {},
   "source": [
    "- Írjunk egy függvényt, ami leellenőrzi, hogy egy `()[]` karakterekből álló sztring helyes zárójelezés-e? "
   ]
  },
  {
   "cell_type": "code",
   "execution_count": null,
   "metadata": {},
   "outputs": [],
   "source": [
    "def is_balanced(s: str) -> bool:\n",
    "    pass"
   ]
  },
  {
   "cell_type": "code",
   "execution_count": null,
   "metadata": {},
   "outputs": [],
   "source": [
    "%%ipytest\n",
    "\n",
    "def test_is_balanced():\n",
    "    assert is_balanced(\"()[]\") == True\n",
    "    assert is_balanced(\"([]\") == False\n",
    "    assert is_balanced(\"\") == True\n",
    "    assert is_balanced(\"(([()[]()]))\") == True    "
   ]
  },
  {
   "cell_type": "markdown",
   "metadata": {},
   "source": [
    "- Írjunk egy függvényt, ami egy számsorozatból kiszámolja  a részletösszegek sorozatát! \n",
    "  Ha a sorozat $a_0, a_1,\\dots,a_{n-1}$, akkor \n",
    "  $S_0 = 0$, $S_k = S_{k-1}+a_{k-1}$ ha $0<k\\leq n$. "
   ]
  },
  {
   "cell_type": "code",
   "execution_count": 76,
   "metadata": {},
   "outputs": [],
   "source": [
    "def prefix_sum(nums: list[int]) -> list[int]:\n",
    "    pass"
   ]
  },
  {
   "cell_type": "code",
   "execution_count": null,
   "metadata": {},
   "outputs": [],
   "source": [
    "%%ipytest\n",
    "\n",
    "def test_prefix_sum():\n",
    "    assert prefix_sum([]) = [0]\n",
    "    assert prefix_sum([1, 1, 1]) = [0, 1, 2, 3]\n",
    "    assert prefix_sum([1, -1, 1]) = [0, 1, 0, 1]\n",
    "\n",
    "    "
   ]
  },
  {
   "cell_type": "markdown",
   "metadata": {},
   "source": [
    "- Adott egy pozitív egészekből álló lista, amiben minden érték pontosan kétszer szerepel kivéve egyet, ami pontosan egyszer fordul elő.\n",
    "  Írjunk egy függvényt, ami megkeresi  a kakukktojást!"
   ]
  },
  {
   "cell_type": "code",
   "execution_count": null,
   "metadata": {},
   "outputs": [],
   "source": [
    "def single_value(nums: list[int]) -> int:\n",
    "    pass    "
   ]
  },
  {
   "cell_type": "markdown",
   "metadata": {},
   "source": [
    "- Számítsuk ki a Pascal háromszög $n$. sorát!"
   ]
  },
  {
   "cell_type": "code",
   "execution_count": null,
   "metadata": {},
   "outputs": [],
   "source": [
    "def pascal_triangle(n: int) -> list[int]:\n",
    "    pass"
   ]
  },
  {
   "cell_type": "code",
   "execution_count": null,
   "metadata": {},
   "outputs": [],
   "source": [
    "%%ipytest\n",
    "\n",
    "def test_pascal_triangle():\n",
    "    assert pascal_triangle(0) == [1]\n",
    "    assert pascal_triangle(1) == [1, 1]\n",
    "    assert pascal_triangle(2) == [1, 2, 1]\n",
    "    assert pascal_triangle(3) == [1, 3, 3, 1]\n",
    "    assert pascal_triangle(4) == [1, 4, 6, 4, 1]"
   ]
  },
  {
   "cell_type": "markdown",
   "metadata": {},
   "source": [
    "- Adott egy számokból álló lista. Keressük meg a többségi elemet. Egy érték akkor többségi elem egy $n$ hosszú listában, ha több mint $n/2$ helyen fordul elő.\n",
    "  Feltehető, hogy a listában van többségi elem."
   ]
  },
  {
   "cell_type": "code",
   "execution_count": null,
   "metadata": {},
   "outputs": [],
   "source": [
    "def majority_element(nums: list[int]) -> int:\n",
    "    pass"
   ]
  },
  {
   "cell_type": "code",
   "execution_count": null,
   "metadata": {},
   "outputs": [],
   "source": [
    "%%ipytest\n",
    "\n",
    "def test_majority_element():\n",
    "    assert majority_element([1, 2, 2, 2, 2, 1, 1, 1, 1]) == 1\n",
    "    assert majority_element([1, 2, 2, 2, 2, 1, 1, 1, 2]) == 2"
   ]
  }
 ],
 "metadata": {
  "kernelspec": {
   "display_name": "python3.10",
   "language": "python",
   "name": "python3"
  },
  "language_info": {
   "codemirror_mode": {
    "name": "ipython",
    "version": 3
   },
   "file_extension": ".py",
   "mimetype": "text/x-python",
   "name": "python",
   "nbconvert_exporter": "python",
   "pygments_lexer": "ipython3",
   "version": "3.10.12"
  }
 },
 "nbformat": 4,
 "nbformat_minor": 2
}
