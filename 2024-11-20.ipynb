{
 "cells": [
  {
   "cell_type": "markdown",
   "metadata": {},
   "source": [
    "# Házi feladat"
   ]
  },
  {
   "cell_type": "markdown",
   "metadata": {},
   "source": [
    "A gyakorlaton látott ,,Conway Game of Life\" automatához sok kezdő\n",
    "mintázat érhető el az alábbi címen:\n",
    "<https://www.conwaylife.com/patterns/>. A mintázatok egyrészt `.rle`\n",
    "másrészt `.cells` formátumban érhetőek el.\n",
    "\n",
    "A `.rle` formátum leírása megtalálható a\n",
    "<https://www.conwaylife.com/wiki/Run_Length_Encoded> oldalon, míg\n",
    "`.cells` formátum leírása a <https://www.conwaylife.com/wiki/Plaintext>\n",
    "címen.\n",
    "\n",
    "Írjunk két függvényt.\n",
    "\n",
    "1.  Az első bemenetként kap egy sztringet ami `.rle` formátumban\n",
    "    tartalmazza a mintát és kiszámolja a mintázatot, amit `numpy`\n",
    "    tömbként ad vissza.\n",
    "\n",
    "2.  A második függvény ugyanezt csinálja, de most a bemenet egy `.cells`\n",
    "    formátumú sztring.\n",
    "\n",
    "Tesztelésként ugyanannak a mintázatnak mindkét alakját töltsök le és\n",
    "ellenőrizzük (a letöltést pythonból oldjuk meg, a kód szerepeljen a\n",
    "beadott munkafüzetben), hogy a két függvény ugyanazt az eredményt adja-e\n",
    "vissza. Néhány mintázatnál jelenítsük meg a mintázatot a `matplotlib`\n",
    "könytár segítségével és vessük össze a `.cells` formátum printelt\n",
    "változatával.\n",
    "\n",
    "Emlékeztetőül file-t letölteni pl. az `urllib.request` modul\n",
    "segítségével lehet.\n",
    "\n",
    "Néhány mintázat címe:\n",
    "```text\n",
    "    urls = [\n",
    "      \"https://www.conwaylife.com/patterns/3enginecordership.rle\",\n",
    "      # \"https://www.conwaylife.com/patterns/3enginecordership.cells\",\n",
    "      \"https://conwaylife.com/patterns/3c7wave.rle\"\n",
    "      # \"https://conwaylife.com/patterns/3c7wave.rle\",\n",
    "      \"https://conwaylife.com/patterns/44p7.2.rle\",\n",
    "      # \"https://conwaylife.com/patterns/44p7.2.cells\",\n",
    "      \"https://conwaylife.com/patterns/zebrastripes.rle\",\n",
    "      # \"https://conwaylife.com/patterns/zebrastripes.cells\",\n",
    "    ]\n",
    "```"
   ]
  },
  {
   "cell_type": "code",
   "execution_count": null,
   "metadata": {},
   "outputs": [],
   "source": [
    "import urllib.request as request\n",
    "import numpy as np\n",
    "import matplotlib.pyplot as plt"
   ]
  },
  {
   "cell_type": "code",
   "execution_count": null,
   "metadata": {},
   "outputs": [],
   "source": [
    "base_url = \"https://www.conwaylife.com/patterns/\"\n",
    "\n",
    "def download_pattern(pattern, format=\"cells\"):\n",
    "    url = f\"{base_url}{pattern}.{format}\"\n",
    "    try:\n",
    "        with request.urlopen(url) as response:\n",
    "            return response.read().decode(\"utf-8\")\n",
    "    except:\n",
    "        return None"
   ]
  },
  {
   "cell_type": "code",
   "execution_count": null,
   "metadata": {},
   "outputs": [],
   "source": [
    "\n",
    "cell = download_pattern(\"44p7.2\") \n",
    "rle = download_pattern(\"44p7.2\", \"rle\")\n",
    "print(cell)\n",
    "print(rle)"
   ]
  },
  {
   "cell_type": "code",
   "execution_count": null,
   "metadata": {},
   "outputs": [],
   "source": [
    "def drop_comments(text, comment_char):\n",
    "    \"\"\"removes the lines starting with comment_char\"\"\"\n",
    "    return \"\\n\".join([line for line in text.splitlines() if not line.startswith(comment_char)])\n",
    "\n",
    "def decode_cells(text):\n",
    "    text = drop_comments(text, \"!\")\n",
    "    lines = text.splitlines()\n",
    "    board_shape = len(lines), max(map(len, lines))\n",
    "    board = np.zeros(board_shape, dtype=np.uint8)\n",
    "    for line, board_line in zip(lines, board):\n",
    "        board_line[:len(line)] = [1 if char == \"O\" else 0 for char in line]\n",
    "    return board\n"
   ]
  },
  {
   "cell_type": "code",
   "execution_count": null,
   "metadata": {},
   "outputs": [],
   "source": [
    "print(drop_comments(cell, \"!\"))\n",
    "board = decode_cells(cell)\n",
    "h, w = board.shape\n",
    "plt.matshow(board, cmap=\"gray\", vmin=0, vmax=1)\n",
    "plt.xticks(np.arange(w+1)-.5, minor=True)\n",
    "plt.xticks([])\n",
    "plt.yticks(np.arange(h+1)-.5, minor=True)\n",
    "plt.yticks([])\n",
    "plt.grid(which=\"minor\", color=\"gray\", linestyle='-', linewidth=1)\n",
    "plt.axis()\n",
    "plt.grid()"
   ]
  },
  {
   "cell_type": "code",
   "execution_count": null,
   "metadata": {},
   "outputs": [],
   "source": [
    "def plot_board(board):\n",
    "    h, w = board.shape\n",
    "    plt.matshow(board, cmap=\"Pastel1_r\", vmin=0, vmax=1)\n",
    "    plt.xticks(np.arange(w+1)-.5, minor=True)\n",
    "    plt.xticks([])\n",
    "    plt.yticks(np.arange(h+1)-.5, minor=True)\n",
    "    plt.yticks([])\n",
    "    plt.grid(which=\"minor\", color=\"gray\", linestyle='-', linewidth=1)\n",
    "    "
   ]
  },
  {
   "cell_type": "code",
   "execution_count": null,
   "metadata": {},
   "outputs": [],
   "source": [
    "plot_board(board)"
   ]
  },
  {
   "cell_type": "code",
   "execution_count": null,
   "metadata": {},
   "outputs": [],
   "source": [
    "def rle_decode(text, active_chars=\"ob$\"):\n",
    "    num = 0\n",
    "    for char in text:\n",
    "        if char == \"!\":\n",
    "            break\n",
    "        elif char.isdigit():\n",
    "            num = num * 10 + int(char)\n",
    "        elif char in active_chars:\n",
    "            yield  (num if num > 0 else 1), char\n",
    "            num = 0\n",
    "\n",
    "def get_shape_body(text):\n",
    "    text = drop_comments(text, \"#\")\n",
    "    header, body = text.split(\"\\n\", maxsplit=1)\n",
    "    x, y, rule = header.split(\",\")\n",
    "    w = int(x.split(\"=\")[1])\n",
    "    h = int(y.split(\"=\")[1])\n",
    "    return (h, w), body\n",
    "\n",
    "def decode_rle(text):\n",
    "    shape, body = get_shape_body(text)\n",
    "    board = np.zeros(shape, dtype=np.uint8)\n",
    "    i, j = 0, 0\n",
    "    for num, char in rle_decode(body):\n",
    "        if char == \"b\":\n",
    "            j += num\n",
    "        elif char == \"o\":\n",
    "            board[i, j:j+num] = 1\n",
    "            j += num\n",
    "        elif char == \"$\":\n",
    "            i += num\n",
    "            j = 0\n",
    "    return board"
   ]
  },
  {
   "cell_type": "code",
   "execution_count": null,
   "metadata": {},
   "outputs": [],
   "source": [
    "shape, body = get_shape_body(rle)\n",
    "shape, body\n"
   ]
  },
  {
   "cell_type": "code",
   "execution_count": null,
   "metadata": {},
   "outputs": [],
   "source": [
    "[*rle_decode(body)]"
   ]
  },
  {
   "cell_type": "code",
   "execution_count": null,
   "metadata": {},
   "outputs": [],
   "source": [
    "plot_board(decode_rle(rle))\n",
    "plot_board(decode_cells(cell))"
   ]
  },
  {
   "cell_type": "code",
   "execution_count": null,
   "metadata": {},
   "outputs": [],
   "source": [
    "import re"
   ]
  },
  {
   "cell_type": "code",
   "execution_count": null,
   "metadata": {},
   "outputs": [],
   "source": [
    "def rle_decode(text):\n",
    "    for m in re.finditer(r\"(\\d+)?([ob$])\", text):\n",
    "        num = int(m.group(1)) if m.group(1) else 1\n",
    "        char = m.group(2)\n",
    "        yield num, char\n"
   ]
  },
  {
   "cell_type": "code",
   "execution_count": null,
   "metadata": {},
   "outputs": [],
   "source": [
    "\n",
    "[*rle_decode(\"3o$2b3o!\")]"
   ]
  },
  {
   "cell_type": "markdown",
   "metadata": {},
   "source": [
    "### Le tudjuk-e kérdezni az összes mintát.\n"
   ]
  },
  {
   "cell_type": "code",
   "execution_count": null,
   "metadata": {},
   "outputs": [],
   "source": [
    "with request.urlopen(base_url) as response:\n",
    "    html = response.read().decode(\"utf-8\")"
   ]
  },
  {
   "cell_type": "code",
   "execution_count": null,
   "metadata": {},
   "outputs": [],
   "source": [
    "print(f\"html size: {len(html):_} bytes\")"
   ]
  },
  {
   "cell_type": "code",
   "execution_count": null,
   "metadata": {},
   "outputs": [],
   "source": [
    "import bs4 as bs\n",
    "\n",
    "soup = bs.BeautifulSoup(html, \"html.parser\")"
   ]
  },
  {
   "cell_type": "code",
   "execution_count": null,
   "metadata": {},
   "outputs": [],
   "source": [
    "soup.body"
   ]
  },
  {
   "cell_type": "code",
   "execution_count": null,
   "metadata": {},
   "outputs": [],
   "source": [
    "print(soup.body.text[:300])"
   ]
  },
  {
   "cell_type": "code",
   "execution_count": null,
   "metadata": {},
   "outputs": [],
   "source": [
    "patterns = [atag.attrs[\"href\"] for tr_row in soup.css.select(\"tr [data-sort]\") if (atag := tr_row.find(\"a\"))]"
   ]
  },
  {
   "cell_type": "code",
   "execution_count": null,
   "metadata": {},
   "outputs": [],
   "source": [
    "len(patterns)"
   ]
  },
  {
   "cell_type": "code",
   "execution_count": null,
   "metadata": {},
   "outputs": [],
   "source": [
    "patterns[:5]"
   ]
  },
  {
   "cell_type": "markdown",
   "metadata": {},
   "source": [
    "## A világ népessége"
   ]
  },
  {
   "cell_type": "code",
   "execution_count": null,
   "metadata": {},
   "outputs": [],
   "source": [
    "import kagglehub\n",
    "from pathlib import Path\n",
    "import matplotlib.pyplot as plt\n",
    "import seaborn as sns\n",
    "import pandas as pd\n",
    "import numpy as np"
   ]
  },
  {
   "cell_type": "code",
   "execution_count": null,
   "metadata": {},
   "outputs": [],
   "source": [
    "\n",
    "# Download latest version\n",
    "path = kagglehub.dataset_download(\"iamsouravbanerjee/world-population-dataset\")\n",
    "\n",
    "print(\"Path to dataset files:\", path)\n",
    "print(*Path(path).glob(\"*\"), sep=\"\\n\")\n",
    "csv_file = next(iter(Path(path).glob(\"*.csv\")))"
   ]
  },
  {
   "cell_type": "code",
   "execution_count": null,
   "metadata": {},
   "outputs": [],
   "source": [
    "df = pd.read_csv(csv_file)"
   ]
  },
  {
   "cell_type": "code",
   "execution_count": null,
   "metadata": {},
   "outputs": [],
   "source": [
    "df.shape"
   ]
  },
  {
   "cell_type": "code",
   "execution_count": null,
   "metadata": {},
   "outputs": [],
   "source": [
    "df.head()"
   ]
  },
  {
   "cell_type": "code",
   "execution_count": null,
   "metadata": {},
   "outputs": [],
   "source": [
    "df.columns"
   ]
  },
  {
   "cell_type": "code",
   "execution_count": null,
   "metadata": {},
   "outputs": [],
   "source": [
    "df.columns = df.columns.str.removesuffix(\" Population\")\n",
    "df.columns = df.columns.str.removesuffix(\"/Territory\")\n",
    "df = df.rename(columns=lambda x: x.split(\" (\")[0])\n",
    "df.columns \n"
   ]
  },
  {
   "cell_type": "code",
   "execution_count": null,
   "metadata": {},
   "outputs": [],
   "source": [
    "df.head()"
   ]
  },
  {
   "cell_type": "markdown",
   "metadata": {},
   "source": [
    "Válasozljuk meg az alábbi kérdéseket:\n",
    "\n",
    "* Melyik ország lakossága növekedett a legnagyobb mértékben 1970 és 2022 között?\n",
    "\n",
    "* Melyik ország lakossága csökkent a legnagyobb mértékben 1970 és 2022 között?\n",
    "\n",
    "* Földrészenként melyik a legnépesebb ország?\n",
    "\n",
    "* A világ népességének mi a százalékos megoszlása földrészenként?\n",
    "\n",
    "* Számoljuk ki a földrészek népességét, minden évre amire adatunk van."
   ]
  },
  {
   "cell_type": "markdown",
   "metadata": {},
   "source": [
    "#### A földrészek népességének változása 1970-től 2022-ig"
   ]
  },
  {
   "cell_type": "code",
   "execution_count": null,
   "metadata": {},
   "outputs": [],
   "source": [
    "grouped = df.groupby([\"Continent\"])\n",
    "years = [\"1970\", \"1980\", \"1990\", \"2000\", \"2010\", \"2015\", \"2020\", \"2022\"]\n",
    "df_contient_populations = grouped[years].sum()\n",
    "df_contient_populations"
   ]
  },
  {
   "cell_type": "markdown",
   "metadata": {},
   "source": [
    "### Széles formátum"
   ]
  },
  {
   "cell_type": "code",
   "execution_count": null,
   "metadata": {},
   "outputs": [],
   "source": [
    "df_contient_populations"
   ]
  },
  {
   "cell_type": "markdown",
   "metadata": {},
   "source": [
    "### Hosszú formátum"
   ]
  },
  {
   "cell_type": "code",
   "execution_count": null,
   "metadata": {},
   "outputs": [],
   "source": [
    "df_long = df.melt(\n",
    "    id_vars=[\"Continent\", \"Country\"], #, \"Rank\", \"World Population Percentage\", \"Area\", \"Growth Rate\", \"Density\"], \n",
    "    value_vars=years, \n",
    "    var_name=\"Year\", \n",
    "    value_name=\"Population\"\n",
    ")\n",
    "df_long"
   ]
  },
  {
   "cell_type": "markdown",
   "metadata": {},
   "source": [
    "- Szélesből hosszú formátumba  a `melt` metódussal,\n",
    "\n",
    "- Hosszúból szélesbe a `pivot` metódussal\n",
    "\n",
    "válthatunk"
   ]
  },
  {
   "cell_type": "code",
   "execution_count": null,
   "metadata": {},
   "outputs": [],
   "source": [
    "df_wide = df_long.pivot(index=[\"Country\", \"Continent\"], columns=\"Year\", values=\"Population\")\n",
    "# df_wide"
   ]
  },
  {
   "cell_type": "code",
   "execution_count": null,
   "metadata": {},
   "outputs": [],
   "source": [
    "df_wide.columns.name = None\n",
    "df_wide = df_wide.reset_index()\n",
    "df_wide"
   ]
  },
  {
   "cell_type": "code",
   "execution_count": null,
   "metadata": {},
   "outputs": [],
   "source": [
    "pop_by_year = df_long.pivot_table(index=\"Year\", columns=\"Continent\", values=\"Population\", aggfunc=\"sum\")\n",
    "pop_by_year"
   ]
  },
  {
   "cell_type": "code",
   "execution_count": null,
   "metadata": {},
   "outputs": [],
   "source": [
    "pop_by_year.index = pd.to_datetime(pop_by_year.index, format=\"%Y\").year\n",
    "pop_by_year.index"
   ]
  },
  {
   "cell_type": "markdown",
   "metadata": {},
   "source": [
    "# Egy gráfelméleti algoritmus"
   ]
  },
  {
   "cell_type": "markdown",
   "metadata": {},
   "source": [
    "## Feladat"
   ]
  },
  {
   "cell_type": "markdown",
   "metadata": {},
   "source": [
    "Adott egy `n` csúcsú irányítatlan gráf az élek listájával. A gráf csúcsait `0`-tól `n-1`-ig címkéztük meg, az éleket pedig a végpontokkal.\n",
    "\n",
    "Emellett adott egy kiindulási pont és egy végpont. Azt szeretnénk eldönteni, hogy el lehet-e jutni a kiindulási pontból a végpontba a gráf éleit használva.\n",
    "\n",
    "Gondolhatunk arra, hogy a gráf egy úthálózatot ír le és a kérdés az, hogy el tudunk-e jutni `A`-ból `B`-be."
   ]
  },
  {
   "cell_type": "markdown",
   "metadata": {},
   "source": [
    "Pl. `n = 3`, élek `edges = [[0,1], [1,2], [2,0]]`, `A =  0`, `B = 2`."
   ]
  },
  {
   "cell_type": "markdown",
   "metadata": {},
   "source": [
    "Gráfok megjelenítésére egy hasznos könyvtár a `graphviz`."
   ]
  },
  {
   "cell_type": "code",
   "execution_count": null,
   "metadata": {},
   "outputs": [],
   "source": [
    "import importlib\n",
    "if importlib.util.find_spec('graphviz') is None:\n",
    "    ! pip install graphviz\n",
    "import graphviz"
   ]
  },
  {
   "cell_type": "code",
   "execution_count": null,
   "metadata": {},
   "outputs": [],
   "source": [
    "edges = [[0,1], [1,2], [2,0]]\n",
    "g0 = graphviz.Graph()\n",
    "\n",
    "g0.edges([(str(a), str(b)) for a, b in edges])\n",
    "g0"
   ]
  },
  {
   "cell_type": "markdown",
   "metadata": {},
   "source": [
    "A gráf összefüggő, tetszőleges `A`, `B` esetén a válasz: `True`"
   ]
  },
  {
   "cell_type": "code",
   "execution_count": null,
   "metadata": {},
   "outputs": [],
   "source": [
    "n = 6\n",
    "edges = [[0,1],[0,2],[3,5],[5,4],[4,3]]\n",
    "A = 0\n",
    "B = 5\n",
    "\n",
    "g1 = graphviz.Graph()\n",
    "g1.edges([(str(a), str(b)) for a, b in edges])\n",
    "g1"
   ]
  },
  {
   "cell_type": "markdown",
   "metadata": {},
   "source": [
    "Nincs út 0 és 5 között. A válasz: `False`"
   ]
  },
  {
   "cell_type": "markdown",
   "metadata": {},
   "source": [
    "Összefüggőségi komponenseket szeretnénk számolni.\n",
    "\n"
   ]
  },
  {
   "cell_type": "markdown",
   "metadata": {},
   "source": [
    "## Ötlet.\n",
    "\n",
    "Az él nélküli gráfból indulunk ki. Itt egy elemű komponensek vannak.\n",
    "\n",
    "Minden komponensből válasszunk egy reprezentáns és minden $i$ pontra feljegyezzük, melyik komponensben van.\n",
    "\n",
    "\n"
   ]
  },
  {
   "cell_type": "code",
   "execution_count": null,
   "metadata": {},
   "outputs": [],
   "source": [
    "def show_graph(roots, direction = 'LR'):\n",
    "    g = graphviz.Digraph(graph_attr={'rankdir': direction})\n",
    "    g.edges((str(i), str(r)) for i, r in enumerate(roots))\n",
    "    return g"
   ]
  },
  {
   "cell_type": "code",
   "execution_count": null,
   "metadata": {},
   "outputs": [],
   "source": [
    "n = 5\n",
    "roots = [i for i in range(n)]\n",
    "display(show_graph(roots, 'TD'))"
   ]
  },
  {
   "cell_type": "markdown",
   "metadata": {},
   "source": [
    "ha behúzzuk a $(0, 1)$ élet, akkor $0$ és $1$ azonos komponensbe kerül. Választhatunk a két összeuniózott komponens reprezentánsa között, legyen pl. 1"
   ]
  },
  {
   "cell_type": "code",
   "execution_count": null,
   "metadata": {},
   "outputs": [],
   "source": [
    "roots[0] = 1\n",
    "display(show_graph(roots, 'TD'))"
   ]
  },
  {
   "cell_type": "markdown",
   "metadata": {},
   "source": [
    "Ha most a (0, 2) élet akarjuk behúzni, akkor nem állíthatjuk át `roots[0]`. Meg kell keresnünk `0` komponensének reprezentását, ez 1 és vagy `roots[1]`-et állítjuk 2 -re, vagy `roots[2]`-t 1-re."
   ]
  },
  {
   "cell_type": "code",
   "execution_count": null,
   "metadata": {},
   "outputs": [],
   "source": [
    "def find(roots, a):\n",
    "    while a != roots[a]:\n",
    "        a = roots[a]\n",
    "    return a"
   ]
  },
  {
   "cell_type": "code",
   "execution_count": null,
   "metadata": {},
   "outputs": [],
   "source": [
    "find(roots, 0), find(roots, 2)"
   ]
  },
  {
   "cell_type": "code",
   "execution_count": null,
   "metadata": {},
   "outputs": [],
   "source": [
    "def union(roots, a, b):\n",
    "    ra = find(roots, a)\n",
    "    rb = find(roots, b)\n",
    "    roots[ra] = rb"
   ]
  },
  {
   "cell_type": "code",
   "execution_count": null,
   "metadata": {},
   "outputs": [],
   "source": [
    "union(roots, 0, 2)\n",
    "print(f\"After union(0, 2) {roots=}\")\n",
    "display(show_graph(roots))\n",
    "\n",
    "union(roots, 3, 4)\n",
    "print(f\"After union(3, 4) {roots=}\")\n",
    "print(roots)\n",
    "display(show_graph(roots))\n",
    "\n",
    "union(roots, 3, 2)\n",
    "print(f\"After union(3, 2) {roots=}\")\n",
    "print(roots)\n",
    "display(show_graph(roots))"
   ]
  },
  {
   "cell_type": "markdown",
   "metadata": {},
   "source": [
    "Ezután az a kérdés, hogy el lehet-e jutni `A`-ból, `B`-be könnyen eldönthető. Ha `A` és `B` azonos komponensben van, akkor `A` és `B` között megy út az eredeti gráfban, különben nem."
   ]
  },
  {
   "cell_type": "markdown",
   "metadata": {},
   "source": [
    "1. példa\n",
    "`n = 3`, élek `edges = [[0,1], [1,2], [2,0]]`, `A =  0`, `B = 2`."
   ]
  },
  {
   "cell_type": "code",
   "execution_count": null,
   "metadata": {},
   "outputs": [],
   "source": [
    "def show_edges(edges, direction='LR'):\n",
    "    g = graphviz.Graph(graph_attr={'rankdir': direction})\n",
    "    g.edges([(str(a), str(b)) for a, b in edges])\n",
    "    return g"
   ]
  },
  {
   "cell_type": "code",
   "execution_count": null,
   "metadata": {},
   "outputs": [],
   "source": [
    "n = 3\n",
    "edges = [[0,1], [1,2], [2,0]]\n",
    "A =  0\n",
    "B = 2\n",
    "\n",
    "display(show_edges(edges, 'TD'))\n",
    "print(f\"Eredeti gráf\")\n",
    "print(\"=\"*50)\n",
    "\n",
    "roots = [i for i in range(n)]\n",
    "for a, b in edges:\n",
    "    union(roots, a, b)\n",
    "\n",
    "display(show_graph(roots))\n",
    "print(f\"{A=} és {B=} {'azonos' if find(roots, A)==find(roots, B) else 'különböző'} komponensben van\")"
   ]
  },
  {
   "cell_type": "markdown",
   "metadata": {},
   "source": [
    "2. példa"
   ]
  },
  {
   "cell_type": "code",
   "execution_count": null,
   "metadata": {},
   "outputs": [],
   "source": [
    "n = 6\n",
    "edges = [[0,1],[0,2],[3,5],[5,4],[4,3]]\n",
    "A = 0\n",
    "B = 5\n",
    "\n",
    "display(show_edges(edges))\n",
    "print(f\"Eredeti gráf\")\n",
    "print(\"=\"*50)\n",
    "\n",
    "roots = [i for i in range(n)]\n",
    "for a, b in edges:\n",
    "    union(roots, a, b)\n",
    "\n",
    "display(show_graph(roots))\n",
    "print(f\"{A=} és {B=} {'azonos' if find(roots, A)==find(roots, B) else 'különböző'} komponensben van\")\n"
   ]
  },
  {
   "cell_type": "markdown",
   "metadata": {},
   "source": [
    "Mi történik, ha nagyobb gráfunk van?"
   ]
  },
  {
   "cell_type": "code",
   "execution_count": null,
   "metadata": {},
   "outputs": [],
   "source": [
    "n = 10\n",
    "edges = [(0,i+1) for i in range(n-1)]\n",
    "display(show_edges(edges, 'TD'))\n",
    "\n",
    "roots = [i for i in range(n)]\n",
    "for a, b in edges:\n",
    "    union(roots, a, b)\n",
    "\n",
    "display(show_graph(roots))\n"
   ]
  },
  {
   "cell_type": "markdown",
   "metadata": {},
   "source": [
    "Valahányszor behúzzuk a $(0, i)$ élet, meg kell keresni $0$ reprezentánsát. $k$ él behúzása után $k$-lépéssel találjuk meg. Ha 10 helyett 10_000 méretű a gráf ez nem fog működni.\n",
    "\n",
    "### Javítási lehetőségek.\n",
    "\n",
    "- Amikor megkeressük $i$ reprezentánsát végig megyünk a reprezentánshoz vezető úton. Minden meglátogatott csúcsra ismerté válik a reprezentáns értéke. Ezt beírhatjuk a `roots` tömbe. (path compression)\n",
    "\n",
    "- A nagyobb komponensbe kössük be a kisebbet és ne fordítva. Ehhez  a ,,méretet'' nyilván kell tartani."
   ]
  },
  {
   "cell_type": "code",
   "execution_count": null,
   "metadata": {},
   "outputs": [],
   "source": [
    "def find_better(roots, a):\n",
    "    ra = roots[a]\n",
    "    if a != ra:\n",
    "        ra = find_better(roots, ra)\n",
    "        roots[a] = ra\n",
    "    return ra\n",
    "\n",
    "def find_better_without_recursion(roots, a):\n",
    "    stack = []\n",
    "\n",
    "    ra = roots[a]\n",
    "    while a != ra:\n",
    "        stack.append(a)\n",
    "        a = ra\n",
    "        ra = roots[a]\n",
    "\n",
    "    while stack:\n",
    "        roots[stack.pop()] = ra\n",
    "\n",
    "    return ra\n",
    "\n",
    "\n",
    "def union_sizes(roots, sizes, a, b):\n",
    "    ra = find_better(roots, a)\n",
    "    rb = find_better(roots, b)\n",
    "    if ra != rb:\n",
    "        if sizes[ra] < sizes[rb]:\n",
    "            ra, rb = rb, ra\n",
    "        roots[rb] = ra\n",
    "        sizes[ra] += sizes[rb]\n",
    "\n",
    "def union_ranks(roots, ranks, a, b):\n",
    "    ra = find_better(roots, a)\n",
    "    rb = find_better(roots, b)\n",
    "    if ra != rb:\n",
    "        if ranks[ra] < ranks[rb]:\n",
    "            ra, rb = rb, ra\n",
    "        roots[rb] = ra\n",
    "        if ranks[ra] == ranks[rb]:\n",
    "            ranks[ra] += 1\n",
    "\n",
    "\n"
   ]
  },
  {
   "cell_type": "code",
   "execution_count": null,
   "metadata": {},
   "outputs": [],
   "source": [
    "n = 10\n",
    "edges = [(0, i) for i in range(1, n)]\n",
    "display(show_edges(edges, 'TD'))\n",
    "\n",
    "roots = [i for i in range(n)]\n",
    "\n",
    "for a, b in edges:\n",
    "    ra = find_better(roots, a)\n",
    "    rb = find_better(roots, b)\n",
    "    roots[ra] = rb\n",
    "\n",
    "display(show_graph(roots, 'LR'))\n"
   ]
  },
  {
   "cell_type": "code",
   "execution_count": null,
   "metadata": {},
   "outputs": [],
   "source": [
    "n = 10\n",
    "edges = [(0, i) for i in range(1, n)]\n",
    "display(show_edges(edges, 'TD'))\n",
    "\n",
    "roots = [i for i in range(n)]\n",
    "\n",
    "for a, b in edges:\n",
    "    ra = find_better(roots, a)\n",
    "    rb = find_better(roots, b)\n",
    "    roots[rb] = ra\n",
    "\n",
    "display(show_graph(roots, 'TD'))\n"
   ]
  },
  {
   "cell_type": "code",
   "execution_count": null,
   "metadata": {},
   "outputs": [],
   "source": [
    "n = 10\n",
    "edges = [(0, i) for i in range(1, n)]\n",
    "display(show_edges(edges, 'TD'))\n",
    "\n",
    "roots = [i for i in range(n)]\n",
    "sizes = [1]*n\n",
    "\n",
    "for a, b in edges:\n",
    "    union_sizes(roots, sizes, a, b)\n",
    "\n",
    "display(show_graph(roots, 'TD'))\n"
   ]
  },
  {
   "cell_type": "code",
   "execution_count": null,
   "metadata": {},
   "outputs": [],
   "source": [
    "n = 10\n",
    "edges = [(0, i) for i in range(1, n)]\n",
    "display(show_edges(edges, 'TD'))\n",
    "\n",
    "roots = [i for i in range(n)]\n",
    "ranks = [0]*n\n",
    "\n",
    "for a, b in edges:\n",
    "    union_ranks(roots, ranks, a, b)\n",
    "\n",
    "display(show_graph(roots, 'TD'))\n"
   ]
  },
  {
   "cell_type": "markdown",
   "metadata": {},
   "source": [
    "### Szokásos implementáció"
   ]
  },
  {
   "cell_type": "code",
   "execution_count": null,
   "metadata": {},
   "outputs": [],
   "source": [
    "class UnionFind:\n",
    "    def __init__(self, n):\n",
    "        self.roots = [i for i in range(n)]\n",
    "        self.sizes = [1]*n\n",
    "\n",
    "    def find(self, a):\n",
    "        ra = self.roots[a]\n",
    "        if a != ra:\n",
    "            ra = self.find( ra)\n",
    "            self.roots[a] = ra\n",
    "        return ra\n",
    "\n",
    "    def union(self, a, b):\n",
    "        ra = self.find(a)\n",
    "        rb = self.find(b)\n",
    "        if ra != rb:\n",
    "            if self.sizes[ra] < self.sizes[rb]:\n",
    "                ra, rb = rb, ra\n",
    "            self.roots[rb] = ra\n",
    "            self.sizes[ra] += self.sizes[rb]\n"
   ]
  },
  {
   "cell_type": "code",
   "execution_count": null,
   "metadata": {},
   "outputs": [],
   "source": [
    "uf = UnionFind(10)\n",
    "print(uf)\n",
    "uf.union(1, 2)\n",
    "print(uf)\n",
    "uf.union(5, 9)\n",
    "uf.union(6, 7)\n",
    "print(uf)\n",
    "\n",
    "uf"
   ]
  },
  {
   "cell_type": "markdown",
   "metadata": {},
   "source": [
    "`__str__` és `__repr__` metódusok"
   ]
  },
  {
   "cell_type": "code",
   "execution_count": null,
   "metadata": {},
   "outputs": [],
   "source": [
    "def as_set(seq):\n",
    "    return f\"{{{', '.join(map(str, seq))}}}\"\n",
    "\n",
    "def uf_str(self):\n",
    "    components = {}\n",
    "    for a in range(len(self.roots)):\n",
    "        ra = self.find(a)\n",
    "        if ra not in components:\n",
    "            components[ra] = []\n",
    "        components[ra].append(a)\n",
    "    return f\"{{{ ', '.join(map(as_set, components.values()))}}}\"\n",
    "\n",
    "def uf_repr(self):\n",
    "    return f\"{type(self).__name__}({len(self.roots)})\"\n",
    "\n",
    "# Így is lehet:\n",
    "UnionFind.__str__ = uf_str\n",
    "UnionFind.__repr__ = uf_repr"
   ]
  },
  {
   "cell_type": "code",
   "execution_count": null,
   "metadata": {},
   "outputs": [],
   "source": [
    "uf = UnionFind(10)\n",
    "print(uf)\n",
    "uf.union(1, 2)\n",
    "print(uf)\n",
    "uf.union(5, 9)\n",
    "uf.union(6, 7)\n",
    "print(uf)\n",
    "\n",
    "uf"
   ]
  },
  {
   "cell_type": "markdown",
   "metadata": {},
   "source": [
    "### További kérdések\n",
    "\n",
    "- Tegyük fel, hogy a komponensek száma érdekel minket. Hogyan oldanánk, meg, hogy konstans idő alatt megkaphassuk.\n",
    "- Tegyük fel, hogy a legnagyobb komponens méretet érdekel minket. Hogyan oldanánk, meg, hogy konstans idő alatt megkaphassuk.\n",
    "- Hogyan ellenőriznénk, hogy két partíció azonos?"
   ]
  },
  {
   "cell_type": "markdown",
   "metadata": {},
   "source": [
    "## Kérdések\n",
    "\n",
    "1. Hogyan oldanánk meg Sudoku feladványokat?\n",
    "2. Hogyan keresnénk legrövidebb utat egy gráfban két pont között?\n",
    "3. Adva van egy tanmenet. Minden tárgynak lehetnek előfeltételei. Hogyan számolnánk ki, hogy hány félév alatt teljesíthető az összes óra? Korlátlan számú tárgyat végezhetünk egy félévben."
   ]
  }
 ],
 "metadata": {
  "kernelspec": {
   "display_name": "python3.10",
   "language": "python",
   "name": "python3"
  },
  "language_info": {
   "codemirror_mode": {
    "name": "ipython",
    "version": 3
   },
   "file_extension": ".py",
   "mimetype": "text/x-python",
   "name": "python",
   "nbconvert_exporter": "python",
   "pygments_lexer": "ipython3",
   "version": "3.10.12"
  }
 },
 "nbformat": 4,
 "nbformat_minor": 2
}
