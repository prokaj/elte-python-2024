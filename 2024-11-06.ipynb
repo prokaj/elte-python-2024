{
 "cells": [
  {
   "cell_type": "markdown",
   "metadata": {},
   "source": [
    "# Házi feladat\n"
   ]
  },
  {
   "cell_type": "markdown",
   "metadata": {},
   "source": [
    "\n",
    "Írjunk egy `Permutation` osztályt. Permutáció alatt most egy\n",
    "$\\left\\{{0,\\dots,n-1}\\right\\}\\to\\left\\{{0,\\dots,n-1}\\right\\}$ bijekciót\n",
    "értünk! Inicializáláskor a $\\pi$ permutációt az\n",
    "$(\\pi(0), \\dots,\\pi(n-1))$ rendezett $n$-sel adjuk meg.\n",
    "\n",
    "Írjuk meg az `__str__` és `__repr__` metódusokat. A `__str__` metódus a\n",
    "permutáció ciklus reprezentációját adja vissza a `cycles: ` szöveg után.\n",
    "\n",
    "A $\\pi$ permutáció egy ciklusa alatt egy $c_0,\\dots, c_{k-1}$ sorozatot\n",
    "értünk, ahol $\\pi(c_t)=c_{t+1}$, ha $t+1<k$ és $\\pi(c_{k-1})=c_0$. Ha a\n",
    "permutációt írányított gráfként ábrázoljuk ($i\\to \\pi(i)$ élekkel),\n",
    "akkor ezek a keletkező körök. A ciklusok az alaphalmazt ekvivalencia\n",
    "osztályokra bontják, a permutáció megadásához elgendő a ciklusokon belül\n",
    "feljegyezni a sorrendet. Sőt az egy hosszú ciklusokra nincs is szükség a\n",
    "leíráshoz. [További információért, lásd a Wikipédia\n",
    "bejegyzést!](https://en.wikipedia.org/wiki/Cycles_and_fixed_points)\n",
    "\n",
    "Minden egyes ciklust a legkisebb elemével kezdve írjunk fel, és a\n",
    "ciklusok sorrendjét is a legkisebb elemek sorrendje határozza meg. Nem\n",
    "kell túlbonyolítani a dolgot. Ha a ciklusokat már kiszámoltuk, akkor a\n",
    "ciklusokból álló lista rendezése pont ezt csinálja! Példák.\n",
    "\n",
    "```python\n",
    "(0, 1, 2, 3, 4, 5): ciklus reprezentáció = []\n",
    "(0, 1, 2, 3, 5, 4): ciklus reprezentáció = [(4,5)]\n",
    "(1, 2, 3, 4, 5, 0): ciklus reprezentáció = [(0, 1, 2, 3, 4, 5)]\n",
    "(1, 2, 0, 4, 5, 3): ciklus reprezentáció = [(0, 1, 2), (3, 4, 5)]\n",
    "```\n",
    "\n",
    "A `__repr__` metódus a szokásos alakú, osztály név és az inicializáló\n",
    "argumentumok.\n",
    "\n",
    "Példák.\n",
    "\n",
    "```python\n",
    "pi0 = Permutation([1, 2, 3, 0])\n",
    "print(pi0)       # -> cycles : [(0, 1, 2, 3)]\n",
    "print(repr(pi0)) # -> Permutation((1, 2, 3, 0))\n",
    "pi1 = Permutation([1, 0, 3, 2])\n",
    "print(pi1)       # -> cycles : [(0, 1), (2, 3)]\n",
    "print(repr(pi1)) # -> Permutation((1, 0, 3, 2))\n",
    "```\n",
    "\n",
    "Feltehetjük, hogy az osztályt mindig helyesen használják, azaz új egyed\n",
    "létrehozásakor a bemenet mindig egy permutáció.\n",
    "\n",
    "Implementáljuk a szorzás műveletet permutációk között. A szorzás a\n",
    "kompozió műveletet jelenti. Azaz $\\pi_1\\pi_2(i) = \\pi_1(\\pi_2(i))$.\n",
    "\n",
    "A `~` operátor az inverz permutációt adja vissza. Az inverz permutáció\n",
    "az a permutáció, amelyre $\\pi\\pi^{-1} = \\pi^{-1}\\pi = \\text{id}$, ahol\n",
    "$\\text{id}$ az identitás permutáció. A `~` művelet a `__invert__` dunder\n",
    "metódust használja.\n",
    "\n",
    "A `Permutation` osztály egyedein működjön a `len` függvény és az\n",
    "indexelés. Azaz ha $\\pi$ permutáció, akkor $\\pi[i]$ az $i$-edik elemét\n",
    "adja vissza a permutációnak.\n",
    "\n",
    "Egy permutáció legyen függvény is. Ilyenkor a bemenetként kapott $n$\n",
    "hosszú sorozatot permutálja. A kimenet $i$-edik eleme a bemenet\n",
    "$\\pi(i)$-edik eleme. Meg tudjuk-e oldani, hogy a visszaadott érték olyan\n",
    "típusú legyen, mint a bemenet?\n",
    "```python\n",
    "p = Permutation([1, 0, 2])\n",
    "print(p(\"abc\")) # -> bca\n",
    "print(p([11, 2, 3])) # -> [2, 3, 11]\n",
    "```\n",
    "\n",
    "Feltehető, hogy a bemenet vagy 'list', vagy 'tuple', vagy 'str', vagy\n",
    "'Permutation' típusú.\n",
    "\n",
    "Szokás szerint írjunk teszt függvényt, ami az osztály metódusait\n",
    "ellenőrzi 4-5 teszt eseten. A teszteléshez használjuk az `ipytest`\n",
    "könytárat."
   ]
  },
  {
   "cell_type": "code",
   "execution_count": null,
   "metadata": {},
   "outputs": [],
   "source": [
    "import graphviz"
   ]
  },
  {
   "cell_type": "code",
   "execution_count": null,
   "metadata": {},
   "outputs": [],
   "source": [
    "class Permutation:\n",
    "    \n",
    "    def __init__(self, perm):\n",
    "        try:\n",
    "            self.permutation = tuple(perm)\n",
    "        except TypeError:\n",
    "            raise TypeError(\"not a sequence\")\n",
    "        if sorted(self.permutation) != list(range(len(self.permutation))):\n",
    "            raise ValueError(\"not a permutation\")\n",
    "        self._cycles = None\n",
    "\n",
    "    def __getitem__(self, key):\n",
    "        return self.permutation[key]\n",
    "    \n",
    "    def __len__(self):\n",
    "        return len(self.permutation)\n",
    "    \n",
    "    def __mul__(self, other):\n",
    "        if not isinstance(other, type(self)):\n",
    "            raise TypeError(\"can only multiply permutations\")\n",
    "        if len(self) != len(other):\n",
    "            raise ValueError(\"permutations have different lengths\")\n",
    "        return Permutation(self.permutation[a] for a in other)\n",
    "\n",
    "    def __truediv__(self, other):\n",
    "        return self * (~other)\n",
    "\n",
    "    def __invert__(self):\n",
    "        inv = [0]*len(self.permutation)\n",
    "        for a, b in enumerate(self.permutation):\n",
    "            inv[b] = a\n",
    "        return Permutation(inv)\n",
    "\n",
    "    def __pow__(self, n):\n",
    "        result = Permutation(range(len(self.permutation)))\n",
    "        for _ in range(abs(n)):\n",
    "            result *= self\n",
    "        return result if n >= 0 else ~result\n",
    "\n",
    "    def _get_cycles(self):\n",
    "        cycles = []\n",
    "        pi = list(self.permutation)\n",
    "        for i, x in enumerate(pi):\n",
    "            if (x == -1) or (i == x):\n",
    "                continue\n",
    "            cycle = [i]\n",
    "            while x != i:\n",
    "                cycle.append(x)\n",
    "                pi[x], x = -1, pi[x]\n",
    "            cycles.append(tuple(cycle))\n",
    "        return cycles\n",
    "\n",
    "    def __str__(self):\n",
    "        if self._cycles is None:\n",
    "            self._cycles = self._get_cycles()\n",
    "        return f\"cycles: {self._cycles}\"\n",
    "\n",
    "    def __repr__(self):\n",
    "        return f\"{type(self).__name__}({self.permutation})\"\n",
    "\n",
    "    def __eq__(self, other):\n",
    "        return isinstance(other, type(self)) and other.permutation == self.permutation"
   ]
  },
  {
   "cell_type": "code",
   "execution_count": null,
   "metadata": {},
   "outputs": [],
   "source": [
    "import ipytest\n",
    "ipytest.autoconfig()"
   ]
  },
  {
   "cell_type": "code",
   "execution_count": null,
   "metadata": {},
   "outputs": [],
   "source": [
    "%%ipytest\n",
    "from pytest import raises\n",
    "import itertools\n",
    "\n",
    "def test_init():\n",
    "    with raises(TypeError):\n",
    "        Permutation(1)\n",
    "\n",
    "    with raises(ValueError):\n",
    "        Permutation(\"abc\")\n",
    "\n",
    "    with raises(ValueError):\n",
    "        Permutation((1, 2))\n",
    "\n",
    "    with raises(ValueError):\n",
    "        Permutation((0, 0.2))\n",
    "\n",
    "    assert Permutation((0,1,2,3)).permutation == (0,1,2,3)\n",
    "\n",
    "    seq = [0, 1, 2]\n",
    "    p = Permutation(seq)\n",
    "    seq[0] = 4\n",
    "    assert p.permutation == (0, 1, 2)\n",
    "\n",
    "def test_mul():\n",
    "    p = Permutation((1, 2, 0, 3, 4))\n",
    "    assert p*p == Permutation((2, 0, 1, 3, 4))\n",
    "\n",
    "\n",
    "def test_div():\n",
    "    p = Permutation((1, 2, 0, 3, 4))\n",
    "    q = Permutation((0, 1, 2, 4, 3))\n",
    "    assert p/q == Permutation((1, 2, 0, 4, 3))\n",
    "\n",
    "def test_inv():\n",
    "    identity = Permutation(range(5))\n",
    "    for p in itertools.permutations(range(5)):\n",
    "        pi = Permutation(p)\n",
    "        assert pi*(~pi) == identity\n",
    "\n",
    "def test_str():\n",
    "    identity = Permutation(range(5))\n",
    "    assert str(identity) == \"cycles: []\"\n",
    "\n",
    "    p = Permutation((1, 2, 0, 3, 4))\n",
    "    assert str(p) == \"cycles: [(0, 1, 2)]\"\n",
    "\n",
    "\n",
    "def test_repr():\n",
    "    identity = Permutation(range(5))\n",
    "    assert repr(identity) == \"Permutation((0, 1, 2, 3, 4))\"\n",
    "\n",
    "    p = Permutation((1, 2, 0, 3, 4))\n",
    "    assert repr(p) == \"Permutation((1, 2, 0, 3, 4))\"\n",
    "\n"
   ]
  },
  {
   "cell_type": "markdown",
   "metadata": {},
   "source": [
    "### Vizualizáció"
   ]
  },
  {
   "cell_type": "markdown",
   "metadata": {},
   "source": [
    "Gráfok gyakran előfordulnak és jó lenne őket ábrázolni. Erre szolgál a [`graphviz` python](https://graphviz.readthedocs.io/) könyvtár.\n",
    "Ez  python könyvtár az ugyanilyen nevű `C` könyvtárat használja. Azt is le kell tölteni, ha nincs telepítve a \n",
    "[graphviz](https://www.graphviz.org/)"
   ]
  },
  {
   "cell_type": "code",
   "execution_count": null,
   "metadata": {},
   "outputs": [],
   "source": [
    "try:\n",
    "    import graphviz\n",
    "except ModuleNotFoundError:\n",
    "    print(\"On ubuntu/debian try:\")\n",
    "    print(\"!pip install graphviz\")\n",
    "    print(\"!sudo apt install graphviz\")\n",
    "    print('Then try again!')"
   ]
  },
  {
   "cell_type": "markdown",
   "metadata": {},
   "source": [
    "Ezután egy nem túl nagy irányított gráfot, pl. egy véleltlen permutációból kapottat a következőképpen jeleníthetünk meg"
   ]
  },
  {
   "cell_type": "code",
   "execution_count": null,
   "metadata": {},
   "outputs": [],
   "source": [
    "import random\n",
    "\n",
    "permutation = list(range(8))\n",
    "print(f\"permutation before shuffling: {permutation}\")\n",
    "random.shuffle(permutation)\n",
    "print(f\" permutation after shuffling: {permutation}\")\n",
    "\n",
    "## making edges for graphviz. Node labels must be strings\n",
    "edges = [(str(head), str(tail)) for head, tail in enumerate(permutation)]\n",
    "G = graphviz.Digraph()\n",
    "G.edges(edges)\n",
    "\n",
    "display(G)\n",
    "\n",
    "pi = Permutation(permutation)\n",
    "print({str(pi)}, {repr(pi)})"
   ]
  },
  {
   "cell_type": "code",
   "execution_count": null,
   "metadata": {},
   "outputs": [],
   "source": [
    "print(G.pipe(format='dot').decode('utf8'))"
   ]
  },
  {
   "cell_type": "markdown",
   "metadata": {},
   "source": [
    "## Vizualizáció hozzáadása a Permutation osztályhoz."
   ]
  },
  {
   "cell_type": "code",
   "execution_count": null,
   "metadata": {},
   "outputs": [],
   "source": [
    "def repr_svg(self):\n",
    "    graph = graphviz.Digraph()\n",
    "    graph.edges((str(a), str(b)) for a, b in enumerate(self))\n",
    "    return graph._repr_image_svg_xml()\n",
    "\n",
    "Permutation._repr_svg_ = repr_svg\n"
   ]
  },
  {
   "cell_type": "code",
   "execution_count": null,
   "metadata": {},
   "outputs": [],
   "source": [
    "import gravis"
   ]
  },
  {
   "cell_type": "code",
   "execution_count": null,
   "metadata": {},
   "outputs": [],
   "source": [
    "def repr_html(self):\n",
    "    data = {\n",
    "        \"graph\": {\n",
    "            \"directed\": True,\n",
    "            \"nodes\": [{\"label\": str(i)} for i in range(len(self))],\n",
    "            \"edges\": [{\"source\": str(a), \"target\": str(b)} for a, b in enumerate(self)]\n",
    "        }\n",
    "    }\n",
    "    return gravis.d3(data).to_html_partial()\n",
    "\n",
    "Permutation._repr_html_ = repr_html\n",
    "Permutation((1, 2, 0, 3, 4))"
   ]
  },
  {
   "cell_type": "markdown",
   "metadata": {},
   "source": [
    "## Snapshot létrehozása"
   ]
  },
  {
   "cell_type": "code",
   "execution_count": null,
   "metadata": {},
   "outputs": [],
   "source": [
    "from pathlib import Path\n",
    "import json\n",
    "\n",
    "path = Path(\"data\")\n",
    "if not path.exists():\n",
    "    path.mkdir()\n",
    "    \n",
    "snapshot_file = path / \"snapshot.json\"\n",
    "\n",
    "\n",
    "if not snapshot_file.exists():\n",
    "    snapshot = [\n",
    "        {\n",
    "            \"permutation\": p,\n",
    "            \"svg_string\": Permutation(p)._repr_svg_()\n",
    "        }\n",
    "        for p in [(0, 1, 2, 3, 4),  (1, 2, 0)]\n",
    "    ]\n",
    "    with open(snapshot_file, \"w\") as file:\n",
    "        json.dump(snapshot, file, indent=2)\n",
    "\n",
    "    print(f\"snapshot is written into {snapshot_file.absolute()}\")\n"
   ]
  },
  {
   "cell_type": "code",
   "execution_count": null,
   "metadata": {},
   "outputs": [],
   "source": [
    "!cat data/snapshot.json"
   ]
  },
  {
   "cell_type": "code",
   "execution_count": null,
   "metadata": {},
   "outputs": [],
   "source": [
    "delattr(Permutation, \"_repr_html_\")\n",
    "pi = Permutation((1,2,3,0,4))\n",
    "pi"
   ]
  },
  {
   "cell_type": "code",
   "execution_count": null,
   "metadata": {},
   "outputs": [],
   "source": [
    "%%ipytest \n",
    "import json\n",
    "\n",
    "def test_svg():\n",
    "    with open(\"data/snapshot.json\", \"r\") as file:\n",
    "        examples = json.load(file)\n",
    "    for example in examples:\n",
    "        seq = example['permutation']\n",
    "        svg = example['svg_string']\n",
    "        pi = Permutation(seq)\n",
    "        assert pi._repr_svg_() == svg\n"
   ]
  },
  {
   "cell_type": "markdown",
   "metadata": {},
   "source": [
    "## További tesztelési lehetőség\n",
    "\n",
    "Készítsünk véletlen ciklus felbontást, és számítsuk ki a hozzá tartozó permutációt! A két függvényben \n",
    "`permutáció -> ciklus felbontás` és `ciklus felbontás -> permutáció` valószínűleg nem követjük el ugyanazt a hibát! "
   ]
  },
  {
   "cell_type": "code",
   "execution_count": null,
   "metadata": {},
   "outputs": [],
   "source": [
    "import random\n",
    "import itertools\n",
    "\n",
    "def cycle_to_perm(cycles, n):\n",
    "    perm = list(range(n))\n",
    "    for cycle in cycles:\n",
    "        for x, y in itertools.pairwise(cycle):\n",
    "            perm[x] = y \n",
    "        perm[cycle[-1]] = cycle[0]\n",
    "    return perm\n",
    "\n",
    "def random_cycles(n):\n",
    "    ## not efficient in theory!\n",
    "    points = list(range(n))\n",
    "    cycles = []\n",
    "    while points:\n",
    "        i = points.pop(0)\n",
    "        k = random.randint(0, len(points))\n",
    "        if k>0:\n",
    "            c = [i]\n",
    "            for _ in range(k):\n",
    "                j = random.randrange(len(points))\n",
    "                c.append(points.pop(j))\n",
    "            cycles.append(tuple(c))\n",
    "\n",
    "    return cycles\n",
    "        \n"
   ]
  },
  {
   "cell_type": "code",
   "execution_count": null,
   "metadata": {},
   "outputs": [],
   "source": [
    "def pop(lst, i, n):\n",
    "    if i == n-1:\n",
    "        return lst[i]\n",
    "        \n",
    "    value = lst[i]\n",
    "    lst[i] = lst[n-1]\n",
    "    root = i\n",
    "    while root < n:\n",
    "        new_root = root \n",
    "        child = 2*root+1\n",
    "        \n",
    "        if child < n and lst[child] < lst[new_root]:\n",
    "            new_root = child\n",
    "        child = child+1\n",
    "        \n",
    "        if child < n and lst[child] < lst[new_root]:\n",
    "            new_root = child\n",
    "\n",
    "        if root == new_root:\n",
    "            break\n",
    "        \n",
    "        lst[root], lst[new_root] = lst[new_root], lst[root]\n",
    "        root = new_root\n",
    "        \n",
    "    return value\n",
    "\n",
    "def random_cycles2(n):\n",
    "    ## more efficient in theory\n",
    "    points = list(range(n))\n",
    "    cycles = []\n",
    "    while n>0:\n",
    "        k = random.randrange(0, n)\n",
    "        c = [pop(points, 0, n)]\n",
    "        n -= 1\n",
    "        for _ in range(k):\n",
    "            j = random.randrange(n)\n",
    "            c.append(pop(points, j ,n))\n",
    "            n -= 1\n",
    "        if len(c)>1:\n",
    "            cycles.append(tuple(c))\n",
    "\n",
    "    return cycles\n"
   ]
  },
  {
   "cell_type": "code",
   "execution_count": null,
   "metadata": {},
   "outputs": [],
   "source": [
    "n = 10\n",
    "c = random_cycles2(n)\n",
    "p = cycle_to_perm(c, n)\n",
    "def str_p(p):\n",
    "    return \", \".join(f'{head}->{tail}' for head, tail in enumerate(p))\n",
    "\n",
    "print(f\"c = {c}\\np = {str_p(p)}\")"
   ]
  },
  {
   "cell_type": "code",
   "execution_count": null,
   "metadata": {},
   "outputs": [],
   "source": [
    "n = 10\n",
    "points = list(range(n))\n",
    "while n:\n",
    "    print(f\"{pop(points, 0, n)}, {points[:n-1]}\")\n",
    "    n -= 1"
   ]
  },
  {
   "cell_type": "code",
   "execution_count": null,
   "metadata": {},
   "outputs": [],
   "source": [
    "%%ipytest\n",
    "\n",
    "def test_Permutation_str():\n",
    "    n = 10\n",
    "    for _ in range(100):\n",
    "        c = random_cycles(n)\n",
    "        p = cycle_to_perm(c, n)\n",
    "        assert str(Permutation(p)) == f\"cycles : {c}\"\n",
    "\n"
   ]
  },
  {
   "cell_type": "code",
   "execution_count": null,
   "metadata": {},
   "outputs": [],
   "source": [
    "\n",
    "%timeit random_cycles(10_000)\n",
    "%timeit random_cycles2(10_000)\n",
    "\n",
    "%timeit random_cycles(100_000)\n",
    "%timeit random_cycles2(100_000)\n"
   ]
  },
  {
   "cell_type": "markdown",
   "metadata": {},
   "source": [
    "# Szorgalmi feladat"
   ]
  },
  {
   "cell_type": "markdown",
   "metadata": {},
   "source": [
    "Implementáljuk a `RandomNames` osztályt.\n",
    "\n",
    "A egyedeknek legyen egy `names` property-je, ami olvasáskor a névsort az\n",
    "eredeti sorrendben adja vissza, és íráskor beállítja az új névsort. A\n",
    "`RandomNames` legyen iterálható és az `__iter__` metódusa egy végtelen\n",
    "generátort adjon vissza, ami véletlen sorrendben megy végig a neveken,\n",
    "ha végig ért akkor újra kezdi újrasorsolt véletlen sorrendben. Az\n",
    "egyedek legyenek függvényszerűek is (`__call__` metódus). A függvény\n",
    "hívás eredménye legyen egyetlen találomra választott név a névsorból.\n",
    "\n",
    "Emlékeztető: Egy osztályban a `@property` dekorátorral tudunk property\n",
    "mezőt létrehozni. A dekorált függvény szolgál a mező kiolvasára. Ha\n",
    "írhatóvá szeretnénk tenni a mezőt, akkor a `mezőnév.setter` dekorátort\n",
    "kell használni.\n",
    "\n",
    "Pl.\n",
    "```python\n",
    "class RandomNames:\n",
    "    \n",
    "    @property\n",
    "    def names(self):\n",
    "        pass\n",
    "   \n",
    "    @names.setter\n",
    "    def names(self, new_value):\n",
    "        pass\n",
    "\n",
    "```\n",
    "\n",
    "A `names` mező írásakor végezzen ellenőrzést a függvény. Azaz ha nem\n",
    "sztringekből álló sorozattal hívjuk meg, akkor dobjon `TypeError`-t. A\n",
    "kapott nevek első betűjét írja át nagy betűvé, a többit viszont írja át\n",
    "kis betűre. Figyeljünk arra, hogy `rn.names = 'Attila'` hibát kell, hogy\n",
    "dobjon, de a sorozat nem csak lista lehet, hanem bármi amin végig lehet\n",
    "iterálni!\n",
    "\n",
    "Pl.\n",
    "```python\n",
    "    rn = RandomNames(['anDoR'])\n",
    "    rn.names # -> ['Andor']\n",
    "    rn.names = ['ALADÁR', 'elemér']\n",
    "    rn.names # -> ['Aladár', 'Elemér']\n",
    "```\n",
    "\n",
    "A véletlenszerű sorrend előállításához használhatjuk a `random` modul,\n",
    "`shuffle` függvényét. Figyeljünk arra, hogy ez elronthatja az eredeti\n",
    "sorrendet!\n",
    "\n",
    "Inicializáláskor az egyed kap egy névsort. Ezt kezelje úgy, mintha\n",
    "`names` tulajdonságot írtuk volna!\n",
    "\n",
    "Írjunk teszt függvényt! Ez ellenőrizze az inicializálást, ill. `names`\n",
    "tulajdonság írását, olvasását. Úgy is, hogy a kettő között az iterátort\n",
    "is használtuk.\n",
    "\n"
   ]
  },
  {
   "cell_type": "code",
   "execution_count": null,
   "metadata": {},
   "outputs": [],
   "source": [
    "import random\n",
    "\n",
    "\n",
    "class RandomNames:\n",
    "\n",
    "    def __init__(self, names):\n",
    "        self.names = names\n",
    "\n",
    "    @property\n",
    "    def names(self):\n",
    "        return list(self._names)\n",
    "        pass\n",
    "\n",
    "    @names.setter\n",
    "    def names(self, new_value):\n",
    "        if isinstance(new_value, str):\n",
    "            raise TypeError\n",
    "        try:\n",
    "            new_value = [value.capitalize() for value in  new_value]\n",
    "        except:\n",
    "            raise TypeError\n",
    "        self._names = new_value\n",
    "\n",
    "    def __iter__(self):\n",
    "        names = self.names\n",
    "        while True:\n",
    "            random.shuffle(names)\n",
    "            yield from names\n",
    "\n",
    "    def __call__(self):\n",
    "        return random.choice(self._names)\n",
    "\n",
    "    def __str__(self):\n",
    "        return self.names\n",
    "\n",
    "    def __repr__(self):\n",
    "        return f\"{type(self).__name__}({self.names})\""
   ]
  },
  {
   "cell_type": "code",
   "execution_count": null,
   "metadata": {},
   "outputs": [],
   "source": [
    "%%ipytest\n",
    "from collections import Counter\n",
    "\n",
    "from pytest import raises\n",
    "\n",
    "def test_typeerror():\n",
    "    with raises(TypeError):\n",
    "        RandomNames(\"Aladár\")\n",
    "\n",
    "    with raises(TypeError):\n",
    "        RandomNames([1,2,3])\n",
    "\n",
    "    rn = RandomNames([])\n",
    "    with raises(TypeError):\n",
    "        rn.names = [1, 2]\n",
    "\n",
    "    with raises(TypeError):\n",
    "        rn.names = \"Aladár\"\n",
    "\n",
    "def test_init():\n",
    "    names = [\"AlAdÁr\", \"jáNos\"]\n",
    "    cap_names = [name.capitalize() for name in names]\n",
    "\n",
    "    rn = RandomNames(names)\n",
    "    assert rn.names == cap_names\n",
    "\n",
    "    names.append(\"elemér\")\n",
    "\n",
    "    assert rn.names == cap_names\n",
    "\n",
    "    it = iter(rn)\n",
    "    next(it)\n",
    "\n",
    "    assert rn.names == cap_names\n",
    "\n",
    "    next(it)\n",
    "    assert rn.names == cap_names\n",
    "\n",
    "\n",
    "def test_call():\n",
    "    names = [\"AlAdÁr\", \"jáNos\"]\n",
    "    cap_names = [name.capitalize() for name in names]\n",
    "    rn = RandomNames(names)\n",
    "    assert rn() in cap_names\n",
    "    assert rn.names == cap_names\n",
    "\n",
    "    n = 1000\n",
    "    cnt = Counter(rn() for _ in range(2*n))\n",
    "    assert tuple(cnt.keys()) == tuple(rn.names)\n",
    "    test_stat = sum(((c-n)**2)/n for c in cnt.values())\n",
    "    assert test_stat < 1.96**2 ## kb. 5%-os tévedés\n",
    "\n",
    "def test_names():\n",
    "    rn = RandomNames([])\n",
    "    names = [\"AlAdÁr\", \"jáNos\"]\n",
    "    rn.names = names\n",
    "    assert rn.names == [name.capitalize() for name in names]\n",
    "\n",
    "def test_randomness():\n",
    "    \"\"\"????\"\"\"\n",
    "    pass"
   ]
  },
  {
   "cell_type": "code",
   "execution_count": null,
   "metadata": {},
   "outputs": [],
   "source": [
    "from itertools import islice\n",
    "\n",
    "rn = RandomNames((\"Micimackó\", \"Füles\", \"Róbert gida\", \"tigris\", \"malacka\"))\n",
    "\n",
    "print(\"calling `rn`\")\n",
    "for _ in range(10):\n",
    "    print(f\"{rn()=}\")\n",
    "\n",
    "print(\"iterating over `rn`\")\n",
    "for name in islice(rn, 10):\n",
    "    print(f\"{name=}\")\n",
    "\n",
    "print(\"iterating over `rn` in pair\")\n",
    "for name1, name2 in islice(zip(rn, rn), 10):\n",
    "    print(f\"{name1=:>20}, {name2=:>20}\")\n"
   ]
  },
  {
   "cell_type": "markdown",
   "metadata": {},
   "source": [
    "# Numpy (Numerikus python) könyvtár"
   ]
  },
  {
   "cell_type": "markdown",
   "metadata": {},
   "source": [
    "  - [Numpy bevezető `w3schools`](https://www.w3schools.com/python/numpy/default.asp)\n"
   ]
  },
  {
   "cell_type": "markdown",
   "metadata": {},
   "source": [
    "Előadáson volt szó róla. Nagyon sok könyvtár használja (`Pandas`, `Scipy`, `matplotlib`, `statmodels`, stb.).\n",
    "\n",
    " Általában, ha ,,tudományos'' számolásról van szó: vektorok, mátrixok, tömbök, akkor a háttérben a `numpy` van.\n",
    "\n",
    "Legfontosabb típusa az `ndarray` (többdimenziós tömb)"
   ]
  },
  {
   "cell_type": "code",
   "execution_count": null,
   "metadata": {},
   "outputs": [],
   "source": [
    "import numpy as np"
   ]
  },
  {
   "cell_type": "code",
   "execution_count": null,
   "metadata": {},
   "outputs": [],
   "source": [
    "help(np.ndarray)"
   ]
  },
  {
   "cell_type": "markdown",
   "metadata": {},
   "source": [
    "## `Numpy` tömb létrehozása"
   ]
  },
  {
   "cell_type": "markdown",
   "metadata": {},
   "source": [
    "\n",
    "Listából, vagy tuple-ból.\n",
    "\n",
    "Nézzük meg mit kapunk ha lista helyett generátorfüggvényt, `map` vagy `range` objektumot adunk meg\n"
   ]
  },
  {
   "cell_type": "code",
   "execution_count": null,
   "metadata": {},
   "outputs": [],
   "source": [
    "import numpy as np"
   ]
  },
  {
   "cell_type": "code",
   "execution_count": null,
   "metadata": {},
   "outputs": [],
   "source": [
    "x = np.array([1,2,3], dtype=np.int8)\n",
    "print(f\"{x.shape=}, {x.dtype=}, {x.strides=}, {x.ndim=}\")"
   ]
  },
  {
   "cell_type": "markdown",
   "metadata": {},
   "source": [
    "vagy adott méretű tömböt hozunk létre és azt utólag kitöltjük:"
   ]
  },
  {
   "cell_type": "code",
   "execution_count": null,
   "metadata": {},
   "outputs": [],
   "source": [
    "# x = np.zeros((2,3,4), dtype=np.float64)\n",
    "x = np.ones((2, 3, 12), dtype=np.int32)\n",
    "\n",
    "x"
   ]
  },
  {
   "cell_type": "code",
   "execution_count": null,
   "metadata": {},
   "outputs": [],
   "source": [
    "print(f\"{x.shape=}, {x.dtype=}, {x.strides=}, {x.ndim=}\")"
   ]
  },
  {
   "cell_type": "markdown",
   "metadata": {},
   "source": [
    "Véletlen értékekkel feltöltött tömb:"
   ]
  },
  {
   "cell_type": "code",
   "execution_count": null,
   "metadata": {},
   "outputs": [],
   "source": [
    "# találomra választott számok a (0,1)-ből\n",
    "uniform = np.random.uniform(0, 1, size=(10, 10, 10))\n",
    "\n",
    "# Gauss görbe, normális eloszlás\n",
    "\n",
    "gauss = np.random.normal(0, 1, size=(10, 10, 10))\n",
    "\n",
    "# np.random.rand(0, 1, size=(10, 10))"
   ]
  },
  {
   "cell_type": "code",
   "execution_count": null,
   "metadata": {},
   "outputs": [],
   "source": [
    "import matplotlib.pyplot as plt\n",
    "import math"
   ]
  },
  {
   "cell_type": "code",
   "execution_count": null,
   "metadata": {},
   "outputs": [],
   "source": [
    "sqrt2pi = math.sqrt(2*math.pi)\n",
    "plt.hist(uniform.reshape(-1), density=True, alpha=0.5, label=\"uniform\")\n",
    "plt.hist(gauss.reshape(-1)/sqrt2pi, density=True, alpha=0.5, label=\"Gauss\")\n",
    "plt.legend()\n",
    "plt.show()"
   ]
  },
  {
   "cell_type": "markdown",
   "metadata": {},
   "source": [
    "## Műveletek tömbökkel"
   ]
  },
  {
   "cell_type": "markdown",
   "metadata": {},
   "source": [
    "### Jellemzők kiolvasása:\n",
    "\n",
    "```\n",
    "x = np.zeros((10,20))\n",
    "```\n",
    "\n",
    "- `x.shape` a tömb méretét adja meg\n",
    "- `x.ndim` a dimenziók száma (`x.shape` hossza)\n",
    "- `x.dtype` a tömb elemeinek típusa\n",
    "- `x.stride`, `x.base`, `x.size` kevésbé érdekes számunkra\n",
    "\n",
    "### Jellemzők megváltoztatása:\n",
    "\n",
    "- `x.astype(np.uint8)` új tömböt ad vissza, amiben nem előjeles 8 bites számok fog lesznek.\n",
    "- `x.reshape(-1)` egy dimenziós tömb az eredmény, a tartalom nem változik.\n",
    "- `x.T` transzponálás, csak a `strides` paramétert változtatja (gyors).\n",
    "- `x.transpose(1,0)` transzponálás másképp.\n",
    "\n",
    "Mit méretű tömböt kapunk a következő sorral? Miért?\n",
    "\n",
    "```python\n",
    "x = np.zeros((10,20))\n",
    "x.reshape((5,2,5,4)).transpose(0,2,1,3).reshape(25, -1)\n",
    "```"
   ]
  },
  {
   "cell_type": "code",
   "execution_count": null,
   "metadata": {},
   "outputs": [],
   "source": [
    "x = np.zeros((10,20))\n",
    "x.reshape((5,2,5,4)).transpose(0,2,1,3).reshape(25, -1).shape"
   ]
  },
  {
   "cell_type": "code",
   "execution_count": null,
   "metadata": {},
   "outputs": [],
   "source": [
    "import numpy as np"
   ]
  },
  {
   "cell_type": "code",
   "execution_count": null,
   "metadata": {},
   "outputs": [],
   "source": [
    "x = np.random.normal(0, 1, (4, 6))\n",
    "print(f\"{hex(id(x))=}, {x.shape=}, {x.ndim=}, {x.dtype=}, {x.strides=},  {x.base=}, {x.data=}\")\n",
    "y = x.reshape(-1)\n",
    "print(f\"{hex(id(y))=}, {y.shape=}, {y.ndim=}, {y.dtype=}, {y.strides=},  {hex(id(y.base))=}, {y.data=}\")\n"
   ]
  },
  {
   "cell_type": "code",
   "execution_count": null,
   "metadata": {},
   "outputs": [],
   "source": [
    "\n",
    "y[y<0] = 0\n",
    "print(x)"
   ]
  },
  {
   "cell_type": "code",
   "execution_count": null,
   "metadata": {},
   "outputs": [],
   "source": [
    "x = np.random.normal(0, 1, (5, 6))\n",
    "print(f\"{hex(id(x))=}, {x.shape=}, {x.ndim=}, {x.dtype=}, {x.strides=},  {x.base=}, {x.data=}\")\n",
    "y = x.astype(np.float32)\n",
    "print(f\"{hex(id(y))=}, {y.shape=}, {y.ndim=}, {y.dtype=}, {y.strides=},  {y.base=}, {y.data=}\")"
   ]
  },
  {
   "cell_type": "code",
   "execution_count": null,
   "metadata": {},
   "outputs": [],
   "source": [
    "y[y<0] = 0\n",
    "print(x)"
   ]
  },
  {
   "cell_type": "code",
   "execution_count": null,
   "metadata": {},
   "outputs": [],
   "source": [
    "x = x.round(3)\n",
    "print(x)\n",
    "print(x.transpose(1,0))\n"
   ]
  },
  {
   "cell_type": "markdown",
   "metadata": {},
   "source": [
    "## Elemenkénti műveletek\n",
    "\n",
    "Amit megszoktunk, hogy számokkal működik, tömbökkel (`np.array`) is fog.\n",
    "pl.\n"
   ]
  },
  {
   "cell_type": "code",
   "execution_count": null,
   "metadata": {},
   "outputs": [],
   "source": [
    "x = np.random.standard_normal((2, 3))\n",
    "y = np.random.standard_normal((2, 3))\n",
    "x, y, x+y, x*y, x-y, x/y, x//y, x**2"
   ]
  },
  {
   "cell_type": "markdown",
   "metadata": {},
   "source": [
    "Matematikai függvények is alkalmazhatóak, többnyire `np.` előtaggal.\n",
    "\n",
    "pl."
   ]
  },
  {
   "cell_type": "code",
   "execution_count": null,
   "metadata": {},
   "outputs": [],
   "source": [
    "x = np.random.standard_normal((2, 3))\n",
    "np.exp(x), np.abs(x), np.log(np.abs(x))\n"
   ]
  },
  {
   "cell_type": "markdown",
   "metadata": {},
   "source": [
    "Ezeknek a függvényeknek van `out` és `where` paraméterük."
   ]
  },
  {
   "cell_type": "code",
   "execution_count": null,
   "metadata": {},
   "outputs": [],
   "source": [
    "x = np.arange(10).reshape(2,-1)\n",
    "y = np.ones_like(x)\n",
    "np.add(y, x, out=y, where=x>5)\n",
    "print(y)"
   ]
  },
  {
   "cell_type": "markdown",
   "metadata": {},
   "source": [
    "## Összegzés, szorzás, max, min (redukció)"
   ]
  },
  {
   "cell_type": "markdown",
   "metadata": {},
   "source": [
    "`for` ciklus helyett egy tömb összegét, maximumát, szorzatát stb. a megfelelő metódus meghívásával is ki lehet számolni.\n",
    "\n",
    "- Gyorsabb\n",
    "- Kevesebb hiba lehetőség\n",
    "- Olvashatóbb\n",
    "\n",
    "Ezeknek a függvényeknek két szokásos extra paramétere van: `axis`, `keepdims`\n",
    "\n",
    "Alapértelmezésben a teljes tömböt egy számra redukálják, ha az `axis` meg van adva, akkor az adott tengely mentén redukálnak.\n",
    "\n",
    "Példák:"
   ]
  },
  {
   "cell_type": "code",
   "execution_count": null,
   "metadata": {},
   "outputs": [],
   "source": [
    "x = np.arange(75).reshape(3,5,5)\n",
    "\n",
    "print(f\"{x.sum()=}\")\n",
    "print(f\"{x.sum(axis=1).shape=}\")\n",
    "print(f\"{x.sum(axis=(1,2)).shape=}\")\n",
    "print(f\"{x.sum(axis=(1,2), keepdims=True).shape=}\")\n"
   ]
  },
  {
   "cell_type": "markdown",
   "metadata": {},
   "source": [
    "További példák"
   ]
  },
  {
   "cell_type": "code",
   "execution_count": null,
   "metadata": {},
   "outputs": [],
   "source": [
    "x = np.random.uniform(size=(2, 3))\n",
    "\n",
    "with np.printoptions(precision=4):\n",
    "    for op in [np.max, np.min, np.sum,  np.cumsum, np.prod, np.cumprod]:\n",
    "        # op_name = f\"np.{op.__name__}\"\n",
    "        print(f\"op={op.__name__}\")\n",
    "        print(f\"{op(x)=}\")\n",
    "        print(f\"{op(x, axis=0)=}\")\n",
    "        if not op.__name__.startswith(\"cum\"):\n",
    "            print(f\"{op(x, axis=0, keepdims=True)=}\")\n",
    "        print(\"=\"*50)\n",
    "\n",
    "\n"
   ]
  },
  {
   "cell_type": "markdown",
   "metadata": {},
   "source": [
    "Mint mindig ha valamire nem emlékszünk a dokumentáció segít:\n",
    "\n",
    "pl.\n",
    "```\n",
    "help(np.sum)\n",
    "```"
   ]
  },
  {
   "cell_type": "markdown",
   "metadata": {},
   "source": [
    "## Véletlenszám generálás"
   ]
  },
  {
   "cell_type": "markdown",
   "metadata": {},
   "source": [
    "Ezek a függvények az `np.random` modulban vannak\n",
    "\n",
    "Legfontosabbak:\n",
    "\n",
    "- `np.random.uniform(a, b, size=(10,10))` `size` méretű tömb, minden elem találomra választott szám `(a,b)`-ből\n",
    "- `np.random.normal(mu, sigma, size=(10,10))` `size` méretű tömb, minden elem normális eloszlású $\\mu$ eltolás $\\sigma$ skála paraméterrel.\n",
    "- `np.random."
   ]
  },
  {
   "cell_type": "code",
   "execution_count": null,
   "metadata": {},
   "outputs": [],
   "source": [
    "print(f\"    {np.random.uniform(0, 1, 5)=}\")\n",
    "print(f\"     {np.random.normal(0, 1, 5)=}\")\n",
    "print(f\"{np.random.binomial(10, 0.5, 5)=}\")\n",
    "print(f\"{np.random.binomial( 1, 0.5, 5)=}\")\n",
    "print(f\"{np.random.permutation(5)=}\")"
   ]
  },
  {
   "cell_type": "markdown",
   "metadata": {},
   "source": [
    "Reprodukálhatóság:"
   ]
  },
  {
   "cell_type": "code",
   "execution_count": null,
   "metadata": {},
   "outputs": [],
   "source": [
    "np.random.seed(3)\n",
    "print(f\"{np.random.binomial( 1, 0.5, 5)=}\")\n",
    "np.random.seed(3)\n",
    "print(f\"{np.random.binomial( 1, 0.5, 5)=}\")\n",
    "np.random.seed(3)\n",
    "print(f\"{np.random.binomial( 1, 0.5, 5)=}\")\n"
   ]
  },
  {
   "cell_type": "markdown",
   "metadata": {},
   "source": [
    "A `seed`-et egyszer szokás beállítani a notebook elején."
   ]
  },
  {
   "cell_type": "markdown",
   "metadata": {},
   "source": [
    "## Indexelés"
   ]
  },
  {
   "cell_type": "markdown",
   "metadata": {},
   "source": [
    "A szokásos `slice` jelölés mellett logikai vektor is lehet index és lista is."
   ]
  },
  {
   "cell_type": "code",
   "execution_count": null,
   "metadata": {},
   "outputs": [],
   "source": [
    "with np.printoptions(linewidth=110, precision=4):\n",
    "    x = np.random.normal(0, 1, 10)\n",
    "    print(f\"{x=}\")\n",
    "    print(f\"{x>0.2=}\")\n",
    "    print(f\"{x[x>0.2]=}\")\n",
    "    print(f\"{x[[1,3,9]]=}\")\n"
   ]
  },
  {
   "cell_type": "markdown",
   "metadata": {},
   "source": [
    "## Broadcasting"
   ]
  },
  {
   "cell_type": "markdown",
   "metadata": {},
   "source": [
    "Azonos méretű tömböket összeadhatunk, szorozhatunk.\n",
    "\n",
    "Két tömb `a` és `b` kompatibilis, ha\n",
    "\n",
    "- `a.ndim=len(a.shape)` és `b.ndim=len(b.shape)` azonos\n",
    "- és `a.shape[i] == b.shape[i]` vagy az egyik 1\n",
    "\n",
    "\n",
    "pl. `a = np.zeros((1, 1, 3))` és ` c = np.zeros((2, 3, 3))` kompatibilis, de egyik sem kompatibilis a `c = np.zeros((2, 3, 1))` tömbbel.\n",
    "\n",
    "Kompatibilis tömbökkel is lehet műveleteket végezni, ahol az alak 1, ott az érték ismétlődik."
   ]
  },
  {
   "cell_type": "code",
   "execution_count": null,
   "metadata": {},
   "outputs": [],
   "source": [
    "a = np.arange(1,10).reshape(1, 9) ## sorvektor\n",
    "b = np.arange(1,10).reshape(9, 1) ## oszlopvektor\n",
    "a*b"
   ]
  },
  {
   "cell_type": "markdown",
   "metadata": {},
   "source": [
    "Két tömb kompatibilissé tehető, ha néhány 1-est a shape elé írva kompatibilis tömböt kapunk. Ilyen esetben is értelmesek a műveletek."
   ]
  },
  {
   "cell_type": "code",
   "execution_count": null,
   "metadata": {},
   "outputs": [],
   "source": [
    "a = np.ones(10) ## sorvektor\n",
    "b = np.ones((10, 1)) ## oszlopvektor\n",
    "print(f\"{a.shape=}, {b.shape=},\\n{a*b=}\")\n",
    "\n",
    "a = np.ones(10) ## sorvektor\n",
    "b = np.ones((10)) ## oszlopvektor\n",
    "print(f\"{a.shape=}, {b.shape=},\\n{a*b=}\")\n"
   ]
  },
  {
   "cell_type": "markdown",
   "metadata": {},
   "source": [
    "Ha új dimenziót akarunk a tömbhöz adni, azt `None`-nal is megtehetjük"
   ]
  },
  {
   "cell_type": "code",
   "execution_count": null,
   "metadata": {},
   "outputs": [],
   "source": [
    "a = np.ones((10,20))\n",
    "print(f\"{a.shape=}, {(a[None]).shape=}\")\n",
    "\n",
    "print(f\"{a.shape=}, {(a[:,None]).shape=}\")\n",
    "print(f\"{a.shape=}, {(a[...,None]).shape=}\")"
   ]
  },
  {
   "cell_type": "markdown",
   "metadata": {},
   "source": [
    "Olvashatóbb megoldás az `np.expand_dims` függvény használata."
   ]
  },
  {
   "cell_type": "markdown",
   "metadata": {},
   "source": [
    "## Tömbök összefűzése"
   ]
  },
  {
   "cell_type": "markdown",
   "metadata": {},
   "source": [
    "- `np.concatenate`\n",
    "- `np.stack`\n",
    "\n",
    "Mindkettőnek hasonló, de a `stack` új dimenziót hoz létre és csak azonos méretű tömböket tud összerakni.\n"
   ]
  },
  {
   "cell_type": "code",
   "execution_count": null,
   "metadata": {},
   "outputs": [],
   "source": [
    "a = np.ones((1, 5))\n",
    "b = np.ones((1, 2))\n",
    "\n",
    "c = np.concatenate((a,b), axis=-1)\n",
    "print(f\"{c.shape=}\")\n",
    "\n",
    "d = np.stack((a, a, a), axis=1)\n",
    "print(f\"{d.shape=}\")\n"
   ]
  },
  {
   "cell_type": "markdown",
   "metadata": {},
   "source": [
    "# Matplotlib könyvtár"
   ]
  },
  {
   "cell_type": "markdown",
   "metadata": {},
   "source": [
    "Ez a leggyakrabban használt könyvtár ábrák készítéséhez.\n",
    "\n",
    "- [Matplotlib bevezető `w3schools`](https://www.w3schools.com/python/matplotlib_intro.asp)\n",
    "\n",
    "A `pyplot` modult általában `plt` alias-szal importáljuk.\n",
    "\n",
    "Leggyakrabban használt függvények:\n",
    "\n",
    "- `plt.plot`\n",
    "- `plt.scatter`\n",
    "- `plt.hist`\n",
    "- `plt.imshow`"
   ]
  },
  {
   "cell_type": "code",
   "execution_count": null,
   "metadata": {},
   "outputs": [],
   "source": [
    "import matplotlib.pyplot as plt"
   ]
  },
  {
   "cell_type": "code",
   "execution_count": null,
   "metadata": {},
   "outputs": [],
   "source": [
    "x =  np.random.binomial(1, 0.5, 10)\n",
    "print(x)\n",
    "y = np.concatenate(([0], (2*x-1).cumsum()))\n",
    "plt.plot(y)\n",
    "plt.show()"
   ]
  },
  {
   "cell_type": "markdown",
   "metadata": {},
   "source": [
    "Próbáljuk ki mi történik, ha a második argumentum egy string, pl. \"o-r\", vagy \"o:g\"\n",
    "\n",
    "A pontok `x,y` koordinátáját színét és méretét is megadhatjuk:"
   ]
  },
  {
   "cell_type": "code",
   "execution_count": null,
   "metadata": {},
   "outputs": [],
   "source": [
    "\n",
    "x = np.random.randint(100, size=(100))\n",
    "y = np.random.randint(100, size=(100))\n",
    "colors = np.random.randint(100, size=(100))\n",
    "sizes = 10 * np.random.randint(100, size=(100))\n",
    "\n",
    "plt.grid()\n",
    "plt.scatter(x, y, c=colors, s=sizes, alpha=0.5, cmap='nipy_spectral')\n",
    "\n",
    "plt.colorbar()\n",
    "\n",
    "plt.show()\n"
   ]
  },
  {
   "cell_type": "markdown",
   "metadata": {},
   "source": [
    "### Hisztogram"
   ]
  },
  {
   "cell_type": "code",
   "execution_count": null,
   "metadata": {},
   "outputs": [],
   "source": [
    "x = np.random.standard_normal(10000)\n",
    "plt.hist(x, density=True, bins=np.linspace(-3.5, 3.5, 15))\n",
    "plt.grid()\n",
    "plt.show()"
   ]
  },
  {
   "cell_type": "markdown",
   "metadata": {},
   "source": [
    "A `matplotlib` mellett más ábrakészítő könyvtárak is vannak:\n",
    "\n",
    "- `seaborn`\n",
    "- `plotly`\n",
    "- `plotnine`"
   ]
  },
  {
   "cell_type": "markdown",
   "metadata": {},
   "source": [
    "# Conway Game of Life"
   ]
  },
  {
   "cell_type": "markdown",
   "metadata": {},
   "source": [
    "\n",
    "The Game of Life is a cellular automaton created by mathematician John Conway in 1970. The game consists of a board of cells that are either on or off. One creates an initial configuration of these on/off states and observes how it evolves. There are four simple rules to determine the next state of the game board, given the current state:\n",
    "\n",
    "- **Overpopulation**: if a living cell is surrounded by more than three living cells, it dies.\n",
    "- **Stasis**: if a living cell is surrounded by two or three living cells, it survives.\n",
    "- **Underpopulation**: if a living cell is surrounded by fewer than two living cells, it dies.\n",
    "- **Reproduction**: if a dead cell is surrounded by exactly three cells, it becomes a live cell.\n",
    "\n",
    "\n",
    "Írjunk egy osztályt a játékhoz, pl. az `__init__` metódus hozza létre a megadott konfigurációnak megfelelő objektumot. Legyen egy `step` metódus, ami a rendszert a következő állapotába viszi és az `__str__` metódus pedig\n",
    "valahogy ábrázolja az aktuális állapotot.\n",
    "\n",
    "Tegyük fel, hogy a rács amin a rendszer él, egy $m\\times n$-es rács, ahol mindkét irányban ciklikusan körbemegyünk,\n",
    "azaz a csúcsokat modulo $m$ ill. modulo $n$ tekintjük.\n"
   ]
  },
  {
   "cell_type": "code",
   "execution_count": null,
   "metadata": {},
   "outputs": [],
   "source": [
    "class ConwayGoL:\n",
    "\n",
    "    def __init__(self, state):\n",
    "        self.state = list(state)\n",
    "\n",
    "    def step(self):\n",
    "        return self\n",
    "\n",
    "    def __repr__(self):\n",
    "        return f\"{type(self).__name__}({self.state})\""
   ]
  },
  {
   "cell_type": "code",
   "execution_count": null,
   "metadata": {},
   "outputs": [],
   "source": [
    "import random\n",
    "\n",
    "init_state = [] ## ???\n",
    "conway = ConwayGoL(init_state)\n",
    "\n",
    "conway.step()\n"
   ]
  },
  {
   "cell_type": "markdown",
   "metadata": {},
   "source": [
    "A játék állapotának leírásához egy $m\\times n$ rács minden pontjáról tudni kell, hogy foglalt-e vagy sem.\n",
    "\n",
    "```python\n",
    "m, n = 11, 11\n",
    "state = [[0]*n for _ in range(m)]\n",
    "```\n",
    "\n",
    "Véletlenszerű kezdeti állapot:\n",
    "```python\n",
    "state = [[random.randint(0,1) for _ in range(n)] for _ in range(m)]\n",
    "```"
   ]
  },
  {
   "cell_type": "code",
   "execution_count": null,
   "metadata": {},
   "outputs": [],
   "source": [
    "def random_state(n, m, p):\n",
    "    return [[int(random.random()<p) for _ in range(m)] for _ in range(n)]\n",
    "\n",
    "state = random_state(5, 6, 0.2)\n",
    "print(state)"
   ]
  },
  {
   "cell_type": "markdown",
   "metadata": {},
   "source": [
    "Szebb megjelenítés?"
   ]
  },
  {
   "cell_type": "code",
   "execution_count": null,
   "metadata": {},
   "outputs": [],
   "source": [
    "def as_matrix(lst, n):\n",
    "    return [lst[i:i+n] for i in range(0, len(lst), n)]\n",
    "\n",
    "print('\\n'.join(''.join(map(str, line)) for line in state))\n"
   ]
  },
  {
   "cell_type": "code",
   "execution_count": null,
   "metadata": {},
   "outputs": [],
   "source": [
    "for symbols in [\n",
    "    \"\\u2b1c\\u2b1b\",\n",
    "    \"·♥\",\n",
    "    \"🟡🟥\"\n",
    "    ]:\n",
    "    print('\\n'.join(''.join(symbols[x] for x in line) for line in state))\n"
   ]
  },
  {
   "cell_type": "code",
   "execution_count": null,
   "metadata": {},
   "outputs": [],
   "source": [
    "import matplotlib.pyplot as plt\n",
    "\n",
    "img = plt.matshow(state, cmap=\"Pastel1\", vmax=1, vmin=0, alpha=0.8)\n",
    "img.axes.axis(\"off\")\n",
    "n, m = len(state), len(state[0])\n",
    "for pos in range(0, n+1):\n",
    "    img.axes.axhline(y=pos-0.5, color=\"gray\")\n",
    "for pos in range(0, m+1):\n",
    "    img.axes.axvline(x=pos-0.5, color=\"gray\")\n",
    "\n",
    "plt.show()\n"
   ]
  },
  {
   "cell_type": "code",
   "execution_count": null,
   "metadata": {},
   "outputs": [],
   "source": [
    "\n",
    "def cgol_str(self):\n",
    "    symbols = \"\\u2b1c\\u2b1b\" # ⬜⬛\n",
    "    return '\\n'.join(''.join(symbols[x] for x in line) for line in self.state)\n",
    "\n",
    "ConwayGoL.__str__ = cgol_str\n",
    "\n"
   ]
  },
  {
   "cell_type": "code",
   "execution_count": null,
   "metadata": {},
   "outputs": [],
   "source": [
    "conway = ConwayGoL(state)\n",
    "print(conway)"
   ]
  },
  {
   "cell_type": "markdown",
   "metadata": {},
   "source": [
    "A `step` metódushoz ki kellene számolni egy adott csúcs foglalt szomszédainak számát `cnt`. Ha ez kész,\n",
    "akkor az $i$ csúcs új állapota:\n",
    "\n",
    "$$\n",
    "    \\text{state}_{t+1}[i]=\n",
    "    \\begin{cases}\n",
    "    1 &\\text{Ha $\\text{cnt}[i]\\in\\{2,3\\}$ és $\\text{state}_t[i]=1$}\\\\\n",
    "    1 &\\text{Ha $\\text{cnt}[i]\\in\\{3\\}$ és $\\text{state}_t[i]=0$}\\\\\n",
    "    0 &\\text{különben}\n",
    "    \\end{cases}\n",
    "$$"
   ]
  },
  {
   "cell_type": "code",
   "execution_count": null,
   "metadata": {},
   "outputs": [],
   "source": [
    "def newstate(state, count):\n",
    "    return [int((c==3)|((c==2) & (s==1))) for s, c in  zip(state, count)]"
   ]
  },
  {
   "cell_type": "code",
   "execution_count": null,
   "metadata": {},
   "outputs": [],
   "source": [
    "import ipytest\n",
    "ipytest.autoconfig()"
   ]
  },
  {
   "cell_type": "code",
   "execution_count": null,
   "metadata": {},
   "outputs": [],
   "source": [
    "%%ipytest\n",
    "\n",
    "def test_newstate():\n",
    "    res = [0]*9\n",
    "    res[2] = 1\n",
    "    res[3] = 1\n",
    "    assert newstate([1]*9, list(range(9))) == res\n",
    "    res = [0]*9\n",
    "    res[3] = 1\n",
    "    assert newstate([0]*9, list(range(9))) == res\n"
   ]
  },
  {
   "cell_type": "code",
   "execution_count": null,
   "metadata": {},
   "outputs": [],
   "source": [
    "def count_neighbors(state):\n",
    "    delta = [(0,-1), (0, 1), (1,-1), (1,0), (1,1), (-1,-1), (-1,0), (-1,1)]\n",
    "    m, n = len(state), len(state[0])\n",
    "    return [ [sum(state[(i+di) % m][(j+dj) % n] for di, dj in delta) for j in range(n)] for i in range(m)]\n",
    "\n",
    "def cgol_step(self):\n",
    "    counts = count_neighbors(self.state)\n",
    "    self.state = [ newstate(line, cnt) for line, cnt in zip(self.state, counts) ]\n",
    "    return self\n",
    "\n",
    "ConwayGoL.step = cgol_step"
   ]
  },
  {
   "cell_type": "code",
   "execution_count": null,
   "metadata": {},
   "outputs": [],
   "source": [
    "@classmethod\n",
    "def cgol_from_random_state(cls, n, m,  p):\n",
    "    return cls(random_state(n, m, p))\n",
    "\n",
    "ConwayGoL.from_random_state=cgol_from_random_state"
   ]
  },
  {
   "cell_type": "code",
   "execution_count": null,
   "metadata": {},
   "outputs": [],
   "source": [
    "conway = ConwayGoL.from_random_state(5, 10, 0.2)\n",
    "print(conway)\n",
    "print(*count_neighbors(conway.state), sep='\\n')"
   ]
  },
  {
   "cell_type": "code",
   "execution_count": null,
   "metadata": {},
   "outputs": [],
   "source": [
    "conway = ConwayGoL.from_random_state(5, 5, 0.25)\n",
    "print(conway)\n",
    "print(\"-\"*20)\n",
    "print(conway.step())"
   ]
  },
  {
   "cell_type": "markdown",
   "metadata": {},
   "source": [
    "Tudunk-e valami animációszerűt készíteni? Jupyter notebook-ban pl. a következő képpen lehet:"
   ]
  },
  {
   "cell_type": "code",
   "execution_count": null,
   "metadata": {},
   "outputs": [],
   "source": [
    "from ipywidgets import Output\n",
    "from time import sleep\n"
   ]
  },
  {
   "cell_type": "code",
   "execution_count": null,
   "metadata": {},
   "outputs": [],
   "source": [
    "\n",
    "out = Output()\n",
    "display(out)\n",
    "conway = ConwayGoL.from_random_state(n=21, m=51, p=0.2)\n",
    "\n",
    "for i in range(50):\n",
    "    out.clear_output(True)\n",
    "    with out:\n",
    "        print(f\"After {i} steps:\\n{conway}\")\n",
    "    sleep(0.15)\n",
    "    conway.step()\n"
   ]
  },
  {
   "cell_type": "markdown",
   "metadata": {},
   "source": [
    "## Ugyanez `numpy` tömbbel"
   ]
  },
  {
   "cell_type": "code",
   "execution_count": null,
   "metadata": {},
   "outputs": [],
   "source": [
    "import numpy as np"
   ]
  },
  {
   "cell_type": "markdown",
   "metadata": {},
   "source": [
    "### Random `state`"
   ]
  },
  {
   "cell_type": "code",
   "execution_count": null,
   "metadata": {},
   "outputs": [],
   "source": [
    "def random_state_np(m, n, p):\n",
    "    return np.random.binomial(1, p, size=(m, n)).astype(np.int8)\n"
   ]
  },
  {
   "cell_type": "code",
   "execution_count": null,
   "metadata": {},
   "outputs": [],
   "source": [
    "print(random_state_np(11, 21, 0.2))"
   ]
  },
  {
   "cell_type": "markdown",
   "metadata": {},
   "source": [
    "### `__str__` unicode karakterrel"
   ]
  },
  {
   "cell_type": "code",
   "execution_count": null,
   "metadata": {},
   "outputs": [],
   "source": [
    "\n",
    "symbols_array = np.array([\"\\u2b1c\", \"\\u2b1b\"])\n",
    "\n",
    "def str_state_np(state):\n",
    "    return '\\n'.join(map(''.join, symbols_array[state]))"
   ]
  },
  {
   "cell_type": "code",
   "execution_count": null,
   "metadata": {},
   "outputs": [],
   "source": [
    "print(str_state_np(random_state(11, 21, 0.2)))"
   ]
  },
  {
   "cell_type": "markdown",
   "metadata": {},
   "source": [
    "### Szomszédszám `pad`-el"
   ]
  },
  {
   "cell_type": "code",
   "execution_count": 47,
   "metadata": {},
   "outputs": [],
   "source": [
    "def count_neighbors_np(state, mode='wrap'):\n",
    "    count = np.pad(state, pad_width=((1,1), (1,1)), mode=mode)\n",
    "    count = count[2:]+ count[1:-1] + count[:-2]\n",
    "    count = count[:, 2:] + count[:, 1:-1] + count[:,:-2]\n",
    "    return count-state"
   ]
  },
  {
   "cell_type": "code",
   "execution_count": null,
   "metadata": {},
   "outputs": [],
   "source": [
    "state = random_state_np(5, 8, 0.2)\n",
    "print(str_state_np(state))\n",
    "print(count_neighbors_np(state))"
   ]
  },
  {
   "cell_type": "code",
   "execution_count": 49,
   "metadata": {},
   "outputs": [],
   "source": [
    "def new_state_np(state, mode='wrap'):\n",
    "    count = count_neighbors_np(state, mode=mode)\n",
    "    return ((count == 3)|((count == 2) & (state==1))).astype(np.int8)"
   ]
  },
  {
   "cell_type": "code",
   "execution_count": null,
   "metadata": {},
   "outputs": [],
   "source": [
    "x = np.arange(5)\n",
    "(x<4)&(x>2)"
   ]
  },
  {
   "cell_type": "code",
   "execution_count": null,
   "metadata": {},
   "outputs": [],
   "source": [
    "state0 = random_state_np(11, 21, 0.2)\n",
    "state1 = new_state_np(state0)\n",
    "print(str_state_np(state0))\n",
    "print('='*50)\n",
    "print(str_state_np(state1))"
   ]
  },
  {
   "cell_type": "code",
   "execution_count": null,
   "metadata": {},
   "outputs": [],
   "source": [
    "state = random_state_np(11, 21, 0.2)\n",
    "plt.imshow(state, cmap='Pastel1_r', vmax=1, vmin=0)\n",
    "plt.xticks(np.arange(state.shape[1]+1)-.5, minor=True)\n",
    "plt.xticks([])\n",
    "plt.yticks(np.arange(state.shape[0]+1)-.5, minor=True)\n",
    "plt.yticks([])\n",
    "plt.grid(which=\"minor\", color=\"gray\", linestyle='-', linewidth=1)\n",
    "plt.axis()\n",
    "\n",
    "for (i, j), cnt in np.ndenumerate(count_neighbors_np(state)):\n",
    "    plt.text(j, i, str(cnt), ha=\"center\", va=\"center\")\n"
   ]
  },
  {
   "cell_type": "code",
   "execution_count": null,
   "metadata": {},
   "outputs": [],
   "source": [
    "plt.imshow(state, cmap='Pastel1_r', vmax=1, vmin=0)\n",
    "plt.xticks(np.arange(state.shape[1]+1)-.5, minor=True)\n",
    "plt.xticks([])\n",
    "plt.yticks(np.arange(state.shape[0]+1)-.5, minor=True)\n",
    "plt.yticks([])\n",
    "plt.grid(which=\"minor\", color=\"gray\", linestyle='-', linewidth=1)\n",
    "plt.axis()\n",
    "\n",
    "for (i, j), cnt in np.ndenumerate(new_state_np(state)):\n",
    "    plt.text(j, i, str(cnt), ha=\"center\", va=\"center\")\n"
   ]
  },
  {
   "cell_type": "code",
   "execution_count": null,
   "metadata": {},
   "outputs": [],
   "source": [
    "out = Output()\n",
    "display(out)\n",
    "state = random_state_np(n=51, m=21, p=0.2)\n",
    "\n",
    "for i in range(50):\n",
    "    out.clear_output(True)\n",
    "    with out:\n",
    "        print(f\"After {i} steps:\\n{str_state_np(state)}\")\n",
    "    sleep(0.15)\n",
    "    state = new_state_np(state)\n"
   ]
  },
  {
   "cell_type": "markdown",
   "metadata": {},
   "source": [
    "## Parancssoros script"
   ]
  },
  {
   "cell_type": "markdown",
   "metadata": {},
   "source": [
    "Ha parancssorból dolgozunk, akkor valami ilyesmit lehetne tenni"
   ]
  },
  {
   "cell_type": "code",
   "execution_count": null,
   "metadata": {},
   "outputs": [],
   "source": [
    "%%writefile conway.py\n",
    "\n",
    "import random\n",
    "\n",
    "\n",
    "def random_state(m, n, p):\n",
    "    return [ [ int(random.random()<p) for _ in range(n) ] for _ in range(m) ]\n",
    "\n",
    "def count_neighbors_np(state, mode='wrap'):\n",
    "    count = np.pad(state, pad_width=((1,1), (1,1)), mode=mode)\n",
    "    count = count[2:]+ count[1:-1] + count[:-2]\n",
    "    count = count[:, 2:] + count[:, 1:-1] + count[:,:-2]\n",
    "    return count-state\n",
    "\n",
    "def newstate(state, count):\n",
    "    return [int((c==3)|((c==2) & (s==1))) for s, c in  zip(state, count)]\n",
    "\n",
    "class ConwayGoL:\n",
    "    symbols = \"\\u2b1c\\u2b1b\"\n",
    "\n",
    "    def __init__(self, state):\n",
    "        self.state = list(state)\n",
    "\n",
    "    def step(self):\n",
    "        counts = count_neighbors(self.state)\n",
    "        self.state = [ newstate(line, cnt) for line, cnt in zip(self.state, counts) ]\n",
    "        return self\n",
    "\n",
    "\n",
    "    def __str__(self):\n",
    "        symbols = self.symbols\n",
    "        return '\\n'.join(''.join(symbols[x] for x in line) for line in self.state)\n",
    "\n",
    "    def __repr__(self):\n",
    "        return f\"{type(self).__name__}({self.state})\"\n",
    "\n",
    "    @classmethod\n",
    "    def from_random_state(cls, m, n, p):\n",
    "        return cls(random_state(m, n, p))\n",
    "\n",
    "    def is_empty(self):\n",
    "        return not any(any(line) for line in self.state)\n",
    "\n",
    "\n",
    "def clear_terminal(n):\n",
    "    print(f\"{chr(27)}[{n+1}A\", end=\"\")\n",
    "\n",
    "def main(m=11, n=25, p=0.2, nsteps=10, clear_screen=clear_terminal):\n",
    "    from time import sleep\n",
    "    conway = ConwayGoL.from_random_state(m, n, p)\n",
    "    for i in range(nsteps+1):\n",
    "        if i>0:\n",
    "            clear_screen(m)\n",
    "        print(f\"after {i} step:\")\n",
    "        print(conway)\n",
    "        sleep(0.2)\n",
    "        conway.step()\n",
    "        if conway.is_empty():\n",
    "            break\n",
    "\n",
    "if __name__ == \"__main__\":\n",
    "    main()\n"
   ]
  },
  {
   "cell_type": "markdown",
   "metadata": {},
   "source": [
    "Ha valamit már megírtunk és szeretnénk használni, `import`-tal elérhető. Pl."
   ]
  },
  {
   "cell_type": "markdown",
   "metadata": {},
   "source": [
    "### Tudunk-e paramétereket adni a python scriptnek?\n",
    "\n",
    "Amikor egy python scriptet futtatunk, a parancssor (amivel a futást indítottuk) a `sys` modul `argv` változójában érhető el."
   ]
  },
  {
   "cell_type": "code",
   "execution_count": null,
   "metadata": {},
   "outputs": [],
   "source": [
    "import sys\n",
    "sys.argv"
   ]
  },
  {
   "cell_type": "code",
   "execution_count": null,
   "metadata": {},
   "outputs": [],
   "source": [
    "! python -c 'import sys; print(sys.argv)' -alma\n"
   ]
  },
  {
   "cell_type": "markdown",
   "metadata": {},
   "source": [
    "Egy nagyon egyszerű megoldás, ha minden opciónak a neve a paraméter amit beállít és egyenlőségjel után az értéke:\n",
    "pl. n=11 m=25 nstep=10 p=0.2"
   ]
  },
  {
   "cell_type": "code",
   "execution_count": null,
   "metadata": {},
   "outputs": [],
   "source": [
    "cmdline = \"conway.py -n=11 -m=25 -nstep=10 -p=0.2\"\n",
    "argv = cmdline.split()\n",
    "params =[param.split(\"=\") for param in argv[1:]]\n",
    "params"
   ]
  },
  {
   "cell_type": "markdown",
   "metadata": {},
   "source": [
    "Minden paraméterről tudni kellene, hogy milyen típusú!"
   ]
  },
  {
   "cell_type": "code",
   "execution_count": null,
   "metadata": {},
   "outputs": [],
   "source": [
    "param_types={'-n': int, '-m': int, '-nstep': int, '-p': float}\n",
    "params = {k.replace(\"-\",\"\"): param_types[k](v)  for k, v in (param.split(\"=\") for param in argv[1:])}\n",
    "params"
   ]
  },
  {
   "cell_type": "markdown",
   "metadata": {},
   "source": [
    "Ezek után a `main` függvényt a megadott paraméterekkel meg tudjuk hívni:\n",
    "\n",
    "```\n",
    "    main(**params)\n",
    "```\n",
    "Mi van a `default` értékekkel, `help`-pel stb.\n",
    "\n",
    "Ezeket mind meg tudnánk írni, de nem kell. Van kész megoldás `python`-ban.\n",
    "\n",
    "Az `argparse` könvytár mindent megcsinál, ami nekünk kell."
   ]
  },
  {
   "cell_type": "code",
   "execution_count": null,
   "metadata": {},
   "outputs": [],
   "source": [
    "import argparse\n",
    "\n",
    "help(argparse)"
   ]
  },
  {
   "cell_type": "markdown",
   "metadata": {},
   "source": [
    "A `conway.py` file végét cseréljük le erre.\n",
    "```python\n",
    "if __name__ == \"__main__\":\n",
    "    import argparse\n",
    "    \n",
    "    parser = argparse.ArgumentParser(description='Conways Game of Life')\n",
    "\n",
    "    parser.add_argument(\n",
    "        '-n', '--nrows',\n",
    "        type=int,\n",
    "        default=11,\n",
    "        help='number of rows'\n",
    "        )\n",
    "\n",
    "    parser.add_argument(\n",
    "        '-m', '--ncols',\n",
    "        type=int,\n",
    "        default=25,\n",
    "        help='number of columns'\n",
    "        )\n",
    "\n",
    "    parser.add_argument(\n",
    "        '-p', '--density',\n",
    "        type=float,\n",
    "        default=0.2,\n",
    "        help='initial density')\n",
    "    \n",
    "    parser.add_argument(\n",
    "        '--nsteps',\n",
    "        type=int,\n",
    "        default=10,\n",
    "        help='steps to display'\n",
    "        )\n",
    "\n",
    "    args = parser.parse_args()\n",
    "    print(args)\n",
    "    \n",
    "    main(n=args.ncols, m=args.nrows, p=args.density, nsteps=args.nsteps)\n",
    "```\n",
    "    "
   ]
  },
  {
   "cell_type": "code",
   "execution_count": null,
   "metadata": {},
   "outputs": [],
   "source": [
    "# import importlib\n",
    "# importlib.reload(conway)"
   ]
  },
  {
   "cell_type": "code",
   "execution_count": null,
   "metadata": {},
   "outputs": [],
   "source": [
    "import conway\n",
    "\n",
    "out1 = Output()\n",
    "display(out1)\n",
    "\n",
    "with out1:\n",
    "    conway.main(clear_screen=lambda n: out1.clear_output(True))"
   ]
  },
  {
   "cell_type": "markdown",
   "metadata": {},
   "source": [
    "Az `argparse` könyvtár nem a legkényelmesebb. Alternatívák:\n",
    "\n",
    "- [Docopt](http://docopt.org/)\n",
    "- [Click](https://pypi.org/project/click/)\n",
    "- [clize](https://github.com/epsy/clize)\n",
    "\n",
    "és még sok másik is!"
   ]
  },
  {
   "cell_type": "markdown",
   "metadata": {},
   "source": [
    "## Itt is használhattunk volna dekorátort"
   ]
  },
  {
   "cell_type": "markdown",
   "metadata": {},
   "source": [
    "\n",
    "A `ConwayGoL` példában utólag adtunk metódusokat az osztályunkhoz. Ezt is megtehettük volna dekorátorral.  "
   ]
  },
  {
   "cell_type": "code",
   "execution_count": null,
   "metadata": {},
   "outputs": [],
   "source": [
    "def conway_method(f):\n",
    "    setattr(ConwayGoL, f.__name__, f)\n",
    "    return f\n",
    "\n",
    "\n",
    "@conway_method\n",
    "def dummy_method(self):\n",
    "    print(\"this is a message from the new method!\")\n",
    "\n",
    "c = ConwayGoL([])\n",
    "c.dummy_method()"
   ]
  },
  {
   "cell_type": "markdown",
   "metadata": {},
   "source": [
    "Azt is megtehettük volna, hogy a osztály nincs beleégetve a kódba."
   ]
  },
  {
   "cell_type": "code",
   "execution_count": null,
   "metadata": {},
   "outputs": [],
   "source": [
    "def new_method(cls):\n",
    "    def decorator(f):\n",
    "        setattr(cls, f.__name__, f)\n",
    "        return f\n",
    "    return decorator\n",
    "\n",
    "@new_method(ConwayGoL)\n",
    "def dummy_method(self):\n",
    "    print(\"Note that the old value of dummy_method is overwritten!\")"
   ]
  },
  {
   "cell_type": "code",
   "execution_count": null,
   "metadata": {},
   "outputs": [],
   "source": [
    "c.dummy_method()"
   ]
  },
  {
   "cell_type": "markdown",
   "metadata": {},
   "source": [
    "## Néhány minta"
   ]
  },
  {
   "cell_type": "code",
   "execution_count": 82,
   "metadata": {},
   "outputs": [],
   "source": [
    "import urllib.request as request\n",
    "import zipfile\n",
    "\n",
    "url = \"https://conwaylife.com/patterns/all.zip\"\n",
    "url = \"https://conwaylife.com/patterns/83p7h1v1.cells\"\n",
    "with request.urlopen(url) as file:\n",
    "    btext = file.read()\n",
    "    # with open(\"/tmp/all.zip\", \"wb\") as file:\n",
    "    #     file.write(response.read())\n"
   ]
  },
  {
   "cell_type": "code",
   "execution_count": 85,
   "metadata": {},
   "outputs": [
    {
     "name": "stdout",
     "output_type": "stream",
     "text": [
      "! Lobster (spaceship)\n",
      "! Matthias Merzenich\n",
      "! https://conwaylife.com/wiki/Lobster_(spaceship)\n",
      "! https://conwaylife.com/patterns/83p7h1v1.cells\n",
      "...........OOO............\n",
      ".............O............\n",
      "........OO..O.............\n",
      "........OO................\n",
      "............OO............\n",
      "...........OO.............\n",
      "..........O..O............\n",
      "..........................\n",
      "........O..O..............\n",
      ".......O...O..............\n",
      "......O.OOO...............\n",
      ".....O....................\n",
      ".....O.............O.O..OO\n",
      "......O.............OO.O.O\n",
      ".OO.............OO..O....O\n",
      "O..OO..OO......O...O......\n",
      ".....O..O......O......OO..\n",
      ".........OO....O.O....OO..\n",
      "..O...O...O.....O.........\n",
      "......OO....O..O..........\n",
      ".O.O.....O...OO...........\n",
      "OO........O...............\n",
      ".....O....O...............\n",
      ".......O...O..............\n",
      "....OO.....O..............\n",
      "....O.....O...............\n"
     ]
    }
   ],
   "source": [
    "text = btext.decode(\"utf-8\")\n",
    "print(text)\n",
    "data = [[0 if c == \".\" else 1 for c in line] for line in text.splitlines() if not line.startswith(\"!\")]\n",
    "# print(np.array(data))"
   ]
  },
  {
   "cell_type": "code",
   "execution_count": 30,
   "metadata": {},
   "outputs": [
    {
     "name": "stdout",
     "output_type": "stream",
     "text": [
      "/tmp/all.zip\n"
     ]
    }
   ],
   "source": [
    "! ls /tmp/all.zip"
   ]
  },
  {
   "cell_type": "code",
   "execution_count": 93,
   "metadata": {},
   "outputs": [],
   "source": [
    "# ! unzip -l /tmp/all.zip | grep gun"
   ]
  },
  {
   "cell_type": "code",
   "execution_count": 94,
   "metadata": {},
   "outputs": [],
   "source": [
    "# ! unzip /tmp/all.zip bigun.cells"
   ]
  },
  {
   "cell_type": "code",
   "execution_count": 95,
   "metadata": {},
   "outputs": [],
   "source": [
    "# def decode_line(text):\n",
    "#     return [0 if c == '.' else 1 for c in text.strip()]\n",
    "\n",
    "# with open(\"bigun.cells\", \"r\") as file:\n",
    "#     lines = file.readlines()\n",
    "\n",
    "# print(\"\".join(line for line in lines if line.startswith(\"!\")))\n",
    "# data = [decode_line(line.strip()) for line in lines if not line.startswith(\"!\")]\n",
    "  \n",
    "# row_len = max((len(line) for line in data), default=0)\n",
    "# print(row_len)\n",
    "# data = [line + [0]*(row_len-len(line)) for line in data]"
   ]
  },
  {
   "cell_type": "code",
   "execution_count": 51,
   "metadata": {},
   "outputs": [],
   "source": [
    "from ipywidgets import Output\n",
    "from time import sleep\n",
    "import numpy as np\n"
   ]
  },
  {
   "cell_type": "code",
   "execution_count": 53,
   "metadata": {},
   "outputs": [],
   "source": [
    "symbols_array = np.array([\"\\u2b1c\", \"\\u2b1b\"])\n",
    "\n",
    "def str_state_np(state):\n",
    "    return '\\n'.join(map(''.join, symbols_array[state]))\n",
    "\n",
    "def count_neighbors_np(state, mode='wrap'):\n",
    "    count = np.pad(state, pad_width=((1,1), (1,1)), mode=mode)\n",
    "    count = count[2:]+ count[1:-1] + count[:-2]\n",
    "    count = count[:, 2:] + count[:, 1:-1] + count[:,:-2]\n",
    "    return count-state\n",
    "\n",
    "def new_state_np(state, mode='wrap'):\n",
    "    count = count_neighbors_np(state, mode=mode)\n",
    "    return ((count == 3)|((count == 2) & (state==1))).astype(np.int8)"
   ]
  },
  {
   "cell_type": "code",
   "execution_count": 91,
   "metadata": {},
   "outputs": [
    {
     "data": {
      "application/vnd.jupyter.widget-view+json": {
       "model_id": "0aaa5eb7cf914546b7638d02a701a3b7",
       "version_major": 2,
       "version_minor": 0
      },
      "text/plain": [
       "Output()"
      ]
     },
     "metadata": {},
     "output_type": "display_data"
    }
   ],
   "source": [
    "\n",
    "out = Output()\n",
    "display(out)\n",
    "\n",
    "state = np.pad(np.array(data), ((20, 0), (0, 20)), mode='constant')\n",
    "\n",
    "for i in range(100):\n",
    "    out.clear_output(True)\n",
    "    with out:\n",
    "        print(f\"After {i} steps:\\n{str_state_np(state)}\")\n",
    "    sleep(0.15)\n",
    "    state = new_state_np(state, \"constant\")\n",
    "    if (state == 0).all():\n",
    "        break\n"
   ]
  }
 ],
 "metadata": {
  "kernelspec": {
   "display_name": "python3.10",
   "language": "python",
   "name": "python3"
  },
  "language_info": {
   "codemirror_mode": {
    "name": "ipython",
    "version": 3
   },
   "file_extension": ".py",
   "mimetype": "text/x-python",
   "name": "python",
   "nbconvert_exporter": "python",
   "pygments_lexer": "ipython3",
   "version": "3.10.12"
  }
 },
 "nbformat": 4,
 "nbformat_minor": 2
}
