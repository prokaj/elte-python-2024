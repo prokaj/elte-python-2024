{
 "cells": [
  {
   "cell_type": "markdown",
   "metadata": {},
   "source": [
    "[![Open In Colab](https://colab.research.google.com/assets/colab-badge.svg)](https://colab.research.google.com/github/prokaj/elte-python-2024/blob/main/2024-10-02.ipynb)   "
   ]
  },
  {
   "cell_type": "markdown",
   "metadata": {},
   "source": [
    "# Házi feladatok\n",
    "\n"
   ]
  },
  {
   "cell_type": "markdown",
   "metadata": {},
   "source": [
    "## Feladat\n",
    "\n"
   ]
  },
  {
   "cell_type": "markdown",
   "metadata": {},
   "source": [
    "\n",
    "Írjunk egy függvényt `max_sum` névvel, ami a bemenetként kap egy számokból álló listát valamint egy `k`\n",
    "pozitív egész számot és kiszámolja azt a maximális értéket, amit a sorozat `k` egymást követő elemének összegzésével kaphatunk.\n",
    "\n",
    "\n",
    "pl. `max_sum(list(range(10)), 2)` értéke 17.\n",
    "\n",
    "Feltehető, hogy a bemenetként kapott számlista hossza legalább `k`"
   ]
  },
  {
   "cell_type": "code",
   "execution_count": null,
   "metadata": {},
   "outputs": [],
   "source": [
    "def max_sum(lst, k):\n",
    "    max_value = 0\n",
    "    for i in range(k):\n",
    "        max_value += lst[i]\n",
    "    for i in range(k, len(lst)):\n",
    "        value = 0\n",
    "        for j in range(k):\n",
    "            value += lst[i-j]\n",
    "        if value > max_value:\n",
    "            max_value = value\n",
    "    return max_value\n"
   ]
  },
  {
   "cell_type": "markdown",
   "metadata": {},
   "source": [
    "Néhány teszt eset:"
   ]
  },
  {
   "cell_type": "code",
   "execution_count": null,
   "metadata": {},
   "outputs": [
    {
     "name": "stdout",
     "output_type": "stream",
     "text": [
      "max_sum([1,2,3,4], 1)=4\n",
      "max_sum([1,2,3,4], 2)=7\n",
      "max_sum([1,2,-3,-4], 1)=2\n"
     ]
    }
   ],
   "source": [
    "print(f\"{max_sum([1,2,3,4], 1)=}\")\n",
    "print(f\"{max_sum([1,2,3,4], 2)=}\")\n",
    "print(f\"{max_sum([1,2,-3,-4], 1)=}\")\n",
    "\n"
   ]
  },
  {
   "cell_type": "markdown",
   "metadata": {},
   "source": [
    "Mi történik, ha a lista hosszú, pl. `n = 100_000`, `k` szintén nagy `k = 50_000`.\n",
    "\n",
    "A szükséges műveletek száma a naív megoldásnál $(n-k)*k$, ami az előző beállításnál `50_000^2 = 2.5e9`.\n",
    "\n",
    "Nézzük meg a futási időt, `n = 100, 500, 1000, 5_000, 10_000` és `k = n//2`-vel."
   ]
  },
  {
   "cell_type": "code",
   "execution_count": null,
   "metadata": {},
   "outputs": [
    {
     "name": "stdout",
     "output_type": "stream",
     "text": [
      "[100, 542195]\n",
      "[500, 13040516]\n",
      "[1000, 56547980]\n",
      "[5000, 853217277]\n",
      "[10000, 4552431166]\n"
     ]
    }
   ],
   "source": [
    "import time\n",
    "import random\n",
    "\n",
    "running_times = []\n",
    "for n in [100, 500, 1000, 5000, 10000]:\n",
    "    k = n//2\n",
    "    lst = [random.randint(0, 2_000_000_000) for _ in range(n)]\n",
    "    start_time = time.perf_counter_ns()\n",
    "    max_sum(lst, k)\n",
    "    running_times.append([n, time.perf_counter_ns()-start_time])\n",
    "\n",
    "print(*running_times, sep=\"\\n\")\n"
   ]
  },
  {
   "cell_type": "markdown",
   "metadata": {},
   "source": [
    "Lehet-e optimalizálni a megoldást?"
   ]
  },
  {
   "cell_type": "code",
   "execution_count": null,
   "metadata": {},
   "outputs": [],
   "source": [
    "def max_sum_fast(lst, k):\n",
    "    max_value = 0\n",
    "    for i in range(k):\n",
    "        max_value += lst[i]\n",
    "    value = max_value\n",
    "    for i in range(k, len(lst)):\n",
    "        value += lst[i] - lst[i-k]\n",
    "        if value > max_value:\n",
    "            max_value = value\n",
    "    return max_value\n"
   ]
  },
  {
   "cell_type": "markdown",
   "metadata": {},
   "source": [
    "Két megoldásunk van ugyanarra a feladatra, az egyik egyszerű és lassú, de megbizható, mert szó szerint leprogramoztuk a feladatot, a másik optimalizált.\n",
    "\n",
    "Tesztelés:\n",
    "\n",
    "Ha ugyanazt kapjuk mindkettővel, akkor valószínűleg mindkettő jó, ha nem akkor keressük meg az eltérés okát, javítsuk ki és teszteljünk újra."
   ]
  },
  {
   "cell_type": "code",
   "execution_count": null,
   "metadata": {},
   "outputs": [
    {
     "data": {
      "text/plain": [
       "True"
      ]
     },
     "metadata": {},
     "output_type": "display_data"
    }
   ],
   "source": [
    "max_sum([1,2,3,4], 1) == max_sum_fast([1,2,3,4], 1)"
   ]
  },
  {
   "cell_type": "code",
   "execution_count": null,
   "metadata": {},
   "outputs": [
    {
     "data": {
      "text/plain": [
       "True"
      ]
     },
     "metadata": {},
     "output_type": "display_data"
    }
   ],
   "source": [
    "max_sum([1,2,3,4], 2) == max_sum_fast([1,2,3,4], 2)"
   ]
  },
  {
   "cell_type": "code",
   "execution_count": null,
   "metadata": {},
   "outputs": [
    {
     "data": {
      "text/plain": [
       "True"
      ]
     },
     "metadata": {},
     "output_type": "display_data"
    }
   ],
   "source": [
    "max_sum([1,2,-3,-4], 1) == max_sum_fast([1,2,-3,-4], 1)"
   ]
  },
  {
   "cell_type": "markdown",
   "metadata": {},
   "source": [
    "Lehet-e ügyesebben csinálni?"
   ]
  },
  {
   "cell_type": "code",
   "execution_count": null,
   "metadata": {},
   "outputs": [],
   "source": [
    "test_cases = [([1, 2, 3, 4], 1), ([1, 2, 3, 4], 2), ([1,2,-3,-4], 1)]\n",
    "for lst, k in test_cases:\n",
    "    result = max_sum(lst, k)\n",
    "    result_fast = max_sum_fast(lst, k)\n",
    "    if result != result_fast:\n",
    "        print(f\"{lst=}, {k=} esetén a két függvényérték eltér:\\n\\tmax_sum: {result}\\n\\tmax_sum_fast: {result_fast}\")"
   ]
  },
  {
   "cell_type": "markdown",
   "metadata": {},
   "source": [
    "Az egyes teszt esetekhez írhatunk külön függvényeket is."
   ]
  },
  {
   "cell_type": "code",
   "execution_count": null,
   "metadata": {},
   "outputs": [],
   "source": [
    "def test_short_list():\n",
    "    test_cases = [([1, 2, 3, 4], 1), ([1, 2, 3, 4], 2), ([1,2,-3,-4], 1)]\n",
    "    for lst, k in test_cases:\n",
    "        assert max_sum(lst, k) == max_sum_fast(lst, k)\n",
    "\n",
    "n = 100\n",
    "max_int = 1<<31\n",
    "\n",
    "def test_random_list():\n",
    "    k = random.randint(1, n)\n",
    "    lst = [random.randint(-max_int, max_int) for _ in range(n)]\n",
    "    assert max_sum(lst, k) == max_sum_fast(lst, k)\n",
    "\n"
   ]
  },
  {
   "cell_type": "code",
   "execution_count": null,
   "metadata": {},
   "outputs": [
    {
     "name": "stdout",
     "output_type": "stream",
     "text": [
      "Test passed\n"
     ]
    }
   ],
   "source": [
    "test_short_list()\n",
    "test_random_list()\n",
    "test_random_list()\n",
    "test_random_list()\n",
    "print('Test passed')"
   ]
  },
  {
   "cell_type": "markdown",
   "metadata": {},
   "source": [
    "Most minden működött. Hiba esetén beszédesebb üzenetet kapunk, ha `pytest` modult használjuk. Jupyter notebookban ezt az `ipytest` modullal érjük el.\n",
    "Ezt külön telepíteni kell, nem része a Pythonnak."
   ]
  },
  {
   "cell_type": "code",
   "execution_count": null,
   "metadata": {},
   "outputs": [],
   "source": [
    "import importlib"
   ]
  },
  {
   "cell_type": "code",
   "execution_count": null,
   "metadata": {},
   "outputs": [
    {
     "name": "stdout",
     "output_type": "stream",
     "text": [
      "Collecting ipytest\n",
      "  Downloading ipytest-0.13.3-py3-none-any.whl (14 kB)\n",
      "Requirement already satisfied: ipython in /usr/local/lib/python3.10/dist-packages (from ipytest) (7.34.0)\n",
      "Requirement already satisfied: packaging in /usr/local/lib/python3.10/dist-packages (from ipytest) (23.1)\n",
      "Requirement already satisfied: pytest>=5.4 in /usr/local/lib/python3.10/dist-packages (from ipytest) (7.4.1)\n",
      "Requirement already satisfied: iniconfig in /usr/local/lib/python3.10/dist-packages (from pytest>=5.4->ipytest) (2.0.0)\n",
      "Requirement already satisfied: pluggy<2.0,>=0.12 in /usr/local/lib/python3.10/dist-packages (from pytest>=5.4->ipytest) (1.3.0)\n",
      "Requirement already satisfied: exceptiongroup>=1.0.0rc8 in /usr/local/lib/python3.10/dist-packages (from pytest>=5.4->ipytest) (1.1.3)\n",
      "Requirement already satisfied: tomli>=1.0.0 in /usr/local/lib/python3.10/dist-packages (from pytest>=5.4->ipytest) (2.0.1)\n",
      "Requirement already satisfied: setuptools>=18.5 in /usr/local/lib/python3.10/dist-packages (from ipython->ipytest) (67.7.2)\n",
      "Collecting jedi>=0.16 (from ipython->ipytest)\n",
      "  Downloading jedi-0.19.0-py2.py3-none-any.whl (1.6 MB)\n",
      "\u001b[2K     \u001b[90m━━━━━━━━━━━━━━━━━━━━━━━━━━━━━━━━━━━━━━━━\u001b[0m \u001b[32m1.6/1.6 MB\u001b[0m \u001b[31m18.8 MB/s\u001b[0m eta \u001b[36m0:00:00\u001b[0m\n",
      "\u001b[?25hRequirement already satisfied: decorator in /usr/local/lib/python3.10/dist-packages (from ipython->ipytest) (4.4.2)\n",
      "Requirement already satisfied: pickleshare in /usr/local/lib/python3.10/dist-packages (from ipython->ipytest) (0.7.5)\n",
      "Requirement already satisfied: traitlets>=4.2 in /usr/local/lib/python3.10/dist-packages (from ipython->ipytest) (5.7.1)\n",
      "Requirement already satisfied: prompt-toolkit!=3.0.0,!=3.0.1,<3.1.0,>=2.0.0 in /usr/local/lib/python3.10/dist-packages (from ipython->ipytest) (3.0.39)\n",
      "Requirement already satisfied: pygments in /usr/local/lib/python3.10/dist-packages (from ipython->ipytest) (2.16.1)\n",
      "Requirement already satisfied: backcall in /usr/local/lib/python3.10/dist-packages (from ipython->ipytest) (0.2.0)\n",
      "Requirement already satisfied: matplotlib-inline in /usr/local/lib/python3.10/dist-packages (from ipython->ipytest) (0.1.6)\n",
      "Requirement already satisfied: pexpect>4.3 in /usr/local/lib/python3.10/dist-packages (from ipython->ipytest) (4.8.0)\n",
      "Requirement already satisfied: parso<0.9.0,>=0.8.3 in /usr/local/lib/python3.10/dist-packages (from jedi>=0.16->ipython->ipytest) (0.8.3)\n",
      "Requirement already satisfied: ptyprocess>=0.5 in /usr/local/lib/python3.10/dist-packages (from pexpect>4.3->ipython->ipytest) (0.7.0)\n",
      "Requirement already satisfied: wcwidth in /usr/local/lib/python3.10/dist-packages (from prompt-toolkit!=3.0.0,!=3.0.1,<3.1.0,>=2.0.0->ipython->ipytest) (0.2.6)\n",
      "Installing collected packages: jedi, ipytest\n",
      "Successfully installed ipytest-0.13.3 jedi-0.19.0\n"
     ]
    }
   ],
   "source": [
    "if importlib.util.find_spec('ipytest') is None:\n",
    "    ! pip install ipytest\n",
    "import ipytest\n",
    "ipytest.autoconfig()"
   ]
  },
  {
   "cell_type": "code",
   "execution_count": null,
   "metadata": {},
   "outputs": [
    {
     "name": "stdout",
     "output_type": "stream",
     "text": [
      "\u001b[32m.\u001b[0m\u001b[32m.\u001b[0m\u001b[32m                                                                                           [100%]\u001b[0m\n",
      "\u001b[32m\u001b[32m\u001b[1m2 passed\u001b[0m\u001b[32m in 0.02s\u001b[0m\u001b[0m\n"
     ]
    }
   ],
   "source": [
    "%%ipytest\n",
    "\n",
    "def test_short_list():\n",
    "    test_cases = [([1, 2, 3, 4], 1), ([1, 2, 3, 4], 2), ([1,2,-3,-4], 1)]\n",
    "    for lst, k in test_cases:\n",
    "        assert max_sum(lst, k) == max_sum_fast(lst, k)\n",
    "\n",
    "n = 100\n",
    "max_int = 1<<31\n",
    "\n",
    "def test_random_list():\n",
    "    for _ in range(10):\n",
    "        k = random.randint(1, n)\n",
    "        lst = [random.randint(-max_int, max_int) for _ in range(n)]\n",
    "        assert max_sum(lst, k) == max_sum_fast(lst, k)\n"
   ]
  },
  {
   "cell_type": "markdown",
   "metadata": {},
   "source": [
    "## Feladat\n"
   ]
  },
  {
   "cell_type": "markdown",
   "metadata": {},
   "source": [
    "Írjunk egy függvényt `min_prod` névvel, ami a bemenetként kap egy számokból álló listát valamint egy `k` pozitív egész számot és kiszámolja azt a minimális értéket, amit a sorozat `k` egymást követő elemének összeszorzásával kaphatunk.\n",
    "\n",
    "pl. `min_prod(list(range(10)), 2)` értéke 0.\n",
    "\n",
    "Feltehető, hogy a bemenetként kapott számlista hossza legalább `k`."
   ]
  },
  {
   "cell_type": "markdown",
   "metadata": {},
   "source": [
    "Itt is kezdhetjük a nem optimalizált megoldással, csak az összeadást kell szorzásra cserélni és az üres szorzat 1 nem pedig 0."
   ]
  },
  {
   "cell_type": "code",
   "execution_count": null,
   "metadata": {},
   "outputs": [],
   "source": [
    "def min_prod(lst, k):\n",
    "    min_prod = 1\n",
    "    for i in range(k):\n",
    "        min_prod *= lst[i]\n",
    "\n",
    "    for i in range(k, len(lst)):\n",
    "        prod_value = 1\n",
    "        for j in range(k):\n",
    "            prod_value *= lst[i-j]\n",
    "        if prod_value < min_prod:\n",
    "            min_prod = prod_value\n",
    "\n",
    "    return min_prod"
   ]
  },
  {
   "cell_type": "markdown",
   "metadata": {},
   "source": [
    "Néhány teszt eset:"
   ]
  },
  {
   "cell_type": "code",
   "execution_count": null,
   "metadata": {},
   "outputs": [
    {
     "name": "stdout",
     "output_type": "stream",
     "text": [
      "min_prod([1,2,3,4], 1)=1\n",
      "min_prod([1,2,3,4], 2)=2\n",
      "min_prod([1,2,-3,-4], 1)=-4\n",
      "min_prod([1,2,-3,-4], 2)=-6\n",
      "min_prod([1,2,0,-3,-4,0], 3)=0\n"
     ]
    }
   ],
   "source": [
    "print(f\"{min_prod([1,2,3,4], 1)=}\")\n",
    "print(f\"{min_prod([1,2,3,4], 2)=}\")\n",
    "print(f\"{min_prod([1,2,-3,-4], 1)=}\")\n",
    "print(f\"{min_prod([1,2,-3,-4], 2)=}\")\n",
    "print(f\"{min_prod([1,2,0,-3,-4,0], 3)=}\")\n",
    "\n"
   ]
  },
  {
   "cell_type": "markdown",
   "metadata": {},
   "source": [
    "Optimalizált változat.\n",
    "\n",
    "Jó-e a következő?"
   ]
  },
  {
   "cell_type": "code",
   "execution_count": null,
   "metadata": {},
   "outputs": [],
   "source": [
    "def min_prod_fast(lst, k):\n",
    "    min_prod = 1\n",
    "    for i in range(k):\n",
    "        min_prod *= lst[i]\n",
    "\n",
    "    prod_value = min_prod\n",
    "    for i in range(k, len(lst)):\n",
    "        prod_value = (prod_value//lst[i-k])*lst[i]\n",
    "        if prod_value < min_prod:\n",
    "            min_prod = prod_value\n",
    "\n",
    "    return min_prod\n"
   ]
  },
  {
   "cell_type": "code",
   "execution_count": null,
   "metadata": {},
   "outputs": [
    {
     "name": "stdout",
     "output_type": "stream",
     "text": [
      "\u001b[32m.\u001b[0m\u001b[32m                                                                                            [100%]\u001b[0m\n",
      "\u001b[32m\u001b[32m\u001b[1m1 passed\u001b[0m\u001b[32m in 0.01s\u001b[0m\u001b[0m\n"
     ]
    }
   ],
   "source": [
    "%%ipytest\n",
    "\n",
    "def test_min_prod_short_list():\n",
    "    test_cases = [([1, 2, 3, 4], 1), ([1, 2, 3, 4], 2), ([1,2,-3,-4], 1)]\n",
    "    for lst, k in test_cases:\n",
    "        assert min_prod(lst, k) == min_prod_fast(lst, k)\n",
    "\n",
    "\n"
   ]
  },
  {
   "cell_type": "markdown",
   "metadata": {},
   "source": [
    "Nyugodtak lehetünk-e, hogy jó a függvényünk?"
   ]
  },
  {
   "cell_type": "code",
   "execution_count": null,
   "metadata": {},
   "outputs": [
    {
     "name": "stdout",
     "output_type": "stream",
     "text": [
      "\u001b[32m.\u001b[0m\u001b[32m                                                                                            [100%]\u001b[0m\n",
      "\u001b[32m\u001b[32m\u001b[1m1 passed\u001b[0m\u001b[32m in 0.02s\u001b[0m\u001b[0m\n"
     ]
    }
   ],
   "source": [
    "%%ipytest\n",
    "\n",
    "n = 100\n",
    "max_int = 1<<31\n",
    "\n",
    "def test_random_list():\n",
    "    for _ in range(10):\n",
    "        k = random.randint(1, n)\n",
    "        lst = [random.randint(-max_int, max_int) for _ in range(n)]\n",
    "        assert min_prod(lst, k) == min_prod_fast(lst, k)\n",
    "\n"
   ]
  },
  {
   "cell_type": "code",
   "execution_count": null,
   "metadata": {},
   "outputs": [
    {
     "name": "stdout",
     "output_type": "stream",
     "text": [
      "\u001b[32m.\u001b[0m\u001b[32m                                                                                            [100%]\u001b[0m\n",
      "\u001b[32m\u001b[32m\u001b[1m1 passed\u001b[0m\u001b[32m in 0.02s\u001b[0m\u001b[0m\n"
     ]
    }
   ],
   "source": [
    "%%ipytest\n",
    "\n",
    "n = 100\n",
    "max_int = 100\n",
    "\n",
    "def test_random_list():\n",
    "    for _ in range(10):\n",
    "        k = random.randint(1, n)\n",
    "        lst = [random.randint(-max_int, max_int) for _ in range(n)]\n",
    "        assert min_prod(lst, k) == min_prod_fast(lst, k)\n"
   ]
  },
  {
   "cell_type": "markdown",
   "metadata": {},
   "source": [
    "### Feladat\n",
    "\n",
    "Hogy lehetne kijavítani az optimalizált kódot?"
   ]
  },
  {
   "cell_type": "code",
   "execution_count": null,
   "metadata": {},
   "outputs": [],
   "source": [
    "def min_prod_fast(lst, k):\n",
    "    min_prod = 1\n",
    "    for i in range(k):\n",
    "        min_prod *= lst[i]\n",
    "\n",
    "    prod_value = min_prod\n",
    "    for i in range(k, len(lst)):\n",
    "        prod_value = (prod_value//lst[i-k])*lst[i]\n",
    "        if prod_value < min_prod:\n",
    "            min_prod = prod_value\n",
    "\n",
    "    return min_prod"
   ]
  },
  {
   "cell_type": "markdown",
   "metadata": {},
   "source": [
    "### Szorgalmi hf.\n",
    "\n",
    "Prímtényezős felbontás."
   ]
  },
  {
   "cell_type": "code",
   "execution_count": null,
   "metadata": {},
   "outputs": [],
   "source": [
    "def prime_factors(n):\n",
    "    factors = []\n",
    "    for i in range(2, n+1):\n",
    "        while n % i == 0:\n",
    "            factors.append(i)\n",
    "            n //= i\n",
    "    return factors"
   ]
  },
  {
   "cell_type": "markdown",
   "metadata": {},
   "source": [
    "Az előző kód a copilot javaslata a név alapján. Javítsuk ki, és gyorsítsunk rajta."
   ]
  },
  {
   "cell_type": "markdown",
   "metadata": {},
   "source": [
    "# További feladatok a múlt óráról megmaradtakon kívül"
   ]
  },
  {
   "cell_type": "markdown",
   "metadata": {},
   "source": [
    "### Feladat"
   ]
  },
  {
   "cell_type": "markdown",
   "metadata": {},
   "source": [
    "Adott egy dictionary, amiben hallgatók adatai szerepelnek. Minden neptun kódhoz két adat van feljegyezve, a név (`name`) és az előző félév tanulmányi átlaga (`avg`).\n",
    "\n",
    "Írjunk egy függvényt `list_students` névvel, aminek első paramétere a hallgatók adatait tartalmazó dictionary `students` névvel, a második pedig egy lebegő pontos szám a [1,5] intervallumból `min_avg` névvel, végül a visszatérési értéke azon hallgatók listája `name (neptun kód)` formátumban, akiknek az átlaga a megadott értéket elérte.\n",
    "\n",
    "A függvényünket lássuk el típus annotációval és adjuk hozzá a következő dokumentációs sztringet:\n",
    "\n",
    "```text\n",
    "list of students having at least min_avg result\n",
    "```\n",
    "\n",
    "A hallgatók neveit rendezzük lexikografikus sorrendbe.\n",
    "Pl.\n",
    "\n",
    "```python\n",
    "students = {\n",
    "    \"ACF234\": {\"name\": \"Kiss Lajos\", \"avg\": 3.5},\n",
    "    \"NBF4DF\": {\"name\": \"Nagy Blanka\" , \"avg\": 4.5},\n",
    "    \"KUDFGE\": {\"name\": \"Kiss Lajos\", \"avg\": 4.75},\n",
    "    \"BNDF23\": {\"name\": \"Boros Attila\", \"avg\": 2.75},\n",
    "    \"ADGTLE\": {\"name\": \"Poros Elek\", \"avg\": 2.0},\n",
    "}\n",
    "list_students(students, 4)\n",
    "# -> [\"Kiss Lajos (KUDFGE)\", \"Nagy Blanka (NBF4DF)\"]\n",
    "```\n",
    "\n",
    "A fenti függvény mellett írjunk teszt függvényt is, ami legalább az alábbi esetekre ellenőrzi a helyes működést.\n",
    "\n",
    "- A hallgatók adatait tartalmazó dictionary üres.\n",
    "\n",
    "- Legalább öt hallgatót tartalmazó adatsorból senki sincs aki eléri a megadott küszöböt.\n",
    "\n",
    "- Legalább öt hallgatót tartalmazó adatsorból mindenki eléri a megadott küszöböt.\n",
    "\n",
    "- Legalább öt hallgatót tartalmazó adatsorból körülbelül a hallgatók fele éri el a megadott küszöböt.\n",
    "\n",
    "- Van olyan hallgató, akinek tanulmányi átlaga pont a megadott küszöb."
   ]
  },
  {
   "cell_type": "code",
   "execution_count": null,
   "metadata": {},
   "outputs": [],
   "source": [
    "def list_students(students: dict, min_avg: float) -> list:\n",
    "    \"\"\"list of students having at least min_avg result\"\"\"\n",
    "    pass"
   ]
  },
  {
   "cell_type": "code",
   "execution_count": null,
   "metadata": {},
   "outputs": [
    {
     "name": "stdout",
     "output_type": "stream",
     "text": [
      "\u001b[32m.\u001b[0m\u001b[32m.\u001b[0m\u001b[32m.\u001b[0m\u001b[32m.\u001b[0m\u001b[32m.\u001b[0m\u001b[32m                                                                                        [100%]\u001b[0m\n",
      "\u001b[32m\u001b[32m\u001b[1m5 passed\u001b[0m\u001b[32m in 0.03s\u001b[0m\u001b[0m\n"
     ]
    }
   ],
   "source": [
    "%%ipytest\n",
    "\n",
    "def test_empty():\n",
    "    assert list_students({}, 2.0) == []\n",
    "\n",
    "def test_min_avg_high():\n",
    "    students = {\n",
    "        \"ACF234\": {\"name\": \"Kiss Lajos\", \"avg\": 3.5},\n",
    "        \"NBF4DF\": {\"name\": \"Nagy Blanka\" , \"avg\": 4.5},\n",
    "        \"KUDFGE\": {\"name\": \"Kiss Lajos\", \"avg\": 4.75},\n",
    "        \"BNDF23\": {\"name\": \"Boros Attila\", \"avg\": 2.75},\n",
    "        \"ADGTLE\": {\"name\": \"Poros Elek\", \"avg\": 2.0},\n",
    "    }\n",
    "    assert list_students(students, 4.8) == []\n",
    "\n",
    "def test_min_avg_low():\n",
    "    students = {\n",
    "        \"ACF234\": {\"name\": \"Kiss Lajos\", \"avg\": 3.5},\n",
    "        \"NBF4DF\": {\"name\": \"Nagy Blanka\" , \"avg\": 4.5},\n",
    "        \"KUDFGE\": {\"name\": \"Kiss Lajos\", \"avg\": 4.75},\n",
    "        \"BNDF23\": {\"name\": \"Boros Attila\", \"avg\": 2.75},\n",
    "        \"ADGTLE\": {\"name\": \"Poros Elek\", \"avg\": 2.0},\n",
    "    }\n",
    "    list_of_students = sorted((student['name'], neptun_id) for neptun_id, student in students.items())\n",
    "\n",
    "    assert list_students(students, 1.8) == [f\"{name} ({neptun})\" for name, neptun in list_of_students]\n",
    "\n",
    "\n",
    "def test_half():\n",
    "    students = {\n",
    "        \"ACF234\": {\"name\": \"Kiss Lajos\", \"avg\": 3.5},\n",
    "        \"NBF4DF\": {\"name\": \"Nagy Blanka\" , \"avg\": 4.5},\n",
    "        \"KUDFGE\": {\"name\": \"Kiss Lajos\", \"avg\": 4.75},\n",
    "        \"BNDF23\": {\"name\": \"Boros Attila\", \"avg\": 2.75},\n",
    "        \"ADGTLE\": {\"name\": \"Poros Elek\", \"avg\": 2.0},\n",
    "    }\n",
    "    assert list_students(students, 3.2) == [\n",
    "        \"Kiss Lajos (ACF234)\",\n",
    "        \"Kiss Lajos (KUDFGE)\",\n",
    "        \"Nagy Blanka (NBF4DF)\"\n",
    "        ]\n",
    "\n",
    "def test_equal():\n",
    "    students = {\n",
    "        \"ACF234\": {\"name\": \"Kiss Lajos\", \"avg\": 3.5},\n",
    "        \"NBF4DF\": {\"name\": \"Nagy Blanka\" , \"avg\": 4.5},\n",
    "        \"KUDFGE\": {\"name\": \"Kiss Lajos\", \"avg\": 4.75},\n",
    "        \"BNDF23\": {\"name\": \"Boros Attila\", \"avg\": 2.75},\n",
    "        \"ADGTLE\": {\"name\": \"Poros Elek\", \"avg\": 2.0},\n",
    "    }\n",
    "    assert list_students(students, 3.5) == [\n",
    "        \"Kiss Lajos (ACF234)\",\n",
    "        \"Kiss Lajos (KUDFGE)\",\n",
    "        \"Nagy Blanka (NBF4DF)\"\n",
    "        ]\n",
    "\n"
   ]
  },
  {
   "cell_type": "markdown",
   "metadata": {},
   "source": [
    "### Feladat"
   ]
  },
  {
   "cell_type": "markdown",
   "metadata": {},
   "source": [
    "Gráfok csúcsait gyakran rövid sztringekkel címkézik. Írjunk egy függvényt, aminek egyetlen paramétere az élek listája, visszatérési értéke pedig egy dictionary, ami minden csúcshoz egy listát tárol a szomszédos csúcsok címkéivel.\n",
    "\n",
    "Többszörös él esetén is minden csúcs legfeljebb egyszer szerepeljen a listában. A szomszédokat lexikografikusan rendezve soroljuk fel!\n",
    "\n",
    "Pl. ha\n",
    "\n",
    "```python\n",
    "edges = [(\"A\", \"B\"), (\"C\", \"A\"), (\"A\", \"D\"), (\"C\",\"D\"), (\"D\", \"C\"), (\"E\", \"E\")]\n",
    "```\n",
    "\n",
    "és a függvényünk neve `neighbors`, akkor a `neighbors(edges)` hívás eredménye:\n",
    "\n",
    "```\n",
    "{\n",
    "    \"A\" : [\"B\", \"C\", \"D\"],\n",
    "    \"B\" : [\"A\"],\n",
    "    \"C\" : [\"A\", \"D\"],\n",
    "    \"D\" : [\"A\", \"C\"],\n",
    "    \"E\" : [\"E\"],\n",
    "}\n",
    "```\n",
    "\n",
    "Lássuk el a függvényt típus annotációval és adjuk hozzá a következő dokumentációs sztringet:\n",
    "\n",
    "```text\n",
    "sparse adjacency matrix of a graph given by edges\n",
    "```\n",
    "\n",
    "A fenti függvény mellett írjunk teszt függvényt is, ami legalább az alábbi esetekre ellenőrzi a helyes működést.\n",
    "\n",
    "- Az élek listája üres.\n",
    "\n",
    "- Legalább öt él esetén minden él hurok él.\n",
    "\n",
    "- Legalább négy pont esetén bármely két pont között megy él.\n",
    "\n",
    "- Legalább öt él esetén nem összefüggő a gráf.\n",
    "\n",
    "- Legalább öt él esetén van többszörös él."
   ]
  },
  {
   "cell_type": "code",
   "execution_count": null,
   "metadata": {},
   "outputs": [],
   "source": [
    "def neighbors(edges: list) -> dict:\n",
    "    \"\"\"sparse adjacency matrix of a graph given by edges\"\"\"\n",
    "    pass"
   ]
  },
  {
   "cell_type": "code",
   "execution_count": null,
   "metadata": {},
   "outputs": [
    {
     "name": "stdout",
     "output_type": "stream",
     "text": [
      "\u001b[32m.\u001b[0m\u001b[32m.\u001b[0m\u001b[32m.\u001b[0m\u001b[32m.\u001b[0m\u001b[32m.\u001b[0m\u001b[32m                                                                                        [100%]\u001b[0m\n",
      "\u001b[32m\u001b[32m\u001b[1m5 passed\u001b[0m\u001b[32m in 0.03s\u001b[0m\u001b[0m\n"
     ]
    }
   ],
   "source": [
    "%%ipytest\n",
    "\n",
    "import itertools\n",
    "\n",
    "def test_empty():\n",
    "    assert neighbors([]) == {}\n",
    "\n",
    "def test_loops():\n",
    "    edges = [(\"A\", \"A\"), (\"B\", \"B\"), (\"C\", \"C\"), (\"D\", \"D\"), (\"E\", \"E\")]\n",
    "    assert neighbors(edges) == {\n",
    "        \"A\": [\"A\"],\n",
    "        \"B\": [\"B\"],\n",
    "        \"C\": [\"C\"],\n",
    "        \"D\": [\"D\"],\n",
    "        \"E\": [\"E\"]\n",
    "    }\n",
    "\n",
    "def test_complete():\n",
    "    nodes = \"ABCDE\"\n",
    "    edges = [(a, b) for a, b in itertools.combinations(nodes, r=2)]\n",
    "    result = {a: [b for b in nodes if b != a] for a in nodes}\n",
    "    assert neighbors(edges) == result\n",
    "\n",
    "def test_not_connected():\n",
    "    nodes = \"ABC\"\n",
    "    edges = [(a, b) for a, b in itertools.combinations(nodes, r=2)]\n",
    "    result = {a: [b for b in nodes if b != a] for a in nodes}\n",
    "\n",
    "    nodes = \"DEF\"\n",
    "    edges.extend((a, b) for a, b in itertools.combinations(nodes, r=2))\n",
    "    result.update({a: [b for b in nodes if b != a] for a in nodes})\n",
    "\n",
    "    assert neighbors(edges) == result\n",
    "\n",
    "def test_multiple_edge():\n",
    "    edges = [(\"A\", \"B\"), (\"C\", \"A\"), (\"A\", \"D\"), (\"C\",\"D\"), (\"D\", \"C\"), (\"E\", \"E\")]\n",
    "    assert neighbors(edges) == {\n",
    "        \"A\" : [\"B\", \"C\", \"D\"],\n",
    "        \"B\" : [\"A\"],\n",
    "        \"C\" : [\"A\", \"D\"],\n",
    "        \"D\" : [\"A\", \"C\"],\n",
    "        \"E\" : [\"E\"],\n",
    "    }"
   ]
  },
  {
   "cell_type": "markdown",
   "metadata": {},
   "source": [
    "### Feladat"
   ]
  },
  {
   "cell_type": "markdown",
   "metadata": {},
   "source": [
    "Éleivel adott egy élsúlyozott gráf. Írjunk egy függvényt, ami minden csúcsra kiszámolja a hozzá csatlakozó élek összsúlyát. A függvény egyetlen argumentuma egy lista, aminek elemei számhármasok `(a, b, w)` alakban. `a` és `b` az él két végpontja, `w` az `(a,b)` él súlya. Többszörös élek előfordulhatnak.\n",
    "\n",
    "A függvény visszatérési értéke egy dictionary, csúcsok a hozzájuk tartozó összsúllyal.\n",
    "pl. ha\n",
    "\n",
    "```python\n",
    "edges =  [(100, 200, 1), (100, 200, 2), (100, 1, -1), (1, 1, 5)]\n",
    "```\n",
    "\n",
    "és a függvényt `node_weight`-nek hívjuk, akkor\n",
    "\n",
    "```python\n",
    "node_weight(edges)\n",
    "```\n",
    "\n",
    "eredménye a következő dictionary\n",
    "\n",
    "```\n",
    "{100: 2, 200: 3, 1: 4}\n",
    "```\n",
    "\n",
    "Vegyük észre a hurok él hatását.\n",
    "\n",
    "Lássuk el a függvényt típus annotációval és adjuk hozzá a következő dokumentációs sztringet:\n",
    "\n",
    "```text\n",
    "node weights from edge weights\n",
    "```\n",
    "\n",
    "A fenti függvény mellett írjunk teszt függvényt is, ami legalább az alábbi esetekre ellenőrzi a helyes működést.\n",
    "\n",
    "- Az élek listája üres.\n",
    "\n",
    "- Legalább öt él esetén van hurok él.\n",
    "\n",
    "- Legalább öt él esetén minden élsúly 1.\n",
    "\n",
    "- Legalább öt él esetén az élsúlyok ,,véletlenszerűek”.\n",
    "\n",
    "- Legalább öt él esetén van többszörös él."
   ]
  },
  {
   "cell_type": "code",
   "execution_count": null,
   "metadata": {},
   "outputs": [],
   "source": [
    "def node_weight(edges: list) -> dict:\n",
    "    \"\"\"node weights from edge weights\"\"\"\n",
    "    pass"
   ]
  },
  {
   "cell_type": "code",
   "execution_count": null,
   "metadata": {},
   "outputs": [
    {
     "name": "stdout",
     "output_type": "stream",
     "text": [
      "\u001b[32m.\u001b[0m\u001b[32m.\u001b[0m\u001b[32m.\u001b[0m\u001b[32m                                                                                          [100%]\u001b[0m\n",
      "\u001b[32m\u001b[32m\u001b[1m3 passed\u001b[0m\u001b[32m in 0.05s\u001b[0m\u001b[0m\n"
     ]
    }
   ],
   "source": [
    "%%ipytest\n",
    "\n",
    "def test_empty():\n",
    "    assert node_weight([]) == {}\n",
    "\n",
    "def test_loop():\n",
    "    edges =  [(100, 200, 1), (100, 200, 2), (100, 1, -1), (1, 1, 5), (100, 3, 1)]\n",
    "    assert node_weight(edges) == {\n",
    "        100: 3,\n",
    "        200: 3,\n",
    "        1: 4,\n",
    "        3: 1\n",
    "    }\n",
    "\n",
    "\n",
    "def test_unit_weight():\n",
    "    edges =  [(100, 200, 1), (100, 200, 1), (100, 1, 1), (1, 1, 1), (100, 3, 1)]\n",
    "    assert node_weight(edges) == {\n",
    "        100: 4,\n",
    "        200: 2,\n",
    "        1: 2,\n",
    "        3: 1\n",
    "    }\n",
    "\n",
    "\n"
   ]
  },
  {
   "cell_type": "markdown",
   "metadata": {},
   "source": [
    "### Feladat\n",
    "\n",
    "Tegyük fel, hogy adott egy irányítatlan gráf két adattal a csúcsok számával, és az élek listájával.\n",
    "\n",
    "Ha a csúcsok száma $n$ akkor a gárf csúcsai $0,1,\\dots, n-1$. Az élek listája pedig csúcs párokból álló lista.\n",
    "\n",
    "Írjunk egy függvényt, ami a csúcs számból és az élek listájából visszaadja a szomszédsági mátrixot. Ez a mátrix $n\\times n$ méretű és az $a$. sor $b$. eleme az $a$ és $b$ csúcs közötti élek száma."
   ]
  },
  {
   "cell_type": "code",
   "execution_count": null,
   "metadata": {},
   "outputs": [],
   "source": [
    "def adj_matrix(n, edges):\n",
    "    pass"
   ]
  },
  {
   "cell_type": "markdown",
   "metadata": {},
   "source": [
    "### Feladat.\n",
    "\n",
    "A bemenő adat ugyanaz mint az előbb, de a kimenet egy lista (listák listája), ami minden csúcsra felsorolja a szomszédait."
   ]
  },
  {
   "cell_type": "code",
   "execution_count": null,
   "metadata": {},
   "outputs": [],
   "source": [
    "def adj_list(n, edges):\n",
    "    pass    \n"
   ]
  },
  {
   "cell_type": "markdown",
   "metadata": {},
   "source": [
    "### Feladat\n",
    "\n",
    "A feladat hasonló az előzőhöz, de a csúcsok szöveges címkékkel vannak megadva. Milyen típus lehetne használni a szomszédok listájának tárolásához. Mit használhatnánk, ha a töbsszörös élek érdektelenek?"
   ]
  },
  {
   "cell_type": "code",
   "execution_count": null,
   "metadata": {},
   "outputs": [],
   "source": [
    "def adj_list(edges):\n",
    "    pass"
   ]
  },
  {
   "cell_type": "markdown",
   "metadata": {},
   "source": [
    "### Feladat **\n",
    "\n",
    "Adott egy gráf a csúcshalmazzal és az élek listájával. Hogyan tudnánk az összefüggő komponenseket megkeresni, ábrázolni?"
   ]
  },
  {
   "cell_type": "markdown",
   "metadata": {},
   "source": [
    "### Feladat\n",
    "\n",
    "Hogyan tudnánk kisméretű halmazt $\\{0,\\dots,31\\}$ egészszámok segítségével reprezentálni? \n",
    "Írjuk meg az unió, metszet, különbség képzés műveleteket ehhez a ,,típushoz''!\n",
    "\n",
    "Írjunk egy `str_set` függvényt is, ami a halmazunkat a szokásos alakban kiírja.\n",
    "Ha az `x` egész az $\\{1, 5, 16\\}$ halmazt reprezentálja, akkor az `str_set(x)` visszatérési értéke legyen\n",
    "`\"{1, 5, 16}\"`."
   ]
  },
  {
   "cell_type": "markdown",
   "metadata": {},
   "source": [
    "### Feladat *\n",
    "\n",
    "Tekintsük az első $n$ szám $\\{0,\\dots,n-1\\}$ permutációit. A $p$ permutáció kisebb, mint $q$ ha $p\\neq q$ és az első helyen ahol eltérés van $p$ értéke kisebb mint $q$-é.\n",
    "$$\n",
    "    i_0 = \\min\\{i\\colon p_i\\neq q_i\\}, \\quad\\text{és}\\quad p_{i_0}<q_{i_0}\n",
    "$$\n",
    "\n",
    "Adott $p$ permutációra számoljuk a nagyságszerinti sorban következőt, ha nincs ilyen, mert $p$ legnagyobb permutáció, akkor a visszatérési érték `None`"
   ]
  },
  {
   "cell_type": "code",
   "execution_count": null,
   "metadata": {},
   "outputs": [],
   "source": [
    "def next_permutation(p):\n",
    "    pass"
   ]
  },
  {
   "cell_type": "markdown",
   "metadata": {},
   "source": [
    "### Feladat **\n",
    "\n",
    "Előadáson láttuk, hogy `list` típusnál az `.append` és `.pop` gyors műveletek. A háttérben az áll, hogy ha kimerítjük az előre lefoglalt helyeket, akkor nem egy új elemnek foglal helyet a python, hanem a lista hosszával arányos számú új elemnek. A lefoglalt memóriába kb 1.1-szer annyi elem fér le, mint ami éppen a listában van.\n",
    "\n",
    "Hogyan oldanánk meg a törlést. Van egy hosszú listánk. `.pop` művelettel elfogyasztjuk az elemeit. Hogyan érdemes a felszabadítani a memóriát?"
   ]
  },
  {
   "cell_type": "markdown",
   "metadata": {},
   "source": [
    "### Feladat\n",
    "\n",
    "Adott egy számokból álló lista. Az elemek sorba vannak rendezve. Írjunk egy függvényt, ami megszámolja hogy egy adott értéknél hány kisebb egyenlő érték fordul elő a listánkban. \n",
    "\n",
    "Írjuk meg lassú és az optimalizált változatot. Ne használjuk a Python beépített moduljait. "
   ]
  },
  {
   "cell_type": "code",
   "execution_count": null,
   "metadata": {},
   "outputs": [],
   "source": [
    "def count_not_greater(nums, value):\n",
    "    pass"
   ]
  },
  {
   "cell_type": "markdown",
   "metadata": {},
   "source": [
    "### Feladat\n",
    "\n",
    "Azonos hosszúságú sztringkekből álló listánk van. Számoljuk meg azon $i<j$ index  párok számát, ahol az $i$. és $j$. sztring legfeljebb 1 karakterben tér el egymástól."
   ]
  },
  {
   "cell_type": "markdown",
   "metadata": {},
   "source": []
  }
 ],
 "metadata": {
  "language_info": {
   "name": "python"
  }
 },
 "nbformat": 4,
 "nbformat_minor": 2
}
