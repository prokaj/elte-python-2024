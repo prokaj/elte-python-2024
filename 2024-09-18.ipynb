{
 "cells": [
  {
   "cell_type": "markdown",
   "metadata": {},
   "source": [
    "[![Open In Colab](https://colab.research.google.com/assets/colab-badge.svg)](https://colab.research.google.com/github/prokaj/2023-elte-python/blob/main/2024-09-18.ipynb)"
   ]
  },
  {
   "cell_type": "markdown",
   "metadata": {},
   "source": [
    "A munkafüzet első része követi a [Harvard cs50](https://cs50.harvard.edu/python/2022/) kurzus első előadásának felépítését."
   ]
  },
  {
   "cell_type": "markdown",
   "metadata": {},
   "source": [
    "# Eszközök\n",
    "\n",
    "Az órán a [colab](https://colab.research.google.com)-ot fogjuk használni. Ha valakinek már rutinosabb, pl. telepítve van a gépére Python, megfelelő szövegszerkesztő használja nyugodtan. Sokáig Jupyter notebookban fogunk dolgozni. "
   ]
  },
  {
   "cell_type": "markdown",
   "metadata": {},
   "source": [
    "# AI eszközök\n",
    "\n",
    "Pl. `Bard`, `ChatGPT`, `Github copilot`. Ezek használata a házi feladatokhoz **engedélyezett**. \n",
    "\n",
    "Legyen feltüntetve melyik eszközt használta az illető, \n",
    "mi volt a javaslat, mit javított rajta, esetleg mi volt a prompt. Következő alkalommal a többiekkel is meg kell osztani a tapasztalatokat."
   ]
  },
  {
   "cell_type": "markdown",
   "metadata": {},
   "source": [
    "# Kódolás Pythonnal\n",
    "\n",
    "Minden programozási nyelvnél az első program szokás szerint ,,hello world''.\n",
    "```\n",
    "print(\"Szia világ!\")\n",
    "```\n",
    "\n",
    "Mi Jupyter notebook-ot (munkafüzetet) fogunk használni. Ahhoz, hogy a fenti kód részlet futtatható legyen hozzunk létre egy ,,code cellát'', másoljuk oda a fenti kódrészletet és futtassuk le a cella mellett található nyíllal.\n",
    "\n",
    "Ha ez sikerült, elkészült az első Python programunk! "
   ]
  },
  {
   "cell_type": "markdown",
   "metadata": {},
   "source": [
    "# Függvények\n",
    "\n",
    "A függvények olyan utasítássorozatok (tevékenységek), amikről a gép, vagy programozási nyelv már tudja, hogyan kell végrehajtani. \n",
    "\n",
    "A fenti hello world programban  a `print` függvény tudja, hogyan kell megjeleníteni a megadott szöveget a kód cella alatti eredmény blokkban.\n",
    "\n",
    "A `print` függvénynek vannak argumentumai (paraméterei, bemenő adatai). A fenti példában a `\"Szia világ!\"` szöveg a paraméter."
   ]
  },
  {
   "cell_type": "markdown",
   "metadata": {},
   "source": [
    "# Kódhibák, bug-ok\n",
    "\n",
    "Hibák mindig előfodulhatnak, ez természetes. Ezeket egyszerűen ki kell javítani.\n",
    "\n",
    "Tegyük fel, hogy a fenti hello world programban véletlenül `print(\"Szia világ!\"`-ot gépelünk, lemarad a záró zárójel `)`. Ha szándékosan így írjuk, be a code cellába a kódot és megpróbáljuk futtatni, a python interpreter hibát fog jelezni.\n",
    "\n",
    "A hibaüzenet, amit kapunk gyakran segít kijavítani a hibát. Időnként nem olyan egyszerű megtalálni a valódi okot.\n"
   ]
  },
  {
   "cell_type": "code",
   "execution_count": null,
   "metadata": {},
   "outputs": [],
   "source": [
    "# Próbáljuk lefuttatni ezt a cellát!\n",
    "print(\"Szia világ!\""
   ]
  },
  {
   "cell_type": "code",
   "execution_count": null,
   "metadata": {},
   "outputs": [],
   "source": [
    "print(\"Szia világ)"
   ]
  },
  {
   "cell_type": "markdown",
   "metadata": {},
   "source": [
    "# Turbózzuk fel a ,,hello world'' programunkat!\n",
    " \n",
    "Kérjük be a felhasználó nevét és neki köszönjünk!\n",
    "\n",
    "Mi történik, ha a következővel próbálkozunk:"
   ]
  },
  {
   "cell_type": "code",
   "execution_count": null,
   "metadata": {},
   "outputs": [],
   "source": [
    "input(\"Hogy hívnak? \")\n",
    "print(\"Szia világ!\")"
   ]
  },
  {
   "cell_type": "markdown",
   "metadata": {},
   "source": [
    "\n",
    "\n",
    "Ez önmagában nem elég, valahol el kell tárolni a kapott értéket. Erre szolgálnak a változók."
   ]
  },
  {
   "cell_type": "markdown",
   "metadata": {},
   "source": [
    "# Változók\n",
    "\n",
    "A változók igazából ,,tárolók'', ahol értékeket tárolhatunk.\n",
    "\n",
    "Pl.\n",
    "```\n",
    "name = input(\"Hogy hívnak? \")\n",
    "```\n",
    "\n",
    "Az `=` egyenlőségjel szerepe az előző sorban az értékadás (az összehasonlításra `==` szolgál). A jobboldalon álló kifejezés kiértékelődik és az eredmény a baloldalon álló változóban lesz tárolva.\n",
    "\n",
    "A változó neve (jelen esetben `name`), bármi lehetne, néhány kivétellel. Nem kezdőhet számmal vagy `+`, `-`, `/`, `*` szimbólumokkal. Elvben az is helyes lenne, hogy\n",
    "\n",
    "```\n",
    "név = input(\"Hogy hívnak? \")\n",
    "```\n",
    "\n",
    "Próbáljunk ki néhány változatot!\n",
    "\n"
   ]
  },
  {
   "cell_type": "code",
   "execution_count": null,
   "metadata": {},
   "outputs": [],
   "source": [
    "name = input(\"Hogy hívnak? \")\n",
    "név = input(\"Hogy hívnak? \")"
   ]
  },
  {
   "cell_type": "markdown",
   "metadata": {},
   "source": [
    "\n",
    "\n",
    "Ha az előző értékadás egy code cellába másoljuk és végrehajtjuk, látszólag semmi nem történik. \n",
    "Ha code cella utolsó sorába `print(name)`, láthatjuk a tárolt értéket.\n",
    "\n",
    "Próbáljuk meg köszönteni a felhasználót a világ helyett!\n"
   ]
  },
  {
   "cell_type": "code",
   "execution_count": null,
   "metadata": {},
   "outputs": [],
   "source": [
    "name = input(\"Hogy hívnak? \")\n",
    "print(\"Szia name\")"
   ]
  },
  {
   "cell_type": "markdown",
   "metadata": {},
   "source": [
    "\n",
    "Ez így nem működik! Próbáljuk ki a következőt:"
   ]
  },
  {
   "cell_type": "code",
   "execution_count": null,
   "metadata": {},
   "outputs": [],
   "source": [
    "\n",
    "name = input(\"Hogy hívnak? \")\n",
    "print(\"Szia\")\n",
    "print(name)"
   ]
  },
  {
   "cell_type": "markdown",
   "metadata": {},
   "source": [
    "Ez már valamivel jobb."
   ]
  },
  {
   "cell_type": "markdown",
   "metadata": {},
   "source": [
    "# Kommentek (comments)\n",
    "\n",
    "Ha egy kód cella egy sorában `#` kettőskereszt (hashmark) karakter van a sor további részét a Python interpreter nem értelmezi, az komment. \n",
    "\n",
    "A kommentek arra jók, hogy összefoglalják a következő kisebb blokk mit csinál. Ha csak magunknak írunk programot ez nem tűnik fontosnak, de még ilyenkor is segíthet, ha újra elő kell venni a kódot.\n",
    "\n",
    "Röviden ezek jegyzetek, saját és mások részére. \n",
    "\n",
    "Jupyter munkafüzetben akár hosszabb magyarázatokat is fűzhetünk  egy kódrészlethez, saját függvényhez az előző `markdown` cellában. Ebben akár matek is lehet `LaTeX` jelöléssel, pl.\n"
   ]
  },
  {
   "cell_type": "markdown",
   "metadata": {},
   "source": [
    "\n",
    "`pascal_triangle` a Pascal háromszöget számolja a következő rekurzióval:\n",
    "$$\n",
    "   \\binom{n}{k} = \\binom{n-1}{k-1} + \\binom{n-1}{k} \\quad 0 < k < n\n",
    "$$"
   ]
  },
  {
   "cell_type": "markdown",
   "metadata": {},
   "source": [
    "\n",
    "A mi kis üdvözlő programunkhoz is adhatunk kommentet:\n",
    "\n",
    "```\n",
    "# Ask user for their name\n",
    "name = input(\"Hogy hívnak? \")\n",
    "print(\"Szia\")\n",
    "print(name)\n",
    "```\n",
    "Ettől a működés nem változik, de a kód talán olvashatóbb lesz.\n",
    "\n",
    "Kommenteket lehet használni arra is, hogy mit kell még módosítani, optimalizálni a kódban (ToDo list).\n"
   ]
  },
  {
   "cell_type": "markdown",
   "metadata": {},
   "source": [
    "# Variációk az üdvözlő programunkra\n",
    "\n",
    "Az alábbi változat egy sorba írja ki az üdvözlést és a nevet:\n"
   ]
  },
  {
   "cell_type": "code",
   "execution_count": null,
   "metadata": {},
   "outputs": [],
   "source": [
    "# Ask the user for their name\n",
    "name = input(\"Hogy hívnak? \")\n",
    "\n",
    "# Print hello and the inputted name\n",
    "print(\"Szia \" + name)"
   ]
  },
  {
   "cell_type": "markdown",
   "metadata": {},
   "source": [
    "\n",
    "Szövegeket össze lehet adni, az eredmény a két szöveg egymásután fűzése.\n",
    "\n",
    "Néhány függvénynek több paramétert is megadhatunk. Pl. a `print` függvény tetszőleges számú paramétert kaphat, azokat szóközzel elválasztva kiírja:\n"
   ]
  },
  {
   "cell_type": "code",
   "execution_count": null,
   "metadata": {},
   "outputs": [],
   "source": [
    "# Ask the user for their name\n",
    "name = input(\"Hogy hívnak? \")\n",
    "\n",
    "# Print hello and the inputted name\n",
    "print(\"Szia\", name)"
   ]
  },
  {
   "cell_type": "markdown",
   "metadata": {},
   "source": [
    "# Paraméterek\n",
    "\n",
    "Az üdvözlő program korábbi változata két sorba írta a köszöntést és a nevet."
   ]
  },
  {
   "cell_type": "code",
   "execution_count": null,
   "metadata": {},
   "outputs": [],
   "source": [
    "# Ask user for their name\n",
    "name = input(\"Hogy hívnak? \")\n",
    "print(\"Szia\")\n",
    "print(name)"
   ]
  },
  {
   "cell_type": "markdown",
   "metadata": {},
   "source": [
    "A `print` függvényről gyors segítséget kaphatunk, ha a nevéhez `?`-t fűzünk:\n"
   ]
  },
  {
   "cell_type": "code",
   "execution_count": null,
   "metadata": {},
   "outputs": [],
   "source": [
    "print?"
   ]
  },
  {
   "cell_type": "markdown",
   "metadata": {},
   "source": [
    "Ezeket a `default` értékeket felülírhatjuk, pl. az `end` az első sor végén lehet szóköz.\n"
   ]
  },
  {
   "cell_type": "code",
   "execution_count": null,
   "metadata": {},
   "outputs": [],
   "source": [
    "\n",
    "# Ask user for their name\n",
    "name = input(\"Hogy hívnak? \")\n",
    "print(\"Szia\", end=\" \")\n",
    "print(name)"
   ]
  },
  {
   "cell_type": "markdown",
   "metadata": {},
   "source": [
    "\n",
    "Próbáljuk ki!"
   ]
  },
  {
   "cell_type": "markdown",
   "metadata": {},
   "source": [
    "# Idézőjelek\n",
    "\n",
    "Hogy tudjuk elérni, hogy idézőjelet tartalmazzon a szöveg?\n",
    "\n",
    "Működik-e a következő változat?\n",
    "\n",
    "```\n",
    "print(\"hello \"friend\"\")\n",
    "```\n",
    "\n",
    "A szokásos megoldások:\n",
    "\n",
    "- Kétféle idéző jelet ismer a Python `'` és `\"` : `print('hello \"friend\"')` már nem dob hibát.\n",
    "\n",
    "- Escape karakter `\\`: `print(\"hello \\\"friend\\\" or \\'friend\\'\")`. `\\'` és '\\\"' idézőjelként jelenik meg  a szövegben, de nem zavarja össze az interpretert.\n",
    "\n"
   ]
  },
  {
   "cell_type": "markdown",
   "metadata": {},
   "source": [
    "# f-string, formázott string\n",
    "\n",
    "Az üdvözlő programunkra egy újabb megoldás:\n"
   ]
  },
  {
   "cell_type": "code",
   "execution_count": null,
   "metadata": {},
   "outputs": [],
   "source": [
    "\n",
    "# Ask user for their name\n",
    "name = input(\"Hogy hívnak? \")\n",
    "print(f\"Szia {name}\")\n"
   ]
  },
  {
   "cell_type": "markdown",
   "metadata": {},
   "source": [
    "\n",
    "A string egy `f` módosítóval kezdődik. Ez jelzi az interpreternek, hogy a a kapcsos zárójelben lévő kifejezéseket először ki kell értékelni és az eredményt kell a végeredménybe helyettesíteni.\n"
   ]
  },
  {
   "cell_type": "markdown",
   "metadata": {},
   "source": [
    "# Még néhány apróság string-ekről\n",
    "\n",
    "Mindig érdemes ellenőrizni a felhasználótól kapott adatot. pl. ha a beírt név `␣␣␣␣␣␣nagy␣jÓzSeF␣␣␣␣`, a felesleges szóközöktől jó lenne megszabadulni, és a kisbetű nagybetű zavart is meg kellene szüntetni.\n",
    "\n",
    "string-eken értelemes a `strip` metódus. Ez egy függvény, de a korábbiakkal ellentétben általában `name.strip()` alakban használjuk (lehetne `str.strip(name)`). "
   ]
  },
  {
   "cell_type": "code",
   "execution_count": null,
   "metadata": {},
   "outputs": [],
   "source": [
    "# Ask user for their name\n",
    "name = input(\"Hogy hívnak? \")\n",
    "\n",
    "# Remove whitespace from the str\n",
    "name = name.strip()\n",
    "\n",
    "print(f\"Szia {name}\")\n"
   ]
  },
  {
   "cell_type": "markdown",
   "metadata": {},
   "source": [
    "A `title` metódus a szöveg minden szavában az első karaktert nagy betűre a többit kicsire változtatja."
   ]
  },
  {
   "cell_type": "code",
   "execution_count": null,
   "metadata": {},
   "outputs": [],
   "source": [
    "str.capitalize?"
   ]
  },
  {
   "cell_type": "code",
   "execution_count": null,
   "metadata": {},
   "outputs": [],
   "source": [
    "str.title?"
   ]
  },
  {
   "cell_type": "code",
   "execution_count": null,
   "metadata": {},
   "outputs": [],
   "source": [
    "# Ask user for their name\n",
    "name = input(\"Hogy hívnak? \")\n",
    "\n",
    "# Remove whitespace from the str\n",
    "name = name.strip()\n",
    "\n",
    "# Capitalize the first letter of each word\n",
    "name = name.title()\n",
    "\n",
    "print(f\"Szia {name}\")\n"
   ]
  },
  {
   "cell_type": "markdown",
   "metadata": {},
   "source": [
    "Kezd túl hosszúvá válni ez az egyszerű program. Szükség van minden sorra?"
   ]
  },
  {
   "cell_type": "code",
   "execution_count": null,
   "metadata": {},
   "outputs": [],
   "source": [
    "# Ask user for their name, remove whitespace and the first letter of each word\n",
    "name = input(\"Hogy hívnak? \").strip().title()\n",
    "\n",
    "print(f\"Szia {name}\")\n"
   ]
  },
  {
   "cell_type": "markdown",
   "metadata": {},
   "source": [
    "# Számok"
   ]
  },
  {
   "cell_type": "markdown",
   "metadata": {},
   "source": [
    "## Egészek,  az `int` típus\n",
    "\n",
    "Pythonban az egész számokat az `int` típussal ábrázoljuk. \n",
    "\n",
    "A szokásos műveletek: `+`, `-`, `*`, `/` mellett, két további is van `//` és `%` az utóbbi kettő a maradékos osztást valósítja meg, `x = (x//y) * y + (x%y)`. `x//y` a hányados egész része, `x%y` a maradék. \n",
    "\n",
    "Példa."
   ]
  },
  {
   "cell_type": "code",
   "execution_count": null,
   "metadata": {},
   "outputs": [],
   "source": [
    "x = 1\n",
    "y = 2\n",
    "\n",
    "z = x + y\n",
    "\n",
    "print(z)"
   ]
  },
  {
   "cell_type": "markdown",
   "metadata": {},
   "source": [
    "Kissé érdekesebbé tehetjük a kalkulátorunkat, ha `x`, `y` értékét beolvassuk."
   ]
  },
  {
   "cell_type": "code",
   "execution_count": null,
   "metadata": {},
   "outputs": [],
   "source": [
    "x = input(\"Mi legyen x? \")\n",
    "y = input(\"Mi legyen y? \")\n",
    "\n",
    "z = x + y\n",
    "\n",
    "print(z)"
   ]
  },
  {
   "cell_type": "markdown",
   "metadata": {},
   "source": [
    "**Mi a hiba????**\n",
    "\n",
    "Javítsuk ki!"
   ]
  },
  {
   "cell_type": "code",
   "execution_count": null,
   "metadata": {},
   "outputs": [],
   "source": [
    "## JAVÍTSUK KI!!!!\n",
    "x = input(\"Mi legyen x? \")\n",
    "y = input(\"Mi legyen y? \")\n",
    "\n",
    "z = x + y\n",
    "\n",
    "print(z)"
   ]
  },
  {
   "cell_type": "markdown",
   "metadata": {},
   "source": [
    "Típuskonverzióra a típus nevét használhatjuk:\n",
    "pl.\n",
    "```\n",
    "int(\"3\")\n",
    "str(3)\n",
    "```"
   ]
  },
  {
   "cell_type": "markdown",
   "metadata": {},
   "source": [
    "## Lebegőpontos számok (valós számok)\n",
    "\n",
    "Ha nem csak egészekkel szeretnénk számolni, akkor a `float` típust használhatjuk."
   ]
  },
  {
   "cell_type": "code",
   "execution_count": null,
   "metadata": {},
   "outputs": [],
   "source": [
    "x = float(input(\"Mi legyen x? \"))\n",
    "y = float(input(\"Mi legyen y? \"))\n",
    "\n",
    "z = x + y\n",
    "\n",
    "print(z)"
   ]
  },
  {
   "cell_type": "markdown",
   "metadata": {},
   "source": [
    "Hogyan tudnánk az eredményt a legközelebbi egészre kerekíteni. Erre szolgál a `round` függvény."
   ]
  },
  {
   "cell_type": "code",
   "execution_count": null,
   "metadata": {},
   "outputs": [],
   "source": [
    "# Get the user's input\n",
    "x = float(input(\"Mi legyen x? \"))\n",
    "y = float(input(\"Mi legyen y? \"))\n",
    "\n",
    "# Create a rounded result\n",
    "z = round(x + y)\n",
    "\n",
    "# Print the result\n",
    "print(z)"
   ]
  },
  {
   "cell_type": "markdown",
   "metadata": {},
   "source": [
    "Ha nagy számokat akarunk kiírni, akkor jó ha az ezres csoportok láthatóak."
   ]
  },
  {
   "cell_type": "code",
   "execution_count": null,
   "metadata": {},
   "outputs": [],
   "source": [
    "# Get the user's input\n",
    "x = float(input(\"Mi legyen x? \"))\n",
    "y = float(input(\"Mi legyen y? \"))\n",
    "\n",
    "# Print the rounded result\n",
    "print(f\"{round(x + y) = :_}\")"
   ]
  },
  {
   "cell_type": "markdown",
   "metadata": {},
   "source": [
    "Az `f-string` konstrukció nagyon hatékony. Érdemes átnézni a dokumentációt."
   ]
  },
  {
   "cell_type": "markdown",
   "metadata": {},
   "source": [
    "# További apróságok lebegő pontos számokról\n",
    "\n",
    "Módosítsuk a kalkulátorunk műveletét összeadás helyett osztásra."
   ]
  },
  {
   "cell_type": "code",
   "execution_count": null,
   "metadata": {},
   "outputs": [],
   "source": [
    "\n",
    "x = float(input(\"Mi legyen x? \"))\n",
    "y = float(input(\"Mi legyen y? \"))\n",
    "\n",
    "z = x / y\n",
    "\n",
    "print(z)"
   ]
  },
  {
   "cell_type": "markdown",
   "metadata": {},
   "source": [
    "Ha `x = 2`, `y = 3` az eredmény `0.6666666666`. Tudunk-e 2 tizedesjegyre kerekíteni?"
   ]
  },
  {
   "cell_type": "code",
   "execution_count": 11,
   "metadata": {},
   "outputs": [
    {
     "name": "stdout",
     "output_type": "stream",
     "text": [
      "\u001b[0;31mSignature:\u001b[0m \u001b[0mround\u001b[0m\u001b[0;34m(\u001b[0m\u001b[0mnumber\u001b[0m\u001b[0;34m,\u001b[0m \u001b[0mndigits\u001b[0m\u001b[0;34m=\u001b[0m\u001b[0;32mNone\u001b[0m\u001b[0;34m)\u001b[0m\u001b[0;34m\u001b[0m\u001b[0;34m\u001b[0m\u001b[0m\n",
      "\u001b[0;31mDocstring:\u001b[0m\n",
      "Round a number to a given precision in decimal digits.\n",
      "\n",
      "The return value is an integer if ndigits is omitted or None.  Otherwise\n",
      "the return value has the same type as the number.  ndigits may be negative.\n",
      "\u001b[0;31mType:\u001b[0m      builtin_function_or_method"
     ]
    }
   ],
   "source": [
    "round?"
   ]
  },
  {
   "cell_type": "code",
   "execution_count": null,
   "metadata": {},
   "outputs": [],
   "source": [
    "# Get the user's input\n",
    "x = float(input(\"Mi legyen x? \"))\n",
    "y = float(input(\"Mi legyen y? \"))\n",
    "\n",
    "z = round(x / y, 2)\n",
    "# Print the rounded result\n",
    "print(z)"
   ]
  },
  {
   "cell_type": "markdown",
   "metadata": {},
   "source": [
    "Ha csak a megjelenítést akarjuk olvashatóbbá tenni, akkor nem érdemes magát az értéket megváltoztatni."
   ]
  },
  {
   "cell_type": "code",
   "execution_count": null,
   "metadata": {},
   "outputs": [],
   "source": [
    "# Get the user's input\n",
    "x = float(input(\"Mi legyen x? \"))\n",
    "y = float(input(\"Mi legyen y? \"))\n",
    "\n",
    "z = x / y\n",
    "# Print the rounded result\n",
    "print(f\"{z:.2f}\")"
   ]
  },
  {
   "cell_type": "markdown",
   "metadata": {},
   "source": [
    "# Saját függvények, `def`\n",
    "\n",
    "A kis üdvözlő programunknak két része volt, beolvasás kiírás.\n",
    "Mindkettőből készíthetünk függvényt.\n",
    "Kezdjük a kiírással: "
   ]
  },
  {
   "cell_type": "code",
   "execution_count": null,
   "metadata": {},
   "outputs": [],
   "source": [
    "def say_hello():\n",
    "    print('Szia')\n",
    "\n",
    "name = input(\"Hogy hívnak? \").strip().title()\n",
    "say_hello()\n",
    "print(name)"
   ]
  },
  {
   "cell_type": "markdown",
   "metadata": {},
   "source": [
    "Kicsit ügyesebben:"
   ]
  },
  {
   "cell_type": "code",
   "execution_count": null,
   "metadata": {},
   "outputs": [],
   "source": [
    "\n",
    "def say_hello(to=\"világ\"):\n",
    "    print(f\"Szia {to}!\")\n",
    "\n",
    "name = input(\"Hogy hívnak? \").strip().title()\n",
    "say_hello(name)"
   ]
  },
  {
   "cell_type": "markdown",
   "metadata": {},
   "source": [
    "# Függvény visszatérési értékkel\n",
    "\n",
    "Gyakran a függvénytől azt várjuk, hogy számoljon ki valamit, de ne írja ki a képernyőre az eredményt, hanem adja vissza az értéket.\n",
    "Ezt a `return` statement-tel érhetjük el."
   ]
  },
  {
   "cell_type": "code",
   "execution_count": null,
   "metadata": {},
   "outputs": [],
   "source": [
    "def main():\n",
    "    x = int(input(\"Mi legyen x? \"))\n",
    "    x2 = square(x)\n",
    "    print(f\"x négyzete: {x2}\")\n",
    "\n",
    "\n",
    "def square(x):\n",
    "    return x*x"
   ]
  },
  {
   "cell_type": "markdown",
   "metadata": {},
   "source": [
    "Két függvényt hoztunk létre. Futtatás:"
   ]
  },
  {
   "cell_type": "code",
   "execution_count": null,
   "metadata": {},
   "outputs": [],
   "source": [
    "main()"
   ]
  },
  {
   "cell_type": "markdown",
   "metadata": {},
   "source": [
    "# További részletek számokról, szringekről"
   ]
  },
  {
   "cell_type": "markdown",
   "metadata": {},
   "source": [
    "\n",
    "### Értékek és egyszerű típusok\n",
    "\n",
    "A Pythonban négy alapvető értékfajta (adattípus) van: egész (int), valós (float), karakterlánc vagy sztring (string) és logikai (bool).\n",
    "Egy érték típusára rákérdezhetünk a `type` függvénnyel."
   ]
  },
  {
   "cell_type": "code",
   "execution_count": null,
   "metadata": {},
   "outputs": [
    {
     "data": {
      "text/plain": [
       "(int, float, str, bool)"
      ]
     },
     "metadata": {},
     "output_type": "display_data"
    }
   ],
   "source": [
    "a = 1 # int\n",
    "b = 1.232 # float\n",
    "c = \"alma\" # str\n",
    "d = True # or False bool\n",
    "type(a), type(b), type(c), type(d)"
   ]
  },
  {
   "cell_type": "markdown",
   "metadata": {},
   "source": [
    "## Számok, példák"
   ]
  },
  {
   "cell_type": "code",
   "execution_count": null,
   "metadata": {},
   "outputs": [
    {
     "data": {
      "text/plain": [
       "int"
      ]
     },
     "metadata": {},
     "output_type": "display_data"
    }
   ],
   "source": [
    "type(12)"
   ]
  },
  {
   "cell_type": "markdown",
   "metadata": {},
   "source": [
    "Egy egész lehet pozitív és negatív is, tizedespont nélkül írjuk, és nagyságukra nincs korlát, de nem kezdhetjük nullával."
   ]
  },
  {
   "cell_type": "code",
   "execution_count": null,
   "metadata": {},
   "outputs": [
    {
     "ename": "SyntaxError",
     "evalue": "leading zeros in decimal integer literals are not permitted; use an 0o prefix for octal integers (690730769.py, line 1)",
     "output_type": "error",
     "traceback": [
      "\u001b[0;36m  Input \u001b[0;32mIn [1]\u001b[0;36m\u001b[0m\n",
      "\u001b[0;31m    09\u001b[0m\n",
      "\u001b[0m     ^\u001b[0m\n",
      "\u001b[0;31mSyntaxError\u001b[0m\u001b[0;31m:\u001b[0m leading zeros in decimal integer literals are not permitted; use an 0o prefix for octal integers\n"
     ]
    }
   ],
   "source": [
    "09"
   ]
  },
  {
   "cell_type": "markdown",
   "metadata": {},
   "source": [
    "Az egész számok akármilyen nagyok lehetnek és ezres blokkokba csoportosítva is megadhatjuk őket:"
   ]
  },
  {
   "cell_type": "code",
   "execution_count": null,
   "metadata": {},
   "outputs": [
    {
     "data": {
      "text/plain": [
       "(1000456123, 1000000000000000000)"
      ]
     },
     "metadata": {},
     "output_type": "display_data"
    }
   ],
   "source": [
    "1_000_456_123, 1_000_000_000_000_000_000"
   ]
  },
  {
   "cell_type": "code",
   "execution_count": null,
   "metadata": {},
   "outputs": [
    {
     "data": {
      "text/plain": [
       "float"
      ]
     },
     "metadata": {},
     "output_type": "display_data"
    }
   ],
   "source": [
    "type(5.8)"
   ]
  },
  {
   "cell_type": "code",
   "execution_count": null,
   "metadata": {},
   "outputs": [
    {
     "data": {
      "text/plain": [
       "float"
      ]
     },
     "metadata": {},
     "output_type": "display_data"
    }
   ],
   "source": [
    "type(2.0)"
   ]
  },
  {
   "cell_type": "code",
   "execution_count": null,
   "metadata": {},
   "outputs": [
    {
     "data": {
      "text/plain": [
       "float"
      ]
     },
     "metadata": {},
     "output_type": "display_data"
    }
   ],
   "source": [
    "type(0.8)"
   ]
  },
  {
   "cell_type": "code",
   "execution_count": null,
   "metadata": {},
   "outputs": [
    {
     "data": {
      "text/plain": [
       "float"
      ]
     },
     "metadata": {},
     "output_type": "display_data"
    }
   ],
   "source": [
    "type(.8)"
   ]
  },
  {
   "cell_type": "code",
   "execution_count": null,
   "metadata": {},
   "outputs": [
    {
     "data": {
      "text/plain": [
       "float"
      ]
     },
     "metadata": {},
     "output_type": "display_data"
    }
   ],
   "source": [
    "type(056.4)"
   ]
  },
  {
   "cell_type": "markdown",
   "metadata": {},
   "source": [
    "Mint látjuk, a valós szám kezdhető nullával, és nulla egész rész esetén a nulla elhagyható. A float is lehet negatív vagy pozitív. Használható a normálalak is:"
   ]
  },
  {
   "cell_type": "code",
   "execution_count": null,
   "metadata": {},
   "outputs": [
    {
     "data": {
      "text/plain": [
       "float"
      ]
     },
     "metadata": {},
     "output_type": "display_data"
    }
   ],
   "source": [
    "type(1.25e+12)"
   ]
  },
  {
   "cell_type": "markdown",
   "metadata": {},
   "source": [
    "## Mekkora lehet egy lebegőpontos szám?"
   ]
  },
  {
   "cell_type": "markdown",
   "metadata": {},
   "source": [
    "A valós (float) számot tizedesponttal írjuk. Ezeket a gép 64 biten tárolja:\n",
    "```\n",
    "előjel, exponens, mantissza  = 1 bit, 11 bit, 52 bit\n",
    "\n",
    "(-1)^{előjel} * 2^{exponens-1023} * (1 + (mantissza/2^{52}))\n",
    "```\n",
    "alakban."
   ]
  },
  {
   "cell_type": "code",
   "execution_count": 35,
   "metadata": {},
   "outputs": [
    {
     "name": "stdout",
     "output_type": "stream",
     "text": [
      "1023*math.log(2)/math.log(10)=307.95,\n",
      "(1023+52)*math.log(2)/math.log(10)=323.61,\n",
      "1.0e308=1e+308,\n",
      "1.0e-323=1e-323,\n",
      "1.0e309=inf,\n",
      "1.0e-324=0.0\n"
     ]
    }
   ],
   "source": [
    "import math\n",
    "\n",
    "print(f\"{1023*math.log(2)/math.log(10)=:.2f},\\n{(1023+52)*math.log(2)/math.log(10)=:.2f},\\n{1.0e308=},\\n{1.0e-323=},\\n{1.0e309=},\\n{1.0e-324=}\")"
   ]
  },
  {
   "cell_type": "markdown",
   "metadata": {},
   "source": [
    "## Logikai érték, Bool\n",
    "\n",
    "Igaz (`True`), vagy hamis (`False`) lehet. A szokásos logikai műveletek: `and`, `or`, `not`.  "
   ]
  },
  {
   "cell_type": "code",
   "execution_count": null,
   "metadata": {},
   "outputs": [
    {
     "data": {
      "text/plain": [
       "(True, False, False, True, False)"
      ]
     },
     "metadata": {},
     "output_type": "display_data"
    }
   ],
   "source": [
    "bool_0 = 1 < 2\n",
    "bool_1 = 3 < 2\n",
    "\n",
    "bool_0, bool_1, bool_0 and bool_1, bool_0 or bool_1, not bool_0"
   ]
  },
  {
   "cell_type": "markdown",
   "metadata": {},
   "source": [
    "# Műveletek, help\n",
    "\n",
    "Milyen műveleteket végezhetünk egy adott típussal? Több lehetőségünk van.\n",
    "\n",
    "```\n",
    "dir(int)\n",
    "```\n",
    "vagy általánosabban `dir(x)`, ahol x helyére tetszőleges python változó ill. típus kerülhet. "
   ]
  },
  {
   "cell_type": "code",
   "execution_count": 36,
   "metadata": {},
   "outputs": [
    {
     "name": "stdout",
     "output_type": "stream",
     "text": [
      "['__abs__', '__add__', '__and__', '__bool__', '__ceil__', '__class__', '__delattr__', '__dir__', '__divmod__', '__doc__', '__eq__', '__float__', '__floor__', '__floordiv__', '__format__', '__ge__', '__getattribute__', '__getnewargs__', '__gt__', '__hash__', '__index__', '__init__', '__init_subclass__', '__int__', '__invert__', '__le__', '__lshift__', '__lt__', '__mod__', '__mul__', '__ne__', '__neg__', '__new__', '__or__', '__pos__', '__pow__', '__radd__', '__rand__', '__rdivmod__', '__reduce__', '__reduce_ex__', '__repr__', '__rfloordiv__', '__rlshift__', '__rmod__', '__rmul__', '__ror__', '__round__', '__rpow__', '__rrshift__', '__rshift__', '__rsub__', '__rtruediv__', '__rxor__', '__setattr__', '__sizeof__', '__str__', '__sub__', '__subclasshook__', '__truediv__', '__trunc__', '__xor__', 'as_integer_ratio', 'bit_count', 'bit_length', 'conjugate', 'denominator', 'from_bytes', 'imag', 'numerator', 'real', 'to_bytes']\n",
      "['as_integer_ratio', 'bit_count', 'bit_length', 'conjugate', 'denominator', 'from_bytes', 'imag', 'numerator', 'real', 'to_bytes']\n"
     ]
    }
   ],
   "source": [
    "print(dir(int))\n",
    "\n",
    "## nem rejtett metódusok listázása\n",
    "## később kiderül mi is történik itt\n",
    "print([ name for name in dir(int) if not name.startswith(\"_\")])"
   ]
  },
  {
   "cell_type": "code",
   "execution_count": null,
   "metadata": {},
   "outputs": [
    {
     "name": "stdout",
     "output_type": "stream",
     "text": [
      "\u001b[0;31mSignature:\u001b[0m \u001b[0mint\u001b[0m\u001b[0;34m.\u001b[0m\u001b[0mbit_count\u001b[0m\u001b[0;34m(\u001b[0m\u001b[0mself\u001b[0m\u001b[0;34m,\u001b[0m \u001b[0;34m/\u001b[0m\u001b[0;34m)\u001b[0m\u001b[0;34m\u001b[0m\u001b[0;34m\u001b[0m\u001b[0m\n",
      "\u001b[0;31mDocstring:\u001b[0m\n",
      "Number of ones in the binary representation of the absolute value of self.\n",
      "\n",
      "Also known as the population count.\n",
      "\n",
      ">>> bin(13)\n",
      "'0b1101'\n",
      ">>> (13).bit_count()\n",
      "3\n",
      "\u001b[0;31mType:\u001b[0m      method_descriptor"
     ]
    }
   ],
   "source": [
    "## Egy kérdőjel a sor végén az adott objektum doksiját hozza elő!\n",
    "int.bit_count?"
   ]
  },
  {
   "cell_type": "code",
   "execution_count": null,
   "metadata": {},
   "outputs": [
    {
     "name": "stdout",
     "output_type": "stream",
     "text": [
      "\u001b[0;31mSignature:\u001b[0m \u001b[0mf\u001b[0m\u001b[0;34m(\u001b[0m\u001b[0;34m)\u001b[0m\u001b[0;34m\u001b[0m\u001b[0;34m\u001b[0m\u001b[0m\n",
      "\u001b[0;31mDocstring:\u001b[0m <no docstring>\n",
      "\u001b[0;31mSource:\u001b[0m   \n",
      "\u001b[0;32mdef\u001b[0m \u001b[0mf\u001b[0m\u001b[0;34m(\u001b[0m\u001b[0;34m)\u001b[0m\u001b[0;34m:\u001b[0m\u001b[0;34m\u001b[0m\n",
      "\u001b[0;34m\u001b[0m    \u001b[0;32mpass\u001b[0m\u001b[0;34m\u001b[0m\u001b[0;34m\u001b[0m\u001b[0m\n",
      "\u001b[0;31mFile:\u001b[0m      /tmp/ipykernel_275441/2090659091.py\n",
      "\u001b[0;31mType:\u001b[0m      function\n"
     ]
    }
   ],
   "source": [
    "def f():\n",
    "    pass\n",
    "## Két kérdőjel a sor végén az adott objektum forrás kódját hozza elő!\n",
    "f??"
   ]
  },
  {
   "cell_type": "markdown",
   "metadata": {},
   "source": [
    "# Műveletek számokkal"
   ]
  },
  {
   "cell_type": "markdown",
   "metadata": {},
   "source": [
    "Aritmetikai művelek: (`+`, `-`, `*`, `**`, `/`, `%`). Ehhez néhány kiegészítés: \n",
    "Ha float szerepel egy kifejezésben, akkor az eredmény is float lesz:"
   ]
  },
  {
   "cell_type": "code",
   "execution_count": null,
   "metadata": {},
   "outputs": [
    {
     "data": {
      "text/plain": [
       "3.0"
      ]
     },
     "metadata": {},
     "output_type": "display_data"
    }
   ],
   "source": [
    "5-2.0"
   ]
  },
  {
   "cell_type": "markdown",
   "metadata": {},
   "source": [
    "A hatványozás két `*` jellel történik, amelyek között nem lehet szóköz."
   ]
  },
  {
   "cell_type": "code",
   "execution_count": null,
   "metadata": {},
   "outputs": [
    {
     "data": {
      "text/plain": [
       "8"
      ]
     },
     "metadata": {},
     "output_type": "display_data"
    }
   ],
   "source": [
    "2 ** 3"
   ]
  },
  {
   "cell_type": "markdown",
   "metadata": {},
   "source": [
    "Sokszor hasznos a `//` jellel végzett egész osztás: `a // b` megadja, hogy `a`-ban hányszor van meg `b`, továbbá a `%` jellel végzett maradékos osztás: `a % b` megadja, hogy `a`-t `b`-vel osztva mennyi a maradék."
   ]
  },
  {
   "cell_type": "code",
   "execution_count": null,
   "metadata": {},
   "outputs": [
    {
     "data": {
      "text/plain": [
       "3"
      ]
     },
     "metadata": {},
     "output_type": "display_data"
    }
   ],
   "source": [
    "10 // 3"
   ]
  },
  {
   "cell_type": "code",
   "execution_count": null,
   "metadata": {},
   "outputs": [
    {
     "data": {
      "text/plain": [
       "1"
      ]
     },
     "metadata": {},
     "output_type": "display_data"
    }
   ],
   "source": [
    "10 % 3"
   ]
  },
  {
   "cell_type": "markdown",
   "metadata": {},
   "source": [
    "Osztás és maradék számítás egyben: `divmod`"
   ]
  },
  {
   "cell_type": "code",
   "execution_count": null,
   "metadata": {},
   "outputs": [
    {
     "data": {
      "text/plain": [
       "(24, 0)"
      ]
     },
     "metadata": {},
     "output_type": "display_data"
    }
   ],
   "source": [
    "divmod(1440, 60)"
   ]
  },
  {
   "cell_type": "markdown",
   "metadata": {},
   "source": [
    "Példák:\n",
    "1) Számítsuk ki, hogy x (pl. x = 10000) másodperc hány óra, perc ill. nap."
   ]
  },
  {
   "cell_type": "code",
   "execution_count": null,
   "metadata": {},
   "outputs": [],
   "source": [
    "x = 10000\n",
    "orak = x // 3600\n",
    "megmaradt_masodpercek = x % 3600\n",
    "percek = megmaradt_masodpercek // 60\n",
    "masodpercek = megmaradt_masodpercek % 60"
   ]
  },
  {
   "cell_type": "code",
   "execution_count": null,
   "metadata": {},
   "outputs": [
    {
     "data": {
      "text/plain": [
       "(2, 46, 40)"
      ]
     },
     "metadata": {},
     "output_type": "display_data"
    }
   ],
   "source": [
    "orak, percek, masodpercek"
   ]
  },
  {
   "cell_type": "code",
   "execution_count": null,
   "metadata": {},
   "outputs": [
    {
     "data": {
      "text/plain": [
       "10000"
      ]
     },
     "metadata": {},
     "output_type": "display_data"
    }
   ],
   "source": [
    "## Ellenőrzés\n",
    "orak*3600 + percek*60 + masodpercek"
   ]
  },
  {
   "cell_type": "markdown",
   "metadata": {},
   "source": [
    "Ugyanez kicsit rövidebben:"
   ]
  },
  {
   "cell_type": "code",
   "execution_count": null,
   "metadata": {},
   "outputs": [
    {
     "data": {
      "text/plain": [
       "'1 nap, 3 óra, 46 perc, 40 másodperc'"
      ]
     },
     "metadata": {},
     "output_type": "display_data"
    }
   ],
   "source": [
    "x = 100000\n",
    "x, seconds = divmod(x, 60)\n",
    "x, minutes = divmod(x, 60)\n",
    "days, hours = divmod(x, 24)\n",
    "f\"{days} nap, {hours} óra, {minutes} perc, {seconds} másodperc\""
   ]
  },
  {
   "cell_type": "markdown",
   "metadata": {},
   "source": [
    "##### Feladat\n",
    "\n",
    "- Határozzuk meg egy egész szám (pl. n = 12896) \n",
    "    \n",
    "   a) utolsó, \n",
    "\n",
    "   b) utolsó kettő, \n",
    "   \n",
    "   c) utolsó három számjegyét."
   ]
  },
  {
   "cell_type": "code",
   "execution_count": null,
   "metadata": {},
   "outputs": [
    {
     "data": {
      "text/plain": [
       "(6, 96, 896)"
      ]
     },
     "metadata": {},
     "output_type": "display_data"
    }
   ],
   "source": [
    "x = 12896\n",
    "utolso_szamjegy = x % 10\n",
    "utolso_ket_szamjegy = x % 100\n",
    "utolso_harom_szamjegy = x % 1000\n",
    "utolso_szamjegy, utolso_ket_szamjegy, utolso_harom_szamjegy"
   ]
  },
  {
   "cell_type": "markdown",
   "metadata": {},
   "source": [
    "3) Hogyan vizsgálhatjuk meg, hogy egy k szám páros vagy páratlan-e?\n",
    "Ha k % 2  0-t ad eredményül, akkor páros, ha pedig 1-et, akkor páratlan."
   ]
  },
  {
   "cell_type": "code",
   "execution_count": null,
   "metadata": {},
   "outputs": [
    {
     "data": {
      "text/plain": [
       "1"
      ]
     },
     "metadata": {},
     "output_type": "display_data"
    }
   ],
   "source": [
    "k = 89\n",
    "k % 2"
   ]
  },
  {
   "cell_type": "code",
   "execution_count": null,
   "metadata": {},
   "outputs": [
    {
     "data": {
      "text/plain": [
       "0"
      ]
     },
     "metadata": {},
     "output_type": "display_data"
    }
   ],
   "source": [
    "k = 90\n",
    "k % 2"
   ]
  },
  {
   "cell_type": "markdown",
   "metadata": {},
   "source": [
    "# Bit műveletek\n",
    "\n",
    "Ha egész számaink vannak, akkor azt a gép kettes számrendszerben tárolja, pl. `13=1+4+8`, így a gépben tárolt érték\n",
    "egy olyan bit sorozat, aminek a vége `1101`. Ha megakarjuk nézni egy szám kettes számrendszerbeli alakját, akkor a `bin`\n",
    "függvényt használhatjuk  \n",
    "\n",
    "    Signature: bin(number, /)\n",
    "    Docstring:\n",
    "    Return the binary representation of an integer.\n",
    "\n",
    "    >>> bin(2796202)\n",
    "    '0b1010101010101010101010'\n",
    "    Type:      builtin_function_or_method"
   ]
  },
  {
   "cell_type": "code",
   "execution_count": null,
   "metadata": {},
   "outputs": [
    {
     "data": {
      "text/plain": [
       "'0b1101'"
      ]
     },
     "metadata": {},
     "output_type": "display_data"
    }
   ],
   "source": [
    "bin(13)"
   ]
  },
  {
   "cell_type": "markdown",
   "metadata": {},
   "source": [
    "A biteket lehet ,,shiftelni\" "
   ]
  },
  {
   "cell_type": "code",
   "execution_count": null,
   "metadata": {},
   "outputs": [
    {
     "data": {
      "text/plain": [
       "(26, '0b1101', '0b11010')"
      ]
     },
     "metadata": {},
     "output_type": "display_data"
    }
   ],
   "source": [
    "13<<1, bin(13), bin(13<<1)"
   ]
  },
  {
   "cell_type": "code",
   "execution_count": null,
   "metadata": {},
   "outputs": [
    {
     "data": {
      "text/plain": [
       "(6, '0b1101', '0b110')"
      ]
     },
     "metadata": {},
     "output_type": "display_data"
    }
   ],
   "source": [
    "13>>1, bin(13), bin(13>>1)"
   ]
  },
  {
   "cell_type": "markdown",
   "metadata": {},
   "source": [
    "A bináris alakból visszalehet konvertálni, ha a számrendszer alapját is megadjuk az `int` függvénynek"
   ]
  },
  {
   "cell_type": "code",
   "execution_count": null,
   "metadata": {},
   "outputs": [
    {
     "data": {
      "text/plain": [
       "('0b11010', 26)"
      ]
     },
     "metadata": {},
     "output_type": "display_data"
    }
   ],
   "source": [
    "bin(26), int(bin(26), base=2)"
   ]
  },
  {
   "cell_type": "markdown",
   "metadata": {},
   "source": [
    "## Bit műveletek"
   ]
  },
  {
   "cell_type": "markdown",
   "metadata": {},
   "source": [
    "Végül a bitenkénti műveleteket is végezhetünk. \n",
    "\n",
    "- és: `&`\n",
    "- vagy: `|`\n",
    "- kizáró vagy: `^`\n",
    "- komplementer: `~`\n",
    "\n",
    "Ha a bitsorozatra egy halmaz indikátoraként gondolunk, akkor metszet, únió és szimmetrikus differencia az első három művelet."
   ]
  },
  {
   "cell_type": "code",
   "execution_count": null,
   "metadata": {},
   "outputs": [
    {
     "data": {
      "text/plain": [
       "('0b11001', 1)"
      ]
     },
     "metadata": {},
     "output_type": "display_data"
    }
   ],
   "source": [
    "n = 25\n",
    "bin(n), ((n) & (-n))"
   ]
  },
  {
   "cell_type": "code",
   "execution_count": null,
   "metadata": {},
   "outputs": [
    {
     "data": {
      "text/plain": [
       "('0b1100', '0b1001')"
      ]
     },
     "metadata": {},
     "output_type": "display_data"
    }
   ],
   "source": [
    "bin(12), bin(9)"
   ]
  },
  {
   "cell_type": "code",
   "execution_count": null,
   "metadata": {},
   "outputs": [
    {
     "data": {
      "text/plain": [
       "('0b1000', '0b1001', '0b1101', '0b1100', '0b101')"
      ]
     },
     "metadata": {},
     "output_type": "display_data"
    }
   ],
   "source": [
    "# & nem ugyanaz, mint and, | nem ugyanaz, mint or \n",
    "bin(12 & 9), bin(12 and 9), bin(12 | 9), bin(12 or 9), bin(12 ^ 9)"
   ]
  },
  {
   "cell_type": "code",
   "execution_count": null,
   "metadata": {},
   "outputs": [
    {
     "name": "stdout",
     "output_type": "stream",
     "text": [
      "0\n",
      "1\n",
      "2\n",
      "False\n"
     ]
    }
   ],
   "source": [
    "def f(i):\n",
    "    print(i)\n",
    "    return i\n",
    "\n",
    "print((f(0)<2) and (f(1)<2) and (f(2)<2) and (f(3)<2)) # a sort a vegtelensegig folytathatank"
   ]
  },
  {
   "cell_type": "code",
   "execution_count": null,
   "metadata": {},
   "outputs": [],
   "source": []
  },
  {
   "cell_type": "markdown",
   "metadata": {},
   "source": [
    "Ha hexadecimális alakot akarunk, akkor a `hex` függvény kell nekünk.\n",
    "\n",
    "    Signature: hex(number, /)\n",
    "    Docstring:\n",
    "    Return the hexadecimal representation of an integer.\n",
    "\n",
    "    >>> hex(12648430)\n",
    "    '0xc0ffee'"
   ]
  },
  {
   "cell_type": "code",
   "execution_count": null,
   "metadata": {},
   "outputs": [
    {
     "data": {
      "text/plain": [
       "('0x70', 112)"
      ]
     },
     "metadata": {},
     "output_type": "display_data"
    }
   ],
   "source": [
    "hex(112), int(hex(112), base=16)"
   ]
  },
  {
   "cell_type": "markdown",
   "metadata": {},
   "source": [
    "## Negatív számok:\n",
    "\n",
    "Itt a `bin` függvény nem fedi fel teljesen a képet."
   ]
  },
  {
   "cell_type": "code",
   "execution_count": null,
   "metadata": {},
   "outputs": [
    {
     "name": "stdout",
     "output_type": "stream",
     "text": [
      "[1, 1, 1, 1, 1, 1, 1, 1, 1, 1, 1, 1, 1, 1, 1]\n",
      "[1, 1, 1, 1, 1, 1, 1, 1, 1, 1, 1, 1, 1, 1, 1]\n"
     ]
    }
   ],
   "source": [
    "print([(-1& (1<< i))>>i for i in range(15)])\n",
    "print([(-1& (1<< i))>>i for i in range(64,64+15)])\n"
   ]
  },
  {
   "cell_type": "markdown",
   "metadata": {},
   "source": [
    "A -1-re úgy gondolhatunk, hogy minden bitje 1-es.\n",
    "\n",
    "Azaz tetszőleges pozitív `n` esetén `-n-1` az a szám, amivel az összeg bitjei mind 1-esek, vagyis `~n`. "
   ]
  },
  {
   "cell_type": "markdown",
   "metadata": {},
   "source": [
    "# Sztringkezelő műveletek\n",
    "\n",
    "A sztringekre az aritmetikai műveletek általában nem alkalmazhatók, de a `+` és a `*` jel működik, a következőképpen:"
   ]
  },
  {
   "cell_type": "code",
   "execution_count": null,
   "metadata": {},
   "outputs": [
    {
     "data": {
      "text/plain": [
       "('haha',)"
      ]
     },
     "metadata": {},
     "output_type": "display_data"
    }
   ],
   "source": [
    "'ha' + 'ha', "
   ]
  },
  {
   "cell_type": "code",
   "execution_count": null,
   "metadata": {},
   "outputs": [
    {
     "data": {
      "text/plain": [
       "'haha'"
      ]
     },
     "metadata": {},
     "output_type": "display_data"
    }
   ],
   "source": [
    "'ha' * 2"
   ]
  },
  {
   "cell_type": "markdown",
   "metadata": {},
   "source": [
    "A sztring karaktereinek indexe is van, az indexelés a 0-val kezdődik. Adott indexű karakter lekérdezése a sztring neve után szögletes zárójelbe tett indexszel történik."
   ]
  },
  {
   "cell_type": "code",
   "execution_count": null,
   "metadata": {},
   "outputs": [
    {
     "data": {
      "text/plain": [
       "'k'"
      ]
     },
     "metadata": {},
     "output_type": "display_data"
    }
   ],
   "source": [
    "szoveg = 'kutya'\n",
    "szoveg[0]"
   ]
  },
  {
   "cell_type": "code",
   "execution_count": null,
   "metadata": {},
   "outputs": [
    {
     "data": {
      "text/plain": [
       "'u'"
      ]
     },
     "metadata": {},
     "output_type": "display_data"
    }
   ],
   "source": [
    "szoveg[1]"
   ]
  },
  {
   "cell_type": "markdown",
   "metadata": {},
   "source": [
    "## Az összes string művelet listája"
   ]
  },
  {
   "cell_type": "code",
   "execution_count": null,
   "metadata": {},
   "outputs": [
    {
     "name": "stdout",
     "output_type": "stream",
     "text": [
      "len(string_methods) = 80\n",
      "__add__           __class__         __contains__      __delattr__       __dir__          \n",
      "__doc__           __eq__            __format__        __ge__            __getattribute__ \n",
      "__getitem__       __getnewargs__    __gt__            __hash__          __init__         \n",
      "__init_subclass__ __iter__          __le__            __len__           __lt__           \n",
      "__mod__           __mul__           __ne__            __new__           __reduce__       \n",
      "__reduce_ex__     __repr__          __rmod__          __rmul__          __setattr__      \n",
      "__sizeof__        __str__           __subclasshook__  capitalize        casefold         \n",
      "center            count             encode            endswith          expandtabs       \n",
      "find              format            format_map        index             isalnum          \n",
      "isalpha           isascii           isdecimal         isdigit           isidentifier     \n",
      "islower           isnumeric         isprintable       isspace           istitle          \n",
      "isupper           join              ljust             lower             lstrip           \n",
      "maketrans         partition         removeprefix      removesuffix      replace          \n",
      "rfind             rindex            rjust             rpartition        rsplit           \n",
      "rstrip            split             splitlines        startswith        strip            \n",
      "swapcase          title             translate         upper             zfill            \n"
     ]
    }
   ],
   "source": [
    "string_methods = dir(str)\n",
    "\n",
    "print(f\"{len(string_methods) = }\")\n",
    "\n",
    "items_per_line = 5\n",
    "max_width = max(len(x) for x in string_methods)\n",
    "\n",
    "string_methods = [f\"{x:{max_width}}\" for x in string_methods]\n",
    "\n",
    "for i in range(0, len(string_methods), items_per_line):\n",
    "    print(*string_methods[i:i+items_per_line])\n",
    "    "
   ]
  },
  {
   "cell_type": "code",
   "execution_count": null,
   "metadata": {},
   "outputs": [
    {
     "name": "stdout",
     "output_type": "stream",
     "text": [
      "\u001b[0;31mSignature:\u001b[0m \u001b[0mstr\u001b[0m\u001b[0;34m.\u001b[0m\u001b[0mzfill\u001b[0m\u001b[0;34m(\u001b[0m\u001b[0mself\u001b[0m\u001b[0;34m,\u001b[0m \u001b[0mwidth\u001b[0m\u001b[0;34m,\u001b[0m \u001b[0;34m/\u001b[0m\u001b[0;34m)\u001b[0m\u001b[0;34m\u001b[0m\u001b[0;34m\u001b[0m\u001b[0m\n",
      "\u001b[0;31mDocstring:\u001b[0m\n",
      "Pad a numeric string with zeros on the left, to fill a field of the given width.\n",
      "\n",
      "The string is never truncated.\n",
      "\u001b[0;31mType:\u001b[0m      method_descriptor"
     ]
    }
   ],
   "source": [
    "str.zfill?"
   ]
  },
  {
   "cell_type": "code",
   "execution_count": null,
   "metadata": {},
   "outputs": [
    {
     "data": {
      "text/plain": [
       "'00000000000000000100'"
      ]
     },
     "metadata": {},
     "output_type": "display_data"
    }
   ],
   "source": [
    "'100'.zfill(20)"
   ]
  },
  {
   "cell_type": "markdown",
   "metadata": {},
   "source": [
    "Pl. tároljuk el egy-egy változóba a kereszt- és a vezetéknevünket. Ezekből rakjuk össze a teljes nevünket szóközzel elválasztva, valamint a monogramunkat. Készítsünk egy becenevet is a vezetéknév első két betűjének a megkettőzésével."
   ]
  },
  {
   "cell_type": "code",
   "execution_count": null,
   "metadata": {},
   "outputs": [],
   "source": [
    "vezeteknev = 'Nagy'\n",
    "keresztnev = 'Ibolya'"
   ]
  },
  {
   "cell_type": "code",
   "execution_count": null,
   "metadata": {},
   "outputs": [
    {
     "data": {
      "text/plain": [
       "'Nagy Ibolya'"
      ]
     },
     "metadata": {},
     "output_type": "display_data"
    }
   ],
   "source": [
    "teljes_nev = vezeteknev + ' ' + keresztnev\n",
    "teljes_nev"
   ]
  },
  {
   "cell_type": "code",
   "execution_count": null,
   "metadata": {},
   "outputs": [
    {
     "data": {
      "text/plain": [
       "'N. I.'"
      ]
     },
     "metadata": {},
     "output_type": "display_data"
    }
   ],
   "source": [
    "monogram = vezeteknev[0] + '. ' + keresztnev[0] + '.'\n",
    "monogram"
   ]
  },
  {
   "cell_type": "code",
   "execution_count": null,
   "metadata": {},
   "outputs": [
    {
     "data": {
      "text/plain": [
       "'NaNa'"
      ]
     },
     "metadata": {},
     "output_type": "display_data"
    }
   ],
   "source": [
    "becenev = vezeteknev[0:2]*2\n",
    "becenev"
   ]
  },
  {
   "cell_type": "markdown",
   "metadata": {},
   "source": [
    "Az utóbbi megoldása nem tökéletes: csak a kezdőbetűt szeretnénk nagynak látni a becenévben. A sztringeken számos ún. metódus van értelmezve. Ezek olyan függvények, amelyek közvetlenül az adott sztringhez férnek hozzá, a sztring után tett pontot követően adjuk meg őket. Pl. a lower(), upper(), capitalize() metódusokkal a sztringből előáll annak kisbetűs, nagybetűs ill. nagy kezdőbetűs változata. (Közben az eredeti sztring változatlan marad.)"
   ]
  },
  {
   "cell_type": "code",
   "execution_count": null,
   "metadata": {},
   "outputs": [
    {
     "data": {
      "text/plain": [
       "('KUTYA', 'kutya', 'Kutya')"
      ]
     },
     "metadata": {},
     "output_type": "display_data"
    }
   ],
   "source": [
    "szo = 'kuTYa'\n",
    "szo.upper(), szo.lower(), szo.capitalize()"
   ]
  },
  {
   "cell_type": "code",
   "execution_count": null,
   "metadata": {},
   "outputs": [
    {
     "data": {
      "text/plain": [
       "'Nana'"
      ]
     },
     "metadata": {},
     "output_type": "display_data"
    }
   ],
   "source": [
    "becenev = (vezeteknev[0:2]*2).capitalize()\n",
    "becenev"
   ]
  },
  {
   "cell_type": "code",
   "execution_count": null,
   "metadata": {},
   "outputs": [
    {
     "data": {
      "text/plain": [
       "('Ib', 'Ibolya', 'Ibo', 'lya')"
      ]
     },
     "metadata": {},
     "output_type": "display_data"
    }
   ],
   "source": [
    "keresztnev[0:2], keresztnev[:10], keresztnev[:-3], keresztnev[-3:]"
   ]
  },
  {
   "cell_type": "markdown",
   "metadata": {},
   "source": [
    "# Konvertálás egyik típusból a másikba (type casting)"
   ]
  },
  {
   "cell_type": "code",
   "execution_count": null,
   "metadata": {},
   "outputs": [
    {
     "data": {
      "text/plain": [
       "(1236, '1236', '1236', True, True, False, False)"
      ]
     },
     "metadata": {},
     "output_type": "display_data"
    }
   ],
   "source": [
    "text = \"1236\"\n",
    "int(text), str(int(text)), repr(int(text)), bool(text), bool(int(text)), bool(0), bool(\"\")"
   ]
  },
  {
   "cell_type": "code",
   "execution_count": null,
   "metadata": {},
   "outputs": [
    {
     "data": {
      "text/plain": [
       "(3.14, '3.14')"
      ]
     },
     "metadata": {},
     "output_type": "display_data"
    }
   ],
   "source": [
    "text = \"3.14\"\n",
    "float(text), str(float(text))"
   ]
  },
  {
   "cell_type": "code",
   "execution_count": null,
   "metadata": {},
   "outputs": [
    {
     "ename": "ValueError",
     "evalue": "invalid literal for int() with base 10: '3.14'",
     "output_type": "error",
     "traceback": [
      "\u001b[0;31m---------------------------------------------------------------------------\u001b[0m\n",
      "\u001b[0;31mValueError\u001b[0m                                Traceback (most recent call last)\n",
      "\u001b[1;32m/home/prokaj/vgy/22-23i/canvas/code/notebooks/gyak01.ipynb Cell 92\u001b[0m in \u001b[0;36m<cell line: 2>\u001b[0;34m()\u001b[0m\n",
      "\u001b[1;32m      <a href='vscode-notebook-cell:/home/prokaj/vgy/22-23i/canvas/code/notebooks/gyak01.ipynb#Y152sZmlsZQ%3D%3D?line=0'>1</a>\u001b[0m \u001b[39m# de\u001b[39;00m\n",
      "\u001b[0;32m----> <a href='vscode-notebook-cell:/home/prokaj/vgy/22-23i/canvas/code/notebooks/gyak01.ipynb#Y152sZmlsZQ%3D%3D?line=1'>2</a>\u001b[0m \u001b[39mint\u001b[39;49m(text)\n",
      "\n",
      "\u001b[0;31mValueError\u001b[0m: invalid literal for int() with base 10: '3.14'"
     ]
    }
   ],
   "source": [
    "# de\n",
    "int(text)"
   ]
  },
  {
   "cell_type": "markdown",
   "metadata": {},
   "source": [
    "# Beolvasás, kiírás\n",
    "\n",
    "- standard input: bemenet \n",
    "- standard output: kimenet\n",
    "- standard error: hibaüzenetek helye\n",
    "\n",
    "Alapértelmezésben az `input` függvény egy sornyi szöveget (`str`) olvas be, a `print` függvény pedig kiír egy sort."
   ]
  },
  {
   "cell_type": "code",
   "execution_count": null,
   "metadata": {},
   "outputs": [
    {
     "name": "stdout",
     "output_type": "stream",
     "text": [
      "text='input text'\n"
     ]
    }
   ],
   "source": [
    "text = input()\n",
    "print(f\"{text=}\")"
   ]
  },
  {
   "cell_type": "markdown",
   "metadata": {},
   "source": [
    "# Szöveg formázása\n",
    "\n",
    "Talán a legegyszerűbb a formázott sztring használata:\n",
    "\n",
    "`f\"{name} egyéb szöveg\"`\n",
    "\n",
    "Ekkor a `name` helyettesítődik az aktuális értékével. A `name` helyére nem csak változó nevet, hanem tetszőleges python kifejezést tehetünk. Ekkor az kiértékelődik és az eredmény ,,szöveges\" alakja kerül `{name}` helyére. Pl.  "
   ]
  },
  {
   "cell_type": "code",
   "execution_count": null,
   "metadata": {},
   "outputs": [
    {
     "name": "stdout",
     "output_type": "stream",
     "text": [
      "`a` is a  <class 'int'>: 12\n",
      "`b` is a  <class 'float'>: 3.146879789454565\n",
      "`c` is a  <class 'str'>: alma\n",
      "`d` is a  <class 'bool'>: True\n"
     ]
    }
   ],
   "source": [
    "a = 12\n",
    "b = 3.14687978945456487895464645454\n",
    "c = \"alma\"\n",
    "d = True\n",
    "print(f\"`a` is a  {type(a)}: {a}\")\n",
    "print(f\"`b` is a  {type(b)}: {b}\")\n",
    "print(f\"`c` is a  {type(c)}: {c}\")\n",
    "print(f\"`d` is a  {type(d)}: {d}\")\n"
   ]
  },
  {
   "cell_type": "markdown",
   "metadata": {},
   "source": [
    "#### Feladat\n",
    "\n",
    "Állítsuk elő a korábban szerepelt teljes nevet és monogrammot `f-string`-gel.\n",
    "Próbáljuk meg elérni, hogy a keresztnév és a vezetéknév is egy 15 karakter széles mező jobb oldalára kerüljön."
   ]
  },
  {
   "cell_type": "code",
   "execution_count": null,
   "metadata": {},
   "outputs": [],
   "source": []
  },
  {
   "cell_type": "code",
   "execution_count": null,
   "metadata": {},
   "outputs": [],
   "source": []
  },
  {
   "cell_type": "markdown",
   "metadata": {},
   "source": [
    "# Több érték beolvasása egy sorból.\n",
    "\n",
    "Mit kapunk az alábbi sorokkal?\n",
    "```\n",
    "a, b = \"12 34\".split()\n",
    "c, d = map(int, \"12 34\".split())\n",
    "\n",
    "```\n",
    "Le tudjuk-e írni mi is történt itt?\n",
    "\n",
    "Nem kell izgulni, később a hátterét is látni fogjuk."
   ]
  },
  {
   "cell_type": "code",
   "execution_count": null,
   "metadata": {},
   "outputs": [],
   "source": []
  },
  {
   "cell_type": "markdown",
   "metadata": {},
   "source": [
    "### `printf`-szerű formázás , ill. `format`\n"
   ]
  },
  {
   "cell_type": "code",
   "execution_count": null,
   "metadata": {},
   "outputs": [
    {
     "data": {
      "text/plain": [
       "('2 egy szam', '\"alma\" egy szoveg', '002 egy szam', \"'  alma' egy szoveg\")"
      ]
     },
     "metadata": {},
     "output_type": "display_data"
    }
   ],
   "source": [
    "\n",
    "(\n",
    "    \"%d egy szam\" % 2, \n",
    "    \"\\\"%s\\\" egy szoveg\" % \"alma\", \n",
    "    \"%03d egy szam\" % 2, \n",
    "    \"'% 6s' egy szoveg\" % \"alma\"\n",
    ")"
   ]
  },
  {
   "cell_type": "code",
   "execution_count": null,
   "metadata": {},
   "outputs": [
    {
     "data": {
      "text/plain": [
       "('2 egy szam', '\"alma\" egy szoveg', '002 egy szam', \"'  alma' egy szoveg\")"
      ]
     },
     "metadata": {},
     "output_type": "display_data"
    }
   ],
   "source": [
    "(\n",
    "    \"{a} egy szam\".format(a=2), \n",
    "    \"\\\"{s}\\\" egy szoveg\".format(s=\"alma\"), \n",
    "    \"{0:03d} egy szam\".format(2), \n",
    "    \"'{0:>6}' egy szoveg\".format(\"alma\")\n",
    ")"
   ]
  },
  {
   "cell_type": "markdown",
   "metadata": {},
   "source": [
    "# Megoldottam a házifeladatot, hogy lesz ebből beadott állomány?"
   ]
  },
  {
   "attachments": {
    "Screenshot from 2023-09-08 15-06-01.png": {
     "image/png": "[encoded data removed]"
    },
    "Screenshot from 2023-09-08 15-11-27.png": {
     "image/png": "[encoded data removed]"
    }
   },
   "cell_type": "markdown",
   "metadata": {},
   "source": [
    "Töltsük le a colabról a kidolgozott munkafüzetet, és töltsük fel a Canvasba.\n",
    "![](<attachment:Screenshot from 2023-09-08 15-06-01.png>)\n",
    "\n",
    "Érdemes az értesítéseket beállítani a Canvasban. Így azonnal visszajelzést kaphatunk a házi feladatról.\n",
    "\n",
    "![](<attachment:Screenshot from 2023-09-08 15-11-27.png>)"
   ]
  }
 ],
 "metadata": {
  "kernelspec": {
   "display_name": "python3.10",
   "language": "python",
   "name": "python3"
  },
  "language_info": {
   "codemirror_mode": {
    "name": "ipython",
    "version": 3
   },
   "file_extension": ".py",
   "mimetype": "text/x-python",
   "name": "python",
   "nbconvert_exporter": "python",
   "pygments_lexer": "ipython3",
   "version": "3.10.12"
  }
 },
 "nbformat": 4,
 "nbformat_minor": 2
}
