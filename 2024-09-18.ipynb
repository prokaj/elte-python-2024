{
 "cells": [
  {
   "cell_type": "markdown",
   "metadata": {},
   "source": [
    "[![Open In Colab](https://colab.research.google.com/assets/colab-badge.svg)](https://colab.research.google.com/github/prokaj/2024-elte-python/blob/main/2024-09-18.ipynb)"
   ]
  },
  {
   "cell_type": "markdown",
   "metadata": {},
   "source": [
    "A munkafüzet első része követi a [Harvard cs50](https://cs50.harvard.edu/python/2022/) kurzus első előadásának felépítését."
   ]
  },
  {
   "cell_type": "markdown",
   "metadata": {},
   "source": [
    "# Eszközök\n",
    "\n",
    "Az órán a [colab](https://colab.research.google.com)-ot fogjuk használni. Ha valakinek már rutinosabb, pl. telepítve van a gépére Python, megfelelő szövegszerkesztő használja nyugodtan. Sokáig Jupyter notebookban fogunk dolgozni. "
   ]
  },
  {
   "cell_type": "markdown",
   "metadata": {},
   "source": [
    "# AI eszközök\n",
    "\n",
    "A Google Colab szolgáltatásához a cég Gemini nevű kódolási segédje van integrálva. Ha valaki VScode-ot használ jogosult ingyenes copilot-ra. \n",
    "\n",
    "Ezek használata a házi feladatokhoz **engedélyezett**. Érdemes azonban észben tartani, hogy ezek az eszközök nem tökéletesek. \n",
    "\n",
    "Ha valaki nyilvánvalóan ezek valamelyikével készíti el a házifeladat megoldását, visszajelzést a megoldás helyességéről csak a határidő után fog kapni.\n"
   ]
  },
  {
   "cell_type": "markdown",
   "metadata": {},
   "source": [
    "# Ismétlés előadásról"
   ]
  },
  {
   "cell_type": "markdown",
   "metadata": {},
   "source": [
    "Láttunk néhány beépített függvényt:\n",
    "\n",
    "- `print`\n",
    "\n",
    "- `input`\n",
    "\n",
    "- `type`\n",
    "\n",
    "- `int`, `float`, `str`\n",
    "\n",
    "\n",
    "Néhány konstrukciót:\n",
    "\n",
    "- `for` ciklus:\n",
    "\n",
    "  ```{python}\n",
    "  for i in range(10):\n",
    "      print(i)\n",
    "  ```\n",
    "\n",
    "- `while` ciklus:\n",
    "\n",
    "  ```python\n",
    "  i = 0\n",
    "  while i < 10:\n",
    "      print(i)\n",
    "      i = i+1\n",
    "  ```\n",
    "\n",
    "- függvény definíció:\n",
    "\n",
    "  ```{python}\n",
    "  def f(i):\n",
    "      return 2*i\n",
    "  ```\n",
    "\n",
    "Műveletek számokkal, sztringekkel. \n",
    "\n",
    "`f-string` használata."
   ]
  },
  {
   "cell_type": "markdown",
   "metadata": {},
   "source": []
  },
  {
   "cell_type": "markdown",
   "metadata": {},
   "source": [
    "A `print` függvényről gyors segítséget kaphatunk, ha a nevéhez `?`-t fűzünk (ez lényegében ugyanaz, mintha `help(print)`-et használnánk):\n"
   ]
  },
  {
   "cell_type": "code",
   "execution_count": null,
   "metadata": {},
   "outputs": [],
   "source": [
    "print?"
   ]
  },
  {
   "cell_type": "markdown",
   "metadata": {},
   "source": [
    "## Feladatok\n"
   ]
  },
  {
   "cell_type": "markdown",
   "metadata": {},
   "source": [
    "\n",
    "A `print` függvény dokumentációja alapján oldjuk meg a következőket:\n",
    "\n",
    "- egy `print` hívás 3 paraméterrel. A paraméterek külön sorba íródnak.\n",
    "\n",
    "- két `print` hívás, de a szövegek egymás után vesszővel és szóközzel elválasztva jelennek meg.\n",
    "\n",
    "- két `print` hívás. Az első eredménye után két sorral lentebbre ír a második hívás.\n",
    "\n",
    "- két `print` hívás. A második felülírja az elsőt. \n"
   ]
  },
  {
   "cell_type": "code",
   "execution_count": null,
   "metadata": {},
   "outputs": [],
   "source": [
    "import time\n"
   ]
  },
  {
   "cell_type": "code",
   "execution_count": null,
   "metadata": {},
   "outputs": [],
   "source": [
    "\n",
    "a = \"alma\"\n",
    "b = \"körte\"\n",
    "c = \"dinnye\"\n",
    "\n",
    "# egészítsük ki a print függvényt, hogy a, b, c külon sorokba kerüljenek \n",
    "print(a, b, c)\n"
   ]
  },
  {
   "cell_type": "code",
   "execution_count": null,
   "metadata": {},
   "outputs": [],
   "source": [
    "# egészítsük ki a print függvényt\n",
    "#két `print` hívás, de a szövegek egymás után vesszővel és szóközzel elválasztva jelennek meg.\n",
    "print(a)\n",
    "\n",
    "print(b)"
   ]
  },
  {
   "cell_type": "code",
   "execution_count": null,
   "metadata": {},
   "outputs": [],
   "source": [
    "# egészítsük ki a print függvényt\n",
    "# két `print` hívás. Az első eredménye után két sorral lentebbre ír a második hívás.\n",
    "print(a)\n",
    "\n",
    "print(b)"
   ]
  },
  {
   "cell_type": "code",
   "execution_count": null,
   "metadata": {},
   "outputs": [],
   "source": [
    "\n",
    "# egészítsük ki a print függvényt\n",
    "# A második felülírja az elsőt.\n",
    "print(a)\n",
    "time.sleep(0.5)\n",
    "print(b)"
   ]
  },
  {
   "cell_type": "markdown",
   "metadata": {},
   "source": [
    "A colab-on `\\r` carrige return karakter nem úgy viselkedik, mint más környezetekben.\n",
    "\n",
    "https://github.com/googlecolab/colabtools/issues/166"
   ]
  },
  {
   "cell_type": "code",
   "execution_count": 31,
   "metadata": {},
   "outputs": [
    {
     "data": {
      "text/plain": [
       "Done."
      ]
     },
     "metadata": {},
     "output_type": "display_data"
    }
   ],
   "source": [
    "import IPython\n",
    "import time\n",
    "out = display(IPython.display.Pretty('Starting'), display_id=True)\n",
    "time.sleep(1)\n",
    "\n",
    "for i in range(10):\n",
    "  out.update(IPython.display.Pretty('Going' + '.' * (i % 3 + 1)))\n",
    "  time.sleep(1)\n",
    "\n",
    "out.update(IPython.display.Pretty('Done.'))"
   ]
  },
  {
   "cell_type": "code",
   "execution_count": 33,
   "metadata": {},
   "outputs": [
    {
     "name": "stdout",
     "output_type": "stream",
     "text": [
      "körte\n"
     ]
    }
   ],
   "source": [
    "print(\"alma\", end=\"\")\n",
    "time.sleep(1)\n",
    "print(\"\\rkörte\")"
   ]
  },
  {
   "cell_type": "markdown",
   "metadata": {},
   "source": [
    "# Saját függvények, `def`\n",
    "\n",
    "A kis üdvözlő programunknak két része volt, beolvasás kiírás.\n",
    "Mindkettőből készíthetünk függvényt.\n",
    "Kezdjük a kiírással: "
   ]
  },
  {
   "cell_type": "code",
   "execution_count": null,
   "metadata": {},
   "outputs": [],
   "source": [
    "def say_hello():\n",
    "    print('Szia')\n",
    "\n",
    "name = input(\"Hogy hívnak? \").strip().title()\n",
    "say_hello()\n",
    "print(name)"
   ]
  },
  {
   "cell_type": "markdown",
   "metadata": {},
   "source": [
    "Kicsit ügyesebben:"
   ]
  },
  {
   "cell_type": "code",
   "execution_count": null,
   "metadata": {},
   "outputs": [],
   "source": [
    "\n",
    "def say_hello(to=\"világ\"):\n",
    "    print(f\"Szia {to}!\")\n",
    "\n",
    "name = input(\"Hogy hívnak? \").strip().title()\n",
    "say_hello(name)"
   ]
  },
  {
   "cell_type": "markdown",
   "metadata": {},
   "source": [
    "# Függvény visszatérési értékkel\n",
    "\n",
    "Gyakran a függvénytől azt várjuk, hogy számoljon ki valamit, de ne írja ki a képernyőre az eredményt, hanem adja vissza az értéket.\n",
    "Ezt a `return` statement-tel érhetjük el."
   ]
  },
  {
   "cell_type": "code",
   "execution_count": null,
   "metadata": {},
   "outputs": [],
   "source": [
    "def main():\n",
    "    name = input(\"Hogy hívnak? \")\n",
    "    greeting = say_hello(name)\n",
    "    print(greeting)\n",
    "\n",
    "def say_hello(to=\"világ\"):\n",
    "    return f\"Szia {to}!\"\n"
   ]
  },
  {
   "cell_type": "markdown",
   "metadata": {},
   "source": [
    "Két függvényt hoztunk létre. Futtatás:"
   ]
  },
  {
   "cell_type": "code",
   "execution_count": null,
   "metadata": {},
   "outputs": [],
   "source": [
    "main()"
   ]
  },
  {
   "cell_type": "markdown",
   "metadata": {},
   "source": [
    "# Függvény több visszatérési értékkel\n",
    "\n",
    "A `return` után felsoroljuk a visszatérési értékeket vesszővel elválasztva."
   ]
  },
  {
   "cell_type": "code",
   "execution_count": 93,
   "metadata": {},
   "outputs": [],
   "source": [
    "def swap(a, b):\n",
    "    return b, a"
   ]
  },
  {
   "cell_type": "markdown",
   "metadata": {},
   "source": [
    "Használat"
   ]
  },
  {
   "cell_type": "code",
   "execution_count": null,
   "metadata": {},
   "outputs": [],
   "source": [
    "x, y = 1, 2\n",
    "for _ in range(3):\n",
    "    print(f\"{x=}, {y=}\")\n",
    "    x, y = swap(x, y)\n",
    "print(f\"{x=}, {y=}\")\n"
   ]
  },
  {
   "cell_type": "markdown",
   "metadata": {},
   "source": [
    "# Idézőjelek\n",
    "\n",
    "Hogy tudjuk elérni, hogy idézőjelet tartalmazzon a szöveg?\n",
    "\n",
    "Működik-e a következő változat?\n",
    "\n",
    "```python\n",
    "print(\"hello \"friend\"\")\n",
    "```\n",
    "\n",
    "A szokásos megoldások:\n",
    "\n",
    "- Kétféle idéző jelet ismer a Python `'` és `\"` : `print('hello \"friend\"')` már nem dob hibát.\n",
    "\n",
    "- Escape karakter `\\`: `print(\"hello \\\"friend\\\" or \\'friend\\'\")`. `\\'` és '\\\"' idézőjelként jelenik meg  a szövegben, de nem zavarja össze az interpretert.\n",
    "\n"
   ]
  },
  {
   "cell_type": "markdown",
   "metadata": {},
   "source": [
    "# f-string, formázott string\n",
    "\n",
    "Az üdvözlő programunkra egy újabb megoldás:\n"
   ]
  },
  {
   "cell_type": "code",
   "execution_count": null,
   "metadata": {},
   "outputs": [],
   "source": [
    "\n",
    "# Ask user for their name\n",
    "name = input(\"Hogy hívnak? \")\n",
    "print(f\"Szia {name}\")\n"
   ]
  },
  {
   "cell_type": "markdown",
   "metadata": {},
   "source": [
    "\n",
    "A string egy `f` módosítóval kezdődik. Ez jelzi az interpreternek, hogy a a kapcsos zárójelben lévő kifejezéseket először ki kell értékelni és az eredményt kell a végeredménybe helyettesíteni.\n"
   ]
  },
  {
   "cell_type": "markdown",
   "metadata": {},
   "source": [
    "# Még néhány apróság string-ekről\n",
    "\n",
    "Mindig érdemes ellenőrizni a felhasználótól kapott adatot. pl. ha a beírt név `␣␣␣␣␣␣nagy␣jÓzSeF␣␣␣␣`, a felesleges szóközöktől jó lenne megszabadulni, és a kisbetű nagybetű zavart is meg kellene szüntetni.\n",
    "\n",
    "string-eken értelemes a `strip` metódus. Ez egy függvény, de a korábbiakkal ellentétben általában `name.strip()` alakban használjuk (lehetne `str.strip(name)`). "
   ]
  },
  {
   "cell_type": "code",
   "execution_count": null,
   "metadata": {},
   "outputs": [],
   "source": [
    "# Ask user for their name\n",
    "name = input(\"Hogy hívnak? \")\n",
    "\n",
    "# Remove whitespace from the str\n",
    "name = name.strip()\n",
    "\n",
    "print(f\"Szia {name}\")\n"
   ]
  },
  {
   "cell_type": "markdown",
   "metadata": {},
   "source": [
    "A `title` metódus a szöveg minden szavában az első karaktert nagy betűre a többit kicsire változtatja."
   ]
  },
  {
   "cell_type": "code",
   "execution_count": null,
   "metadata": {},
   "outputs": [],
   "source": [
    "str.capitalize?"
   ]
  },
  {
   "cell_type": "code",
   "execution_count": null,
   "metadata": {},
   "outputs": [],
   "source": [
    "str.title?"
   ]
  },
  {
   "cell_type": "code",
   "execution_count": null,
   "metadata": {},
   "outputs": [],
   "source": [
    "# Ask user for their name\n",
    "name = input(\"Hogy hívnak? \")\n",
    "\n",
    "# Remove whitespace from the str\n",
    "name = name.strip()\n",
    "\n",
    "# Capitalize the first letter of each word\n",
    "name = name.title()\n",
    "\n",
    "print(f\"Szia {name}\")\n"
   ]
  },
  {
   "cell_type": "markdown",
   "metadata": {},
   "source": [
    "Kezd túl hosszúvá válni ez az egyszerű program. Szükség van minden sorra?"
   ]
  },
  {
   "cell_type": "code",
   "execution_count": null,
   "metadata": {},
   "outputs": [],
   "source": [
    "# Ask user for their name, remove whitespace and the first letter of each word\n",
    "name = input(\"Hogy hívnak? \").strip().title()\n",
    "\n",
    "print(f\"Szia {name}\")\n"
   ]
  },
  {
   "cell_type": "markdown",
   "metadata": {},
   "source": [
    "# Emlékeztető. Sztringkezelő műveletek\n",
    "\n",
    "A sztringekre az aritmetikai műveletek általában nem alkalmazhatók, de a `+` és a `*` jel működik, a következőképpen:"
   ]
  },
  {
   "cell_type": "code",
   "execution_count": null,
   "metadata": {},
   "outputs": [],
   "source": [
    "'ha' + 'ha', "
   ]
  },
  {
   "cell_type": "code",
   "execution_count": null,
   "metadata": {},
   "outputs": [],
   "source": [
    "'ha' * 2"
   ]
  },
  {
   "cell_type": "markdown",
   "metadata": {},
   "source": [
    "## Az összes string művelet listája"
   ]
  },
  {
   "cell_type": "code",
   "execution_count": null,
   "metadata": {},
   "outputs": [],
   "source": [
    "string_methods = dir(str)\n",
    "\n",
    "print(f\"{len(string_methods) = }\")\n",
    "\n",
    "items_per_line = 5\n",
    "max_width = max(len(x) for x in string_methods)\n",
    "\n",
    "string_methods = [f\"{x:{max_width}}\" for x in string_methods]\n",
    "\n",
    "for i in range(0, len(string_methods), items_per_line):\n",
    "    print(*string_methods[i:i+items_per_line])\n",
    "    "
   ]
  },
  {
   "cell_type": "code",
   "execution_count": null,
   "metadata": {},
   "outputs": [],
   "source": [
    "str.zfill?"
   ]
  },
  {
   "cell_type": "code",
   "execution_count": null,
   "metadata": {},
   "outputs": [],
   "source": [
    "'100'.zfill(20)"
   ]
  },
  {
   "cell_type": "markdown",
   "metadata": {},
   "source": [
    "## string részsorozata"
   ]
  },
  {
   "cell_type": "markdown",
   "metadata": {},
   "source": [
    "A sztring karaktereinek indexe is van, az indexelés a 0-val kezdődik. Adott indexű karakter lekérdezése a sztring neve után szögletes zárójelbe tett indexszel történik."
   ]
  },
  {
   "cell_type": "code",
   "execution_count": null,
   "metadata": {},
   "outputs": [],
   "source": [
    "szoveg = 'kutya'\n",
    "szoveg[0]"
   ]
  },
  {
   "cell_type": "code",
   "execution_count": null,
   "metadata": {},
   "outputs": [],
   "source": [
    "szoveg[1]"
   ]
  },
  {
   "cell_type": "code",
   "execution_count": null,
   "metadata": {},
   "outputs": [],
   "source": [
    "szoveg[0:2], szoveg[:10], szoveg[:-3], szoveg[-3:]"
   ]
  },
  {
   "cell_type": "markdown",
   "metadata": {},
   "source": [
    "Itt vajon mi történik?"
   ]
  },
  {
   "cell_type": "code",
   "execution_count": null,
   "metadata": {},
   "outputs": [],
   "source": [
    "szoveg[::2], szoveg[::-1]"
   ]
  },
  {
   "cell_type": "markdown",
   "metadata": {},
   "source": [
    "### Feladat.\n",
    "\n",
    "- Írjunk egy függvényt, ami a vezeték- és keresztnévből összerakja a teljes nevet. A függvény két sztringet kap, egyet visszaad. Nem ír ki semmit!\n",
    "\n",
    "- Írjunk egy függvényt, ami a vezeték- és keresztnévből összerakja a monogramot. \n",
    "\n",
    "- Írjunk egy függvényt, ami a vezeték- és keresztnévből összerakja a becenevet a vezetéknév első két betűjének megkettőzésével.\n",
    " "
   ]
  },
  {
   "cell_type": "code",
   "execution_count": null,
   "metadata": {},
   "outputs": [],
   "source": [
    "\n",
    "def full_name(first, last):\n",
    "    \"\"\"first a vezeték név, last a kereszt név\"\"\"\n",
    "    pass\n",
    "\n",
    "\n",
    "def monogram(first, last):\n",
    "    \"\"\"first a vezeték név, last a kereszt név\"\"\"\n",
    "    pass\n",
    "\n",
    "\n",
    "def nickname(first, last):\n",
    "    \"\"\"first a vezeték név, last a kereszt név\"\"\"\n",
    "    pass"
   ]
  },
  {
   "cell_type": "markdown",
   "metadata": {},
   "source": [
    "A feladatot sikerült megoldani, ha a következő cella hiba nélkül lefut."
   ]
  },
  {
   "cell_type": "code",
   "execution_count": null,
   "metadata": {},
   "outputs": [],
   "source": [
    "\n",
    "vezeteknev = 'Nagy'\n",
    "keresztnev = 'Ibolya'\n",
    "\n",
    "assert full_name(vezeteknev, keresztnev) == 'Nagy Ibolya'\n",
    "assert monogram(vezeteknev, keresztnev) == 'NI'\n",
    "assert nickname(vezeteknev, keresztnev) == 'Nana'"
   ]
  },
  {
   "cell_type": "markdown",
   "metadata": {},
   "source": [
    "útmutatás: Mit csinál a `lower`, `upper`, `capitalize` metódus egy sztringgel?\n",
    "\n",
    "Próbáljuk ki!"
   ]
  },
  {
   "cell_type": "code",
   "execution_count": null,
   "metadata": {},
   "outputs": [],
   "source": [
    "szo = 'kuTYa'\n",
    "szo.upper(), szo.lower(), szo.capitalize()"
   ]
  },
  {
   "cell_type": "markdown",
   "metadata": {},
   "source": [
    "## Karakter kódok"
   ]
  },
  {
   "cell_type": "code",
   "execution_count": 102,
   "metadata": {},
   "outputs": [
    {
     "data": {
      "text/plain": [
       "(97, 101, 105, 111, 117, 128587)"
      ]
     },
     "execution_count": 102,
     "metadata": {},
     "output_type": "execute_result"
    }
   ],
   "source": [
    "ord('a'), ord('e'), ord('i'), ord('o'), ord('u'), ord('🙋')"
   ]
  },
  {
   "cell_type": "code",
   "execution_count": 103,
   "metadata": {},
   "outputs": [
    {
     "data": {
      "text/plain": [
       "('a', 'e', 'i', 'o', 'u', '🙋')"
      ]
     },
     "execution_count": 103,
     "metadata": {},
     "output_type": "execute_result"
    }
   ],
   "source": [
    "chr(97), chr(101), chr(105), chr(111), chr(117), chr(128587)"
   ]
  },
  {
   "cell_type": "markdown",
   "metadata": {},
   "source": [
    "# Számok"
   ]
  },
  {
   "cell_type": "markdown",
   "metadata": {},
   "source": [
    "# Műveletek számokkal"
   ]
  },
  {
   "cell_type": "markdown",
   "metadata": {},
   "source": [
    "Aritmetikai művelek: (`+`, `-`, `*`, `**`, `/`, `%`). Ehhez néhány kiegészítés: \n",
    "Ha float szerepel egy kifejezésben, akkor az eredmény is float lesz:"
   ]
  },
  {
   "cell_type": "code",
   "execution_count": null,
   "metadata": {},
   "outputs": [],
   "source": [
    "5-2.0"
   ]
  },
  {
   "cell_type": "markdown",
   "metadata": {},
   "source": [
    "A hatványozás két `*` jellel történik, amelyek között nem lehet szóköz."
   ]
  },
  {
   "cell_type": "code",
   "execution_count": null,
   "metadata": {},
   "outputs": [],
   "source": [
    "2 ** 3"
   ]
  },
  {
   "cell_type": "markdown",
   "metadata": {},
   "source": [
    "Sokszor hasznos a `//` jellel végzett egész osztás: `a // b` megadja, hogy `a`-ban hányszor van meg `b`, továbbá a `%` jellel végzett maradékos osztás: `a % b` megadja, hogy `a`-t `b`-vel osztva mennyi a maradék."
   ]
  },
  {
   "cell_type": "code",
   "execution_count": null,
   "metadata": {},
   "outputs": [],
   "source": [
    "10 // 3"
   ]
  },
  {
   "cell_type": "code",
   "execution_count": null,
   "metadata": {},
   "outputs": [],
   "source": [
    "10 % 3"
   ]
  },
  {
   "cell_type": "markdown",
   "metadata": {},
   "source": [
    "Osztás és maradék számítás egyben: `divmod`"
   ]
  },
  {
   "cell_type": "code",
   "execution_count": null,
   "metadata": {},
   "outputs": [],
   "source": [
    "divmod(1440, 60)"
   ]
  },
  {
   "cell_type": "markdown",
   "metadata": {},
   "source": [
    "Példák:\n",
    "1) Számítsuk ki, hogy x (pl. x = 10000) másodperc hány óra, perc ill. nap."
   ]
  },
  {
   "cell_type": "code",
   "execution_count": null,
   "metadata": {},
   "outputs": [],
   "source": [
    "def day_hour_minute(seconds):\n",
    "    \"\"\"Convert seconds to days, hours and minutes and seconds\"\"\"\n",
    "    pass"
   ]
  },
  {
   "cell_type": "code",
   "execution_count": null,
   "metadata": {},
   "outputs": [],
   "source": [
    "assert day_hour_minute(24*60*60) == (1, 0, 0, 0)\n",
    "assert day_hour_minute(24*60*60 + 3600) == (1, 1, 0, 0)\n",
    "assert day_hour_minute(3600 + 60) == (0, 1, 1, 0)\n",
    "assert day_hour_minute(63) == (0, 0, 1, 3)\n",
    "assert day_hour_minute(10000) == (1, 3, 46, 40)\n",
    "assert day_hour_minute(3600 + 60 + 2.5) == (0, 1, 1, 2.5)\n",
    "\n"
   ]
  },
  {
   "cell_type": "markdown",
   "metadata": {},
   "source": [
    "## Egészek,  az `int` típus\n",
    "\n",
    "Pythonban az egész számokat az `int` típussal ábrázoljuk. \n",
    "\n",
    "A szokásos műveletek: `+`, `-`, `*`, `/` mellett, két további is van `//` és `%` az utóbbi kettő a maradékos osztást valósítja meg, `x = (x//y) * y + (x%y)`. `x//y` a hányados egész része, `x%y` a maradék. \n",
    "\n",
    "Példa."
   ]
  },
  {
   "cell_type": "code",
   "execution_count": null,
   "metadata": {},
   "outputs": [],
   "source": [
    "x = 1\n",
    "y = 2\n",
    "\n",
    "z = x + y\n",
    "\n",
    "print(z)"
   ]
  },
  {
   "cell_type": "markdown",
   "metadata": {},
   "source": [
    "Kissé érdekesebbé tehetjük a kalkulátorunkat, ha `x`, `y` értékét beolvassuk."
   ]
  },
  {
   "cell_type": "code",
   "execution_count": null,
   "metadata": {},
   "outputs": [],
   "source": [
    "x = input(\"Mi legyen x? \")\n",
    "y = input(\"Mi legyen y? \")\n",
    "\n",
    "z = x + y\n",
    "\n",
    "print(z)"
   ]
  },
  {
   "cell_type": "markdown",
   "metadata": {},
   "source": [
    "**Mi a hiba????**\n",
    "\n",
    "Javítsuk ki!"
   ]
  },
  {
   "cell_type": "code",
   "execution_count": null,
   "metadata": {},
   "outputs": [],
   "source": [
    "## JAVÍTSUK KI!!!!\n",
    "x = input(\"Mi legyen x? \")\n",
    "y = input(\"Mi legyen y? \")\n",
    "\n",
    "z = x + y\n",
    "\n",
    "print(z)"
   ]
  },
  {
   "cell_type": "markdown",
   "metadata": {},
   "source": [
    "Típuskonverzióra a típus nevét használhatjuk:\n",
    "pl.\n",
    "```\n",
    "int(\"3\")\n",
    "str(3)\n",
    "```"
   ]
  },
  {
   "cell_type": "markdown",
   "metadata": {},
   "source": [
    "Mekkora lehet egy egész szám?"
   ]
  },
  {
   "cell_type": "code",
   "execution_count": null,
   "metadata": {},
   "outputs": [],
   "source": [
    "\n",
    "print(1)\n",
    "print(2**200)\n"
   ]
  },
  {
   "cell_type": "code",
   "execution_count": null,
   "metadata": {},
   "outputs": [],
   "source": [
    "print(dir(int))\n",
    "\n",
    "## nem rejtett metódusok listázása\n",
    "## később kiderül mi is történik itt\n",
    "print([ name for name in dir(int) if not name.startswith(\"_\")])"
   ]
  },
  {
   "cell_type": "code",
   "execution_count": null,
   "metadata": {},
   "outputs": [],
   "source": [
    "## Egy kérdőjel a sor végén az adott objektum doksiját hozza elő!\n",
    "int.bit_count?"
   ]
  },
  {
   "cell_type": "code",
   "execution_count": null,
   "metadata": {},
   "outputs": [],
   "source": [
    "(2**200).bit_length()"
   ]
  },
  {
   "cell_type": "code",
   "execution_count": null,
   "metadata": {},
   "outputs": [],
   "source": [
    "import sys \n",
    "\n",
    "print(sys.getsizeof(2**200))\n",
    "print(3*8 + (201+7)//8)"
   ]
  },
  {
   "cell_type": "markdown",
   "metadata": {},
   "source": [
    "## Számok, példák"
   ]
  },
  {
   "cell_type": "code",
   "execution_count": null,
   "metadata": {},
   "outputs": [],
   "source": [
    "type(12)"
   ]
  },
  {
   "cell_type": "markdown",
   "metadata": {},
   "source": [
    "Egy egész lehet pozitív és negatív is, tizedespont nélkül írjuk, és nagyságukra nincs korlát, de nem kezdhetjük nullával."
   ]
  },
  {
   "cell_type": "code",
   "execution_count": null,
   "metadata": {},
   "outputs": [],
   "source": [
    "09"
   ]
  },
  {
   "cell_type": "markdown",
   "metadata": {},
   "source": [
    "Az egész számok akármilyen nagyok lehetnek és ezres blokkokba csoportosítva is megadhatjuk őket:"
   ]
  },
  {
   "cell_type": "code",
   "execution_count": null,
   "metadata": {},
   "outputs": [],
   "source": [
    "1_000_456_123, 1_000_000_000_000_000_000"
   ]
  },
  {
   "cell_type": "markdown",
   "metadata": {},
   "source": [
    "##### Feladat\n",
    "\n",
    "- Határozzuk meg egy egész szám (pl. n = 12896) \n",
    "    \n",
    "   a) utolsó, \n",
    "\n",
    "   b) utolsó kettő, \n",
    "   \n",
    "   c) utolsó három számjegyét."
   ]
  },
  {
   "cell_type": "code",
   "execution_count": null,
   "metadata": {},
   "outputs": [],
   "source": [
    "def last_digit(x):\n",
    "    pass\n",
    "\n",
    "def last_two_digits(x):\n",
    "    pass\n",
    "\n",
    "def last_three_digits(x):\n",
    "    pass"
   ]
  },
  {
   "cell_type": "markdown",
   "metadata": {},
   "source": [
    "Ha a kód jó, akkor a következő cella hiba nélkül lefut"
   ]
  },
  {
   "cell_type": "code",
   "execution_count": null,
   "metadata": {},
   "outputs": [],
   "source": [
    "assert last_digit(123) == 3\n",
    "assert last_digit(1234) == 4\n",
    "assert last_digit(12345) == 5\n",
    "\n",
    "assert last_two_digits(3) == (0,3)\n",
    "assert last_two_digits(123) == (2,3)\n",
    "assert last_two_digits(1234) == (3, 4)\n",
    "assert last_two_digits(12345) == (4, 5)\n",
    "\n",
    "assert last_three_digits(3) == (0, 0, 3)\n",
    "assert last_three_digits(123) == (1, 2, 3)\n",
    "assert last_three_digits(1234) == (2, 3, 4)\n",
    "assert last_three_digits(12345) == (3, 4, 5)\n"
   ]
  },
  {
   "cell_type": "markdown",
   "metadata": {},
   "source": [
    "3) Hogyan vizsgálhatjuk meg, hogy egy $k$ szám páros vagy páratlan-e?"
   ]
  },
  {
   "cell_type": "code",
   "execution_count": null,
   "metadata": {},
   "outputs": [],
   "source": [
    "def is_even(num):\n",
    "    pass\n"
   ]
  },
  {
   "cell_type": "code",
   "execution_count": null,
   "metadata": {},
   "outputs": [],
   "source": [
    "assert is_even(2) == True\n",
    "assert is_even(3) == False\n",
    "assert is_even(4) == True\n",
    "assert is_even(-1) == False\n",
    "assert is_even(0) == True\n"
   ]
  },
  {
   "cell_type": "markdown",
   "metadata": {},
   "source": [
    "## Lebegőpontos számok (valós számok)\n",
    "\n",
    "Ha nem csak egészekkel szeretnénk számolni, akkor a `float` típust használhatjuk."
   ]
  },
  {
   "cell_type": "code",
   "execution_count": null,
   "metadata": {},
   "outputs": [],
   "source": [
    "x = float(input(\"Mi legyen x? \"))\n",
    "y = float(input(\"Mi legyen y? \"))\n",
    "\n",
    "z = x + y\n",
    "\n",
    "print(z)"
   ]
  },
  {
   "cell_type": "markdown",
   "metadata": {},
   "source": [
    "Hogyan tudnánk az eredményt a legközelebbi egészre kerekíteni. Erre szolgál a `round` függvény."
   ]
  },
  {
   "cell_type": "code",
   "execution_count": null,
   "metadata": {},
   "outputs": [],
   "source": [
    "# Get the user's input\n",
    "x = float(input(\"Mi legyen x? \"))\n",
    "y = float(input(\"Mi legyen y? \"))\n",
    "\n",
    "# Create a rounded result\n",
    "z = round(x + y)\n",
    "\n",
    "# Print the result\n",
    "print(z)"
   ]
  },
  {
   "cell_type": "markdown",
   "metadata": {},
   "source": [
    "Ha nagy számokat akarunk kiírni, akkor jó ha az ezres csoportok láthatóak."
   ]
  },
  {
   "cell_type": "code",
   "execution_count": null,
   "metadata": {},
   "outputs": [],
   "source": [
    "# Get the user's input\n",
    "x = float(input(\"Mi legyen x? \"))\n",
    "y = float(input(\"Mi legyen y? \"))\n",
    "\n",
    "# Print the rounded result\n",
    "print(f\"{round(x + y) = :_}\")"
   ]
  },
  {
   "cell_type": "markdown",
   "metadata": {},
   "source": [
    "Az `f-string` konstrukció nagyon hatékony. Érdemes átnézni a dokumentációt."
   ]
  },
  {
   "cell_type": "markdown",
   "metadata": {},
   "source": [
    "# További apróságok lebegő pontos számokról\n",
    "\n",
    "Módosítsuk a kalkulátorunk műveletét összeadás helyett osztásra."
   ]
  },
  {
   "cell_type": "code",
   "execution_count": null,
   "metadata": {},
   "outputs": [],
   "source": [
    "\n",
    "x = float(input(\"Mi legyen x? \"))\n",
    "y = float(input(\"Mi legyen y? \"))\n",
    "\n",
    "z = x / y\n",
    "\n",
    "print(z)"
   ]
  },
  {
   "cell_type": "markdown",
   "metadata": {},
   "source": [
    "Ha `x = 2`, `y = 3` az eredmény `0.6666666666`. Tudunk-e 2 tizedesjegyre kerekíteni?"
   ]
  },
  {
   "cell_type": "code",
   "execution_count": null,
   "metadata": {},
   "outputs": [],
   "source": [
    "round?"
   ]
  },
  {
   "cell_type": "code",
   "execution_count": null,
   "metadata": {},
   "outputs": [],
   "source": [
    "# Get the user's input\n",
    "x = float(input(\"Mi legyen x? \"))\n",
    "y = float(input(\"Mi legyen y? \"))\n",
    "\n",
    "z = round(x / y, 2)\n",
    "# Print the rounded result\n",
    "print(z)"
   ]
  },
  {
   "cell_type": "markdown",
   "metadata": {},
   "source": [
    "Ha csak a megjelenítést akarjuk olvashatóbbá tenni, akkor nem érdemes magát az értéket megváltoztatni."
   ]
  },
  {
   "cell_type": "code",
   "execution_count": null,
   "metadata": {},
   "outputs": [],
   "source": [
    "# Get the user's input\n",
    "x = float(input(\"Mi legyen x? \"))\n",
    "y = float(input(\"Mi legyen y? \"))\n",
    "\n",
    "z = x / y\n",
    "# Print the rounded result\n",
    "print(f\"{z:.2f}\")"
   ]
  },
  {
   "cell_type": "markdown",
   "metadata": {},
   "source": [
    "## Mekkora lehet egy lebegőpontos szám?"
   ]
  },
  {
   "cell_type": "markdown",
   "metadata": {},
   "source": [
    "A valós (float) számot tizedesponttal írjuk. Ezeket a gép 64 biten tárolja:\n",
    "```\n",
    "előjel, exponens, mantissza  = 1 bit, 11 bit, 52 bit\n",
    "\n",
    "(-1)^{előjel} * 2^{exponens-1023} * (mantissza/2^{52})\n",
    "```\n",
    "alakban.\n",
    "\n",
    "Ez a felbontás kiszámolható  a `math` könyvtár `frexp` függvényével."
   ]
  },
  {
   "cell_type": "code",
   "execution_count": null,
   "metadata": {},
   "outputs": [],
   "source": [
    "import math\n",
    "\n",
    "print(math.frexp(0.5**(1023+51))) \n",
    "print(math.frexp(0.5**(1024+51)))\n",
    "print(math.frexp(2.0**(1023)))\n",
    "# print(math.frexp(2.0**(1024))) # OverflowError: int too large to convert to float"
   ]
  },
  {
   "cell_type": "markdown",
   "metadata": {},
   "source": [
    "Vegyük észre, hogy a függvény visszatérési értéke egy pár! Tudunk-e olyan saját függvényt írni, ami egy párt ad vissza eredményül?"
   ]
  },
  {
   "cell_type": "markdown",
   "metadata": {},
   "source": [
    "## Logikai érték, Bool\n",
    "\n",
    "Igaz (`True`), vagy hamis (`False`) lehet. A szokásos logikai műveletek: `and`, `or`, `not`.  "
   ]
  },
  {
   "cell_type": "code",
   "execution_count": null,
   "metadata": {},
   "outputs": [],
   "source": [
    "bool_0 = 1 < 2\n",
    "bool_1 = 3 < 2\n",
    "\n",
    "bool_0, bool_1, bool_0 and bool_1, bool_0 or bool_1, not bool_0"
   ]
  },
  {
   "cell_type": "code",
   "execution_count": null,
   "metadata": {},
   "outputs": [],
   "source": [
    "print(True + True)\n",
    "print(True - True)\n"
   ]
  },
  {
   "cell_type": "markdown",
   "metadata": {},
   "source": [
    "Mi történik ha több kifejezést kapcsolunk össze `and` vagy `or` operátorral?"
   ]
  },
  {
   "cell_type": "code",
   "execution_count": null,
   "metadata": {},
   "outputs": [],
   "source": [
    "print(9 and 8 and 3 and True and None and 0)"
   ]
  },
  {
   "cell_type": "code",
   "execution_count": null,
   "metadata": {},
   "outputs": [],
   "source": [
    "print(0 or False or None or -1 or 1)"
   ]
  },
  {
   "cell_type": "code",
   "execution_count": null,
   "metadata": {},
   "outputs": [],
   "source": [
    "def f(i):\n",
    "    print(f\"calling `f` with {i=}\")\n",
    "    return i\n",
    "\n",
    "print((f(0)<2) and (f(1)<2) and (f(2)<2) and (f(3)<2)) # a sort a vegtelensegig folytathatank"
   ]
  },
  {
   "cell_type": "markdown",
   "metadata": {},
   "source": [
    "## Bit műveletek"
   ]
  },
  {
   "cell_type": "markdown",
   "metadata": {},
   "source": [
    "Ha egész számaink vannak, akkor azt a gép kettes számrendszerben tárolja, pl. `13=1+4+8`, így a gépben tárolt érték\n",
    "egy olyan bit sorozat, aminek a vége `1101`. Egész számokkal bitenkénti műveleteket is végezhetünk. \n",
    "\n",
    "- és: `&`\n",
    "- vagy: `|`\n",
    "- kizáró vagy: `^`\n",
    "- komplementer: `~`\n",
    "- shift: `<<`, `>>`\n",
    "\n",
    "Ha a bitsorozatra egy halmaz indikátoraként gondolunk, akkor metszet, únió és szimmetrikus differencia az első három művelet.\n",
    "\n",
    "Ahhoz, hogy az eredményről lássuk jó-e a szám kettes számrendszerbeli alakjára van szükségünk.\n",
    "\n",
    "Erre `bin` függvényt használhatjuk  \n",
    "\n",
    "```python\n",
    "Signature: bin(number, /)\n",
    "Docstring:\n",
    "Return the binary representation of an integer.\n",
    "\n",
    ">>> bin(2796202)\n",
    "'0b1010101010101010101010'\n",
    "Type:      builtin_function_or_method\n",
    "```\n",
    "\n",
    "vagy `f`-stringet `f\"{:b}` alakban."
   ]
  },
  {
   "cell_type": "code",
   "execution_count": null,
   "metadata": {},
   "outputs": [],
   "source": [
    "bin(13), f\"{13:05b}\", f\"{13:5b}\""
   ]
  },
  {
   "cell_type": "code",
   "execution_count": null,
   "metadata": {},
   "outputs": [],
   "source": [
    "a = int('101', 2)\n",
    "b = int('110', 2)\n",
    "print(f\"{a = :05b}, {b = :05b}, {a & b = :05b}, {a | b = :05b}, {a ^ b = :05b}, {~a = :05b}\")"
   ]
  },
  {
   "cell_type": "markdown",
   "metadata": {},
   "source": [
    "A biteket lehet ,,shiftelni\" "
   ]
  },
  {
   "cell_type": "code",
   "execution_count": null,
   "metadata": {},
   "outputs": [],
   "source": [
    "13<<1, bin(13), bin(13<<1)"
   ]
  },
  {
   "cell_type": "code",
   "execution_count": null,
   "metadata": {},
   "outputs": [],
   "source": [
    "13>>1, bin(13), bin(13>>1)"
   ]
  },
  {
   "cell_type": "markdown",
   "metadata": {},
   "source": [
    "A bináris alakból visszalehet konvertálni, ha a számrendszer alapját is megadjuk az `int` függvénynek"
   ]
  },
  {
   "cell_type": "code",
   "execution_count": null,
   "metadata": {},
   "outputs": [],
   "source": [
    "bin(26), int(bin(26), base=2)"
   ]
  },
  {
   "cell_type": "code",
   "execution_count": null,
   "metadata": {},
   "outputs": [],
   "source": [
    "n = 25\n",
    "bin(n), ((n) & (-n))"
   ]
  },
  {
   "cell_type": "code",
   "execution_count": null,
   "metadata": {},
   "outputs": [],
   "source": [
    "bin(12), bin(9)"
   ]
  },
  {
   "cell_type": "code",
   "execution_count": null,
   "metadata": {},
   "outputs": [],
   "source": [
    "# & nem ugyanaz, mint and, | nem ugyanaz, mint or \n",
    "bin(12 & 9), bin(12 and 9), bin(12 | 9), bin(12 or 9), bin(12 ^ 9)"
   ]
  },
  {
   "cell_type": "markdown",
   "metadata": {},
   "source": [
    "Ha hexadecimális alakot akarunk, akkor a `hex` függvény kell nekünk.\n",
    "```python\n",
    "Signature: hex(number, /)\n",
    "Docstring:\n",
    "Return the hexadecimal representation of an integer.\n",
    "\n",
    ">>> hex(12648430)\n",
    "'0xc0ffee'\n",
    "```"
   ]
  },
  {
   "cell_type": "code",
   "execution_count": null,
   "metadata": {},
   "outputs": [],
   "source": [
    "hex(112), int(hex(112), base=16)"
   ]
  },
  {
   "cell_type": "markdown",
   "metadata": {},
   "source": [
    "#### Feladat\n",
    "\n",
    "Írjuk meg úja az `is_even` függvényt maradékos osztás nélkül."
   ]
  },
  {
   "cell_type": "markdown",
   "metadata": {},
   "source": [
    "## Negatív számok:\n",
    "\n",
    "Itt a `bin` függvény nem fedi fel teljesen a képet."
   ]
  },
  {
   "cell_type": "code",
   "execution_count": null,
   "metadata": {},
   "outputs": [],
   "source": [
    "print([(-1& (1<< i))>>i for i in range(15)])\n",
    "print([(-1& (1<< i))>>i for i in range(64, 64+15)])\n"
   ]
  },
  {
   "cell_type": "markdown",
   "metadata": {},
   "source": [
    "A -1-re úgy gondolhatunk, hogy minden bitje 1-es.\n",
    "\n",
    "Azaz tetszőleges pozitív `n` esetén `-n-1` az a szám, amivel az összeg bitjei mind 1-esek, vagyis `~n`. "
   ]
  },
  {
   "cell_type": "markdown",
   "metadata": {},
   "source": [
    "#### Feladat\n",
    "\n",
    "Írjunk egy függvényt ami egy nem negatív szám legkisebb helyiértékű nem nulla bitjét számolja ki.\n",
    "Ha a szám nulla az eredmény nulla."
   ]
  },
  {
   "cell_type": "code",
   "execution_count": null,
   "metadata": {},
   "outputs": [],
   "source": [
    "def smallest_bit(num):\n",
    "    pass"
   ]
  },
  {
   "cell_type": "code",
   "execution_count": null,
   "metadata": {},
   "outputs": [],
   "source": [
    "num = 4*7+128 \n",
    "f\"{num:010b}, {4:010b}\""
   ]
  },
  {
   "cell_type": "code",
   "execution_count": null,
   "metadata": {},
   "outputs": [],
   "source": [
    "assert smallest_bit(0) == 0\n",
    "assert smallest_bit(2) == 2\n",
    "assert smallest_bit(6) == 2\n",
    "assert smallest_bit(7) == 1\n",
    "assert smallest_bit(num) == 4\n",
    "\n"
   ]
  },
  {
   "cell_type": "markdown",
   "metadata": {},
   "source": [
    "## Feladat \n",
    "\n",
    "Írjunk egy ciklust, ami végig megy egy szám nem nulla bitjein és mondjuk mindegyiket kiírja. Csak annyiszor hajtsuk végre a ciklus törzsét, ahány nem nulla bit van a számban."
   ]
  },
  {
   "cell_type": "code",
   "execution_count": null,
   "metadata": {},
   "outputs": [],
   "source": [
    "def bits_of_num(num):\n",
    "    pass"
   ]
  },
  {
   "cell_type": "code",
   "execution_count": null,
   "metadata": {},
   "outputs": [],
   "source": []
  },
  {
   "cell_type": "markdown",
   "metadata": {},
   "source": [
    "# Konvertálás egyik típusból a másikba (type casting)"
   ]
  },
  {
   "cell_type": "code",
   "execution_count": null,
   "metadata": {},
   "outputs": [],
   "source": [
    "text = \"1236\"\n",
    "int(text), str(int(text)), repr(int(text)), bool(text), bool(int(text)), bool(0), bool(\"\")"
   ]
  },
  {
   "cell_type": "code",
   "execution_count": null,
   "metadata": {},
   "outputs": [],
   "source": [
    "text = \"3.14\"\n",
    "float(text), str(float(text))"
   ]
  },
  {
   "cell_type": "code",
   "execution_count": null,
   "metadata": {},
   "outputs": [],
   "source": [
    "# de\n",
    "int(text)"
   ]
  },
  {
   "cell_type": "markdown",
   "metadata": {},
   "source": [
    "# Beolvasás, kiírás\n",
    "\n",
    "- standard input: bemenet \n",
    "- standard output: kimenet\n",
    "- standard error: hibaüzenetek helye\n",
    "\n",
    "Alapértelmezésben az `input` függvény egy sornyi szöveget (`str`) olvas be, a `print` függvény pedig kiír egy sort."
   ]
  },
  {
   "cell_type": "code",
   "execution_count": null,
   "metadata": {},
   "outputs": [],
   "source": [
    "text = input()\n",
    "print(f\"{text=}\")"
   ]
  },
  {
   "cell_type": "code",
   "execution_count": null,
   "metadata": {},
   "outputs": [],
   "source": []
  },
  {
   "cell_type": "markdown",
   "metadata": {},
   "source": [
    "# Szöveg formázása\n",
    "\n",
    "Talán a legegyszerűbb a formázott sztring használata:\n",
    "\n",
    "`f\"{name} egyéb szöveg\"`\n",
    "\n",
    "Ekkor a `name` helyettesítődik az aktuális értékével. A `name` helyére nem csak változó nevet, hanem tetszőleges python kifejezést tehetünk. Ekkor az kiértékelődik és az eredmény ,,szöveges\" alakja kerül `{name}` helyére. Pl.  "
   ]
  },
  {
   "cell_type": "code",
   "execution_count": null,
   "metadata": {},
   "outputs": [],
   "source": [
    "a = 12\n",
    "b = 3.14687978945456487895464645454\n",
    "c = \"alma\"\n",
    "d = True\n",
    "print(f\"`a` is a  {type(a)}: {a}\")\n",
    "print(f\"`b` is a  {type(b)}: {b}\")\n",
    "print(f\"`c` is a  {type(c)}: {c}\")\n",
    "print(f\"`d` is a  {type(d)}: {d}\")\n"
   ]
  },
  {
   "cell_type": "markdown",
   "metadata": {},
   "source": [
    "#### Feladat\n",
    "\n",
    "Állítsuk elő a korábban szerepelt teljes nevet és monogrammot `f-string`-gel.\n",
    "Próbáljuk meg elérni, hogy a keresztnév és a vezetéknév is egy 15 karakter széles mező jobb oldalára kerüljön."
   ]
  },
  {
   "cell_type": "code",
   "execution_count": null,
   "metadata": {},
   "outputs": [],
   "source": [
    "def full_name(first, last):\n",
    "    \"\"\"first a vezeték név, last a kereszt név\"\"\"\n",
    "    pass\n",
    "\n",
    "def monogram(first, last):\n",
    "    \"\"\"first a vezeték név, last a kereszt név\"\"\"\n",
    "    pass"
   ]
  },
  {
   "cell_type": "markdown",
   "metadata": {},
   "source": [
    "#### Feladatok\n"
   ]
  },
  {
   "cell_type": "markdown",
   "metadata": {},
   "source": [
    "\n",
    "- Egészítsük ki a korábban megírt `bits_of_num` függvényt úgy, hogy minden lépésben a legkisebb bitet bináris alakban írja ki `f-string`-et használva. Ha az eredeti szám `bit_length` értéke pl. 10, akkor minden kiírás 10 bitet használjon 0-kal kiegészítve.\n"
   ]
  },
  {
   "cell_type": "markdown",
   "metadata": {},
   "source": [
    "\n",
    "- Korábban volt egy függvény, ami másodperc értéket bontott fel nap, óra, perc, másodperc értékre.\n",
    "  Írjuk egy függvényt, ami a nap, óra, perc, másodperc értéket formázva stringként adja vissza a következő alakban:\n",
    "  \n",
    "  ```{python}\n",
    "  # ha az adatok:\n",
    "  # day, hour, minute, secs  = 1, 1, 1, 1\n",
    "  # akkor az eredmény:\n",
    "  \"1 nap 1 óra 1 perc 1 másodperc\"\n",
    "  ```\n",
    "\n",
    "\n",
    " "
   ]
  },
  {
   "cell_type": "markdown",
   "metadata": {},
   "source": [
    "- Írjunk egy függényt `is_prime`, ami egy számot kap bemenetként és eldönti, hogy a szám prím-e?\n",
    "  A feltételes elágazásra nem jutott idő előadáson. A szintakszis:\n",
    "  ```python\n",
    "  if condition :\n",
    "      # True ág\n",
    "      pass\n",
    "  else:\n",
    "      # False ág\n",
    "      pass\n",
    "  ``` "
   ]
  },
  {
   "cell_type": "code",
   "execution_count": null,
   "metadata": {},
   "outputs": [],
   "source": [
    "def is_prime(num):\n",
    "    pass"
   ]
  },
  {
   "cell_type": "code",
   "execution_count": null,
   "metadata": {},
   "outputs": [],
   "source": [
    "assert is_prime(0) is False\n",
    "assert is_prime(1) is False\n",
    "assert is_prime(2) is True\n",
    "assert is_prime(3) is True\n",
    "assert is_prime(4) is False\n",
    "assert is_prime(5) is True\n",
    "assert is_prime(1_000_000_007) is True"
   ]
  },
  {
   "cell_type": "markdown",
   "metadata": {},
   "source": [
    "- Írjunk egy függvényt, ami adott $n$-re és $p$-re kiszámolja az első $n$ természetes szám $p$-ik hatványának az összegét."
   ]
  },
  {
   "cell_type": "code",
   "execution_count": null,
   "metadata": {},
   "outputs": [],
   "source": [
    "def power_sum(n, p):\n",
    "    pass "
   ]
  },
  {
   "cell_type": "code",
   "execution_count": null,
   "metadata": {},
   "outputs": [],
   "source": [
    "assert power_sum(1, 2) == 1\n",
    "assert power_sum(2, 2) == 5\n",
    "assert power_sum(3, 3) == 36"
   ]
  },
  {
   "cell_type": "markdown",
   "metadata": {},
   "source": [
    "- Írjunk egy függvényt, ami a bemenetről beolvas egy sztringet. Az `isdigit` string metódussal leellenőrzni, hogy teljesül-e, hogy a beolvasott érték csupa számjegyből áll. Ha ez teljesül, akkor visszaadja a beolvasott egész értéket (int), ha nem akkor új bemenet kér a felhasználótól.\n",
    "\n",
    "  Meg tudjuk-e oldani (találunk-e olyan string metódust), amivel a beolvasott szöveg elején végén előforduló szóközöket le tudjuk törölni? "
   ]
  },
  {
   "cell_type": "code",
   "execution_count": null,
   "metadata": {},
   "outputs": [],
   "source": [
    "def read_int():\n",
    "    pass"
   ]
  },
  {
   "cell_type": "code",
   "execution_count": null,
   "metadata": {},
   "outputs": [],
   "source": [
    "assert type(read_int()) is int"
   ]
  },
  {
   "cell_type": "markdown",
   "metadata": {},
   "source": [
    "- Keressünk olyan `string` metódust, amivel a\n",
    "\n",
    "  `\"Kritikus helyzetben a Hajós uszoda, olimpiai bajnok sportolók is pakolják a homokzsákokat\"`\n",
    "\n",
    "  szalagcímet cím formátumban tudjuk megjeleníteni, azaz minden szó kezdődjön nagy betűvel de a nem szókezdő betűk legyenek kisbetűk.\n",
    "  "
   ]
  },
  {
   "cell_type": "markdown",
   "metadata": {},
   "source": [
    "- Egy `markdown` cellában jelenítsük meg a kedvenc matematikai tételünket. A tételben legyenek matematikai formulák, inline és kiemelt is. A ,,tétel'' megnevezés legyen vastaggal szedve.\n",
    "\n",
    "  Ha nincs kedvenc tételünk, akkor az állítás legyen a számtani mértani középek közti egyenlőtlenség.\n",
    "  A folyó szövegben legyen formulával kiírva, hogy a két érték pozitív, a kiemelt képlet legyen az összefüggés, a tétel neve legyen ,,számtani mértani közép közti egyenlőtlenség''.\n",
    "   "
   ]
  },
  {
   "cell_type": "markdown",
   "metadata": {},
   "source": [
    "- Egy markdown cellában írjuk le a legnagyobb közös osztó kiszámítására szolgáló algoritmust pszeudo (python) kóddal, \n",
    "` ``` `-et használva. Az algoritmus abból áll, hogy a két szám közül vesszük a kisebbet és a nagyobbik kisebbikkel vett maradékát. Ezt addig ismételjük, amíg a maradék null nem lesz.\n",
    "\n",
    "  Nézzük meg mi történik a következő értékadások hatására:\n",
    "  ```python\n",
    "  a = 1\n",
    "  b = 2\n",
    "  a, b = b, a\n",
    "  print(f\"{a=}, {b=}\")\n",
    "  ```"
   ]
  },
  {
   "cell_type": "markdown",
   "metadata": {},
   "source": [
    "# Több érték beolvasása egy sorból.\n",
    "\n",
    "Mit kapunk az alábbi sorokkal?\n",
    "```python\n",
    "a, b = \"12 34\".split()\n",
    "c, d = map(int, \"12 34\".split())\n",
    "\n",
    "```\n",
    "Le tudjuk-e írni mi is történt itt?\n",
    "\n",
    "Nem kell izgulni, később a hátterét is látni fogjuk."
   ]
  },
  {
   "cell_type": "code",
   "execution_count": null,
   "metadata": {},
   "outputs": [],
   "source": []
  },
  {
   "cell_type": "markdown",
   "metadata": {},
   "source": [
    "### `printf`-szerű formázás , ill. `format`\n"
   ]
  },
  {
   "cell_type": "code",
   "execution_count": null,
   "metadata": {},
   "outputs": [],
   "source": [
    "\n",
    "(\n",
    "    \"%d egy szam\" % 2, \n",
    "    \"\\\"%s\\\" egy szoveg\" % \"alma\", \n",
    "    \"%03d egy szam\" % 2, \n",
    "    \"'% 6s' egy szoveg\" % \"alma\"\n",
    ")"
   ]
  },
  {
   "cell_type": "code",
   "execution_count": null,
   "metadata": {},
   "outputs": [],
   "source": [
    "(\n",
    "    \"{a} egy szam\".format(a=2), \n",
    "    \"\\\"{s}\\\" egy szoveg\".format(s=\"alma\"), \n",
    "    \"{0:03d} egy szam\".format(2), \n",
    "    \"'{0:>6}' egy szoveg\".format(\"alma\")\n",
    ")"
   ]
  },
  {
   "cell_type": "markdown",
   "metadata": {},
   "source": [
    "# Megoldottam a házifeladatot, hogy lesz ebből beadott állomány?"
   ]
  },
  {
   "cell_type": "code",
   "execution_count": 36,
   "metadata": {},
   "outputs": [
    {
     "data": {
      "text/markdown": [
       "Töltsük le a colabról a kidolgozott munkafüzetet, és töltsük fel a Canvasba."
      ]
     },
     "metadata": {},
     "output_type": "display_data"
    },
    {
     "data": {
      "image/png": "[encoded data removed]",
      "text/plain": [
       "<Figure size 2000x1000 with 1 Axes>"
      ]
     },
     "metadata": {},
     "output_type": "display_data"
    },
    {
     "data": {
      "text/markdown": [
       "Érdemes az értesítéseket beállítani a Canvasban. Így azonnal visszajelzést kaphatunk a házi feladatról."
      ]
     },
     "metadata": {},
     "output_type": "display_data"
    },
    {
     "data": {
      "image/png": "[encoded data removed]",
      "text/plain": [
       "<Figure size 2000x1000 with 1 Axes>"
      ]
     },
     "metadata": {},
     "output_type": "display_data"
    }
   ],
   "source": [
    "# from PIL import Image\n",
    "import matplotlib.pyplot as plt\n",
    "from pathlib import Path\n",
    "from IPython.display import display_markdown\n",
    "\n",
    "root = Path.home() / \"Pictures\"/ \"Screenshots\"\n",
    "\n",
    "\n",
    "for txt, img in zip(\n",
    "    [\n",
    "        \"Töltsük le a colabról a kidolgozott munkafüzetet, és töltsük fel a Canvasba.\",\n",
    "        \"Érdemes az értesítéseket beállítani a Canvasban. Így azonnal visszajelzést kaphatunk a házi feladatról.\"\n",
    "    ],\n",
    "    [\n",
    "        \"Screenshot from 2023-09-08 15-06-01.png\", \n",
    "        \"Screenshot from 2023-09-08 15-11-27.png\"\n",
    "    ]):\n",
    "    display_markdown(txt, raw=True)\n",
    "    plt.figure(figsize=(20, 10))\n",
    "    plt.imshow(plt.imread(root / img))\n",
    "    plt.axis(\"off\")\n",
    "    plt.show()\n",
    "\n"
   ]
  }
 ],
 "metadata": {
  "kernelspec": {
   "display_name": "python3.10",
   "language": "python",
   "name": "python3"
  },
  "language_info": {
   "codemirror_mode": {
    "name": "ipython",
    "version": 3
   },
   "file_extension": ".py",
   "mimetype": "text/x-python",
   "name": "python",
   "nbconvert_exporter": "python",
   "pygments_lexer": "ipython3",
   "version": "3.10.12"
  }
 },
 "nbformat": 4,
 "nbformat_minor": 2
}
