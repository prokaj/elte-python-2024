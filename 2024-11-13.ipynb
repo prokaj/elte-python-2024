{
 "cells": [
  {
   "cell_type": "markdown",
   "metadata": {
    "id": "-JhwprTSrj1z"
   },
   "source": [
    "# Házi feladat"
   ]
  },
  {
   "cell_type": "markdown",
   "metadata": {
    "id": "zo2MsPVprj12"
   },
   "source": [
    "Az $S=S(X)=(S_k)_{k=0}^n$ sorozatot rekurzióval definiáljuk az\n",
    "$(X_k)_{k=1}^n$ előjel sorozatból az\n",
    "$$\n",
    "  S_0=0,\\quad S_k=S_{k-1}+X_k, \\quad 0 < k \\leq n\n",
    "$$\n",
    "formulával.\n",
    "\n",
    "$S_k$-ra úgy gondolunk, mint egy bolyongó részecske helyzetére a $k$.\n",
    "lépés után, ha az $X$ előjel sorozat adja meg a lépéseket.\n",
    "\n",
    "Legyen $T(X)$ az $X$ előjel sorozat következő permutációja: először\n",
    "azokat az $X_k$ lépéseket soroljuk fel melyekre $S_k > 0$ fordított\n",
    "sorrendben, majd ezek után írjuk azokat az $X_k$ lépéseket, ahol\n",
    "$S_k\\leq 0$ megőrizve az eredeti sorrendjüket.\n",
    "\n",
    "\n",
    "- Írjunk egy függvényt, ami adott előjel sorozatra kiszámolja a képét a $T$ leképezésnél.\n",
    "\n",
    "- Az első néhány $n$-re ($n=1,\\dots,16$) ellenőrizzük le, hogy\n",
    "  $T:\\left\\{{-1,1}\\right\\}^n\\to\\left\\{{-1,1}\\right\\}^n$ bijekció.\n",
    "\n",
    "- Az előző pont alapján azt sejthetjük, hogy $T$ tetszőleges $n$\n",
    "  esetén a $\\left\\{{-1,1}\\right\\}^n$ halmaz permutációja. Írjuk meg a $T$\n",
    "  inverzét kiszámító függvényt.\n",
    "- Készítsünk egy ábrát a következő módon. Legyen $n$ nem túl\n",
    "  kicsi, mondjuk 100 és 10000 közti. Sorsoljunk ki egy $n$ hosszú $X$\n",
    "  előjel sorozatot. Ábrázoljuk az $S(X)$ bolyongást.\n",
    "\n",
    "  Ezután készítsük el a $T(X)$-hez tartozó bolyongás ábráját.\n",
    "\n",
    "- Az első néhány $n$-re ($n=1,\\dots,16$) ellenőrizzük le, hogy\n",
    "  $$\n",
    "    \\text{maxhely}(S(T(X))) = \\text{pozitívidő}(S(X))\n",
    "  $$\n",
    "  ahol\n",
    "  $$\n",
    "    \\text{maxhely}(s) = \\min\\left\\{{k}\\,:\\,{s_k =\\max s_j}\\right\\}\n",
    "    \\quad\\text{és}\\quad\n",
    "    \\text{pozitívidő}(s) = \\sum_k \\mathbb{1}_{s_k>0}\n",
    "  $$  \n",
    "\n",
    "Extra 3 pontot ér annak a formális bizonyítása, hogy\n",
    "$$\n",
    "\\text{maxhely}(S(T(X))) = \\text{pozitívidő}(S(X))\n",
    "$$\n",
    "\n"
   ]
  },
  {
   "cell_type": "code",
   "execution_count": 1,
   "metadata": {
    "id": "z4PCt35nrj14"
   },
   "outputs": [],
   "source": [
    "from collections import deque\n",
    "\n",
    "\n",
    "def T(x):\n",
    "    result = deque(maxlen=len(x))\n",
    "    s = 0\n",
    "    for step in x:\n",
    "        s += step\n",
    "        if s > 0:\n",
    "            result.appendleft(step)\n",
    "        else:\n",
    "            result.append(step)\n",
    "    return [*result]\n"
   ]
  },
  {
   "cell_type": "code",
   "execution_count": 3,
   "metadata": {
    "id": "2ow35MoBrj16"
   },
   "outputs": [],
   "source": [
    "import matplotlib.pyplot as plt\n",
    "from itertools import accumulate\n",
    "import numpy as np"
   ]
  },
  {
   "cell_type": "code",
   "execution_count": 6,
   "metadata": {
    "colab": {
     "base_uri": "https://localhost:8080/",
     "height": 214
    },
    "id": "CDDZYyr7rj17",
    "outputId": "c467559f-c655-4c0f-b783-dd9b4cd3a603"
   },
   "outputs": [
    {
     "data": {
      "image/png": "[encoded data removed]",
      "text/plain": [
       "<Figure size 800x200 with 1 Axes>"
      ]
     },
     "metadata": {},
     "output_type": "display_data"
    }
   ],
   "source": [
    "steps = [1, 1, -1, -1, 1]\n",
    "\n",
    "walk = np.array([*accumulate(steps, initial=0)])\n",
    "plt.figure(figsize=(8, 2))\n",
    "plt.plot(walk, label=\"S\")\n",
    "plt.grid()"
   ]
  },
  {
   "cell_type": "code",
   "execution_count": 8,
   "metadata": {
    "colab": {
     "base_uri": "https://localhost:8080/"
    },
    "id": "C3q2apborj18",
    "outputId": "ffba1e79-7b60-48af-a2f9-e9fa18d72d26"
   },
   "outputs": [
    {
     "name": "stdout",
     "output_type": "stream",
     "text": [
      "steps=[1, 1, -1, -1, 1], T(steps)=[1, -1, 1, 1, -1]\n"
     ]
    }
   ],
   "source": [
    "print(f\"{steps=}, {T(steps)=}\")"
   ]
  },
  {
   "cell_type": "code",
   "execution_count": 10,
   "metadata": {
    "colab": {
     "base_uri": "https://localhost:8080/"
    },
    "id": "cSbUTGByrj19",
    "outputId": "572b2f5e-9cfb-434c-d948-2b9836bae33c"
   },
   "outputs": [
    {
     "name": "stdout",
     "output_type": "stream",
     "text": [
      "ok\n"
     ]
    }
   ],
   "source": [
    "for n in range(1, 17):\n",
    "    range_t = set()\n",
    "    for num in range(1 << n):\n",
    "        steps = [1 if num & (1 << i) else -1 for i in range(n)]\n",
    "        range_t.add(tuple(T(steps)))\n",
    "    assert len(range_t) == 1 << n\n",
    "print(\"ok\")"
   ]
  },
  {
   "cell_type": "code",
   "execution_count": 11,
   "metadata": {
    "id": "2YEU5jPbrj1-"
   },
   "outputs": [],
   "source": [
    "\n",
    "def Tinv(x):\n",
    "    s = sum(x)\n",
    "    x = deque(x)\n",
    "    result = []\n",
    "    while x:\n",
    "        step = x.popleft() if s > 0 else x.pop()\n",
    "        s -= step\n",
    "        result.append(step)\n",
    "    result.reverse()\n",
    "    return result\n"
   ]
  },
  {
   "cell_type": "code",
   "execution_count": 13,
   "metadata": {
    "colab": {
     "base_uri": "https://localhost:8080/"
    },
    "id": "gi-4J_6Prj1_",
    "outputId": "b8afa03e-a923-462e-8098-cc4d90344262"
   },
   "outputs": [
    {
     "data": {
      "text/plain": [
       "(True, [1, 1, 1, 1, 1, 1, 1, 1, 1, 1, 1, 1, 1, 1, 1, 1])"
      ]
     },
     "execution_count": 13,
     "metadata": {},
     "output_type": "execute_result"
    }
   ],
   "source": [
    "Tinv(T(steps)) == step"
   ]
  },
  {
   "cell_type": "code",
   "execution_count": 14,
   "metadata": {
    "id": "uUhqN1Igrj2B"
   },
   "outputs": [],
   "source": [
    "for n in range(1, 17):\n",
    "    for num in range(1<<n):\n",
    "        steps = [2*((num >> i) & 1)-1 for i in range(n)]\n",
    "        assert Tinv(T(steps)) == steps\n"
   ]
  },
  {
   "cell_type": "code",
   "execution_count": 15,
   "metadata": {
    "id": "CbsZdLIsrj2C"
   },
   "outputs": [],
   "source": [
    "def walk(steps):\n",
    "    return np.array([*accumulate(steps, initial=0)])\n",
    "\n",
    "def arg_max(steps):\n",
    "    w = walk(steps)\n",
    "    return (w==w.max()).nonzero()[0].min()\n",
    "\n",
    "def pos_time(steps):\n",
    "    w = walk(steps)\n",
    "    return (w > 0).sum()\n",
    "\n"
   ]
  },
  {
   "cell_type": "code",
   "execution_count": 17,
   "metadata": {
    "colab": {
     "base_uri": "https://localhost:8080/",
     "height": 430
    },
    "id": "3-AGlyDXrj2D",
    "outputId": "e92e32ab-c08f-4005-bb3f-7ac90a7a3cb2"
   },
   "outputs": [
    {
     "data": {
      "image/png": "[encoded data removed]",
      "text/plain": [
       "<Figure size 640x480 with 1 Axes>"
      ]
     },
     "metadata": {},
     "output_type": "display_data"
    }
   ],
   "source": [
    "steps = np.where(np.random.binomial(1, 0.5, 1000), 1, -1)\n",
    "plt.plot(walk(steps), label=\"S\", alpha=0.5)\n",
    "plt.plot(walk(T(steps)), label=\"T(S)\", alpha=0.5)\n",
    "plt.legend()\n",
    "plt.grid()"
   ]
  },
  {
   "cell_type": "code",
   "execution_count": 18,
   "metadata": {
    "colab": {
     "base_uri": "https://localhost:8080/",
     "height": 447
    },
    "id": "3Z7Glln7rj2D",
    "outputId": "ae7f2116-7ace-424a-83a8-1b2f75ceffc1"
   },
   "outputs": [
    {
     "name": "stdout",
     "output_type": "stream",
     "text": [
      "arg_max(steps)=2, pos_time(steps)=4\n"
     ]
    },
    {
     "data": {
      "image/png": "[encoded data removed]",
      "text/plain": [
       "<Figure size 640x480 with 1 Axes>"
      ]
     },
     "metadata": {},
     "output_type": "display_data"
    }
   ],
   "source": [
    "steps = [1, 1, -1, -1, 1]\n",
    "plt.plot(walk(steps), \"bo-\")\n",
    "print(f\"{arg_max(steps)=}, {pos_time(steps)=}\")"
   ]
  },
  {
   "cell_type": "code",
   "execution_count": 20,
   "metadata": {
    "colab": {
     "base_uri": "https://localhost:8080/"
    },
    "id": "7TQcenrlrj2E",
    "outputId": "fd0b0d87-0b7c-45c6-bd0b-fa6d819eb307"
   },
   "outputs": [
    {
     "name": "stdout",
     "output_type": "stream",
     "text": [
      "OK\n"
     ]
    }
   ],
   "source": [
    "for n in range(1, 17):\n",
    "    for num in range(1<<n):\n",
    "        steps = [2*((num >> i) & 1)-1 for i in range(n)]\n",
    "        assert arg_max(T(steps)) == pos_time(steps)\n",
    "print(\"OK\")"
   ]
  },
  {
   "cell_type": "markdown",
   "metadata": {
    "id": "JpnYr4tArj2F"
   },
   "source": [
    "**Bizonyítás.**\n",
    "\n",
    "Ötlet: bolyongás (lépések) felbontása _kirándulásokra_.\n",
    "$$\n",
    "\\sigma_0 = 0, \\quad\n",
    "\\sigma_{2k+1} = \\inf\\{n\\geq\n",
    "\\sigma_{2k}\\colon S_n = 1\\}, \\quad\n",
    "\\sigma_{2k} = \\inf\\{n\\geq\n",
    "\\sigma_{2k-1}\\colon S_n = 0\\}\n",
    "$$\n",
    "\n",
    "Egy kirándulás a pozitív oldalon a $\\sigma_{2k+1}$. lépéssel kezdődik és a $\\sigma_{2k+2}$. lépésig tart, az utolsó lépés már nem tartozik hozzá.\n",
    "\n",
    "Egy kirándulás a negatív oldalon  a $\\sigma_{2k}$. lépéssel kezdődik és a $\\sigma_{2k+1}$. lépésig tart, az utolsó lépés már nem tartozik hozzá.\n",
    "\n",
    "A pozitív oldalon töltött idő $n$ lépés alatt:\n",
    "$$\n",
    "    \\sum_{k=1}^\\infty (\\sigma_{2k}\\wedge n)-(\\sigma_{2k-1}\\wedge n)\n",
    "$$\n",
    "\n",
    "Ha az $(X_k)_{\\sigma_{2k-1}\\leq k < \\sigma_{2k}}$ lépéseket fordítva soroljuk fel, akkor egy olyan lépéssorozatot **fordítunk meg**, ami a nulla szintről az egy szintre jut és közben végig az a nulla szint felett halad.\n",
    "\n",
    "A lépések fordított felsorolása a középpontos tükrözésnek felel meg, ezért a mikor fordított sorrendben soroljuk fel az egy pozitív kiránduláshoz tartozó lépéseket, akkor olyan bolyngást kapunk, ami egységnyit emelkedik és végig az utolsó érték alatt marad. Ez mutatja, hogy a $T(X)$ sorozatból számolt bolyongás a $\\text{pozitív idő}(S(X))$ időpontban nagyobb mint ezek előtt.\n",
    "\n",
    "A negatív kirándulásokra hasonló érvelés mutatja, hogy ha egy negatív kirándulás egy pozitív kirándulás után jön akkor az első lépése lefelé visz, utána végig a nulla szint alatt marad. Ha pedig a nulla időpontban kezdődik, akkor nullából indul és esetleg többször is visszatérhet a 0-ba, de efelé már nem mehet, mert az a lépés már a következő pozitív kiránduláshoz van sorolva. Így, amikor $\\text{pozitív idő}(S(X))$ időpont után a negatív kirándulásokat kezdjük el felhasználni, még néhányszor visszatérhet a bolyongás a $\\text{pozitív idő}(S(X))$ időpontban felvett értékhez, de afölé már nem mehet."
   ]
  },
  {
   "cell_type": "code",
   "execution_count": null,
   "metadata": {
    "id": "A5wk3wdCrj2F"
   },
   "outputs": [],
   "source": [
    "def excursions(steps):\n",
    "    w = walk(steps)\n",
    "    sigma = 0\n",
    "    next_goal = 1 if steps[0] == -1 else 0\n",
    "    pos_excursions = []\n",
    "    neg_excursions = []\n",
    "    excursion = []\n",
    "    while sigma < len(steps):\n",
    "        if w[sigma+1] == next_goal:\n",
    "            if next_goal == 1:\n",
    "                neg_excursions.append(excursion)\n",
    "            else:\n",
    "                pos_excursions.append(excursion)\n",
    "            next_goal = 1-next_goal\n",
    "            excursion = []\n",
    "        excursion.append(steps[sigma])\n",
    "        sigma += 1\n",
    "    if next_goal == 1:\n",
    "       neg_excursions.append(excursion)\n",
    "    else:\n",
    "        pos_excursions.append(excursion)\n",
    "    return pos_excursions, neg_excursions"
   ]
  },
  {
   "cell_type": "code",
   "execution_count": null,
   "metadata": {
    "id": "KbFmFxsErj2H"
   },
   "outputs": [],
   "source": [
    "steps = [1, 1, -1, -1, -1, 1, 1, 1]\n",
    "print(f\"{walk(steps)=}, {excursions(steps)=}\")"
   ]
  },
  {
   "cell_type": "code",
   "execution_count": null,
   "metadata": {
    "id": "_eM067myrj2H"
   },
   "outputs": [],
   "source": [
    "steps = np.where(np.random.binomial(1, 0.5, 1000), 1, -1)\n",
    "pos_excursions, neg_excursions = excursions(steps)"
   ]
  },
  {
   "cell_type": "code",
   "execution_count": null,
   "metadata": {
    "id": "S3-UiOWRrj2I"
   },
   "outputs": [],
   "source": [
    "if len(pos_excursions) > 0:\n",
    "    fig, (ax0, ax1) = plt.subplots(nrows=1, ncols=2, figsize=(8, 3))\n",
    "    ax0.plot(walk(pos_excursions[0]), \"r-\")\n",
    "    ax1.plot(walk(reversed(pos_excursions[0])), \"b-\")\n",
    "    ax0.grid(); ax1.grid()\n",
    "    plt.show()\n",
    "    fig, (ax0, ax1) = plt.subplots(nrows=1, ncols=2, figsize=(8, 3))\n",
    "    ax0.plot(walk(pos_excursions[-1]), \"r-\")\n",
    "    ax1.plot(walk(reversed(pos_excursions[-1])), \"b-\")\n",
    "    ax0.grid(); ax1.grid()\n",
    "    plt.show()\n",
    "\n"
   ]
  },
  {
   "cell_type": "code",
   "execution_count": null,
   "metadata": {
    "id": "GgbcKgoDrj2I"
   },
   "outputs": [],
   "source": [
    "if len(neg_excursions) > 0:\n",
    "    fig, ax = plt.subplots(nrows=1, ncols=1, figsize=(4, 3))\n",
    "    ax.plot(walk(neg_excursions[0]), \"r-\")\n",
    "    ax.grid()\n",
    "    plt.show()\n",
    "    fig, ax = plt.subplots(nrows=1, ncols=1, figsize=(4, 3))\n",
    "    ax.plot(walk(neg_excursions[-1]), \"r-\")\n",
    "    ax.grid()\n",
    "    plt.show()\n"
   ]
  },
  {
   "cell_type": "markdown",
   "metadata": {
    "id": "d_IQgbhfrj2J"
   },
   "source": [
    "# Conway Game of Life"
   ]
  },
  {
   "cell_type": "markdown",
   "metadata": {
    "id": "NwQo1Qbxrj2J"
   },
   "source": [
    "[Wikipédia](https://en.wikipedia.org/wiki/Conway%27s_Game_of_Life)\n",
    "\n",
    "The Game of Life is a cellular automaton created by mathematician John Conway in 1970. The game consists of a board of cells that are either on or off. One creates an initial configuration of these on/off states and observes how it evolves. There are four simple rules to determine the next state of the game board, given the current state:\n",
    "\n",
    "- **Overpopulation**: if a living cell is surrounded by more than three living cells, it dies.\n",
    "- **Stasis**: if a living cell is surrounded by two or three living cells, it survives.\n",
    "- **Underpopulation**: if a living cell is surrounded by fewer than two living cells, it dies.\n",
    "- **Reproduction**: if a dead cell is surrounded by exactly three cells, it becomes a live cell.\n",
    "\n",
    "****\n",
    "\n",
    "Írjunk egy osztályt a játékhoz, pl. az `__init__` metódus hozza létre a megadott konfigurációnak megfelelő objektumot. Legyen egy `step` metódus, ami a rendszert a következő állapotába viszi és az `__str__` metódus pedig\n",
    "valahogy ábrázolja az aktuális állapotot.\n",
    "\n",
    "Tegyük fel, hogy a rács amin a rendszer él, egy $m\\times n$-es rács, ahol mindkét irányban ciklikusan körbemegyünk,\n",
    "azaz a csúcsokat modulo $m$ ill. modulo $n$ tekintjük.\n",
    "\n",
    "\n",
    "Alternatíva lehetne, hogy ha új elő sejt keletkezik az aktuális rács körül, akkor megnöveljük a rácsunkat az adott irányban.  "
   ]
  },
  {
   "cell_type": "code",
   "execution_count": 21,
   "metadata": {
    "id": "qwfUy8G9rj2J"
   },
   "outputs": [],
   "source": [
    "import numpy as np\n",
    "\n",
    "class ConwayGoL:\n",
    "\n",
    "    def __init__(self, state):\n",
    "        self.state = np.asarray(state)\n",
    "\n",
    "    def step(self):\n",
    "        return self\n",
    "\n",
    "    def __repr__(self):\n",
    "        return f\"{type(self).__name__}({self.state})\""
   ]
  },
  {
   "cell_type": "code",
   "execution_count": 22,
   "metadata": {
    "colab": {
     "base_uri": "https://localhost:8080/"
    },
    "id": "HhKsOPWqrj2K",
    "outputId": "9259a02a-f4a5-41ff-9776-9610a4a43131"
   },
   "outputs": [
    {
     "data": {
      "text/plain": [
       "ConwayGoL([])"
      ]
     },
     "execution_count": 22,
     "metadata": {},
     "output_type": "execute_result"
    }
   ],
   "source": [
    "\n",
    "\n",
    "init_state = [] ## ???\n",
    "conway = ConwayGoL(init_state)\n",
    "\n",
    "conway.step()\n"
   ]
  },
  {
   "cell_type": "markdown",
   "metadata": {
    "id": "LC_cK7JBrj2K"
   },
   "source": [
    "A játék állapotának leírásához egy $m\\times n$ rács minden pontjáról tudni kell, hogy foglalt-e vagy sem.\n",
    "\n",
    "```python\n",
    "m, n = 11, 11\n",
    "state = np.zeros((11, 11), dtype=np.uint8)\n",
    "```\n",
    "\n",
    "Véletlenszerű kezdeti állapot:\n",
    "```python\n",
    "state = np.random.binomial(1, p, size=(m, n))\n",
    "```"
   ]
  },
  {
   "cell_type": "code",
   "execution_count": 23,
   "metadata": {
    "colab": {
     "base_uri": "https://localhost:8080/"
    },
    "id": "E2fq4O23rj2K",
    "outputId": "d2801f0e-f488-40ab-877e-b4e86b10174a"
   },
   "outputs": [
    {
     "name": "stdout",
     "output_type": "stream",
     "text": [
      "[[1 1 1 0 0 1]\n",
      " [1 1 0 0 0 0]\n",
      " [1 0 0 0 1 0]\n",
      " [0 0 0 1 0 0]\n",
      " [0 0 0 0 0 0]]\n"
     ]
    }
   ],
   "source": [
    "def random_state(n, m, p):\n",
    "    return np.random.binomial(1, p, (n, m)).astype(np.uint8)\n",
    "\n",
    "state = random_state(5, 6, 0.2)\n",
    "print(state)"
   ]
  },
  {
   "cell_type": "markdown",
   "metadata": {
    "id": "yJ_WylKVrj2L"
   },
   "source": [
    "Szebb megjelenítés?"
   ]
  },
  {
   "cell_type": "code",
   "execution_count": 24,
   "metadata": {
    "colab": {
     "base_uri": "https://localhost:8080/"
    },
    "id": "v1_z9qVxrj2L",
    "outputId": "216dacc0-3617-4163-ed72-c8e6b05cb454"
   },
   "outputs": [
    {
     "name": "stdout",
     "output_type": "stream",
     "text": [
      "111001\n",
      "110000\n",
      "100010\n",
      "000100\n",
      "000000\n"
     ]
    }
   ],
   "source": [
    "# def as_matrix(lst, n):\n",
    "#     return [lst[i:i+n] for i in range(0, len(lst), n)]\n",
    "\n",
    "print('\\n'.join(''.join(map(str, line)) for line in state))\n"
   ]
  },
  {
   "cell_type": "code",
   "execution_count": 25,
   "metadata": {
    "colab": {
     "base_uri": "https://localhost:8080/"
    },
    "id": "psmbihP_rj2L",
    "outputId": "49a42a7b-2101-4685-9be0-e32bbad5b013"
   },
   "outputs": [
    {
     "name": "stdout",
     "output_type": "stream",
     "text": [
      "⬛⬛⬛⬜⬜⬛\n",
      "⬛⬛⬜⬜⬜⬜\n",
      "⬛⬜⬜⬜⬛⬜\n",
      "⬜⬜⬜⬛⬜⬜\n",
      "⬜⬜⬜⬜⬜⬜\n",
      "♥♥♥··♥\n",
      "♥♥····\n",
      "♥···♥·\n",
      "···♥··\n",
      "······\n",
      "🟥🟥🟥🟡🟡🟥\n",
      "🟥🟥🟡🟡🟡🟡\n",
      "🟥🟡🟡🟡🟥🟡\n",
      "🟡🟡🟡🟥🟡🟡\n",
      "🟡🟡🟡🟡🟡🟡\n"
     ]
    }
   ],
   "source": [
    "for symbols in [\n",
    "    \"\\u2b1c\\u2b1b\",\n",
    "    \"·♥\",\n",
    "    \"🟡🟥\"\n",
    "    ]:\n",
    "    print('\\n'.join(''.join(symbols[x] for x in line) for line in state))\n"
   ]
  },
  {
   "cell_type": "code",
   "execution_count": 27,
   "metadata": {
    "colab": {
     "base_uri": "https://localhost:8080/",
     "height": 409
    },
    "id": "bNTy9Auxrj2M",
    "outputId": "6f98f3f1-e1be-4f14-f70d-924f7a526f82"
   },
   "outputs": [
    {
     "data": {
      "image/png": "[encoded data removed]",
      "text/plain": [
       "<Figure size 576x480 with 1 Axes>"
      ]
     },
     "metadata": {},
     "output_type": "display_data"
    }
   ],
   "source": [
    "import matplotlib.pyplot as plt\n",
    "\n",
    "img = plt.matshow(\n",
    "    state,\n",
    "    cmap=\"Pastel1_r\",\n",
    "    vmax=1, vmin=0, alpha=0.8)\n",
    "img.axes.axis(\"off\")\n",
    "n, m = len(state), len(state[0])\n",
    "for pos in range(0, n+1):\n",
    "    img.axes.axhline(y=pos-0.5, color=\"gray\")\n",
    "for pos in range(0, m+1):\n",
    "    img.axes.axvline(x=pos-0.5, color=\"gray\")\n",
    "\n",
    "plt.show()\n"
   ]
  },
  {
   "cell_type": "code",
   "execution_count": 28,
   "metadata": {
    "id": "r-kznPHwrj2M"
   },
   "outputs": [],
   "source": [
    "\n",
    "def cgol_str(self):\n",
    "    symbols = \"\\u2b1c\\u2b1b\" # ⬜⬛\n",
    "    return '\\n'.join(''.join(symbols[x] for x in line) for line in self.state)\n",
    "\n",
    "ConwayGoL.__str__ = cgol_str\n",
    "\n"
   ]
  },
  {
   "cell_type": "code",
   "execution_count": 29,
   "metadata": {
    "colab": {
     "base_uri": "https://localhost:8080/"
    },
    "id": "Fe0V7ktDrj2U",
    "outputId": "aafda6a6-a8f0-45da-c98e-fc417c833e79"
   },
   "outputs": [
    {
     "name": "stdout",
     "output_type": "stream",
     "text": [
      "⬛⬛⬛⬜⬜⬛\n",
      "⬛⬛⬜⬜⬜⬜\n",
      "⬛⬜⬜⬜⬛⬜\n",
      "⬜⬜⬜⬛⬜⬜\n",
      "⬜⬜⬜⬜⬜⬜\n"
     ]
    }
   ],
   "source": [
    "conway = ConwayGoL(state)\n",
    "print(conway)"
   ]
  },
  {
   "cell_type": "markdown",
   "metadata": {
    "id": "de0T8p7crj2U"
   },
   "source": [
    "A `step` metódushoz ki kellene számolni egy adott csúcs foglalt szomszédainak számát `cnt`. Ha ez kész,\n",
    "akkor az $i$ csúcs új állapota:\n",
    "\n",
    "$$\n",
    "    \\text{state}_{t+1}[i]=\n",
    "    \\begin{cases}\n",
    "    1 &\\text{Ha $\\text{cnt}[i]\\in\\{2,3\\}$ és $\\text{state}_t[i]=1$}\\\\\n",
    "    1 &\\text{Ha $\\text{cnt}[i]\\in\\{3\\}$ és $\\text{state}_t[i]=0$}\\\\\n",
    "    0 &\\text{különben}\n",
    "    \\end{cases}\n",
    "$$"
   ]
  },
  {
   "cell_type": "code",
   "execution_count": 30,
   "metadata": {
    "id": "SK1j_qTVrj2V"
   },
   "outputs": [],
   "source": [
    "def newstate(state, count):\n",
    "    return (count==3) | (state & (count==2))\n",
    "    # return [int((c==3)|((c==2) & (s==1))) for s, c in  zip(state, count)]"
   ]
  },
  {
   "cell_type": "code",
   "execution_count": 32,
   "metadata": {
    "colab": {
     "base_uri": "https://localhost:8080/"
    },
    "id": "NpzELNTW55UE",
    "outputId": "7b49c2ed-0bfb-4855-dd4e-0f9d57ebab34"
   },
   "outputs": [
    {
     "name": "stdout",
     "output_type": "stream",
     "text": [
      "\u001b[?25l   \u001b[90m━━━━━━━━━━━━━━━━━━━━━━━━━━━━━━━━━━━━━━━━\u001b[0m \u001b[32m0.0/1.6 MB\u001b[0m \u001b[31m?\u001b[0m eta \u001b[36m-:--:--\u001b[0m\r\u001b[2K   \u001b[91m━━━━━━━━━━\u001b[0m\u001b[90m╺\u001b[0m\u001b[90m━━━━━━━━━━━━━━━━━━━━━━━━━━━━━\u001b[0m \u001b[32m0.4/1.6 MB\u001b[0m \u001b[31m12.2 MB/s\u001b[0m eta \u001b[36m0:00:01\u001b[0m\r\u001b[2K   \u001b[91m━━━━━━━━━━━━━━━━━━━━━━━━━━━━━━━━━━━━━━━\u001b[0m\u001b[91m╸\u001b[0m \u001b[32m1.6/1.6 MB\u001b[0m \u001b[31m27.7 MB/s\u001b[0m eta \u001b[36m0:00:01\u001b[0m\r\u001b[2K   \u001b[90m━━━━━━━━━━━━━━━━━━━━━━━━━━━━━━━━━━━━━━━━\u001b[0m \u001b[32m1.6/1.6 MB\u001b[0m \u001b[31m20.0 MB/s\u001b[0m eta \u001b[36m0:00:00\u001b[0m\n",
      "\u001b[?25h"
     ]
    }
   ],
   "source": [
    "pip install ipytest -q"
   ]
  },
  {
   "cell_type": "code",
   "execution_count": 33,
   "metadata": {
    "id": "zxn4Xo0Frj2V"
   },
   "outputs": [],
   "source": [
    "import ipytest\n",
    "ipytest.autoconfig()"
   ]
  },
  {
   "cell_type": "code",
   "execution_count": 34,
   "metadata": {
    "colab": {
     "base_uri": "https://localhost:8080/"
    },
    "id": "5yoAhooerj2W",
    "outputId": "43394b2e-efc1-4192-e667-5e16f08520e2"
   },
   "outputs": [
    {
     "name": "stdout",
     "output_type": "stream",
     "text": [
      "\u001b[32m.\u001b[0m\u001b[32m                                                                                            [100%]\u001b[0m\n",
      "\u001b[32m\u001b[32m\u001b[1m1 passed\u001b[0m\u001b[32m in 0.02s\u001b[0m\u001b[0m\n"
     ]
    }
   ],
   "source": [
    "%%ipytest\n",
    "\n",
    "def test_newstate():\n",
    "    res = np.zeros(9, dtype=np.uint8)\n",
    "    res[2] = 1\n",
    "    res[3] = 1\n",
    "    assert (\n",
    "        (\n",
    "            newstate(\n",
    "                np.ones(9, dtype=np.uint8),\n",
    "                np.arange(9, dtype=np.uint8))\n",
    "            == res\n",
    "        ).all()\n",
    "    )\n",
    "    res = np.zeros(9, dtype=np.uint8)\n",
    "    res[3] = 1\n",
    "    assert (newstate(np.zeros(9, dtype=np.uint8), np.arange(9,dtype=np.uint8)) == res).all()\n"
   ]
  },
  {
   "cell_type": "code",
   "execution_count": 35,
   "metadata": {
    "id": "FH7bUmHYrj2W"
   },
   "outputs": [],
   "source": [
    "def count_neighbors(state):\n",
    "    h, w = state.shape\n",
    "    count = np.zeros((h+2, w+2), dtype=state.dtype)\n",
    "    for dh, dw  in [(0,-1), (0, 1), (1,-1), (1,0), (1,1), (-1,-1), (-1,0), (-1,1)]:\n",
    "        count[1+dh:1+dh+h, 1+dw:1+dw+w] += state\n",
    "    return count\n",
    "\n",
    "def cgol_step(self):\n",
    "    counts = count_neighbors(self.state)\n",
    "    state = newstate(np.pad(self.state, 1), counts)\n",
    "    if state[0].max() == 0:\n",
    "        state = state[1:]\n",
    "    if state[-1].max() == 0:\n",
    "        state = state[:-1]\n",
    "    if state[:,0].max() == 0:\n",
    "        state = state[:,1:]\n",
    "    if state[:,-1].max() == 0:\n",
    "        state = state[:,:-1]\n",
    "    self.state = state\n",
    "    return self\n",
    "\n",
    "ConwayGoL.step = cgol_step"
   ]
  },
  {
   "cell_type": "code",
   "execution_count": 36,
   "metadata": {
    "id": "HJx2fWKArj2W"
   },
   "outputs": [],
   "source": [
    "@classmethod\n",
    "def cgol_from_random_state(cls, n, m,  p):\n",
    "    return cls(random_state(n, m, p))\n",
    "\n",
    "ConwayGoL.from_random_state=cgol_from_random_state"
   ]
  },
  {
   "cell_type": "code",
   "execution_count": 37,
   "metadata": {
    "colab": {
     "base_uri": "https://localhost:8080/"
    },
    "id": "Zk_lYi3Urj2X",
    "outputId": "f275c120-5ba6-452a-d47e-2e277d73622b"
   },
   "outputs": [
    {
     "name": "stdout",
     "output_type": "stream",
     "text": [
      "⬜⬜⬜⬜⬜⬜⬜⬜⬜⬜\n",
      "⬜⬜⬜⬜⬜⬛⬜⬜⬜⬜\n",
      "⬛⬛⬜⬛⬜⬜⬛⬜⬜⬜\n",
      "⬜⬜⬜⬜⬜⬜⬜⬜⬛⬜\n",
      "⬜⬛⬜⬜⬜⬛⬛⬜⬛⬜\n",
      "[0 0 0 0 0 0 0 0 0 0 0 0]\n",
      "[0 0 0 0 0 1 1 1 0 0 0 0]\n",
      "[1 2 2 2 1 2 1 2 1 0 0 0]\n",
      "[1 1 1 2 0 2 2 1 2 1 1 0]\n",
      "[1 3 3 3 1 2 3 3 4 1 2 0]\n",
      "[0 1 0 1 0 1 1 1 3 1 2 0]\n",
      "[0 1 1 1 0 1 2 2 2 1 1 0]\n"
     ]
    }
   ],
   "source": [
    "conway = ConwayGoL.from_random_state(5, 10, 0.2)\n",
    "print(conway)\n",
    "print(*count_neighbors(conway.state), sep='\\n')"
   ]
  },
  {
   "cell_type": "code",
   "execution_count": 46,
   "metadata": {
    "colab": {
     "base_uri": "https://localhost:8080/"
    },
    "id": "h_dMolM4rj2X",
    "outputId": "c5446bfc-0242-461a-aa58-bcb8df527c20"
   },
   "outputs": [
    {
     "name": "stdout",
     "output_type": "stream",
     "text": [
      "⬜⬜⬛⬜⬜\n",
      "⬜⬜⬜⬜⬛\n",
      "⬛⬜⬜⬜⬛\n",
      "⬛⬜⬛⬜⬜\n",
      "⬛⬛⬜⬜⬜\n",
      "--------------------\n",
      "⬜⬜⬜⬜⬜⬜\n",
      "⬜⬜⬜⬜⬛⬜\n",
      "⬜⬜⬛⬜⬛⬜\n",
      "⬛⬛⬜⬜⬜⬜\n",
      "⬜⬛⬛⬜⬜⬜\n"
     ]
    }
   ],
   "source": [
    "conway = ConwayGoL.from_random_state(5, 5, 0.25)\n",
    "print(conway)\n",
    "print(\"-\"*20)\n",
    "print(conway.step())"
   ]
  },
  {
   "cell_type": "markdown",
   "metadata": {
    "id": "Qlsl5VRrrj2Y"
   },
   "source": [
    "Tudunk-e valami animációszerűt készíteni? Jupyter notebook-ban pl. a következő képpen lehet:"
   ]
  },
  {
   "cell_type": "code",
   "execution_count": 47,
   "metadata": {
    "id": "yKWgp4ylrj2Y"
   },
   "outputs": [],
   "source": [
    "from ipywidgets import Output\n",
    "from time import sleep\n"
   ]
  },
  {
   "cell_type": "code",
   "execution_count": 49,
   "metadata": {
    "colab": {
     "base_uri": "https://localhost:8080/",
     "height": 607,
     "referenced_widgets": [
      "62cc2388337940db9d1158c4cef2d3ec",
      "2f967e2974444b7eaf79e7cd2dd1cfe0"
     ]
    },
    "id": "NRmWGxzgrj2Y",
    "outputId": "e5f0f440-215f-44f3-8a15-ccea729ddc86"
   },
   "outputs": [
    {
     "data": {
      "application/vnd.jupyter.widget-view+json": {
       "model_id": "62cc2388337940db9d1158c4cef2d3ec",
       "version_major": 2,
       "version_minor": 0
      },
      "text/plain": [
       "Output()"
      ]
     },
     "metadata": {},
     "output_type": "display_data"
    }
   ],
   "source": [
    "\n",
    "out = Output()\n",
    "display(out)\n",
    "conway = ConwayGoL.from_random_state(n=21, m=51, p=0.2)\n",
    "\n",
    "for i in range(50):\n",
    "    out.clear_output(True)\n",
    "    with out:\n",
    "        print(f\"After {i} steps:\\n{conway}\")\n",
    "    sleep(0.15)\n",
    "    conway.step()\n"
   ]
  },
  {
   "cell_type": "markdown",
   "metadata": {
    "id": "SNStoiHBrj2Z"
   },
   "source": [
    "## kis ellenőrzés"
   ]
  },
  {
   "cell_type": "code",
   "execution_count": null,
   "metadata": {
    "id": "axA7GeiJrj2Z"
   },
   "outputs": [],
   "source": [
    "state = random_state(11, 21, 0.2)\n",
    "plt.matshow(np.pad(state, 1), cmap='Pastel1_r', vmax=1, vmin=0)\n",
    "plt.xticks(np.arange(state.shape[1]+2)-.5, minor=True)\n",
    "plt.xticks([])\n",
    "plt.yticks(np.arange(state.shape[0]+2)-.5, minor=True)\n",
    "plt.yticks([])\n",
    "plt.grid(which=\"minor\", color=\"gray\", linestyle='-', linewidth=1)\n",
    "plt.axis()\n",
    "\n",
    "for (i, j), cnt in np.ndenumerate(count_neighbors(state)):\n",
    "    plt.text(j, i, str(cnt), ha=\"center\", va=\"center\")\n"
   ]
  },
  {
   "cell_type": "code",
   "execution_count": null,
   "metadata": {
    "id": "1YbspjsYrj2a"
   },
   "outputs": [],
   "source": [
    "plt.matshow(np.pad(state, 1), cmap='Pastel1_r', vmax=1, vmin=0)\n",
    "plt.xticks(np.arange(state.shape[1]+2)-.5, minor=True)\n",
    "plt.xticks([])\n",
    "plt.yticks(np.arange(state.shape[0]+2)-.5, minor=True)\n",
    "plt.yticks([])\n",
    "plt.grid(which=\"minor\", color=\"gray\", linestyle='-', linewidth=1)\n",
    "plt.axis()\n",
    "\n",
    "for (i, j), cnt in np.ndenumerate(newstate(np.pad(state, 1), count_neighbors(state))):\n",
    "    plt.text(j, i, str(cnt), ha=\"center\", va=\"center\")\n"
   ]
  },
  {
   "cell_type": "code",
   "execution_count": null,
   "metadata": {
    "id": "VUrq0Hzmrj2b"
   },
   "outputs": [],
   "source": [
    "out = Output()\n",
    "display(out)\n",
    "state = random_state(n=51, m=21, p=0.2)\n",
    "\n",
    "for i in range(50):\n",
    "    out.clear_output(True)\n",
    "    with out:\n",
    "        print(f\"After {i} steps:\\n{str_state(state)}\")\n",
    "    sleep(0.15)\n",
    "    state = new_state(state)\n"
   ]
  },
  {
   "cell_type": "markdown",
   "metadata": {
    "id": "sUSK3PpJrj2b"
   },
   "source": [
    "## Parancssoros script"
   ]
  },
  {
   "cell_type": "markdown",
   "metadata": {
    "id": "yFELiHwZrj2c"
   },
   "source": [
    "Ha parancssorból dolgozunk, akkor valami ilyesmit lehetne tenni"
   ]
  },
  {
   "cell_type": "code",
   "execution_count": 50,
   "metadata": {
    "colab": {
     "base_uri": "https://localhost:8080/"
    },
    "id": "5FUBF-4Wrj2c",
    "outputId": "b789dcfb-6b29-4ad6-fbc9-7a5c65f75807"
   },
   "outputs": [
    {
     "name": "stdout",
     "output_type": "stream",
     "text": [
      "Writing conway.py\n"
     ]
    }
   ],
   "source": [
    "%%writefile conway.py\n",
    "\n",
    "import numpy as np\n",
    "\n",
    "def random_state(n, m, p):\n",
    "    return np.random.binomial(1, p, (n, m)).astype(np.uint8)\n",
    "\n",
    "\n",
    "def count_neighbors(state):\n",
    "    h, w = state.shape\n",
    "    count = np.zeros((h+2, w+2), dtype=state.dtype)\n",
    "    for dh, dw  in [(0,-1), (0, 1), (1,-1), (1,0), (1,1), (-1,-1), (-1,0), (-1,1)]:\n",
    "        count[1+dh:1+dh+h, 1+dw:1+dw+w] += state\n",
    "    return count\n",
    "\n",
    "\n",
    "def newstate(state, count):\n",
    "    return ((count==3) | ((count==2) & (state==1))).astype(state.dtype)\n",
    "\n",
    "\n",
    "class ConwayGoL:\n",
    "    symbols = \"\\u2b1c\\u2b1b\"\n",
    "\n",
    "    def __init__(self, state):\n",
    "        self.state = np.asarray(state)\n",
    "\n",
    "    def step(self):\n",
    "        counts = count_neighbors(self.state)\n",
    "        state = newstate(np.pad(self.state, 1), counts)\n",
    "        if state[0].max() == 0:\n",
    "            state = state[1:]\n",
    "        if state[-1].max() == 0:\n",
    "            state = state[:-1]\n",
    "        if state[:,0].max() == 0:\n",
    "            state = state[:,1:]\n",
    "        if state[:,-1].max() == 0:\n",
    "            state = state[:,:-1]\n",
    "        self.state = state\n",
    "        return self\n",
    "\n",
    "    def __str__(self):\n",
    "        symbols = self.symbols\n",
    "        return '\\n'.join(''.join(symbols[x] for x in line) for line in self.state)\n",
    "\n",
    "    def __repr__(self):\n",
    "        return f\"{type(self).__name__}({self.state})\"\n",
    "\n",
    "    @classmethod\n",
    "    def from_random_state(cls, m, n, p):\n",
    "        return cls(random_state(m, n, p))\n",
    "\n",
    "    def is_empty(self):\n",
    "        return self.state.max()==0\n",
    "\n",
    "\n",
    "def clear_terminal(n):\n",
    "    print(f\"{chr(27)}[{n+1}A\", end=\"\")\n",
    "\n",
    "def main(m=11, n=25, p=0.2, nsteps=10, clear_screen=clear_terminal):\n",
    "    from time import sleep\n",
    "    conway = ConwayGoL.from_random_state(m, n, p)\n",
    "    for i in range(nsteps+1):\n",
    "        if i>0:\n",
    "            clear_screen(conway.state.shape[0])\n",
    "        print(f\"after {i} step:\")\n",
    "        print(conway)\n",
    "        sleep(0.2)\n",
    "        conway.step()\n",
    "        if conway.is_empty():\n",
    "            break\n",
    "\n",
    "if __name__ == \"__main__\":\n",
    "    main()\n"
   ]
  },
  {
   "cell_type": "markdown",
   "metadata": {
    "id": "n6l3SkgGrj2d"
   },
   "source": [
    "Ha valamit már megírtunk és szeretnénk használni, `import`-tal elérhető. Pl."
   ]
  },
  {
   "cell_type": "markdown",
   "metadata": {
    "id": "vWSS9dSFrj2d"
   },
   "source": [
    "### Tudunk-e paramétereket adni a python scriptnek?\n",
    "\n",
    "Amikor egy python scriptet futtatunk, a parancssor (amivel a futást indítottuk) a `sys` modul `argv` változójában érhető el."
   ]
  },
  {
   "cell_type": "code",
   "execution_count": 51,
   "metadata": {
    "colab": {
     "base_uri": "https://localhost:8080/"
    },
    "id": "7v-hGDz4rj2e",
    "outputId": "a5736861-4c36-47b2-ba27-e1698c5a81fc"
   },
   "outputs": [
    {
     "data": {
      "text/plain": [
       "['/usr/local/lib/python3.10/dist-packages/colab_kernel_launcher.py',\n",
       " '-f',\n",
       " '/root/.local/share/jupyter/runtime/kernel-58edb0cb-c044-43ab-b801-d8e7d3bd1b81.json']"
      ]
     },
     "execution_count": 51,
     "metadata": {},
     "output_type": "execute_result"
    }
   ],
   "source": [
    "import sys\n",
    "sys.argv"
   ]
  },
  {
   "cell_type": "code",
   "execution_count": 52,
   "metadata": {
    "colab": {
     "base_uri": "https://localhost:8080/"
    },
    "id": "ciY2Ls86rj2e",
    "outputId": "324ebedc-359a-4db7-b610-823fcbb60f8f"
   },
   "outputs": [
    {
     "name": "stdout",
     "output_type": "stream",
     "text": [
      "['-c', '-alma']\n"
     ]
    }
   ],
   "source": [
    "! python -c 'import sys; print(sys.argv)' -alma\n"
   ]
  },
  {
   "cell_type": "markdown",
   "metadata": {
    "id": "3-g0efmErj2e"
   },
   "source": [
    "Egy nagyon egyszerű megoldás, ha minden opciónak a neve a paraméter amit beállít és egyenlőségjel után az értéke:\n",
    "pl. n=11 m=25 nstep=10 p=0.2"
   ]
  },
  {
   "cell_type": "code",
   "execution_count": 53,
   "metadata": {
    "colab": {
     "base_uri": "https://localhost:8080/"
    },
    "id": "WD0v0xxkrj2f",
    "outputId": "0577e380-a9ee-4dbe-95f5-6e98f5a35e6d"
   },
   "outputs": [
    {
     "data": {
      "text/plain": [
       "[['-n', '11'], ['-m', '25'], ['-nstep', '10'], ['-p', '0.2']]"
      ]
     },
     "execution_count": 53,
     "metadata": {},
     "output_type": "execute_result"
    }
   ],
   "source": [
    "cmdline = \"conway.py -n=11 -m=25 -nstep=10 -p=0.2\"\n",
    "argv = cmdline.split()\n",
    "params =[param.split(\"=\") for param in argv[1:]]\n",
    "params"
   ]
  },
  {
   "cell_type": "markdown",
   "metadata": {
    "id": "ouzS9BUJrj2f"
   },
   "source": [
    "Minden paraméterről tudni kellene, hogy milyen típusú!"
   ]
  },
  {
   "cell_type": "code",
   "execution_count": 54,
   "metadata": {
    "colab": {
     "base_uri": "https://localhost:8080/"
    },
    "id": "godQahNhrj2g",
    "outputId": "98365cfb-7f74-4962-c36c-df1c42a6a4f7"
   },
   "outputs": [
    {
     "data": {
      "text/plain": [
       "{'n': 11, 'm': 25, 'nstep': 10, 'p': 0.2}"
      ]
     },
     "execution_count": 54,
     "metadata": {},
     "output_type": "execute_result"
    }
   ],
   "source": [
    "param_types={'-n': int, '-m': int, '-nstep': int, '-p': float}\n",
    "params = {k.replace(\"-\",\"\"): param_types[k](v)  for k, v in (param.split(\"=\") for param in argv[1:])}\n",
    "params"
   ]
  },
  {
   "cell_type": "markdown",
   "metadata": {
    "id": "GDulPQ93rj2g"
   },
   "source": [
    "Ezek után a `main` függvényt a megadott paraméterekkel meg tudjuk hívni:\n",
    "\n",
    "```\n",
    "    main(**params)\n",
    "```\n",
    "Mi van a `default` értékekkel, `help`-pel stb.\n",
    "\n",
    "Ezeket mind meg tudnánk írni, de nem kell. Van kész megoldás `python`-ban.\n",
    "\n",
    "Az `argparse` könvytár mindent megcsinál, ami nekünk kell."
   ]
  },
  {
   "cell_type": "code",
   "execution_count": 55,
   "metadata": {
    "colab": {
     "base_uri": "https://localhost:8080/"
    },
    "id": "IMDiekzbrj2g",
    "outputId": "e31feebf-3fad-4145-e99f-b26c3a0808ea"
   },
   "outputs": [
    {
     "name": "stdout",
     "output_type": "stream",
     "text": [
      "Help on module argparse:\n",
      "\n",
      "NAME\n",
      "    argparse - Command-line parsing library\n",
      "\n",
      "MODULE REFERENCE\n",
      "    https://docs.python.org/3.10/library/argparse.html\n",
      "    \n",
      "    The following documentation is automatically generated from the Python\n",
      "    source files.  It may be incomplete, incorrect or include features that\n",
      "    are considered implementation detail and may vary between Python\n",
      "    implementations.  When in doubt, consult the module reference at the\n",
      "    location listed above.\n",
      "\n",
      "DESCRIPTION\n",
      "    This module is an optparse-inspired command-line parsing library that:\n",
      "    \n",
      "        - handles both optional and positional arguments\n",
      "        - produces highly informative usage messages\n",
      "        - supports parsers that dispatch to sub-parsers\n",
      "    \n",
      "    The following is a simple usage example that sums integers from the\n",
      "    command-line and writes the result to a file::\n",
      "    \n",
      "        parser = argparse.ArgumentParser(\n",
      "            description='sum the integers at the command line')\n",
      "        parser.add_argument(\n",
      "            'integers', metavar='int', nargs='+', type=int,\n",
      "            help='an integer to be summed')\n",
      "        parser.add_argument(\n",
      "            '--log', default=sys.stdout, type=argparse.FileType('w'),\n",
      "            help='the file where the sum should be written')\n",
      "        args = parser.parse_args()\n",
      "        args.log.write('%s' % sum(args.integers))\n",
      "        args.log.close()\n",
      "    \n",
      "    The module contains the following public classes:\n",
      "    \n",
      "        - ArgumentParser -- The main entry point for command-line parsing. As the\n",
      "            example above shows, the add_argument() method is used to populate\n",
      "            the parser with actions for optional and positional arguments. Then\n",
      "            the parse_args() method is invoked to convert the args at the\n",
      "            command-line into an object with attributes.\n",
      "    \n",
      "        - ArgumentError -- The exception raised by ArgumentParser objects when\n",
      "            there are errors with the parser's actions. Errors raised while\n",
      "            parsing the command-line are caught by ArgumentParser and emitted\n",
      "            as command-line messages.\n",
      "    \n",
      "        - FileType -- A factory for defining types of files to be created. As the\n",
      "            example above shows, instances of FileType are typically passed as\n",
      "            the type= argument of add_argument() calls.\n",
      "    \n",
      "        - Action -- The base class for parser actions. Typically actions are\n",
      "            selected by passing strings like 'store_true' or 'append_const' to\n",
      "            the action= argument of add_argument(). However, for greater\n",
      "            customization of ArgumentParser actions, subclasses of Action may\n",
      "            be defined and passed as the action= argument.\n",
      "    \n",
      "        - HelpFormatter, RawDescriptionHelpFormatter, RawTextHelpFormatter,\n",
      "            ArgumentDefaultsHelpFormatter -- Formatter classes which\n",
      "            may be passed as the formatter_class= argument to the\n",
      "            ArgumentParser constructor. HelpFormatter is the default,\n",
      "            RawDescriptionHelpFormatter and RawTextHelpFormatter tell the parser\n",
      "            not to change the formatting for help text, and\n",
      "            ArgumentDefaultsHelpFormatter adds information about argument defaults\n",
      "            to the help.\n",
      "    \n",
      "    All other classes in this module are considered implementation details.\n",
      "    (Also note that HelpFormatter and RawDescriptionHelpFormatter are only\n",
      "    considered public as object names -- the API of the formatter objects is\n",
      "    still considered an implementation detail.)\n",
      "\n",
      "CLASSES\n",
      "    _ActionsContainer(builtins.object)\n",
      "        ArgumentParser(_AttributeHolder, _ActionsContainer)\n",
      "    _AttributeHolder(builtins.object)\n",
      "        Action\n",
      "            BooleanOptionalAction\n",
      "        ArgumentParser(_AttributeHolder, _ActionsContainer)\n",
      "        Namespace\n",
      "    builtins.Exception(builtins.BaseException)\n",
      "        ArgumentError\n",
      "        ArgumentTypeError\n",
      "    builtins.object\n",
      "        FileType\n",
      "        HelpFormatter\n",
      "            ArgumentDefaultsHelpFormatter\n",
      "            MetavarTypeHelpFormatter\n",
      "            RawDescriptionHelpFormatter\n",
      "                RawTextHelpFormatter\n",
      "    \n",
      "    class Action(_AttributeHolder)\n",
      "     |  Action(option_strings, dest, nargs=None, const=None, default=None, type=None, choices=None, required=False, help=None, metavar=None)\n",
      "     |  \n",
      "     |  Information about how to convert command line strings to Python objects.\n",
      "     |  \n",
      "     |  Action objects are used by an ArgumentParser to represent the information\n",
      "     |  needed to parse a single argument from one or more strings from the\n",
      "     |  command line. The keyword arguments to the Action constructor are also\n",
      "     |  all attributes of Action instances.\n",
      "     |  \n",
      "     |  Keyword Arguments:\n",
      "     |  \n",
      "     |      - option_strings -- A list of command-line option strings which\n",
      "     |          should be associated with this action.\n",
      "     |  \n",
      "     |      - dest -- The name of the attribute to hold the created object(s)\n",
      "     |  \n",
      "     |      - nargs -- The number of command-line arguments that should be\n",
      "     |          consumed. By default, one argument will be consumed and a single\n",
      "     |          value will be produced.  Other values include:\n",
      "     |              - N (an integer) consumes N arguments (and produces a list)\n",
      "     |              - '?' consumes zero or one arguments\n",
      "     |              - '*' consumes zero or more arguments (and produces a list)\n",
      "     |              - '+' consumes one or more arguments (and produces a list)\n",
      "     |          Note that the difference between the default and nargs=1 is that\n",
      "     |          with the default, a single value will be produced, while with\n",
      "     |          nargs=1, a list containing a single value will be produced.\n",
      "     |  \n",
      "     |      - const -- The value to be produced if the option is specified and the\n",
      "     |          option uses an action that takes no values.\n",
      "     |  \n",
      "     |      - default -- The value to be produced if the option is not specified.\n",
      "     |  \n",
      "     |      - type -- A callable that accepts a single string argument, and\n",
      "     |          returns the converted value.  The standard Python types str, int,\n",
      "     |          float, and complex are useful examples of such callables.  If None,\n",
      "     |          str is used.\n",
      "     |  \n",
      "     |      - choices -- A container of values that should be allowed. If not None,\n",
      "     |          after a command-line argument has been converted to the appropriate\n",
      "     |          type, an exception will be raised if it is not a member of this\n",
      "     |          collection.\n",
      "     |  \n",
      "     |      - required -- True if the action must always be specified at the\n",
      "     |          command line. This is only meaningful for optional command-line\n",
      "     |          arguments.\n",
      "     |  \n",
      "     |      - help -- The help string describing the argument.\n",
      "     |  \n",
      "     |      - metavar -- The name to be used for the option's argument with the\n",
      "     |          help string. If None, the 'dest' value will be used as the name.\n",
      "     |  \n",
      "     |  Method resolution order:\n",
      "     |      Action\n",
      "     |      _AttributeHolder\n",
      "     |      builtins.object\n",
      "     |  \n",
      "     |  Methods defined here:\n",
      "     |  \n",
      "     |  __call__(self, parser, namespace, values, option_string=None)\n",
      "     |      Call self as a function.\n",
      "     |  \n",
      "     |  __init__(self, option_strings, dest, nargs=None, const=None, default=None, type=None, choices=None, required=False, help=None, metavar=None)\n",
      "     |      Initialize self.  See help(type(self)) for accurate signature.\n",
      "     |  \n",
      "     |  format_usage(self)\n",
      "     |  \n",
      "     |  ----------------------------------------------------------------------\n",
      "     |  Methods inherited from _AttributeHolder:\n",
      "     |  \n",
      "     |  __repr__(self)\n",
      "     |      Return repr(self).\n",
      "     |  \n",
      "     |  ----------------------------------------------------------------------\n",
      "     |  Data descriptors inherited from _AttributeHolder:\n",
      "     |  \n",
      "     |  __dict__\n",
      "     |      dictionary for instance variables (if defined)\n",
      "     |  \n",
      "     |  __weakref__\n",
      "     |      list of weak references to the object (if defined)\n",
      "    \n",
      "    class ArgumentDefaultsHelpFormatter(HelpFormatter)\n",
      "     |  ArgumentDefaultsHelpFormatter(prog, indent_increment=2, max_help_position=24, width=None)\n",
      "     |  \n",
      "     |  Help message formatter which adds default values to argument help.\n",
      "     |  \n",
      "     |  Only the name of this class is considered a public API. All the methods\n",
      "     |  provided by the class are considered an implementation detail.\n",
      "     |  \n",
      "     |  Method resolution order:\n",
      "     |      ArgumentDefaultsHelpFormatter\n",
      "     |      HelpFormatter\n",
      "     |      builtins.object\n",
      "     |  \n",
      "     |  Methods inherited from HelpFormatter:\n",
      "     |  \n",
      "     |  __init__(self, prog, indent_increment=2, max_help_position=24, width=None)\n",
      "     |      Initialize self.  See help(type(self)) for accurate signature.\n",
      "     |  \n",
      "     |  add_argument(self, action)\n",
      "     |  \n",
      "     |  add_arguments(self, actions)\n",
      "     |  \n",
      "     |  add_text(self, text)\n",
      "     |  \n",
      "     |  add_usage(self, usage, actions, groups, prefix=None)\n",
      "     |  \n",
      "     |  end_section(self)\n",
      "     |  \n",
      "     |  format_help(self)\n",
      "     |      # =======================\n",
      "     |      # Help-formatting methods\n",
      "     |      # =======================\n",
      "     |  \n",
      "     |  start_section(self, heading)\n",
      "     |      # ========================\n",
      "     |      # Message building methods\n",
      "     |      # ========================\n",
      "     |  \n",
      "     |  ----------------------------------------------------------------------\n",
      "     |  Data descriptors inherited from HelpFormatter:\n",
      "     |  \n",
      "     |  __dict__\n",
      "     |      dictionary for instance variables (if defined)\n",
      "     |  \n",
      "     |  __weakref__\n",
      "     |      list of weak references to the object (if defined)\n",
      "    \n",
      "    class ArgumentError(builtins.Exception)\n",
      "     |  ArgumentError(argument, message)\n",
      "     |  \n",
      "     |  An error from creating or using an argument (optional or positional).\n",
      "     |  \n",
      "     |  The string value of this exception is the message, augmented with\n",
      "     |  information about the argument that caused it.\n",
      "     |  \n",
      "     |  Method resolution order:\n",
      "     |      ArgumentError\n",
      "     |      builtins.Exception\n",
      "     |      builtins.BaseException\n",
      "     |      builtins.object\n",
      "     |  \n",
      "     |  Methods defined here:\n",
      "     |  \n",
      "     |  __init__(self, argument, message)\n",
      "     |      Initialize self.  See help(type(self)) for accurate signature.\n",
      "     |  \n",
      "     |  __str__(self)\n",
      "     |      Return str(self).\n",
      "     |  \n",
      "     |  ----------------------------------------------------------------------\n",
      "     |  Data descriptors defined here:\n",
      "     |  \n",
      "     |  __weakref__\n",
      "     |      list of weak references to the object (if defined)\n",
      "     |  \n",
      "     |  ----------------------------------------------------------------------\n",
      "     |  Static methods inherited from builtins.Exception:\n",
      "     |  \n",
      "     |  __new__(*args, **kwargs) from builtins.type\n",
      "     |      Create and return a new object.  See help(type) for accurate signature.\n",
      "     |  \n",
      "     |  ----------------------------------------------------------------------\n",
      "     |  Methods inherited from builtins.BaseException:\n",
      "     |  \n",
      "     |  __delattr__(self, name, /)\n",
      "     |      Implement delattr(self, name).\n",
      "     |  \n",
      "     |  __getattribute__(self, name, /)\n",
      "     |      Return getattr(self, name).\n",
      "     |  \n",
      "     |  __reduce__(...)\n",
      "     |      Helper for pickle.\n",
      "     |  \n",
      "     |  __repr__(self, /)\n",
      "     |      Return repr(self).\n",
      "     |  \n",
      "     |  __setattr__(self, name, value, /)\n",
      "     |      Implement setattr(self, name, value).\n",
      "     |  \n",
      "     |  __setstate__(...)\n",
      "     |  \n",
      "     |  with_traceback(...)\n",
      "     |      Exception.with_traceback(tb) --\n",
      "     |      set self.__traceback__ to tb and return self.\n",
      "     |  \n",
      "     |  ----------------------------------------------------------------------\n",
      "     |  Data descriptors inherited from builtins.BaseException:\n",
      "     |  \n",
      "     |  __cause__\n",
      "     |      exception cause\n",
      "     |  \n",
      "     |  __context__\n",
      "     |      exception context\n",
      "     |  \n",
      "     |  __dict__\n",
      "     |  \n",
      "     |  __suppress_context__\n",
      "     |  \n",
      "     |  __traceback__\n",
      "     |  \n",
      "     |  args\n",
      "    \n",
      "    class ArgumentParser(_AttributeHolder, _ActionsContainer)\n",
      "     |  ArgumentParser(prog=None, usage=None, description=None, epilog=None, parents=[], formatter_class=<class 'argparse.HelpFormatter'>, prefix_chars='-', fromfile_prefix_chars=None, argument_default=None, conflict_handler='error', add_help=True, allow_abbrev=True, exit_on_error=True)\n",
      "     |  \n",
      "     |  Object for parsing command line strings into Python objects.\n",
      "     |  \n",
      "     |  Keyword Arguments:\n",
      "     |      - prog -- The name of the program (default:\n",
      "     |          ``os.path.basename(sys.argv[0])``)\n",
      "     |      - usage -- A usage message (default: auto-generated from arguments)\n",
      "     |      - description -- A description of what the program does\n",
      "     |      - epilog -- Text following the argument descriptions\n",
      "     |      - parents -- Parsers whose arguments should be copied into this one\n",
      "     |      - formatter_class -- HelpFormatter class for printing help messages\n",
      "     |      - prefix_chars -- Characters that prefix optional arguments\n",
      "     |      - fromfile_prefix_chars -- Characters that prefix files containing\n",
      "     |          additional arguments\n",
      "     |      - argument_default -- The default value for all arguments\n",
      "     |      - conflict_handler -- String indicating how to handle conflicts\n",
      "     |      - add_help -- Add a -h/-help option\n",
      "     |      - allow_abbrev -- Allow long options to be abbreviated unambiguously\n",
      "     |      - exit_on_error -- Determines whether or not ArgumentParser exits with\n",
      "     |          error info when an error occurs\n",
      "     |  \n",
      "     |  Method resolution order:\n",
      "     |      ArgumentParser\n",
      "     |      _AttributeHolder\n",
      "     |      _ActionsContainer\n",
      "     |      builtins.object\n",
      "     |  \n",
      "     |  Methods defined here:\n",
      "     |  \n",
      "     |  __init__(self, prog=None, usage=None, description=None, epilog=None, parents=[], formatter_class=<class 'argparse.HelpFormatter'>, prefix_chars='-', fromfile_prefix_chars=None, argument_default=None, conflict_handler='error', add_help=True, allow_abbrev=True, exit_on_error=True)\n",
      "     |      Initialize self.  See help(type(self)) for accurate signature.\n",
      "     |  \n",
      "     |  add_subparsers(self, **kwargs)\n",
      "     |      # ==================================\n",
      "     |      # Optional/Positional adding methods\n",
      "     |      # ==================================\n",
      "     |  \n",
      "     |  convert_arg_line_to_args(self, arg_line)\n",
      "     |  \n",
      "     |  error(self, message)\n",
      "     |      error(message: string)\n",
      "     |      \n",
      "     |      Prints a usage message incorporating the message to stderr and\n",
      "     |      exits.\n",
      "     |      \n",
      "     |      If you override this in a subclass, it should not return -- it\n",
      "     |      should either exit or raise an exception.\n",
      "     |  \n",
      "     |  exit(self, status=0, message=None)\n",
      "     |      # ===============\n",
      "     |      # Exiting methods\n",
      "     |      # ===============\n",
      "     |  \n",
      "     |  format_help(self)\n",
      "     |  \n",
      "     |  format_usage(self)\n",
      "     |      # =======================\n",
      "     |      # Help-formatting methods\n",
      "     |      # =======================\n",
      "     |  \n",
      "     |  parse_args(self, args=None, namespace=None)\n",
      "     |      # =====================================\n",
      "     |      # Command line argument parsing methods\n",
      "     |      # =====================================\n",
      "     |  \n",
      "     |  parse_intermixed_args(self, args=None, namespace=None)\n",
      "     |  \n",
      "     |  parse_known_args(self, args=None, namespace=None)\n",
      "     |  \n",
      "     |  parse_known_intermixed_args(self, args=None, namespace=None)\n",
      "     |  \n",
      "     |  print_help(self, file=None)\n",
      "     |  \n",
      "     |  print_usage(self, file=None)\n",
      "     |      # =====================\n",
      "     |      # Help-printing methods\n",
      "     |      # =====================\n",
      "     |  \n",
      "     |  ----------------------------------------------------------------------\n",
      "     |  Methods inherited from _AttributeHolder:\n",
      "     |  \n",
      "     |  __repr__(self)\n",
      "     |      Return repr(self).\n",
      "     |  \n",
      "     |  ----------------------------------------------------------------------\n",
      "     |  Data descriptors inherited from _AttributeHolder:\n",
      "     |  \n",
      "     |  __dict__\n",
      "     |      dictionary for instance variables (if defined)\n",
      "     |  \n",
      "     |  __weakref__\n",
      "     |      list of weak references to the object (if defined)\n",
      "     |  \n",
      "     |  ----------------------------------------------------------------------\n",
      "     |  Methods inherited from _ActionsContainer:\n",
      "     |  \n",
      "     |  add_argument(self, *args, **kwargs)\n",
      "     |      add_argument(dest, ..., name=value, ...)\n",
      "     |      add_argument(option_string, option_string, ..., name=value, ...)\n",
      "     |  \n",
      "     |  add_argument_group(self, *args, **kwargs)\n",
      "     |  \n",
      "     |  add_mutually_exclusive_group(self, **kwargs)\n",
      "     |  \n",
      "     |  get_default(self, dest)\n",
      "     |  \n",
      "     |  register(self, registry_name, value, object)\n",
      "     |      # ====================\n",
      "     |      # Registration methods\n",
      "     |      # ====================\n",
      "     |  \n",
      "     |  set_defaults(self, **kwargs)\n",
      "     |      # ==================================\n",
      "     |      # Namespace default accessor methods\n",
      "     |      # ==================================\n",
      "    \n",
      "    class ArgumentTypeError(builtins.Exception)\n",
      "     |  An error from trying to convert a command line string to a type.\n",
      "     |  \n",
      "     |  Method resolution order:\n",
      "     |      ArgumentTypeError\n",
      "     |      builtins.Exception\n",
      "     |      builtins.BaseException\n",
      "     |      builtins.object\n",
      "     |  \n",
      "     |  Data descriptors defined here:\n",
      "     |  \n",
      "     |  __weakref__\n",
      "     |      list of weak references to the object (if defined)\n",
      "     |  \n",
      "     |  ----------------------------------------------------------------------\n",
      "     |  Methods inherited from builtins.Exception:\n",
      "     |  \n",
      "     |  __init__(self, /, *args, **kwargs)\n",
      "     |      Initialize self.  See help(type(self)) for accurate signature.\n",
      "     |  \n",
      "     |  ----------------------------------------------------------------------\n",
      "     |  Static methods inherited from builtins.Exception:\n",
      "     |  \n",
      "     |  __new__(*args, **kwargs) from builtins.type\n",
      "     |      Create and return a new object.  See help(type) for accurate signature.\n",
      "     |  \n",
      "     |  ----------------------------------------------------------------------\n",
      "     |  Methods inherited from builtins.BaseException:\n",
      "     |  \n",
      "     |  __delattr__(self, name, /)\n",
      "     |      Implement delattr(self, name).\n",
      "     |  \n",
      "     |  __getattribute__(self, name, /)\n",
      "     |      Return getattr(self, name).\n",
      "     |  \n",
      "     |  __reduce__(...)\n",
      "     |      Helper for pickle.\n",
      "     |  \n",
      "     |  __repr__(self, /)\n",
      "     |      Return repr(self).\n",
      "     |  \n",
      "     |  __setattr__(self, name, value, /)\n",
      "     |      Implement setattr(self, name, value).\n",
      "     |  \n",
      "     |  __setstate__(...)\n",
      "     |  \n",
      "     |  __str__(self, /)\n",
      "     |      Return str(self).\n",
      "     |  \n",
      "     |  with_traceback(...)\n",
      "     |      Exception.with_traceback(tb) --\n",
      "     |      set self.__traceback__ to tb and return self.\n",
      "     |  \n",
      "     |  ----------------------------------------------------------------------\n",
      "     |  Data descriptors inherited from builtins.BaseException:\n",
      "     |  \n",
      "     |  __cause__\n",
      "     |      exception cause\n",
      "     |  \n",
      "     |  __context__\n",
      "     |      exception context\n",
      "     |  \n",
      "     |  __dict__\n",
      "     |  \n",
      "     |  __suppress_context__\n",
      "     |  \n",
      "     |  __traceback__\n",
      "     |  \n",
      "     |  args\n",
      "    \n",
      "    class BooleanOptionalAction(Action)\n",
      "     |  BooleanOptionalAction(option_strings, dest, default=None, type=None, choices=None, required=False, help=None, metavar=None)\n",
      "     |  \n",
      "     |  Method resolution order:\n",
      "     |      BooleanOptionalAction\n",
      "     |      Action\n",
      "     |      _AttributeHolder\n",
      "     |      builtins.object\n",
      "     |  \n",
      "     |  Methods defined here:\n",
      "     |  \n",
      "     |  __call__(self, parser, namespace, values, option_string=None)\n",
      "     |      Call self as a function.\n",
      "     |  \n",
      "     |  __init__(self, option_strings, dest, default=None, type=None, choices=None, required=False, help=None, metavar=None)\n",
      "     |      Initialize self.  See help(type(self)) for accurate signature.\n",
      "     |  \n",
      "     |  format_usage(self)\n",
      "     |  \n",
      "     |  ----------------------------------------------------------------------\n",
      "     |  Methods inherited from _AttributeHolder:\n",
      "     |  \n",
      "     |  __repr__(self)\n",
      "     |      Return repr(self).\n",
      "     |  \n",
      "     |  ----------------------------------------------------------------------\n",
      "     |  Data descriptors inherited from _AttributeHolder:\n",
      "     |  \n",
      "     |  __dict__\n",
      "     |      dictionary for instance variables (if defined)\n",
      "     |  \n",
      "     |  __weakref__\n",
      "     |      list of weak references to the object (if defined)\n",
      "    \n",
      "    class FileType(builtins.object)\n",
      "     |  FileType(mode='r', bufsize=-1, encoding=None, errors=None)\n",
      "     |  \n",
      "     |  Factory for creating file object types\n",
      "     |  \n",
      "     |  Instances of FileType are typically passed as type= arguments to the\n",
      "     |  ArgumentParser add_argument() method.\n",
      "     |  \n",
      "     |  Keyword Arguments:\n",
      "     |      - mode -- A string indicating how the file is to be opened. Accepts the\n",
      "     |          same values as the builtin open() function.\n",
      "     |      - bufsize -- The file's desired buffer size. Accepts the same values as\n",
      "     |          the builtin open() function.\n",
      "     |      - encoding -- The file's encoding. Accepts the same values as the\n",
      "     |          builtin open() function.\n",
      "     |      - errors -- A string indicating how encoding and decoding errors are to\n",
      "     |          be handled. Accepts the same value as the builtin open() function.\n",
      "     |  \n",
      "     |  Methods defined here:\n",
      "     |  \n",
      "     |  __call__(self, string)\n",
      "     |      Call self as a function.\n",
      "     |  \n",
      "     |  __init__(self, mode='r', bufsize=-1, encoding=None, errors=None)\n",
      "     |      Initialize self.  See help(type(self)) for accurate signature.\n",
      "     |  \n",
      "     |  __repr__(self)\n",
      "     |      Return repr(self).\n",
      "     |  \n",
      "     |  ----------------------------------------------------------------------\n",
      "     |  Data descriptors defined here:\n",
      "     |  \n",
      "     |  __dict__\n",
      "     |      dictionary for instance variables (if defined)\n",
      "     |  \n",
      "     |  __weakref__\n",
      "     |      list of weak references to the object (if defined)\n",
      "    \n",
      "    class HelpFormatter(builtins.object)\n",
      "     |  HelpFormatter(prog, indent_increment=2, max_help_position=24, width=None)\n",
      "     |  \n",
      "     |  Formatter for generating usage messages and argument help strings.\n",
      "     |  \n",
      "     |  Only the name of this class is considered a public API. All the methods\n",
      "     |  provided by the class are considered an implementation detail.\n",
      "     |  \n",
      "     |  Methods defined here:\n",
      "     |  \n",
      "     |  __init__(self, prog, indent_increment=2, max_help_position=24, width=None)\n",
      "     |      Initialize self.  See help(type(self)) for accurate signature.\n",
      "     |  \n",
      "     |  add_argument(self, action)\n",
      "     |  \n",
      "     |  add_arguments(self, actions)\n",
      "     |  \n",
      "     |  add_text(self, text)\n",
      "     |  \n",
      "     |  add_usage(self, usage, actions, groups, prefix=None)\n",
      "     |  \n",
      "     |  end_section(self)\n",
      "     |  \n",
      "     |  format_help(self)\n",
      "     |      # =======================\n",
      "     |      # Help-formatting methods\n",
      "     |      # =======================\n",
      "     |  \n",
      "     |  start_section(self, heading)\n",
      "     |      # ========================\n",
      "     |      # Message building methods\n",
      "     |      # ========================\n",
      "     |  \n",
      "     |  ----------------------------------------------------------------------\n",
      "     |  Data descriptors defined here:\n",
      "     |  \n",
      "     |  __dict__\n",
      "     |      dictionary for instance variables (if defined)\n",
      "     |  \n",
      "     |  __weakref__\n",
      "     |      list of weak references to the object (if defined)\n",
      "    \n",
      "    class MetavarTypeHelpFormatter(HelpFormatter)\n",
      "     |  MetavarTypeHelpFormatter(prog, indent_increment=2, max_help_position=24, width=None)\n",
      "     |  \n",
      "     |  Help message formatter which uses the argument 'type' as the default\n",
      "     |  metavar value (instead of the argument 'dest')\n",
      "     |  \n",
      "     |  Only the name of this class is considered a public API. All the methods\n",
      "     |  provided by the class are considered an implementation detail.\n",
      "     |  \n",
      "     |  Method resolution order:\n",
      "     |      MetavarTypeHelpFormatter\n",
      "     |      HelpFormatter\n",
      "     |      builtins.object\n",
      "     |  \n",
      "     |  Methods inherited from HelpFormatter:\n",
      "     |  \n",
      "     |  __init__(self, prog, indent_increment=2, max_help_position=24, width=None)\n",
      "     |      Initialize self.  See help(type(self)) for accurate signature.\n",
      "     |  \n",
      "     |  add_argument(self, action)\n",
      "     |  \n",
      "     |  add_arguments(self, actions)\n",
      "     |  \n",
      "     |  add_text(self, text)\n",
      "     |  \n",
      "     |  add_usage(self, usage, actions, groups, prefix=None)\n",
      "     |  \n",
      "     |  end_section(self)\n",
      "     |  \n",
      "     |  format_help(self)\n",
      "     |      # =======================\n",
      "     |      # Help-formatting methods\n",
      "     |      # =======================\n",
      "     |  \n",
      "     |  start_section(self, heading)\n",
      "     |      # ========================\n",
      "     |      # Message building methods\n",
      "     |      # ========================\n",
      "     |  \n",
      "     |  ----------------------------------------------------------------------\n",
      "     |  Data descriptors inherited from HelpFormatter:\n",
      "     |  \n",
      "     |  __dict__\n",
      "     |      dictionary for instance variables (if defined)\n",
      "     |  \n",
      "     |  __weakref__\n",
      "     |      list of weak references to the object (if defined)\n",
      "    \n",
      "    class Namespace(_AttributeHolder)\n",
      "     |  Namespace(**kwargs)\n",
      "     |  \n",
      "     |  Simple object for storing attributes.\n",
      "     |  \n",
      "     |  Implements equality by attribute names and values, and provides a simple\n",
      "     |  string representation.\n",
      "     |  \n",
      "     |  Method resolution order:\n",
      "     |      Namespace\n",
      "     |      _AttributeHolder\n",
      "     |      builtins.object\n",
      "     |  \n",
      "     |  Methods defined here:\n",
      "     |  \n",
      "     |  __contains__(self, key)\n",
      "     |  \n",
      "     |  __eq__(self, other)\n",
      "     |      Return self==value.\n",
      "     |  \n",
      "     |  __init__(self, **kwargs)\n",
      "     |      Initialize self.  See help(type(self)) for accurate signature.\n",
      "     |  \n",
      "     |  ----------------------------------------------------------------------\n",
      "     |  Data and other attributes defined here:\n",
      "     |  \n",
      "     |  __hash__ = None\n",
      "     |  \n",
      "     |  __slotnames__ = []\n",
      "     |  \n",
      "     |  ----------------------------------------------------------------------\n",
      "     |  Methods inherited from _AttributeHolder:\n",
      "     |  \n",
      "     |  __repr__(self)\n",
      "     |      Return repr(self).\n",
      "     |  \n",
      "     |  ----------------------------------------------------------------------\n",
      "     |  Data descriptors inherited from _AttributeHolder:\n",
      "     |  \n",
      "     |  __dict__\n",
      "     |      dictionary for instance variables (if defined)\n",
      "     |  \n",
      "     |  __weakref__\n",
      "     |      list of weak references to the object (if defined)\n",
      "    \n",
      "    class RawDescriptionHelpFormatter(HelpFormatter)\n",
      "     |  RawDescriptionHelpFormatter(prog, indent_increment=2, max_help_position=24, width=None)\n",
      "     |  \n",
      "     |  Help message formatter which retains any formatting in descriptions.\n",
      "     |  \n",
      "     |  Only the name of this class is considered a public API. All the methods\n",
      "     |  provided by the class are considered an implementation detail.\n",
      "     |  \n",
      "     |  Method resolution order:\n",
      "     |      RawDescriptionHelpFormatter\n",
      "     |      HelpFormatter\n",
      "     |      builtins.object\n",
      "     |  \n",
      "     |  Methods inherited from HelpFormatter:\n",
      "     |  \n",
      "     |  __init__(self, prog, indent_increment=2, max_help_position=24, width=None)\n",
      "     |      Initialize self.  See help(type(self)) for accurate signature.\n",
      "     |  \n",
      "     |  add_argument(self, action)\n",
      "     |  \n",
      "     |  add_arguments(self, actions)\n",
      "     |  \n",
      "     |  add_text(self, text)\n",
      "     |  \n",
      "     |  add_usage(self, usage, actions, groups, prefix=None)\n",
      "     |  \n",
      "     |  end_section(self)\n",
      "     |  \n",
      "     |  format_help(self)\n",
      "     |      # =======================\n",
      "     |      # Help-formatting methods\n",
      "     |      # =======================\n",
      "     |  \n",
      "     |  start_section(self, heading)\n",
      "     |      # ========================\n",
      "     |      # Message building methods\n",
      "     |      # ========================\n",
      "     |  \n",
      "     |  ----------------------------------------------------------------------\n",
      "     |  Data descriptors inherited from HelpFormatter:\n",
      "     |  \n",
      "     |  __dict__\n",
      "     |      dictionary for instance variables (if defined)\n",
      "     |  \n",
      "     |  __weakref__\n",
      "     |      list of weak references to the object (if defined)\n",
      "    \n",
      "    class RawTextHelpFormatter(RawDescriptionHelpFormatter)\n",
      "     |  RawTextHelpFormatter(prog, indent_increment=2, max_help_position=24, width=None)\n",
      "     |  \n",
      "     |  Help message formatter which retains formatting of all help text.\n",
      "     |  \n",
      "     |  Only the name of this class is considered a public API. All the methods\n",
      "     |  provided by the class are considered an implementation detail.\n",
      "     |  \n",
      "     |  Method resolution order:\n",
      "     |      RawTextHelpFormatter\n",
      "     |      RawDescriptionHelpFormatter\n",
      "     |      HelpFormatter\n",
      "     |      builtins.object\n",
      "     |  \n",
      "     |  Methods inherited from HelpFormatter:\n",
      "     |  \n",
      "     |  __init__(self, prog, indent_increment=2, max_help_position=24, width=None)\n",
      "     |      Initialize self.  See help(type(self)) for accurate signature.\n",
      "     |  \n",
      "     |  add_argument(self, action)\n",
      "     |  \n",
      "     |  add_arguments(self, actions)\n",
      "     |  \n",
      "     |  add_text(self, text)\n",
      "     |  \n",
      "     |  add_usage(self, usage, actions, groups, prefix=None)\n",
      "     |  \n",
      "     |  end_section(self)\n",
      "     |  \n",
      "     |  format_help(self)\n",
      "     |      # =======================\n",
      "     |      # Help-formatting methods\n",
      "     |      # =======================\n",
      "     |  \n",
      "     |  start_section(self, heading)\n",
      "     |      # ========================\n",
      "     |      # Message building methods\n",
      "     |      # ========================\n",
      "     |  \n",
      "     |  ----------------------------------------------------------------------\n",
      "     |  Data descriptors inherited from HelpFormatter:\n",
      "     |  \n",
      "     |  __dict__\n",
      "     |      dictionary for instance variables (if defined)\n",
      "     |  \n",
      "     |  __weakref__\n",
      "     |      list of weak references to the object (if defined)\n",
      "\n",
      "DATA\n",
      "    ONE_OR_MORE = '+'\n",
      "    OPTIONAL = '?'\n",
      "    PARSER = 'A...'\n",
      "    REMAINDER = '...'\n",
      "    SUPPRESS = '==SUPPRESS=='\n",
      "    ZERO_OR_MORE = '*'\n",
      "    __all__ = ['ArgumentParser', 'ArgumentError', 'ArgumentTypeError', 'Bo...\n",
      "\n",
      "VERSION\n",
      "    1.1\n",
      "\n",
      "FILE\n",
      "    /usr/lib/python3.10/argparse.py\n",
      "\n",
      "\n"
     ]
    }
   ],
   "source": [
    "import argparse\n",
    "\n",
    "help(argparse)"
   ]
  },
  {
   "cell_type": "markdown",
   "metadata": {
    "id": "bl7_8DWZrj2g"
   },
   "source": []
  },
  {
   "cell_type": "markdown",
   "metadata": {
    "id": "mHTaOkRSrj2h"
   },
   "source": [
    "A `conway.py` file végét cseréljük le erre."
   ]
  },
  {
   "cell_type": "code",
   "execution_count": 56,
   "metadata": {
    "colab": {
     "base_uri": "https://localhost:8080/"
    },
    "id": "3g3VArVyrj2h",
    "outputId": "e55d2308-f148-499a-c3cf-eaf1004c15c1"
   },
   "outputs": [
    {
     "name": "stdout",
     "output_type": "stream",
     "text": [
      "Writing conway_cli.py\n"
     ]
    }
   ],
   "source": [
    "%%writefile conway_cli.py\n",
    "\n",
    "import conway\n",
    "\n",
    "if __name__ == \"__main__\":\n",
    "    import argparse\n",
    "\n",
    "    parser = argparse.ArgumentParser(description='Conways Game of Life')\n",
    "\n",
    "    parser.add_argument(\n",
    "        '-n', '--nrows',\n",
    "        type=int,\n",
    "        default=11,\n",
    "        help='number of rows'\n",
    "        )\n",
    "\n",
    "    parser.add_argument(\n",
    "        '-m', '--ncols',\n",
    "        type=int,\n",
    "        default=25,\n",
    "        help='number of columns'\n",
    "        )\n",
    "\n",
    "    parser.add_argument(\n",
    "        '-p', '--density',\n",
    "        type=float,\n",
    "        default=0.2,\n",
    "        help='initial density')\n",
    "\n",
    "    parser.add_argument(\n",
    "        '--nsteps',\n",
    "        type=int,\n",
    "        default=10,\n",
    "        help='steps to display'\n",
    "        )\n",
    "\n",
    "    args = parser.parse_args()\n",
    "    print(args)\n",
    "\n",
    "    conway.main(n=args.ncols, m=args.nrows, p=args.density, nsteps=args.nsteps)\n"
   ]
  },
  {
   "cell_type": "code",
   "execution_count": 57,
   "metadata": {
    "colab": {
     "base_uri": "https://localhost:8080/"
    },
    "id": "lClyaB4prj2h",
    "outputId": "6d23b517-67d4-4bb6-ce1b-38e48b8b1556"
   },
   "outputs": [
    {
     "name": "stdout",
     "output_type": "stream",
     "text": [
      "Namespace(nrows=11, ncols=25, density=0.2, nsteps=10)\n",
      "after 0 step:\n",
      "⬜⬜⬜⬛⬜⬜⬜⬛⬜⬜⬛⬜⬜⬜⬜⬜⬜⬜⬛⬜⬜⬛⬜⬜⬜\n",
      "⬛⬜⬜⬜⬜⬜⬜⬛⬛⬛⬜⬜⬜⬜⬜⬛⬛⬜⬜⬜⬜⬜⬜⬜⬜\n",
      "⬜⬛⬛⬜⬜⬜⬜⬛⬜⬜⬜⬜⬛⬜⬛⬛⬜⬜⬜⬜⬛⬜⬛⬜⬜\n",
      "⬛⬜⬜⬛⬜⬜⬜⬜⬜⬜⬜⬛⬜⬜⬜⬜⬜⬜⬜⬜⬛⬜⬜⬛⬜\n",
      "⬜⬜⬜⬜⬜⬜⬜⬜⬜⬛⬜⬜⬛⬛⬜⬜⬜⬜⬛⬜⬜⬜⬜⬛⬛\n",
      "⬜⬜⬜⬜⬜⬜⬜⬜⬜⬛⬜⬜⬛⬜⬜⬜⬜⬜⬛⬜⬜⬛⬜⬛⬜\n",
      "⬜⬜⬜⬛⬛⬛⬛⬜⬜⬜⬜⬜⬛⬜⬜⬜⬜⬜⬜⬜⬜⬜⬜⬜⬜\n",
      "⬜⬜⬜⬜⬜⬜⬜⬜⬜⬜⬜⬜⬜⬜⬜⬜⬜⬜⬛⬜⬛⬜⬛⬜⬛\n",
      "⬜⬜⬜⬜⬜⬜⬛⬜⬜⬜⬜⬜⬜⬛⬜⬛⬜⬛⬛⬜⬜⬜⬜⬜⬜\n",
      "⬜⬛⬜⬜⬜⬛⬛⬜⬜⬜⬜⬛⬜⬛⬜⬜⬜⬜⬜⬜⬛⬜⬜⬛⬛\n",
      "⬜⬜⬛⬛⬜⬜⬜⬜⬛⬜⬜⬜⬜⬛⬛⬜⬜⬜⬜⬜⬜⬛⬜⬜⬜\n",
      "\u001b[12Aafter 1 step:\n",
      "⬜⬜⬜⬜⬜⬜⬜⬛⬜⬛⬜⬜⬜⬜⬜⬜⬜⬜⬜⬜⬜⬜⬜⬜⬜\n",
      "⬜⬛⬛⬜⬜⬜⬛⬛⬜⬛⬜⬜⬜⬜⬛⬛⬛⬜⬜⬜⬜⬛⬜⬜⬜\n",
      "⬛⬛⬛⬜⬜⬜⬜⬛⬜⬜⬜⬜⬜⬜⬛⬛⬛⬜⬜⬜⬜⬛⬜⬜⬜\n",
      "⬜⬛⬛⬜⬜⬜⬜⬜⬜⬜⬜⬛⬜⬜⬛⬜⬜⬜⬜⬛⬜⬛⬛⬛⬛\n",
      "⬜⬜⬜⬜⬜⬜⬜⬜⬜⬜⬛⬛⬛⬛⬜⬜⬜⬜⬜⬛⬜⬜⬜⬛⬛\n",
      "⬜⬜⬜⬜⬛⬛⬜⬜⬜⬜⬜⬛⬛⬜⬜⬜⬜⬜⬜⬜⬜⬜⬛⬛⬛\n",
      "⬜⬜⬜⬜⬛⬛⬜⬜⬜⬜⬜⬜⬜⬜⬜⬜⬜⬜⬜⬛⬜⬛⬛⬛⬜\n",
      "⬜⬜⬜⬜⬛⬜⬛⬜⬜⬜⬜⬜⬜⬜⬜⬜⬜⬛⬛⬛⬜⬜⬜⬜⬜\n",
      "⬜⬜⬜⬜⬜⬛⬛⬜⬜⬜⬜⬜⬛⬜⬛⬜⬜⬛⬛⬜⬜⬛⬜⬜⬛\n",
      "⬜⬜⬛⬜⬜⬛⬛⬛⬜⬜⬜⬜⬜⬛⬜⬜⬜⬜⬜⬜⬜⬜⬜⬜⬜\n",
      "⬜⬜⬛⬜⬜⬜⬜⬜⬜⬜⬜⬜⬛⬛⬛⬜⬜⬜⬜⬜⬜⬜⬜⬜⬜\n",
      "\u001b[13Aafter 2 step:\n",
      "⬜⬜⬜⬜⬜⬜⬛⬛⬜⬜⬜⬜⬜⬜⬜⬛⬜⬜⬜⬜⬜⬜⬜⬜⬜⬜\n",
      "⬛⬜⬛⬜⬜⬜⬛⬛⬜⬜⬜⬜⬜⬜⬛⬜⬛⬜⬜⬜⬜⬜⬜⬜⬜⬜\n",
      "⬛⬜⬜⬛⬜⬜⬛⬛⬛⬜⬜⬜⬜⬛⬜⬜⬛⬜⬜⬜⬜⬛⬜⬛⬜⬜\n",
      "⬛⬜⬛⬜⬜⬜⬜⬜⬜⬜⬛⬛⬜⬜⬛⬜⬜⬜⬜⬜⬜⬛⬜⬜⬛⬜\n",
      "⬜⬜⬜⬜⬜⬜⬜⬜⬜⬜⬛⬜⬜⬛⬜⬜⬜⬜⬜⬜⬛⬛⬜⬜⬜⬛\n",
      "⬜⬜⬜⬜⬛⬛⬜⬜⬜⬜⬛⬜⬜⬛⬜⬜⬜⬜⬜⬜⬛⬛⬜⬜⬜⬜\n",
      "⬜⬜⬜⬛⬜⬜⬛⬜⬜⬜⬜⬜⬜⬜⬜⬜⬜⬜⬜⬛⬛⬛⬜⬜⬛⬜\n",
      "⬜⬜⬜⬜⬛⬜⬛⬜⬜⬜⬜⬜⬜⬜⬜⬜⬜⬛⬜⬛⬜⬛⬜⬛⬜⬜\n",
      "⬜⬜⬜⬜⬛⬜⬜⬜⬜⬜⬜⬜⬜⬛⬜⬜⬜⬛⬜⬛⬜⬜⬜⬜⬜⬜\n",
      "⬜⬜⬜⬜⬜⬛⬜⬛⬜⬜⬜⬜⬜⬜⬜⬜⬜⬜⬜⬜⬜⬜⬜⬜⬜⬜\n",
      "⬜⬜⬜⬜⬜⬜⬛⬜⬜⬜⬜⬜⬛⬛⬛⬜⬜⬜⬜⬜⬜⬜⬜⬜⬜⬜\n",
      "⬜⬜⬜⬜⬜⬜⬜⬜⬜⬜⬜⬜⬜⬛⬜⬜⬜⬜⬜⬜⬜⬜⬜⬜⬜⬜\n",
      "\u001b[13Aafter 3 step:\n",
      "⬜⬜⬜⬜⬜⬜⬜⬛⬛⬜⬜⬜⬜⬜⬜⬜⬛⬜⬜⬜⬜⬜⬜⬜⬜⬜⬜\n",
      "⬜⬜⬛⬜⬜⬜⬛⬜⬜⬜⬜⬜⬜⬜⬜⬛⬜⬛⬜⬜⬜⬜⬜⬜⬜⬜⬜\n",
      "⬛⬛⬜⬛⬛⬜⬜⬛⬜⬛⬜⬜⬜⬜⬛⬛⬜⬜⬜⬜⬜⬜⬜⬛⬜⬜⬜\n",
      "⬜⬜⬛⬜⬜⬜⬜⬜⬛⬜⬛⬛⬛⬛⬛⬛⬜⬜⬜⬜⬜⬜⬛⬜⬜⬛⬜\n",
      "⬜⬜⬜⬜⬜⬜⬜⬜⬜⬜⬛⬛⬜⬛⬛⬛⬜⬜⬜⬜⬜⬜⬜⬛⬜⬜⬜\n",
      "⬜⬜⬜⬜⬜⬛⬛⬜⬜⬜⬜⬜⬜⬜⬜⬜⬜⬜⬜⬜⬜⬜⬜⬛⬜⬜⬜\n",
      "⬜⬜⬜⬜⬛⬜⬜⬛⬜⬜⬜⬜⬜⬜⬜⬜⬜⬜⬜⬛⬛⬜⬜⬜⬜⬜⬜\n",
      "⬜⬜⬜⬜⬛⬛⬜⬜⬜⬜⬜⬜⬜⬜⬜⬜⬜⬜⬜⬜⬛⬜⬛⬛⬜⬜⬜\n",
      "⬜⬜⬜⬜⬜⬛⬜⬛⬜⬜⬜⬜⬜⬜⬜⬜⬜⬜⬜⬜⬜⬛⬜⬜⬜⬜⬜\n",
      "⬜⬜⬜⬜⬜⬜⬛⬛⬜⬜⬜⬜⬜⬛⬜⬛⬜⬜⬜⬜⬜⬜⬜⬜⬜⬜⬜\n",
      "⬜⬜⬜⬜⬜⬜⬜⬛⬜⬜⬜⬜⬜⬛⬛⬛⬜⬜⬜⬜⬜⬜⬜⬜⬜⬜⬜\n",
      "⬜⬜⬜⬜⬜⬜⬜⬜⬜⬜⬜⬜⬜⬛⬛⬛⬜⬜⬜⬜⬜⬜⬜⬜⬜⬜⬜\n",
      "\u001b[14Aafter 4 step:\n",
      "⬜⬜⬜⬜⬜⬜⬜⬛⬜⬜⬜⬜⬜⬜⬜⬜⬛⬜⬜⬜⬜⬜⬜⬜⬜⬜⬜\n",
      "⬜⬛⬛⬛⬜⬜⬛⬜⬜⬜⬜⬜⬜⬜⬛⬛⬜⬜⬜⬜⬜⬜⬜⬜⬜⬜⬜\n",
      "⬜⬛⬜⬛⬜⬜⬜⬛⬛⬛⬛⬛⬛⬜⬜⬜⬜⬜⬜⬜⬜⬜⬜⬜⬜⬜⬜\n",
      "⬜⬛⬛⬛⬜⬜⬜⬜⬛⬜⬜⬜⬜⬜⬜⬜⬛⬜⬜⬜⬜⬜⬛⬛⬛⬜⬜\n",
      "⬜⬜⬜⬜⬜⬜⬜⬜⬜⬛⬛⬜⬜⬜⬜⬛⬜⬜⬜⬜⬜⬜⬛⬛⬛⬜⬜\n",
      "⬜⬜⬜⬜⬜⬛⬛⬜⬜⬜⬜⬜⬜⬜⬛⬜⬜⬜⬜⬜⬜⬜⬜⬜⬜⬜⬜\n",
      "⬜⬜⬜⬜⬛⬜⬜⬜⬜⬜⬜⬜⬜⬜⬜⬜⬜⬜⬜⬛⬛⬛⬛⬛⬜⬜⬜\n",
      "⬜⬜⬜⬜⬛⬛⬜⬜⬜⬜⬜⬜⬜⬜⬜⬜⬜⬜⬜⬛⬛⬜⬛⬜⬜⬜⬜\n",
      "⬜⬜⬜⬜⬛⬛⬜⬛⬜⬜⬜⬜⬜⬜⬜⬜⬜⬜⬜⬜⬜⬛⬛⬜⬜⬜⬜\n",
      "⬜⬜⬜⬜⬜⬜⬜⬛⬛⬜⬜⬜⬜⬛⬜⬛⬜⬜⬜⬜⬜⬜⬜⬜⬜⬜⬜\n",
      "⬜⬜⬜⬜⬜⬜⬛⬛⬜⬜⬜⬜⬛⬜⬜⬜⬛⬜⬜⬜⬜⬜⬜⬜⬜⬜⬜\n",
      "⬜⬜⬜⬜⬜⬜⬜⬜⬜⬜⬜⬜⬜⬛⬜⬛⬜⬜⬜⬜⬜⬜⬜⬜⬜⬜⬜\n",
      "⬜⬜⬜⬜⬜⬜⬜⬜⬜⬜⬜⬜⬜⬜⬛⬜⬜⬜⬜⬜⬜⬜⬜⬜⬜⬜⬜\n",
      "\u001b[14Aafter 5 step:\n",
      "⬜⬜⬛⬜⬜⬜⬜⬜⬜⬜⬜⬜⬜⬜⬜⬛⬜⬜⬜⬜⬜⬜⬜⬜⬜⬜⬜\n",
      "⬜⬛⬜⬛⬜⬜⬛⬜⬜⬛⬛⬛⬜⬜⬜⬛⬜⬜⬜⬜⬜⬜⬜⬜⬜⬜⬜\n",
      "⬛⬜⬜⬜⬛⬜⬜⬛⬛⬛⬛⬛⬜⬜⬜⬛⬜⬜⬜⬜⬜⬜⬜⬛⬜⬜⬜\n",
      "⬜⬛⬜⬛⬜⬜⬜⬛⬜⬜⬜⬜⬜⬜⬜⬜⬜⬜⬜⬜⬜⬜⬛⬜⬛⬜⬜\n",
      "⬜⬜⬛⬜⬜⬜⬜⬜⬜⬛⬜⬜⬜⬜⬜⬛⬜⬜⬜⬜⬜⬜⬛⬜⬛⬜⬜\n",
      "⬜⬜⬜⬜⬜⬛⬜⬜⬜⬜⬜⬜⬜⬜⬜⬜⬜⬜⬜⬜⬛⬜⬜⬜⬛⬜⬜\n",
      "⬜⬜⬜⬜⬛⬜⬛⬜⬜⬜⬜⬜⬜⬜⬜⬜⬜⬜⬜⬛⬜⬜⬛⬛⬜⬜⬜\n",
      "⬜⬜⬜⬛⬜⬜⬛⬜⬜⬜⬜⬜⬜⬜⬜⬜⬜⬜⬜⬛⬜⬜⬜⬜⬜⬜⬜\n",
      "⬜⬜⬜⬜⬛⬛⬜⬛⬛⬜⬜⬜⬜⬜⬜⬜⬜⬜⬜⬜⬛⬛⬛⬜⬜⬜⬜\n",
      "⬜⬜⬜⬜⬜⬛⬜⬜⬛⬜⬜⬜⬜⬜⬜⬜⬜⬜⬜⬜⬜⬜⬜⬜⬜⬜⬜\n",
      "⬜⬜⬜⬜⬜⬜⬛⬛⬛⬜⬜⬜⬛⬛⬜⬛⬛⬜⬜⬜⬜⬜⬜⬜⬜⬜⬜\n",
      "⬜⬜⬜⬜⬜⬜⬜⬜⬜⬜⬜⬜⬜⬛⬛⬛⬜⬜⬜⬜⬜⬜⬜⬜⬜⬜⬜\n",
      "⬜⬜⬜⬜⬜⬜⬜⬜⬜⬜⬜⬜⬜⬜⬛⬜⬜⬜⬜⬜⬜⬜⬜⬜⬜⬜⬜\n",
      "\u001b[14Aafter 6 step:\n",
      "⬜⬜⬛⬜⬜⬜⬜⬜⬜⬜⬛⬜⬜⬜⬜⬜⬜⬜⬜⬜⬜⬜⬜⬜⬜⬜⬜\n",
      "⬜⬛⬛⬛⬜⬜⬜⬛⬜⬜⬜⬛⬜⬜⬛⬛⬛⬜⬜⬜⬜⬜⬜⬜⬜⬜⬜\n",
      "⬛⬛⬜⬛⬛⬜⬛⬛⬜⬜⬜⬛⬜⬜⬜⬜⬜⬜⬜⬜⬜⬜⬜⬛⬜⬜⬜\n",
      "⬜⬛⬛⬛⬜⬜⬜⬛⬜⬜⬜⬜⬜⬜⬜⬜⬜⬜⬜⬜⬜⬜⬛⬜⬛⬜⬜\n",
      "⬜⬜⬛⬜⬜⬜⬜⬜⬜⬜⬜⬜⬜⬜⬜⬜⬜⬜⬜⬜⬜⬛⬜⬜⬛⬛⬜\n",
      "⬜⬜⬜⬜⬜⬛⬜⬜⬜⬜⬜⬜⬜⬜⬜⬜⬜⬜⬜⬜⬜⬛⬛⬜⬛⬜⬜\n",
      "⬜⬜⬜⬜⬛⬜⬛⬜⬜⬜⬜⬜⬜⬜⬜⬜⬜⬜⬜⬛⬛⬜⬜⬛⬜⬜⬜\n",
      "⬜⬜⬜⬛⬜⬜⬛⬜⬜⬜⬜⬜⬜⬜⬜⬜⬜⬜⬜⬛⬜⬜⬜⬛⬜⬜⬜\n",
      "⬜⬜⬜⬜⬛⬛⬜⬛⬛⬜⬜⬜⬜⬜⬜⬜⬜⬜⬜⬜⬛⬛⬜⬜⬜⬜⬜\n",
      "⬜⬜⬜⬜⬛⬛⬜⬜⬜⬛⬜⬜⬜⬜⬜⬜⬜⬜⬜⬜⬜⬛⬜⬜⬜⬜⬜\n",
      "⬜⬜⬜⬜⬜⬜⬛⬛⬛⬜⬜⬜⬛⬛⬜⬛⬛⬜⬜⬜⬜⬜⬜⬜⬜⬜⬜\n",
      "⬜⬜⬜⬜⬜⬜⬜⬛⬜⬜⬜⬜⬛⬜⬜⬜⬛⬜⬜⬜⬜⬜⬜⬜⬜⬜⬜\n",
      "⬜⬜⬜⬜⬜⬜⬜⬜⬜⬜⬜⬜⬜⬛⬛⬛⬜⬜⬜⬜⬜⬜⬜⬜⬜⬜⬜\n",
      "\u001b[15Aafter 7 step:\n",
      "⬜⬛⬛⬛⬜⬜⬜⬜⬜⬜⬜⬜⬜⬜⬜⬛⬜⬜⬜⬜⬜⬜⬜⬜⬜⬜⬜\n",
      "⬛⬜⬜⬜⬛⬜⬛⬛⬜⬜⬛⬛⬜⬜⬜⬛⬜⬜⬜⬜⬜⬜⬜⬜⬜⬜⬜\n",
      "⬛⬜⬜⬜⬛⬜⬛⬛⬛⬜⬜⬜⬜⬜⬜⬛⬜⬜⬜⬜⬜⬜⬜⬛⬜⬜⬜\n",
      "⬛⬜⬜⬜⬛⬜⬛⬛⬜⬜⬜⬜⬜⬜⬜⬜⬜⬜⬜⬜⬜⬜⬛⬜⬛⬛⬜\n",
      "⬜⬛⬛⬛⬜⬜⬜⬜⬜⬜⬜⬜⬜⬜⬜⬜⬜⬜⬜⬜⬜⬛⬜⬜⬛⬛⬜\n",
      "⬜⬜⬜⬜⬜⬛⬜⬜⬜⬜⬜⬜⬜⬜⬜⬜⬜⬜⬜⬜⬜⬛⬛⬜⬛⬛⬜\n",
      "⬜⬜⬜⬜⬛⬜⬛⬜⬜⬜⬜⬜⬜⬜⬜⬜⬜⬜⬜⬛⬛⬛⬜⬛⬛⬜⬜\n",
      "⬜⬜⬜⬛⬜⬜⬛⬜⬜⬜⬜⬜⬜⬜⬜⬜⬜⬜⬜⬛⬜⬛⬛⬜⬜⬜⬜\n",
      "⬜⬜⬜⬛⬜⬜⬜⬛⬛⬜⬜⬜⬜⬜⬜⬜⬜⬜⬜⬜⬛⬛⬛⬜⬜⬜⬜\n",
      "⬜⬜⬜⬜⬛⬜⬜⬜⬜⬛⬜⬜⬜⬜⬜⬜⬜⬜⬜⬜⬛⬛⬜⬜⬜⬜⬜\n",
      "⬜⬜⬜⬜⬜⬛⬛⬛⬛⬜⬜⬜⬛⬛⬜⬛⬛⬜⬜⬜⬜⬜⬜⬜⬜⬜⬜\n",
      "⬜⬜⬜⬜⬜⬜⬛⬛⬛⬜⬜⬜⬛⬜⬜⬜⬛⬜⬜⬜⬜⬜⬜⬜⬜⬜⬜\n",
      "⬜⬜⬜⬜⬜⬜⬜⬜⬜⬜⬜⬜⬜⬛⬛⬛⬜⬜⬜⬜⬜⬜⬜⬜⬜⬜⬜\n",
      "⬜⬜⬜⬜⬜⬜⬜⬜⬜⬜⬜⬜⬜⬜⬛⬜⬜⬜⬜⬜⬜⬜⬜⬜⬜⬜⬜\n",
      "\u001b[16Aafter 8 step:\n",
      "⬜⬜⬜⬛⬜⬜⬜⬜⬜⬜⬜⬜⬜⬜⬜⬜⬜⬜⬜⬜⬜⬜⬜⬜⬜⬜⬜⬜\n",
      "⬜⬜⬛⬛⬛⬜⬜⬜⬜⬜⬜⬜⬜⬜⬜⬜⬜⬜⬜⬜⬜⬜⬜⬜⬜⬜⬜⬜\n",
      "⬜⬛⬜⬛⬜⬛⬜⬛⬜⬛⬜⬜⬜⬜⬜⬛⬛⬛⬜⬜⬜⬜⬜⬜⬜⬜⬜⬜\n",
      "⬛⬛⬛⬜⬛⬛⬜⬜⬜⬛⬜⬜⬜⬜⬜⬜⬜⬜⬜⬜⬜⬜⬜⬜⬛⬛⬜⬜\n",
      "⬜⬛⬜⬛⬜⬛⬜⬛⬜⬛⬜⬜⬜⬜⬜⬜⬜⬜⬜⬜⬜⬜⬜⬛⬜⬜⬛⬜\n",
      "⬜⬜⬛⬛⬛⬛⬛⬛⬜⬜⬜⬜⬜⬜⬜⬜⬜⬜⬜⬜⬜⬜⬛⬜⬜⬜⬜⬛\n",
      "⬜⬜⬜⬛⬛⬛⬛⬜⬜⬜⬜⬜⬜⬜⬜⬜⬜⬜⬜⬜⬜⬜⬜⬜⬜⬜⬜⬜\n",
      "⬜⬜⬜⬜⬜⬛⬜⬛⬜⬜⬜⬜⬜⬜⬜⬜⬜⬜⬜⬜⬛⬜⬜⬜⬜⬛⬛⬜\n",
      "⬜⬜⬜⬜⬛⬛⬛⬛⬜⬜⬜⬜⬜⬜⬜⬜⬜⬜⬜⬜⬛⬜⬜⬜⬜⬜⬜⬜\n",
      "⬜⬜⬜⬜⬛⬛⬜⬜⬛⬛⬜⬜⬜⬜⬜⬜⬜⬜⬜⬜⬛⬜⬜⬜⬜⬜⬜⬜\n",
      "⬜⬜⬜⬜⬜⬛⬛⬜⬜⬜⬛⬜⬜⬜⬜⬜⬜⬜⬜⬜⬜⬛⬜⬛⬜⬜⬜⬜\n",
      "⬜⬜⬜⬜⬜⬜⬛⬜⬜⬜⬛⬜⬜⬛⬛⬜⬛⬛⬜⬜⬜⬜⬜⬜⬜⬜⬜⬜\n",
      "⬜⬜⬜⬜⬜⬜⬛⬜⬜⬛⬜⬜⬜⬛⬜⬜⬜⬛⬜⬜⬜⬜⬜⬜⬜⬜⬜⬜\n",
      "⬜⬜⬜⬜⬜⬜⬜⬜⬛⬜⬜⬜⬜⬜⬛⬛⬛⬜⬜⬜⬜⬜⬜⬜⬜⬜⬜⬜\n",
      "⬜⬜⬜⬜⬜⬜⬜⬜⬜⬜⬜⬜⬜⬜⬛⬛⬛⬜⬜⬜⬜⬜⬜⬜⬜⬜⬜⬜\n",
      "\u001b[17Aafter 9 step:\n",
      "⬜⬜⬛⬛⬛⬜⬜⬜⬜⬜⬜⬜⬜⬜⬜⬜⬜⬜⬜⬜⬜⬜⬜⬜⬜⬜⬜⬜\n",
      "⬜⬜⬜⬜⬜⬜⬜⬜⬜⬜⬜⬜⬜⬜⬜⬜⬛⬜⬜⬜⬜⬜⬜⬜⬜⬜⬜⬜\n",
      "⬛⬜⬜⬜⬜⬛⬛⬜⬛⬜⬜⬜⬜⬜⬜⬜⬛⬜⬜⬜⬜⬜⬜⬜⬜⬜⬜⬜\n",
      "⬛⬜⬜⬜⬜⬛⬜⬜⬜⬛⬛⬜⬜⬜⬜⬜⬛⬜⬜⬜⬜⬜⬜⬜⬛⬛⬜⬜\n",
      "⬛⬜⬜⬜⬜⬜⬜⬛⬜⬜⬜⬜⬜⬜⬜⬜⬜⬜⬜⬜⬜⬜⬜⬛⬛⬛⬛⬜\n",
      "⬜⬜⬜⬜⬜⬜⬜⬛⬛⬜⬜⬜⬜⬜⬜⬜⬜⬜⬜⬜⬜⬜⬜⬜⬜⬜⬜⬜\n",
      "⬜⬜⬛⬜⬜⬜⬜⬜⬜⬜⬜⬜⬜⬜⬜⬜⬜⬜⬜⬜⬜⬜⬜⬜⬜⬜⬛⬜\n",
      "⬜⬜⬜⬛⬜⬜⬜⬛⬜⬜⬜⬜⬜⬜⬜⬜⬜⬜⬜⬜⬜⬜⬜⬜⬜⬜⬜⬜\n",
      "⬜⬜⬜⬜⬜⬜⬜⬛⬜⬜⬜⬜⬜⬜⬜⬜⬜⬜⬜⬛⬛⬛⬜⬜⬜⬜⬜⬜\n",
      "⬜⬜⬜⬜⬜⬜⬜⬜⬛⬛⬜⬜⬜⬜⬜⬜⬜⬜⬜⬜⬛⬛⬜⬜⬜⬜⬜⬜\n",
      "⬜⬜⬜⬜⬛⬜⬛⬛⬜⬜⬛⬜⬜⬜⬜⬜⬜⬜⬜⬜⬜⬜⬜⬜⬜⬜⬜⬜\n",
      "⬜⬜⬜⬜⬜⬜⬛⬛⬜⬛⬛⬜⬜⬛⬛⬜⬛⬛⬜⬜⬜⬜⬜⬜⬜⬜⬜⬜\n",
      "⬜⬜⬜⬜⬜⬜⬜⬛⬜⬛⬜⬜⬜⬛⬜⬜⬜⬛⬜⬜⬜⬜⬜⬜⬜⬜⬜⬜\n",
      "⬜⬜⬜⬜⬜⬜⬜⬜⬜⬜⬜⬜⬜⬛⬜⬜⬜⬛⬜⬜⬜⬜⬜⬜⬜⬜⬜⬜\n",
      "⬜⬜⬜⬜⬜⬜⬜⬜⬜⬜⬜⬜⬜⬜⬛⬜⬛⬜⬜⬜⬜⬜⬜⬜⬜⬜⬜⬜\n",
      "⬜⬜⬜⬜⬜⬜⬜⬜⬜⬜⬜⬜⬜⬜⬜⬛⬜⬜⬜⬜⬜⬜⬜⬜⬜⬜⬜⬜\n",
      "\u001b[18Aafter 10 step:\n",
      "⬜⬜⬜⬜⬛⬜⬜⬜⬜⬜⬜⬜⬜⬜⬜⬜⬜⬜⬜⬜⬜⬜⬜⬜⬜⬜⬜⬜⬜\n",
      "⬜⬜⬜⬜⬛⬜⬜⬜⬜⬜⬜⬜⬜⬜⬜⬜⬜⬜⬜⬜⬜⬜⬜⬜⬜⬜⬜⬜⬜\n",
      "⬜⬜⬜⬜⬛⬛⬛⬜⬜⬜⬜⬜⬜⬜⬜⬜⬜⬜⬜⬜⬜⬜⬜⬜⬜⬜⬜⬜⬜\n",
      "⬜⬜⬜⬜⬜⬜⬛⬛⬜⬜⬛⬜⬜⬜⬜⬜⬛⬛⬛⬜⬜⬜⬜⬜⬜⬜⬜⬜⬜\n",
      "⬛⬛⬛⬜⬜⬜⬛⬜⬛⬛⬛⬜⬜⬜⬜⬜⬜⬜⬜⬜⬜⬜⬜⬜⬛⬜⬜⬛⬜\n",
      "⬜⬜⬜⬜⬜⬜⬜⬛⬛⬜⬛⬜⬜⬜⬜⬜⬜⬜⬜⬜⬜⬜⬜⬜⬛⬜⬜⬛⬜\n",
      "⬜⬜⬜⬜⬜⬜⬜⬜⬛⬛⬜⬜⬜⬜⬜⬜⬜⬜⬜⬜⬜⬜⬜⬜⬜⬛⬜⬛⬜\n",
      "⬜⬜⬜⬜⬜⬜⬜⬜⬛⬛⬜⬜⬜⬜⬜⬜⬜⬜⬜⬜⬜⬜⬜⬜⬜⬜⬜⬜⬜\n",
      "⬜⬜⬜⬜⬜⬜⬜⬜⬜⬜⬜⬜⬜⬜⬜⬜⬜⬜⬜⬜⬜⬛⬜⬜⬜⬜⬜⬜⬜\n",
      "⬜⬜⬜⬜⬜⬜⬜⬜⬛⬜⬜⬜⬜⬜⬜⬜⬜⬜⬜⬜⬛⬜⬛⬜⬜⬜⬜⬜⬜\n",
      "⬜⬜⬜⬜⬜⬜⬜⬛⬜⬛⬛⬜⬜⬜⬜⬜⬜⬜⬜⬜⬛⬜⬛⬜⬜⬜⬜⬜⬜\n",
      "⬜⬜⬜⬜⬜⬜⬛⬛⬜⬜⬜⬛⬜⬜⬜⬜⬜⬜⬜⬜⬜⬜⬜⬜⬜⬜⬜⬜⬜\n",
      "⬜⬜⬜⬜⬜⬜⬛⬜⬜⬜⬛⬛⬜⬜⬛⬛⬜⬛⬛⬜⬜⬜⬜⬜⬜⬜⬜⬜⬜\n",
      "⬜⬜⬜⬜⬜⬜⬜⬛⬛⬜⬛⬛⬜⬛⬛⬜⬜⬜⬛⬛⬜⬜⬜⬜⬜⬜⬜⬜⬜\n",
      "⬜⬜⬜⬜⬜⬜⬜⬜⬜⬜⬜⬜⬜⬜⬛⬛⬜⬛⬛⬜⬜⬜⬜⬜⬜⬜⬜⬜⬜\n",
      "⬜⬜⬜⬜⬜⬜⬜⬜⬜⬜⬜⬜⬜⬜⬜⬛⬛⬛⬜⬜⬜⬜⬜⬜⬜⬜⬜⬜⬜\n",
      "⬜⬜⬜⬜⬜⬜⬜⬜⬜⬜⬜⬜⬜⬜⬜⬜⬛⬜⬜⬜⬜⬜⬜⬜⬜⬜⬜⬜⬜\n"
     ]
    }
   ],
   "source": [
    "! python conway_cli.py"
   ]
  },
  {
   "cell_type": "code",
   "execution_count": null,
   "metadata": {
    "id": "tS8kfeKW_Ddp"
   },
   "outputs": [],
   "source": []
  },
  {
   "cell_type": "code",
   "execution_count": null,
   "metadata": {
    "id": "bgzI6v6srj2i"
   },
   "outputs": [],
   "source": [
    "# import importlib\n",
    "# importlib.reload(conway)"
   ]
  },
  {
   "cell_type": "code",
   "execution_count": null,
   "metadata": {
    "id": "rWVRxrajrj2i"
   },
   "outputs": [],
   "source": [
    "import conway\n",
    "\n",
    "out1 = Output()\n",
    "display(out1)\n",
    "\n",
    "with out1:\n",
    "    conway.main(clear_screen=lambda n: out1.clear_output(True))"
   ]
  },
  {
   "cell_type": "markdown",
   "metadata": {
    "id": "xU_duKQUrj2i"
   },
   "source": [
    "Az `argparse` könyvtár nem a legkényelmesebb. Alternatívák:\n",
    "\n",
    "- [Docopt](http://docopt.org/)\n",
    "- [Click](https://pypi.org/project/click/)\n",
    "- [clize](https://github.com/epsy/clize)\n",
    "\n",
    "és még sok másik is!"
   ]
  },
  {
   "cell_type": "markdown",
   "metadata": {
    "id": "QD3j9Urerj2i"
   },
   "source": [
    "## Itt is használhattunk volna dekorátort"
   ]
  },
  {
   "cell_type": "markdown",
   "metadata": {
    "id": "VAGd1hYirj2i"
   },
   "source": [
    "\n",
    "A `ConwayGoL` példában utólag adtunk metódusokat az osztályunkhoz. Ezt is megtehettük volna dekorátorral.  "
   ]
  },
  {
   "cell_type": "code",
   "execution_count": null,
   "metadata": {
    "id": "kSIhYPbArj2j"
   },
   "outputs": [],
   "source": [
    "def conway_method(f):\n",
    "    setattr(ConwayGoL, f.__name__, f)\n",
    "    return f\n",
    "\n",
    "\n",
    "@conway_method\n",
    "def dummy_method(self):\n",
    "    print(\"this is a message from the new method!\")\n",
    "\n",
    "c = ConwayGoL([])\n",
    "c.dummy_method()"
   ]
  },
  {
   "cell_type": "markdown",
   "metadata": {
    "id": "SoPtEG18rj2j"
   },
   "source": [
    "Azt is megtehettük volna, hogy a osztály nincs beleégetve a kódba."
   ]
  },
  {
   "cell_type": "code",
   "execution_count": null,
   "metadata": {
    "id": "9J7hW4Xbrj2k"
   },
   "outputs": [],
   "source": [
    "def new_method(cls):\n",
    "    def decorator(f):\n",
    "        setattr(cls, f.__name__, f)\n",
    "        return f\n",
    "    return decorator\n",
    "\n",
    "@new_method(ConwayGoL)\n",
    "def dummy_method(self):\n",
    "    print(\"Note that the old value of dummy_method is overwritten!\")"
   ]
  },
  {
   "cell_type": "code",
   "execution_count": null,
   "metadata": {
    "id": "y2Kz-Wh8rj2k"
   },
   "outputs": [],
   "source": [
    "c.dummy_method()"
   ]
  },
  {
   "cell_type": "markdown",
   "metadata": {
    "id": "Pc3sMW9wrj2l"
   },
   "source": [
    "## Néhány minta"
   ]
  },
  {
   "cell_type": "code",
   "execution_count": 60,
   "metadata": {
    "id": "s7HbYkXfrj2l"
   },
   "outputs": [],
   "source": [
    "import urllib.request as request\n"
   ]
  },
  {
   "cell_type": "code",
   "execution_count": 58,
   "metadata": {
    "id": "rAXS0o8erj2n"
   },
   "outputs": [],
   "source": [
    "\n",
    "urls = [\n",
    "    \"https://conwaylife.com/patterns/83p7h1v1.cells\",\n",
    "    \"https://conwaylife.com/patterns/rotatedhouse.cells\",\n",
    "]\n",
    "\n"
   ]
  },
  {
   "cell_type": "code",
   "execution_count": 61,
   "metadata": {
    "colab": {
     "base_uri": "https://localhost:8080/"
    },
    "id": "KkHb5Bdprj2n",
    "outputId": "116d816f-dc0b-44fd-8c1e-c4290c01cfba"
   },
   "outputs": [
    {
     "name": "stdout",
     "output_type": "stream",
     "text": [
      "! Lobster (spaceship)\r\n",
      "! Matthias Merzenich\r\n",
      "! https://conwaylife.com/wiki/Lobster_(spaceship)\r\n",
      "! https://conwaylife.com/patterns/83p7h1v1.cells\r\n",
      "...........OOO............\r\n",
      ".............O............\r\n",
      "........OO..O.............\r\n",
      "........OO................\r\n",
      "............OO............\r\n",
      "...........OO.............\r\n",
      "..........O..O............\r\n",
      "..........................\r\n",
      "........O..O..............\r\n",
      ".......O...O..............\r\n",
      "......O.OOO...............\r\n",
      ".....O....................\r\n",
      ".....O.............O.O..OO\r\n",
      "......O.............OO.O.O\r\n",
      ".OO.............OO..O....O\r\n",
      "O..OO..OO......O...O......\r\n",
      ".....O..O......O......OO..\r\n",
      ".........OO....O.O....OO..\r\n",
      "..O...O...O.....O.........\r\n",
      "......OO....O..O..........\r\n",
      ".O.O.....O...OO...........\r\n",
      "OO........O...............\r\n",
      ".....O....O...............\r\n",
      ".......O...O..............\r\n",
      "....OO.....O..............\r\n",
      "....O.....O...............\n"
     ]
    }
   ],
   "source": [
    "with request.urlopen(urls[0]) as file:\n",
    "    btext = file.read()\n",
    "text = btext.decode(\"utf-8\")\n",
    "print(text)\n",
    "data = [[0 if c == \".\" else 1 for c in line] for line in text.splitlines() if not line.startswith(\"!\")]\n"
   ]
  },
  {
   "cell_type": "code",
   "execution_count": 62,
   "metadata": {
    "id": "Jdzx1b86rj2n"
   },
   "outputs": [],
   "source": [
    "from ipywidgets import Output\n",
    "from time import sleep\n",
    "import numpy as np\n"
   ]
  },
  {
   "cell_type": "code",
   "execution_count": 64,
   "metadata": {
    "colab": {
     "base_uri": "https://localhost:8080/",
     "height": 746,
     "referenced_widgets": [
      "fa8bbfa109434cbe8a048be41d6b9a63",
      "dbffa5960d3f42e8848b6074b8cc51f1"
     ]
    },
    "id": "SU0ux8p8rj2o",
    "outputId": "0bcded9d-5f8e-4f38-854f-8353a1433dcb"
   },
   "outputs": [
    {
     "data": {
      "application/vnd.jupyter.widget-view+json": {
       "model_id": "fa8bbfa109434cbe8a048be41d6b9a63",
       "version_major": 2,
       "version_minor": 0
      },
      "text/plain": [
       "Output()"
      ]
     },
     "metadata": {},
     "output_type": "display_data"
    }
   ],
   "source": [
    "import conway\n",
    "out = Output()\n",
    "display(out)\n",
    "\n",
    "\n",
    "conway_gol = conway.ConwayGoL(data)\n",
    "\n",
    "for i in range(100):\n",
    "    out.clear_output(True)\n",
    "    with out:\n",
    "        print(f\"After {i} steps:\\n{conway_gol}\")\n",
    "    sleep(0.15)\n",
    "    conway_gol.step()\n",
    "    if conway_gol.is_empty():\n",
    "        break\n"
   ]
  },
  {
   "cell_type": "code",
   "execution_count": null,
   "metadata": {
    "id": "bhuDO_h8rj2p",
    "outputId": "b0012f36-d3ba-4611-e7c8-1b914036737d"
   },
   "outputs": [
    {
     "name": "stdout",
     "output_type": "stream",
     "text": [
      "! rotatedhouse.cells\n",
      "! https://conwaylife.com/wiki/Rotated_house\n",
      "! https://www.conwaylife.com/patterns/rotatedhouse.cells\n",
      "OO.....\n",
      "O.O....\n",
      "..O..OO\n",
      "O.O.O.O\n",
      "OO..O..\n",
      "....O.O\n",
      ".....OO\n",
      "\n"
     ]
    }
   ],
   "source": [
    "with request.urlopen(urls[1]) as file:\n",
    "    btext = file.read()\n",
    "text = btext.decode(\"utf-8\")\n",
    "print(text)\n",
    "data = [[0 if c == \".\" else 1 for c in line] for line in text.splitlines() if not line.startswith(\"!\")]\n"
   ]
  },
  {
   "cell_type": "code",
   "execution_count": null,
   "metadata": {
    "colab": {
     "referenced_widgets": [
      "4744cdd3b42d4ef7826b11f7037e911f"
     ]
    },
    "id": "JzZaCtjtrj2p",
    "outputId": "6087ebc5-4f44-49d2-cb05-d7f6155f5993"
   },
   "outputs": [
    {
     "data": {
      "application/vnd.jupyter.widget-view+json": {
       "model_id": "4744cdd3b42d4ef7826b11f7037e911f",
       "version_major": 2,
       "version_minor": 0
      },
      "text/plain": [
       "Output()"
      ]
     },
     "metadata": {},
     "output_type": "display_data"
    }
   ],
   "source": [
    "\n",
    "out = Output()\n",
    "display(out)\n",
    "\n",
    "\n",
    "conway_gol = conway.ConwayGoL(data)\n",
    "\n",
    "for i in range(10):\n",
    "    out.clear_output(True)\n",
    "    with out:\n",
    "        print(f\"After {i} steps:\\n{conway_gol}\")\n",
    "    sleep(0.15)\n",
    "    conway_gol.step()\n",
    "    if conway_gol.is_empty():\n",
    "        break\n"
   ]
  }
 ],
 "metadata": {
  "colab": {
   "provenance": []
  },
  "kernelspec": {
   "display_name": "python3.10",
   "language": "python",
   "name": "python3"
  },
  "language_info": {
   "codemirror_mode": {
    "name": "ipython",
    "version": 3
   },
   "file_extension": ".py",
   "mimetype": "text/x-python",
   "name": "python",
   "nbconvert_exporter": "python",
   "pygments_lexer": "ipython3",
   "version": "3.10.12"
  },
  "widgets": {
   "application/vnd.jupyter.widget-state+json": {
    "2f967e2974444b7eaf79e7cd2dd1cfe0": {
     "model_module": "@jupyter-widgets/base",
     "model_module_version": "1.2.0",
     "model_name": "LayoutModel",
     "state": {
      "_model_module": "@jupyter-widgets/base",
      "_model_module_version": "1.2.0",
      "_model_name": "LayoutModel",
      "_view_count": null,
      "_view_module": "@jupyter-widgets/base",
      "_view_module_version": "1.2.0",
      "_view_name": "LayoutView",
      "align_content": null,
      "align_items": null,
      "align_self": null,
      "border": null,
      "bottom": null,
      "display": null,
      "flex": null,
      "flex_flow": null,
      "grid_area": null,
      "grid_auto_columns": null,
      "grid_auto_flow": null,
      "grid_auto_rows": null,
      "grid_column": null,
      "grid_gap": null,
      "grid_row": null,
      "grid_template_areas": null,
      "grid_template_columns": null,
      "grid_template_rows": null,
      "height": null,
      "justify_content": null,
      "justify_items": null,
      "left": null,
      "margin": null,
      "max_height": null,
      "max_width": null,
      "min_height": null,
      "min_width": null,
      "object_fit": null,
      "object_position": null,
      "order": null,
      "overflow": null,
      "overflow_x": null,
      "overflow_y": null,
      "padding": null,
      "right": null,
      "top": null,
      "visibility": null,
      "width": null
     }
    },
    "62cc2388337940db9d1158c4cef2d3ec": {
     "model_module": "@jupyter-widgets/output",
     "model_module_version": "1.0.0",
     "model_name": "OutputModel",
     "state": {
      "_dom_classes": [],
      "_model_module": "@jupyter-widgets/output",
      "_model_module_version": "1.0.0",
      "_model_name": "OutputModel",
      "_view_count": null,
      "_view_module": "@jupyter-widgets/output",
      "_view_module_version": "1.0.0",
      "_view_name": "OutputView",
      "layout": "IPY_MODEL_2f967e2974444b7eaf79e7cd2dd1cfe0",
      "msg_id": "",
      "outputs": [
       {
        "name": "stdout",
        "output_type": "stream",
        "text": [
         "After 49 steps:\n",
         "⬜⬜⬜⬜⬜⬜⬜⬜⬜⬜⬜⬜⬜⬜⬜⬜⬜⬜⬜⬜⬜⬜⬜⬜⬜⬜⬜⬜⬜⬜⬜⬜⬜⬜⬜⬜⬜⬜⬜⬜⬜⬜⬜⬜⬜⬜⬜⬜⬜⬜⬜⬜⬜⬜⬜\n",
         "⬜⬜⬜⬜⬜⬜⬜⬜⬜⬜⬜⬜⬜⬜⬜⬜⬜⬜⬜⬜⬜⬜⬜⬜⬜⬜⬜⬜⬜⬜⬜⬜⬜⬜⬜⬜⬜⬜⬜⬜⬜⬜⬛⬜⬜⬜⬜⬜⬜⬜⬜⬜⬜⬜⬜\n",
         "⬜⬜⬜⬜⬜⬜⬜⬜⬜⬜⬜⬜⬜⬜⬜⬜⬜⬜⬜⬜⬜⬜⬜⬜⬜⬜⬜⬜⬜⬜⬜⬜⬜⬜⬜⬜⬜⬜⬜⬜⬜⬛⬜⬛⬜⬜⬜⬜⬜⬜⬜⬜⬜⬜⬜\n",
         "⬜⬜⬜⬜⬜⬜⬜⬜⬜⬜⬜⬜⬜⬜⬜⬜⬜⬜⬜⬜⬜⬜⬜⬜⬜⬜⬜⬜⬜⬜⬜⬜⬜⬜⬜⬜⬜⬜⬜⬜⬜⬛⬜⬛⬜⬜⬜⬜⬜⬜⬜⬜⬜⬜⬜\n",
         "⬜⬜⬜⬜⬜⬜⬜⬜⬜⬜⬜⬜⬜⬜⬜⬜⬜⬜⬜⬜⬜⬜⬜⬜⬜⬜⬜⬜⬜⬜⬜⬛⬛⬛⬜⬜⬜⬜⬜⬜⬜⬜⬛⬜⬜⬜⬜⬜⬜⬜⬜⬜⬜⬜⬜\n",
         "⬜⬜⬜⬜⬜⬜⬜⬜⬜⬜⬜⬜⬜⬜⬜⬜⬜⬜⬜⬜⬜⬜⬜⬜⬜⬜⬜⬜⬜⬜⬜⬛⬜⬜⬛⬜⬜⬜⬜⬜⬜⬜⬜⬜⬜⬜⬜⬜⬜⬜⬜⬜⬜⬜⬜\n",
         "⬜⬜⬜⬛⬛⬛⬜⬜⬜⬜⬜⬜⬜⬜⬜⬜⬜⬜⬜⬜⬜⬜⬜⬜⬜⬛⬜⬜⬜⬛⬜⬜⬜⬜⬛⬜⬜⬛⬜⬜⬜⬜⬜⬜⬜⬜⬜⬜⬜⬜⬜⬜⬜⬜⬜\n",
         "⬜⬜⬜⬜⬜⬜⬜⬜⬜⬜⬜⬜⬜⬜⬜⬜⬜⬜⬜⬜⬜⬜⬜⬜⬜⬛⬜⬜⬜⬛⬜⬜⬜⬜⬛⬜⬛⬜⬛⬜⬜⬜⬜⬜⬜⬜⬜⬛⬛⬜⬜⬜⬜⬜⬜\n",
         "⬜⬛⬜⬜⬜⬜⬜⬛⬜⬜⬜⬜⬜⬜⬜⬜⬜⬜⬜⬜⬜⬜⬜⬜⬜⬜⬜⬜⬜⬛⬜⬜⬜⬛⬜⬜⬜⬜⬜⬜⬜⬜⬜⬜⬜⬜⬜⬛⬛⬜⬜⬜⬜⬜⬜\n",
         "⬜⬛⬜⬜⬜⬜⬜⬛⬜⬜⬜⬜⬜⬜⬜⬜⬜⬜⬜⬜⬜⬜⬜⬜⬜⬜⬜⬜⬜⬜⬛⬛⬜⬜⬜⬜⬜⬜⬛⬜⬜⬜⬜⬜⬜⬜⬜⬜⬜⬜⬜⬜⬜⬜⬜\n",
         "⬜⬛⬜⬜⬜⬜⬜⬛⬜⬜⬜⬜⬜⬜⬜⬜⬜⬜⬜⬜⬜⬛⬜⬜⬜⬜⬜⬜⬜⬜⬜⬜⬜⬜⬜⬜⬜⬜⬛⬜⬛⬜⬜⬛⬛⬜⬜⬜⬜⬜⬜⬜⬜⬜⬜\n",
         "⬜⬜⬜⬜⬜⬜⬜⬜⬜⬜⬜⬜⬜⬜⬜⬜⬜⬜⬜⬜⬜⬛⬜⬜⬜⬜⬜⬜⬜⬜⬜⬜⬜⬜⬜⬜⬜⬛⬜⬜⬜⬜⬛⬜⬜⬜⬛⬛⬜⬜⬜⬜⬜⬜⬜\n",
         "⬜⬜⬜⬛⬛⬛⬜⬜⬜⬜⬜⬜⬜⬜⬜⬜⬜⬜⬜⬜⬜⬛⬜⬜⬜⬜⬜⬜⬜⬜⬜⬜⬜⬜⬜⬜⬜⬜⬛⬜⬜⬜⬛⬜⬜⬜⬜⬜⬛⬜⬜⬜⬜⬜⬜\n",
         "⬜⬜⬜⬜⬜⬜⬜⬜⬜⬜⬛⬛⬜⬜⬛⬛⬜⬜⬜⬜⬜⬜⬜⬜⬜⬜⬜⬜⬜⬜⬜⬜⬜⬜⬜⬜⬜⬜⬜⬜⬛⬜⬛⬜⬜⬜⬛⬜⬛⬜⬜⬜⬜⬜⬜\n",
         "⬜⬜⬜⬜⬜⬜⬜⬜⬜⬜⬛⬛⬜⬜⬛⬛⬜⬜⬜⬜⬜⬜⬜⬜⬜⬜⬜⬜⬜⬜⬜⬜⬜⬜⬜⬜⬜⬜⬜⬜⬜⬜⬛⬜⬛⬜⬛⬛⬜⬜⬜⬜⬜⬜⬜\n",
         "⬜⬜⬜⬜⬜⬜⬜⬜⬜⬜⬜⬜⬜⬜⬜⬜⬜⬜⬛⬛⬛⬜⬜⬜⬜⬜⬜⬜⬜⬜⬜⬜⬜⬜⬜⬜⬜⬜⬜⬜⬜⬛⬛⬜⬜⬜⬜⬜⬜⬜⬜⬜⬜⬜⬜\n",
         "⬜⬜⬜⬜⬜⬜⬜⬜⬜⬜⬜⬜⬜⬜⬜⬜⬜⬜⬜⬜⬜⬜⬜⬜⬜⬜⬜⬜⬜⬜⬜⬜⬜⬜⬜⬜⬜⬜⬜⬜⬜⬜⬜⬜⬜⬜⬜⬜⬜⬜⬜⬜⬜⬜⬜\n",
         "⬜⬜⬜⬜⬜⬜⬜⬜⬜⬜⬜⬜⬜⬜⬜⬜⬜⬜⬜⬜⬜⬜⬜⬜⬛⬛⬜⬜⬜⬜⬜⬜⬜⬜⬜⬜⬜⬜⬜⬜⬜⬛⬛⬛⬛⬜⬛⬜⬜⬜⬜⬜⬜⬜⬜\n",
         "⬜⬜⬜⬜⬜⬜⬜⬜⬜⬜⬜⬜⬜⬜⬜⬜⬜⬜⬜⬜⬜⬜⬜⬜⬛⬛⬛⬜⬜⬜⬜⬜⬜⬜⬜⬜⬜⬜⬜⬜⬜⬛⬜⬜⬜⬜⬜⬛⬜⬜⬜⬜⬜⬜⬜\n",
         "⬜⬜⬜⬜⬜⬜⬜⬜⬜⬜⬜⬜⬜⬜⬜⬜⬜⬜⬜⬜⬜⬜⬜⬛⬛⬛⬛⬛⬜⬜⬜⬜⬜⬜⬜⬜⬜⬜⬜⬜⬛⬛⬛⬛⬜⬜⬜⬛⬜⬜⬜⬜⬜⬜⬜\n",
         "⬜⬜⬜⬜⬜⬜⬜⬜⬜⬜⬜⬜⬜⬜⬜⬜⬜⬜⬜⬜⬜⬜⬜⬜⬜⬜⬛⬜⬛⬜⬜⬜⬜⬜⬜⬜⬜⬜⬜⬜⬛⬛⬜⬜⬜⬜⬜⬛⬜⬜⬜⬜⬜⬜⬜\n",
         "⬜⬜⬜⬜⬜⬜⬜⬜⬜⬜⬜⬜⬜⬜⬜⬜⬜⬜⬜⬜⬜⬜⬜⬜⬜⬜⬜⬛⬜⬜⬜⬜⬜⬜⬜⬜⬜⬜⬜⬜⬜⬛⬛⬛⬛⬜⬛⬛⬜⬜⬜⬜⬜⬜⬜\n",
         "⬜⬜⬜⬜⬜⬜⬜⬜⬜⬜⬜⬜⬜⬜⬜⬜⬜⬜⬜⬜⬜⬜⬜⬜⬜⬜⬛⬜⬜⬜⬜⬜⬜⬜⬜⬜⬜⬜⬜⬜⬜⬜⬜⬜⬜⬜⬜⬜⬜⬜⬜⬜⬜⬜⬜\n",
         "⬜⬜⬜⬜⬜⬜⬜⬜⬜⬜⬜⬜⬜⬜⬜⬜⬜⬜⬜⬜⬜⬜⬜⬜⬛⬜⬜⬜⬜⬜⬜⬜⬜⬜⬜⬜⬜⬜⬜⬜⬜⬜⬜⬜⬜⬜⬜⬜⬜⬜⬜⬜⬜⬜⬜\n",
         "⬜⬜⬜⬜⬜⬜⬜⬜⬜⬜⬜⬜⬜⬜⬜⬜⬜⬜⬜⬜⬜⬜⬜⬜⬛⬜⬜⬜⬜⬜⬛⬛⬜⬜⬜⬛⬛⬜⬜⬜⬜⬜⬜⬜⬜⬜⬜⬜⬜⬜⬜⬜⬜⬜⬜\n",
         "⬜⬜⬜⬜⬜⬜⬜⬜⬜⬜⬜⬜⬜⬜⬜⬜⬜⬜⬜⬜⬜⬜⬜⬜⬜⬜⬜⬜⬜⬜⬛⬛⬜⬜⬛⬜⬜⬛⬜⬜⬜⬜⬜⬜⬜⬜⬛⬛⬜⬜⬜⬜⬜⬜⬜\n",
         "⬜⬜⬜⬜⬜⬜⬜⬜⬜⬜⬜⬜⬜⬜⬜⬜⬜⬜⬜⬜⬜⬜⬜⬜⬜⬛⬛⬛⬜⬜⬜⬜⬜⬜⬜⬛⬛⬜⬜⬜⬜⬜⬜⬜⬜⬜⬛⬛⬜⬜⬜⬜⬜⬜⬜\n",
         "⬜⬜⬜⬜⬜⬜⬜⬜⬜⬜⬜⬜⬜⬜⬜⬜⬜⬜⬜⬜⬜⬜⬜⬜⬜⬜⬜⬜⬜⬜⬜⬜⬜⬜⬜⬜⬜⬜⬜⬜⬜⬜⬜⬜⬜⬜⬜⬜⬜⬜⬜⬜⬜⬜⬜\n",
         "⬜⬜⬜⬜⬜⬜⬜⬜⬜⬜⬜⬜⬜⬜⬜⬜⬜⬜⬜⬜⬜⬜⬜⬛⬜⬜⬜⬜⬜⬛⬜⬜⬜⬜⬜⬜⬜⬜⬜⬜⬛⬜⬜⬜⬜⬜⬜⬜⬜⬜⬜⬜⬜⬜⬜\n",
         "⬜⬜⬜⬜⬜⬜⬜⬜⬜⬜⬜⬜⬜⬜⬜⬜⬜⬜⬜⬜⬜⬜⬜⬛⬜⬜⬜⬜⬜⬛⬜⬜⬜⬜⬜⬜⬜⬜⬜⬛⬜⬛⬜⬜⬜⬜⬜⬜⬜⬜⬜⬜⬜⬜⬜\n",
         "⬜⬜⬜⬜⬜⬜⬜⬜⬜⬜⬜⬜⬜⬜⬜⬜⬜⬜⬜⬜⬜⬜⬜⬛⬜⬜⬜⬜⬜⬛⬜⬜⬜⬜⬜⬜⬜⬜⬜⬛⬜⬛⬜⬜⬜⬜⬜⬜⬜⬜⬜⬜⬜⬜⬜\n",
         "⬜⬜⬜⬜⬜⬜⬜⬜⬜⬜⬜⬜⬜⬜⬜⬜⬜⬜⬜⬜⬜⬜⬜⬜⬜⬜⬜⬜⬜⬜⬜⬜⬜⬜⬜⬜⬜⬜⬜⬜⬛⬜⬜⬜⬜⬜⬜⬜⬜⬜⬜⬜⬜⬜⬜\n",
         "⬜⬜⬜⬜⬜⬜⬜⬜⬜⬜⬜⬜⬜⬜⬜⬜⬜⬜⬜⬜⬜⬜⬜⬜⬜⬛⬛⬛⬜⬜⬜⬜⬜⬜⬜⬜⬜⬜⬜⬜⬜⬜⬜⬜⬜⬜⬜⬜⬜⬜⬜⬜⬜⬜⬜\n"
        ]
       }
      ]
     }
    },
    "dbffa5960d3f42e8848b6074b8cc51f1": {
     "model_module": "@jupyter-widgets/base",
     "model_module_version": "1.2.0",
     "model_name": "LayoutModel",
     "state": {
      "_model_module": "@jupyter-widgets/base",
      "_model_module_version": "1.2.0",
      "_model_name": "LayoutModel",
      "_view_count": null,
      "_view_module": "@jupyter-widgets/base",
      "_view_module_version": "1.2.0",
      "_view_name": "LayoutView",
      "align_content": null,
      "align_items": null,
      "align_self": null,
      "border": null,
      "bottom": null,
      "display": null,
      "flex": null,
      "flex_flow": null,
      "grid_area": null,
      "grid_auto_columns": null,
      "grid_auto_flow": null,
      "grid_auto_rows": null,
      "grid_column": null,
      "grid_gap": null,
      "grid_row": null,
      "grid_template_areas": null,
      "grid_template_columns": null,
      "grid_template_rows": null,
      "height": null,
      "justify_content": null,
      "justify_items": null,
      "left": null,
      "margin": null,
      "max_height": null,
      "max_width": null,
      "min_height": null,
      "min_width": null,
      "object_fit": null,
      "object_position": null,
      "order": null,
      "overflow": null,
      "overflow_x": null,
      "overflow_y": null,
      "padding": null,
      "right": null,
      "top": null,
      "visibility": null,
      "width": null
     }
    },
    "fa8bbfa109434cbe8a048be41d6b9a63": {
     "model_module": "@jupyter-widgets/output",
     "model_module_version": "1.0.0",
     "model_name": "OutputModel",
     "state": {
      "_dom_classes": [],
      "_model_module": "@jupyter-widgets/output",
      "_model_module_version": "1.0.0",
      "_model_name": "OutputModel",
      "_view_count": null,
      "_view_module": "@jupyter-widgets/output",
      "_view_module_version": "1.0.0",
      "_view_name": "OutputView",
      "layout": "IPY_MODEL_dbffa5960d3f42e8848b6074b8cc51f1",
      "msg_id": "",
      "outputs": [
       {
        "name": "stdout",
        "output_type": "stream",
        "text": [
         "After 99 steps:\n",
         "⬜⬜⬜⬜⬜⬜⬜⬜⬜⬜⬜⬜⬜⬜⬜⬜⬜⬜⬜⬜⬜⬜⬜⬜⬜⬜⬛⬜⬜⬜⬜⬜⬜⬜⬜⬜⬜⬜⬜⬜⬜\n",
         "⬜⬜⬜⬜⬜⬜⬜⬜⬜⬜⬜⬜⬜⬜⬜⬜⬜⬜⬜⬜⬜⬜⬜⬜⬜⬜⬛⬛⬜⬜⬜⬜⬜⬜⬜⬜⬜⬜⬜⬜⬜\n",
         "⬜⬜⬜⬜⬜⬜⬜⬜⬜⬜⬜⬜⬜⬜⬜⬜⬜⬜⬜⬜⬜⬜⬜⬜⬜⬛⬜⬛⬜⬜⬜⬜⬜⬜⬜⬜⬜⬜⬜⬜⬜\n",
         "⬜⬜⬜⬜⬜⬜⬜⬜⬜⬜⬜⬜⬜⬜⬜⬜⬜⬜⬜⬜⬜⬜⬛⬛⬜⬜⬜⬜⬜⬜⬜⬜⬜⬜⬜⬜⬜⬜⬜⬜⬜\n",
         "⬜⬜⬜⬜⬜⬜⬜⬜⬜⬜⬜⬜⬜⬜⬜⬜⬜⬜⬜⬜⬜⬜⬛⬛⬜⬜⬛⬛⬜⬜⬜⬜⬜⬜⬜⬜⬜⬜⬜⬜⬜\n",
         "⬜⬜⬜⬜⬜⬜⬜⬜⬜⬜⬜⬜⬜⬜⬜⬜⬜⬜⬜⬜⬜⬜⬜⬜⬜⬛⬛⬛⬜⬜⬜⬜⬜⬜⬜⬜⬜⬜⬜⬜⬜\n",
         "⬜⬜⬜⬜⬜⬜⬜⬜⬜⬜⬜⬜⬜⬜⬜⬜⬜⬜⬜⬜⬜⬜⬜⬜⬜⬛⬜⬜⬜⬜⬜⬜⬜⬜⬜⬜⬜⬜⬜⬜⬜\n",
         "⬜⬜⬜⬜⬜⬜⬜⬜⬜⬜⬜⬜⬜⬜⬜⬜⬜⬜⬜⬜⬜⬜⬜⬜⬜⬛⬛⬜⬜⬜⬜⬜⬜⬜⬜⬜⬜⬜⬜⬜⬜\n",
         "⬜⬜⬜⬜⬜⬜⬜⬜⬜⬜⬜⬜⬜⬜⬜⬜⬜⬜⬜⬜⬜⬜⬜⬜⬜⬜⬜⬜⬜⬜⬜⬜⬜⬜⬜⬜⬜⬜⬜⬜⬜\n",
         "⬜⬜⬜⬜⬜⬜⬜⬜⬜⬜⬜⬜⬜⬜⬜⬜⬜⬜⬜⬜⬜⬜⬜⬜⬜⬜⬜⬜⬜⬜⬜⬜⬜⬜⬜⬜⬜⬜⬜⬜⬜\n",
         "⬜⬜⬜⬜⬜⬜⬜⬜⬜⬜⬜⬜⬜⬜⬜⬜⬜⬜⬜⬜⬜⬛⬜⬜⬜⬛⬜⬜⬜⬜⬜⬜⬜⬜⬜⬜⬜⬜⬜⬜⬜\n",
         "⬜⬜⬜⬜⬜⬜⬜⬜⬜⬜⬜⬜⬜⬜⬜⬜⬜⬜⬜⬜⬛⬛⬛⬛⬛⬜⬜⬜⬜⬜⬜⬜⬜⬜⬜⬜⬜⬜⬜⬜⬜\n",
         "⬜⬜⬜⬜⬜⬜⬜⬜⬜⬜⬜⬜⬜⬜⬜⬜⬜⬜⬜⬛⬛⬜⬜⬛⬜⬜⬜⬜⬜⬜⬜⬜⬜⬜⬜⬜⬜⬜⬜⬜⬜\n",
         "⬜⬜⬜⬜⬜⬜⬜⬜⬜⬜⬜⬜⬜⬜⬜⬜⬜⬜⬜⬛⬛⬜⬜⬜⬜⬜⬜⬜⬜⬜⬜⬜⬜⬜⬜⬛⬛⬜⬛⬛⬜\n",
         "⬜⬜⬜⬜⬜⬜⬜⬜⬜⬜⬜⬜⬜⬜⬜⬜⬜⬜⬜⬜⬜⬜⬜⬜⬜⬜⬜⬜⬜⬜⬜⬜⬜⬛⬜⬛⬛⬜⬜⬛⬛\n",
         "⬜⬜⬜⬜⬜⬜⬜⬜⬜⬜⬜⬜⬜⬜⬜⬛⬛⬛⬜⬜⬜⬛⬜⬜⬜⬜⬜⬜⬜⬜⬛⬜⬜⬛⬛⬛⬜⬜⬛⬜⬜\n",
         "⬜⬜⬜⬜⬜⬜⬜⬜⬜⬜⬜⬜⬜⬜⬜⬛⬛⬛⬛⬜⬜⬛⬛⬜⬜⬜⬜⬜⬜⬛⬜⬜⬜⬜⬜⬜⬜⬜⬜⬜⬜\n",
         "⬜⬜⬜⬜⬜⬜⬜⬜⬜⬜⬜⬜⬜⬜⬜⬜⬜⬜⬛⬜⬜⬛⬛⬜⬜⬜⬜⬜⬛⬛⬜⬜⬜⬜⬜⬜⬛⬛⬜⬜⬜\n",
         "⬜⬜⬜⬜⬜⬜⬜⬜⬜⬜⬜⬜⬜⬜⬜⬜⬜⬜⬜⬜⬜⬜⬜⬛⬛⬜⬜⬜⬜⬛⬜⬜⬜⬜⬜⬜⬛⬛⬜⬜⬜\n",
         "⬜⬜⬜⬜⬜⬜⬜⬜⬜⬜⬜⬜⬜⬜⬜⬜⬜⬜⬜⬜⬛⬛⬜⬛⬛⬛⬜⬜⬜⬛⬛⬜⬜⬜⬜⬜⬜⬜⬜⬜⬜\n",
         "⬜⬜⬜⬜⬜⬜⬜⬜⬜⬜⬜⬜⬜⬜⬜⬜⬛⬜⬜⬜⬛⬛⬜⬜⬜⬜⬜⬛⬛⬛⬜⬜⬜⬜⬜⬜⬜⬜⬜⬜⬜\n",
         "⬜⬜⬜⬜⬜⬜⬜⬜⬜⬜⬜⬜⬜⬜⬛⬛⬛⬜⬜⬜⬜⬜⬜⬜⬜⬜⬜⬛⬛⬜⬜⬜⬜⬜⬜⬜⬜⬜⬜⬜⬜\n",
         "⬜⬜⬜⬜⬜⬜⬜⬜⬜⬜⬜⬜⬜⬜⬛⬛⬛⬜⬜⬜⬜⬜⬜⬛⬛⬜⬜⬜⬜⬜⬜⬜⬜⬜⬜⬜⬜⬜⬜⬜⬜\n",
         "⬜⬜⬜⬜⬜⬜⬜⬜⬜⬜⬜⬜⬜⬜⬜⬜⬜⬜⬜⬜⬜⬜⬜⬜⬛⬛⬜⬜⬜⬜⬜⬜⬜⬜⬜⬜⬜⬜⬜⬜⬜\n",
         "⬜⬜⬜⬜⬜⬜⬜⬜⬜⬜⬜⬜⬜⬜⬜⬜⬜⬜⬛⬛⬛⬜⬜⬜⬛⬛⬜⬜⬜⬜⬜⬜⬜⬜⬜⬜⬜⬜⬜⬜⬜\n",
         "⬜⬜⬜⬜⬜⬜⬜⬜⬜⬜⬜⬜⬜⬜⬜⬜⬜⬜⬛⬛⬜⬜⬜⬜⬛⬛⬜⬜⬜⬜⬜⬜⬜⬜⬜⬜⬜⬜⬜⬜⬜\n",
         "⬜⬜⬜⬜⬜⬜⬜⬜⬜⬜⬜⬜⬜⬜⬜⬜⬜⬜⬛⬛⬜⬜⬜⬜⬜⬜⬜⬜⬜⬜⬜⬜⬜⬜⬜⬜⬜⬜⬜⬜⬜\n",
         "⬜⬜⬜⬜⬜⬜⬜⬜⬜⬜⬜⬜⬜⬜⬜⬜⬜⬜⬜⬜⬜⬜⬜⬜⬜⬜⬜⬜⬜⬜⬜⬜⬜⬜⬜⬜⬜⬜⬜⬜⬜\n",
         "⬜⬜⬜⬜⬜⬜⬜⬜⬜⬜⬜⬜⬜⬜⬜⬜⬜⬜⬜⬜⬜⬜⬜⬜⬜⬜⬜⬜⬜⬜⬜⬜⬜⬜⬜⬜⬜⬜⬜⬜⬜\n",
         "⬜⬜⬜⬜⬜⬜⬜⬜⬜⬜⬜⬜⬜⬜⬜⬜⬜⬜⬜⬜⬜⬜⬜⬜⬜⬜⬜⬜⬜⬜⬜⬜⬜⬜⬜⬜⬜⬜⬜⬜⬜\n",
         "⬜⬜⬜⬜⬜⬜⬜⬜⬜⬜⬜⬜⬜⬜⬜⬜⬜⬜⬜⬜⬜⬜⬜⬜⬜⬜⬜⬜⬜⬜⬜⬜⬜⬜⬜⬜⬜⬜⬜⬜⬜\n",
         "⬜⬜⬜⬜⬜⬜⬜⬜⬜⬜⬜⬜⬜⬜⬜⬜⬜⬜⬜⬜⬜⬜⬜⬜⬜⬜⬜⬜⬜⬜⬜⬜⬜⬜⬜⬜⬜⬜⬜⬜⬜\n",
         "⬜⬜⬜⬜⬜⬜⬜⬜⬜⬜⬜⬜⬜⬜⬜⬜⬜⬜⬜⬜⬜⬜⬜⬜⬜⬜⬜⬜⬜⬜⬜⬜⬜⬜⬜⬜⬜⬜⬜⬜⬜\n",
         "⬜⬜⬜⬜⬜⬜⬜⬜⬜⬜⬜⬜⬜⬜⬜⬜⬜⬜⬜⬜⬜⬜⬜⬜⬜⬜⬜⬜⬜⬜⬜⬜⬜⬜⬜⬜⬜⬜⬜⬜⬜\n",
         "⬜⬜⬜⬜⬜⬜⬜⬜⬜⬜⬜⬜⬜⬜⬜⬜⬜⬜⬜⬜⬜⬜⬜⬜⬜⬜⬜⬜⬜⬜⬜⬜⬜⬜⬜⬜⬜⬜⬜⬜⬜\n",
         "⬜⬜⬜⬜⬜⬜⬜⬜⬜⬜⬜⬜⬜⬜⬜⬜⬜⬜⬜⬜⬜⬜⬜⬜⬜⬜⬜⬜⬜⬜⬜⬜⬜⬜⬜⬜⬜⬜⬜⬜⬜\n",
         "⬜⬜⬜⬜⬜⬜⬜⬜⬜⬜⬜⬜⬜⬜⬜⬜⬜⬜⬜⬜⬜⬜⬜⬜⬜⬜⬜⬜⬜⬜⬜⬜⬜⬜⬜⬜⬜⬜⬜⬜⬜\n",
         "⬜⬜⬜⬜⬜⬜⬜⬜⬜⬜⬜⬜⬜⬜⬜⬜⬜⬜⬜⬜⬜⬜⬜⬜⬜⬜⬜⬜⬜⬜⬜⬜⬜⬜⬜⬜⬜⬜⬜⬜⬜\n",
         "⬜⬜⬜⬜⬜⬜⬜⬜⬜⬜⬜⬜⬜⬜⬜⬜⬜⬜⬜⬜⬜⬜⬜⬜⬜⬜⬜⬜⬜⬜⬜⬜⬜⬜⬜⬜⬜⬜⬜⬜⬜\n",
         "⬜⬜⬜⬜⬜⬜⬜⬜⬜⬜⬜⬜⬜⬜⬜⬜⬜⬜⬜⬜⬜⬜⬜⬜⬜⬜⬜⬜⬜⬜⬜⬜⬜⬜⬜⬜⬜⬜⬜⬜⬜\n",
         "⬜⬜⬜⬜⬜⬜⬜⬜⬜⬜⬜⬜⬜⬜⬜⬜⬜⬜⬜⬜⬜⬜⬜⬜⬜⬜⬜⬜⬜⬜⬜⬜⬜⬜⬜⬜⬜⬜⬜⬜⬜\n"
        ]
       }
      ]
     }
    }
   }
  }
 },
 "nbformat": 4,
 "nbformat_minor": 0
}
