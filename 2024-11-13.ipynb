{
 "cells": [
  {
   "cell_type": "markdown",
   "metadata": {},
   "source": [
    "# Házi feladat"
   ]
  },
  {
   "cell_type": "markdown",
   "metadata": {},
   "source": [
    "Az $S=S(X)=(S_k)_{k=0}^n$ sorozatot rekurzióval definiáljuk az\n",
    "$(X_k)_{k=1}^n$ előjel sorozatból az\n",
    "$$\n",
    "  S_0=0,\\quad S_k=S_{k-1}+X_k, \\quad 0 < k \\leq n\n",
    "$$\n",
    "formulával.\n",
    "\n",
    "$S_k$-ra úgy gondolunk, mint egy bolyongó részecske helyzetére a $k$.\n",
    "lépés után, ha az $X$ előjel sorozat adja meg a lépéseket.\n",
    "\n",
    "Legyen $T(X)$ az $X$ előjel sorozat következő permutációja: először\n",
    "azokat az $X_k$ lépéseket soroljuk fel melyekre $S_k > 0$ fordított\n",
    "sorrendben, majd ezek után írjuk azokat az $X_k$ lépéseket, ahol \n",
    "$S_k\\leq 0$ megőrizve az eredeti sorrendjüket.\n",
    "\n",
    "\n",
    "- Írjunk egy függvényt, ami adott előjel sorozatra kiszámolja a képét a $T$ leképezésnél.\n",
    "\n",
    "- Az első néhány $n$-re ($n=1,\\dots,16$) ellenőrizzük le, hogy\n",
    "  $T:\\left\\{{-1,1}\\right\\}^n\\to\\left\\{{-1,1}\\right\\}^n$ bijekció.\n",
    "\n",
    "- Az előző pont alapján azt sejthetjük, hogy $T$ tetszőleges $n$\n",
    "  esetén a $\\left\\{{-1,1}\\right\\}^n$ halmaz permutációja. Írjuk meg a $T$\n",
    "  inverzét kiszámító függvényt.\n",
    "- Készítsünk egy ábrát a következő módon. Legyen $n$ nem túl\n",
    "  kicsi, mondjuk 100 és 10000 közti. Sorsoljunk ki egy $n$ hosszú $X$\n",
    "  előjel sorozatot. Ábrázoljuk az $S(X)$ bolyongást.\n",
    "\n",
    "  Ezután készítsük el a $T(X)$-hez tartozó bolyongás ábráját.\n",
    "\n",
    "- Az első néhány $n$-re ($n=1,\\dots,16$) ellenőrizzük le, hogy\n",
    "  $$\n",
    "    \\text{maxhely}(S(T(X))) = \\text{pozitívidő}(S(X))\n",
    "  $$\n",
    "  ahol\n",
    "  $$\n",
    "    \\text{maxhely}(s) = \\min\\left\\{{k}\\,:\\,{s_k =\\max s_j}\\right\\} \n",
    "    \\quad\\text{és}\\quad\n",
    "    \\text{pozitívidő}(s) = \\sum_k \\mathbb{1}_{s_k>0}\n",
    "  $$  \n",
    "\n",
    "Extra 3 pontot ér annak a formális bizonyítása, hogy\n",
    "$$\n",
    "\\text{maxhely}(S(T(X))) = \\text{pozitívidő}(S(X))\n",
    "$$\n",
    "\n"
   ]
  },
  {
   "cell_type": "code",
   "execution_count": null,
   "metadata": {},
   "outputs": [],
   "source": [
    "from collections import deque\n",
    "\n",
    "\n",
    "def T(x):\n",
    "    result = deque(maxlen=len(x))\n",
    "    s = 0\n",
    "    for step in x:\n",
    "        s += step\n",
    "        if s > 0:\n",
    "            result.appendleft(step)\n",
    "        else:\n",
    "            result.append(step)\n",
    "    return [*result]\n"
   ]
  },
  {
   "cell_type": "code",
   "execution_count": null,
   "metadata": {},
   "outputs": [],
   "source": [
    "import matplotlib.pyplot as plt\n",
    "from itertools import accumulate\n",
    "import numpy as np"
   ]
  },
  {
   "cell_type": "code",
   "execution_count": null,
   "metadata": {},
   "outputs": [],
   "source": [
    "steps = [1, 1, -1, -1, 1]\n",
    "\n",
    "walk = np.array([*accumulate(steps, initial=0)])\n",
    "\n",
    "plt.plot(walk, label=\"S\")\n",
    "plt.grid()"
   ]
  },
  {
   "cell_type": "code",
   "execution_count": null,
   "metadata": {},
   "outputs": [],
   "source": [
    "print(f\"{steps=}, {T(steps)=}\")"
   ]
  },
  {
   "cell_type": "code",
   "execution_count": null,
   "metadata": {},
   "outputs": [],
   "source": [
    "for n in range(1, 17):\n",
    "    range_t = set()\n",
    "    for num in range(1 << n):\n",
    "        steps = [1 if num & (1 << i) else -1 for i in range(n)]\n",
    "        range_t.add(tuple(T(steps)))\n",
    "    assert len(range_t) == 1 << n"
   ]
  },
  {
   "cell_type": "code",
   "execution_count": null,
   "metadata": {},
   "outputs": [],
   "source": [
    "\n",
    "def Tinv(x):\n",
    "    s = sum(x)\n",
    "    x = deque(x)\n",
    "    result = []\n",
    "    while x:\n",
    "        step = x.popleft() if s > 0 else x.pop()\n",
    "        s -= step\n",
    "        result.append(step)\n",
    "    result.reverse()\n",
    "    return result\n"
   ]
  },
  {
   "cell_type": "code",
   "execution_count": null,
   "metadata": {},
   "outputs": [],
   "source": [
    "Tinv(T(steps)) == steps"
   ]
  },
  {
   "cell_type": "code",
   "execution_count": null,
   "metadata": {},
   "outputs": [],
   "source": [
    "for n in range(1, 16):\n",
    "    for num in range(1<<n):\n",
    "        steps = [2*((num >> i) & 1)-1 for i in range(n)]\n",
    "        assert Tinv(T(steps)) == steps\n"
   ]
  },
  {
   "cell_type": "code",
   "execution_count": null,
   "metadata": {},
   "outputs": [],
   "source": [
    "def walk(steps):\n",
    "    return np.array([*accumulate(steps, initial=0)])\n",
    "\n",
    "def arg_max(steps):\n",
    "    w = walk(steps)\n",
    "    return (w==w.max()).nonzero()[0].min()\n",
    "\n",
    "def pos_time(steps):\n",
    "    w = walk(steps)\n",
    "    return (w > 0).sum()\n",
    "    \n"
   ]
  },
  {
   "cell_type": "code",
   "execution_count": null,
   "metadata": {},
   "outputs": [],
   "source": [
    "steps = np.where(np.random.binomial(1, 0.5, 1000), 1, -1)\n",
    "plt.plot(walk(steps), label=\"S\", alpha=0.5)\n",
    "plt.plot(walk(T(steps)), label=\"T(S)\", alpha=0.5)\n",
    "plt.legend()\n",
    "plt.grid()"
   ]
  },
  {
   "cell_type": "code",
   "execution_count": null,
   "metadata": {},
   "outputs": [],
   "source": [
    "steps = [1, 1, -1, -1, 1]\n",
    "plt.plot(walk(steps), \"bo-\")\n",
    "print(f\"{arg_max(steps)=}, {pos_time(steps)=}\")"
   ]
  },
  {
   "cell_type": "code",
   "execution_count": null,
   "metadata": {},
   "outputs": [],
   "source": [
    "for n in range(1, 16):\n",
    "    for num in range(1<<n):\n",
    "        steps = [2*((num >> i) & 1)-1 for i in range(n)]\n",
    "        assert arg_max(T(steps)) == pos_time(steps)\n"
   ]
  },
  {
   "cell_type": "markdown",
   "metadata": {},
   "source": [
    "**Bizonyítás.**\n",
    "\n",
    "Ötlet: bolyongás (lépések) felbontása _kirándulásokra_.\n",
    "$$\n",
    "\\sigma_0 = 0, \\quad \n",
    "\\sigma_{2k+1} = \\inf\\{n\\geq \n",
    "\\sigma_{2k}\\colon S_n = 1\\}, \\quad \n",
    "\\sigma_{2k} = \\inf\\{n\\geq \n",
    "\\sigma_{2k-1}\\colon S_n = 0\\}\n",
    "$$\n",
    "\n",
    "Egy kirándulás a pozitív oldalon a $\\sigma_{2k+1}$. lépéssel kezdődik és a $\\sigma_{2k+2}$. lépésig tart, az utolsó lépés már nem tartozik hozzá. \n",
    "\n",
    "Egy kirándulás a negatív oldalon  a $\\sigma_{2k}$. lépéssel kezdődik és a $\\sigma_{2k+1}$. lépésig tart, az utolsó lépés már nem tartozik hozzá. \n",
    "\n",
    "A pozitív oldalon töltött idő $n$ lépés alatt:\n",
    "$$\n",
    "    \\sum_{k=1}^\\infty (\\sigma_{2k}\\wedge n)-(\\sigma_{2k-1}\\wedge n)\n",
    "$$\n",
    "\n",
    "Ha az $(X_k)_{\\sigma_{2k-1}\\leq k < \\sigma_{2k}}$ lépéseket fordítva soroljuk fel, akkor egy olyan lépéssorozatot **fordítunk meg**, ami a nulla szintről az egy szintre jut és közben végig az a nulla szint felett halad. \n",
    "\n",
    "A lépések fordított felsorolása a középpontos tükrözésnek felel meg, ezért a mikor fordított sorrendben soroljuk fel az egy pozitív kiránduláshoz tartozó lépéseket, akkor olyan bolyngást kapunk, ami egységnyit emelkedik és végig az utolsó érték alatt marad. Ez mutatja, hogy a $T(X)$ sorozatból számolt bolyongás a $\\text{pozitív idő}(S(X))$ időpontban nagyobb mint ezek előtt.\n",
    "\n",
    "A negatív kirándulásokra hasonló érvelés mutatja, hogy ha egy negatív kirándulás egy pozitív kirándulás után jön akkor az első lépése lefelé visz, utána végig a nulla szint alatt marad. Ha pedig a nulla időpontban kezdődik, akkor nullából indul és esetleg többször is visszatérhet a 0-ba, de efelé már nem mehet, mert az a lépés már a következő pozitív kiránduláshoz van sorolva. Így, amikor $\\text{pozitív idő}(S(X))$ időpont után a negatív kirándulásokat kezdjük el felhasználni, még néhányszor visszatérhet a bolyongás a $\\text{pozitív idő}(S(X))$ időpontban felvett értékhez, de afölé már nem mehet."
   ]
  },
  {
   "cell_type": "code",
   "execution_count": null,
   "metadata": {},
   "outputs": [],
   "source": [
    "def excursions(steps):\n",
    "    w = walk(steps)\n",
    "    sigma = 0\n",
    "    next_goal = 1 if steps[0] == -1 else 0\n",
    "    pos_excursions = []\n",
    "    neg_excursions = []\n",
    "    excursion = []\n",
    "    while sigma < len(steps):\n",
    "        if w[sigma+1] == next_goal:\n",
    "            if next_goal == 1:\n",
    "                neg_excursions.append(excursion)\n",
    "            else:\n",
    "                pos_excursions.append(excursion)\n",
    "            next_goal = 1-next_goal\n",
    "            excursion = []\n",
    "        excursion.append(steps[sigma])        \n",
    "        sigma += 1\n",
    "    if next_goal == 1:\n",
    "       neg_excursions.append(excursion)\n",
    "    else:\n",
    "        pos_excursions.append(excursion)\n",
    "    return pos_excursions, neg_excursions"
   ]
  },
  {
   "cell_type": "code",
   "execution_count": null,
   "metadata": {},
   "outputs": [],
   "source": [
    "steps = [1, 1, -1, -1, -1, 1, 1, 1]\n",
    "print(f\"{walk(steps)=}, {excursions(steps)=}\")"
   ]
  },
  {
   "cell_type": "code",
   "execution_count": null,
   "metadata": {},
   "outputs": [],
   "source": [
    "steps = np.where(np.random.binomial(1, 0.5, 1000), 1, -1)\n",
    "pos_excursions, neg_excursions = excursions(steps)"
   ]
  },
  {
   "cell_type": "code",
   "execution_count": null,
   "metadata": {},
   "outputs": [],
   "source": [
    "if len(pos_excursions) > 0:\n",
    "    fig, (ax0, ax1) = plt.subplots(nrows=1, ncols=2, figsize=(8, 3))\n",
    "    ax0.plot(walk(pos_excursions[0]), \"r-\")\n",
    "    ax1.plot(walk(reversed(pos_excursions[0])), \"b-\")\n",
    "    ax0.grid(); ax1.grid()\n",
    "    plt.show()\n",
    "    fig, (ax0, ax1) = plt.subplots(nrows=1, ncols=2, figsize=(8, 3))\n",
    "    ax0.plot(walk(pos_excursions[-1]), \"r-\")\n",
    "    ax1.plot(walk(reversed(pos_excursions[-1])), \"b-\")\n",
    "    ax0.grid(); ax1.grid()\n",
    "    plt.show()\n",
    "    \n"
   ]
  },
  {
   "cell_type": "code",
   "execution_count": null,
   "metadata": {},
   "outputs": [],
   "source": [
    "if len(neg_excursions) > 0:\n",
    "    fig, ax = plt.subplots(nrows=1, ncols=1, figsize=(4, 3))\n",
    "    ax.plot(walk(neg_excursions[0]), \"r-\")\n",
    "    ax.grid()\n",
    "    plt.show()\n",
    "    fig, ax = plt.subplots(nrows=1, ncols=1, figsize=(4, 3))\n",
    "    ax.plot(walk(neg_excursions[-1]), \"r-\")\n",
    "    ax.grid()\n",
    "    plt.show()\n"
   ]
  },
  {
   "cell_type": "markdown",
   "metadata": {},
   "source": [
    "# Conway Game of Life"
   ]
  },
  {
   "cell_type": "markdown",
   "metadata": {},
   "source": [
    "[Wikipédia](https://en.wikipedia.org/wiki/Conway%27s_Game_of_Life)\n",
    "\n",
    "The Game of Life is a cellular automaton created by mathematician John Conway in 1970. The game consists of a board of cells that are either on or off. One creates an initial configuration of these on/off states and observes how it evolves. There are four simple rules to determine the next state of the game board, given the current state:\n",
    "\n",
    "- **Overpopulation**: if a living cell is surrounded by more than three living cells, it dies.\n",
    "- **Stasis**: if a living cell is surrounded by two or three living cells, it survives.\n",
    "- **Underpopulation**: if a living cell is surrounded by fewer than two living cells, it dies.\n",
    "- **Reproduction**: if a dead cell is surrounded by exactly three cells, it becomes a live cell.\n",
    "\n",
    "****\n",
    "\n",
    "Írjunk egy osztályt a játékhoz, pl. az `__init__` metódus hozza létre a megadott konfigurációnak megfelelő objektumot. Legyen egy `step` metódus, ami a rendszert a következő állapotába viszi és az `__str__` metódus pedig\n",
    "valahogy ábrázolja az aktuális állapotot.\n",
    "\n",
    "Tegyük fel, hogy a rács amin a rendszer él, egy $m\\times n$-es rács, ahol mindkét irányban ciklikusan körbemegyünk,\n",
    "azaz a csúcsokat modulo $m$ ill. modulo $n$ tekintjük.\n",
    "\n",
    "\n",
    "Alternatíva lehetne, hogy ha új elő sejt keletkezik az aktuális rács körül, akkor megnöveljük a rácsunkat az adott irányban.  "
   ]
  },
  {
   "cell_type": "code",
   "execution_count": null,
   "metadata": {},
   "outputs": [],
   "source": [
    "import numpy as np\n",
    "\n",
    "class ConwayGoL:\n",
    "\n",
    "    def __init__(self, state):\n",
    "        self.state = np.asarray(state)\n",
    "\n",
    "    def step(self):\n",
    "        return self\n",
    "\n",
    "    def __repr__(self):\n",
    "        return f\"{type(self).__name__}({self.state})\""
   ]
  },
  {
   "cell_type": "code",
   "execution_count": null,
   "metadata": {},
   "outputs": [],
   "source": [
    "\n",
    "\n",
    "init_state = [] ## ???\n",
    "conway = ConwayGoL(init_state)\n",
    "\n",
    "conway.step()\n"
   ]
  },
  {
   "cell_type": "markdown",
   "metadata": {},
   "source": [
    "A játék állapotának leírásához egy $m\\times n$ rács minden pontjáról tudni kell, hogy foglalt-e vagy sem.\n",
    "\n",
    "```python\n",
    "m, n = 11, 11\n",
    "state = np.zeros((11, 11), dtype=np.uint8)\n",
    "```\n",
    "\n",
    "Véletlenszerű kezdeti állapot:\n",
    "```python\n",
    "state = np.random.binomial(1, p, size=(m, n))\n",
    "```"
   ]
  },
  {
   "cell_type": "code",
   "execution_count": null,
   "metadata": {},
   "outputs": [],
   "source": [
    "def random_state(n, m, p):\n",
    "    return np.random.binomial(1, p, (n, m)).astype(np.uint8)\n",
    "\n",
    "state = random_state(5, 6, 0.2)\n",
    "print(state)"
   ]
  },
  {
   "cell_type": "markdown",
   "metadata": {},
   "source": [
    "Szebb megjelenítés?"
   ]
  },
  {
   "cell_type": "code",
   "execution_count": null,
   "metadata": {},
   "outputs": [],
   "source": [
    "# def as_matrix(lst, n):\n",
    "#     return [lst[i:i+n] for i in range(0, len(lst), n)]\n",
    "\n",
    "print('\\n'.join(''.join(map(str, line)) for line in state))\n"
   ]
  },
  {
   "cell_type": "code",
   "execution_count": null,
   "metadata": {},
   "outputs": [],
   "source": [
    "for symbols in [\n",
    "    \"\\u2b1c\\u2b1b\",\n",
    "    \"·♥\",\n",
    "    \"🟡🟥\"\n",
    "    ]:\n",
    "    print('\\n'.join(''.join(symbols[x] for x in line) for line in state))\n"
   ]
  },
  {
   "cell_type": "code",
   "execution_count": null,
   "metadata": {},
   "outputs": [],
   "source": [
    "import matplotlib.pyplot as plt\n",
    "\n",
    "img = plt.matshow(\n",
    "    state, \n",
    "    cmap=\"Pastel1_r\", \n",
    "    vmax=1, vmin=0, alpha=0.8)\n",
    "img.axes.axis(\"off\")\n",
    "n, m = len(state), len(state[0])\n",
    "for pos in range(0, n+1):\n",
    "    img.axes.axhline(y=pos-0.5, color=\"gray\")\n",
    "for pos in range(0, m+1):\n",
    "    img.axes.axvline(x=pos-0.5, color=\"gray\")\n",
    "\n",
    "plt.show()\n"
   ]
  },
  {
   "cell_type": "code",
   "execution_count": null,
   "metadata": {},
   "outputs": [],
   "source": [
    "\n",
    "def cgol_str(self):\n",
    "    symbols = \"\\u2b1c\\u2b1b\" # ⬜⬛\n",
    "    return '\\n'.join(''.join(symbols[x] for x in line) for line in self.state)\n",
    "\n",
    "ConwayGoL.__str__ = cgol_str\n",
    "\n"
   ]
  },
  {
   "cell_type": "code",
   "execution_count": null,
   "metadata": {},
   "outputs": [],
   "source": [
    "conway = ConwayGoL(state)\n",
    "print(conway)"
   ]
  },
  {
   "cell_type": "markdown",
   "metadata": {},
   "source": [
    "A `step` metódushoz ki kellene számolni egy adott csúcs foglalt szomszédainak számát `cnt`. Ha ez kész,\n",
    "akkor az $i$ csúcs új állapota:\n",
    "\n",
    "$$\n",
    "    \\text{state}_{t+1}[i]=\n",
    "    \\begin{cases}\n",
    "    1 &\\text{Ha $\\text{cnt}[i]\\in\\{2,3\\}$ és $\\text{state}_t[i]=1$}\\\\\n",
    "    1 &\\text{Ha $\\text{cnt}[i]\\in\\{3\\}$ és $\\text{state}_t[i]=0$}\\\\\n",
    "    0 &\\text{különben}\n",
    "    \\end{cases}\n",
    "$$"
   ]
  },
  {
   "cell_type": "code",
   "execution_count": null,
   "metadata": {},
   "outputs": [],
   "source": [
    "def newstate(state, count):\n",
    "    return (count==3) | (state & (count==2))\n",
    "    # return [int((c==3)|((c==2) & (s==1))) for s, c in  zip(state, count)]"
   ]
  },
  {
   "cell_type": "code",
   "execution_count": null,
   "metadata": {},
   "outputs": [],
   "source": [
    "import ipytest\n",
    "ipytest.autoconfig()"
   ]
  },
  {
   "cell_type": "code",
   "execution_count": null,
   "metadata": {},
   "outputs": [],
   "source": [
    "%%ipytest\n",
    "\n",
    "def test_newstate():\n",
    "    res = np.zeros(9, dtype=np.uint8)\n",
    "    res[2] = 1\n",
    "    res[3] = 1\n",
    "    assert (newstate(np.ones(9, dtype=np.uint8), np.arange(9, dtype=np.uint8)) == res).all()\n",
    "    res = np.zeros(9, dtype=np.uint8)\n",
    "    res[3] = 1\n",
    "    assert (newstate(np.zeros(9, dtype=np.uint8), np.arange(9,dtype=np.uint8)) == res).all()\n"
   ]
  },
  {
   "cell_type": "code",
   "execution_count": null,
   "metadata": {},
   "outputs": [],
   "source": [
    "def count_neighbors(state):\n",
    "    h, w = state.shape\n",
    "    count = np.zeros((h+2, w+2), dtype=state.dtype)\n",
    "    for dh, dw  in [(0,-1), (0, 1), (1,-1), (1,0), (1,1), (-1,-1), (-1,0), (-1,1)]:\n",
    "        count[1+dh:1+dh+h, 1+dw:1+dw+w] += state\n",
    "    return count \n",
    "\n",
    "def cgol_step(self):\n",
    "    counts = count_neighbors(self.state)\n",
    "    state = newstate(np.pad(self.state, 1), counts)\n",
    "    if state[0].max() == 0:\n",
    "        state = state[1:]\n",
    "    if state[-1].max() == 0:\n",
    "        state = state[:-1]\n",
    "    if state[:,0].max() == 0:\n",
    "        state = state[:,1:]\n",
    "    if state[:,-1].max() == 0:\n",
    "        state = state[:,:-1]\n",
    "    self.state = state\n",
    "    return self\n",
    "\n",
    "ConwayGoL.step = cgol_step"
   ]
  },
  {
   "cell_type": "code",
   "execution_count": null,
   "metadata": {},
   "outputs": [],
   "source": [
    "@classmethod\n",
    "def cgol_from_random_state(cls, n, m,  p):\n",
    "    return cls(random_state(n, m, p))\n",
    "\n",
    "ConwayGoL.from_random_state=cgol_from_random_state"
   ]
  },
  {
   "cell_type": "code",
   "execution_count": null,
   "metadata": {},
   "outputs": [],
   "source": [
    "conway = ConwayGoL.from_random_state(5, 10, 0.2)\n",
    "print(conway)\n",
    "print(*count_neighbors(conway.state), sep='\\n')"
   ]
  },
  {
   "cell_type": "code",
   "execution_count": null,
   "metadata": {},
   "outputs": [],
   "source": [
    "conway = ConwayGoL.from_random_state(5, 5, 0.25)\n",
    "print(conway)\n",
    "print(\"-\"*20)\n",
    "print(conway.step())"
   ]
  },
  {
   "cell_type": "markdown",
   "metadata": {},
   "source": [
    "Tudunk-e valami animációszerűt készíteni? Jupyter notebook-ban pl. a következő képpen lehet:"
   ]
  },
  {
   "cell_type": "code",
   "execution_count": null,
   "metadata": {},
   "outputs": [],
   "source": [
    "from ipywidgets import Output\n",
    "from time import sleep\n"
   ]
  },
  {
   "cell_type": "code",
   "execution_count": null,
   "metadata": {},
   "outputs": [],
   "source": [
    "\n",
    "out = Output()\n",
    "display(out)\n",
    "conway = ConwayGoL.from_random_state(n=21, m=51, p=0.2)\n",
    "\n",
    "for i in range(50):\n",
    "    out.clear_output(True)\n",
    "    with out:\n",
    "        print(f\"After {i} steps:\\n{conway}\")\n",
    "    sleep(0.15)\n",
    "    conway.step()\n"
   ]
  },
  {
   "cell_type": "markdown",
   "metadata": {},
   "source": [
    "## kis ellenőrzés"
   ]
  },
  {
   "cell_type": "code",
   "execution_count": null,
   "metadata": {},
   "outputs": [],
   "source": [
    "state = random_state(11, 21, 0.2)\n",
    "plt.matshow(np.pad(state, 1), cmap='Pastel1_r', vmax=1, vmin=0)\n",
    "plt.xticks(np.arange(state.shape[1]+2)-.5, minor=True)\n",
    "plt.xticks([])\n",
    "plt.yticks(np.arange(state.shape[0]+2)-.5, minor=True)\n",
    "plt.yticks([])\n",
    "plt.grid(which=\"minor\", color=\"gray\", linestyle='-', linewidth=1)\n",
    "plt.axis()\n",
    "\n",
    "for (i, j), cnt in np.ndenumerate(count_neighbors(state)):\n",
    "    plt.text(j, i, str(cnt), ha=\"center\", va=\"center\")\n"
   ]
  },
  {
   "cell_type": "code",
   "execution_count": null,
   "metadata": {},
   "outputs": [],
   "source": [
    "plt.matshow(np.pad(state, 1), cmap='Pastel1_r', vmax=1, vmin=0)\n",
    "plt.xticks(np.arange(state.shape[1]+2)-.5, minor=True)\n",
    "plt.xticks([])\n",
    "plt.yticks(np.arange(state.shape[0]+2)-.5, minor=True)\n",
    "plt.yticks([])\n",
    "plt.grid(which=\"minor\", color=\"gray\", linestyle='-', linewidth=1)\n",
    "plt.axis()\n",
    "\n",
    "for (i, j), cnt in np.ndenumerate(newstate(np.pad(state, 1), count_neighbors(state))):\n",
    "    plt.text(j, i, str(cnt), ha=\"center\", va=\"center\")\n"
   ]
  },
  {
   "cell_type": "code",
   "execution_count": null,
   "metadata": {},
   "outputs": [],
   "source": [
    "out = Output()\n",
    "display(out)\n",
    "state = random_state(n=51, m=21, p=0.2)\n",
    "\n",
    "for i in range(50):\n",
    "    out.clear_output(True)\n",
    "    with out:\n",
    "        print(f\"After {i} steps:\\n{str_state(state)}\")\n",
    "    sleep(0.15)\n",
    "    state = new_state(state)\n"
   ]
  },
  {
   "cell_type": "markdown",
   "metadata": {},
   "source": [
    "## Parancssoros script"
   ]
  },
  {
   "cell_type": "markdown",
   "metadata": {},
   "source": [
    "Ha parancssorból dolgozunk, akkor valami ilyesmit lehetne tenni"
   ]
  },
  {
   "cell_type": "code",
   "execution_count": null,
   "metadata": {},
   "outputs": [],
   "source": [
    "%%writefile conway.py\n",
    "\n",
    "import numpy as np\n",
    "\n",
    "def random_state(n, m, p):\n",
    "    return np.random.binomial(1, p, (n, m)).astype(np.uint8)\n",
    "\n",
    "\n",
    "def count_neighbors(state):\n",
    "    h, w = state.shape\n",
    "    count = np.zeros((h+2, w+2), dtype=state.dtype)\n",
    "    for dh, dw  in [(0,-1), (0, 1), (1,-1), (1,0), (1,1), (-1,-1), (-1,0), (-1,1)]:\n",
    "        count[1+dh:1+dh+h, 1+dw:1+dw+w] += state\n",
    "    return count     \n",
    "\n",
    "\n",
    "def newstate(state, count):\n",
    "    return ((count==3) | ((count==2) & (state==1))).astype(state.dtype)\n",
    "\n",
    "\n",
    "class ConwayGoL:\n",
    "    symbols = \"\\u2b1c\\u2b1b\"\n",
    "\n",
    "    def __init__(self, state):\n",
    "        self.state = np.asarray(state)\n",
    "\n",
    "    def step(self):\n",
    "        counts = count_neighbors(self.state)\n",
    "        state = newstate(np.pad(self.state, 1), counts)\n",
    "        if state[0].max() == 0:\n",
    "            state = state[1:]\n",
    "        if state[-1].max() == 0:\n",
    "            state = state[:-1]\n",
    "        if state[:,0].max() == 0:\n",
    "            state = state[:,1:]\n",
    "        if state[:,-1].max() == 0:\n",
    "            state = state[:,:-1]\n",
    "        self.state = state\n",
    "        return self\n",
    "\n",
    "    def __str__(self):\n",
    "        symbols = self.symbols\n",
    "        return '\\n'.join(''.join(symbols[x] for x in line) for line in self.state)\n",
    "\n",
    "    def __repr__(self):\n",
    "        return f\"{type(self).__name__}({self.state})\"\n",
    "\n",
    "    @classmethod\n",
    "    def from_random_state(cls, m, n, p):\n",
    "        return cls(random_state(m, n, p))\n",
    "\n",
    "    def is_empty(self):\n",
    "        return self.state.max()==0\n",
    "\n",
    "\n",
    "def clear_terminal(n):\n",
    "    print(f\"{chr(27)}[{n+1}A\", end=\"\")\n",
    "\n",
    "def main(m=11, n=25, p=0.2, nsteps=10, clear_screen=clear_terminal):\n",
    "    from time import sleep\n",
    "    conway = ConwayGoL.from_random_state(m, n, p)\n",
    "    for i in range(nsteps+1):\n",
    "        if i>0:\n",
    "            clear_screen(conway.state.shape[0])\n",
    "        print(f\"after {i} step:\")\n",
    "        print(conway)\n",
    "        sleep(0.2)\n",
    "        conway.step()\n",
    "        if conway.is_empty():\n",
    "            break\n",
    "\n",
    "if __name__ == \"__main__\":\n",
    "    main()\n"
   ]
  },
  {
   "cell_type": "markdown",
   "metadata": {},
   "source": [
    "Ha valamit már megírtunk és szeretnénk használni, `import`-tal elérhető. Pl."
   ]
  },
  {
   "cell_type": "markdown",
   "metadata": {},
   "source": [
    "### Tudunk-e paramétereket adni a python scriptnek?\n",
    "\n",
    "Amikor egy python scriptet futtatunk, a parancssor (amivel a futást indítottuk) a `sys` modul `argv` változójában érhető el."
   ]
  },
  {
   "cell_type": "code",
   "execution_count": null,
   "metadata": {},
   "outputs": [],
   "source": [
    "import sys\n",
    "sys.argv"
   ]
  },
  {
   "cell_type": "code",
   "execution_count": null,
   "metadata": {},
   "outputs": [],
   "source": [
    "! python -c 'import sys; print(sys.argv)' -alma\n"
   ]
  },
  {
   "cell_type": "markdown",
   "metadata": {},
   "source": [
    "Egy nagyon egyszerű megoldás, ha minden opciónak a neve a paraméter amit beállít és egyenlőségjel után az értéke:\n",
    "pl. n=11 m=25 nstep=10 p=0.2"
   ]
  },
  {
   "cell_type": "code",
   "execution_count": null,
   "metadata": {},
   "outputs": [],
   "source": [
    "cmdline = \"conway.py -n=11 -m=25 -nstep=10 -p=0.2\"\n",
    "argv = cmdline.split()\n",
    "params =[param.split(\"=\") for param in argv[1:]]\n",
    "params"
   ]
  },
  {
   "cell_type": "markdown",
   "metadata": {},
   "source": [
    "Minden paraméterről tudni kellene, hogy milyen típusú!"
   ]
  },
  {
   "cell_type": "code",
   "execution_count": null,
   "metadata": {},
   "outputs": [],
   "source": [
    "param_types={'-n': int, '-m': int, '-nstep': int, '-p': float}\n",
    "params = {k.replace(\"-\",\"\"): param_types[k](v)  for k, v in (param.split(\"=\") for param in argv[1:])}\n",
    "params"
   ]
  },
  {
   "cell_type": "markdown",
   "metadata": {},
   "source": [
    "Ezek után a `main` függvényt a megadott paraméterekkel meg tudjuk hívni:\n",
    "\n",
    "```\n",
    "    main(**params)\n",
    "```\n",
    "Mi van a `default` értékekkel, `help`-pel stb.\n",
    "\n",
    "Ezeket mind meg tudnánk írni, de nem kell. Van kész megoldás `python`-ban.\n",
    "\n",
    "Az `argparse` könvytár mindent megcsinál, ami nekünk kell."
   ]
  },
  {
   "cell_type": "code",
   "execution_count": null,
   "metadata": {},
   "outputs": [],
   "source": [
    "import argparse\n",
    "\n",
    "help(argparse)"
   ]
  },
  {
   "cell_type": "markdown",
   "metadata": {},
   "source": []
  },
  {
   "cell_type": "markdown",
   "metadata": {},
   "source": [
    "A `conway.py` file végét cseréljük le erre."
   ]
  },
  {
   "cell_type": "code",
   "execution_count": null,
   "metadata": {},
   "outputs": [],
   "source": [
    "%%writefile conway_cli.py\n",
    "\n",
    "import conway\n",
    "\n",
    "if __name__ == \"__main__\":\n",
    "    import argparse\n",
    "    \n",
    "    parser = argparse.ArgumentParser(description='Conways Game of Life')\n",
    "\n",
    "    parser.add_argument(\n",
    "        '-n', '--nrows',\n",
    "        type=int,\n",
    "        default=11,\n",
    "        help='number of rows'\n",
    "        )\n",
    "\n",
    "    parser.add_argument(\n",
    "        '-m', '--ncols',\n",
    "        type=int,\n",
    "        default=25,\n",
    "        help='number of columns'\n",
    "        )\n",
    "\n",
    "    parser.add_argument(\n",
    "        '-p', '--density',\n",
    "        type=float,\n",
    "        default=0.2,\n",
    "        help='initial density')\n",
    "    \n",
    "    parser.add_argument(\n",
    "        '--nsteps',\n",
    "        type=int,\n",
    "        default=10,\n",
    "        help='steps to display'\n",
    "        )\n",
    "\n",
    "    args = parser.parse_args()\n",
    "    print(args)\n",
    "    \n",
    "    conway.main(n=args.ncols, m=args.nrows, p=args.density, nsteps=args.nsteps)\n"
   ]
  },
  {
   "cell_type": "code",
   "execution_count": null,
   "metadata": {},
   "outputs": [],
   "source": [
    "! python conway_cli.py"
   ]
  },
  {
   "cell_type": "code",
   "execution_count": null,
   "metadata": {},
   "outputs": [],
   "source": [
    "# import importlib\n",
    "# importlib.reload(conway)"
   ]
  },
  {
   "cell_type": "code",
   "execution_count": null,
   "metadata": {},
   "outputs": [],
   "source": [
    "import conway\n",
    "\n",
    "out1 = Output()\n",
    "display(out1)\n",
    "\n",
    "with out1:\n",
    "    conway.main(clear_screen=lambda n: out1.clear_output(True))"
   ]
  },
  {
   "cell_type": "markdown",
   "metadata": {},
   "source": [
    "Az `argparse` könyvtár nem a legkényelmesebb. Alternatívák:\n",
    "\n",
    "- [Docopt](http://docopt.org/)\n",
    "- [Click](https://pypi.org/project/click/)\n",
    "- [clize](https://github.com/epsy/clize)\n",
    "\n",
    "és még sok másik is!"
   ]
  },
  {
   "cell_type": "markdown",
   "metadata": {},
   "source": [
    "## Itt is használhattunk volna dekorátort"
   ]
  },
  {
   "cell_type": "markdown",
   "metadata": {},
   "source": [
    "\n",
    "A `ConwayGoL` példában utólag adtunk metódusokat az osztályunkhoz. Ezt is megtehettük volna dekorátorral.  "
   ]
  },
  {
   "cell_type": "code",
   "execution_count": null,
   "metadata": {},
   "outputs": [],
   "source": [
    "def conway_method(f):\n",
    "    setattr(ConwayGoL, f.__name__, f)\n",
    "    return f\n",
    "\n",
    "\n",
    "@conway_method\n",
    "def dummy_method(self):\n",
    "    print(\"this is a message from the new method!\")\n",
    "\n",
    "c = ConwayGoL([])\n",
    "c.dummy_method()"
   ]
  },
  {
   "cell_type": "markdown",
   "metadata": {},
   "source": [
    "Azt is megtehettük volna, hogy a osztály nincs beleégetve a kódba."
   ]
  },
  {
   "cell_type": "code",
   "execution_count": null,
   "metadata": {},
   "outputs": [],
   "source": [
    "def new_method(cls):\n",
    "    def decorator(f):\n",
    "        setattr(cls, f.__name__, f)\n",
    "        return f\n",
    "    return decorator\n",
    "\n",
    "@new_method(ConwayGoL)\n",
    "def dummy_method(self):\n",
    "    print(\"Note that the old value of dummy_method is overwritten!\")"
   ]
  },
  {
   "cell_type": "code",
   "execution_count": null,
   "metadata": {},
   "outputs": [],
   "source": [
    "c.dummy_method()"
   ]
  },
  {
   "cell_type": "markdown",
   "metadata": {},
   "source": [
    "## Néhány minta"
   ]
  },
  {
   "cell_type": "code",
   "execution_count": null,
   "metadata": {},
   "outputs": [],
   "source": [
    "import urllib.request as request\n"
   ]
  },
  {
   "cell_type": "code",
   "execution_count": null,
   "metadata": {},
   "outputs": [],
   "source": [
    "\n",
    "urls = [\n",
    "    \"https://conwaylife.com/patterns/83p7h1v1.cells\",\n",
    "    \"https://conwaylife.com/patterns/rotatedhouse.cells\",\n",
    "]\n",
    "\n"
   ]
  },
  {
   "cell_type": "code",
   "execution_count": null,
   "metadata": {},
   "outputs": [],
   "source": [
    "with request.urlopen(urls[0]) as file:\n",
    "    btext = file.read()\n",
    "text = btext.decode(\"utf-8\")\n",
    "print(text)\n",
    "data = [[0 if c == \".\" else 1 for c in line] for line in text.splitlines() if not line.startswith(\"!\")]\n"
   ]
  },
  {
   "cell_type": "code",
   "execution_count": null,
   "metadata": {},
   "outputs": [],
   "source": [
    "from ipywidgets import Output\n",
    "from time import sleep\n",
    "import numpy as np\n"
   ]
  },
  {
   "cell_type": "code",
   "execution_count": 161,
   "metadata": {},
   "outputs": [
    {
     "data": {
      "application/vnd.jupyter.widget-view+json": {
       "model_id": "0c852c87cf1f4fbab7e8bff0b42919f6",
       "version_major": 2,
       "version_minor": 0
      },
      "text/plain": [
       "Output()"
      ]
     },
     "metadata": {},
     "output_type": "display_data"
    }
   ],
   "source": [
    "\n",
    "out = Output()\n",
    "display(out)\n",
    "\n",
    "\n",
    "conway_gol = conway.ConwayGoL(data)\n",
    "\n",
    "for i in range(100):\n",
    "    out.clear_output(True)\n",
    "    with out:\n",
    "        print(f\"After {i} steps:\\n{conway_gol}\")\n",
    "    sleep(0.15)\n",
    "    conway_gol.step()\n",
    "    if conway_gol.is_empty():\n",
    "        break\n"
   ]
  },
  {
   "cell_type": "code",
   "execution_count": 163,
   "metadata": {},
   "outputs": [
    {
     "name": "stdout",
     "output_type": "stream",
     "text": [
      "! rotatedhouse.cells\n",
      "! https://conwaylife.com/wiki/Rotated_house\n",
      "! https://www.conwaylife.com/patterns/rotatedhouse.cells\n",
      "OO.....\n",
      "O.O....\n",
      "..O..OO\n",
      "O.O.O.O\n",
      "OO..O..\n",
      "....O.O\n",
      ".....OO\n",
      "\n"
     ]
    }
   ],
   "source": [
    "with request.urlopen(urls[1]) as file:\n",
    "    btext = file.read()\n",
    "text = btext.decode(\"utf-8\")\n",
    "print(text)\n",
    "data = [[0 if c == \".\" else 1 for c in line] for line in text.splitlines() if not line.startswith(\"!\")]\n"
   ]
  },
  {
   "cell_type": "code",
   "execution_count": 165,
   "metadata": {},
   "outputs": [
    {
     "data": {
      "application/vnd.jupyter.widget-view+json": {
       "model_id": "4744cdd3b42d4ef7826b11f7037e911f",
       "version_major": 2,
       "version_minor": 0
      },
      "text/plain": [
       "Output()"
      ]
     },
     "metadata": {},
     "output_type": "display_data"
    }
   ],
   "source": [
    "\n",
    "out = Output()\n",
    "display(out)\n",
    "\n",
    "\n",
    "conway_gol = conway.ConwayGoL(data)\n",
    "\n",
    "for i in range(10):\n",
    "    out.clear_output(True)\n",
    "    with out:\n",
    "        print(f\"After {i} steps:\\n{conway_gol}\")\n",
    "    sleep(0.15)\n",
    "    conway_gol.step()\n",
    "    if conway_gol.is_empty():\n",
    "        break\n"
   ]
  },
  {
   "cell_type": "markdown",
   "metadata": {},
   "source": [
    "# Egy gráfelméleti algoritmus"
   ]
  },
  {
   "cell_type": "markdown",
   "metadata": {},
   "source": [
    "## Feladat"
   ]
  },
  {
   "cell_type": "markdown",
   "metadata": {},
   "source": [
    "Adott egy `n` csúcsú irányítatlan gráf az élek listájával. A gráf csúcsait `0`-tól `n-1`-ig címkéztük meg, az éleket pedig a végpontokkal.\n",
    "\n",
    "Emellett adott egy kiindulási pont és egy végpont. Azt szeretnénk eldönteni, hogy el lehet-e jutni a kiindulási pontból a végpontba a gráf éleit használva.\n",
    "\n",
    "Gondolhatunk arra, hogy a gráf egy úthálózatot ír le és a kérdés az, hogy el tudunk-e jutni `A`-ból `B`-be."
   ]
  },
  {
   "cell_type": "markdown",
   "metadata": {},
   "source": [
    "Pl. `n = 3`, élek `edges = [[0,1], [1,2], [2,0]]`, `A =  0`, `B = 2`."
   ]
  },
  {
   "cell_type": "markdown",
   "metadata": {},
   "source": [
    "Gráfok megjelenítésére egy hasznos könyvtár a `graphviz`."
   ]
  },
  {
   "cell_type": "code",
   "execution_count": null,
   "metadata": {},
   "outputs": [],
   "source": [
    "import importlib\n",
    "if importlib.util.find_spec('graphviz') is None:\n",
    "    ! pip install graphviz\n",
    "import graphviz"
   ]
  },
  {
   "cell_type": "code",
   "execution_count": null,
   "metadata": {},
   "outputs": [],
   "source": [
    "edges = [[0,1], [1,2], [2,0]]\n",
    "g0 = graphviz.Graph()\n",
    "\n",
    "g0.edges([(str(a), str(b)) for a, b in edges])\n",
    "g0"
   ]
  },
  {
   "cell_type": "markdown",
   "metadata": {},
   "source": [
    "A gráf összefüggő, tetszőleges `A`, `B` esetén a válasz: `True`"
   ]
  },
  {
   "cell_type": "code",
   "execution_count": null,
   "metadata": {},
   "outputs": [],
   "source": [
    "n = 6\n",
    "edges = [[0,1],[0,2],[3,5],[5,4],[4,3]]\n",
    "A = 0\n",
    "B = 5\n",
    "\n",
    "g1 = graphviz.Graph()\n",
    "g1.edges([(str(a), str(b)) for a, b in edges])\n",
    "g1"
   ]
  },
  {
   "cell_type": "markdown",
   "metadata": {},
   "source": [
    "Nincs út 0 és 5 között. A válasz: `False`"
   ]
  },
  {
   "cell_type": "markdown",
   "metadata": {},
   "source": [
    "Összefüggőségi komponenseket szeretnénk számolni.\n",
    "\n"
   ]
  },
  {
   "cell_type": "markdown",
   "metadata": {},
   "source": [
    "## Ötlet.\n",
    "\n",
    "Az él nélküli gráfból indulunk ki. Itt egy elemű komponensek vannak.\n",
    "\n",
    "Minden komponensből válasszunk egy reprezentáns és minden $i$ pontra feljegyezzük, melyik komponensben van.\n",
    "\n",
    "\n"
   ]
  },
  {
   "cell_type": "code",
   "execution_count": null,
   "metadata": {},
   "outputs": [],
   "source": [
    "def show_graph(roots, direction = 'LR'):\n",
    "    g = graphviz.Digraph(graph_attr={'rankdir': direction})\n",
    "    g.edges((str(i), str(r)) for i, r in enumerate(roots))\n",
    "    return g"
   ]
  },
  {
   "cell_type": "code",
   "execution_count": null,
   "metadata": {},
   "outputs": [],
   "source": [
    "n = 5\n",
    "roots = [i for i in range(n)]\n",
    "display(show_graph(roots, 'TD'))"
   ]
  },
  {
   "cell_type": "markdown",
   "metadata": {},
   "source": [
    "ha behúzzuk a $(0, 1)$ élet, akkor $0$ és $1$ azonos komponensbe kerül. Választhatunk a két összeuniózott komponens reprezentánsa között, legyen pl. 1"
   ]
  },
  {
   "cell_type": "code",
   "execution_count": null,
   "metadata": {},
   "outputs": [],
   "source": [
    "roots[0] = 1\n",
    "display(show_graph(roots, 'TD'))"
   ]
  },
  {
   "cell_type": "markdown",
   "metadata": {},
   "source": [
    "Ha most a (0, 2) élet akarjuk behúzni, akkor nem állíthatjuk át `roots[0]`. Meg kell keresnünk `0` komponensének reprezentását, ez 1 és vagy `roots[1]`-et állítjuk 2 -re, vagy `roots[2]`-t 1-re."
   ]
  },
  {
   "cell_type": "code",
   "execution_count": null,
   "metadata": {},
   "outputs": [],
   "source": [
    "def find(roots, a):\n",
    "    while a != roots[a]:\n",
    "        a = roots[a]\n",
    "    return a"
   ]
  },
  {
   "cell_type": "code",
   "execution_count": null,
   "metadata": {},
   "outputs": [],
   "source": [
    "find(roots, 0), find(roots, 2)"
   ]
  },
  {
   "cell_type": "code",
   "execution_count": null,
   "metadata": {},
   "outputs": [],
   "source": [
    "def union(roots, a, b):\n",
    "    ra = find(roots, a)\n",
    "    rb = find(roots, b)\n",
    "    roots[ra] = rb"
   ]
  },
  {
   "cell_type": "code",
   "execution_count": null,
   "metadata": {},
   "outputs": [],
   "source": [
    "union(roots, 0, 2)\n",
    "print(f\"After union(0, 2) {roots=}\")\n",
    "display(show_graph(roots))\n",
    "\n",
    "union(roots, 3, 4)\n",
    "print(f\"After union(3, 4) {roots=}\")\n",
    "print(roots)\n",
    "display(show_graph(roots))\n",
    "\n",
    "union(roots, 3, 2)\n",
    "print(f\"After union(3, 2) {roots=}\")\n",
    "print(roots)\n",
    "display(show_graph(roots))"
   ]
  },
  {
   "cell_type": "markdown",
   "metadata": {},
   "source": [
    "Ezután az a kérdés, hogy el lehet-e jutni `A`-ból, `B`-be könnyen eldönthető. Ha `A` és `B` azonos komponensben van, akkor `A` és `B` között megy út az eredeti gráfban, különben nem."
   ]
  },
  {
   "cell_type": "markdown",
   "metadata": {},
   "source": [
    "1. példa\n",
    "`n = 3`, élek `edges = [[0,1], [1,2], [2,0]]`, `A =  0`, `B = 2`."
   ]
  },
  {
   "cell_type": "code",
   "execution_count": null,
   "metadata": {},
   "outputs": [],
   "source": [
    "def show_edges(edges, direction='LR'):\n",
    "    g = graphviz.Graph(graph_attr={'rankdir': direction})\n",
    "    g.edges([(str(a), str(b)) for a, b in edges])\n",
    "    return g"
   ]
  },
  {
   "cell_type": "code",
   "execution_count": null,
   "metadata": {},
   "outputs": [],
   "source": [
    "n = 3\n",
    "edges = [[0,1], [1,2], [2,0]]\n",
    "A =  0\n",
    "B = 2\n",
    "\n",
    "display(show_edges(edges, 'TD'))\n",
    "print(f\"Eredeti gráf\")\n",
    "print(\"=\"*50)\n",
    "\n",
    "roots = [i for i in range(n)]\n",
    "for a, b in edges:\n",
    "    union(roots, a, b)\n",
    "\n",
    "display(show_graph(roots))\n",
    "print(f\"{A=} és {B=} {'azonos' if find(roots, A)==find(roots, B) else 'különböző'} komponensben van\")"
   ]
  },
  {
   "cell_type": "markdown",
   "metadata": {},
   "source": [
    "2. példa"
   ]
  },
  {
   "cell_type": "code",
   "execution_count": null,
   "metadata": {},
   "outputs": [],
   "source": [
    "n = 6\n",
    "edges = [[0,1],[0,2],[3,5],[5,4],[4,3]]\n",
    "A = 0\n",
    "B = 5\n",
    "\n",
    "display(show_edges(edges))\n",
    "print(f\"Eredeti gráf\")\n",
    "print(\"=\"*50)\n",
    "\n",
    "roots = [i for i in range(n)]\n",
    "for a, b in edges:\n",
    "    union(roots, a, b)\n",
    "\n",
    "display(show_graph(roots))\n",
    "print(f\"{A=} és {B=} {'azonos' if find(roots, A)==find(roots, B) else 'különböző'} komponensben van\")\n"
   ]
  },
  {
   "cell_type": "markdown",
   "metadata": {},
   "source": [
    "Mi történik, ha nagyobb gráfunk van?"
   ]
  },
  {
   "cell_type": "code",
   "execution_count": null,
   "metadata": {},
   "outputs": [],
   "source": [
    "n = 10\n",
    "edges = [(0,i+1) for i in range(n-1)]\n",
    "display(show_edges(edges, 'TD'))\n",
    "\n",
    "roots = [i for i in range(n)]\n",
    "for a, b in edges:\n",
    "    union(roots, a, b)\n",
    "\n",
    "display(show_graph(roots))\n"
   ]
  },
  {
   "cell_type": "markdown",
   "metadata": {},
   "source": [
    "Valahányszor behúzzuk a $(0, i)$ élet, meg kell keresni $0$ reprezentánsát. $k$ él behúzása után $k$-lépéssel találjuk meg. Ha 10 helyett 10_000 méretű a gráf ez nem fog működni.\n",
    "\n",
    "### Javítási lehetőségek.\n",
    "\n",
    "- Amikor megkeressük $i$ reprezentánsát végig megyünk a reprezentánshoz vezető úton. Minden meglátogatott csúcsra ismerté válik a reprezentáns értéke. Ezt beírhatjuk a `roots` tömbe. (path compression)\n",
    "\n",
    "- A nagyobb komponensbe kössük be a kisebbet és ne fordítva. Ehhez  a ,,méretet'' nyilván kell tartani."
   ]
  },
  {
   "cell_type": "code",
   "execution_count": null,
   "metadata": {},
   "outputs": [],
   "source": [
    "def find_better(roots, a):\n",
    "    ra = roots[a]\n",
    "    if a != ra:\n",
    "        ra = find_better(roots, ra)\n",
    "        roots[a] = ra\n",
    "    return ra\n",
    "\n",
    "def find_better_without_recursion(roots, a):\n",
    "    stack = []\n",
    "\n",
    "    ra = roots[a]\n",
    "    while a != ra:\n",
    "        stack.append(a)\n",
    "        a = ra\n",
    "        ra = roots[a]\n",
    "\n",
    "    while stack:\n",
    "        roots[stack.pop()] = ra\n",
    "\n",
    "    return ra\n",
    "\n",
    "\n",
    "def union_sizes(roots, sizes, a, b):\n",
    "    ra = find_better(roots, a)\n",
    "    rb = find_better(roots, b)\n",
    "    if ra != rb:\n",
    "        if sizes[ra] < sizes[rb]:\n",
    "            ra, rb = rb, ra\n",
    "        roots[rb] = ra\n",
    "        sizes[ra] += sizes[rb]\n",
    "\n",
    "def union_ranks(roots, ranks, a, b):\n",
    "    ra = find_better(roots, a)\n",
    "    rb = find_better(roots, b)\n",
    "    if ra != rb:\n",
    "        if ranks[ra] < ranks[rb]:\n",
    "            ra, rb = rb, ra\n",
    "        roots[rb] = ra\n",
    "        if ranks[ra] == ranks[rb]:\n",
    "            ranks[ra] += 1\n",
    "\n",
    "\n"
   ]
  },
  {
   "cell_type": "code",
   "execution_count": null,
   "metadata": {},
   "outputs": [],
   "source": [
    "n = 10\n",
    "edges = [(0, i) for i in range(1, n)]\n",
    "display(show_edges(edges, 'TD'))\n",
    "\n",
    "roots = [i for i in range(n)]\n",
    "\n",
    "for a, b in edges:\n",
    "    ra = find_better(roots, a)\n",
    "    rb = find_better(roots, b)\n",
    "    roots[ra] = rb\n",
    "\n",
    "display(show_graph(roots, 'LR'))\n"
   ]
  },
  {
   "cell_type": "code",
   "execution_count": null,
   "metadata": {},
   "outputs": [],
   "source": [
    "n = 10\n",
    "edges = [(0, i) for i in range(1, n)]\n",
    "display(show_edges(edges, 'TD'))\n",
    "\n",
    "roots = [i for i in range(n)]\n",
    "\n",
    "for a, b in edges:\n",
    "    ra = find_better(roots, a)\n",
    "    rb = find_better(roots, b)\n",
    "    roots[rb] = ra\n",
    "\n",
    "display(show_graph(roots, 'TD'))\n"
   ]
  },
  {
   "cell_type": "code",
   "execution_count": null,
   "metadata": {},
   "outputs": [],
   "source": [
    "n = 10\n",
    "edges = [(0, i) for i in range(1, n)]\n",
    "display(show_edges(edges, 'TD'))\n",
    "\n",
    "roots = [i for i in range(n)]\n",
    "sizes = [1]*n\n",
    "\n",
    "for a, b in edges:\n",
    "    union_sizes(roots, sizes, a, b)\n",
    "\n",
    "display(show_graph(roots, 'TD'))\n"
   ]
  },
  {
   "cell_type": "code",
   "execution_count": null,
   "metadata": {},
   "outputs": [],
   "source": [
    "n = 10\n",
    "edges = [(0, i) for i in range(1, n)]\n",
    "display(show_edges(edges, 'TD'))\n",
    "\n",
    "roots = [i for i in range(n)]\n",
    "ranks = [0]*n\n",
    "\n",
    "for a, b in edges:\n",
    "    union_ranks(roots, ranks, a, b)\n",
    "\n",
    "display(show_graph(roots, 'TD'))\n"
   ]
  },
  {
   "cell_type": "markdown",
   "metadata": {},
   "source": [
    "### Szokásos implementáció"
   ]
  },
  {
   "cell_type": "code",
   "execution_count": null,
   "metadata": {},
   "outputs": [],
   "source": [
    "class UnionFind:\n",
    "    def __init__(self, n):\n",
    "        self.roots = [i for i in range(n)]\n",
    "        self.sizes = [1]*n\n",
    "\n",
    "    def find(self, a):\n",
    "        ra = self.roots[a]\n",
    "        if a != ra:\n",
    "            ra = self.find( ra)\n",
    "            self.roots[a] = ra\n",
    "        return ra\n",
    "\n",
    "    def union(self, a, b):\n",
    "        ra = self.find(a)\n",
    "        rb = self.find(b)\n",
    "        if ra != rb:\n",
    "            if self.sizes[ra] < self.sizes[rb]:\n",
    "                ra, rb = rb, ra\n",
    "            self.roots[rb] = ra\n",
    "            self.sizes[ra] += self.sizes[rb]\n"
   ]
  },
  {
   "cell_type": "code",
   "execution_count": null,
   "metadata": {},
   "outputs": [],
   "source": [
    "uf = UnionFind(10)\n",
    "print(uf)\n",
    "uf.union(1, 2)\n",
    "print(uf)\n",
    "uf.union(5, 9)\n",
    "uf.union(6, 7)\n",
    "print(uf)\n",
    "\n",
    "uf"
   ]
  },
  {
   "cell_type": "markdown",
   "metadata": {},
   "source": [
    "`__str__` és `__repr__` metódusok"
   ]
  },
  {
   "cell_type": "code",
   "execution_count": null,
   "metadata": {},
   "outputs": [],
   "source": [
    "def as_set(seq):\n",
    "    return f\"{{{', '.join(map(str, seq))}}}\"\n",
    "\n",
    "def uf_str(self):\n",
    "    components = {}\n",
    "    for a in range(len(self.roots)):\n",
    "        ra = self.find(a)\n",
    "        if ra not in components:\n",
    "            components[ra] = []\n",
    "        components[ra].append(a)\n",
    "    return f\"{{{ ', '.join(map(as_set, components.values()))}}}\"\n",
    "\n",
    "def uf_repr(self):\n",
    "    return f\"{type(self).__name__}({len(self.roots)})\"\n",
    "\n",
    "# Így is lehet:\n",
    "UnionFind.__str__ = uf_str\n",
    "UnionFind.__repr__ = uf_repr"
   ]
  },
  {
   "cell_type": "code",
   "execution_count": null,
   "metadata": {},
   "outputs": [],
   "source": [
    "uf = UnionFind(10)\n",
    "print(uf)\n",
    "uf.union(1, 2)\n",
    "print(uf)\n",
    "uf.union(5, 9)\n",
    "uf.union(6, 7)\n",
    "print(uf)\n",
    "\n",
    "uf"
   ]
  },
  {
   "cell_type": "markdown",
   "metadata": {},
   "source": [
    "### További kérdések\n",
    "\n",
    "- Tegyük fel, hogy a komponensek száma érdekel minket. Hogyan oldanánk, meg, hogy konstans idő alatt megkaphassuk.\n",
    "- Tegyük fel, hogy a legnagyobb komponens méretet érdekel minket. Hogyan oldanánk, meg, hogy konstans idő alatt megkaphassuk.\n",
    "- Hogyan ellenőriznénk, hogy két partíció azonos?"
   ]
  }
 ],
 "metadata": {
  "kernelspec": {
   "display_name": "python3.10",
   "language": "python",
   "name": "python3"
  },
  "language_info": {
   "codemirror_mode": {
    "name": "ipython",
    "version": 3
   },
   "file_extension": ".py",
   "mimetype": "text/x-python",
   "name": "python",
   "nbconvert_exporter": "python",
   "pygments_lexer": "ipython3",
   "version": "3.10.12"
  }
 },
 "nbformat": 4,
 "nbformat_minor": 2
}
