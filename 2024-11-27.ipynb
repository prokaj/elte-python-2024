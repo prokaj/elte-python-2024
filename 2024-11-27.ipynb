{
  "cells": [
    {
      "cell_type": "code",
      "source": [
        "! pip install ipytest"
      ],
      "metadata": {
        "id": "7tTEdPKW0Wn2",
        "outputId": "a279994b-a584-4674-e1ae-cb9c1488ab4c",
        "colab": {
          "base_uri": "https://localhost:8080/"
        }
      },
      "execution_count": 7,
      "outputs": [
        {
          "output_type": "stream",
          "name": "stdout",
          "text": [
            "Collecting ipytest\n",
            "  Downloading ipytest-0.14.2-py3-none-any.whl.metadata (17 kB)\n",
            "Requirement already satisfied: ipython in /usr/local/lib/python3.10/dist-packages (from ipytest) (7.34.0)\n",
            "Requirement already satisfied: packaging in /usr/local/lib/python3.10/dist-packages (from ipytest) (24.2)\n",
            "Requirement already satisfied: pytest>=5.4 in /usr/local/lib/python3.10/dist-packages (from ipytest) (8.3.3)\n",
            "Requirement already satisfied: iniconfig in /usr/local/lib/python3.10/dist-packages (from pytest>=5.4->ipytest) (2.0.0)\n",
            "Requirement already satisfied: pluggy<2,>=1.5 in /usr/local/lib/python3.10/dist-packages (from pytest>=5.4->ipytest) (1.5.0)\n",
            "Requirement already satisfied: exceptiongroup>=1.0.0rc8 in /usr/local/lib/python3.10/dist-packages (from pytest>=5.4->ipytest) (1.2.2)\n",
            "Requirement already satisfied: tomli>=1 in /usr/local/lib/python3.10/dist-packages (from pytest>=5.4->ipytest) (2.1.0)\n",
            "Requirement already satisfied: setuptools>=18.5 in /usr/local/lib/python3.10/dist-packages (from ipython->ipytest) (75.1.0)\n",
            "Collecting jedi>=0.16 (from ipython->ipytest)\n",
            "  Downloading jedi-0.19.2-py2.py3-none-any.whl.metadata (22 kB)\n",
            "Requirement already satisfied: decorator in /usr/local/lib/python3.10/dist-packages (from ipython->ipytest) (4.4.2)\n",
            "Requirement already satisfied: pickleshare in /usr/local/lib/python3.10/dist-packages (from ipython->ipytest) (0.7.5)\n",
            "Requirement already satisfied: traitlets>=4.2 in /usr/local/lib/python3.10/dist-packages (from ipython->ipytest) (5.7.1)\n",
            "Requirement already satisfied: prompt-toolkit!=3.0.0,!=3.0.1,<3.1.0,>=2.0.0 in /usr/local/lib/python3.10/dist-packages (from ipython->ipytest) (3.0.48)\n",
            "Requirement already satisfied: pygments in /usr/local/lib/python3.10/dist-packages (from ipython->ipytest) (2.18.0)\n",
            "Requirement already satisfied: backcall in /usr/local/lib/python3.10/dist-packages (from ipython->ipytest) (0.2.0)\n",
            "Requirement already satisfied: matplotlib-inline in /usr/local/lib/python3.10/dist-packages (from ipython->ipytest) (0.1.7)\n",
            "Requirement already satisfied: pexpect>4.3 in /usr/local/lib/python3.10/dist-packages (from ipython->ipytest) (4.9.0)\n",
            "Requirement already satisfied: parso<0.9.0,>=0.8.4 in /usr/local/lib/python3.10/dist-packages (from jedi>=0.16->ipython->ipytest) (0.8.4)\n",
            "Requirement already satisfied: ptyprocess>=0.5 in /usr/local/lib/python3.10/dist-packages (from pexpect>4.3->ipython->ipytest) (0.7.0)\n",
            "Requirement already satisfied: wcwidth in /usr/local/lib/python3.10/dist-packages (from prompt-toolkit!=3.0.0,!=3.0.1,<3.1.0,>=2.0.0->ipython->ipytest) (0.2.13)\n",
            "Downloading ipytest-0.14.2-py3-none-any.whl (18 kB)\n",
            "Downloading jedi-0.19.2-py2.py3-none-any.whl (1.6 MB)\n",
            "\u001b[2K   \u001b[90m━━━━━━━━━━━━━━━━━━━━━━━━━━━━━━━━━━━━━━━━\u001b[0m \u001b[32m1.6/1.6 MB\u001b[0m \u001b[31m28.3 MB/s\u001b[0m eta \u001b[36m0:00:00\u001b[0m\n",
            "\u001b[?25hInstalling collected packages: jedi, ipytest\n",
            "Successfully installed ipytest-0.14.2 jedi-0.19.2\n"
          ]
        }
      ]
    },
    {
      "cell_type": "code",
      "execution_count": 8,
      "metadata": {
        "id": "9G6DMPi2xsq4"
      },
      "outputs": [],
      "source": [
        "import ipytest\n",
        "ipytest.autoconfig()\n",
        "\n",
        "from pprint import pprint"
      ]
    },
    {
      "cell_type": "markdown",
      "metadata": {
        "id": "JJEhoIPAxsq6"
      },
      "source": [
        "# Házifeladat"
      ]
    },
    {
      "cell_type": "code",
      "execution_count": 9,
      "metadata": {
        "id": "tSwk5m5Dxsq8"
      },
      "outputs": [],
      "source": [
        "import time\n",
        "import numpy as np\n",
        "\n",
        "# import sys\n",
        "# sys.setrecursionlimit(10000)"
      ]
    },
    {
      "cell_type": "code",
      "execution_count": 10,
      "metadata": {
        "id": "ysP3-W_Zxsq-"
      },
      "outputs": [],
      "source": [
        "def site_percolation(edges, n):\n",
        "    p = np.random.random(n)[np.asarray(edges)].max(axis=1)\n",
        "    order = np.argsort(p)\n",
        "    for i in order:\n",
        "        yield p[i], edges[i]\n",
        "\n",
        "\n",
        "def edge_percolation(edges, n=None):\n",
        "    p = np.random.random(len(edges))\n",
        "    order = np.argsort(p)\n",
        "    for i in order:\n",
        "        yield p[i], edges[i]"
      ]
    },
    {
      "cell_type": "code",
      "execution_count": 3,
      "metadata": {
        "id": "2zhgKOEpxsrA"
      },
      "outputs": [],
      "source": [
        "def rectangle(m, n):\n",
        "    vertices = [(i, j) for i in range(m) for j in range(n)]\n",
        "    mapping = {v: idx for  idx, v in enumerate(vertices)}\n",
        "\n",
        "    def neighbors(v):\n",
        "        i, j = v\n",
        "        if i > 0:\n",
        "            yield i-1, j\n",
        "        if j > 0:\n",
        "            yield i, j-1\n",
        "\n",
        "    edges = [(idx, mapping[v1]) for idx, v0 in enumerate(vertices) for v1 in neighbors(v0)]\n",
        "    return vertices, edges\n",
        "\n",
        "def rectangle8(m, n):\n",
        "    vertices = [(i, j) for i in range(m) for j in range(n)]\n",
        "    mapping = {v: idx for  idx, v in enumerate(vertices)}\n",
        "\n",
        "    def neighbors(v):\n",
        "        i, j = v\n",
        "        for j0 in range(j-1, j+2):\n",
        "            if (i-1, j0) in mapping:\n",
        "                yield i-1, j0\n",
        "        if j>0:\n",
        "            yield i, j-1\n",
        "\n",
        "    edges = [(idx, mapping[v1]) for idx, v0 in enumerate(vertices) for v1 in neighbors(v0)]\n",
        "    return vertices, edges\n",
        "\n",
        "def triangle(m, n):\n",
        "    vertices = [(i,j+i%2) for i in range(m) for j in range(0, n, 2)]\n",
        "    mapping = {v: idx for  idx, v in enumerate(vertices)}\n",
        "\n",
        "    def neighbors(v):\n",
        "        i, j = v\n",
        "        if i > 0:\n",
        "            if j > 0:\n",
        "                yield i-1, j-1\n",
        "            if j+1 < n:\n",
        "                yield i-1, j+1\n",
        "        if j > 1:\n",
        "            yield i, j-2\n",
        "\n",
        "    edges = [(idx, mapping[v1]) for idx, v0 in enumerate(vertices) for v1 in neighbors(v0)]\n",
        "    return vertices, edges\n",
        "\n",
        "def hexagon(m, n):\n",
        "    shift = [1, 0, 0, 1]\n",
        "    vertices = [(i, j+shift[i%4]) for i in range(m) for j in range(0, n, 2)]\n",
        "    mapping = {v: idx for  idx, v in enumerate(vertices)}\n",
        "\n",
        "    def neighbors(v):\n",
        "        i, j = v\n",
        "        for j0 in range(j-1, j+2):\n",
        "            if (i-1, j0) in mapping:\n",
        "                yield i-1, j0\n",
        "\n",
        "    edges = [(idx, mapping[v1]) for idx, v0 in enumerate(vertices) for v1 in neighbors(v0)]\n",
        "    return vertices, edges"
      ]
    },
    {
      "cell_type": "code",
      "execution_count": 4,
      "metadata": {
        "id": "84ngMemixsrC"
      },
      "outputs": [],
      "source": [
        "class UnionFind:\n",
        "\n",
        "    def __init__(self, n):\n",
        "        self.roots = [*range(n)]\n",
        "        self.sizes = [1]*n\n",
        "        self.max_size = 1\n",
        "\n",
        "    def find(self, a):\n",
        "        if self.roots[a]!=a:\n",
        "            self.roots[a] = self.find(self.roots[a])\n",
        "        return self.roots[a]\n",
        "\n",
        "\n",
        "    def union(self, a, b):\n",
        "        ra = self.find(a)\n",
        "        rb = self.find(b)\n",
        "        if ra != rb:\n",
        "            if self.sizes[ra] > self.sizes[rb]:\n",
        "                ra, rb = rb, ra\n",
        "            self.roots[ra] = rb\n",
        "            self.sizes[rb] += self.sizes[ra]\n",
        "            if self.max_size < self.sizes[rb]:\n",
        "                self.max_size = self.sizes[rb]\n",
        "        return self.sizes[rb]\n",
        "\n",
        "\n",
        "def max_comp_sizes(edge_iter, n):\n",
        "    uf = UnionFind(n)\n",
        "    for p, (a, b) in edge_iter:\n",
        "        size = uf.union(a, b)\n",
        "        yield p, uf.max_size\n",
        "\n",
        "\n",
        "def discretize(mon_iter, subdivision, default=1):\n",
        "    it = iter(subdivision)\n",
        "    value = default\n",
        "    t = next(it)\n",
        "    for s, v in mon_iter:\n",
        "        if s < t:\n",
        "            value = v\n",
        "        else:\n",
        "            yield value\n",
        "            t = next(it)\n",
        "            value = v\n",
        "    for _ in it:\n",
        "        yield value\n",
        "    yield value\n"
      ]
    },
    {
      "cell_type": "markdown",
      "metadata": {
        "id": "SP1KMx8exsrD"
      },
      "source": [
        "# some test"
      ]
    },
    {
      "cell_type": "code",
      "execution_count": 5,
      "metadata": {
        "id": "k670FemsxsrE",
        "outputId": "08128b00-917b-4c02-8e50-31ca8ecf6339",
        "colab": {
          "base_uri": "https://localhost:8080/"
        }
      },
      "outputs": [
        {
          "output_type": "stream",
          "name": "stdout",
          "text": [
            "vertices=[(0, 0), (0, 1), (0, 2), (1, 0), (1, 1), (1, 2), (2, 0), (2, 1), (2, 2), (3, 0), (3, 1), (3, 2)]\n",
            "edges=[(1, 0), (2, 1), (3, 0), (4, 1), (4, 3), (5, 2), (5, 4), (6, 3), (7, 4), (7, 6), (8, 5), (8, 7), (9, 6), (10, 7), (10, 9), (11, 8), (11, 10)]\n"
          ]
        }
      ],
      "source": [
        "vertices, edges = rectangle(4, 3)\n",
        "print(f\"{vertices=}\\n{edges=}\")"
      ]
    },
    {
      "cell_type": "code",
      "execution_count": 11,
      "metadata": {
        "id": "9_hrL6qpxsrG",
        "outputId": "3f3dcf59-652d-4734-ff9d-ba7f1ec4a6db",
        "colab": {
          "base_uri": "https://localhost:8080/"
        }
      },
      "outputs": [
        {
          "output_type": "stream",
          "name": "stdout",
          "text": [
            "edge percolation\n",
            "(0.014159949884687273, (4, 3))\n",
            "(0.037955344065935814, (5, 2))\n",
            "(0.08805812365570065, (8, 5))\n",
            "(0.09599667923379118, (6, 3))\n",
            "(0.18105100485554482, (10, 9))\n",
            "(0.2820195955357273, (2, 1))\n",
            "(0.3091711059897633, (11, 8))\n",
            "(0.4123354537928221, (4, 1))\n",
            "(0.475908009889326, (7, 4))\n",
            "(0.49696567001131664, (1, 0))\n",
            "(0.5645511190811318, (8, 7))\n",
            "(0.5919486035862214, (9, 6))\n",
            "(0.6156706947927498, (3, 0))\n",
            "(0.7324343221398918, (7, 6))\n",
            "(0.8845949604448161, (10, 7))\n",
            "(0.8904611682335886, (11, 10))\n",
            "(0.9074591363835642, (5, 4))\n"
          ]
        }
      ],
      "source": [
        "print(\"edge percolation\")\n",
        "print(*edge_percolation(edges, len(vertices)), sep=\"\\n\")"
      ]
    },
    {
      "cell_type": "code",
      "execution_count": 12,
      "metadata": {
        "id": "02hRGpUyxsrH",
        "outputId": "4e61fdf2-e002-4591-fbc0-5936c5125007",
        "colab": {
          "base_uri": "https://localhost:8080/"
        }
      },
      "outputs": [
        {
          "output_type": "stream",
          "name": "stdout",
          "text": [
            "site percolation\n",
            "(0.36076393740735935, (11, 10))\n",
            "(0.36076393740735935, (11, 8))\n",
            "(0.4052618678142482, (10, 9))\n",
            "(0.4052618678142482, (9, 6))\n",
            "(0.4350421507356864, (10, 7))\n",
            "(0.4350421507356864, (8, 7))\n",
            "(0.4350421507356864, (7, 6))\n",
            "(0.4350421507356864, (7, 4))\n",
            "(0.8131114217599525, (4, 1))\n",
            "(0.8131114217599525, (2, 1))\n",
            "(0.8146018077946943, (4, 3))\n",
            "(0.8146018077946943, (6, 3))\n",
            "(0.8287233759146021, (5, 4))\n",
            "(0.8287233759146021, (5, 2))\n",
            "(0.8287233759146021, (8, 5))\n",
            "(0.9011195181669145, (3, 0))\n",
            "(0.9011195181669145, (1, 0))\n"
          ]
        }
      ],
      "source": [
        "print(\"site percolation\")\n",
        "print(*site_percolation(edges, len(vertices)), sep=\"\\n\")"
      ]
    },
    {
      "cell_type": "code",
      "execution_count": 13,
      "metadata": {
        "id": "Nb-adzvWxsrJ",
        "outputId": "7f108194-4332-4619-a1d4-0deea289ae11",
        "colab": {
          "base_uri": "https://localhost:8080/",
          "height": 430
        }
      },
      "outputs": [
        {
          "output_type": "display_data",
          "data": {
            "text/plain": [
              "<Figure size 640x480 with 1 Axes>"
            ],
            "image/png": "[encoded data removed]"
          },
          "metadata": {}
        }
      ],
      "source": [
        "# import matplotlib\n",
        "# matplotlib.use(\"TkAgg\")\n",
        "import matplotlib.pyplot as plt\n",
        "%matplotlib inline\n",
        "\n",
        "def plot_graph(vertices, edges):\n",
        "    x, y = zip(*vertices)\n",
        "    for a, b in edges:\n",
        "        x0, y0 = vertices[a]\n",
        "        x1, y1 = vertices[b]\n",
        "        plt.plot((x0,x1), (y0,y1), c=\"blue\", alpha=0.5)\n",
        "    plt.plot(x, y, \"o\", mfc=\"white\", mec=\"red\", markersize=20, alpha=1)\n",
        "    for i, (x, y) in enumerate(vertices):\n",
        "        plt.text(x, y, str(i), fontsize=12, ha=\"center\", va=\"center\")\n",
        "    plt.show()\n",
        "\n",
        "plot_graph(*rectangle(4, 3))\n"
      ]
    },
    {
      "cell_type": "code",
      "execution_count": 14,
      "metadata": {
        "id": "I1oM9eCvxsrJ",
        "outputId": "0d40242a-0540-446c-bb7c-b59f1a4bcb09",
        "colab": {
          "base_uri": "https://localhost:8080/"
        }
      },
      "outputs": [
        {
          "output_type": "stream",
          "name": "stdout",
          "text": [
            "vertices=[(0, 0), (0, 1), (0, 2), (1, 0), (1, 1), (1, 2), (2, 0), (2, 1), (2, 2), (3, 0), (3, 1), (3, 2)]\n",
            "edges=[(1, 0), (2, 1), (3, 0), (3, 1), (4, 0), (4, 1), (4, 2), (4, 3), (5, 1), (5, 2), (5, 4), (6, 3), (6, 4), (7, 3), (7, 4), (7, 5), (7, 6), (8, 4), (8, 5), (8, 7), (9, 6), (9, 7), (10, 6), (10, 7), (10, 8), (10, 9), (11, 7), (11, 8), (11, 10)]\n"
          ]
        }
      ],
      "source": [
        "vertices, edges = rectangle8(4, 3)\n",
        "print(f\"{vertices=}\\n{edges=}\")"
      ]
    },
    {
      "cell_type": "code",
      "execution_count": 15,
      "metadata": {
        "id": "MlMsmw0pxsrK",
        "outputId": "343b5bc3-81a9-4526-d7b8-d3aad13d55eb",
        "colab": {
          "base_uri": "https://localhost:8080/"
        }
      },
      "outputs": [
        {
          "output_type": "stream",
          "name": "stdout",
          "text": [
            "edge percolation\n",
            "(0.024345407266084362, (6, 3))\n",
            "(0.028659115812676106, (4, 3))\n",
            "(0.0563860947005711, (11, 7))\n",
            "(0.06590199147503306, (4, 1))\n",
            "(0.10926009259224301, (4, 0))\n",
            "(0.12504745417040064, (11, 8))\n",
            "(0.13760440640282945, (8, 7))\n",
            "(0.14294566100953665, (10, 8))\n",
            "(0.2310700523050645, (10, 7))\n",
            "(0.27339906624542587, (11, 10))\n",
            "(0.3241200663662056, (5, 2))\n",
            "(0.3724339920805514, (7, 6))\n",
            "(0.38737242397685867, (1, 0))\n",
            "(0.4293024303674734, (4, 2))\n",
            "(0.4311953296409551, (9, 7))\n",
            "(0.4522244381236493, (8, 5))\n",
            "(0.4608846947285128, (10, 9))\n",
            "(0.49008966759168615, (3, 0))\n",
            "(0.5307604584404815, (8, 4))\n",
            "(0.58787820812602, (10, 6))\n",
            "(0.6455590626336191, (2, 1))\n",
            "(0.6926383457048013, (5, 4))\n",
            "(0.8247774817598572, (3, 1))\n",
            "(0.830334520432995, (6, 4))\n",
            "(0.8334941616108192, (5, 1))\n",
            "(0.8694815567442844, (7, 4))\n",
            "(0.8763474930676897, (9, 6))\n",
            "(0.9819381767171617, (7, 5))\n",
            "(0.9957800248183222, (7, 3))\n"
          ]
        }
      ],
      "source": [
        "\n",
        "print(\"edge percolation\")\n",
        "print(*edge_percolation(edges, len(vertices)), sep=\"\\n\")\n"
      ]
    },
    {
      "cell_type": "code",
      "execution_count": null,
      "metadata": {
        "id": "5FlyKMDcxsrL"
      },
      "outputs": [],
      "source": [
        "\n",
        "print(\"site percolation\")\n",
        "print(*site_percolation(edges, len(vertices)), sep=\"\\n\")\n"
      ]
    },
    {
      "cell_type": "code",
      "execution_count": 16,
      "metadata": {
        "id": "snHuAOywxsrM",
        "outputId": "05b2c32c-66e2-41ed-9a0d-ed411668e68e",
        "colab": {
          "base_uri": "https://localhost:8080/",
          "height": 430
        }
      },
      "outputs": [
        {
          "output_type": "display_data",
          "data": {
            "text/plain": [
              "<Figure size 640x480 with 1 Axes>"
            ],
            "image/png": "[encoded data removed]"
          },
          "metadata": {}
        }
      ],
      "source": [
        "plot_graph(*rectangle8(4, 3))\n"
      ]
    },
    {
      "cell_type": "code",
      "execution_count": null,
      "metadata": {
        "id": "CokURgdtxsrN"
      },
      "outputs": [],
      "source": [
        "vertices, edges = triangle(4, 6)\n",
        "print(f\"{vertices=}\\n{edges=}\")"
      ]
    },
    {
      "cell_type": "code",
      "execution_count": null,
      "metadata": {
        "id": "DiUA_f4SxsrN"
      },
      "outputs": [],
      "source": [
        "print(\"edge percolation\")\n",
        "print(*edge_percolation(edges, len(vertices)), sep=\"\\n\")"
      ]
    },
    {
      "cell_type": "code",
      "execution_count": null,
      "metadata": {
        "id": "77eoKduoxsrO"
      },
      "outputs": [],
      "source": [
        "print(\"site percolation\")\n",
        "print(*site_percolation(edges, len(vertices)), sep=\"\\n\")\n"
      ]
    },
    {
      "cell_type": "code",
      "execution_count": 17,
      "metadata": {
        "id": "yzelS4KtxsrP",
        "outputId": "cd3b3bac-f354-4d36-cab0-9d1b32085bfd",
        "colab": {
          "base_uri": "https://localhost:8080/",
          "height": 430
        }
      },
      "outputs": [
        {
          "output_type": "display_data",
          "data": {
            "text/plain": [
              "<Figure size 640x480 with 1 Axes>"
            ],
            "image/png": "[encoded data removed]"
          },
          "metadata": {}
        }
      ],
      "source": [
        "plot_graph(*triangle(4, 6))"
      ]
    },
    {
      "cell_type": "code",
      "execution_count": null,
      "metadata": {
        "id": "Vldv_wMdxsrQ"
      },
      "outputs": [],
      "source": [
        "vertices, edges = hexagon(4, 4)\n",
        "print(f\"{vertices=}\\n{edges=}\")"
      ]
    },
    {
      "cell_type": "code",
      "execution_count": null,
      "metadata": {
        "id": "0FLMpMEVxsrQ"
      },
      "outputs": [],
      "source": [
        "print(\"edge percolation\")\n",
        "print(*edge_percolation(edges, len(vertices)), sep=\"\\n\")"
      ]
    },
    {
      "cell_type": "code",
      "execution_count": null,
      "metadata": {
        "id": "A0kDYPx-xsrR"
      },
      "outputs": [],
      "source": [
        "print(\"site percolation\")\n",
        "print(*site_percolation(edges, len(vertices)), sep=\"\\n\")"
      ]
    },
    {
      "cell_type": "code",
      "execution_count": 18,
      "metadata": {
        "id": "vt2X-tTtxsrR",
        "outputId": "6b703b1e-e2a3-4303-cee9-4c047ce837d8",
        "colab": {
          "base_uri": "https://localhost:8080/",
          "height": 430
        }
      },
      "outputs": [
        {
          "output_type": "display_data",
          "data": {
            "text/plain": [
              "<Figure size 640x480 with 1 Axes>"
            ],
            "image/png": "[encoded data removed]"
          },
          "metadata": {}
        }
      ],
      "source": [
        "plot_graph(*hexagon(8, 8))"
      ]
    },
    {
      "cell_type": "markdown",
      "metadata": {
        "id": "8Ttd8aI6xsrS"
      },
      "source": [
        "# site percolation"
      ]
    },
    {
      "cell_type": "code",
      "execution_count": 19,
      "metadata": {
        "id": "Kzh4819_xsrS"
      },
      "outputs": [],
      "source": [
        "def experiment(n, percolation_fun):\n",
        "    vertices, edges = rectangle(n, n)\n",
        "    probs = []\n",
        "    sizes = []\n",
        "    for p, size in max_comp_sizes(percolation_fun(edges, len(vertices)), len(vertices)):\n",
        "        probs.append(p)\n",
        "        sizes.append(size)\n",
        "    return probs, sizes\n"
      ]
    },
    {
      "cell_type": "code",
      "execution_count": 20,
      "metadata": {
        "id": "buuaTMdMxsrU"
      },
      "outputs": [],
      "source": [
        "def percolation_max_size(vertices, edges, p_seq, percolation_fun=site_percolation, n_repeat=10):\n",
        "    # p_seq = np.linspace(0, 1, 1001)\n",
        "    comp_size = np.zeros_like(p_seq)\n",
        "    for _ in range(n_repeat):\n",
        "        sizes = [\n",
        "            *discretize(\n",
        "                max_comp_sizes(\n",
        "                    percolation_fun(edges, len(vertices)),\n",
        "                    len(vertices)\n",
        "                ), p_seq)\n",
        "        ]\n",
        "        comp_size += sizes\n",
        "    return comp_size/(len(vertices)*n_repeat)\n"
      ]
    },
    {
      "cell_type": "code",
      "execution_count": 21,
      "metadata": {
        "id": "FLgqOiOoxsrU",
        "outputId": "10a08193-9d5d-45a4-e3d6-fdc0481458e1",
        "colab": {
          "base_uri": "https://localhost:8080/"
        }
      },
      "outputs": [
        {
          "output_type": "stream",
          "name": "stdout",
          "text": [
            "CPU times: user 5.49 s, sys: 58.9 ms, total: 5.55 s\n",
            "Wall time: 5.55 s\n"
          ]
        }
      ],
      "source": [
        "%%time\n",
        "\n",
        "p_seq = np.linspace(0, 1, 1001)\n",
        "rel_comp_size = percolation_max_size(*rectangle(300, 300), p_seq, n_repeat=10)\n"
      ]
    },
    {
      "cell_type": "code",
      "execution_count": 22,
      "metadata": {
        "id": "lCaoxQ4GxsrU",
        "outputId": "17f72517-ab44-4575-e1e0-5dfb5197a2af",
        "colab": {
          "base_uri": "https://localhost:8080/",
          "height": 430
        }
      },
      "outputs": [
        {
          "output_type": "display_data",
          "data": {
            "text/plain": [
              "<Figure size 640x480 with 1 Axes>"
            ],
            "image/png": "[encoded data removed]"
          },
          "metadata": {}
        }
      ],
      "source": [
        "plt.plot(p_seq, rel_comp_size)\n",
        "plt.show()"
      ]
    },
    {
      "cell_type": "code",
      "execution_count": 23,
      "metadata": {
        "id": "1D0gkDGCxsrV",
        "outputId": "1b54fc23-e88d-4dd7-89d4-c70f66b4ad85",
        "colab": {
          "base_uri": "https://localhost:8080/"
        }
      },
      "outputs": [
        {
          "output_type": "stream",
          "name": "stdout",
          "text": [
            "CPU times: user 10.7 s, sys: 107 ms, total: 10.8 s\n",
            "Wall time: 10.9 s\n"
          ]
        }
      ],
      "source": [
        "%%time\n",
        "\n",
        "p_seq = np.linspace(0, 1, 1001)\n",
        "rel_comp_size = percolation_max_size(*rectangle8(300, 300), p_seq, n_repeat=10)\n"
      ]
    },
    {
      "cell_type": "code",
      "execution_count": 24,
      "metadata": {
        "id": "O4zkhsLYxsrV",
        "outputId": "ffef6127-781c-4e82-da1b-48215c1dcde5",
        "colab": {
          "base_uri": "https://localhost:8080/",
          "height": 430
        }
      },
      "outputs": [
        {
          "output_type": "display_data",
          "data": {
            "text/plain": [
              "<Figure size 640x480 with 1 Axes>"
            ],
            "image/png": "[encoded data removed]"
          },
          "metadata": {}
        }
      ],
      "source": [
        "plt.plot(p_seq, rel_comp_size)\n",
        "plt.show()"
      ]
    },
    {
      "cell_type": "code",
      "execution_count": 25,
      "metadata": {
        "id": "IgX74RnxxsrV",
        "outputId": "9c42080e-1688-462d-ec38-d3fe49ee5ff0",
        "colab": {
          "base_uri": "https://localhost:8080/"
        }
      },
      "outputs": [
        {
          "output_type": "stream",
          "name": "stdout",
          "text": [
            "CPU times: user 3.71 s, sys: 34.7 ms, total: 3.74 s\n",
            "Wall time: 3.74 s\n"
          ]
        }
      ],
      "source": [
        "%%time\n",
        "\n",
        "p_seq = np.linspace(0, 1, 1001)\n",
        "rel_comp_size = percolation_max_size(*triangle(300, 300), p_seq, n_repeat=10)\n"
      ]
    },
    {
      "cell_type": "code",
      "execution_count": 26,
      "metadata": {
        "id": "SeUD9uOSxsrW",
        "outputId": "56c2f7e5-3d26-49d1-ca64-9e2569efc002",
        "colab": {
          "base_uri": "https://localhost:8080/",
          "height": 430
        }
      },
      "outputs": [
        {
          "output_type": "display_data",
          "data": {
            "text/plain": [
              "<Figure size 640x480 with 1 Axes>"
            ],
            "image/png": "[encoded data removed]"
          },
          "metadata": {}
        }
      ],
      "source": [
        "plt.plot(p_seq, rel_comp_size)\n",
        "plt.show()"
      ]
    },
    {
      "cell_type": "code",
      "execution_count": 27,
      "metadata": {
        "id": "wFLVTMBhxsrX",
        "outputId": "f49f4781-b2f3-43b5-cc61-19e5efb445d3",
        "colab": {
          "base_uri": "https://localhost:8080/"
        }
      },
      "outputs": [
        {
          "output_type": "stream",
          "name": "stdout",
          "text": [
            "CPU times: user 2.09 s, sys: 11.6 ms, total: 2.1 s\n",
            "Wall time: 2.11 s\n"
          ]
        }
      ],
      "source": [
        "%%time\n",
        "\n",
        "p_seq = np.linspace(0, 1, 1001)\n",
        "rel_comp_size = percolation_max_size(*hexagon(300, 300), p_seq, n_repeat=10)\n"
      ]
    },
    {
      "cell_type": "code",
      "execution_count": 28,
      "metadata": {
        "id": "87mMTnTJxsrY",
        "outputId": "425f9421-25cf-4686-b4f6-7caa5f005d72",
        "colab": {
          "base_uri": "https://localhost:8080/",
          "height": 430
        }
      },
      "outputs": [
        {
          "output_type": "display_data",
          "data": {
            "text/plain": [
              "<Figure size 640x480 with 1 Axes>"
            ],
            "image/png": "[encoded data removed]"
          },
          "metadata": {}
        }
      ],
      "source": [
        "plt.plot(p_seq, rel_comp_size)\n",
        "plt.show()"
      ]
    },
    {
      "cell_type": "markdown",
      "metadata": {
        "id": "34MuS4oPxsrY"
      },
      "source": [
        "# edge percolation"
      ]
    },
    {
      "cell_type": "code",
      "execution_count": 29,
      "metadata": {
        "id": "OWHGEobuxsrZ",
        "outputId": "6024fccd-78df-4967-f3a2-1850a4d9c652",
        "colab": {
          "base_uri": "https://localhost:8080/"
        }
      },
      "outputs": [
        {
          "output_type": "stream",
          "name": "stdout",
          "text": [
            "CPU times: user 6.32 s, sys: 16.4 ms, total: 6.34 s\n",
            "Wall time: 6.4 s\n"
          ]
        }
      ],
      "source": [
        "%%time\n",
        "p_seq = np.linspace(0, 1, 1001)\n",
        "rel_comp_size = percolation_max_size(*rectangle(300, 300), p_seq, percolation_fun=edge_percolation, n_repeat=10)"
      ]
    },
    {
      "cell_type": "code",
      "execution_count": 30,
      "metadata": {
        "id": "AB7rQdLoxsrZ",
        "outputId": "74a28d41-5f26-4aa8-a187-43dfc5f25a63",
        "colab": {
          "base_uri": "https://localhost:8080/",
          "height": 430
        }
      },
      "outputs": [
        {
          "output_type": "display_data",
          "data": {
            "text/plain": [
              "<Figure size 640x480 with 1 Axes>"
            ],
            "image/png": "[encoded data removed]"
          },
          "metadata": {}
        }
      ],
      "source": [
        "plt.plot(p_seq, rel_comp_size)\n",
        "plt.show()"
      ]
    },
    {
      "cell_type": "code",
      "execution_count": 31,
      "metadata": {
        "id": "iwkAfMj3xsrZ",
        "outputId": "27ec2294-d5fb-4b60-9ed8-b9aa72c0ddc2",
        "colab": {
          "base_uri": "https://localhost:8080/"
        }
      },
      "outputs": [
        {
          "output_type": "stream",
          "name": "stdout",
          "text": [
            "CPU times: user 9.78 s, sys: 33.6 ms, total: 9.81 s\n",
            "Wall time: 9.82 s\n"
          ]
        }
      ],
      "source": [
        "%%time\n",
        "\n",
        "p_seq = np.linspace(0, 1, 1001)\n",
        "rel_comp_size = percolation_max_size(*rectangle8(300, 300), p_seq, percolation_fun=edge_percolation, n_repeat=10)\n"
      ]
    },
    {
      "cell_type": "code",
      "execution_count": 32,
      "metadata": {
        "id": "4UiZc8q_xsra",
        "outputId": "e99f7598-f5cb-4257-ca5a-3f46dcb1772d",
        "colab": {
          "base_uri": "https://localhost:8080/",
          "height": 430
        }
      },
      "outputs": [
        {
          "output_type": "display_data",
          "data": {
            "text/plain": [
              "<Figure size 640x480 with 1 Axes>"
            ],
            "image/png": "[encoded data removed]"
          },
          "metadata": {}
        }
      ],
      "source": [
        "plt.plot(p_seq, rel_comp_size)\n",
        "plt.show()"
      ]
    },
    {
      "cell_type": "code",
      "execution_count": 33,
      "metadata": {
        "id": "MubpU6gWxsrb",
        "outputId": "d1f61eb7-ba2f-4970-b2e9-2bfb7ef75f75",
        "colab": {
          "base_uri": "https://localhost:8080/"
        }
      },
      "outputs": [
        {
          "output_type": "stream",
          "name": "stdout",
          "text": [
            "CPU times: user 3.58 s, sys: 9.98 ms, total: 3.59 s\n",
            "Wall time: 3.59 s\n"
          ]
        }
      ],
      "source": [
        "%%time\n",
        "\n",
        "p_seq = np.linspace(0, 1, 1001)\n",
        "rel_comp_size = percolation_max_size(*triangle(300, 300), p_seq, percolation_fun=edge_percolation, n_repeat=10)\n"
      ]
    },
    {
      "cell_type": "code",
      "execution_count": 34,
      "metadata": {
        "id": "HJegdXIXxsrb",
        "outputId": "29375b91-89c2-4fd4-96cc-208579f03d52",
        "colab": {
          "base_uri": "https://localhost:8080/",
          "height": 430
        }
      },
      "outputs": [
        {
          "output_type": "display_data",
          "data": {
            "text/plain": [
              "<Figure size 640x480 with 1 Axes>"
            ],
            "image/png": "[encoded data removed]"
          },
          "metadata": {}
        }
      ],
      "source": [
        "plt.plot(p_seq, rel_comp_size)\n",
        "plt.show()"
      ]
    },
    {
      "cell_type": "code",
      "execution_count": 35,
      "metadata": {
        "id": "ueb6858cxsrb",
        "outputId": "8c5a40be-a165-48ce-ec6a-06268886582e",
        "colab": {
          "base_uri": "https://localhost:8080/"
        }
      },
      "outputs": [
        {
          "output_type": "stream",
          "name": "stdout",
          "text": [
            "CPU times: user 1.96 s, sys: 1.48 ms, total: 1.96 s\n",
            "Wall time: 1.96 s\n"
          ]
        }
      ],
      "source": [
        "%%time\n",
        "\n",
        "p_seq = np.linspace(0, 1, 1001)\n",
        "rel_comp_size = percolation_max_size(*hexagon(300, 300), p_seq, percolation_fun=edge_percolation, n_repeat=10)\n"
      ]
    },
    {
      "cell_type": "code",
      "execution_count": 36,
      "metadata": {
        "id": "HaxE_AQnxsrc",
        "outputId": "a29709e4-7d6a-4a6b-a1fc-6924df8de634",
        "colab": {
          "base_uri": "https://localhost:8080/",
          "height": 430
        }
      },
      "outputs": [
        {
          "output_type": "display_data",
          "data": {
            "text/plain": [
              "<Figure size 640x480 with 1 Axes>"
            ],
            "image/png": "[encoded data removed]"
          },
          "metadata": {}
        }
      ],
      "source": [
        "plt.plot(p_seq, rel_comp_size)\n",
        "plt.show()"
      ]
    },
    {
      "cell_type": "markdown",
      "metadata": {
        "id": "hhXLNofjxsrc"
      },
      "source": [
        "# Feladat: Leghosszabb növekvő részsorozat"
      ]
    },
    {
      "cell_type": "markdown",
      "metadata": {
        "id": "Qo06KpRRxsrd"
      },
      "source": [
        "Adott $a_1,a_2,\\dots, a_n$. Keressük meg a leghosszabb növekvő részsorozat **hosszát**!"
      ]
    },
    {
      "cell_type": "code",
      "execution_count": 45,
      "metadata": {
        "id": "fIReMng1xsrd"
      },
      "outputs": [],
      "source": [
        "import itertools\n",
        "import bisect\n",
        "\n",
        "def longest_increasing_subsequence(nums):\n",
        "    n = len(nums)\n",
        "    for k in reversed(range(1, n+1)):\n",
        "        for p in itertools.combinations(range(n), k):\n",
        "            if all(nums[j] > nums[i] for i, j in itertools.pairwise(p)):\n",
        "                return k\n",
        "    return 1\n",
        "\n",
        "def lis2(nums):\n",
        "    stack = []\n",
        "    for num in nums:\n",
        "        i = bisect.bisect_left(stack, num)\n",
        "        if i == len(stack):\n",
        "            stack.append(num)\n",
        "        else:\n",
        "            stack[i] = num\n",
        "    return len(stack)\n",
        "\n",
        "def bisect_left(nums, num):\n",
        "    lo = 0\n",
        "    hi = len(nums)\n",
        "    while lo < hi:\n",
        "        mid = (lo + hi) // 2\n",
        "        if nums[mid] < num:\n",
        "            lo = mid + 1\n",
        "        else:\n",
        "            hi = mid\n",
        "    return lo\n",
        "\n",
        "lis = longest_increasing_subsequence\n",
        "lis = lis2\n"
      ]
    },
    {
      "cell_type": "code",
      "execution_count": 46,
      "metadata": {
        "id": "wJo_P-9sxsre",
        "outputId": "a418c9c9-8c2f-4f33-e235-c89d571e5cb0",
        "colab": {
          "base_uri": "https://localhost:8080/"
        }
      },
      "outputs": [
        {
          "output_type": "stream",
          "name": "stdout",
          "text": [
            "\u001b[32m.\u001b[0m\u001b[32m                                                                                            [100%]\u001b[0m\n",
            "\u001b[32m\u001b[32m\u001b[1m1 passed\u001b[0m\u001b[32m in 0.01s\u001b[0m\u001b[0m\n"
          ]
        }
      ],
      "source": [
        "%%ipytest\n",
        "\n",
        "def test_lis():\n",
        "    assert lis([3, 4, -1, 0, 6, 2, 3]) == 4\n",
        "    assert lis([10, 9, 2, 5, 3, 7, 101, 18]) == 4\n",
        "    assert lis([0, 1, 0, 3, 2, 3]) == 4\n",
        "    assert lis([7, 7, 7, 7, 7, 7, 7]) == 1\n",
        "    assert lis([1, 3, 6, 7, 9, 4, 10, 5, 6]) == 6"
      ]
    },
    {
      "cell_type": "markdown",
      "metadata": {
        "id": "5Z_J8wAVxsrf"
      },
      "source": [
        "# Sudoku"
      ]
    },
    {
      "cell_type": "markdown",
      "metadata": {
        "id": "vBeEdgvFxsrg"
      },
      "source": [
        "## Sudoku tábla `Matplotlib`-bel"
      ]
    },
    {
      "cell_type": "markdown",
      "metadata": {
        "id": "eV9uvas2xsrg"
      },
      "source": [
        "A cél sudoku solver megírása. Ma csak megjelenítéssel és feladványok beolvasásával foglakozunk.\n",
        "\n",
        "Ez egy [project Euler](https://projecteuler.net/problem=96) feladat. A teszt adatok is onnan vannak:\n",
        "\n",
        "https://projecteuler.net/project/resources/p096_sudoku.txt"
      ]
    },
    {
      "cell_type": "code",
      "execution_count": 47,
      "metadata": {
        "id": "lRRHxPksxsrh",
        "outputId": "64a910b1-e3fd-4ad8-b685-d3b0afb567b0",
        "colab": {
          "base_uri": "https://localhost:8080/"
        }
      },
      "outputs": [
        {
          "output_type": "execute_result",
          "data": {
            "text/plain": [
              "[['A0', 'B0', 'C0', 'D0', 'E0', 'F0', 'G0', 'H0', 'I0'],\n",
              " ['A1', 'B1', 'C1', 'D1', 'E1', 'F1', 'G1', 'H1', 'I1'],\n",
              " ['A2', 'B2', 'C2', 'D2', 'E2', 'F2', 'G2', 'H2', 'I2'],\n",
              " ['A3', 'B3', 'C3', 'D3', 'E3', 'F3', 'G3', 'H3', 'I3'],\n",
              " ['A4', 'B4', 'C4', 'D4', 'E4', 'F4', 'G4', 'H4', 'I4'],\n",
              " ['A5', 'B5', 'C5', 'D5', 'E5', 'F5', 'G5', 'H5', 'I5'],\n",
              " ['A6', 'B6', 'C6', 'D6', 'E6', 'F6', 'G6', 'H6', 'I6'],\n",
              " ['A7', 'B7', 'C7', 'D7', 'E7', 'F7', 'G7', 'H7', 'I7'],\n",
              " ['A8', 'B8', 'C8', 'D8', 'E8', 'F8', 'G8', 'H8', 'I8']]"
            ]
          },
          "metadata": {},
          "execution_count": 47
        }
      ],
      "source": [
        "grid = [[f\"{col}{row}\" for col in \"ABCDEFGHI\"] for row in range(9)]\n",
        "grid"
      ]
    },
    {
      "cell_type": "code",
      "execution_count": 48,
      "metadata": {
        "id": "AX-SnxT7xsrh"
      },
      "outputs": [],
      "source": [
        "import uuid\n",
        "\n",
        "class HTMLGrid:\n",
        "    css = \"\"\"\n",
        "        .sudoku-board, .sudoku-board .box, .sudoku-board .box div {\n",
        "            box-sizing: border-box;\n",
        "        }\n",
        "\n",
        "        .sudoku-board, .sudoku-board .box{\n",
        "            display: flex;\n",
        "            flex-wrap: wrap;\n",
        "        }\n",
        "\n",
        "        .sudoku-board .box {\n",
        "           border: solid 1px;\n",
        "           width: 152px;\n",
        "        }\n",
        "\n",
        "        .sudoku-board .box > div {\n",
        "            border: solid 1px;\n",
        "            width: 50px;\n",
        "            text-align: center;\n",
        "        }\n",
        "\n",
        "        .sudoku-board .box > div:before {\n",
        "            display: inline-block;\n",
        "            padding-top: 100%;\n",
        "            content: '';\n",
        "            vertical-align: middle;\n",
        "        }\n",
        "\n",
        "        .sudoku-board .box .clue {\n",
        "            background-color: LightGray;\n",
        "            font-weight: bold;\n",
        "        }\n",
        "\n",
        "        .sudoku-board {\n",
        "            width: 460px;\n",
        "            margin: 0px;\n",
        "            font-size: calc(0.8vw + 10px);\n",
        "            border: solid 2px;\n",
        "        }\n",
        "\n",
        "        .sudoku-board .box div {\n",
        "            color: gray;\n",
        "            text-shadow: 1px 1px 1px white;\n",
        "            vertical-align: middle;\n",
        "        }\n",
        "    \"\"\"\n",
        "\n",
        "    def __init__(self, transform=None):\n",
        "        self.transform = self._transform if transform is None else transform\n",
        "\n",
        "    @staticmethod\n",
        "    def _transform(val):\n",
        "        if isinstance(val, str):\n",
        "            return \"\", val\n",
        "        if val < 0:\n",
        "            return 'class=\"solved\"', -val\n",
        "        elif val == 0:\n",
        "            return \"\", \"\"\n",
        "        else:\n",
        "            return 'class=\"clue\"', val\n",
        "\n",
        "    def box(self, content):\n",
        "        inner = \"\".join(f\"<div {div_class}>{val}</div>\" for div_class, val in content)\n",
        "        return f'<div class=\"box\">{inner}</div>\\n'\n",
        "\n",
        "    def board(self, boxes):\n",
        "        inner = \"\".join(self.box(box) for box in boxes)\n",
        "        return f'<div class=\"sudoku-board\">\\n{inner}</div>\\n'\n",
        "\n",
        "    def __call__(self, grid, title=\"\"):\n",
        "        boxes = [[0]*9 for _ in range(9)]\n",
        "        for i, line in enumerate(grid):\n",
        "          a, ra = divmod(i, 3)\n",
        "          for j, val in enumerate(line):\n",
        "            b, rb = divmod(j, 3)\n",
        "            boxes[a*3+b][ra*3+rb] = self.transform(val)\n",
        "        header = f\"<h3>{title}</h3>\" if title else \"\"\n",
        "        html = f\"<html>\\n<head>\\n<style>\\n{self.css}\\n</style>\\n</head>\\n<body>\\n{header}\\n{self.board(boxes)}</body></html>\"\n",
        "        html = html.replace('sudoku-board', f'sudoku-board-{uuid.uuid1()!s}')\n",
        "        return html\n"
      ]
    },
    {
      "cell_type": "markdown",
      "metadata": {
        "id": "WWKjoTCUxsrh"
      },
      "source": [
        "Ellenőrzés EXCEL oszlop-sor jelöléssel"
      ]
    },
    {
      "cell_type": "code",
      "execution_count": 49,
      "metadata": {
        "id": "4bGf1GXGxsri"
      },
      "outputs": [],
      "source": [
        "from IPython.display import display_html"
      ]
    },
    {
      "cell_type": "code",
      "execution_count": 50,
      "metadata": {
        "id": "lAsOqMiixsrj",
        "outputId": "6c82617a-0e94-4fcc-a8b2-4a93384150fe",
        "colab": {
          "base_uri": "https://localhost:8080/"
        }
      },
      "outputs": [
        {
          "output_type": "stream",
          "name": "stdout",
          "text": [
            "<html>\n",
            "<head>\n",
            "<style>\n",
            "\n",
            "        .sudoku-board-3b813ece-acca-11ef-bf0c-0242ac1c000c, .sudoku-board-3b813ece-acca-11ef-bf0c-0242ac1c000c .box, .sudoku-board-3b813ece-acca-11ef-bf0c-0242ac1c000c .box div {\n",
            "            box-sizing: border-box;\n",
            "        }\n",
            "\n",
            "        .sudoku-board-3b813ece-acca-11ef-bf0c-0242ac1c000c, .sudoku-board-3b813ece-acca-11ef-bf0c-0242ac1c000c .box{\n",
            "            display: flex;\n",
            "            flex-wrap: wrap;\n",
            "        }\n",
            "\n",
            "        .sudoku-board-3b813ece-acca-11ef-bf0c-0242ac1c000c .box {\n",
            "           border: solid 1px;\n",
            "           width: 152px;\n",
            "        }\n",
            "\n",
            "        .sudoku-board-3b813ece-acca-11ef-bf0c-0242ac1c000c .box > div {\n",
            "            border: solid 1px;\n",
            "            width: 50px;\n",
            "            text-align: center;\n",
            "        }\n",
            "\n",
            "        .sudoku-board-3b813ece-acca-11ef-bf0c-0242ac1c000c .box > div:before {\n",
            "            display: inline-block;\n",
            "            padding-top: 100%;\n",
            "            content: '';\n",
            "            vertical-align: middle;\n",
            "        }\n",
            "\n",
            "        .sudoku-board-3b813ece-acca-11ef-bf0c-0242ac1c000c .box .clue {\n",
            "            background-color: LightGray;\n",
            "            font-weight: bold;\n",
            "        }\n",
            "\n",
            "        .sudoku-board-3b813ece-acca-11ef-bf0c-0242ac1c000c {\n",
            "            width: 460px;\n",
            "            margin: 0px;\n",
            "            font-size: calc(0.8vw + 10px);\n",
            "            border: solid 2px;\n",
            "        }\n",
            "\n",
            "        .sudoku-board-3b813ece-acca-11ef-bf0c-0242ac1c000c .box div {\n",
            "            color: gray;\n",
            "            text-shadow: 1px 1px 1px white;\n",
            "            vertical-align: middle;\n",
            "        }\n",
            "    \n",
            "</style>\n",
            "</head>\n",
            "<body>\n",
            "<h3>Grid</h3>\n",
            "<div class=\"sudoku-board-3b813ece-acca-11ef-bf0c-0242ac1c000c\">\n",
            "<div class=\"box\"><div >A0</div><div >B0</div><div >C0</div><div >A1</div><div >B1</div><div >C1</div><div >A2</div><div >B2</div><div >C2</div></div>\n",
            "<div class=\"box\"><div >D0</div><div >E0</div><div >F0</div><div >D1</div><div >E1</div><div >F1</div><div >D2</div><div >E2</div><div >F2</div></div>\n",
            "<div class=\"box\"><div >G0</div><div >H0</div><div >I0</div><div >G1</div><div >H1</div><div >I1</div><div >G2</div><div >H2</div><div >I2</div></div>\n",
            "<div class=\"box\"><div >A3</div><div >B3</div><div >C3</div><div >A4</div><div >B4</div><div >C4</div><div >A5</div><div >B5</div><div >C5</div></div>\n",
            "<div class=\"box\"><div >D3</div><div >E3</div><div >F3</div><div >D4</div><div >E4</div><div >F4</div><div >D5</div><div >E5</div><div >F5</div></div>\n",
            "<div class=\"box\"><div >G3</div><div >H3</div><div >I3</div><div >G4</div><div >H4</div><div >I4</div><div >G5</div><div >H5</div><div >I5</div></div>\n",
            "<div class=\"box\"><div >A6</div><div >B6</div><div >C6</div><div >A7</div><div >B7</div><div >C7</div><div >A8</div><div >B8</div><div >C8</div></div>\n",
            "<div class=\"box\"><div >D6</div><div >E6</div><div >F6</div><div >D7</div><div >E7</div><div >F7</div><div >D8</div><div >E8</div><div >F8</div></div>\n",
            "<div class=\"box\"><div >G6</div><div >H6</div><div >I6</div><div >G7</div><div >H7</div><div >I7</div><div >G8</div><div >H8</div><div >I8</div></div>\n",
            "</div>\n",
            "</body></html>\n"
          ]
        }
      ],
      "source": [
        "html_grid = HTMLGrid()\n",
        "grid = [[f'{j}{i}' for j in \"ABCDEFGHI\"] for i in range(9)]\n",
        "html = html_grid(grid, \"Grid\")\n",
        "print(html)\n"
      ]
    },
    {
      "cell_type": "code",
      "execution_count": 51,
      "metadata": {
        "id": "tYsAVZ_2xsrj",
        "outputId": "ff386e5c-add7-4275-acb7-4ba068f835da",
        "colab": {
          "base_uri": "https://localhost:8080/",
          "height": 518
        }
      },
      "outputs": [
        {
          "output_type": "display_data",
          "data": {
            "text/html": [
              "<html>\n",
              "<head>\n",
              "<style>\n",
              "\n",
              "        .sudoku-board-3b813ece-acca-11ef-bf0c-0242ac1c000c, .sudoku-board-3b813ece-acca-11ef-bf0c-0242ac1c000c .box, .sudoku-board-3b813ece-acca-11ef-bf0c-0242ac1c000c .box div {\n",
              "            box-sizing: border-box;\n",
              "        }\n",
              "\n",
              "        .sudoku-board-3b813ece-acca-11ef-bf0c-0242ac1c000c, .sudoku-board-3b813ece-acca-11ef-bf0c-0242ac1c000c .box{\n",
              "            display: flex;\n",
              "            flex-wrap: wrap;\n",
              "        }\n",
              "\n",
              "        .sudoku-board-3b813ece-acca-11ef-bf0c-0242ac1c000c .box {\n",
              "           border: solid 1px;\n",
              "           width: 152px;\n",
              "        }\n",
              "\n",
              "        .sudoku-board-3b813ece-acca-11ef-bf0c-0242ac1c000c .box > div {\n",
              "            border: solid 1px;\n",
              "            width: 50px;\n",
              "            text-align: center;\n",
              "        }\n",
              "\n",
              "        .sudoku-board-3b813ece-acca-11ef-bf0c-0242ac1c000c .box > div:before {\n",
              "            display: inline-block;\n",
              "            padding-top: 100%;\n",
              "            content: '';\n",
              "            vertical-align: middle;\n",
              "        }\n",
              "\n",
              "        .sudoku-board-3b813ece-acca-11ef-bf0c-0242ac1c000c .box .clue {\n",
              "            background-color: LightGray;\n",
              "            font-weight: bold;\n",
              "        }\n",
              "\n",
              "        .sudoku-board-3b813ece-acca-11ef-bf0c-0242ac1c000c {\n",
              "            width: 460px;\n",
              "            margin: 0px;\n",
              "            font-size: calc(0.8vw + 10px);\n",
              "            border: solid 2px;\n",
              "        }\n",
              "\n",
              "        .sudoku-board-3b813ece-acca-11ef-bf0c-0242ac1c000c .box div {\n",
              "            color: gray;\n",
              "            text-shadow: 1px 1px 1px white;\n",
              "            vertical-align: middle;\n",
              "        }\n",
              "    \n",
              "</style>\n",
              "</head>\n",
              "<body>\n",
              "<h3>Grid</h3>\n",
              "<div class=\"sudoku-board-3b813ece-acca-11ef-bf0c-0242ac1c000c\">\n",
              "<div class=\"box\"><div >A0</div><div >B0</div><div >C0</div><div >A1</div><div >B1</div><div >C1</div><div >A2</div><div >B2</div><div >C2</div></div>\n",
              "<div class=\"box\"><div >D0</div><div >E0</div><div >F0</div><div >D1</div><div >E1</div><div >F1</div><div >D2</div><div >E2</div><div >F2</div></div>\n",
              "<div class=\"box\"><div >G0</div><div >H0</div><div >I0</div><div >G1</div><div >H1</div><div >I1</div><div >G2</div><div >H2</div><div >I2</div></div>\n",
              "<div class=\"box\"><div >A3</div><div >B3</div><div >C3</div><div >A4</div><div >B4</div><div >C4</div><div >A5</div><div >B5</div><div >C5</div></div>\n",
              "<div class=\"box\"><div >D3</div><div >E3</div><div >F3</div><div >D4</div><div >E4</div><div >F4</div><div >D5</div><div >E5</div><div >F5</div></div>\n",
              "<div class=\"box\"><div >G3</div><div >H3</div><div >I3</div><div >G4</div><div >H4</div><div >I4</div><div >G5</div><div >H5</div><div >I5</div></div>\n",
              "<div class=\"box\"><div >A6</div><div >B6</div><div >C6</div><div >A7</div><div >B7</div><div >C7</div><div >A8</div><div >B8</div><div >C8</div></div>\n",
              "<div class=\"box\"><div >D6</div><div >E6</div><div >F6</div><div >D7</div><div >E7</div><div >F7</div><div >D8</div><div >E8</div><div >F8</div></div>\n",
              "<div class=\"box\"><div >G6</div><div >H6</div><div >I6</div><div >G7</div><div >H7</div><div >I7</div><div >G8</div><div >H8</div><div >I8</div></div>\n",
              "</div>\n",
              "</body></html>"
            ]
          },
          "metadata": {}
        }
      ],
      "source": [
        "\n",
        "display_html(html, raw=True)\n"
      ]
    },
    {
      "cell_type": "code",
      "execution_count": 52,
      "metadata": {
        "id": "7ucwTR_Gxsrk",
        "outputId": "7b79e3dd-a8d3-4ad4-b179-8425593c673c",
        "colab": {
          "base_uri": "https://localhost:8080/",
          "height": 518
        }
      },
      "outputs": [
        {
          "output_type": "display_data",
          "data": {
            "text/html": [
              "<html>\n",
              "<head>\n",
              "<style>\n",
              "\n",
              "        .sudoku-board-46f8b408-acca-11ef-bf0c-0242ac1c000c, .sudoku-board-46f8b408-acca-11ef-bf0c-0242ac1c000c .box, .sudoku-board-46f8b408-acca-11ef-bf0c-0242ac1c000c .box div {\n",
              "            box-sizing: border-box;\n",
              "        }\n",
              "\n",
              "        .sudoku-board-46f8b408-acca-11ef-bf0c-0242ac1c000c, .sudoku-board-46f8b408-acca-11ef-bf0c-0242ac1c000c .box{\n",
              "            display: flex;\n",
              "            flex-wrap: wrap;\n",
              "        }\n",
              "\n",
              "        .sudoku-board-46f8b408-acca-11ef-bf0c-0242ac1c000c .box {\n",
              "           border: solid 1px;\n",
              "           width: 152px;\n",
              "        }\n",
              "\n",
              "        .sudoku-board-46f8b408-acca-11ef-bf0c-0242ac1c000c .box > div {\n",
              "            border: solid 1px;\n",
              "            width: 50px;\n",
              "            text-align: center;\n",
              "        }\n",
              "\n",
              "        .sudoku-board-46f8b408-acca-11ef-bf0c-0242ac1c000c .box > div:before {\n",
              "            display: inline-block;\n",
              "            padding-top: 100%;\n",
              "            content: '';\n",
              "            vertical-align: middle;\n",
              "        }\n",
              "\n",
              "        .sudoku-board-46f8b408-acca-11ef-bf0c-0242ac1c000c .box .clue {\n",
              "            background-color: LightGray;\n",
              "            font-weight: bold;\n",
              "        }\n",
              "\n",
              "        .sudoku-board-46f8b408-acca-11ef-bf0c-0242ac1c000c {\n",
              "            width: 460px;\n",
              "            margin: 0px;\n",
              "            font-size: calc(0.8vw + 10px);\n",
              "            border: solid 2px;\n",
              "        }\n",
              "\n",
              "        .sudoku-board-46f8b408-acca-11ef-bf0c-0242ac1c000c .box div {\n",
              "            color: gray;\n",
              "            text-shadow: 1px 1px 1px white;\n",
              "            vertical-align: middle;\n",
              "        }\n",
              "    \n",
              "</style>\n",
              "</head>\n",
              "<body>\n",
              "<h3>Hard problem</h3>\n",
              "<div class=\"sudoku-board-46f8b408-acca-11ef-bf0c-0242ac1c000c\">\n",
              "<div class=\"box\"><div ></div><div class=\"clue\">2</div><div ></div><div ></div><div ></div><div ></div><div ></div><div class=\"clue\">7</div><div class=\"clue\">4</div></div>\n",
              "<div class=\"box\"><div ></div><div ></div><div ></div><div class=\"clue\">6</div><div ></div><div ></div><div ></div><div class=\"clue\">8</div><div ></div></div>\n",
              "<div class=\"box\"><div ></div><div ></div><div ></div><div ></div><div ></div><div class=\"clue\">3</div><div ></div><div ></div><div ></div></div>\n",
              "<div class=\"box\"><div ></div><div ></div><div ></div><div ></div><div class=\"clue\">8</div><div ></div><div class=\"clue\">6</div><div ></div><div ></div></div>\n",
              "<div class=\"box\"><div ></div><div ></div><div class=\"clue\">3</div><div ></div><div class=\"clue\">4</div><div ></div><div class=\"clue\">5</div><div ></div><div ></div></div>\n",
              "<div class=\"box\"><div ></div><div ></div><div class=\"clue\">2</div><div ></div><div class=\"clue\">1</div><div ></div><div ></div><div ></div><div ></div></div>\n",
              "<div class=\"box\"><div ></div><div ></div><div ></div><div class=\"clue\">5</div><div ></div><div ></div><div ></div><div ></div><div ></div></div>\n",
              "<div class=\"box\"><div ></div><div class=\"clue\">1</div><div ></div><div ></div><div ></div><div class=\"clue\">9</div><div ></div><div ></div><div ></div></div>\n",
              "<div class=\"box\"><div class=\"clue\">7</div><div class=\"clue\">8</div><div ></div><div ></div><div ></div><div ></div><div ></div><div class=\"clue\">4</div><div ></div></div>\n",
              "</div>\n",
              "</body></html>"
            ]
          },
          "metadata": {}
        }
      ],
      "source": [
        "\n",
        "grid=[\n",
        "    [0, 2, 0, 0, 0, 0, 0, 0, 0],\n",
        "    [0, 0, 0, 6, 0, 0, 0, 0, 3],\n",
        "    [0, 7, 4, 0, 8, 0, 0, 0, 0],\n",
        "    [0, 0, 0, 0, 0, 3, 0, 0, 2],\n",
        "    [0, 8, 0, 0, 4, 0, 0, 1, 0],\n",
        "    [6, 0, 0, 5, 0, 0, 0, 0, 0],\n",
        "    [0, 0, 0, 0, 1, 0, 7, 8, 0],\n",
        "    [5, 0, 0, 0, 0, 9, 0, 0, 0],\n",
        "    [0, 0, 0, 0, 0, 0, 0, 4, 0]\n",
        "    ]\n",
        "\n",
        "html = html_grid(grid, \"Hard problem\")\n",
        "# print(html)\n",
        "display_html(html, raw=True)\n"
      ]
    },
    {
      "cell_type": "code",
      "execution_count": 57,
      "metadata": {
        "id": "YYcrBRujxsrk"
      },
      "outputs": [],
      "source": [
        "\n",
        "from IPython.core.pylabtools import print_figure\n",
        "import matplotlib.pyplot as plt\n",
        "from IPython.display import Image, SVG"
      ]
    },
    {
      "cell_type": "code",
      "execution_count": 55,
      "metadata": {
        "id": "zzcYVKQ_xsrl"
      },
      "outputs": [],
      "source": [
        "\n",
        "\n",
        "def figure_data(grid, title=\"\", format=\"svg\"):\n",
        "    size = len(grid)\n",
        "    fig = plt.figure(\n",
        "        figsize=(4, 4),\n",
        "        layout=\"compressed\",\n",
        "        )\n",
        "\n",
        "    ax = fig.add_subplot(\n",
        "        1, 1, 1,\n",
        "        aspect=\"equal\",\n",
        "        xmargin=0.01,\n",
        "        ymargin=0.01\n",
        "    )\n",
        "\n",
        "    ax.axis(\"off\")\n",
        "    ax.set_title(title, loc=\"left\", fontdict={\"weight\": \"bold\"})\n",
        "\n",
        "    for x, row in enumerate(reversed(grid)):\n",
        "        for y, value in enumerate(row):\n",
        "            ax.text(\n",
        "                y+0.5, x+0.5,\n",
        "                value,\n",
        "                ha='center',\n",
        "                va='center',\n",
        "                fontsize=12,\n",
        "                color=\"gray\"\n",
        "            )\n",
        "\n",
        "    for x in range(size+1):\n",
        "        linewidth = 1\n",
        "        if x % 3 == 0:\n",
        "            linewidth = 2\n",
        "        ax.plot((0, size), (x, x), color=\"black\", linewidth=linewidth)\n",
        "        ax.plot((x, x), (0, size), color=\"black\", linewidth=linewidth)\n",
        "\n",
        "    data = print_figure(fig, format)\n",
        "    plt.close(fig)\n",
        "    return data\n"
      ]
    },
    {
      "cell_type": "code",
      "source": [
        "print(figure_data(grid, \"Sudoku grid\", \"png\"))"
      ],
      "metadata": {
        "id": "So3HsfJu_HCM",
        "outputId": "a5c74544-4406-4e78-9a0a-41b84315e739",
        "colab": {
          "base_uri": "https://localhost:8080/"
        }
      },
      "execution_count": 58,
      "outputs": [
        {
          "output_type": "stream",
          "name": "stdout",
          "text": [
            "b'\\x89PNG\\r\\n\\x1a\\n\\x00\\x00\\x00\\rIHDR\\x00\\x00\\x01\\x85\\x00\\x00\\x01\\x9b\\x08\\x06\\x00\\x00\\x00+\\xff\\x8c\\xa3\\x00\\x00\\x009tEXtSoftware\\x00Matplotlib version3.8.0, https://matplotlib.org/5\\xb1\\xb5\\xab\\x00\\x00\\x00\\tpHYs\\x00\\x00\\x0fa\\x00\\x00\\x0fa\\x01\\xa8?\\xa7i\\x00\\x00;\\xdfIDATx\\x9c\\xed\\xdd\\x7fTT\\xf7\\x9d\\xff\\xf1\\xd7\\x0c\\xc3\\xa0\\x08\\x8eB\\x98Q\\x07\\x82\\x15\\x7f\\r\\x8a\\x06\\xa7\\x01c\\x8c\\x11\\x89\\x93\\xe14k\\xcav\\x13\\x8f\\xd1\\x04\\x1b\\xb7=\\xa7\\xe9f\\x8f\\xd9\\x9en\\xcf\\xd9\\x93m\\xb2\\xdd\\x7fv\\xf7\\x9b\\xed\\x9el7\\xdd\\xedn\\xbb\\xa6g\\x8dI\\xb7I\\x1b\\x93\\xb6zB\\xf8\\x11\\xcd\\x0f\\xd6\\x00\\xe1W h\\x93(\\x05% \\x06\\x1cq\\x98a\\x98\\xfb\\xfd\\xc33\\x1f\\x9d\\x0c\\x1ag\\x06\\xf9\\xbci^\\x8fs<\\xe0\\x9d\\x19x\\xfa\\xb9\\to\\xee\\\\\\x98k2\\x0c\\xc3\\x00\\x11\\x11\\x11\\x00\\xb3\\xee\\x00\"\"\\x92\\x83C\\x81\\x88\\x88\\x14\\x0e\\x05\"\"R8\\x14\\x88\\x88H\\xe1P \"\"\\x85C\\x81\\x88\\x88\\x14\\x0e\\x05\"\"R8\\x14\\x88\\x88H\\xe1P \"\"eF\\x0c\\x85\\xdd\\xbbw\\xc3d2\\xc1d2\\xa1\\xbe\\xbe>\\xa1\\x8f\\xf1\\xe4\\x93O\\xaa\\x8f\\xf1\\xec\\xb3\\xcfNi\\xdftY\\xbcx\\xb1\\xfa7\\\\\\x8f\\xc8}\\x17/^|c\\xc3\\x88\\xe8\\x8fF\\xdcC\\xa1\\xb7\\xb7\\x17\\xdf\\xf8\\xc67\\xb0x\\xf1bX\\xadV\\xd8l6,]\\xba\\x14\\x7f\\xf2\\'\\x7f\\x82\\x1f\\xfc\\xe0\\x077\\xa2\\x91\\x88\\x88\\xa6\\x89%\\x9e;\\xf7\\xf7\\xf7\\xa3\\xa4\\xa4\\x04g\\xce\\x9cQ\\xdb\\xc6\\xc7\\xc7q\\xfe\\xfcy|\\xf8\\xe1\\x878t\\xe8\\x10\\xbe\\xff\\xfd\\xefOy$]\\xf2\\xe2\\x8b/bllLw\\x06\\x11\\xfd\\x11\\x8bk(\\xfc\\xe8G?R\\x03\\xa1\\xbc\\xbc\\x1c\\xdf\\xfe\\xf6\\xb7\\x91\\x91\\x91\\x81\\x93\\'O\\xe2\\xd8\\xb1cx\\xf9\\xe5\\x97oD\\xe3\\x17\\xde\\xe8\\xe8(\\xe6\\xcc\\x99\\x83/\\x7f\\xf9\\xcb\\xbaS\\x88\\xe8\\x8f\\\\\\\\O\\x1f577\\xab\\xf7\\xff\\xe5_\\xfe\\x05\\x95\\x95\\x95\\xd8\\xbau+\\xbe\\xf1\\x8do\\xe0\\xbf\\xfe\\xeb\\xbfp\\xea\\xd4\\xa9\\xa8\\xfbo\\xde\\xbcY=\\xaf}\\xf2\\xe4I\\xb5\\xfdZ\\xcf\\xef\\xff\\xdb\\xbf\\xfd\\x1b\\n\\n\\n0{\\xf6l\\x94\\x94\\x94\\xa0\\xb6\\xb6\\xf6\\x9aM\\xb5\\xb5\\xb5\\xf8\\xcaW\\xbe\\x82\\x9bn\\xba\\tV\\xab\\x15yyy\\xd8\\xbd{7N\\x9c8\\xf1\\xb9\\xff\\x9e\\xf1\\xf1qTTT\\xa8\\x96o~\\xf3\\x9b0\\x0c\\xe3\\xaa\\xe70\\x9e}\\xf6Y\\xb5\\xfd\\xc9\\'\\x9f\\xfc\\xdc\\x8f\\x1f\\x0e\\x87\\xf1\\x83\\x1f\\xfc\\x00\\xb9\\xb9\\xb9HOOGYY\\x19ZZZ&]\\x97\\x93\\'O\\xaam\\x9b7o\\xc6\\x91#Gp\\xdbm\\xb7a\\xf6\\xec\\xd9\\xf8\\xf6\\xb7\\xbf\\r\\xe0\\xea\\xe7\\x14\\xce\\x9e=\\x8b\\x87\\x1ez\\x086\\x9b\\r\\xf3\\xe6\\xcd\\xc3C\\x0f=\\x84\\xb3g\\xcf~n\\x1f\\x11\\xd1g\\xc5u\\xa4\\x90\\x99\\x99\\xa9\\xde\\x7f\\xfc\\xf1\\xc7\\xf1\\xdd\\xef~\\x17%%%\\xb0Z\\xad\\x00\\x80\\xf4\\xf4\\xf4\\xa4b\\x9ez\\xea)|\\xf7\\xbb\\xdfU\\x7f\\x7f\\xf7\\xddw\\xe1\\xf5z\\xb1t\\xe9\\xd2I\\xef\\xff\\xe3\\x1f\\xff\\x18\\x7f\\xf1\\x17\\x7f\\x81+_\\xfd\\xbb\\xb7\\xb7\\x17?\\xff\\xf9\\xcf\\xf1\\xab_\\xfd\\n555\\xb8\\xf5\\xd6[\\'}\\xaca\\x18\\xf8\\xfa\\xd7\\xbf\\x8e\\xc3\\x87\\x0f\\x03\\x00\\x1e|\\xf0A\\xfc\\xc7\\x7f\\xfc\\xc7u\\x9f\\xc4\\xbd\\x1e\\x8f=\\xf6\\x18\\xfe\\xf5_\\xffU\\xfd\\xbd\\xbe\\xbe\\x1e\\x9b7o\\xc6\\xfc\\xf9\\xf3\\xaf\\xf9\\xb8\\x13\\'N\\xe0\\xee\\xbb\\xef\\xbe\\xae\\xa7\\x8a\\x82\\xc1 <\\x1e\\x0f\\xde{\\xef=\\xb5\\xed\\x7f\\xfe\\xe7\\x7f\\xd0\\xda\\xda\\x9ax8\\x11}a\\xc5u\\xa4p\\xd7]w\\xa9\\xf7_y\\xe5\\x15\\xdcq\\xc7\\x1d\\xc8\\xcc\\xcc\\xc4\\xc6\\x8d\\x1b\\xf1\\xcf\\xff\\xfc\\xcf\\x18\\x1d\\x1dM8\\xe4\\xd3O?\\x8d:\\x1f\\xf1\\xe8\\xa3\\x8f\\xe2\\xb7\\xbf\\xfd-\\xb6o\\xdf\\x8e\\xae\\xae\\xae\\x98\\xfb\\xff\\xe1\\x0f\\x7f\\xc0c\\x8f=\\x06\\xc30`6\\x9b\\xf1\\xf8\\xe3\\x8f\\xe3\\xb7\\xbf\\xfd-\\xee\\xbb\\xef>\\x00\\x80\\xcf\\xe7\\xc3\\xee\\xdd\\xbbq\\xb5\\xcbE\\xfc\\xd5_\\xfd\\x15\\x9e{\\xee9\\x00\\xc0}\\xf7\\xdd\\x87}\\xfb\\xf6\\xc1l\\x9e\\xba\\x1f\\xc6\\xea\\xee\\xee\\xc6\\x8f~\\xf4#\\x00\\x80\\xd9l\\xc6\\xf7\\xbf\\xff}\\xbc\\xfa\\xea\\xab())\\x89:j\\x9a\\xcc\\xe9\\xd3\\xa7\\x91\\x9b\\x9b\\x8b\\xfd\\xfb\\xf7\\xe3w\\xbf\\xfb\\x1d\\xbe\\xfa\\xd5\\xaf^\\xf5\\xbe\\xfb\\xf6\\xedS\\x03!;;\\x1b\\xff\\xfd\\xdf\\xff\\x8d_\\xfe\\xf2\\x97\\xb8p\\xe1\\xc2T\\xfdS\\x88\\xe8\\x8b\\xc4\\x88C(\\x142v\\xee\\xdci\\x00\\x98\\xf4OAA\\x81q\\xee\\xdc9u\\xff;\\xef\\xbcS\\xdd\\xf6\\xf1\\xc7\\x1f\\xab\\xedO<\\xf1\\x84\\xda\\xbeo\\xdf>\\xc30\\x0c\\xe3\\x17\\xbf\\xf8\\x85\\xdav\\xeb\\xad\\xb7F}\\xce\\x9bo\\xbeY\\xddVWWg\\x18\\x86a\\xfc\\xf0\\x87?T\\xdb\\xbe\\xf6\\xb5\\xaf\\xa9\\xfb\\x07\\x83Ac\\xc1\\x82\\x05\\xea\\xb6\\xf7\\xde{/\\xe6s~\\xf9\\xcb_V\\xefo\\xdb\\xb6\\xcd\\x08\\x06\\x83Q\\xff\\xce\\xaa\\xaa\\xaa\\x98\\xcfg\\x18\\x86\\xb1o\\xdf>\\xb5\\xfd\\x89\\'\\x9e\\xb8\\xe6Z\\xfd\\xe3?\\xfe\\xe3\\xa4}\\xe7\\xce\\x9d3f\\xcf\\x9e\\x1d\\xb3.\\x1f\\x7f\\xfc\\xb1\\xdaf6\\x9b\\x8d\\x0f>\\xf8 \\xe6c\\xe6\\xe7\\xe7\\xab\\xfbDTTT\\xa8m\\xcf<\\xf3\\x8c\\xda^]]\\xad\\xb6\\xe7\\xe7\\xe7_\\xb3\\x95\\x88(\"\\xaeo\\x8dSRR\\xb0\\x7f\\xff~444\\xe0;\\xdf\\xf9\\x0e\\x8a\\x8b\\x8b\\xa3\\xbe\\xbb\\xfe\\xf0\\xc3\\x0f\\xf1\\xff\\xfe\\xdf\\xff\\x8b\\xe7C*\\x1f}\\xf4\\x91z\\xff\\xca\\xa7|RRR\\xe0v\\xbbc\\xee\\x7f\\xfc\\xf8q\\xf5~ii\\xa9z?55\\x15\\xc5\\xc5\\xc5\\x93\\xde/\\xa2\\xb1\\xb1\\x11\\xc0\\xa5\\xe7\\xe8\\x7f\\xf9\\xcb_\"555\\xa1\\xe6k\\xb9\\xf2\\xdfse\\xdf\\xfc\\xf9\\xf3\\xb1r\\xe5\\xcak>v\\xd9\\xb2eX\\xb1bE\\xdc\\x9f\\xe7\\xcau+))\\xb9\\xdeT\"\"%\\xa1\\xe7KJKK\\xf1\\xd4SO\\xa1\\xb9\\xb9\\x19\\xa7O\\x9f\\xc6\\x9f\\xfe\\xe9\\x9f\\xaa\\xdb\\xae<\\x19}\\xe5\\xf3\\xf3\\x13\\x13\\x13\\xea\\xfdxO\\x82\\xc6\\xfb<\\xff\\xe7\\xdd?%%\\x05\\xc0\\xa5\\x93\\xbbO?\\xfd\\xf45\\x1f\\x9fL\\xf7\\xf5\\xf6|\\x96\\xc3\\xe1H\\xe8\\xf3$\\xf39\\x89\\x88\\x808\\x87\\xc2\\x91#Gb\\x9e\\xabv8\\x1c\\xa8\\xaa\\xaaR\\x7f\\xbf\\xf2\\x8b\\xa8\\xcdfS\\xef\\xf7\\xf7\\xf7\\x03\\xb8\\xf4\\x139\\xd5\\xd5\\xd51\\x1f{\\xc9\\x92%\\xea\\xfd\\xc8w\\xf2\\x91\\x8fw\\xe5\\xdf#\\x96/_\\xae\\xde?v\\xec\\x98z\\x7f||<\\xea\\xa4\\xeb\\x95\\xf7\\x8b\\xf8\\x9b\\xbf\\xf9\\x1b\\xdct\\xd3M\\x00\\x80\\xef}\\xef{x\\xfe\\xf9\\xe7\\xa3n\\x9f\\xac\\x1b\\x80:)}=\\n\\n\\n\\xd4\\xfb\\xef\\xbe\\xfb\\xaez\\xff\\xd3O?\\xc5\\x07\\x1f|p\\xcd\\xc7\\xc6\\xf3\\x05\\xfdj\\xeb\\xf6\\x7f\\xff\\xf7\\x7f\\xd7\\xfd1\\x88\\x88\"\\xe2\\x1a\\n\\xff\\xf9\\x9f\\xff\\x89\\xbc\\xbc<|\\xf3\\x9b\\xdf\\xc4s\\xcf=\\x87\\xba\\xba:\\xbc\\xf0\\xc2\\x0bx\\xfc\\xf1\\xc7\\xd5}\\xae|\\n\\xe3\\xca\\x9f\\x1az\\xf4\\xd1G\\xf1\\xe3\\x1f\\xff\\x18\\xf7\\xdcs\\xcf\\xa4O\\xe9l\\xdd\\xba\\x15\\xb3f\\xcd\\x02p\\xe9\\x8b\\xfc\\xde\\xbd{q\\xe8\\xd0!<\\xfc\\xf0\\xc3\\xe8\\xe9\\xe9\\x89\\xb9\\xff\\x9f\\xfd\\xd9\\x9f\\xa9\\xa7}~\\xf5\\xab_\\xe1\\x89\\'\\x9e\\xc0\\xa1C\\x87\\xf0\\xe0\\x83\\x0f\\xaa\\xdf\\xa5(,,\\xc4\\xda\\xb5kc\\x1e\\xbbd\\xc9\\x12\\xbc\\xfc\\xf2\\xcbHKKS?\\x82ZWW7i\\xf7\\xe3\\x8f?\\x8eg\\x9ey\\x06;w\\xeeDMM\\xcdu\\xaf\\xd5\\xbd\\xf7\\xde\\xab\\xbe\\xb8\\xbf\\xf4\\xd2K\\xf8\\xfb\\xbf\\xff{u\\xe2\\xdc\\xef\\xf7_\\xf7\\xc7\\xf9<\\xdb\\xb6mS\\xef\\x7f\\xff\\xfb\\xdf\\xc7\\xb3\\xcf>\\x8b\\x17_|\\x11\\xdf\\xfa\\xd6\\xb7\\xa6\\xecs\\x10\\xd1\\x17H<\\' \\xaeu\\x92\\x19\\x80\\xb1`\\xc1\\x02\\xe3\\xcc\\x993\\xea\\xfe\\x9d\\x9d\\x9d\\x86\\xd9l\\x8e\\xb9\\xdf\\xca\\x95+cN4\\x1b\\x86a\\xfc\\xc3?\\xfcC\\xcc}\\xcdf\\xb3\\xb1d\\xc9\\x92IO\\xfc>\\xf3\\xcc3\\x86\\xc9d\\x9a\\xb4%33\\xd38v\\xec\\x98\\xba\\xefd\\'\\xb7\\xf7\\xef\\xdf\\xaf\\xb6\\xd9l6\\xa3\\xad\\xad\\xcd0\\x0c\\xc38{\\xf6\\xac\\x91\\x91\\x91\\x11\\xf31].\\xd7u\\x9fh6\\x0c\\xc3\\xf8\\xcb\\xbf\\xfc\\xcb\\x98\\x8f1w\\xee\\xdc\\xa8\\x13\\xc6\\x93\\x9dh\\xbe\\xf3\\xce;\\'\\xfdx\\x93\\x9dh\\x0e\\x04\\x02\\xc6\\xda\\xb5kc>\\xcf\\xb2e\\xcbx\\xa2\\x99\\x88\\xe2\\x16\\xd7\\x91\\xc2\\x13O<\\x81\\x7f\\xfa\\xa7\\x7f\\x82\\xc7\\xe3AAA\\x01\\xe6\\xcc\\x99\\x03\\xab\\xd5\\x8a\\x82\\x82\\x02|\\xeb[\\xdfBcc#\\x16,X\\xa0\\xee\\xefr\\xb9\\xf0\\xdcs\\xcfa\\xe9\\xd2\\xa5\\xb0Z\\xadX\\xbdz5\\xfe\\xf7\\x7f\\xff\\x17\\xdb\\xb7o\\x9f\\xf4\\xe3\\x7f\\xef{\\xdf\\xc3\\xd3O?\\x8d\\xc5\\x8b\\x17#--\\r\\xb7\\xdcr\\x0b\\x0e\\x1e<\\x88;\\xee\\xb8c\\xd2\\xfb?\\xf2\\xc8#\\xa8\\xae\\xaeFEE\\x05\\xb2\\xb2\\xb2`\\xb1X\\xb0h\\xd1\"<\\xf4\\xd0Chjj\\xba\\xea\\xef(D\\xec\\xdc\\xb9S\\xfd\\x18\\xec\\xc8\\xc8\\x08***\\xf0\\x87?\\xfc\\x01\\xd9\\xd9\\xd9x\\xf9\\xe5\\x97\\xb1f\\xcd\\x1a\\xf5\\xef{\\xe6\\x99g\\xf0\\xd7\\x7f\\xfd\\xd7\\xf1,\\x17~\\xf8\\xc3\\x1f\\xe2\\xc9\\'\\x9f\\xc4\\xa2E\\x8b0k\\xd6,\\xdcq\\xc7\\x1d\\xa8\\xab\\xab\\x8b\\xfa=\\x85d\\x7f\\xb7\\xc3j\\xb5\\xa2\\xba\\xba\\x1a;w\\xee\\xc4\\xdc\\xb9s1w\\xee\\\\\\xdc\\x7f\\xff\\xfd\\t\\xbfp \\x11}\\xb1\\x99\\x0c\\xe3*?\\xc8OI3\\x0c#\\xe6\\xfc\\xc0\\xd0\\xd0\\x10n\\xbe\\xf9f\\\\\\xbcx\\x11\\xf3\\xe6\\xcd\\xc3\\xd0\\xd0\\xd0\\x94\\xfe~\\x04\\x11Q2\\xe2\\xfa\\x8df\\x8a\\xcfSO=\\x85s\\xe7\\xce\\xe1\\x9e{\\xee\\xc1\\xcd7\\xdf\\x8cS\\xa7N\\xe1o\\xff\\xf6oq\\xf1\\xe2E\\x00\\x97~i\\x8e\\x03\\x81\\x88$\\xe1\\x91\\xc2\\r\\xf4\\xe4\\x93O\\xe2\\xef\\xfe\\xee\\xef&\\xbd\\xcd\\xe5r\\xe1\\xe8\\xd1\\xa3\\xc8\\xce\\xce\\x9e\\xe6*\"\\xa2\\xab\\xe3\\xb7\\xa97\\xd0\\xe6\\xcd\\x9b\\xf1\\x95\\xaf|\\x05N\\xa7\\x13V\\xab\\x15\\x19\\x19\\x19(..\\xc6\\x0f~\\xf0\\x03\\x1c;v\\x8c\\x03\\x81\\x88\\xc4\\xe1\\x91\\x02\\x11\\x11)<R \"\"\\x85C\\x81\\x88\\x88\\x14\\x0e\\x05\"\"R8\\x14\\x88\\x88H\\xe1P \"\"%\\xa1_^\\x9b3g\\x0e\\xc6\\xc6\\xc6\\x90\\x92\\x92\\x02\\xbb\\xdd>\\xd5MI3\\x0c\\x03\\xa1P\\x08\\x16\\x8bE\\xe4KHK\\xef\\x1b\\x18\\x18\\xc0\\xc4\\xc4\\x84\\xd8\\xfd\\x0b\\xc8_C\\xe9}\\xd2\\xf7\\xb1\\xf4\\xf5\\x93\\xde\\x07\\\\\\xde\\xc7\\xb3f\\xcd\\x8a\\xeb\\xaa\\x98\\t\\xfdHjJJ\\n\\xc2\\xe1p\\xbc\\x0f#\"\\xa2if6\\x9b\\xa3.i\\xf0y\\x12:R\\x88\\x0c\\x05\\xb3\\xd9\\x8c\\x85\\x0b\\x17&\\xf2!n\\xa8\\xf1\\xf1q\\x0c\\x0c\\x0c\\xc0n\\xb7\\xdf\\x90\\xab\\xaa%Kz\\xdf\\x993gD\\xef_@\\xfe\\x1aJ\\xef\\x93\\xbe\\x8f\\xa5\\xaf\\x9f\\xf4>\\xe0\\xf2>\\x8e\\\\T\\xec\\xba%\\xf2\\xd2\\xaaN\\xa7\\xd3\\x00`8\\x9d\\xce\\xa4_\\xa6\\xf5Fhjj2\\x00\\x18MMM\\xbaS&%\\xbdO\\xfa\\xfe5\\x0c\\xf9k(\\xbdO\\xfa>\\x96\\xbe~\\xd2\\xfb\\x0c#\\xf1}\\xcc\\x13\\xcdDD\\xa4p(\\x10\\x11\\x91\\xc2\\xa1@DD\\n\\x87\\x02\\x11\\x11)\\x1c\\nDD\\xa4p(\\x10\\x11\\x91\\xc2\\xa1@DD\\n\\x87\\x02\\x11\\x11)\\x1c\\nDD\\xa4p(\\x10\\x11\\x91\\x92\\xd0k\\x1fM\\x95P(\\x84\\xba\\xba:\\xb4\\xb5\\xb5all\\x0c\\x0e\\x87\\x03eee(((\\xd0\\x99\\x05\\x00\\xe8\\xeb\\xebCkk+N\\x9e<\\x89\\xe1\\xe1a\\xcc\\x9e=\\x1b\\xb9\\xb9\\xb9\\xd8\\xb2e\\x0b\\xb2\\xb3\\xb3u\\xe7\\x01\\x90\\xbd~\\x80\\xfc>@~#\\xfb\\x92\\xc3\\xbe\\xf8i=R8x\\xf0 \\x1a\\x1a\\x1aPTT\\x04\\xaf\\xd7\\x0b\\x93\\xc9\\x84\\x03\\x07\\x0e\\xa0\\xa7\\xa7Gg\\x16\\x00\\xe0\\xad\\xb7\\xdeBWW\\x17\\xbe\\xf4\\xa5/\\xc1\\xeb\\xf5\\xc2\\xedv\\xe3\\xd4\\xa9S\\xf8\\xc9O~\\x82\\x81\\x81\\x01\\xddy\\x00d\\xaf\\x1f \\xbf\\x0f\\x90\\xdf\\xc8\\xbe\\xe4\\xb0/~\\xda\\x86B__\\x1f:::P^^\\x0e\\x8f\\xc7\\x03\\xb7\\xdb\\x8d\\xaa\\xaa*\\xd8l6TWW\\xeb\\xcaRn\\xbb\\xed6\\xec\\xdd\\xbb\\x17\\x15\\x15\\x15X\\xb7n\\x1d6m\\xda\\x84\\xaf\\x7f\\xfd\\xeb\\x08\\x87\\xc3x\\xf3\\xcd7u\\xe7\\x89_?\\xe9}\\x80\\xfcF\\xf6\\xb1O\\x07mC\\xa1\\xb3\\xb3\\x13&\\x93\\tn\\xb7[m\\xb3X,(..Foo/FFFt\\xa5\\x01\\x00\\xf2\\xf2\\xf2b^r6;;\\x1bv\\xbb\\x1dg\\xcf\\x9e\\xd5Tu\\x99\\xf4\\xf5\\x93\\xde\\x07\\xc8od_r\\xd8\\x97\\x18mC\\xa1\\xbf\\xbf\\x1f\\xd9\\xd9\\xd9HKK\\x8b\\xda\\xeet:\\xd5\\xed\\xd2\\x18\\x86\\x81\\x0b\\x17. ==]w\\x8a\\xf8\\xf5\\x93\\xde\\x17i\\x90\\xdc\\xc8\\xbe\\xe4\\xb0/1\\xda\\x86\\x82\\xcf\\xe7Cfff\\xcc\\xf6\\xc86\\x9f\\xcf7\\xddI\\x9f\\xab\\xbd\\xbd\\x1d>\\x9f\\x0f\\xabV\\xad\\xd2\\x9d\"~\\xfd\\xa4\\xf7E\\x1a$7\\xb2/9\\xecK\\x8c\\xb6\\xa1\\x10\\n\\x85&\\xbd\"\\x90\\xc5bQ\\xb7Kr\\xf6\\xecY\\xfc\\xeew\\xbfCnn.\\xd6\\xae]\\xab;G\\xfc\\xfaI\\xef\\x8b4Hnd_r\\xd8\\x97\\x18mC\\xc1b\\xb1Lz\\xdd\\xd0\\xc8BD\\x16F\\x82\\x0b\\x17.\\xe0\\xc0\\x81\\x03HKK\\xc3\\xfd\\xf7\\xdf\\x0f\\xb3Y\\xff\\xafwH_?\\xe9}\\x91\\x06\\xc9\\x8d\\xecK\\x0e\\xfb\\x12\\xa3\\xed\\xab[ff\\xe6\\xa4\\x87G\\x91m\\x93\\x1dV\\xe9066\\x86\\xe7\\x9e{\\x0eccc\\xd8\\xb5k\\x97\\x98.\\xe9\\xeb\\'\\xbd/\\xd2 \\xb9\\x91}\\xc9a_b\\xb4\\r\\x05\\x87\\xc3\\x81\\xa1\\xa1!\\x04\\x02\\x81\\xa8\\xed}}}\\x00\\x80\\x05\\x0b\\x16\\xe8\\xc8\\x8a\\x12\\n\\x85\\xf0\\xfc\\xf3\\xcfchh\\x08;v\\xec@NN\\x8e\\xee$E\\xfa\\xfaI\\xef\\x03\\xe47\\xb2/9\\xecK\\x8c\\xb6\\xa1PXX\\x08\\xc30\\xd0\\xd4\\xd4\\xa4\\xb6\\x85B!\\xb4\\xb4\\xb4\\xc0\\xe9t\\xc2f\\xb3\\xe9J\\x03\\x00\\x84\\xc3a\\xbc\\xf8\\xe2\\x8b\\xe8\\xed\\xed\\xc5}\\xf7\\xdd\\x87\\xbc\\xbc<\\xad=\\x9f%}\\xfd\\xa4\\xf7\\x01\\xf2\\x1b\\xd9\\x97\\x1c\\xf6%F\\xdb\\x93j\\xb9\\xb9\\xb9(,,DMM\\rFGG\\x91\\x95\\x95\\x85\\xd6\\xd6V\\x0c\\x0f\\x0fc\\xdb\\xb6m\\xba\\xb2\\x94\\xd7^{\\r\\xdd\\xdd\\xddX\\xbe|9\\xfc~?\\xda\\xda\\xda\\xa2n_\\xb3f\\x8d\\xa6\\xb2K\\xa4\\xaf\\x9f\\xf4>@~#\\xfb\\xd8\\xa7\\x83\\xd63-\\x95\\x95\\x95\\xa8\\xad\\xadE[[\\x1b\\xfc~?\\x1c\\x0e\\x07v\\xec\\xd8\\x81\\xfc\\xfc|\\x9dY\\x00.\\xff\\x8c\\xf0\\xf1\\xe3\\xc7q\\xfc\\xf8\\xf1\\x98\\xdbu\\x0f\\x05@\\xf6\\xfa\\x01\\xf2\\xfb\\x00\\xf9\\x8d\\xecK\\x0e\\xfb\\xe2\\xa7u(X,\\x16x<\\x1ex<\\x1e\\x9d\\x19\\x93\\xda\\xbd{\\xb7\\xee\\x84\\xcf%y\\xfd\\x00\\xf9}\\x80\\xfcF\\xf6%\\x87}\\xf1\\xd3\\xff\\xb3\\x95DD$\\x06\\x87\\x02\\x11\\x11)\\x1c\\nDD\\xa4p(\\x10\\x11\\x91\\xc2\\xa1@DD\\n\\x87\\x02\\x11\\x11)\\x1c\\nDD\\xa4p(\\x10\\x11\\x91\\xc2\\xa1@DD\\n\\x87\\x02\\x11\\x11)\\x1c\\nDD\\xa4p(\\x10\\x11\\x91\\xc2\\xa1@DDJB\\xaf\\x92\\x1a\\x0e\\x87\\x01\\x00\\xc1`\\x10\\xcd\\xcd\\xcdS\\x1a4\\x15\\xba\\xba\\xba\\xa2\\xdeJ#\\xbd/\\x18\\x0c\\xaa\\xb7\\x12\\xf7/ \\x7f\\r\\xa5\\xf7I\\xdf\\xc7\\xd2\\xd7Oz\\x1f\\x00\\x8c\\x8f\\x8f\\x03\\x00\\x0c\\xc3\\x88\\xebq&#\\xdeG\\x00\\xb0\\xdb\\xed\\x18\\x1c\\x1c\\x8c\\xf7aDD4\\xcd\\xecv;>\\xf9\\xe4\\x93\\xeb\\xbe\\x7fBG\\n\\x16\\xcb\\xa5\\x87\\xe5\\xe4\\xe4\\xe0\\xf0\\xe1\\xc3\\x89|\\x88\\x1b\\xaa\\xab\\xab\\x0b\\xbbv\\xed\\xc2\\xfe\\xfd\\xfb\\xe1r\\xb9t\\xe7\\xc4\\x90\\xde\\xe7\\xf5z188(v\\xff\\x02\\xf2\\xd7Pz\\x9f\\xf4},}\\xfd\\xa4\\xf7\\x01@EE\\x05\\x06\\x06\\x06\\xd4\\xd7\\xeb\\xeb\\x95\\xd0P0\\x9b/\\x9d\\x8a\\xb0Z\\xadX\\xb7n]\"\\x1fbZ\\xb8\\\\.\\xf6%\\xc0j\\xb5\\xaa\\xb7\\x12\\xfb\\xae$u\\r#\\xa4\\xf6\\xcd\\x94},u\\xfd\"$\\xf7\\xa5\\xa6\\xa6\\x02\\x00L&S\\\\\\x8f\\xe3\\x89f\"\"R8\\x14\\x88\\x88H\\xe1P \"\"\\x85C\\x81\\x88\\x88\\x14\\x0e\\x05\"\"R8\\x14\\x88\\x88H\\xe1P \"\"\\x85C\\x81\\x88\\x88\\x14\\x0e\\x05\"\"R\\x12\\xfa\\x8d\\xe6\\xa9\\x12\\n\\x85PWW\\x87\\xb6\\xb66\\x8c\\x8d\\x8d\\xc1\\xe1p\\xa0\\xac\\xac\\x0c\\x05\\x05\\x05:\\xb3\\x14\\xf6%\\xef\\xcc\\x993\\xa8\\xaf\\xafGOO\\x0fB\\xa1\\x10\\xe6\\xcf\\x9f\\x0f\\xb7\\xdb\\x8d\\xd2\\xd2R\\xddi\\x00\\xe4\\xaf!\\xfb\\x92#\\xbdo``\\x00o\\xbc\\xf1\\x06N\\x9f>\\x8d\\x0b\\x17. 55\\x15999\\xd8\\xb0a\\x03V\\xacX\\xa1\\xa5I\\xeb\\x91\\xc2\\xc1\\x83\\x07\\xd1\\xd0\\xd0\\x80\\xa2\\xa2\"x\\xbd^\\x98L&\\x1c8p\\x00===:\\xb3\\x14\\xf6%\\xe7\\xc3\\x0f?\\xc4\\xcf~\\xf63\\x8c\\x8e\\x8eb\\xd3\\xa6M\\xf0z\\xbdX\\xbe|9\\xce\\x9f?\\xaf;M\\x91\\xbe\\x86\\xecK\\x8e\\xf4\\xbe\\x91\\x91\\x11\\x04\\x02\\x01\\xac]\\xbb\\x16^\\xaf\\x17\\x9b6m\\x02\\x00\\xbc\\xf0\\xc2\\x0bhjj\\xd2\\xd2\\xa4m(\\xf4\\xf5\\xf5\\xa1\\xa3\\xa3\\x03\\xe5\\xe5\\xe5\\xf0x<p\\xbb\\xdd\\xa8\\xaa\\xaa\\x82\\xcdfCuu\\xb5\\xae,\\xf6M\\x91@ \\x80_\\xff\\xfa\\xd7X\\xb6l\\x19\\xf6\\xec\\xd9\\x83\\xdbn\\xbb\\rn\\xb7\\x1bw\\xddu\\x17\\xb6n\\xdd\\xaa;\\x0f\\x80\\xfc5d\\xdf\\x1fw\\x1f\\x00,[\\xb6\\x0c\\xbbv\\xed\\xc2\\xe6\\xcd\\x9b\\xe1v\\xbb\\xb1~\\xfdzTUU\\xc1\\xe1p\\xe0\\x9dw\\xde\\xd1\\xd2\\xa4m(tvv\\xc2d2\\xc1\\xedv\\xabm\\x16\\x8b\\x05\\xc5\\xc5\\xc5\\xe8\\xed\\xed\\xc5\\xc8\\xc8\\x88\\xae4\\x00\\xecKV{{;FGG\\xb1e\\xcb\\x16\\x98L&\\x04\\x83\\xc1\\xb8_\\xd7\\xfdF\\x93\\xbe\\x86\\xecK\\x8e\\xf4\\xbe\\xab1\\x9b\\xcd\\xb0\\xd9l\\x18\\x1b\\x1b\\xd3\\xf2\\xf9\\xb5\\x9dS\\xe8\\xef\\xefGvv6\\xd2\\xd2\\xd2\\xa2\\xb6;\\x9dNu\\xbb\\xcdf\\xd3\\x91\\xa6>?\\xfb\\x12\\xf7\\xd1G\\x1f!--\\r>\\x9f\\x0f\\xbf\\xf8\\xc5/044\\x84\\xd4\\xd4T\\xacY\\xb3\\x06^\\xaf7\\xee\\x97\\xf3\\xbd\\x11\\xa4\\xaf!\\xfb\\x92#\\xbd\\xefJ\\xc1`\\x10\\xa1P\\x08ccc\\xe8\\xee\\xee\\xc6\\x89\\x13\\'\\xb0z\\xf5j--\\xda\\xfe\\xcf\\xf4\\xf9|\\xc8\\xcc\\xcc\\x8c\\xd9\\x1e\\xd9\\xe6\\xf3\\xf9\\xa6;)\\n\\xfb\\x92s\\xee\\xdc9\\x84\\xc3a\\xbc\\xf0\\xc2\\x0b(..Fyy9N\\x9e<\\x89c\\xc7\\x8e!\\x10\\x08\\xe0k_\\xfb\\x9a\\xd6>@\\xfe\\x1a\\xb2/9\\xd2\\xfb\\xae\\xf4\\xdak\\xaf\\xa9s\\x08&\\x93\\t.\\x97\\x0b\\x15\\x15\\x15ZZ\\xb4\\r\\x85P(\\x84\\x94\\x94\\x94\\x98\\xed\\x91\\xef C\\xa1\\xd0t\\'Ea_r\\x82\\xc1 \\xc6\\xc7\\xc7\\xe1v\\xbb\\xd5\\x7f\\xdc.\\x97\\x0b\\x13\\x13\\x13hjj\\xc2\\xe6\\xcd\\x9b\\x91\\x9d\\x9d\\xad\\xb5Q\\xfa\\x1a\\xb2/9\\xd2\\xfb\\xae\\xb4~\\xfdz\\x14\\x16\\x16\\xc2\\xe7\\xf3\\xe1\\xfd\\xf7\\xdfG8\\x1c\\xc6\\xc4\\xc4\\x84\\x96\\x16m\\xe7\\x14,\\x16\\xcb\\xa4\\xff\\xe8\\xc8\\x8e\\xd2\\xfd\\xf4\\x02\\xfb\\x92\\x13\\xf9\\xfcEEEQ\\xdb#\\x7f\\xef\\xed\\xed\\x9d\\xf6\\xa6\\xcf\\x9a\\tk\\xc8\\xbe\\xc4I\\xef\\xbb\\xd2M7\\xdd\\x84%K\\x96`\\xed\\xda\\xb5x\\xe0\\x81\\x07\\x10\\x0c\\x06\\xf1\\xfc\\xf3\\xcfk9\\x0f\\xa7m(dffNz\\xf8\\x16\\xd96\\xd9a\\xdftb_r\"\\x9f\\x7f\\xce\\x9c9Q\\xdb#\\x7f\\xf7\\xfb\\xfd\\xd3\\xde\\xf4Y3a\\r\\xd9\\x978\\xe9}\\xd7RXX\\x88\\xd3\\xa7Ochhh\\xda?\\xb7\\xb6\\xa1\\xe0p8044\\x84@ \\x10\\xb5\\xbd\\xaf\\xaf\\x0f\\x00\\xb0`\\xc1\\x02\\x1dY\\n\\xfb\\x92\\xb3p\\xe1B\\x00\\xb1\\xcf\\xdbF\\xfe\\xfe\\xd9a\\xa1\\x83\\xf45d_r\\xa4\\xf7]\\xcb\\xf8\\xf88\\x00\\xc4\\xb4O\\x07mC\\xa1\\xb0\\xb0\\x10\\x86aD\\xfd\\x82F(\\x14BKK\\x0b\\x9cN\\xa7\\xf6\\x9f\\n`_rV\\xadZ\\x05\\x00x\\xef\\xbd\\xf7\\xa2\\xb6777\\xc3l6c\\xf1\\xe2\\xc5\\x1a\\xaa\\xa2I_C\\xf6%Gz\\x1f\\x00\\x8c\\x8e\\x8e\\xc6l\\x9b\\x98\\x98@[[\\x1b,\\x16\\x0brrr\\xa6\\xbdI\\xdb\\x93j\\xb9\\xb9\\xb9(,,DMM\\rFGG\\x91\\x95\\x95\\x85\\xd6\\xd6V\\x0c\\x0f\\x0fc\\xdb\\xb6m\\xba\\xb2\\xd87E\\x16.\\\\\\x88[n\\xb9\\x05---\\x08\\x87\\xc3\\xc8\\xcf\\xcf\\xc7\\xc9\\x93\\'\\xd1\\xd9\\xd9\\x89\\x8d\\x1b7\\x8a8t\\x97\\xbe\\x86\\xec\\xfb\\xe3\\xee\\x03\\x80\\xdf\\xfc\\xe67\\x08\\x04\\x02\\xb8\\xf9\\xe6\\x9b1w\\xee\\\\\\\\\\xb8p\\x01\\xed\\xed\\xed8{\\xf6,<\\x1e\\x0f\\xacV\\xeb\\xb47i=\\xd3RYY\\x89\\xda\\xdaZ\\xb4\\xb5\\xb5\\xc1\\xef\\xf7\\xc3\\xe1p`\\xc7\\x8e\\x1d\\xc8\\xcf\\xcf\\xd7\\x99\\xa5\\xb0/9\\xf7\\xdcs\\x0fl6\\x1bZZZ\\xd0\\xd5\\xd5\\x85y\\xf3\\xe6\\xe1\\xee\\xbb\\xef\\xc6\\xfa\\xf5\\xebu\\xa7)\\xd2\\xd7\\x90}\\xc9\\x91\\xde\\xb7j\\xd5*\\xbc\\xf7\\xde{hll\\x84\\xdf\\xef\\x87\\xd5j\\xc5\\xa2E\\x8bp\\xd7]wi{\\xed#\\xadC\\xc1b\\xb1\\xc0\\xe3\\xf1\\xc0\\xe3\\xf1\\xe8\\xcc\\xb8*\\xf6%\\'%%\\x05\\x9b7o\\xc6\\xe6\\xcd\\x9bu\\xa7\\\\\\x95\\xf45d_r\\xa4\\xf7\\xad^\\xbdZ\\xdb/\\xa9]\\r_:\\x9b\\x88\\x88\\x14\\x0e\\x05\"\"R8\\x14\\x88\\x88H\\xe1P \"\"\\x85C\\x81\\x88\\x88\\x14\\x0e\\x05\"\"R8\\x14\\x88\\x88H\\xe1P \"\"\\x85C\\x81\\x88\\x88\\x14\\x0e\\x05\"\"R8\\x14\\x88\\x88H\\xe1P \"\"\\x85C\\x81\\x88\\x88\\x94\\x84^%5\\x1c\\x0e\\x03\\xb8tq\\xf6\\xe6\\xe6\\xe6)\\r\\x9a\\n]]]Qo\\xa5\\x91\\xde\\x17\\x0c\\x06\\xd5[\\x89\\xfb\\x17\\x90\\xbf\\x86\\xd2\\xfb\\xa4\\xefc\\xe9\\xeb\\'\\xbd\\x0f\\xb8|\\xf5\\xb6x\\xaf\\xf3l2\\x12\\xb82\\xb4\\xddn\\xc7\\xe0\\xe0`\\xbc\\x0f#\"\\xa2if\\xb7\\xdb\\xf1\\xc9\\'\\x9f\\\\\\xf7\\xfd\\x13:R\\xb0X.=,\\'\\'\\x07\\x87\\x0f\\x1fN\\xe4C\\xdcP]]]\\xd8\\xb5k\\x17\\xf6\\xef\\xdf\\x0f\\x97\\xcb\\xa5;\\'\\x86\\xf4>\\xaf\\xd7\\x8b\\xc1\\xc1A\\xb1\\xfb\\x17\\x90\\xbf\\x86\\xd2\\xfb\\xa4\\xefc\\xe9\\xeb\\'\\xbd\\x0f\\x00***000\\xa0\\xbe^_\\xaf\\x84\\x86\\x82\\xd9|\\xe9T\\x84\\xd5j\\xc5\\xbau\\xeb\\x12\\xf9\\x10\\xd3\\xc2\\xe5r\\xb1/\\x01\\x91K\\x00J\\xdf\\xbf\\x80\\xdc5\\x8c\\x90\\xda7S\\xf6\\xb1\\xd4\\xf5\\x8b\\x90\\xdc\\x97\\x9a\\x9a\\n\\x000\\x99Lq=\\x8e\\'\\x9a\\x89\\x88H\\xe1P \"\"\\x85C\\x81\\x88\\x88\\x14\\x0e\\x05\"\"R8\\x14\\x88\\x88H\\xe1P \"\"\\x85C\\x81\\x88\\x88\\x14\\x0e\\x05\"\"R8\\x14\\x88\\x88H\\xe1P \"\"%\\xa1\\x97\\xb9\\x98*\\xa1P\\x08uuuhkk\\xc3\\xd8\\xd8\\x18\\x1c\\x0e\\x07\\xca\\xca\\xcaPPP\\xa03\\x0b\\x00\\xf0\\xf2\\xcb/\\xa3\\xb5\\xb5\\xf5\\xaa\\xb7?\\xf6\\xd8c\\x98;w\\xee4\\x16}\\xbe#G\\x8e\\xa0\\xae\\xae\\x0e999x\\xe4\\x91Gt\\xe7\\x88\\xde\\xbf\\x11CCC\\xa8\\xab\\xabCOO\\x0f\\xfc~?l6\\x1b\\x8a\\x8a\\x8a\\xb0a\\xc3\\x06\\xf52\\x01:I_C\\xf6%Gb\\x9f\\xd6#\\x85\\x83\\x07\\x0f\\xa2\\xa1\\xa1\\x01EEE\\xf0z\\xbd0\\x99L8p\\xe0\\x00zzztf\\x01\\x00\\xdcn7*++\\xa3\\xfe|\\xf5\\xab_Ejj*rrr\\xc4\\r\\x84\\xf3\\xe7\\xcf\\xe3\\xcd7\\xdf\\x14\\xf1\\x85,B\\xf2\\xfe\\x05\\x80\\x91\\x91\\x11\\xfc\\xf4\\xa7?Eoo/JJJ\\xe0\\xf5z\\x91\\x97\\x97\\x87\\xfa\\xfaz\\xbc\\xf4\\xd2K\\xba\\xf3\\x00\\xc8_C\\xf6%Gb\\x9f\\xb6\\xa1\\xd0\\xd7\\xd7\\x87\\x8e\\x8e\\x0e\\x94\\x97\\x97\\xc3\\xe3\\xf1\\xc0\\xedv\\xa3\\xaa\\xaa\\n6\\x9b\\r\\xd5\\xd5\\xd5\\xba\\xb2\\x94\\xbc\\xbc<\\xacY\\xb3&\\xea\\xcf\\xfc\\xf9\\xf31>>\\x8e\\xa2\\xa2\"\\xddy1^{\\xed5\\xe4\\xe6\\xe6b\\xd1\\xa2E\\xbaS\\x00\\xc8\\xdf\\xbf\\x00\\xd4wg\\x0f<\\xf0\\x006n\\xdc\\x08\\xb7\\xdb\\x8d{\\xef\\xbd\\x17k\\xd7\\xaeEww7\\xfc~\\xbf\\xd6>\\xe9k\\xc8\\xbe?\\xce>mC\\xa1\\xb3\\xb3\\x13&\\x93\\tn\\xb7[m\\xb3X,(..Foo/FFFt\\xa5]U{{;\\x00\\x88\\x1b\\n\\xa7N\\x9dBgg\\'\\xee\\xbe\\xfbn\\xdd)\\xcaL\\xd8\\xbf\\x81@\\x00\\x00\\x90\\x91\\x91\\x11\\xb5=##\\x03&\\x93\\t))):\\xb2\\x14\\xe9k\\xc8\\xbe\\xe4H\\xed\\xd36\\x14\\xfa\\xfb\\xfb\\x91\\x9d\\x9d\\x8d\\xb4\\xb4\\xb4\\xa8\\xedN\\xa7S\\xdd.\\xc9\\xc4\\xc4\\x04\\xde\\x7f\\xff}\\xe4\\xe5\\xe5a\\xde\\xbcy\\xbas\\x94p8\\x8cC\\x87\\x0ea\\xdd\\xbaup8\\x1c\\xbas\\x94\\x99\\xb0\\x7f\\x17/^\\x0c\\x00x\\xe5\\x95W\\xd0\\xdf\\xdf\\x8f\\x91\\x91\\x11ttt\\xa0\\xb1\\xb1\\x11%%%\\xea\\xe5\\xa5u\\x91\\xbe\\x86\\xecK\\x8e\\xd4>m\\'\\x9a}>\\x1f233c\\xb6G\\xb6\\xf9|\\xbe\\xe9N\\xba\\xa6\\x0f?\\xfc\\x10~\\xbf_\\xdcQBcc#\\x86\\x87\\x87\\xf1\\xe0\\x83\\x0f\\xeaN\\x892\\x13\\xf6\\xef\\xd2\\xa5KQVV\\x86\\xa3G\\x8f\\xa2\\xbb\\xbb[m\\xbf\\xe3\\x8e;\\xb0e\\xcb\\x16\\x8de\\x97H_C\\xf6%Gj\\x9f\\xb6\\xa1\\x10\\n\\x85&=<\\x8f\\\\%(\\x14\\nMw\\xd25\\xb5\\xb7\\xb7\\xc3l6c\\xd5\\xaaU\\xbaS\\x94\\x8b\\x17/\\xa2\\xbe\\xbe\\x1e\\x9b6m\\xc2\\x9c9st\\xe7D\\x99)\\xfbw\\xde\\xbcy\\xc8\\xcf\\xcf\\x87\\xcb\\xe5Bzz:\\x8e\\x1f?\\x8e\\xa3G\\x8f\"##\\x03%%%Z\\xdb\\xa4\\xaf!\\xfb\\x92#\\xb5O\\xdbP\\xb0X,\\x98\\x98\\x98\\x88\\xd9\\x1eY\\x88x/!w#\\x05\\x83Atwwc\\xe9\\xd2\\xa5HOO\\xd7\\x9d\\xa3\\xd4\\xd6\\xd6b\\xf6\\xec\\xd9(--\\xd5\\x9d\\x12c&\\xec\\xdf\\x8e\\x8e\\x0e\\xbc\\xfa\\xea\\xabx\\xf4\\xd1G\\xd5O\\x93E.\\xad\\xf8\\xfa\\xeb\\xafc\\xf5\\xea\\xd5Z\\xf7\\xb7\\xf45d_r\\xa4\\xf6i;\\xa7\\x90\\x99\\x999\\xe9\\xe1Qd\\xdbd\\x87U\\xba|\\xf0\\xc1\\x07\\xe2~\\xeahhh\\x08\\xcd\\xcd\\xcd())\\x81\\xcf\\xe7\\xc3\\xf0\\xf00\\x86\\x87\\x87\\x11\\n\\x85\\x10\\x0e\\x871<<\\xac\\xf5\\xa7gf\\xc2\\xfe}\\xf7\\xddw\\xb1p\\xe1\\xc2\\x98\\x1f/^\\xbe|9\\xc6\\xc7\\xc7\\xb5?\\xe7,}\\r\\xd9\\x97\\x1c\\xa9}\\xdaF\\xa5\\xc3\\xe1\\xc0\\xc7\\x1f\\x7f\\x8c@ \\x10u\\xa2\\xa5\\xaf\\xaf\\x0f\\x00\\xb0`\\xc1\\x02]i1\\xda\\xdb\\xdba\\xb5Z\\xb1b\\xc5\\n\\xdd)\\x8a\\xcf\\xe7\\x83a\\x188|\\xf8\\xf0\\xa4\\x17^\\x7f\\xfa\\xe9\\xa7QZZ\\n\\xaf\\xd7\\xab\\xa1nf\\xec\\xdf\\xd1\\xd1Q\\xcc\\x9a5+f{8\\x1c\\x8ez\\xab\\x8b\\xf45d_r\\xa4\\xf6i;R(,,\\x84a\\x18hjjR\\xdbB\\xa1\\x10ZZZ\\xe0t:a\\xb3\\xd9t\\xa5E\\x19\\x1d\\x1d\\xc5G\\x1f}\\x84\\x95+W\\x8a\\xfa\\xc50\\xbb\\xdd\\x8e\\xed\\xdb\\xb7\\xc7\\xfc\\xc9\\xc9\\xc9\\x81\\xcdf\\xc3\\xf6\\xed\\xdbQ\\\\\\\\\\xac\\xado&\\xec\\xdf\\xec\\xecl\\xf4\\xf7\\xf7chh(j{GG\\x07L&\\x93\\xf6\\x9f\\xe6\\x92\\xbe\\x86\\xecK\\x8e\\xd4>mG\\n\\xb9\\xb9\\xb9(,,DMM\\rFGG\\x91\\x95\\x95\\x85\\xd6\\xd6V\\x0c\\x0f\\x0fc\\xdb\\xb6m\\xba\\xb2b\\xbc\\xff\\xfe\\xfb\\x08\\x87\\xc3\\xa2\\x9e:\\x02\\x80\\xf4\\xf4t\\xac\\\\\\xb92f{CC\\x03\\x00Lz\\xdbt\\x9a\\t\\xfbw\\xc3\\x86\\r8q\\xe2\\x04\\xf6\\xed\\xdb\\x87[o\\xbdU\\x9dh\\xfe\\xfd\\xef\\x7f\\x8f\\xe2\\xe2b\\xedO/H_C\\xf6\\xfdq\\xf6i=\\xd3RYY\\x89\\xda\\xdaZ\\xb4\\xb5\\xb5\\xc1\\xef\\xf7\\xc3\\xe1p`\\xc7\\x8e\\x1d\\xc8\\xcf\\xcf\\xd7\\x99\\x15\\xa5\\xbd\\xbd\\x1ds\\xe6\\xcc\\xc1\\x92%Kt\\xa7\\xcc8\\xd2\\xf7o~~>\\xf6\\xec\\xd9\\x83\\xfa\\xfaz466\\xe2\\xe2\\xc5\\x8b\\x98?\\x7f>\\xb6l\\xd9\\x82\\xdbo\\xbf]w\\x1e\\x00\\xf9k\\xc8\\xbe\\xe4H\\xec\\xd3:\\x14,\\x16\\x0b<\\x1e\\x0f<\\x1e\\x8f\\xce\\x8ck\\xda\\xb3g\\x8f\\xee\\x84\\xb8\\xec\\xde\\xbd[w\\x822\\x13\\xf6\\xaf\\xd3\\xe9\\xc4\\xce\\x9d;ug\\\\\\x95\\xf45d_r$\\xf6\\xf1\\xa5\\xb3\\x89\\x88H\\xe1P \"\"\\x85C\\x81\\x88\\x88\\x14\\x0e\\x05\"\"R8\\x14\\x88\\x88H\\xe1P \"\"\\x85C\\x81\\x88\\x88\\x14\\x0e\\x05\"\"R8\\x14\\x88\\x88H\\xe1P \"\"\\x85C\\x81\\x88\\x88\\x14\\x0e\\x05\"\"RL\\x86a\\x18\\xf1>\\xc8j\\xb5b||\\x1cf\\xb3\\x19\\x0b\\x17.\\xbc\\x11]I\\x19\\x1f\\x1f\\xc7\\xc0\\xc0\\x00\\xecv\\xbb\\xa8k DH\\xef;s\\xe6\\x0c\\xc2\\xe1\\xb0\\xd8\\xfd\\x0b\\xc8_C\\xe9}\\xd2\\xf7q0\\x18\\xc4\\xe0\\xe0 rrr`\\xb5Zu\\xe7\\xc4\\x90\\xde\\x07\\\\\\xde\\xc7\\xa9\\xa9\\xa9\\x08\\x06\\x83\\xd7\\xfd\\xb8\\x84\\x86BJJ\\x8a\\xf6\\xabR\\x11\\x11\\xd1\\xe73\\x9b\\xcd\\x93^\\x0b\\xfaj\\x12z\\xe9\\xec\\xc8P\\x90\\xfa]\\x86\\xf4\\xef\\xd2\\xa4\\xf7I\\xff.\\x12\\x90\\xbf\\x86\\xd2\\xfb\\xa4\\xefc\\xe9\\xdf\\x89K\\xef\\x03.\\xef\\xe3\\x94\\x94\\x94\\xf8\\x1eh$\\xc0\\xe9t\\x1a\\x00\\x0c\\xa7\\xd3\\x99\\xc8\\xc3o\\xb8\\xa6\\xa6&\\x03\\x80\\xd1\\xd4\\xd4\\xa4;eR\\xd2\\xfb\\xa4\\xef_\\xc3\\x90\\xbf\\x86\\xd2\\xfb\\xa4\\xefc\\xe9\\xeb\\'\\xbd\\xcf0\\x12\\xdf\\xc7<\\xd1LDD\\n\\x87\\x02\\x11\\x11)\\x1c\\nDD\\xa4p(\\x10\\x11\\x91\\xc2\\xa1@DD\\n\\x87\\x02\\x11\\x11)\\x1c\\nDD\\xa4p(\\x10\\x11\\x91\\xc2\\xa1@DD\\n\\x87\\x02\\x11\\x11)\\t\\xbd\\xf6\\xd1T\\t\\x85B\\xa8\\xab\\xabC[[\\x1b\\xc6\\xc6\\xc6\\xe0p8PVV\\x86\\x82\\x82\\x02\\x9dY\\n\\xfb\\x92#\\xbd\\x0f\\x90\\xdd800\\x807\\xdex\\x03\\xa7O\\x9f\\xc6\\x85\\x0b\\x17\\x90\\x9a\\x9a\\x8a\\x9c\\x9c\\x1cl\\xd8\\xb0\\x01+V\\xac\\xd0\\x9d\\x07@\\xf6\\xfa\\x01\\xf2\\xfb\\xfa\\xfa\\xfa\\xd0\\xda\\xda\\x8a\\x93\\'Obxx\\x18\\xb3g\\xcfFnn.\\xb6l\\xd9\\x82\\xec\\xecl-MZ\\x8f\\x14\\x0e\\x1e<\\x88\\x86\\x86\\x06\\x14\\x15\\x15\\xc1\\xeb\\xf5\\xc2d2\\xe1\\xc0\\x81\\x03\\xe8\\xe9\\xe9\\xd1\\x99\\xa5\\xb0/9\\xd2\\xfb\\x00\\xd9\\x8d###\\x08\\x04\\x02X\\xbbv-\\xbc^/6m\\xda\\x04\\x00x\\xe1\\x85\\x17\\xd0\\xd4\\xd4\\xa4\\xb9\\xee\\x12\\xc9\\xeb\\x07\\xc8\\xef{\\xeb\\xad\\xb7\\xd0\\xd5\\xd5\\x85/}\\xe9K\\xf0z\\xbdp\\xbb\\xdd8u\\xea\\x14~\\xf2\\x93\\x9f```@K\\x93\\xb6\\xa1\\xd0\\xd7\\xd7\\x87\\x8e\\x8e\\x0e\\x94\\x97\\x97\\xc3\\xe3\\xf1\\xc0\\xedv\\xa3\\xaa\\xaa\\n6\\x9b\\r\\xd5\\xd5\\xd5\\xba\\xb2\\xd8\\xf7\\x05\\xe9\\x03\\xe47.[\\xb6\\x0c\\xbbv\\xed\\xc2\\xe6\\xcd\\x9b\\xe1v\\xbb\\xb1~\\xfdzTUU\\xc1\\xe1p\\xe0\\x9dw\\xde\\xd1\\x9d\\'~\\xfd\\xa4\\xf7\\x01\\xc0m\\xb7\\xdd\\x86\\xbd{\\xf7\\xa2\\xa2\\xa2\\x02\\xeb\\xd6\\xad\\xc3\\xa6M\\x9b\\xf0\\xf5\\xaf\\x7f\\x1d\\xe1p\\x18o\\xbe\\xf9\\xa6\\x96&mC\\xa1\\xb3\\xb3\\x13&\\x93\\tn\\xb7[m\\xb3X,(..Foo/FFFt\\xa5\\x01`_\\xb2\\xa4\\xf7\\x013\\xa3\\xf1\\xb3\\xccf3l6\\x1b\\xc6\\xc6\\xc6t\\xa7\\x88_?\\xe9}\\x00\\x90\\x97\\x97\\x17\\xf3\\xd2\\xd6\\xd9\\xd9\\xd9\\xb0\\xdb\\xed8{\\xf6\\xac\\x96&mC\\xa1\\xbf\\xbf\\x1f\\xd9\\xd9\\xd9HKK\\x8b\\xda\\xeet:\\xd5\\xed:\\xb1/9\\xd2\\xfb\"\\r\\xd2\\x1b\\x81K\\xaf\\xdd\\x7f\\xf1\\xe2E\\x9c;w\\x0e\\xef\\xbc\\xf3\\x0eN\\x9c8\\x81%K\\x96\\xe8\\xce\\x12\\xbf~\\xd2\\xfb\\xae\\xc60\\x0c\\\\\\xb8p\\x01\\xe9\\xe9\\xe9Z>\\xbf\\xb6\\x13\\xcd>\\x9f\\x0f\\x99\\x99\\x991\\xdb#\\xdb|>\\xdft\\'Ea_r\\xa4\\xf7E\\x1a\\xa47\\x02\\xc0k\\xaf\\xbd\\xa6\\xce!\\x98L&\\xb8\\\\.TTTh\\xae\\x92\\xbf~\\xd2\\xfb\\xae\\xa6\\xbd\\xbd\\x1d>\\x9f\\x0feeeZ>\\xbf\\xb6\\xa1\\x10\\n\\x85&\\xbd\"\\x90\\xc5bQ\\xb7\\xeb\\xc4\\xbe\\xe4H\\xef\\x8b4Ho\\x04\\x80\\xf5\\xeb\\xd7\\xa3\\xb0\\xb0\\x10>\\x9f\\x0f\\xef\\xbf\\xff>\\xc2\\xe1p\\\\\\x97W\\xbcQ\\xa4\\xaf\\x9f\\xf4\\xbe\\xc9\\x9c={\\x16\\xbf\\xfb\\xdd\\xef\\x90\\x9b\\x9b\\x8b\\xb5k\\xd7ji\\xd0\\xf6\\xf4\\x91\\xc5b\\x99\\xf4?\\xec\\xc8\\x8e\\x8a\\xec8]\\xd8\\x97\\x1c\\xe9}\\x91\\x06\\xe9\\x8d\\x00p\\xd3M7a\\xc9\\x92%X\\xbbv-\\x1ex\\xe0\\x01\\x04\\x83A<\\xff\\xfc\\xf30\\xe2\\xbf\\xbc\\xfa\\x94\\x92\\xbe~\\xd2\\xfb>\\xeb\\xc2\\x85\\x0b8p\\xe0\\x00\\xd2\\xd2\\xd2p\\xff\\xfd\\xf7\\xc3l\\xd6\\xf3\\xe5Y\\xdbP\\xc8\\xcc\\xcc\\x9c\\xf4\\xf0-\\xb2m\\xb2\\xc3\\xbe\\xe9\\xc4\\xbe\\xe4H\\xef\\x8b4Ho\\x9cLaa!N\\x9f>\\x8d\\xa1\\xa1!\\xad\\x1d\\xd2\\xd7Oz\\xdf\\x95\\xc6\\xc6\\xc6\\xf0\\xdcs\\xcfall\\x0c\\xbbv\\xed\\xd2\\xda\\xa6m(8\\x1c\\x0e\\x0c\\r\\r!\\x10\\x08Dm\\xef\\xeb\\xeb\\x03\\x00,X\\xb0@G\\x96\\xc2\\xbe\\xe4H\\xef\\x03fF\\xe3d\\xc6\\xc7\\xc7\\x01 \\xa6{\\xbaI_?\\xe9}\\x11\\xa1P\\x08\\xcf?\\xff<\\x86\\x86\\x86\\xb0c\\xc7\\x0e\\xe4\\xe4\\xe4h\\xed\\xd16\\x14\\n\\x0b\\x0ba\\x18F\\xd4/\\xe1\\x84B!\\xb4\\xb4\\xb4\\xc0\\xe9t\\xc2f\\xb3\\xe9J\\x03\\xc0\\xbedI\\xef\\x03\\xe47\\x8e\\x8e\\x8e\\xc6l\\x9b\\x98\\x98@[[\\x1b,\\x16\\x8b\\xf6/\\x1e\\xd2\\xd7Oz\\x1f\\x00\\x84\\xc3a\\xbc\\xf8\\xe2\\x8b\\xe8\\xed\\xed\\xc5}\\xf7\\xdd\\x87\\xbc\\xbc<\\xddI\\xfaN4\\xe7\\xe6\\xe6\\xa2\\xb0\\xb0\\x10555\\x18\\x1d\\x1dEVV\\x16Z[[1<<\\x8cm\\xdb\\xb6\\xe9\\xcab\\xdf\\x17\\xa4\\x0f\\x90\\xdf\\xf8\\x9b\\xdf\\xfc\\x06\\x81@\\x007\\xdf|3\\xe6\\xce\\x9d\\x8b\\x0b\\x17.\\xa0\\xbd\\xbd\\x1dg\\xcf\\x9e\\x85\\xc7\\xe3\\x81\\xd5j\\xd5\\xda\\'}\\xfd\\xa4\\xf7\\x01\\x97~\\xb2\\xac\\xbb\\xbb\\x1b\\xcb\\x97/\\x87\\xdf\\xefG[[[\\xd4\\xedk\\xd6\\xac\\x99\\xf6&\\xadgZ*++Q[[\\x8b\\xb6\\xb66\\xf8\\xfd~8\\x1c\\x0e\\xec\\xd8\\xb1\\x03\\xf9\\xf9\\xf9:\\xb3\\x14\\xf6%Gz\\x1f \\xbbq\\xd5\\xaaUx\\xef\\xbd\\xf7\\xd0\\xd8\\xd8\\x08\\xbf\\xdf\\x0f\\xab\\xd5\\x8aE\\x8b\\x16\\xe1\\xae\\xbb\\xee\\x12\\xf3\\xdaG\\x92\\xd7\\x0f\\x90\\xdf\\x17\\xf9]\\x89\\xe3\\xc7\\x8f\\xe3\\xf8\\xf1\\xe31\\xb7\\x7f\\xe1\\x86\\x82\\xc5b\\x81\\xc7\\xe3\\x81\\xc7\\xe3\\xd1\\x99qU\\xecK\\x8e\\xf4>@v\\xe3\\xea\\xd5\\xab\\xb1z\\xf5j\\xdd\\x19\\xd7$y\\xfd\\x00\\xf9}\\xbbw\\xef\\xd6\\x9d\\x10\\x83/\\x9dMDD\\n\\x87\\x02\\x11\\x11)\\x1c\\nDD\\xa4p(\\x10\\x11\\x91\\xc2\\xa1@DD\\n\\x87\\x02\\x11\\x11)\\x1c\\nDD\\xa4p(\\x10\\x11\\x91\\xc2\\xa1@DD\\n\\x87\\x02\\x11\\x11)\\x1c\\nDD\\xa4p(\\x10\\x11\\x91\\x92\\xd0\\x0b\\xe2\\x85\\xc3a\\x00@0\\x18Dss\\xf3\\x94\\x06M\\x85\\xae\\xae\\xae\\xa8\\xb7\\xd2H\\xef\\x0b\\x06\\x83\\xea\\xad\\xc4\\xfd\\x0b\\xc8_C\\xe9}\\x91\\x0b\\xf5\\x8c\\x8f\\x8f\\x8b\\xdc\\xc7\\xd2\\xd7Oz\\x1fpy\\x1f\\xc7{\\xd9V\\x93\\x91\\xc0\\x85^\\xedv;\\x06\\x07\\x07\\xe3}\\x18\\x11\\x11M3\\xbb\\xdd\\x8eO>\\xf9\\xe4\\xba\\xef\\x9f\\xd0\\x91B\\xe4\\x82\\xd79998|\\xf8p\"\\x1f\\xe2\\x86\\xea\\xea\\xea\\xc2\\xae]\\xbb\\xb0\\x7f\\xff~\\xb8\\\\.\\xdd91\\xa4\\xf7y\\xbd^\\x0c\\x0e\\x0e\\x8a\\xdd\\xbf\\x80\\xfc5\\x94\\xdeWQQ\\x81\\x81\\x81\\x01\\xd8\\xedv\\x1c:tHwN\\x0c\\xe9\\xeb\\'\\xbd\\x0f\\xb8\\xbc\\x8f#_\\xaf\\xafWBC\\xc1l\\xbet*\\xc2j\\xb5b\\xdd\\xbau\\x89|\\x88i\\xe1r\\xb9\\xd8\\x97\\x80\\xc8\\x15\\xbd\\xa4\\xef_@\\xee\\x1aFH\\xedKMMUo%\\xf6EH]\\xbf\\x08\\xc9}\\x91}l2\\x99\\xe2z\\x1cO4\\x13\\x11\\x91\\xc2\\xa1@DD\\n\\x87\\x02\\x11\\x11)\\x1c\\nDD\\xa4p(\\x10\\x11\\x91\\xc2\\xa1@DD\\n\\x87\\x02\\x11\\x11)\\x1c\\nDD\\xa4p(\\x10\\x11\\x91\\xc2\\xa1@DDJB/s1UB\\xa1\\x10\\xea\\xea\\xea\\xd0\\xd6\\xd6\\x86\\xb1\\xb118\\x1c\\x0e\\x94\\x95\\x95\\xa1\\xa0\\xa0@g\\x96244\\x84\\xba\\xba:\\xf4\\xf4\\xf4\\xc0\\xef\\xf7\\xc3f\\xb3\\xa1\\xa8\\xa8\\x08\\x1b6lP\\xbfB\\xae\\x93\\xf4\\xf5\\x93\\xde\\xf7YG\\x8e\\x1cA]]\\x1drrr\\xf0\\xc8#\\x8f\\xe8\\xce\\x01 \\x7f\\r\\xa5\\xf7\\x05\\x83A\\xbc\\xf5\\xd6[\\xe8\\xeb\\xebC__\\x1f\\xc6\\xc6\\xc6p\\xef\\xbd\\xf7\\xe2\\x96[n\\xd1\\x9d\\x06@\\xe6\\xfai=R8x\\xf0 \\x1a\\x1a\\x1aPTT\\x04\\xaf\\xd7\\x0b\\x93\\xc9\\x84\\x03\\x07\\x0e\\xa0\\xa7\\xa7Gg\\x16\\x00`dd\\x04?\\xfd\\xe9O\\xd1\\xdb\\xdb\\x8b\\x92\\x92\\x12x\\xbd^\\xe4\\xe5\\xe5\\xa1\\xbe\\xbe\\x1e/\\xbd\\xf4\\x92\\xee<\\x00\\xb2\\xd7\\x0f\\x90\\xdfw\\xa5\\xf3\\xe7\\xcf\\xe3\\xcd7\\xdf\\x141\\xec\\xaf$}\\r\\xa5\\xf7]\\xbcx\\x11G\\x8e\\x1c\\xc1\\xd9\\xb3g\\xb1`\\xc1\\x02\\xdd91$\\xae\\x9f\\xb6\\xa1\\xd0\\xd7\\xd7\\x87\\x8e\\x8e\\x0e\\x94\\x97\\x97\\xc3\\xe3\\xf1\\xc0\\xedv\\xa3\\xaa\\xaa\\n6\\x9b\\r\\xd5\\xd5\\xd5\\xba\\xb2\\x94\\xc8\\xe4~\\xe0\\x81\\x07\\xb0q\\xe3F\\xb8\\xddn\\xdc{\\xef\\xbdX\\xbbv-\\xba\\xbb\\xbb\\xe1\\xf7\\xfb\\xb5\\xf6I_?\\xe9}\\x9f\\xf5\\xdak\\xaf!77\\x17\\x8b\\x16-\\xd2\\x9d\\xa2H_C\\xe9}\\x00\\x90\\x91\\x91\\x81\\xef|\\xe7;\\xd8\\xbbw/\\xb6n\\xdd\\xaa;\\'\\x8a\\xd4\\xf5\\xd36\\x14:;;a2\\x99\\xe0v\\xbb\\xd56\\x8b\\xc5\\x82\\xe2\\xe2b\\xf4\\xf6\\xf6bddDW\\x1a\\x00 \\x10\\x08\\x00\\xb8\\xf4\\x1f\\xd5\\x95222`2\\x99\\x90\\x92\\x92\\xa2#K\\x91\\xbe~\\xd2\\xfb\\xaet\\xea\\xd4)tvv\\xe2\\xee\\xbb\\xef\\xd6\\x9d\\x12E\\xfa\\x1aJ\\xef\\x8b\\xf4|\\xf6\\xffa)\\xa4\\xae\\x9f\\xb6\\xa1\\xd0\\xdf\\xdf\\x8f\\xec\\xecl\\xa4\\xa5\\xa5Emw:\\x9d\\xeav\\x9d\\x16/^\\x0c\\x00x\\xe5\\x95W\\xd0\\xdf\\xdf\\x8f\\x91\\x91\\x11ttt\\xa0\\xb1\\xb1\\x11%%%\\xea\\xe5\\xa5u\\x91\\xbe~\\xd2\\xfb\"\\xc2\\xe10\\x0e\\x1d:\\x84u\\xeb\\xd6\\xc1\\xe1p\\xe8\\xce\\x89\"}\\r\\xa5\\xf7I\\'u\\xfd\\xb4\\x9dh\\xf6\\xf9|\\xc8\\xcc\\xcc\\x8c\\xd9\\x1e\\xd9\\xe6\\xf3\\xf9\\xa6;)\\xca\\xd2\\xa5KQVV\\x86\\xa3G\\x8f\\xa2\\xbb\\xbb[m\\xbf\\xe3\\x8e;\\xb0e\\xcb\\x16\\x8de\\x97H_?\\xe9}\\x11\\x8d\\x8d\\x8d\\x18\\x1e\\x1e\\xc6\\x83\\x0f>\\xa8;%\\x86\\xf45\\x94\\xde\\'\\x9d\\xd4\\xf5\\xd36\\x14B\\xa1\\xd0\\xa4O\\xc1D\\xae\\x12\\x14\\n\\x85\\xa6;)\\xc6\\xbcy\\xf3\\x90\\x9f\\x9f\\x0f\\x97\\xcb\\x85\\xf4\\xf4t\\x1c?~\\x1cG\\x8f\\x1eEFF\\x06JJJ\\xb4\\xb6I_?\\xe9}\\xc0\\xa5\\x93\\x90\\xf5\\xf5\\xf5\\xd8\\xb4i\\x13\\xe6\\xcc\\x99\\xa3;\\'\\x86\\xf45\\x94\\xde\\'\\x9d\\xd4\\xf5\\xd36\\x14,\\x16\\x0b&&&b\\xb6G\\x16\"\\xdeK\\xc8M\\xb5\\x8e\\x8e\\x0e\\xbc\\xfa\\xea\\xabx\\xf4\\xd1G1w\\xee\\\\\\x00P\\x97\\xdd{\\xfd\\xf5\\xd7\\xb1z\\xf5j\\xa4\\xa7\\xa7k\\xeb\\x93\\xbe~\\xd2\\xfb\\x00\\xa0\\xb6\\xb6\\x16\\xb3g\\xcfFii\\xa9\\xee\\x94II_C\\xe9}\\xd2I]?m\\xe7\\x14233\\'=<\\x8al\\x9b\\xec\\xb0j:\\xbd\\xfb\\xee\\xbbX\\xb8p\\xa1\\x1a\\x08\\x11\\xcb\\x97/\\xc7\\xf8\\xf8\\xb8\\xf6\\xe7K\\xa5\\xaf\\x9f\\xf4\\xbe\\xa1\\xa1!477\\xa3\\xa4\\xa4\\x04>\\x9f\\x0f\\xc3\\xc3\\xc3\\x18\\x1e\\x1eF(\\x14B8\\x1c\\xc6\\xf0\\xf0\\xb0\\xf6\\x9f0\\x93\\xbe\\x86\\xd2\\xfb\\xa4\\x93\\xba~\\xdaF\\xb9\\xc3\\xe1\\xc0\\xc7\\x1f\\x7f\\x8c@ \\x10u\\xa2\\xa5\\xaf\\xaf\\x0f\\x00\\xb4\\xffL\\xf1\\xe8\\xe8(f\\xcd\\x9a\\x15\\xb3=\\x1c\\x0eG\\xbd\\xd5E\\xfa\\xfaI\\xef\\xf3\\xf9|0\\x0c\\x03\\x87\\x0f\\x1f\\xc6\\xe1\\xc3\\x87cn\\x7f\\xfa\\xe9\\xa7QZZ\\n\\xaf\\xd7\\xab\\xa1\\xee\\x12\\xe9k(\\xbdO:\\xa9\\xeb\\xa7\\xedH\\xa1\\xb0\\xb0\\x10\\x86a\\xa0\\xa9\\xa9Im\\x0b\\x85Bhii\\x81\\xd3\\xe9\\x84\\xcdf\\xd3\\x95\\x06\\x00\\xc8\\xce\\xceF\\x7f\\x7f?\\x86\\x86\\x86\\xa2\\xb6wtt\\xc0d2i\\xffI\\x15\\xe9\\xeb\\'\\xbd\\xcfn\\xb7c\\xfb\\xf6\\xed1\\x7frrr`\\xb3\\xd9\\xb0}\\xfbv\\x14\\x17\\x17km\\x94\\xbe\\x86\\xd2\\xfb\\xa4\\x93\\xba~\\xda\\x8e\\x14rssQXX\\x88\\x9a\\x9a\\x1a\\x8c\\x8e\\x8e\"++\\x0b\\xad\\xad\\xad\\x18\\x1e\\x1e\\xc6\\xb6m\\xdbte)\\x1b6l\\xc0\\x89\\x13\\'\\xb0o\\xdf>\\xdcz\\xeb\\xad\\xeaD\\xf3\\xef\\x7f\\xff{\\x14\\x17\\x17k?4\\x96\\xbe~\\xd2\\xfb\\xd2\\xd3\\xd3\\xb1r\\xe5\\xca\\x98\\xed\\r\\r\\r\\x000\\xe9m\\xd3M\\xfa\\x1aJ\\xef\\x8b8v\\xec\\x18\\xc6\\xc6\\xc6\\xd4\\xd32\\xc7\\x8f\\x1f\\xc7\\xf9\\xf3\\xe7\\x01\\x00%%%\\x93>#0\\x1d\\xa4\\xae\\x9f\\xd63A\\x95\\x95\\x95\\xa8\\xad\\xadE[[\\x1b\\xfc~?\\x1c\\x0e\\x07v\\xec\\xd8\\x81\\xfc\\xfc|\\x9dY\\x00\\x80\\xfc\\xfc|\\xec\\xd9\\xb3\\x07\\xf5\\xf5\\xf5hll\\xc4\\xc5\\x8b\\x171\\x7f\\xfe|l\\xd9\\xb2\\x05\\xb7\\xdf~\\xbb\\xee<\\x00\\xb2\\xd7\\x0f\\x90\\xdf7\\x13H_C\\xe9}\\x00\\xf0\\xf6\\xdboG\\xfd\"XWW\\x17\\xba\\xba\\xba\\x00\\x00k\\xd6\\xac\\xd16\\x14\\x00\\x99\\xeb\\xa7u(X,\\x16x<\\x1ex<\\x1e\\x9d\\x19W\\xe5t:\\xb1s\\xe7N\\xdd\\x19W%}\\xfd\\xa4\\xf7Mf\\xf7\\xee\\xdd\\xba\\x13\\xa2H_C\\xe9}\\x00\\xb0w\\xef^\\xdd\\tW%q\\xfd\\xf8\\xd2\\xd9DD\\xa4p(\\x10\\x11\\x91\\xc2\\xa1@DD\\n\\x87\\x02\\x11\\x11)\\x1c\\nDD\\xa4p(\\x10\\x11\\x91\\xc2\\xa1@DD\\n\\x87\\x02\\x11\\x11)\\x1c\\nDD\\xa4p(\\x10\\x11\\x91\\xc2\\xa1@DD\\n\\x87\\x02\\x11\\x11)\\t\\xbd ^\\xe4\\x023\\xc1`\\x10\\xcd\\xcd\\xcdS\\x1a4\\x15\"\\xaf\\x80\\x18y+\\x8d\\xf4\\xbe`0\\xa8\\xdeJ\\xdc\\xbf\\x80\\xfc5\\x94\\xde7>>\\xae\\xdeJ\\xdc\\xc7\\xd2\\xd7Oz\\x1fpy\\x1f\\x1b\\x86\\x11\\xd7\\xe3LF\\xbc\\x8f\\xc0\\xa5\\x0b\\x94\\x0c\\x0e\\x0e\\xc6\\xfb0\"\"\\x9afv\\xbb\\x1d\\x9f|\\xf2\\xc9u\\xdf?\\xa1#\\x85\\xc8\\x05\\xa5srr&\\xbd\\x94\\xa1n]]]\\xd8\\xb5k\\x17\\xf6\\xef\\xdf\\x0f\\x97\\xcb\\xa5;\\'\\x86\\xf4>\\xaf\\xd7\\x8b\\xc1\\xc1A\\xb1\\xfb\\x17\\x90\\xbf\\x86\\xd2\\xfb***000\\x00\\xbb\\xdd\\x8eC\\x87\\x0e\\xe9\\xce\\x89!}\\xfd\\xa4\\xf7\\x01\\x97\\xf7q\\xe4\\xeb\\xf5\\xf5Jh(\\x98\\xcd\\x97NEX\\xadV\\xac[\\xb7.\\x91\\x0f1-\\\\.\\x17\\xfb\\x12`\\xb5Z\\xd5[\\x89}W\\x92\\xba\\x86\\x11R\\xfbRSS\\xd5[\\x89}\\x11R\\xd7/Br_d\\x1f\\x9bL\\xa6\\xb8\\x1e\\xc7\\x13\\xcdDD\\xa4p(\\x10\\x11\\x91\\xc2\\xa1@DD\\n\\x87\\x02\\x11\\x11)\\x1c\\nDD\\xa4p(\\x10\\x11\\x91\\xc2\\xa1@DD\\n\\x87\\x02\\x11\\x11)\\x1c\\nDD\\xa4p(\\x10\\x11\\x91\\x92\\xd0\\xcb\\\\L\\xa53g\\xce\\xa0\\xbe\\xbe\\x1e===\\x08\\x85B\\x98?\\x7f>\\xdcn7JKKu\\xa7!\\x14\\n\\xa1\\xae\\xae\\x0emmm\\x18\\x1b\\x1b\\x83\\xc3\\xe1@YY\\x19\\n\\n\\nt\\xa7\\x01\\x90\\xddw\\xf2\\xe4I\\xfc\\xfc\\xe7?\\x9f\\xf4\\xb6={\\xf6 77w\\x9a\\x8b&\\'y\\r\\x01\\xf6%\\x8b}\\xf1\\xd3z\\xa4\\xf0\\xe1\\x87\\x1f\\xe2g?\\xfb\\x19FGG\\xb1i\\xd3&x\\xbd^,_\\xbe\\x1c\\xe7\\xcf\\x9f\\xd7\\x99\\xa5\\x1c<x\\x10\\r\\r\\r(**\\x82\\xd7\\xeb\\x85\\xc9d\\xc2\\x81\\x03\\x07\\xd0\\xd3\\xd3\\xa3;\\r\\x80\\xfc>\\x00())Aeee\\xd4\\x9f\\xac\\xac,\\xddY\\x8a\\xf45d_r\\xd8\\x17?mC!\\x10\\x08\\xe0\\xd7\\xbf\\xfe5\\x96-[\\x86={\\xf6\\xe0\\xb6\\xdbn\\x83\\xdb\\xed\\xc6]w\\xdd\\x85\\xad[\\xb7\\xea\\xcaR\\xfa\\xfa\\xfa\\xd0\\xd1\\xd1\\x81\\xf2\\xf2rx<\\x1e\\xb8\\xddnTUU\\xc1f\\xb3\\xa1\\xba\\xbaZw\\x9e\\xf8\\xbe\\x88\\xfc\\xfc|\\xacY\\xb3&\\xeaOzz\\xba\\xee,\\x00\\xf2\\xd7\\x90}\\xec\\xd3A\\xdbPhoo\\xc7\\xe8\\xe8(\\xb6l\\xd9\\x02\\x93\\xc9\\x84`0\\x18\\xf7\\xc5 n\\xa4\\xce\\xceN\\x98L&\\xb8\\xddn\\xb5\\xcdb\\xb1\\xa0\\xb8\\xb8\\x18\\xbd\\xbd\\xbd\\x18\\x19\\x19\\xd1X\\'\\xbf\\xefJ\\x81@@]\\x98I\\x12\\xe9k\\xc8\\xbe\\xe4\\xb0/1\\xda\\xce)|\\xf4\\xd1GHKK\\x83\\xcf\\xe7\\xc3/~\\xf1\\x0b\\x0c\\r\\r!55\\x15k\\xd6\\xac\\x81\\xd7\\xeb\\x8d\\xfb5\\xc0\\xa7Z\\x7f\\x7f?\\xb2\\xb3\\xb3\\x91\\x96\\x96\\x16\\xb5\\xdd\\xe9t\\xaa\\xdbm6\\x9b\\x8e4\\xf5\\xf9%\\xf7E\\x1c<x\\x10\\xc1`\\x10&\\x93\\t\\xf9\\xf9\\xf9\\xd8\\xbau+\\x16-Z\\xa4;\\x0b\\x80\\xfc5d_r\\xd8\\x97\\x18m_y\\xcf\\x9d;\\x87p8\\x8c\\x17^x\\x01\\xc5\\xc5\\xc5(//\\xc7\\xc9\\x93\\'q\\xec\\xd81\\x04\\x02\\x01|\\xedk_\\xd3\\x95\\x06\\x00\\xf0\\xf9|\\xc8\\xcc\\xcc\\x8c\\xd9\\x1e\\xd9\\xe6\\xf3\\xf9\\xa6;)\\x8a\\xf4\\xbe\\x94\\x94\\x14\\xb8\\\\.,[\\xb6\\x0c\\xe9\\xe9\\xe9\\x18\\x1c\\x1c\\xc4\\xdbo\\xbf\\x8d}\\xfb\\xf6\\xe1\\xe1\\x87\\x1f\\xc6\\xc2\\x85\\x0b\\xb5\\xf6\\x01\\xf2\\xd7\\x90}\\xc9a_b\\xb4\\r\\x85`0\\x88\\xf1\\xf1q\\xb8\\xddnTTT\\x00\\xb8t\\xc1\\x8a\\x89\\x89\\t455a\\xf3\\xe6\\xcd\\xc8\\xce\\xce\\xd6\\x95\\x87P(\\x84\\x94\\x94\\x94\\x98\\xed\\x91#\\x98P(4\\xddIQ\\xa4\\xf7\\xe5\\xe5\\xe5!//O\\xfd}\\xc5\\x8a\\x15(,,\\xc4\\xbf\\xff\\xfb\\xbf\\xa3\\xa6\\xa6\\x06\\xbbv\\xed\\xd2Xw\\x89\\xf45d_r\\xd8\\x97\\x18m\\xe7\\x14\"\\xff\\xf0\\xa2\\xa2\\xa2\\xa8\\xed\\x91\\xbf\\xf7\\xf6\\xf6N{\\xd3\\x95,\\x16\\x0b&&&b\\xb6Gv\\x94\\xee\\xa7\\xb7\\xa4\\xf7M&++\\x0b+W\\xae\\xc4\\xc9\\x93\\'E\\x9cc\\x90\\xbe\\x86\\xecK\\x0e\\xfb\\x12\\xa3m(D\\x0e\\x91\\xe6\\xcc\\x99\\x13\\xb5=\\xf2w\\xbf\\xdf?\\xedMW\\xca\\xcc\\xcc\\x9c\\xf4\\xf0-\\xb2m\\xb2\\xc3\\xbe\\xe9$\\xbd\\xefj\\xe6\\xce\\x9d\\x8b\\x89\\x89\\t\\x8c\\x8f\\x8f\\xebN\\x11\\xbf\\x86\\xecK\\x0e\\xfb\\x12\\xa3m(D\\x9eS\\xfe\\xec\\xa2D\\xfe\\xfe\\xd9a1\\xdd\\x1c\\x0e\\x07\\x86\\x86\\x86\\x10\\x08\\x04\\xa2\\xb6\\xf7\\xf5\\xf5\\x01\\x00\\x16,X\\xa0#K\\x91\\xdew5\\x9f~\\xfa),\\x16\\x8b\\xba\\x0e\\xb4N\\xd2\\xd7\\x90}\\xc9a_b\\xb4\\r\\x85U\\xabV\\x01\\x00\\xde{\\xef\\xbd\\xa8\\xed\\xcd\\xcd\\xcd0\\x9b\\xcdX\\xbcx\\xb1\\x86\\xaa\\xcb\\n\\x0b\\x0ba\\x18\\x06\\x9a\\x9a\\x9a\\xd4\\xb6P(\\x84\\x96\\x96\\x168\\x9dN\\xed?\\xd9#\\xbdott4f[\\x7f\\x7f?\\xba\\xbb\\xbbQPP\\x10\\xf7\\xc5\\xc4o\\x04\\xe9k\\xc8\\xbe\\xe4\\xb0/1\\xda\\x9eT[\\xb8p!n\\xb9\\xe5\\x16\\xb4\\xb4\\xb4 \\x1c\\x0e#??\\x1f\\'O\\x9eDgg\\'6n\\xdc\\xa8\\xfd\\xd0.77\\x17\\x85\\x85\\x85\\xa8\\xa9\\xa9\\xc1\\xe8\\xe8(\\xb2\\xb2\\xb2\\xd0\\xda\\xda\\x8a\\xe1\\xe1al\\xdb\\xb6Mk\\xdbL\\xe8{\\xf1\\xc5\\x17\\x91\\x9a\\x9a\\x8a\\xdc\\xdc\\\\\\xcc\\x993\\x07\\x83\\x83\\x83hnnFjj*\\xca\\xcb\\xcbu\\xe7\\x01\\x90\\xbf\\x86\\xecc\\x9f\\x0eZ\\xcf\\xb4\\xdcs\\xcf=\\xb0\\xd9lhiiAWW\\x17\\xe6\\xcd\\x9b\\x87\\xbb\\xef\\xbe\\x1b\\xeb\\xd7\\xaf\\xd7\\x99\\xa5TVV\\xa2\\xb6\\xb6\\x16mmm\\xf0\\xfb\\xfdp8\\x1c\\xd8\\xb1c\\x07\\xf2\\xf3\\xf3u\\xa7\\x01\\x90\\xdd\\xb7r\\xe5J\\xb4\\xb7\\xb7\\xa3\\xa1\\xa1\\x01\\x81@\\x00\\xe9\\xe9\\xe9p\\xb9\\\\\\xb8\\xf3\\xce;E\\xbd\\xcc\\x85\\xe45\\x04\\xd8\\x97,\\xf6\\xc5O\\xebPHII\\xc1\\xe6\\xcd\\x9b\\xb1y\\xf3f\\x9d\\x19We\\xb1X\\xe0\\xf1x\\xe0\\xf1xt\\xa7LJr_ii\\xa9\\x88\\x175\\xfc<\\x92\\xd7\\x10`_\\xb2\\xd8\\x17?\\xbet6\\x11\\x11)\\x1c\\nDD\\xa4p(\\x10\\x11\\x91\\xc2\\xa1@DD\\n\\x87\\x02\\x11\\x11)\\x1c\\nDD\\xa4p(\\x10\\x11\\x91\\xc2\\xa1@DD\\n\\x87\\x02\\x11\\x11)\\x1c\\nDD\\xa4p(\\x10\\x11\\x91\\xc2\\xa1@DD\\n\\x87\\x02\\x11\\x11)&\\xc30\\x8cx\\x1fd\\xb5Z1>>\\x0e\\xb3\\xd9\\xac\\xae\\xa0&\\xc9\\xf8\\xf88\\x06\\x06\\x06`\\xb7\\xdb\\x91\\x9a\\x9a\\xaa;\\'\\x86\\xf4\\xbe3g\\xce \\x1c\\x0e\\x8b\\xdd\\xbf\\x00\\x10\\x0c\\x06188\\x88\\x9c\\x9c\\x1c\\x11Wq\\xfb,\\xe9}\\xd2\\xf7\\xb1\\xf4\\xf5\\x93\\xde\\x07\\\\\\xde\\xc7\\xa9\\xa9\\xa9\\x08\\x06\\x83\\xd7\\xfd\\xb8\\x84\\x86BJJ\\x8a\\x88\\x0b\\xaf\\x13\\x11\\xd1\\xb5\\x99\\xcdfLLL\\\\\\xf7\\xfd\\x13\\xba\\x9eBd(H\\xfd.C\\xfaw\\xe2\\xd2\\xfb\\xa4\\x7f\\x17\\t\\xc8\\xffNMz\\x9f\\xf4},}\\xfd\\xa4\\xf7\\x01\\x97\\xf7qJJJ|\\x0f4\\x12\\xe0t:\\r\\x00\\x86\\xd3\\xe9L\\xe4\\xe17\\\\SS\\x93\\x01\\xc0hjj\\xd2\\x9d2)\\xe9}\\xd2\\xf7\\xafa\\xc8_C\\xe9}\\xd2\\xf7\\xb1\\xf4\\xf5\\x93\\xdeg\\x18\\x89\\xefc\\x9eh&\"\"\\x85C\\x81\\x88\\x88\\x14\\x0e\\x05\"\"R8\\x14\\x88\\x88H\\xe1P \"\"\\x85C\\x81\\x88\\x88\\x14\\x0e\\x05\"\"R8\\x14\\x88\\x88H\\xe1P \"\"%\\xa1\\x97\\xb9\\x98*\\xa1P\\x08uuuhkk\\xc3\\xd8\\xd8\\x18\\x1c\\x0e\\x07\\xca\\xca\\xcaPPP\\xa03Ka_r\\xa4\\xf7\\x05\\x83A\\xbc\\xf5\\xd6[\\xe8\\xeb\\xebC__\\x1f\\xc6\\xc6\\xc6p\\xef\\xbd\\xf7\\xe2\\x96[n\\xd1\\x9d\\xa6H^\\xc3\\x97_~\\x19\\xad\\xad\\xadW\\xbd\\xfd\\xb1\\xc7\\x1e\\xc3\\xdc\\xb9s\\xa7\\xb1(\\xd6\\xd0\\xd0\\x10\\xea\\xea\\xea\\xd0\\xd3\\xd3\\x03\\xbf\\xdf\\x0f\\x9b\\xcd\\x86\\xa2\\xa2\"l\\xd8\\xb0A\\xc4K\\xccH\\xdc\\xbfZ\\x8f\\x14\\x0e\\x1e<\\x88\\x86\\x86\\x06\\x14\\x15\\x15\\xc1\\xeb\\xf5\\xc2d2\\xe1\\xc0\\x81\\x03\\xe8\\xe9\\xe9\\xd1\\x99\\xa5\\xb0/9\\xd2\\xfb.^\\xbc\\x88#G\\x8e\\xe0\\xec\\xd9\\xb3X\\xb0`\\x81\\xee\\x9cII^C\\xb7\\xdb\\x8d\\xca\\xca\\xca\\xa8?_\\xfd\\xeaW\\x91\\x9a\\x9a\\x8a\\x9c\\x9c\\x1c\\xed\\x03add\\x04?\\xfd\\xe9O\\xd1\\xdb\\xdb\\x8b\\x92\\x92\\x12x\\xbd^\\xe4\\xe5\\xe5\\xa1\\xbe\\xbe\\x1e/\\xbd\\xf4\\x92\\xd6\\xb6\\x08\\x89\\xfbW\\xdbP\\xe8\\xeb\\xebCGG\\x07\\xca\\xcb\\xcb\\xe1\\xf1x\\xe0v\\xbbQUU\\x05\\x9b\\xcd\\x86\\xea\\xeaj]Y\\xec\\xfb\\x82\\xf4\\x01@FF\\x06\\xbe\\xf3\\x9d\\xef`\\xef\\xde\\xbd\\xd8\\xbau\\xab\\xee\\x9c\\x18\\xd2\\xd70//\\x0fk\\xd6\\xac\\x89\\xfa3\\x7f\\xfe|\\x8c\\x8f\\x8f\\xa3\\xa8\\xa8Hw\\x9e\\xfa\\xee\\xfb\\x81\\x07\\x1e\\xc0\\xc6\\x8d\\x1b\\xe1v\\xbbq\\xef\\xbd\\xf7b\\xed\\xda\\xb5\\xe8\\xee\\xee\\x86\\xdf\\xef\\xd7\\xda\\'u\\xffj\\x1b\\n\\x9d\\x9d\\x9d0\\x99Lp\\xbb\\xddj\\x9b\\xc5bAqq1z{{122\\xa2+\\r\\x00\\xfb\\x92%\\xbd/\\xd2\\x93\\x91\\x91\\xa1;\\xe3\\xaaf\\xc2\\x1a~V{{;\\x00\\x88\\x18\\n\\x81@\\x00\\x00b\\xf6qFF\\x06L&S\\xfc\\xaf\\x1e:\\xc5\\xa4\\xee_mC\\xa1\\xbf\\xbf\\x1f\\xd9\\xd9\\xd9HKK\\x8b\\xda\\xeet:\\xd5\\xed:\\xb1/9\\xd2\\xfbf\\x82\\x99\\xb6\\x86\\x13\\x13\\x13x\\xff\\xfd\\xf7\\x91\\x97\\x97\\x87y\\xf3\\xe6\\xe9\\xce\\xc1\\xe2\\xc5\\x8b\\x01\\x00\\xaf\\xbc\\xf2\\n\\xfa\\xfb\\xfb122\\x82\\x8e\\x8e\\x0e466\\xa2\\xa4\\xa4D\\xfbK^K\\xdd\\xbf\\xdaN4\\xfb|>dff\\xc6l\\x8fl\\xf3\\xf9|\\xd3\\x9d\\x14\\x85}\\xc9\\x91\\xde7\\x13\\xcc\\xb45\\xfc\\xf0\\xc3\\x0f\\xe1\\xf7\\xfbE\\x1c%\\x00\\xc0\\xd2\\xa5KQVV\\x86\\xa3G\\x8f\\xa2\\xbb\\xbb[m\\xbf\\xe3\\x8e;\\xb0e\\xcb\\x16\\x8de\\x97H\\xdd\\xbf\\xda\\x86B(\\x14\\x9a\\xf4\\xf0\\xcdb\\xb1\\xa8\\xdbub_r\\xa4\\xf7\\xcd\\x043m\\r\\xdb\\xdb\\xdba6\\x9b\\xb1j\\xd5*\\xdd)\\xca\\xbcy\\xf3\\x90\\x9f\\x9f\\x0f\\x97\\xcb\\x85\\xf4\\xf4t\\x1c?~\\x1cG\\x8f\\x1eEFF\\x06JJJ\\xb4\\xb6I\\xdd\\xbf\\xda\\x86\\x82\\xc5b\\x99\\xf4\\x12q\\x91\\x85\\x88,\\x8c.\\xecK\\x8e\\xf4\\xbe\\x99`&\\xada0\\x18Dww7\\x96.]\\x8a\\xf4\\xf4t\\xdd9\\x00\\x80\\x8e\\x8e\\x0e\\xbc\\xfa\\xea\\xabx\\xf4\\xd1G\\xd5OB\\xb9\\\\.\\x00\\xc0\\xeb\\xaf\\xbf\\x8e\\xd5\\xabWkm\\x95\\xba\\x7f\\xb5\\x9dS\\xc8\\xcc\\xcc\\x9c\\xf4\\xf0(\\xb2m\\xb2\\xc3\\xaa\\xe9\\xc4\\xbe\\xe4H\\xef\\x9b\\tf\\xd2\\x1a~\\xf0\\xc1\\x07b~\\xea(\\xe2\\xddw\\xdf\\xc5\\xc2\\x85\\x0bc~4v\\xf9\\xf2\\xe5\\x18\\x1f\\x1f\\xd7~NF\\xea\\xfe\\xd56\\x14\\x1c\\x0e\\x07\\x86\\x86\\x86\\xd4O\\x08D\\xf4\\xf5\\xf5\\x01\\x80\\xf6\\x9f\\x1bg_r\\xa4\\xf7\\xcd\\x043i\\r\\xdb\\xdb\\xdba\\xb5Z\\xb1b\\xc5\\n\\xdd)\\xca\\xe8\\xe8(\\xc2\\xe1p\\xcc\\xf6\\xc8\\xb6\\xc9n\\x9bNR\\xf7\\xaf\\xb6\\xa1PXX\\x08\\xc30\\xd0\\xd4\\xd4\\xa4\\xb6\\x85B!\\xb4\\xb4\\xb4\\xc0\\xe9t\\xc2f\\xb3\\xe9J\\x03\\xc0\\xbedI\\xef\\x9b\\tf\\xca\\x1a\\x8e\\x8e\\x8e\\xe2\\xa3\\x8f>\\xc2\\xca\\x95+E\\xfc\\x96pDvv6\\xfa\\xfb\\xfb144\\x14\\xb5\\xbd\\xa3\\xa3\\x03&\\x93\\t\\x0e\\x87CS\\xd9%R\\xf7\\xaf\\xb6\\'%sssQXX\\x88\\x9a\\x9a\\x1a\\x8c\\x8e\\x8e\"++\\x0b\\xad\\xad\\xad\\x18\\x1e\\x1e\\xc6\\xb6m\\xdbte\\xb1\\xef\\x0b\\xd2\\x17q\\xec\\xd81\\x8c\\x8d\\x8d\\xa9C\\xf6\\xe3\\xc7\\x8f\\xe3\\xfc\\xf9\\xf3\\x00\\x80\\x92\\x92\\x12\\xcc\\x9a5K[\\xdbLY\\xc3\\xf7\\xdf\\x7f\\x1f\\xe1pX\\xd4SG\\x00\\xb0a\\xc3\\x06\\x9c8q\\x02\\xfb\\xf6\\xed\\xc3\\xad\\xb7\\xde\\xaaN4\\xff\\xfe\\xf7\\xbfGqq\\xb1\\xf6\\xa7\\xdf\\xa4\\xee_\\xadg\\xaa*++Q[[\\x8b\\xb6\\xb66\\xf8\\xfd~8\\x1c\\x0e\\xec\\xd8\\xb1\\x03\\xf9\\xf9\\xf9:\\xb3\\x14\\xf6%Gz\\x1f\\x00\\xbc\\xfd\\xf6\\xdbQ\\xbf$\\xd4\\xd5\\xd5\\x85\\xae\\xae.\\x00\\xc0\\x9a5k\\xb4\\x0e\\x05`f\\xaca{{;\\xe6\\xcc\\x99\\x83%K\\x96\\xe8N\\x89\\x92\\x9f\\x9f\\x8f={\\xf6\\xa0\\xbe\\xbe\\x1e\\x8d\\x8d\\x8d\\xb8x\\xf1\"\\xe6\\xcf\\x9f\\x8f-[\\xb6\\xe0\\xf6\\xdbo\\xd7\\x9d\\x07@\\xe6\\xfe\\xd5:\\x14,\\x16\\x0b<\\x1e\\x0f<\\x1e\\x8f\\xce\\x8c\\xabb_r\\xa4\\xf7\\x01\\xc0\\xde\\xbd{u\\'\\\\\\xd3LX\\xc3={\\xf6\\xe8N\\xb8*\\xa7\\xd3\\x89\\x9d;w\\xea\\xce\\xb8*\\x89\\xfb\\x97/\\x9dMDD\\n\\x87\\x02\\x11\\x11)\\x1c\\nDD\\xa4p(\\x10\\x11\\x91\\xc2\\xa1@DD\\n\\x87\\x02\\x11\\x11)\\x1c\\nDD\\xa4p(\\x10\\x11\\x91\\xc2\\xa1@DD\\n\\x87\\x02\\x11\\x11)\\x1c\\nDD\\xa4p(\\x10\\x11\\x91\\xc2\\xa1@DDJB\\xaf\\x92\\x1a\\xb9bQ0\\x18Dss\\xf3\\x94\\x06M\\x85\\xc8K\\x1fG\\xdeJ#\\xbdo||\\\\\\xbd\\x95\\xb8\\x7f\\x01\\xf9k(\\xbdO\\xfa>\\x96\\xbe~\\xd2\\xfb\\x80\\xcb\\xfb\\xd80\\x8c\\xb8\\x1eg2\\xe2}\\x04\\x00\\xbb\\xdd\\x8e\\xc1\\xc1\\xc1x\\x1fFDD\\xd3\\xccn\\xb7\\xe3\\x93O>\\xb9\\xee\\xfb\\'t\\xa4`\\xb1\\\\zXNN\\x0e\\x0e\\x1f>\\x9c\\xc8\\x87\\xb8\\xa1\\xba\\xba\\xba\\xb0k\\xd7.\\xec\\xdf\\xbf\\x1f.\\x97KwN\\x0c\\xe9}\\x15\\x15\\x15\\x18\\x18\\x18\\x80\\xddn\\xc7\\xa1C\\x87t\\xe7LJ\\xfa\\x1aJ\\xef\\x93\\xbe\\x8f\\xa5\\xaf\\x9f\\xf4>\\xe0\\xf2>\\x8e|\\xbd\\xbe^\\t\\r\\x05\\xb3\\xf9\\xd2\\xa9\\x08\\xab\\xd5\\x8au\\xeb\\xd6%\\xf2!\\xa6\\x85\\xcb\\xe5b_\\x02\"\\xd7\\xd9MMM\\x15\\xd9w%\\xa9k\\x18!\\xb5o\\xa6\\xecc\\xa9\\xeb\\x17!\\xb9/\\xb2\\x8fM&S\\\\\\x8f\\xe3\\x89f\"\"R8\\x14\\x88\\x88H\\xe1P \"\"\\x85C\\x81\\x88\\x88\\x14\\x0e\\x05\"\"R8\\x14\\x88\\x88H\\xe1P \"\"\\x85C\\x81\\x88\\x88\\x14\\x0e\\x05\"\"R8\\x14\\x88\\x88HI\\xe8e.\\xa6\\xc2\\xc9\\x93\\'\\xf1\\xf3\\x9f\\xff|\\xd2\\xdb\\xf6\\xec\\xd9\\x83\\xdc\\xdc\\xdci.\\x8a\\x15\\n\\x85PWW\\x87\\xb6\\xb66\\x8c\\x8d\\x8d\\xc1\\xe1p\\xa0\\xac\\xac\\x0c\\x05\\x05\\x05\\xba\\xd3\\x00\\xb0o*Ho<}\\xfa4jkk\\xf1\\x87?\\xfc\\x01\\x00\\x90\\x9b\\x9b\\x8b\\xad[\\xb7b\\xc1\\x82\\x05\\x9a\\xcb.\\x91\\xbe~\\xec\\x8b\\x9f\\xf6#\\x85\\x92\\x92\\x12TVVF\\xfd\\xc9\\xca\\xca\\xd2\\x9d\\x05\\x008x\\xf0 \\x1a\\x1a\\x1aPTT\\x04\\xaf\\xd7\\x0b\\x93\\xc9\\x84\\x03\\x07\\x0e\\xa0\\xa7\\xa7Gw\\x1a\\x00\\xf6M\\x05\\xc9\\x8dg\\xce\\x9c\\xc1\\xbe}\\xfb\\xf0\\xe9\\xa7\\x9f\\xe2\\xce;\\xef\\xc4\\xa6M\\x9bp\\xee\\xdc9<\\xfb\\xec\\xb38{\\xf6\\xac\\xee<\\x00\\xb2\\xd7\\x0f`_\"\\xb4\\x0f\\x85\\xfc\\xfc|\\xacY\\xb3&\\xeaOzz\\xba\\xee,\\xf4\\xf5\\xf5\\xa1\\xa3\\xa3\\x03\\xe5\\xe5\\xe5\\xf0x<p\\xbb\\xdd\\xa8\\xaa\\xaa\\x82\\xcdfCuu\\xb5\\xee<\\xf6M\\x01\\xe9\\x8duuu\\xb0X,\\xd8\\xb3g\\x0f6l\\xd8\\x80\\xdbo\\xbf\\x1d\\x0f?\\xfc0\\x0c\\xc3@mm\\xad\\xee<\\xf1\\xeb\\xc7\\xbe\\xc4h\\x1f\\n\\x00\\x10\\x08\\x04\\xd4\\x85{\\xa4\\xe8\\xec\\xec\\x84\\xc9d\\x82\\xdb\\xedV\\xdb,\\x16\\x0b\\x8a\\x8b\\x8b\\xd1\\xdb\\xdb\\x8b\\x91\\x91\\x11\\x8du\\xec\\x9b\\n\\xd2\\x1bO\\x9d:\\x85%K\\x96D}\\x93\\x94\\x99\\x99\\x89\\xfc\\xfc|\\x1c?~\\x1c\\xc1`Pc\\x9d\\xfc\\xf5c_b\\xb4\\x9dS\\x888x\\xf0 \\x82\\xc1 L&\\x13\\xf2\\xf3\\xf3\\xb1u\\xebV,Z\\xb4Hw\\x16\\xfa\\xfb\\xfb\\x91\\x9d\\x9d\\x8d\\xb4\\xb4\\xb4\\xa8\\xedN\\xa7S\\xddn\\xb3\\xd9t\\xa4\\xa9\\xcf\\xcf\\xbe\\xe4Ho\\x9c\\x98\\x98P/\\x7f|\\xa5\\xd4\\xd4TLLL```@\\xeb\\xb97\\xe9\\xeb\\xc7\\xbe\\xc4h\\x1b\\n)))p\\xb9\\\\X\\xb6l\\x19\\xd2\\xd3\\xd3188\\x88\\xb7\\xdf~\\x1b\\xfb\\xf6\\xed\\xc3\\xc3\\x0f?\\x8c\\x85\\x0b\\x17\\xeaJ\\x03\\x00\\xf8|>dff\\xc6l\\x8fl\\xf3\\xf9|\\xd3\\x9d\\x14\\x85}\\xc9\\x93\\xde\\x98\\x9d\\x9d\\x8d\\xde\\xde^\\x84\\xc3au\\r\\x93\\x89\\x89\\t\\xf4\\xf5\\xf5\\x01\\x00\\xce\\x9f?\\xaf3O\\xfc\\xfa\\xb1/1\\xda\\x9e>\\xca\\xcb\\xcb\\xc3\\xfd\\xf7\\xdf\\x8f\\xe2\\xe2b\\xacX\\xb1\\x02\\x1b7n\\xc4\\x9f\\xff\\xf9\\x9f\\x03\\x00jjjte)\\xa1P\\x08)))1\\xdb#W1\\n\\x85B\\xd3\\x9d\\x14\\x85}\\xc9\\x93\\xdex\\xeb\\xad\\xb7bhh\\x08\\xaf\\xbc\\xf2\\n\\x06\\x07\\x07100\\x80_\\xff\\xfa\\xd7\\xea\\x8b\\x85\\xee>\\xe9\\xeb\\xc7\\xbe\\xc4h\\x7f\\xfa\\xe8JYYYX\\xb9r%\\xba\\xba\\xba\\xa2\\xbe;\\xd2\\xc1b\\xb1`bb\"f{dG\\xc5{\\x89\\xbb\\xa9\\xc6\\xbe\\xe4Io\\xfc\\xf2\\x97\\xbf\\x8c\\x91\\x91\\x11\\xbc\\xfd\\xf6\\xdbhmm\\x05\\x00,Z\\xb4\\x08\\xb7\\xdf~;\\x8e\\x1e=\\n\\xab\\xd5\\xaa\\xb5O\\xfa\\xfa\\xb1/1\\xfa\\xff\\xcf\\xfc\\x8c\\xb9s\\xe7bbb\\x02\\xe3\\xe3\\xe31\\xcf\\xb5M\\xa7\\xcc\\xcc\\xccI\\x0f\\xcf#\\xdf\\xa5Mv\\xd87\\x9d\\xd8\\x97\\xbc\\x99\\xd0X^^\\x8e\\r\\x1b6`pp\\x10iiip8\\x1c\\xeaH:;;[k\\x9b\\xf4\\xf5c_bD\\xfc\\xf4\\xd1\\x95>\\xfd\\xf4SX,\\x16\\xed\\xdf\\x059\\x1c\\x0e\\x0c\\r\\r!\\x10\\x08Dm\\x8f<\\x9f\\xab\\xfb\\x97\\x87\\xd8\\x97\\xbc\\x99\\xd0\\x08\\x00\\xb3g\\xcf\\xc6\\xcd7\\xdf\\x0c\\x87\\xc3\\x01\\x00\\xf8\\xe8\\xa3\\x8f0w\\xee\\\\\\xdct\\xd3MZ\\xbb\\xa4\\xaf\\x1f\\xfb\\x12\\xa3m(\\x8c\\x8e\\x8e\\xc6l\\xeb\\xef\\xefGww7\\n\\n\\n\\xe2\\xbe\\xd8\\xf4T+,,\\x84a\\x18hjjR\\xdbB\\xa1\\x10ZZZ\\xe0t:\\xb5\\xff\\xe4\\x0c\\xfb\\x927\\x13\\x1a?\\xab\\xa3\\xa3\\x03\\xa7O\\x9fFii)\\xff\\x1f\\xf9\\x1c\\xecK\\x8c\\xb6\\xa7\\x8f^|\\xf1E\\xa4\\xa6\\xa6\"77\\x17s\\xe6\\xcc\\xc1\\xe0\\xe0 \\x9a\\x9b\\x9b\\x91\\x9a\\x9a\\x8a\\xf2\\xf2r]YJnn.\\n\\x0b\\x0bQSS\\x83\\xd1\\xd1Qdee\\xa1\\xb5\\xb5\\x15\\xc3\\xc3\\xc3\\xd8\\xb6m\\x9b\\xee<\\xf6M\\x01\\xe9\\x8d\\xa7N\\x9d\\xc2\\x1bo\\xbc\\x81\\x82\\x82\\x02\\xcc\\x9e=\\x1b\\xbd\\xbd\\xbdhii\\xc1\\xd2\\xa5K\\xb1~\\xfdz\\xddy\\xe2\\xd7\\x8f}\\x89\\xd16\\x14V\\xae\\\\\\x89\\xf6\\xf6v444 \\x10\\x08 ==\\x1d.\\x97\\x0bw\\xdey\\xa7\\x98\\x97\\xb9\\xa8\\xac\\xacDmm-\\xda\\xda\\xda\\xe0\\xf7\\xfb\\xe1p8\\xb0c\\xc7\\x0e\\xe4\\xe7\\xe7\\xebN\\x03\\xc0\\xbe\\xa9 \\xb9133\\x13f\\xb3\\x19o\\xbf\\xfd6\\x02\\x81\\x00\\xe6\\xcf\\x9f\\x8f-[\\xb6\\xe0\\xb6\\xdbn\\xd3\\xfaC\\x18W\\x92\\xbc~\\x00\\xfb\\x12\\xa1m(\\x94\\x96\\x96\\xa2\\xb4\\xb4T\\xd7\\xa7\\xbf.\\x16\\x8b\\x05\\x1e\\x8f\\x07\\x1e\\x8fGw\\xca\\xa4\\xd8\\x97<\\xc9\\x8dYYY\\xd8\\xb5k\\x97\\xee\\x8ck\\x92\\xbc~\\x00\\xfb\\x12!\\xe3\\xdb\\r\"\"\\x12\\x81C\\x81\\x88\\x88\\x14\\x0e\\x05\"\"R8\\x14\\x88\\x88H\\xe1P \"\"\\x85C\\x81\\x88\\x88\\x14\\x0e\\x05\"\"R8\\x14\\x88\\x88H\\xe1P \"\"\\x85C\\x81\\x88\\x88\\x14\\x0e\\x05\"\"R8\\x14\\x88\\x88HI\\xe8\\x05\\xf1\\xc2\\xe10\\x00 \\x18\\x0c\\xa2\\xb9\\xb9yJ\\x83\\xa6BWWW\\xd4[i\\xa4\\xf7\\x8d\\x8f\\x8f\\xab\\xb7\\x12\\xf7/ \\x7f\\r\\xa5\\xf7I\\xdf\\xc7\\xd2\\xd7Oz\\x1fpy\\x1f\\x1b\\x86\\x11\\xd7\\xe3LF\\xbc\\x8f\\x00`\\xb7\\xdb188\\x18\\xef\\xc3\\x88\\x88h\\x9a\\xd9\\xedv|\\xf2\\xc9\\'\\xd7}\\xff\\x84\\x8e\\x14\"\\x17\\x94\\xce\\xc9\\xc9\\xc1\\xe1\\xc3\\x87\\x13\\xf9\\x107TWW\\x17v\\xed\\xda\\x85\\xfd\\xfb\\xf7\\xc3\\xe5r\\xe9\\xce\\x89!\\xbd\\xaf\\xa2\\xa2\\x02\\x03\\x03\\x03\\xb0\\xdb\\xed8t\\xe8\\x90\\xee\\x9cII_C\\xe9}\\xd2\\xf7\\xb1\\xf4\\xf5\\x93\\xde\\x07\\\\\\xde\\xc7\\x91\\xaf\\xd7\\xd7+\\xa1\\xa1\\x10\\xb9\\xc0\\x87\\xd5j\\xc5\\xbau\\xeb\\x12\\xf9\\x10\\xd3\\xc2\\xe5r\\xb1/\\x01\\xa9\\xa9\\xa9\\xea\\xad\\xc4\\xbe+I]\\xc3\\x08\\xa9}3e\\x1fK]\\xbf\\x08\\xc9}\\x91}\\x1c\\xefe[y\\xa2\\x99\\x88\\x88\\x14\\x0e\\x05\"\"R8\\x14\\x88\\x88H\\xe1P \"\"\\x85C\\x81\\x88\\x88\\x14\\x0e\\x05\"\"R8\\x14\\x88\\x88H\\xe1P \"\"\\x85C\\x81\\x88\\x88\\x14\\x0e\\x05\"\"R\\x12z\\x99\\x8b\\xa9\\x12\\n\\x85PWW\\x87\\xb6\\xb66\\x8c\\x8d\\x8d\\xc1\\xe1p\\xa0\\xac\\xac\\x0c\\x05\\x05\\x05:\\xb3\\x14\\xf6%Gz\\x1f \\xbf\\x91}S\\xeb\\xc8\\x91#\\xa8\\xab\\xabCNN\\x0e\\x1ey\\xe4\\x11\\xdd9\"\\xd7O\\xeb\\x91\\xc2\\xc1\\x83\\x07\\xd1\\xd0\\xd0\\x80\\xa2\\xa2\"x\\xbd^\\x98L&\\x1c8p\\x00===:\\xb3\\x14\\xf6%Gz\\x1f \\xbf\\x91}S\\xe7\\xfc\\xf9\\xf3x\\xf3\\xcd7\\xd5k\\x02I q\\xfd\\xb4\\r\\x85\\xbe\\xbe>ttt\\xa0\\xbc\\xbc\\x1c\\x1e\\x8f\\x07n\\xb7\\x1bUUU\\xb0\\xd9l\\xa8\\xae\\xae\\xd6\\x95\\xc5\\xbe/H\\x1f \\xbf\\x91}S\\xeb\\xb5\\xd7^Cnn.\\x16-Z\\xa4;\\x05\\x80\\xdc\\xf5\\xd36\\x14:;;a2\\x99\\xe0v\\xbb\\xd56\\x8b\\xc5\\x82\\xe2\\xe2b\\xf4\\xf6\\xf6bddDW\\x1a\\x00\\xf6%Kz\\x1f \\xbf\\x91}S\\xe7\\xd4\\xa9S\\xe8\\xec\\xec\\xc4\\xddw\\xdf\\xad;E\\x91\\xba~\\xda\\x86B\\x7f\\x7f?\\xb2\\xb3\\xb3\\x91\\x96\\x96\\x16\\xb5\\xdd\\xe9t\\xaa\\xdbub_r\\xa4\\xf7E\\x1a$7\\xb2oj\\x84\\xc3a\\x1c:t\\x08\\xeb\\xd6\\xad\\x83\\xc3\\xe1\\xd0\\x9d\\xa3H]?mC\\xc1\\xe7\\xf3!333f{d\\x9b\\xcf\\xe7\\x9b\\xee\\xa4(\\xecK\\x8e\\xf4\\xbeH\\x83\\xe4F\\xf6M\\x8d\\xc6\\xc6F\\x0c\\x0f\\x0f\\xa3\\xac\\xacLwJ\\x14\\xa9\\xeb\\xa7m(\\x84B!\\xa4\\xa4\\xa4\\xc4l\\x8f\\\\%(\\x14\\nMwR\\x14\\xf6%Gz_\\xa4Ar#\\xfb\\x92w\\xf1\\xe2E\\xd4\\xd7\\xd7c\\xd3\\xa6M\\x983g\\x8e\\xee\\x9c(R\\xd7O\\xdbP\\xb0X,\\x98\\x98\\x98\\x88\\xd9\\x1eY\\x88x/!7\\xd5\\xd8\\x97\\x1c\\xe9}\\x91\\x06\\xc9\\x8d\\xecK^mm-f\\xcf\\x9e\\x8d\\xd2\\xd2R\\xdd)1\\xa4\\xae\\x9f\\xb6\\xa1\\x90\\x99\\x999\\xe9\\xe1Qd\\xdbd\\x87U\\xd3\\x89}\\xc9\\x91\\xde\\x17i\\x90\\xdc\\xc8\\xbe\\xe4\\x0c\\r\\r\\xa1\\xb9\\xb9\\x19%%%\\xf0\\xf9|\\x18\\x1e\\x1e\\xc6\\xf0\\xf00B\\xa1\\x10\\xc2\\xe10\\x86\\x87\\x87\\xe1\\xf7\\xfb\\xb5\\xf5I]?m\\xa3\\xdc\\xe1p\\xe0\\xe3\\x8f?F \\x10\\x88:\\xd1\\xd2\\xd7\\xd7\\x07\\x00X\\xb0`\\x81\\xae4\\x00\\xecK\\x96\\xf4>@~#\\xfb\\x92\\xe3\\xf3\\xf9`\\x18\\x06\\x0e\\x1f>\\x8c\\xc3\\x87\\x0f\\xc7\\xdc\\xfe\\xf4\\xd3O\\xa3\\xb4\\xb4\\x14^\\xafWC\\x9d\\xdc\\xf5\\xd3v\\xa4PXX\\x08\\xc30\\xd0\\xd4\\xd4\\xa4\\xb6\\x85B!\\xb4\\xb4\\xb4\\xc0\\xe9t\\xc2f\\xb3\\xe9J\\x03\\xc0\\xbedI\\xef\\x03\\xe47\\xb2/9v\\xbb\\x1d\\xdb\\xb7o\\x8f\\xf9\\x93\\x93\\x93\\x03\\x9b\\xcd\\x86\\xed\\xdb\\xb7\\xa3\\xb8\\xb8X[\\x9f\\xd4\\xf5\\xd3v\\xa4\\x90\\x9b\\x9b\\x8b\\xc2\\xc2B\\xd4\\xd4\\xd4`tt\\x14YYYhmm\\xc5\\xf0\\xf00\\xb6m\\xdb\\xa6+\\x8b}_\\x90>@~#\\xfb\\x92\\x93\\x9e\\x9e\\x8e\\x95+W\\xc6lohh\\x00\\x80Io\\x9bNR\\xd7O\\xeb\\x99\\xa0\\xca\\xcaJ\\xd4\\xd6\\xd6\\xa2\\xad\\xad\\r~\\xbf\\x1f\\x0e\\x87\\x03;v\\xec@~~\\xbe\\xce,\\x85}\\xc9\\x91\\xde\\x07\\xc8od\\xdf\\x1f7\\x89\\xeb\\xa7u(X,\\x16x<\\x1ex<\\x1e\\x9d\\x19W\\xc5\\xbe\\xe4H\\xef\\x03\\xe47\\xb2o\\xea\\xed\\xde\\xbd[w\\x82\"q\\xfd\\xf8\\xd2\\xd9DD\\xa4p(\\x10\\x11\\x91\\xc2\\xa1@DD\\n\\x87\\x02\\x11\\x11)\\x1c\\nDD\\xa4p(\\x10\\x11\\x91\\xc2\\xa1@DD\\n\\x87\\x02\\x11\\x11)\\x1c\\nDD\\xa4p(\\x10\\x11\\x91\\xc2\\xa1@DD\\n\\x87\\x02\\x11\\x11)&\\xc30\\x8cx\\x1fd\\xb5Z1>>\\x0e\\xb3\\xd9\\x8c\\x85\\x0b\\x17\\xde\\x88\\xae\\xa4\\x04\\x83A\\x0c\\x0e\\x0e\"\\'\\'\\x07V\\xabUwN\\x0c\\xe9}g\\xce\\x9cA8\\x1c\\x16\\xbb\\x7f\\x01\\xf9k(\\xbdO\\xfa>\\x96\\xbe~\\xd2\\xfb\\x80\\xcb\\xfb855\\x15\\xc1`\\xf0\\xba\\x1f\\x97\\xd0PHIIA8\\x1c\\x8e\\xf7aDD4\\xcd\\xccf\\xf3\\xa4\\xd7\\x82\\xbe\\x9a\\x84^:{\\xd6\\xacY\\x18\\x1b\\x1bCJJ\\n\\xecv{\"\\x1f\\xe2\\x86\\n\\x87\\xc3\\x08\\x85B\\xb0X,0\\x9b\\xe5=C&\\xbdo``\\x00\\x13\\x13\\x13b\\xf7/ \\x7f\\r\\xa5\\xf7I\\xdf\\xc7\\xd2\\xd7Oz\\x1fpy\\x1f\\xcf\\x9a5+\\xae\\xc7%t\\xa4@DD\\x7f\\x9cd\\x8e8\"\"\\xd2\\x82C\\x81\\x88\\x88\\x14\\x0e\\x05\"\"R8\\x14\\x88\\x88H\\xe1P \"\"\\x85C\\x81\\x88\\x88\\x14\\x0e\\x05\"\"R8\\x14\\x88\\x88H\\xe1P \"\"\\x85C\\x81\\x88\\x88\\x14\\x0e\\x05\"\"R\\xfe?\\x06\\xc2\\x98\\xfb\\xe8\\t\\xf3t\\x00\\x00\\x00\\x00IEND\\xaeB`\\x82'\n"
          ]
        }
      ]
    },
    {
      "cell_type": "code",
      "execution_count": 59,
      "metadata": {
        "id": "iNkcbdIXxsrl",
        "outputId": "aab755eb-5f77-4f9c-de40-c80d4752da36",
        "colab": {
          "base_uri": "https://localhost:8080/",
          "height": 827
        }
      },
      "outputs": [
        {
          "output_type": "display_data",
          "data": {
            "image/png": "[encoded data removed]",
            "text/plain": [
              "<IPython.core.display.Image object>"
            ]
          },
          "metadata": {}
        },
        {
          "output_type": "execute_result",
          "data": {
            "text/plain": [
              "<IPython.core.display.SVG object>"
            ],
            "image/svg+xml": "<svg xmlns:xlink=\"http://www.w3.org/1999/xlink\" xmlns=\"http://www.w3.org/2000/svg\" width=\"281.281395pt\" height=\"296.39952pt\" viewBox=\"0 0 281.281395 296.39952\" version=\"1.1\">\n <metadata>\n  <rdf:RDF xmlns:dc=\"http://purl.org/dc/elements/1.1/\" xmlns:cc=\"http://creativecommons.org/ns#\" xmlns:rdf=\"http://www.w3.org/1999/02/22-rdf-syntax-ns#\">\n   <cc:Work>\n    <dc:type rdf:resource=\"http://purl.org/dc/dcmitype/StillImage\"/>\n    <dc:date>2024-11-27T14:18:57.695880</dc:date>\n    <dc:format>image/svg+xml</dc:format>\n    <dc:creator>\n     <cc:Agent>\n      <dc:title>Matplotlib v3.8.0, https://matplotlib.org/</dc:title>\n     </cc:Agent>\n    </dc:creator>\n   </cc:Work>\n  </rdf:RDF>\n </metadata>\n <defs>\n  <style type=\"text/css\">*{stroke-linejoin: round; stroke-linecap: butt}</style>\n </defs>\n <g id=\"figure_1\">\n  <g id=\"patch_1\">\n   <path d=\"M 0 296.39952  L 281.281395 296.39952  L 281.281395 0  L 0 0  z \" style=\"fill: #ffffff\"/>\n  </g>\n  <g id=\"axes_1\">\n   <g id=\"line2d_1\">\n    <path d=\"M 9.816484 286.583036  L 271.464911 286.583036  \" clip-path=\"url(#pde92987eb8)\" style=\"fill: none; stroke: #000000; stroke-width: 2; stroke-linecap: square\"/>\n   </g>\n   <g id=\"line2d_2\">\n    <path d=\"M 9.816484 286.583036  L 9.816484 24.934609  \" clip-path=\"url(#pde92987eb8)\" style=\"fill: none; stroke: #000000; stroke-width: 2; stroke-linecap: square\"/>\n   </g>\n   <g id=\"line2d_3\">\n    <path d=\"M 9.816484 257.510988  L 271.464911 257.510988  \" clip-path=\"url(#pde92987eb8)\" style=\"fill: none; stroke: #000000; stroke-linecap: square\"/>\n   </g>\n   <g id=\"line2d_4\">\n    <path d=\"M 38.888532 286.583036  L 38.888532 24.934609  \" clip-path=\"url(#pde92987eb8)\" style=\"fill: none; stroke: #000000; stroke-linecap: square\"/>\n   </g>\n   <g id=\"line2d_5\">\n    <path d=\"M 9.816484 228.438941  L 271.464911 228.438941  \" clip-path=\"url(#pde92987eb8)\" style=\"fill: none; stroke: #000000; stroke-linecap: square\"/>\n   </g>\n   <g id=\"line2d_6\">\n    <path d=\"M 67.960579 286.583036  L 67.960579 24.934609  \" clip-path=\"url(#pde92987eb8)\" style=\"fill: none; stroke: #000000; stroke-linecap: square\"/>\n   </g>\n   <g id=\"line2d_7\">\n    <path d=\"M 9.816484 199.366894  L 271.464911 199.366894  \" clip-path=\"url(#pde92987eb8)\" style=\"fill: none; stroke: #000000; stroke-width: 2; stroke-linecap: square\"/>\n   </g>\n   <g id=\"line2d_8\">\n    <path d=\"M 97.032626 286.583036  L 97.032626 24.934609  \" clip-path=\"url(#pde92987eb8)\" style=\"fill: none; stroke: #000000; stroke-width: 2; stroke-linecap: square\"/>\n   </g>\n   <g id=\"line2d_9\">\n    <path d=\"M 9.816484 170.294846  L 271.464911 170.294846  \" clip-path=\"url(#pde92987eb8)\" style=\"fill: none; stroke: #000000; stroke-linecap: square\"/>\n   </g>\n   <g id=\"line2d_10\">\n    <path d=\"M 126.104674 286.583036  L 126.104674 24.934609  \" clip-path=\"url(#pde92987eb8)\" style=\"fill: none; stroke: #000000; stroke-linecap: square\"/>\n   </g>\n   <g id=\"line2d_11\">\n    <path d=\"M 9.816484 141.222799  L 271.464911 141.222799  \" clip-path=\"url(#pde92987eb8)\" style=\"fill: none; stroke: #000000; stroke-linecap: square\"/>\n   </g>\n   <g id=\"line2d_12\">\n    <path d=\"M 155.176721 286.583036  L 155.176721 24.934609  \" clip-path=\"url(#pde92987eb8)\" style=\"fill: none; stroke: #000000; stroke-linecap: square\"/>\n   </g>\n   <g id=\"line2d_13\">\n    <path d=\"M 9.816484 112.150751  L 271.464911 112.150751  \" clip-path=\"url(#pde92987eb8)\" style=\"fill: none; stroke: #000000; stroke-width: 2; stroke-linecap: square\"/>\n   </g>\n   <g id=\"line2d_14\">\n    <path d=\"M 184.248769 286.583036  L 184.248769 24.934609  \" clip-path=\"url(#pde92987eb8)\" style=\"fill: none; stroke: #000000; stroke-width: 2; stroke-linecap: square\"/>\n   </g>\n   <g id=\"line2d_15\">\n    <path d=\"M 9.816484 83.078704  L 271.464911 83.078704  \" clip-path=\"url(#pde92987eb8)\" style=\"fill: none; stroke: #000000; stroke-linecap: square\"/>\n   </g>\n   <g id=\"line2d_16\">\n    <path d=\"M 213.320816 286.583036  L 213.320816 24.934609  \" clip-path=\"url(#pde92987eb8)\" style=\"fill: none; stroke: #000000; stroke-linecap: square\"/>\n   </g>\n   <g id=\"line2d_17\">\n    <path d=\"M 9.816484 54.006657  L 271.464911 54.006657  \" clip-path=\"url(#pde92987eb8)\" style=\"fill: none; stroke: #000000; stroke-linecap: square\"/>\n   </g>\n   <g id=\"line2d_18\">\n    <path d=\"M 242.392863 286.583036  L 242.392863 24.934609  \" clip-path=\"url(#pde92987eb8)\" style=\"fill: none; stroke: #000000; stroke-linecap: square\"/>\n   </g>\n   <g id=\"line2d_19\">\n    <path d=\"M 9.816484 24.934609  L 271.464911 24.934609  \" clip-path=\"url(#pde92987eb8)\" style=\"fill: none; stroke: #000000; stroke-width: 2; stroke-linecap: square\"/>\n   </g>\n   <g id=\"line2d_20\">\n    <path d=\"M 271.464911 286.583036  L 271.464911 24.934609  \" clip-path=\"url(#pde92987eb8)\" style=\"fill: none; stroke: #000000; stroke-width: 2; stroke-linecap: square\"/>\n   </g>\n   <g id=\"text_1\">\n    <!-- 0 -->\n    <g style=\"fill: #808080\" transform=\"translate(20.535008 275.358262) scale(0.12 -0.12)\">\n     <defs>\n      <path id=\"DejaVuSans-30\" d=\"M 2034 4250  Q 1547 4250 1301 3770  Q 1056 3291 1056 2328  Q 1056 1369 1301 889  Q 1547 409 2034 409  Q 2525 409 2770 889  Q 3016 1369 3016 2328  Q 3016 3291 2770 3770  Q 2525 4250 2034 4250  z M 2034 4750  Q 2819 4750 3233 4129  Q 3647 3509 3647 2328  Q 3647 1150 3233 529  Q 2819 -91 2034 -91  Q 1250 -91 836 529  Q 422 1150 422 2328  Q 422 3509 836 4129  Q 1250 4750 2034 4750  z \" transform=\"scale(0.015625)\"/>\n     </defs>\n     <use xlink:href=\"#DejaVuSans-30\"/>\n    </g>\n   </g>\n   <g id=\"text_2\">\n    <!-- 0 -->\n    <g style=\"fill: #808080\" transform=\"translate(49.607055 275.358262) scale(0.12 -0.12)\">\n     <use xlink:href=\"#DejaVuSans-30\"/>\n    </g>\n   </g>\n   <g id=\"text_3\">\n    <!-- 0 -->\n    <g style=\"fill: #808080\" transform=\"translate(78.679103 275.358262) scale(0.12 -0.12)\">\n     <use xlink:href=\"#DejaVuSans-30\"/>\n    </g>\n   </g>\n   <g id=\"text_4\">\n    <!-- 0 -->\n    <g style=\"fill: #808080\" transform=\"translate(107.75115 275.358262) scale(0.12 -0.12)\">\n     <use xlink:href=\"#DejaVuSans-30\"/>\n    </g>\n   </g>\n   <g id=\"text_5\">\n    <!-- 0 -->\n    <g style=\"fill: #808080\" transform=\"translate(136.823197 275.358262) scale(0.12 -0.12)\">\n     <use xlink:href=\"#DejaVuSans-30\"/>\n    </g>\n   </g>\n   <g id=\"text_6\">\n    <!-- 0 -->\n    <g style=\"fill: #808080\" transform=\"translate(165.895245 275.358262) scale(0.12 -0.12)\">\n     <use xlink:href=\"#DejaVuSans-30\"/>\n    </g>\n   </g>\n   <g id=\"text_7\">\n    <!-- 0 -->\n    <g style=\"fill: #808080\" transform=\"translate(194.967292 275.358262) scale(0.12 -0.12)\">\n     <use xlink:href=\"#DejaVuSans-30\"/>\n    </g>\n   </g>\n   <g id=\"text_8\">\n    <!-- 4 -->\n    <g style=\"fill: #808080\" transform=\"translate(224.03934 275.358262) scale(0.12 -0.12)\">\n     <defs>\n      <path id=\"DejaVuSans-34\" d=\"M 2419 4116  L 825 1625  L 2419 1625  L 2419 4116  z M 2253 4666  L 3047 4666  L 3047 1625  L 3713 1625  L 3713 1100  L 3047 1100  L 3047 0  L 2419 0  L 2419 1100  L 313 1100  L 313 1709  L 2253 4666  z \" transform=\"scale(0.015625)\"/>\n     </defs>\n     <use xlink:href=\"#DejaVuSans-34\"/>\n    </g>\n   </g>\n   <g id=\"text_9\">\n    <!-- 0 -->\n    <g style=\"fill: #808080\" transform=\"translate(253.111387 275.358262) scale(0.12 -0.12)\">\n     <use xlink:href=\"#DejaVuSans-30\"/>\n    </g>\n   </g>\n   <g id=\"text_10\">\n    <!-- 5 -->\n    <g style=\"fill: #808080\" transform=\"translate(20.535008 246.286215) scale(0.12 -0.12)\">\n     <defs>\n      <path id=\"DejaVuSans-35\" d=\"M 691 4666  L 3169 4666  L 3169 4134  L 1269 4134  L 1269 2991  Q 1406 3038 1543 3061  Q 1681 3084 1819 3084  Q 2600 3084 3056 2656  Q 3513 2228 3513 1497  Q 3513 744 3044 326  Q 2575 -91 1722 -91  Q 1428 -91 1123 -41  Q 819 9 494 109  L 494 744  Q 775 591 1075 516  Q 1375 441 1709 441  Q 2250 441 2565 725  Q 2881 1009 2881 1497  Q 2881 1984 2565 2268  Q 2250 2553 1709 2553  Q 1456 2553 1204 2497  Q 953 2441 691 2322  L 691 4666  z \" transform=\"scale(0.015625)\"/>\n     </defs>\n     <use xlink:href=\"#DejaVuSans-35\"/>\n    </g>\n   </g>\n   <g id=\"text_11\">\n    <!-- 0 -->\n    <g style=\"fill: #808080\" transform=\"translate(49.607055 246.286215) scale(0.12 -0.12)\">\n     <use xlink:href=\"#DejaVuSans-30\"/>\n    </g>\n   </g>\n   <g id=\"text_12\">\n    <!-- 0 -->\n    <g style=\"fill: #808080\" transform=\"translate(78.679103 246.286215) scale(0.12 -0.12)\">\n     <use xlink:href=\"#DejaVuSans-30\"/>\n    </g>\n   </g>\n   <g id=\"text_13\">\n    <!-- 0 -->\n    <g style=\"fill: #808080\" transform=\"translate(107.75115 246.286215) scale(0.12 -0.12)\">\n     <use xlink:href=\"#DejaVuSans-30\"/>\n    </g>\n   </g>\n   <g id=\"text_14\">\n    <!-- 0 -->\n    <g style=\"fill: #808080\" transform=\"translate(136.823197 246.286215) scale(0.12 -0.12)\">\n     <use xlink:href=\"#DejaVuSans-30\"/>\n    </g>\n   </g>\n   <g id=\"text_15\">\n    <!-- 9 -->\n    <g style=\"fill: #808080\" transform=\"translate(165.895245 246.286215) scale(0.12 -0.12)\">\n     <defs>\n      <path id=\"DejaVuSans-39\" d=\"M 703 97  L 703 672  Q 941 559 1184 500  Q 1428 441 1663 441  Q 2288 441 2617 861  Q 2947 1281 2994 2138  Q 2813 1869 2534 1725  Q 2256 1581 1919 1581  Q 1219 1581 811 2004  Q 403 2428 403 3163  Q 403 3881 828 4315  Q 1253 4750 1959 4750  Q 2769 4750 3195 4129  Q 3622 3509 3622 2328  Q 3622 1225 3098 567  Q 2575 -91 1691 -91  Q 1453 -91 1209 -44  Q 966 3 703 97  z M 1959 2075  Q 2384 2075 2632 2365  Q 2881 2656 2881 3163  Q 2881 3666 2632 3958  Q 2384 4250 1959 4250  Q 1534 4250 1286 3958  Q 1038 3666 1038 3163  Q 1038 2656 1286 2365  Q 1534 2075 1959 2075  z \" transform=\"scale(0.015625)\"/>\n     </defs>\n     <use xlink:href=\"#DejaVuSans-39\"/>\n    </g>\n   </g>\n   <g id=\"text_16\">\n    <!-- 0 -->\n    <g style=\"fill: #808080\" transform=\"translate(194.967292 246.286215) scale(0.12 -0.12)\">\n     <use xlink:href=\"#DejaVuSans-30\"/>\n    </g>\n   </g>\n   <g id=\"text_17\">\n    <!-- 0 -->\n    <g style=\"fill: #808080\" transform=\"translate(224.03934 246.286215) scale(0.12 -0.12)\">\n     <use xlink:href=\"#DejaVuSans-30\"/>\n    </g>\n   </g>\n   <g id=\"text_18\">\n    <!-- 0 -->\n    <g style=\"fill: #808080\" transform=\"translate(253.111387 246.286215) scale(0.12 -0.12)\">\n     <use xlink:href=\"#DejaVuSans-30\"/>\n    </g>\n   </g>\n   <g id=\"text_19\">\n    <!-- 0 -->\n    <g style=\"fill: #808080\" transform=\"translate(20.535008 217.214167) scale(0.12 -0.12)\">\n     <use xlink:href=\"#DejaVuSans-30\"/>\n    </g>\n   </g>\n   <g id=\"text_20\">\n    <!-- 0 -->\n    <g style=\"fill: #808080\" transform=\"translate(49.607055 217.214167) scale(0.12 -0.12)\">\n     <use xlink:href=\"#DejaVuSans-30\"/>\n    </g>\n   </g>\n   <g id=\"text_21\">\n    <!-- 0 -->\n    <g style=\"fill: #808080\" transform=\"translate(78.679103 217.214167) scale(0.12 -0.12)\">\n     <use xlink:href=\"#DejaVuSans-30\"/>\n    </g>\n   </g>\n   <g id=\"text_22\">\n    <!-- 0 -->\n    <g style=\"fill: #808080\" transform=\"translate(107.75115 217.214167) scale(0.12 -0.12)\">\n     <use xlink:href=\"#DejaVuSans-30\"/>\n    </g>\n   </g>\n   <g id=\"text_23\">\n    <!-- 1 -->\n    <g style=\"fill: #808080\" transform=\"translate(136.823197 217.214167) scale(0.12 -0.12)\">\n     <defs>\n      <path id=\"DejaVuSans-31\" d=\"M 794 531  L 1825 531  L 1825 4091  L 703 3866  L 703 4441  L 1819 4666  L 2450 4666  L 2450 531  L 3481 531  L 3481 0  L 794 0  L 794 531  z \" transform=\"scale(0.015625)\"/>\n     </defs>\n     <use xlink:href=\"#DejaVuSans-31\"/>\n    </g>\n   </g>\n   <g id=\"text_24\">\n    <!-- 0 -->\n    <g style=\"fill: #808080\" transform=\"translate(165.895245 217.214167) scale(0.12 -0.12)\">\n     <use xlink:href=\"#DejaVuSans-30\"/>\n    </g>\n   </g>\n   <g id=\"text_25\">\n    <!-- 7 -->\n    <g style=\"fill: #808080\" transform=\"translate(194.967292 217.214167) scale(0.12 -0.12)\">\n     <defs>\n      <path id=\"DejaVuSans-37\" d=\"M 525 4666  L 3525 4666  L 3525 4397  L 1831 0  L 1172 0  L 2766 4134  L 525 4134  L 525 4666  z \" transform=\"scale(0.015625)\"/>\n     </defs>\n     <use xlink:href=\"#DejaVuSans-37\"/>\n    </g>\n   </g>\n   <g id=\"text_26\">\n    <!-- 8 -->\n    <g style=\"fill: #808080\" transform=\"translate(224.03934 217.214167) scale(0.12 -0.12)\">\n     <defs>\n      <path id=\"DejaVuSans-38\" d=\"M 2034 2216  Q 1584 2216 1326 1975  Q 1069 1734 1069 1313  Q 1069 891 1326 650  Q 1584 409 2034 409  Q 2484 409 2743 651  Q 3003 894 3003 1313  Q 3003 1734 2745 1975  Q 2488 2216 2034 2216  z M 1403 2484  Q 997 2584 770 2862  Q 544 3141 544 3541  Q 544 4100 942 4425  Q 1341 4750 2034 4750  Q 2731 4750 3128 4425  Q 3525 4100 3525 3541  Q 3525 3141 3298 2862  Q 3072 2584 2669 2484  Q 3125 2378 3379 2068  Q 3634 1759 3634 1313  Q 3634 634 3220 271  Q 2806 -91 2034 -91  Q 1263 -91 848 271  Q 434 634 434 1313  Q 434 1759 690 2068  Q 947 2378 1403 2484  z M 1172 3481  Q 1172 3119 1398 2916  Q 1625 2713 2034 2713  Q 2441 2713 2670 2916  Q 2900 3119 2900 3481  Q 2900 3844 2670 4047  Q 2441 4250 2034 4250  Q 1625 4250 1398 4047  Q 1172 3844 1172 3481  z \" transform=\"scale(0.015625)\"/>\n     </defs>\n     <use xlink:href=\"#DejaVuSans-38\"/>\n    </g>\n   </g>\n   <g id=\"text_27\">\n    <!-- 0 -->\n    <g style=\"fill: #808080\" transform=\"translate(253.111387 217.214167) scale(0.12 -0.12)\">\n     <use xlink:href=\"#DejaVuSans-30\"/>\n    </g>\n   </g>\n   <g id=\"text_28\">\n    <!-- 6 -->\n    <g style=\"fill: #808080\" transform=\"translate(20.535008 188.14212) scale(0.12 -0.12)\">\n     <defs>\n      <path id=\"DejaVuSans-36\" d=\"M 2113 2584  Q 1688 2584 1439 2293  Q 1191 2003 1191 1497  Q 1191 994 1439 701  Q 1688 409 2113 409  Q 2538 409 2786 701  Q 3034 994 3034 1497  Q 3034 2003 2786 2293  Q 2538 2584 2113 2584  z M 3366 4563  L 3366 3988  Q 3128 4100 2886 4159  Q 2644 4219 2406 4219  Q 1781 4219 1451 3797  Q 1122 3375 1075 2522  Q 1259 2794 1537 2939  Q 1816 3084 2150 3084  Q 2853 3084 3261 2657  Q 3669 2231 3669 1497  Q 3669 778 3244 343  Q 2819 -91 2113 -91  Q 1303 -91 875 529  Q 447 1150 447 2328  Q 447 3434 972 4092  Q 1497 4750 2381 4750  Q 2619 4750 2861 4703  Q 3103 4656 3366 4563  z \" transform=\"scale(0.015625)\"/>\n     </defs>\n     <use xlink:href=\"#DejaVuSans-36\"/>\n    </g>\n   </g>\n   <g id=\"text_29\">\n    <!-- 0 -->\n    <g style=\"fill: #808080\" transform=\"translate(49.607055 188.14212) scale(0.12 -0.12)\">\n     <use xlink:href=\"#DejaVuSans-30\"/>\n    </g>\n   </g>\n   <g id=\"text_30\">\n    <!-- 0 -->\n    <g style=\"fill: #808080\" transform=\"translate(78.679103 188.14212) scale(0.12 -0.12)\">\n     <use xlink:href=\"#DejaVuSans-30\"/>\n    </g>\n   </g>\n   <g id=\"text_31\">\n    <!-- 5 -->\n    <g style=\"fill: #808080\" transform=\"translate(107.75115 188.14212) scale(0.12 -0.12)\">\n     <use xlink:href=\"#DejaVuSans-35\"/>\n    </g>\n   </g>\n   <g id=\"text_32\">\n    <!-- 0 -->\n    <g style=\"fill: #808080\" transform=\"translate(136.823197 188.14212) scale(0.12 -0.12)\">\n     <use xlink:href=\"#DejaVuSans-30\"/>\n    </g>\n   </g>\n   <g id=\"text_33\">\n    <!-- 0 -->\n    <g style=\"fill: #808080\" transform=\"translate(165.895245 188.14212) scale(0.12 -0.12)\">\n     <use xlink:href=\"#DejaVuSans-30\"/>\n    </g>\n   </g>\n   <g id=\"text_34\">\n    <!-- 0 -->\n    <g style=\"fill: #808080\" transform=\"translate(194.967292 188.14212) scale(0.12 -0.12)\">\n     <use xlink:href=\"#DejaVuSans-30\"/>\n    </g>\n   </g>\n   <g id=\"text_35\">\n    <!-- 0 -->\n    <g style=\"fill: #808080\" transform=\"translate(224.03934 188.14212) scale(0.12 -0.12)\">\n     <use xlink:href=\"#DejaVuSans-30\"/>\n    </g>\n   </g>\n   <g id=\"text_36\">\n    <!-- 0 -->\n    <g style=\"fill: #808080\" transform=\"translate(253.111387 188.14212) scale(0.12 -0.12)\">\n     <use xlink:href=\"#DejaVuSans-30\"/>\n    </g>\n   </g>\n   <g id=\"text_37\">\n    <!-- 0 -->\n    <g style=\"fill: #808080\" transform=\"translate(20.535008 159.070072) scale(0.12 -0.12)\">\n     <use xlink:href=\"#DejaVuSans-30\"/>\n    </g>\n   </g>\n   <g id=\"text_38\">\n    <!-- 8 -->\n    <g style=\"fill: #808080\" transform=\"translate(49.607055 159.070072) scale(0.12 -0.12)\">\n     <use xlink:href=\"#DejaVuSans-38\"/>\n    </g>\n   </g>\n   <g id=\"text_39\">\n    <!-- 0 -->\n    <g style=\"fill: #808080\" transform=\"translate(78.679103 159.070072) scale(0.12 -0.12)\">\n     <use xlink:href=\"#DejaVuSans-30\"/>\n    </g>\n   </g>\n   <g id=\"text_40\">\n    <!-- 0 -->\n    <g style=\"fill: #808080\" transform=\"translate(107.75115 159.070072) scale(0.12 -0.12)\">\n     <use xlink:href=\"#DejaVuSans-30\"/>\n    </g>\n   </g>\n   <g id=\"text_41\">\n    <!-- 4 -->\n    <g style=\"fill: #808080\" transform=\"translate(136.823197 159.070072) scale(0.12 -0.12)\">\n     <use xlink:href=\"#DejaVuSans-34\"/>\n    </g>\n   </g>\n   <g id=\"text_42\">\n    <!-- 0 -->\n    <g style=\"fill: #808080\" transform=\"translate(165.895245 159.070072) scale(0.12 -0.12)\">\n     <use xlink:href=\"#DejaVuSans-30\"/>\n    </g>\n   </g>\n   <g id=\"text_43\">\n    <!-- 0 -->\n    <g style=\"fill: #808080\" transform=\"translate(194.967292 159.070072) scale(0.12 -0.12)\">\n     <use xlink:href=\"#DejaVuSans-30\"/>\n    </g>\n   </g>\n   <g id=\"text_44\">\n    <!-- 1 -->\n    <g style=\"fill: #808080\" transform=\"translate(224.03934 159.070072) scale(0.12 -0.12)\">\n     <use xlink:href=\"#DejaVuSans-31\"/>\n    </g>\n   </g>\n   <g id=\"text_45\">\n    <!-- 0 -->\n    <g style=\"fill: #808080\" transform=\"translate(253.111387 159.070072) scale(0.12 -0.12)\">\n     <use xlink:href=\"#DejaVuSans-30\"/>\n    </g>\n   </g>\n   <g id=\"text_46\">\n    <!-- 0 -->\n    <g style=\"fill: #808080\" transform=\"translate(20.535008 129.998025) scale(0.12 -0.12)\">\n     <use xlink:href=\"#DejaVuSans-30\"/>\n    </g>\n   </g>\n   <g id=\"text_47\">\n    <!-- 0 -->\n    <g style=\"fill: #808080\" transform=\"translate(49.607055 129.998025) scale(0.12 -0.12)\">\n     <use xlink:href=\"#DejaVuSans-30\"/>\n    </g>\n   </g>\n   <g id=\"text_48\">\n    <!-- 0 -->\n    <g style=\"fill: #808080\" transform=\"translate(78.679103 129.998025) scale(0.12 -0.12)\">\n     <use xlink:href=\"#DejaVuSans-30\"/>\n    </g>\n   </g>\n   <g id=\"text_49\">\n    <!-- 0 -->\n    <g style=\"fill: #808080\" transform=\"translate(107.75115 129.998025) scale(0.12 -0.12)\">\n     <use xlink:href=\"#DejaVuSans-30\"/>\n    </g>\n   </g>\n   <g id=\"text_50\">\n    <!-- 0 -->\n    <g style=\"fill: #808080\" transform=\"translate(136.823197 129.998025) scale(0.12 -0.12)\">\n     <use xlink:href=\"#DejaVuSans-30\"/>\n    </g>\n   </g>\n   <g id=\"text_51\">\n    <!-- 3 -->\n    <g style=\"fill: #808080\" transform=\"translate(165.895245 129.998025) scale(0.12 -0.12)\">\n     <defs>\n      <path id=\"DejaVuSans-33\" d=\"M 2597 2516  Q 3050 2419 3304 2112  Q 3559 1806 3559 1356  Q 3559 666 3084 287  Q 2609 -91 1734 -91  Q 1441 -91 1130 -33  Q 819 25 488 141  L 488 750  Q 750 597 1062 519  Q 1375 441 1716 441  Q 2309 441 2620 675  Q 2931 909 2931 1356  Q 2931 1769 2642 2001  Q 2353 2234 1838 2234  L 1294 2234  L 1294 2753  L 1863 2753  Q 2328 2753 2575 2939  Q 2822 3125 2822 3475  Q 2822 3834 2567 4026  Q 2313 4219 1838 4219  Q 1578 4219 1281 4162  Q 984 4106 628 3988  L 628 4550  Q 988 4650 1302 4700  Q 1616 4750 1894 4750  Q 2613 4750 3031 4423  Q 3450 4097 3450 3541  Q 3450 3153 3228 2886  Q 3006 2619 2597 2516  z \" transform=\"scale(0.015625)\"/>\n     </defs>\n     <use xlink:href=\"#DejaVuSans-33\"/>\n    </g>\n   </g>\n   <g id=\"text_52\">\n    <!-- 0 -->\n    <g style=\"fill: #808080\" transform=\"translate(194.967292 129.998025) scale(0.12 -0.12)\">\n     <use xlink:href=\"#DejaVuSans-30\"/>\n    </g>\n   </g>\n   <g id=\"text_53\">\n    <!-- 0 -->\n    <g style=\"fill: #808080\" transform=\"translate(224.03934 129.998025) scale(0.12 -0.12)\">\n     <use xlink:href=\"#DejaVuSans-30\"/>\n    </g>\n   </g>\n   <g id=\"text_54\">\n    <!-- 2 -->\n    <g style=\"fill: #808080\" transform=\"translate(253.111387 129.998025) scale(0.12 -0.12)\">\n     <defs>\n      <path id=\"DejaVuSans-32\" d=\"M 1228 531  L 3431 531  L 3431 0  L 469 0  L 469 531  Q 828 903 1448 1529  Q 2069 2156 2228 2338  Q 2531 2678 2651 2914  Q 2772 3150 2772 3378  Q 2772 3750 2511 3984  Q 2250 4219 1831 4219  Q 1534 4219 1204 4116  Q 875 4013 500 3803  L 500 4441  Q 881 4594 1212 4672  Q 1544 4750 1819 4750  Q 2544 4750 2975 4387  Q 3406 4025 3406 3419  Q 3406 3131 3298 2873  Q 3191 2616 2906 2266  Q 2828 2175 2409 1742  Q 1991 1309 1228 531  z \" transform=\"scale(0.015625)\"/>\n     </defs>\n     <use xlink:href=\"#DejaVuSans-32\"/>\n    </g>\n   </g>\n   <g id=\"text_55\">\n    <!-- 0 -->\n    <g style=\"fill: #808080\" transform=\"translate(20.535008 100.925978) scale(0.12 -0.12)\">\n     <use xlink:href=\"#DejaVuSans-30\"/>\n    </g>\n   </g>\n   <g id=\"text_56\">\n    <!-- 7 -->\n    <g style=\"fill: #808080\" transform=\"translate(49.607055 100.925978) scale(0.12 -0.12)\">\n     <use xlink:href=\"#DejaVuSans-37\"/>\n    </g>\n   </g>\n   <g id=\"text_57\">\n    <!-- 4 -->\n    <g style=\"fill: #808080\" transform=\"translate(78.679103 100.925978) scale(0.12 -0.12)\">\n     <use xlink:href=\"#DejaVuSans-34\"/>\n    </g>\n   </g>\n   <g id=\"text_58\">\n    <!-- 0 -->\n    <g style=\"fill: #808080\" transform=\"translate(107.75115 100.925978) scale(0.12 -0.12)\">\n     <use xlink:href=\"#DejaVuSans-30\"/>\n    </g>\n   </g>\n   <g id=\"text_59\">\n    <!-- 8 -->\n    <g style=\"fill: #808080\" transform=\"translate(136.823197 100.925978) scale(0.12 -0.12)\">\n     <use xlink:href=\"#DejaVuSans-38\"/>\n    </g>\n   </g>\n   <g id=\"text_60\">\n    <!-- 0 -->\n    <g style=\"fill: #808080\" transform=\"translate(165.895245 100.925978) scale(0.12 -0.12)\">\n     <use xlink:href=\"#DejaVuSans-30\"/>\n    </g>\n   </g>\n   <g id=\"text_61\">\n    <!-- 0 -->\n    <g style=\"fill: #808080\" transform=\"translate(194.967292 100.925978) scale(0.12 -0.12)\">\n     <use xlink:href=\"#DejaVuSans-30\"/>\n    </g>\n   </g>\n   <g id=\"text_62\">\n    <!-- 0 -->\n    <g style=\"fill: #808080\" transform=\"translate(224.03934 100.925978) scale(0.12 -0.12)\">\n     <use xlink:href=\"#DejaVuSans-30\"/>\n    </g>\n   </g>\n   <g id=\"text_63\">\n    <!-- 0 -->\n    <g style=\"fill: #808080\" transform=\"translate(253.111387 100.925978) scale(0.12 -0.12)\">\n     <use xlink:href=\"#DejaVuSans-30\"/>\n    </g>\n   </g>\n   <g id=\"text_64\">\n    <!-- 0 -->\n    <g style=\"fill: #808080\" transform=\"translate(20.535008 71.85393) scale(0.12 -0.12)\">\n     <use xlink:href=\"#DejaVuSans-30\"/>\n    </g>\n   </g>\n   <g id=\"text_65\">\n    <!-- 0 -->\n    <g style=\"fill: #808080\" transform=\"translate(49.607055 71.85393) scale(0.12 -0.12)\">\n     <use xlink:href=\"#DejaVuSans-30\"/>\n    </g>\n   </g>\n   <g id=\"text_66\">\n    <!-- 0 -->\n    <g style=\"fill: #808080\" transform=\"translate(78.679103 71.85393) scale(0.12 -0.12)\">\n     <use xlink:href=\"#DejaVuSans-30\"/>\n    </g>\n   </g>\n   <g id=\"text_67\">\n    <!-- 6 -->\n    <g style=\"fill: #808080\" transform=\"translate(107.75115 71.85393) scale(0.12 -0.12)\">\n     <use xlink:href=\"#DejaVuSans-36\"/>\n    </g>\n   </g>\n   <g id=\"text_68\">\n    <!-- 0 -->\n    <g style=\"fill: #808080\" transform=\"translate(136.823197 71.85393) scale(0.12 -0.12)\">\n     <use xlink:href=\"#DejaVuSans-30\"/>\n    </g>\n   </g>\n   <g id=\"text_69\">\n    <!-- 0 -->\n    <g style=\"fill: #808080\" transform=\"translate(165.895245 71.85393) scale(0.12 -0.12)\">\n     <use xlink:href=\"#DejaVuSans-30\"/>\n    </g>\n   </g>\n   <g id=\"text_70\">\n    <!-- 0 -->\n    <g style=\"fill: #808080\" transform=\"translate(194.967292 71.85393) scale(0.12 -0.12)\">\n     <use xlink:href=\"#DejaVuSans-30\"/>\n    </g>\n   </g>\n   <g id=\"text_71\">\n    <!-- 0 -->\n    <g style=\"fill: #808080\" transform=\"translate(224.03934 71.85393) scale(0.12 -0.12)\">\n     <use xlink:href=\"#DejaVuSans-30\"/>\n    </g>\n   </g>\n   <g id=\"text_72\">\n    <!-- 3 -->\n    <g style=\"fill: #808080\" transform=\"translate(253.111387 71.85393) scale(0.12 -0.12)\">\n     <use xlink:href=\"#DejaVuSans-33\"/>\n    </g>\n   </g>\n   <g id=\"text_73\">\n    <!-- 0 -->\n    <g style=\"fill: #808080\" transform=\"translate(20.535008 42.781883) scale(0.12 -0.12)\">\n     <use xlink:href=\"#DejaVuSans-30\"/>\n    </g>\n   </g>\n   <g id=\"text_74\">\n    <!-- 2 -->\n    <g style=\"fill: #808080\" transform=\"translate(49.607055 42.781883) scale(0.12 -0.12)\">\n     <use xlink:href=\"#DejaVuSans-32\"/>\n    </g>\n   </g>\n   <g id=\"text_75\">\n    <!-- 0 -->\n    <g style=\"fill: #808080\" transform=\"translate(78.679103 42.781883) scale(0.12 -0.12)\">\n     <use xlink:href=\"#DejaVuSans-30\"/>\n    </g>\n   </g>\n   <g id=\"text_76\">\n    <!-- 0 -->\n    <g style=\"fill: #808080\" transform=\"translate(107.75115 42.781883) scale(0.12 -0.12)\">\n     <use xlink:href=\"#DejaVuSans-30\"/>\n    </g>\n   </g>\n   <g id=\"text_77\">\n    <!-- 0 -->\n    <g style=\"fill: #808080\" transform=\"translate(136.823197 42.781883) scale(0.12 -0.12)\">\n     <use xlink:href=\"#DejaVuSans-30\"/>\n    </g>\n   </g>\n   <g id=\"text_78\">\n    <!-- 0 -->\n    <g style=\"fill: #808080\" transform=\"translate(165.895245 42.781883) scale(0.12 -0.12)\">\n     <use xlink:href=\"#DejaVuSans-30\"/>\n    </g>\n   </g>\n   <g id=\"text_79\">\n    <!-- 0 -->\n    <g style=\"fill: #808080\" transform=\"translate(194.967292 42.781883) scale(0.12 -0.12)\">\n     <use xlink:href=\"#DejaVuSans-30\"/>\n    </g>\n   </g>\n   <g id=\"text_80\">\n    <!-- 0 -->\n    <g style=\"fill: #808080\" transform=\"translate(224.03934 42.781883) scale(0.12 -0.12)\">\n     <use xlink:href=\"#DejaVuSans-30\"/>\n    </g>\n   </g>\n   <g id=\"text_81\">\n    <!-- 0 -->\n    <g style=\"fill: #808080\" transform=\"translate(253.111387 42.781883) scale(0.12 -0.12)\">\n     <use xlink:href=\"#DejaVuSans-30\"/>\n    </g>\n   </g>\n   <g id=\"text_82\">\n    <!-- Sudoku grid -->\n    <g transform=\"translate(7.2 16.318125) scale(0.12 -0.12)\">\n     <defs>\n      <path id=\"DejaVuSans-Bold-53\" d=\"M 3834 4519  L 3834 3531  Q 3450 3703 3084 3790  Q 2719 3878 2394 3878  Q 1963 3878 1756 3759  Q 1550 3641 1550 3391  Q 1550 3203 1689 3098  Q 1828 2994 2194 2919  L 2706 2816  Q 3484 2659 3812 2340  Q 4141 2022 4141 1434  Q 4141 663 3683 286  Q 3225 -91 2284 -91  Q 1841 -91 1394 -6  Q 947 78 500 244  L 500 1259  Q 947 1022 1364 901  Q 1781 781 2169 781  Q 2563 781 2772 912  Q 2981 1044 2981 1288  Q 2981 1506 2839 1625  Q 2697 1744 2272 1838  L 1806 1941  Q 1106 2091 782 2419  Q 459 2747 459 3303  Q 459 4000 909 4375  Q 1359 4750 2203 4750  Q 2588 4750 2994 4692  Q 3400 4634 3834 4519  z \" transform=\"scale(0.015625)\"/>\n      <path id=\"DejaVuSans-Bold-75\" d=\"M 500 1363  L 500 3500  L 1625 3500  L 1625 3150  Q 1625 2866 1622 2436  Q 1619 2006 1619 1863  Q 1619 1441 1641 1255  Q 1663 1069 1716 984  Q 1784 875 1895 815  Q 2006 756 2150 756  Q 2500 756 2700 1025  Q 2900 1294 2900 1772  L 2900 3500  L 4019 3500  L 4019 0  L 2900 0  L 2900 506  Q 2647 200 2364 54  Q 2081 -91 1741 -91  Q 1134 -91 817 281  Q 500 653 500 1363  z \" transform=\"scale(0.015625)\"/>\n      <path id=\"DejaVuSans-Bold-64\" d=\"M 2919 2988  L 2919 4863  L 4044 4863  L 4044 0  L 2919 0  L 2919 506  Q 2688 197 2409 53  Q 2131 -91 1766 -91  Q 1119 -91 703 423  Q 288 938 288 1747  Q 288 2556 703 3070  Q 1119 3584 1766 3584  Q 2128 3584 2408 3439  Q 2688 3294 2919 2988  z M 2181 722  Q 2541 722 2730 984  Q 2919 1247 2919 1747  Q 2919 2247 2730 2509  Q 2541 2772 2181 2772  Q 1825 2772 1636 2509  Q 1447 2247 1447 1747  Q 1447 1247 1636 984  Q 1825 722 2181 722  z \" transform=\"scale(0.015625)\"/>\n      <path id=\"DejaVuSans-Bold-6f\" d=\"M 2203 2784  Q 1831 2784 1636 2517  Q 1441 2250 1441 1747  Q 1441 1244 1636 976  Q 1831 709 2203 709  Q 2569 709 2762 976  Q 2956 1244 2956 1747  Q 2956 2250 2762 2517  Q 2569 2784 2203 2784  z M 2203 3584  Q 3106 3584 3614 3096  Q 4122 2609 4122 1747  Q 4122 884 3614 396  Q 3106 -91 2203 -91  Q 1297 -91 786 396  Q 275 884 275 1747  Q 275 2609 786 3096  Q 1297 3584 2203 3584  z \" transform=\"scale(0.015625)\"/>\n      <path id=\"DejaVuSans-Bold-6b\" d=\"M 538 4863  L 1656 4863  L 1656 2216  L 2944 3500  L 4244 3500  L 2534 1894  L 4378 0  L 3022 0  L 1656 1459  L 1656 0  L 538 0  L 538 4863  z \" transform=\"scale(0.015625)\"/>\n      <path id=\"DejaVuSans-Bold-20\" transform=\"scale(0.015625)\"/>\n      <path id=\"DejaVuSans-Bold-67\" d=\"M 2919 594  Q 2688 288 2409 144  Q 2131 0 1766 0  Q 1125 0 706 504  Q 288 1009 288 1791  Q 288 2575 706 3076  Q 1125 3578 1766 3578  Q 2131 3578 2409 3434  Q 2688 3291 2919 2981  L 2919 3500  L 4044 3500  L 4044 353  Q 4044 -491 3511 -936  Q 2978 -1381 1966 -1381  Q 1638 -1381 1331 -1331  Q 1025 -1281 716 -1178  L 716 -306  Q 1009 -475 1290 -558  Q 1572 -641 1856 -641  Q 2406 -641 2662 -400  Q 2919 -159 2919 353  L 2919 594  z M 2181 2772  Q 1834 2772 1640 2515  Q 1447 2259 1447 1791  Q 1447 1309 1634 1061  Q 1822 813 2181 813  Q 2531 813 2725 1069  Q 2919 1325 2919 1791  Q 2919 2259 2725 2515  Q 2531 2772 2181 2772  z \" transform=\"scale(0.015625)\"/>\n      <path id=\"DejaVuSans-Bold-72\" d=\"M 3138 2547  Q 2991 2616 2845 2648  Q 2700 2681 2553 2681  Q 2122 2681 1889 2404  Q 1656 2128 1656 1613  L 1656 0  L 538 0  L 538 3500  L 1656 3500  L 1656 2925  Q 1872 3269 2151 3426  Q 2431 3584 2822 3584  Q 2878 3584 2943 3579  Q 3009 3575 3134 3559  L 3138 2547  z \" transform=\"scale(0.015625)\"/>\n      <path id=\"DejaVuSans-Bold-69\" d=\"M 538 3500  L 1656 3500  L 1656 0  L 538 0  L 538 3500  z M 538 4863  L 1656 4863  L 1656 3950  L 538 3950  L 538 4863  z \" transform=\"scale(0.015625)\"/>\n     </defs>\n     <use xlink:href=\"#DejaVuSans-Bold-53\"/>\n     <use xlink:href=\"#DejaVuSans-Bold-75\" x=\"72.021484\"/>\n     <use xlink:href=\"#DejaVuSans-Bold-64\" x=\"143.212891\"/>\n     <use xlink:href=\"#DejaVuSans-Bold-6f\" x=\"214.794922\"/>\n     <use xlink:href=\"#DejaVuSans-Bold-6b\" x=\"283.496094\"/>\n     <use xlink:href=\"#DejaVuSans-Bold-75\" x=\"350\"/>\n     <use xlink:href=\"#DejaVuSans-Bold-20\" x=\"421.191406\"/>\n     <use xlink:href=\"#DejaVuSans-Bold-67\" x=\"456.005859\"/>\n     <use xlink:href=\"#DejaVuSans-Bold-72\" x=\"527.587891\"/>\n     <use xlink:href=\"#DejaVuSans-Bold-69\" x=\"576.904297\"/>\n     <use xlink:href=\"#DejaVuSans-Bold-64\" x=\"611.181641\"/>\n    </g>\n   </g>\n  </g>\n </g>\n <defs>\n  <clipPath id=\"pde92987eb8\">\n   <rect x=\"7.2\" y=\"22.318125\" width=\"266.881395\" height=\"266.881395\"/>\n  </clipPath>\n </defs>\n</svg>"
          },
          "metadata": {},
          "execution_count": 59
        }
      ],
      "source": [
        "display(Image(figure_data(grid, \"Sudoku grid\", \"png\")))\n",
        "SVG(figure_data(grid, \"Sudoku grid\", \"svg\"))"
      ]
    },
    {
      "cell_type": "code",
      "execution_count": 61,
      "metadata": {
        "id": "GW42sjBgxsrn"
      },
      "outputs": [],
      "source": [
        "def char_value(x):\n",
        "    return int(x) if x.isdigit() else 0\n",
        "\n",
        "class Sudoku:\n",
        "    html_grid = HTMLGrid()\n",
        "\n",
        "    def __init__(self, grid, name=None):\n",
        "        self.grid = grid\n",
        "        self.name = name if name is not None else \"Unnamed Sudoku\"\n",
        "        self._svg_data = None\n",
        "\n",
        "    @classmethod\n",
        "    def from_str(cls, grid, name):\n",
        "        grid = [[char_value(x) for x in line.strip()] for line in grid]\n",
        "        return cls(grid, name)\n",
        "\n",
        "    def enumerate(self):\n",
        "        grid = self.grid\n",
        "        for row, line in enumerate(grid, 1):\n",
        "            for col, value in enumerate(line, 1):\n",
        "                if value != 0:\n",
        "                    yield row, col, value\n",
        "\n",
        "    def copy(self):\n",
        "        grid = [line.copy() for line in self.grid]\n",
        "        return type(self)(grid, self.name)\n",
        "\n",
        "    def as_symbols(self, symbols=\" 𝟭𝟮𝟯𝟰𝟱𝟲𝟳𝟴𝟵\", neg_symbols=\" 123456789\"):\n",
        "        return [\n",
        "            [symbols[abs(x)] if x>=0 else neg_symbols[abs(x)]  for x in line]\n",
        "            for line in self.grid\n",
        "            ]\n",
        "\n",
        "    def txt(self):\n",
        "        return '\\n'.join(map(' '.join, self.as_symbols(\"_𝟭𝟮𝟯𝟰𝟱𝟲𝟳𝟴𝟵\", \"_123456789\")))\n",
        "\n",
        "    def __str__(self):\n",
        "        return f'{self.name}:\\n{self.txt()}'\n",
        "\n",
        "    def _repr_html_(self):\n",
        "        return self.html_grid(self.grid, self.name)\n",
        "\n",
        "    def _repr_svg_(self):\n",
        "        return self.svg\n",
        "\n",
        "    @property\n",
        "    def svg(self):\n",
        "        if self._svg_data is None:\n",
        "            fig = self.draw()\n",
        "            self._svg_data = print_figure(fig, fmt=\"svg\")\n",
        "        return self._svg_data\n",
        "\n",
        "    def draw(self, **kwargs):\n",
        "        grid = self.grid\n",
        "        size = len(grid)\n",
        "        ax = plt.subplot(1, 1, 1, aspect=\"equal\")\n",
        "        ax.axis(\"off\")\n",
        "        ax.set_title(self.name, loc=\"left\", fontdict={\"weight\": \"bold\"})\n",
        "\n",
        "        text_args = {\n",
        "            'fontsize': \"12\",\n",
        "            'color': \"gray\",\n",
        "            'ha': 'center',\n",
        "            'va': 'center'\n",
        "            }\n",
        "        text_args.update(kwargs)\n",
        "        for row, col, value in self.enumerate():\n",
        "            row = size-row+1\n",
        "            if value > 0:\n",
        "                ax.fill([col-1, col, col, col-1], [row-1, row-1, row, row], color=\"lightgray\", alpha=0.5)\n",
        "\n",
        "            ax.text(\n",
        "                col-0.5, row-0.5,\n",
        "                abs(value),\n",
        "                **text_args,\n",
        "                fontweight= \"bold\" if value > 0 else 'normal'\n",
        "            )\n",
        "\n",
        "        for x in range(size+1):\n",
        "            linewidth = 1\n",
        "            if x % 3 == 0:\n",
        "                linewidth = 2\n",
        "            ax.plot((0, size), (x, x), color=\"black\", linewidth=linewidth)\n",
        "            ax.plot((x, x), (0, size), color=\"black\", linewidth=linewidth)\n",
        "\n",
        "        plt.close(ax.figure)\n",
        "\n",
        "        return ax.figure\n"
      ]
    },
    {
      "cell_type": "markdown",
      "metadata": {
        "id": "3SOelGIixsro"
      },
      "source": [
        "### Egy nehéz sudoku"
      ]
    },
    {
      "cell_type": "code",
      "execution_count": 62,
      "metadata": {
        "id": "0z32nHksxsro",
        "outputId": "728d0834-18ee-43db-829d-d16fea618666",
        "colab": {
          "base_uri": "https://localhost:8080/",
          "height": 428
        }
      },
      "outputs": [
        {
          "output_type": "execute_result",
          "data": {
            "text/plain": [
              "<Figure size 640x480 with 1 Axes>"
            ],
            "image/png": "[encoded data removed]"
          },
          "metadata": {},
          "execution_count": 62
        }
      ],
      "source": [
        "grid=[\n",
        "    [0, 2, 0, 0, 0, 0, 0, 0, 0],\n",
        "    [0, 0, 0, 6, 0, 0, 0, 0, 3],\n",
        "    [0, 7, 4, 0, 8, 0, 0, 0, 0],\n",
        "    [0, 0, 0, 0, 0, 3, 0, 0, 2],\n",
        "    [0, 8, 0, 0, 4, 0, 0, 1, 0],\n",
        "    [6, 0, 0, 5, 0, 0, 0, 0, 0],\n",
        "    [0, 0, 0, 0, 1, 0, 7, 8, 0],\n",
        "    [5, 0, 0, 0, 0, 9, 0, 0, 0],\n",
        "    [0, 0, 0, 0, 0, 0, 0, 4, 0]\n",
        "    ]\n",
        "sudoku = Sudoku(grid, \"A hard problem\")\n",
        "\n",
        "sudoku.draw()"
      ]
    },
    {
      "cell_type": "code",
      "execution_count": 63,
      "metadata": {
        "id": "zyJ8Tcfvxsro",
        "outputId": "0826cded-9c2f-41a8-f4f5-9b8dc23bac8c",
        "colab": {
          "base_uri": "https://localhost:8080/",
          "height": 1000
        }
      },
      "outputs": [
        {
          "output_type": "stream",
          "name": "stdout",
          "text": [
            "A hard problem:\n",
            "_ 𝟮 _ _ _ _ _ _ _\n",
            "_ _ _ 𝟲 _ _ _ _ 𝟯\n",
            "_ 𝟳 𝟰 _ 𝟴 _ _ _ _\n",
            "_ _ _ _ _ 𝟯 _ _ 𝟮\n",
            "_ 𝟴 _ _ 𝟰 _ _ 𝟭 _\n",
            "𝟲 _ _ 𝟱 _ _ _ _ _\n",
            "_ _ _ _ 𝟭 _ 𝟳 𝟴 _\n",
            "𝟱 _ _ _ _ 𝟵 _ _ _\n",
            "_ _ _ _ _ _ _ 𝟰 _\n"
          ]
        },
        {
          "output_type": "display_data",
          "data": {
            "text/plain": [
              "<__main__.Sudoku at 0x7e8cec7a5900>"
            ],
            "text/html": [
              "<html>\n",
              "<head>\n",
              "<style>\n",
              "\n",
              "        .sudoku-board-e50a9f94-acca-11ef-bf0c-0242ac1c000c, .sudoku-board-e50a9f94-acca-11ef-bf0c-0242ac1c000c .box, .sudoku-board-e50a9f94-acca-11ef-bf0c-0242ac1c000c .box div {\n",
              "            box-sizing: border-box;\n",
              "        }\n",
              "\n",
              "        .sudoku-board-e50a9f94-acca-11ef-bf0c-0242ac1c000c, .sudoku-board-e50a9f94-acca-11ef-bf0c-0242ac1c000c .box{\n",
              "            display: flex;\n",
              "            flex-wrap: wrap;\n",
              "        }\n",
              "\n",
              "        .sudoku-board-e50a9f94-acca-11ef-bf0c-0242ac1c000c .box {\n",
              "           border: solid 1px;\n",
              "           width: 152px;\n",
              "        }\n",
              "\n",
              "        .sudoku-board-e50a9f94-acca-11ef-bf0c-0242ac1c000c .box > div {\n",
              "            border: solid 1px;\n",
              "            width: 50px;\n",
              "            text-align: center;\n",
              "        }\n",
              "\n",
              "        .sudoku-board-e50a9f94-acca-11ef-bf0c-0242ac1c000c .box > div:before {\n",
              "            display: inline-block;\n",
              "            padding-top: 100%;\n",
              "            content: '';\n",
              "            vertical-align: middle;\n",
              "        }\n",
              "\n",
              "        .sudoku-board-e50a9f94-acca-11ef-bf0c-0242ac1c000c .box .clue {\n",
              "            background-color: LightGray;\n",
              "            font-weight: bold;\n",
              "        }\n",
              "\n",
              "        .sudoku-board-e50a9f94-acca-11ef-bf0c-0242ac1c000c {\n",
              "            width: 460px;\n",
              "            margin: 0px;\n",
              "            font-size: calc(0.8vw + 10px);\n",
              "            border: solid 2px;\n",
              "        }\n",
              "\n",
              "        .sudoku-board-e50a9f94-acca-11ef-bf0c-0242ac1c000c .box div {\n",
              "            color: gray;\n",
              "            text-shadow: 1px 1px 1px white;\n",
              "            vertical-align: middle;\n",
              "        }\n",
              "    \n",
              "</style>\n",
              "</head>\n",
              "<body>\n",
              "<h3>A hard problem</h3>\n",
              "<div class=\"sudoku-board-e50a9f94-acca-11ef-bf0c-0242ac1c000c\">\n",
              "<div class=\"box\"><div ></div><div class=\"clue\">2</div><div ></div><div ></div><div ></div><div ></div><div ></div><div class=\"clue\">7</div><div class=\"clue\">4</div></div>\n",
              "<div class=\"box\"><div ></div><div ></div><div ></div><div class=\"clue\">6</div><div ></div><div ></div><div ></div><div class=\"clue\">8</div><div ></div></div>\n",
              "<div class=\"box\"><div ></div><div ></div><div ></div><div ></div><div ></div><div class=\"clue\">3</div><div ></div><div ></div><div ></div></div>\n",
              "<div class=\"box\"><div ></div><div ></div><div ></div><div ></div><div class=\"clue\">8</div><div ></div><div class=\"clue\">6</div><div ></div><div ></div></div>\n",
              "<div class=\"box\"><div ></div><div ></div><div class=\"clue\">3</div><div ></div><div class=\"clue\">4</div><div ></div><div class=\"clue\">5</div><div ></div><div ></div></div>\n",
              "<div class=\"box\"><div ></div><div ></div><div class=\"clue\">2</div><div ></div><div class=\"clue\">1</div><div ></div><div ></div><div ></div><div ></div></div>\n",
              "<div class=\"box\"><div ></div><div ></div><div ></div><div class=\"clue\">5</div><div ></div><div ></div><div ></div><div ></div><div ></div></div>\n",
              "<div class=\"box\"><div ></div><div class=\"clue\">1</div><div ></div><div ></div><div ></div><div class=\"clue\">9</div><div ></div><div ></div><div ></div></div>\n",
              "<div class=\"box\"><div class=\"clue\">7</div><div class=\"clue\">8</div><div ></div><div ></div><div ></div><div ></div><div ></div><div class=\"clue\">4</div><div ></div></div>\n",
              "</div>\n",
              "</body></html>"
            ],
            "image/svg+xml": "<?xml version=\"1.0\" encoding=\"utf-8\" standalone=\"no\"?>\n<!DOCTYPE svg PUBLIC \"-//W3C//DTD SVG 1.1//EN\"\n  \"http://www.w3.org/Graphics/SVG/1.1/DTD/svg11.dtd\">\n<svg xmlns:xlink=\"http://www.w3.org/1999/xlink\" width=\"280.512pt\" height=\"295.630125pt\" viewBox=\"0 0 280.512 295.630125\" xmlns=\"http://www.w3.org/2000/svg\" version=\"1.1\">\n <metadata>\n  <rdf:RDF xmlns:dc=\"http://purl.org/dc/elements/1.1/\" xmlns:cc=\"http://creativecommons.org/ns#\" xmlns:rdf=\"http://www.w3.org/1999/02/22-rdf-syntax-ns#\">\n   <cc:Work>\n    <dc:type rdf:resource=\"http://purl.org/dc/dcmitype/StillImage\"/>\n    <dc:date>2024-11-27T14:21:29.950204</dc:date>\n    <dc:format>image/svg+xml</dc:format>\n    <dc:creator>\n     <cc:Agent>\n      <dc:title>Matplotlib v3.8.0, https://matplotlib.org/</dc:title>\n     </cc:Agent>\n    </dc:creator>\n   </cc:Work>\n  </rdf:RDF>\n </metadata>\n <defs>\n  <style type=\"text/css\">*{stroke-linejoin: round; stroke-linecap: butt}</style>\n </defs>\n <g id=\"figure_1\">\n  <g id=\"patch_1\">\n   <path d=\"M 0 295.630125 \nL 280.512 295.630125 \nL 280.512 0 \nL 0 0 \nz\n\" style=\"fill: #ffffff\"/>\n  </g>\n  <g id=\"axes_1\">\n   <g id=\"patch_2\">\n    <path d=\"M 46.176 61.294125 \nL 73.056 61.294125 \nL 73.056 34.414125 \nL 46.176 34.414125 \nz\n\" clip-path=\"url(#p8edacbd77a)\" style=\"fill: #d3d3d3; opacity: 0.5; stroke: #d3d3d3; stroke-linejoin: miter\"/>\n   </g>\n   <g id=\"patch_3\">\n    <path d=\"M 99.936 88.174125 \nL 126.816 88.174125 \nL 126.816 61.294125 \nL 99.936 61.294125 \nz\n\" clip-path=\"url(#p8edacbd77a)\" style=\"fill: #d3d3d3; opacity: 0.5; stroke: #d3d3d3; stroke-linejoin: miter\"/>\n   </g>\n   <g id=\"patch_4\">\n    <path d=\"M 234.336 88.174125 \nL 261.216 88.174125 \nL 261.216 61.294125 \nL 234.336 61.294125 \nz\n\" clip-path=\"url(#p8edacbd77a)\" style=\"fill: #d3d3d3; opacity: 0.5; stroke: #d3d3d3; stroke-linejoin: miter\"/>\n   </g>\n   <g id=\"patch_5\">\n    <path d=\"M 46.176 115.054125 \nL 73.056 115.054125 \nL 73.056 88.174125 \nL 46.176 88.174125 \nz\n\" clip-path=\"url(#p8edacbd77a)\" style=\"fill: #d3d3d3; opacity: 0.5; stroke: #d3d3d3; stroke-linejoin: miter\"/>\n   </g>\n   <g id=\"patch_6\">\n    <path d=\"M 73.056 115.054125 \nL 99.936 115.054125 \nL 99.936 88.174125 \nL 73.056 88.174125 \nz\n\" clip-path=\"url(#p8edacbd77a)\" style=\"fill: #d3d3d3; opacity: 0.5; stroke: #d3d3d3; stroke-linejoin: miter\"/>\n   </g>\n   <g id=\"patch_7\">\n    <path d=\"M 126.816 115.054125 \nL 153.696 115.054125 \nL 153.696 88.174125 \nL 126.816 88.174125 \nz\n\" clip-path=\"url(#p8edacbd77a)\" style=\"fill: #d3d3d3; opacity: 0.5; stroke: #d3d3d3; stroke-linejoin: miter\"/>\n   </g>\n   <g id=\"patch_8\">\n    <path d=\"M 153.696 141.934125 \nL 180.576 141.934125 \nL 180.576 115.054125 \nL 153.696 115.054125 \nz\n\" clip-path=\"url(#p8edacbd77a)\" style=\"fill: #d3d3d3; opacity: 0.5; stroke: #d3d3d3; stroke-linejoin: miter\"/>\n   </g>\n   <g id=\"patch_9\">\n    <path d=\"M 234.336 141.934125 \nL 261.216 141.934125 \nL 261.216 115.054125 \nL 234.336 115.054125 \nz\n\" clip-path=\"url(#p8edacbd77a)\" style=\"fill: #d3d3d3; opacity: 0.5; stroke: #d3d3d3; stroke-linejoin: miter\"/>\n   </g>\n   <g id=\"patch_10\">\n    <path d=\"M 46.176 168.814125 \nL 73.056 168.814125 \nL 73.056 141.934125 \nL 46.176 141.934125 \nz\n\" clip-path=\"url(#p8edacbd77a)\" style=\"fill: #d3d3d3; opacity: 0.5; stroke: #d3d3d3; stroke-linejoin: miter\"/>\n   </g>\n   <g id=\"patch_11\">\n    <path d=\"M 126.816 168.814125 \nL 153.696 168.814125 \nL 153.696 141.934125 \nL 126.816 141.934125 \nz\n\" clip-path=\"url(#p8edacbd77a)\" style=\"fill: #d3d3d3; opacity: 0.5; stroke: #d3d3d3; stroke-linejoin: miter\"/>\n   </g>\n   <g id=\"patch_12\">\n    <path d=\"M 207.456 168.814125 \nL 234.336 168.814125 \nL 234.336 141.934125 \nL 207.456 141.934125 \nz\n\" clip-path=\"url(#p8edacbd77a)\" style=\"fill: #d3d3d3; opacity: 0.5; stroke: #d3d3d3; stroke-linejoin: miter\"/>\n   </g>\n   <g id=\"patch_13\">\n    <path d=\"M 19.296 195.694125 \nL 46.176 195.694125 \nL 46.176 168.814125 \nL 19.296 168.814125 \nz\n\" clip-path=\"url(#p8edacbd77a)\" style=\"fill: #d3d3d3; opacity: 0.5; stroke: #d3d3d3; stroke-linejoin: miter\"/>\n   </g>\n   <g id=\"patch_14\">\n    <path d=\"M 99.936 195.694125 \nL 126.816 195.694125 \nL 126.816 168.814125 \nL 99.936 168.814125 \nz\n\" clip-path=\"url(#p8edacbd77a)\" style=\"fill: #d3d3d3; opacity: 0.5; stroke: #d3d3d3; stroke-linejoin: miter\"/>\n   </g>\n   <g id=\"patch_15\">\n    <path d=\"M 126.816 222.574125 \nL 153.696 222.574125 \nL 153.696 195.694125 \nL 126.816 195.694125 \nz\n\" clip-path=\"url(#p8edacbd77a)\" style=\"fill: #d3d3d3; opacity: 0.5; stroke: #d3d3d3; stroke-linejoin: miter\"/>\n   </g>\n   <g id=\"patch_16\">\n    <path d=\"M 180.576 222.574125 \nL 207.456 222.574125 \nL 207.456 195.694125 \nL 180.576 195.694125 \nz\n\" clip-path=\"url(#p8edacbd77a)\" style=\"fill: #d3d3d3; opacity: 0.5; stroke: #d3d3d3; stroke-linejoin: miter\"/>\n   </g>\n   <g id=\"patch_17\">\n    <path d=\"M 207.456 222.574125 \nL 234.336 222.574125 \nL 234.336 195.694125 \nL 207.456 195.694125 \nz\n\" clip-path=\"url(#p8edacbd77a)\" style=\"fill: #d3d3d3; opacity: 0.5; stroke: #d3d3d3; stroke-linejoin: miter\"/>\n   </g>\n   <g id=\"patch_18\">\n    <path d=\"M 19.296 249.454125 \nL 46.176 249.454125 \nL 46.176 222.574125 \nL 19.296 222.574125 \nz\n\" clip-path=\"url(#p8edacbd77a)\" style=\"fill: #d3d3d3; opacity: 0.5; stroke: #d3d3d3; stroke-linejoin: miter\"/>\n   </g>\n   <g id=\"patch_19\">\n    <path d=\"M 153.696 249.454125 \nL 180.576 249.454125 \nL 180.576 222.574125 \nL 153.696 222.574125 \nz\n\" clip-path=\"url(#p8edacbd77a)\" style=\"fill: #d3d3d3; opacity: 0.5; stroke: #d3d3d3; stroke-linejoin: miter\"/>\n   </g>\n   <g id=\"patch_20\">\n    <path d=\"M 207.456 276.334125 \nL 234.336 276.334125 \nL 234.336 249.454125 \nL 207.456 249.454125 \nz\n\" clip-path=\"url(#p8edacbd77a)\" style=\"fill: #d3d3d3; opacity: 0.5; stroke: #d3d3d3; stroke-linejoin: miter\"/>\n   </g>\n   <g id=\"line2d_1\">\n    <path d=\"M 19.296 276.334125 \nL 261.216 276.334125 \n\" clip-path=\"url(#p8edacbd77a)\" style=\"fill: none; stroke: #000000; stroke-width: 2; stroke-linecap: square\"/>\n   </g>\n   <g id=\"line2d_2\">\n    <path d=\"M 19.296 276.334125 \nL 19.296 34.414125 \n\" clip-path=\"url(#p8edacbd77a)\" style=\"fill: none; stroke: #000000; stroke-width: 2; stroke-linecap: square\"/>\n   </g>\n   <g id=\"line2d_3\">\n    <path d=\"M 19.296 249.454125 \nL 261.216 249.454125 \n\" clip-path=\"url(#p8edacbd77a)\" style=\"fill: none; stroke: #000000; stroke-linecap: square\"/>\n   </g>\n   <g id=\"line2d_4\">\n    <path d=\"M 46.176 276.334125 \nL 46.176 34.414125 \n\" clip-path=\"url(#p8edacbd77a)\" style=\"fill: none; stroke: #000000; stroke-linecap: square\"/>\n   </g>\n   <g id=\"line2d_5\">\n    <path d=\"M 19.296 222.574125 \nL 261.216 222.574125 \n\" clip-path=\"url(#p8edacbd77a)\" style=\"fill: none; stroke: #000000; stroke-linecap: square\"/>\n   </g>\n   <g id=\"line2d_6\">\n    <path d=\"M 73.056 276.334125 \nL 73.056 34.414125 \n\" clip-path=\"url(#p8edacbd77a)\" style=\"fill: none; stroke: #000000; stroke-linecap: square\"/>\n   </g>\n   <g id=\"line2d_7\">\n    <path d=\"M 19.296 195.694125 \nL 261.216 195.694125 \n\" clip-path=\"url(#p8edacbd77a)\" style=\"fill: none; stroke: #000000; stroke-width: 2; stroke-linecap: square\"/>\n   </g>\n   <g id=\"line2d_8\">\n    <path d=\"M 99.936 276.334125 \nL 99.936 34.414125 \n\" clip-path=\"url(#p8edacbd77a)\" style=\"fill: none; stroke: #000000; stroke-width: 2; stroke-linecap: square\"/>\n   </g>\n   <g id=\"line2d_9\">\n    <path d=\"M 19.296 168.814125 \nL 261.216 168.814125 \n\" clip-path=\"url(#p8edacbd77a)\" style=\"fill: none; stroke: #000000; stroke-linecap: square\"/>\n   </g>\n   <g id=\"line2d_10\">\n    <path d=\"M 126.816 276.334125 \nL 126.816 34.414125 \n\" clip-path=\"url(#p8edacbd77a)\" style=\"fill: none; stroke: #000000; stroke-linecap: square\"/>\n   </g>\n   <g id=\"line2d_11\">\n    <path d=\"M 19.296 141.934125 \nL 261.216 141.934125 \n\" clip-path=\"url(#p8edacbd77a)\" style=\"fill: none; stroke: #000000; stroke-linecap: square\"/>\n   </g>\n   <g id=\"line2d_12\">\n    <path d=\"M 153.696 276.334125 \nL 153.696 34.414125 \n\" clip-path=\"url(#p8edacbd77a)\" style=\"fill: none; stroke: #000000; stroke-linecap: square\"/>\n   </g>\n   <g id=\"line2d_13\">\n    <path d=\"M 19.296 115.054125 \nL 261.216 115.054125 \n\" clip-path=\"url(#p8edacbd77a)\" style=\"fill: none; stroke: #000000; stroke-width: 2; stroke-linecap: square\"/>\n   </g>\n   <g id=\"line2d_14\">\n    <path d=\"M 180.576 276.334125 \nL 180.576 34.414125 \n\" clip-path=\"url(#p8edacbd77a)\" style=\"fill: none; stroke: #000000; stroke-width: 2; stroke-linecap: square\"/>\n   </g>\n   <g id=\"line2d_15\">\n    <path d=\"M 19.296 88.174125 \nL 261.216 88.174125 \n\" clip-path=\"url(#p8edacbd77a)\" style=\"fill: none; stroke: #000000; stroke-linecap: square\"/>\n   </g>\n   <g id=\"line2d_16\">\n    <path d=\"M 207.456 276.334125 \nL 207.456 34.414125 \n\" clip-path=\"url(#p8edacbd77a)\" style=\"fill: none; stroke: #000000; stroke-linecap: square\"/>\n   </g>\n   <g id=\"line2d_17\">\n    <path d=\"M 19.296 61.294125 \nL 261.216 61.294125 \n\" clip-path=\"url(#p8edacbd77a)\" style=\"fill: none; stroke: #000000; stroke-linecap: square\"/>\n   </g>\n   <g id=\"line2d_18\">\n    <path d=\"M 234.336 276.334125 \nL 234.336 34.414125 \n\" clip-path=\"url(#p8edacbd77a)\" style=\"fill: none; stroke: #000000; stroke-linecap: square\"/>\n   </g>\n   <g id=\"line2d_19\">\n    <path d=\"M 19.296 34.414125 \nL 261.216 34.414125 \n\" clip-path=\"url(#p8edacbd77a)\" style=\"fill: none; stroke: #000000; stroke-width: 2; stroke-linecap: square\"/>\n   </g>\n   <g id=\"line2d_20\">\n    <path d=\"M 261.216 276.334125 \nL 261.216 34.414125 \n\" clip-path=\"url(#p8edacbd77a)\" style=\"fill: none; stroke: #000000; stroke-width: 2; stroke-linecap: square\"/>\n   </g>\n   <g id=\"text_1\">\n    <!-- 2 -->\n    <g style=\"fill: #808080\" transform=\"translate(55.441312 51.165375) scale(0.12 -0.12)\">\n     <defs>\n      <path id=\"DejaVuSans-Bold-32\" d=\"M 1844 884 \nL 3897 884 \nL 3897 0 \nL 506 0 \nL 506 884 \nL 2209 2388 \nQ 2438 2594 2547 2791 \nQ 2656 2988 2656 3200 \nQ 2656 3528 2436 3728 \nQ 2216 3928 1850 3928 \nQ 1569 3928 1234 3808 \nQ 900 3688 519 3450 \nL 519 4475 \nQ 925 4609 1322 4679 \nQ 1719 4750 2100 4750 \nQ 2938 4750 3402 4381 \nQ 3866 4013 3866 3353 \nQ 3866 2972 3669 2642 \nQ 3472 2313 2841 1759 \nL 1844 884 \nz\n\" transform=\"scale(0.015625)\"/>\n     </defs>\n     <use xlink:href=\"#DejaVuSans-Bold-32\"/>\n    </g>\n   </g>\n   <g id=\"text_2\">\n    <!-- 6 -->\n    <g style=\"fill: #808080\" transform=\"translate(109.201312 78.045375) scale(0.12 -0.12)\">\n     <defs>\n      <path id=\"DejaVuSans-Bold-36\" d=\"M 2316 2303 \nQ 2000 2303 1842 2098 \nQ 1684 1894 1684 1484 \nQ 1684 1075 1842 870 \nQ 2000 666 2316 666 \nQ 2634 666 2792 870 \nQ 2950 1075 2950 1484 \nQ 2950 1894 2792 2098 \nQ 2634 2303 2316 2303 \nz\nM 3803 4544 \nL 3803 3681 \nQ 3506 3822 3243 3889 \nQ 2981 3956 2731 3956 \nQ 2194 3956 1894 3657 \nQ 1594 3359 1544 2772 \nQ 1750 2925 1990 3001 \nQ 2231 3078 2516 3078 \nQ 3231 3078 3670 2659 \nQ 4109 2241 4109 1563 \nQ 4109 813 3618 361 \nQ 3128 -91 2303 -91 \nQ 1394 -91 895 523 \nQ 397 1138 397 2266 \nQ 397 3422 980 4083 \nQ 1563 4744 2578 4744 \nQ 2900 4744 3203 4694 \nQ 3506 4644 3803 4544 \nz\n\" transform=\"scale(0.015625)\"/>\n     </defs>\n     <use xlink:href=\"#DejaVuSans-Bold-36\"/>\n    </g>\n   </g>\n   <g id=\"text_3\">\n    <!-- 3 -->\n    <g style=\"fill: #808080\" transform=\"translate(243.601312 78.045375) scale(0.12 -0.12)\">\n     <defs>\n      <path id=\"DejaVuSans-Bold-33\" d=\"M 2981 2516 \nQ 3453 2394 3698 2092 \nQ 3944 1791 3944 1325 \nQ 3944 631 3412 270 \nQ 2881 -91 1863 -91 \nQ 1503 -91 1142 -33 \nQ 781 25 428 141 \nL 428 1069 \nQ 766 900 1098 814 \nQ 1431 728 1753 728 \nQ 2231 728 2486 893 \nQ 2741 1059 2741 1369 \nQ 2741 1688 2480 1852 \nQ 2219 2016 1709 2016 \nL 1228 2016 \nL 1228 2791 \nL 1734 2791 \nQ 2188 2791 2409 2933 \nQ 2631 3075 2631 3366 \nQ 2631 3634 2415 3781 \nQ 2200 3928 1806 3928 \nQ 1516 3928 1219 3862 \nQ 922 3797 628 3669 \nL 628 4550 \nQ 984 4650 1334 4700 \nQ 1684 4750 2022 4750 \nQ 2931 4750 3382 4451 \nQ 3834 4153 3834 3553 \nQ 3834 3144 3618 2883 \nQ 3403 2622 2981 2516 \nz\n\" transform=\"scale(0.015625)\"/>\n     </defs>\n     <use xlink:href=\"#DejaVuSans-Bold-33\"/>\n    </g>\n   </g>\n   <g id=\"text_4\">\n    <!-- 7 -->\n    <g style=\"fill: #808080\" transform=\"translate(55.441312 104.925375) scale(0.12 -0.12)\">\n     <defs>\n      <path id=\"DejaVuSans-Bold-37\" d=\"M 428 4666 \nL 3944 4666 \nL 3944 3988 \nL 2125 0 \nL 953 0 \nL 2675 3781 \nL 428 3781 \nL 428 4666 \nz\n\" transform=\"scale(0.015625)\"/>\n     </defs>\n     <use xlink:href=\"#DejaVuSans-Bold-37\"/>\n    </g>\n   </g>\n   <g id=\"text_5\">\n    <!-- 4 -->\n    <g style=\"fill: #808080\" transform=\"translate(82.321312 104.925375) scale(0.12 -0.12)\">\n     <defs>\n      <path id=\"DejaVuSans-Bold-34\" d=\"M 2356 3675 \nL 1038 1722 \nL 2356 1722 \nL 2356 3675 \nz\nM 2156 4666 \nL 3494 4666 \nL 3494 1722 \nL 4159 1722 \nL 4159 850 \nL 3494 850 \nL 3494 0 \nL 2356 0 \nL 2356 850 \nL 288 850 \nL 288 1881 \nL 2156 4666 \nz\n\" transform=\"scale(0.015625)\"/>\n     </defs>\n     <use xlink:href=\"#DejaVuSans-Bold-34\"/>\n    </g>\n   </g>\n   <g id=\"text_6\">\n    <!-- 8 -->\n    <g style=\"fill: #808080\" transform=\"translate(136.081312 104.925375) scale(0.12 -0.12)\">\n     <defs>\n      <path id=\"DejaVuSans-Bold-38\" d=\"M 2228 2088 \nQ 1891 2088 1709 1903 \nQ 1528 1719 1528 1375 \nQ 1528 1031 1709 848 \nQ 1891 666 2228 666 \nQ 2563 666 2741 848 \nQ 2919 1031 2919 1375 \nQ 2919 1722 2741 1905 \nQ 2563 2088 2228 2088 \nz\nM 1350 2484 \nQ 925 2613 709 2878 \nQ 494 3144 494 3541 \nQ 494 4131 934 4440 \nQ 1375 4750 2228 4750 \nQ 3075 4750 3515 4442 \nQ 3956 4134 3956 3541 \nQ 3956 3144 3739 2878 \nQ 3522 2613 3097 2484 \nQ 3572 2353 3814 2058 \nQ 4056 1763 4056 1313 \nQ 4056 619 3595 264 \nQ 3134 -91 2228 -91 \nQ 1319 -91 855 264 \nQ 391 619 391 1313 \nQ 391 1763 633 2058 \nQ 875 2353 1350 2484 \nz\nM 1631 3419 \nQ 1631 3141 1786 2991 \nQ 1941 2841 2228 2841 \nQ 2509 2841 2662 2991 \nQ 2816 3141 2816 3419 \nQ 2816 3697 2662 3845 \nQ 2509 3994 2228 3994 \nQ 1941 3994 1786 3844 \nQ 1631 3694 1631 3419 \nz\n\" transform=\"scale(0.015625)\"/>\n     </defs>\n     <use xlink:href=\"#DejaVuSans-Bold-38\"/>\n    </g>\n   </g>\n   <g id=\"text_7\">\n    <!-- 3 -->\n    <g style=\"fill: #808080\" transform=\"translate(162.961312 131.805375) scale(0.12 -0.12)\">\n     <use xlink:href=\"#DejaVuSans-Bold-33\"/>\n    </g>\n   </g>\n   <g id=\"text_8\">\n    <!-- 2 -->\n    <g style=\"fill: #808080\" transform=\"translate(243.601312 131.805375) scale(0.12 -0.12)\">\n     <use xlink:href=\"#DejaVuSans-Bold-32\"/>\n    </g>\n   </g>\n   <g id=\"text_9\">\n    <!-- 8 -->\n    <g style=\"fill: #808080\" transform=\"translate(55.441312 158.685375) scale(0.12 -0.12)\">\n     <use xlink:href=\"#DejaVuSans-Bold-38\"/>\n    </g>\n   </g>\n   <g id=\"text_10\">\n    <!-- 4 -->\n    <g style=\"fill: #808080\" transform=\"translate(136.081312 158.685375) scale(0.12 -0.12)\">\n     <use xlink:href=\"#DejaVuSans-Bold-34\"/>\n    </g>\n   </g>\n   <g id=\"text_11\">\n    <!-- 1 -->\n    <g style=\"fill: #808080\" transform=\"translate(216.721312 158.685375) scale(0.12 -0.12)\">\n     <defs>\n      <path id=\"DejaVuSans-Bold-31\" d=\"M 750 831 \nL 1813 831 \nL 1813 3847 \nL 722 3622 \nL 722 4441 \nL 1806 4666 \nL 2950 4666 \nL 2950 831 \nL 4013 831 \nL 4013 0 \nL 750 0 \nL 750 831 \nz\n\" transform=\"scale(0.015625)\"/>\n     </defs>\n     <use xlink:href=\"#DejaVuSans-Bold-31\"/>\n    </g>\n   </g>\n   <g id=\"text_12\">\n    <!-- 6 -->\n    <g style=\"fill: #808080\" transform=\"translate(28.561312 185.565375) scale(0.12 -0.12)\">\n     <use xlink:href=\"#DejaVuSans-Bold-36\"/>\n    </g>\n   </g>\n   <g id=\"text_13\">\n    <!-- 5 -->\n    <g style=\"fill: #808080\" transform=\"translate(109.201312 185.565375) scale(0.12 -0.12)\">\n     <defs>\n      <path id=\"DejaVuSans-Bold-35\" d=\"M 678 4666 \nL 3669 4666 \nL 3669 3781 \nL 1638 3781 \nL 1638 3059 \nQ 1775 3097 1914 3117 \nQ 2053 3138 2203 3138 \nQ 3056 3138 3531 2711 \nQ 4006 2284 4006 1522 \nQ 4006 766 3489 337 \nQ 2972 -91 2053 -91 \nQ 1656 -91 1267 -14 \nQ 878 63 494 219 \nL 494 1166 \nQ 875 947 1217 837 \nQ 1559 728 1863 728 \nQ 2300 728 2551 942 \nQ 2803 1156 2803 1522 \nQ 2803 1891 2551 2103 \nQ 2300 2316 1863 2316 \nQ 1603 2316 1309 2248 \nQ 1016 2181 678 2041 \nL 678 4666 \nz\n\" transform=\"scale(0.015625)\"/>\n     </defs>\n     <use xlink:href=\"#DejaVuSans-Bold-35\"/>\n    </g>\n   </g>\n   <g id=\"text_14\">\n    <!-- 1 -->\n    <g style=\"fill: #808080\" transform=\"translate(136.081312 212.445375) scale(0.12 -0.12)\">\n     <use xlink:href=\"#DejaVuSans-Bold-31\"/>\n    </g>\n   </g>\n   <g id=\"text_15\">\n    <!-- 7 -->\n    <g style=\"fill: #808080\" transform=\"translate(189.841312 212.445375) scale(0.12 -0.12)\">\n     <use xlink:href=\"#DejaVuSans-Bold-37\"/>\n    </g>\n   </g>\n   <g id=\"text_16\">\n    <!-- 8 -->\n    <g style=\"fill: #808080\" transform=\"translate(216.721312 212.445375) scale(0.12 -0.12)\">\n     <use xlink:href=\"#DejaVuSans-Bold-38\"/>\n    </g>\n   </g>\n   <g id=\"text_17\">\n    <!-- 5 -->\n    <g style=\"fill: #808080\" transform=\"translate(28.561312 239.325375) scale(0.12 -0.12)\">\n     <use xlink:href=\"#DejaVuSans-Bold-35\"/>\n    </g>\n   </g>\n   <g id=\"text_18\">\n    <!-- 9 -->\n    <g style=\"fill: #808080\" transform=\"translate(162.961312 239.325375) scale(0.12 -0.12)\">\n     <defs>\n      <path id=\"DejaVuSans-Bold-39\" d=\"M 641 103 \nL 641 966 \nQ 928 831 1190 764 \nQ 1453 697 1709 697 \nQ 2247 697 2547 995 \nQ 2847 1294 2900 1881 \nQ 2688 1725 2447 1647 \nQ 2206 1569 1925 1569 \nQ 1209 1569 770 1986 \nQ 331 2403 331 3084 \nQ 331 3838 820 4291 \nQ 1309 4744 2131 4744 \nQ 3044 4744 3544 4128 \nQ 4044 3513 4044 2388 \nQ 4044 1231 3459 570 \nQ 2875 -91 1856 -91 \nQ 1528 -91 1228 -42 \nQ 928 6 641 103 \nz\nM 2125 2350 \nQ 2441 2350 2600 2554 \nQ 2759 2759 2759 3169 \nQ 2759 3575 2600 3781 \nQ 2441 3988 2125 3988 \nQ 1809 3988 1650 3781 \nQ 1491 3575 1491 3169 \nQ 1491 2759 1650 2554 \nQ 1809 2350 2125 2350 \nz\n\" transform=\"scale(0.015625)\"/>\n     </defs>\n     <use xlink:href=\"#DejaVuSans-Bold-39\"/>\n    </g>\n   </g>\n   <g id=\"text_19\">\n    <!-- 4 -->\n    <g style=\"fill: #808080\" transform=\"translate(216.721312 266.205375) scale(0.12 -0.12)\">\n     <use xlink:href=\"#DejaVuSans-Bold-34\"/>\n    </g>\n   </g>\n   <g id=\"text_20\">\n    <!-- A hard problem -->\n    <g transform=\"translate(7.2 16.318125) scale(0.12 -0.12)\">\n     <defs>\n      <path id=\"DejaVuSans-Bold-41\" d=\"M 3419 850 \nL 1538 850 \nL 1241 0 \nL 31 0 \nL 1759 4666 \nL 3194 4666 \nL 4922 0 \nL 3713 0 \nL 3419 850 \nz\nM 1838 1716 \nL 3116 1716 \nL 2478 3572 \nL 1838 1716 \nz\n\" transform=\"scale(0.015625)\"/>\n      <path id=\"DejaVuSans-Bold-20\" transform=\"scale(0.015625)\"/>\n      <path id=\"DejaVuSans-Bold-68\" d=\"M 4056 2131 \nL 4056 0 \nL 2931 0 \nL 2931 347 \nL 2931 1625 \nQ 2931 2084 2911 2256 \nQ 2891 2428 2841 2509 \nQ 2775 2619 2662 2680 \nQ 2550 2741 2406 2741 \nQ 2056 2741 1856 2470 \nQ 1656 2200 1656 1722 \nL 1656 0 \nL 538 0 \nL 538 4863 \nL 1656 4863 \nL 1656 2988 \nQ 1909 3294 2193 3439 \nQ 2478 3584 2822 3584 \nQ 3428 3584 3742 3212 \nQ 4056 2841 4056 2131 \nz\n\" transform=\"scale(0.015625)\"/>\n      <path id=\"DejaVuSans-Bold-61\" d=\"M 2106 1575 \nQ 1756 1575 1579 1456 \nQ 1403 1338 1403 1106 \nQ 1403 894 1545 773 \nQ 1688 653 1941 653 \nQ 2256 653 2472 879 \nQ 2688 1106 2688 1447 \nL 2688 1575 \nL 2106 1575 \nz\nM 3816 1997 \nL 3816 0 \nL 2688 0 \nL 2688 519 \nQ 2463 200 2181 54 \nQ 1900 -91 1497 -91 \nQ 953 -91 614 226 \nQ 275 544 275 1050 \nQ 275 1666 698 1953 \nQ 1122 2241 2028 2241 \nL 2688 2241 \nL 2688 2328 \nQ 2688 2594 2478 2717 \nQ 2269 2841 1825 2841 \nQ 1466 2841 1156 2769 \nQ 847 2697 581 2553 \nL 581 3406 \nQ 941 3494 1303 3539 \nQ 1666 3584 2028 3584 \nQ 2975 3584 3395 3211 \nQ 3816 2838 3816 1997 \nz\n\" transform=\"scale(0.015625)\"/>\n      <path id=\"DejaVuSans-Bold-72\" d=\"M 3138 2547 \nQ 2991 2616 2845 2648 \nQ 2700 2681 2553 2681 \nQ 2122 2681 1889 2404 \nQ 1656 2128 1656 1613 \nL 1656 0 \nL 538 0 \nL 538 3500 \nL 1656 3500 \nL 1656 2925 \nQ 1872 3269 2151 3426 \nQ 2431 3584 2822 3584 \nQ 2878 3584 2943 3579 \nQ 3009 3575 3134 3559 \nL 3138 2547 \nz\n\" transform=\"scale(0.015625)\"/>\n      <path id=\"DejaVuSans-Bold-64\" d=\"M 2919 2988 \nL 2919 4863 \nL 4044 4863 \nL 4044 0 \nL 2919 0 \nL 2919 506 \nQ 2688 197 2409 53 \nQ 2131 -91 1766 -91 \nQ 1119 -91 703 423 \nQ 288 938 288 1747 \nQ 288 2556 703 3070 \nQ 1119 3584 1766 3584 \nQ 2128 3584 2408 3439 \nQ 2688 3294 2919 2988 \nz\nM 2181 722 \nQ 2541 722 2730 984 \nQ 2919 1247 2919 1747 \nQ 2919 2247 2730 2509 \nQ 2541 2772 2181 2772 \nQ 1825 2772 1636 2509 \nQ 1447 2247 1447 1747 \nQ 1447 1247 1636 984 \nQ 1825 722 2181 722 \nz\n\" transform=\"scale(0.015625)\"/>\n      <path id=\"DejaVuSans-Bold-70\" d=\"M 1656 506 \nL 1656 -1331 \nL 538 -1331 \nL 538 3500 \nL 1656 3500 \nL 1656 2988 \nQ 1888 3294 2169 3439 \nQ 2450 3584 2816 3584 \nQ 3463 3584 3878 3070 \nQ 4294 2556 4294 1747 \nQ 4294 938 3878 423 \nQ 3463 -91 2816 -91 \nQ 2450 -91 2169 54 \nQ 1888 200 1656 506 \nz\nM 2400 2772 \nQ 2041 2772 1848 2508 \nQ 1656 2244 1656 1747 \nQ 1656 1250 1848 986 \nQ 2041 722 2400 722 \nQ 2759 722 2948 984 \nQ 3138 1247 3138 1747 \nQ 3138 2247 2948 2509 \nQ 2759 2772 2400 2772 \nz\n\" transform=\"scale(0.015625)\"/>\n      <path id=\"DejaVuSans-Bold-6f\" d=\"M 2203 2784 \nQ 1831 2784 1636 2517 \nQ 1441 2250 1441 1747 \nQ 1441 1244 1636 976 \nQ 1831 709 2203 709 \nQ 2569 709 2762 976 \nQ 2956 1244 2956 1747 \nQ 2956 2250 2762 2517 \nQ 2569 2784 2203 2784 \nz\nM 2203 3584 \nQ 3106 3584 3614 3096 \nQ 4122 2609 4122 1747 \nQ 4122 884 3614 396 \nQ 3106 -91 2203 -91 \nQ 1297 -91 786 396 \nQ 275 884 275 1747 \nQ 275 2609 786 3096 \nQ 1297 3584 2203 3584 \nz\n\" transform=\"scale(0.015625)\"/>\n      <path id=\"DejaVuSans-Bold-62\" d=\"M 2400 722 \nQ 2759 722 2948 984 \nQ 3138 1247 3138 1747 \nQ 3138 2247 2948 2509 \nQ 2759 2772 2400 2772 \nQ 2041 2772 1848 2508 \nQ 1656 2244 1656 1747 \nQ 1656 1250 1848 986 \nQ 2041 722 2400 722 \nz\nM 1656 2988 \nQ 1888 3294 2169 3439 \nQ 2450 3584 2816 3584 \nQ 3463 3584 3878 3070 \nQ 4294 2556 4294 1747 \nQ 4294 938 3878 423 \nQ 3463 -91 2816 -91 \nQ 2450 -91 2169 54 \nQ 1888 200 1656 506 \nL 1656 0 \nL 538 0 \nL 538 4863 \nL 1656 4863 \nL 1656 2988 \nz\n\" transform=\"scale(0.015625)\"/>\n      <path id=\"DejaVuSans-Bold-6c\" d=\"M 538 4863 \nL 1656 4863 \nL 1656 0 \nL 538 0 \nL 538 4863 \nz\n\" transform=\"scale(0.015625)\"/>\n      <path id=\"DejaVuSans-Bold-65\" d=\"M 4031 1759 \nL 4031 1441 \nL 1416 1441 \nQ 1456 1047 1700 850 \nQ 1944 653 2381 653 \nQ 2734 653 3104 758 \nQ 3475 863 3866 1075 \nL 3866 213 \nQ 3469 63 3072 -14 \nQ 2675 -91 2278 -91 \nQ 1328 -91 801 392 \nQ 275 875 275 1747 \nQ 275 2603 792 3093 \nQ 1309 3584 2216 3584 \nQ 3041 3584 3536 3087 \nQ 4031 2591 4031 1759 \nz\nM 2881 2131 \nQ 2881 2450 2695 2645 \nQ 2509 2841 2209 2841 \nQ 1884 2841 1681 2658 \nQ 1478 2475 1428 2131 \nL 2881 2131 \nz\n\" transform=\"scale(0.015625)\"/>\n      <path id=\"DejaVuSans-Bold-6d\" d=\"M 3781 2919 \nQ 3994 3244 4286 3414 \nQ 4578 3584 4928 3584 \nQ 5531 3584 5847 3212 \nQ 6163 2841 6163 2131 \nL 6163 0 \nL 5038 0 \nL 5038 1825 \nQ 5041 1866 5042 1909 \nQ 5044 1953 5044 2034 \nQ 5044 2406 4934 2573 \nQ 4825 2741 4581 2741 \nQ 4263 2741 4089 2478 \nQ 3916 2216 3909 1719 \nL 3909 0 \nL 2784 0 \nL 2784 1825 \nQ 2784 2406 2684 2573 \nQ 2584 2741 2328 2741 \nQ 2006 2741 1831 2477 \nQ 1656 2213 1656 1722 \nL 1656 0 \nL 531 0 \nL 531 3500 \nL 1656 3500 \nL 1656 2988 \nQ 1863 3284 2130 3434 \nQ 2397 3584 2719 3584 \nQ 3081 3584 3359 3409 \nQ 3638 3234 3781 2919 \nz\n\" transform=\"scale(0.015625)\"/>\n     </defs>\n     <use xlink:href=\"#DejaVuSans-Bold-41\"/>\n     <use xlink:href=\"#DejaVuSans-Bold-20\" x=\"77.392578\"/>\n     <use xlink:href=\"#DejaVuSans-Bold-68\" x=\"112.207031\"/>\n     <use xlink:href=\"#DejaVuSans-Bold-61\" x=\"183.398438\"/>\n     <use xlink:href=\"#DejaVuSans-Bold-72\" x=\"250.878906\"/>\n     <use xlink:href=\"#DejaVuSans-Bold-64\" x=\"300.195312\"/>\n     <use xlink:href=\"#DejaVuSans-Bold-20\" x=\"371.777344\"/>\n     <use xlink:href=\"#DejaVuSans-Bold-70\" x=\"406.591797\"/>\n     <use xlink:href=\"#DejaVuSans-Bold-72\" x=\"478.173828\"/>\n     <use xlink:href=\"#DejaVuSans-Bold-6f\" x=\"527.490234\"/>\n     <use xlink:href=\"#DejaVuSans-Bold-62\" x=\"596.191406\"/>\n     <use xlink:href=\"#DejaVuSans-Bold-6c\" x=\"667.773438\"/>\n     <use xlink:href=\"#DejaVuSans-Bold-65\" x=\"702.050781\"/>\n     <use xlink:href=\"#DejaVuSans-Bold-6d\" x=\"769.873047\"/>\n    </g>\n   </g>\n  </g>\n </g>\n <defs>\n  <clipPath id=\"p8edacbd77a\">\n   <rect x=\"7.2\" y=\"22.318125\" width=\"266.112\" height=\"266.112\"/>\n  </clipPath>\n </defs>\n</svg>\n"
          },
          "metadata": {}
        },
        {
          "output_type": "display_data",
          "data": {
            "text/plain": [
              "<IPython.core.display.SVG object>"
            ],
            "image/svg+xml": "<svg xmlns:xlink=\"http://www.w3.org/1999/xlink\" xmlns=\"http://www.w3.org/2000/svg\" width=\"280.512pt\" height=\"295.630125pt\" viewBox=\"0 0 280.512 295.630125\" version=\"1.1\">\n <metadata>\n  <rdf:RDF xmlns:dc=\"http://purl.org/dc/elements/1.1/\" xmlns:cc=\"http://creativecommons.org/ns#\" xmlns:rdf=\"http://www.w3.org/1999/02/22-rdf-syntax-ns#\">\n   <cc:Work>\n    <dc:type rdf:resource=\"http://purl.org/dc/dcmitype/StillImage\"/>\n    <dc:date>2024-11-27T14:21:29.950204</dc:date>\n    <dc:format>image/svg+xml</dc:format>\n    <dc:creator>\n     <cc:Agent>\n      <dc:title>Matplotlib v3.8.0, https://matplotlib.org/</dc:title>\n     </cc:Agent>\n    </dc:creator>\n   </cc:Work>\n  </rdf:RDF>\n </metadata>\n <defs>\n  <style type=\"text/css\">*{stroke-linejoin: round; stroke-linecap: butt}</style>\n </defs>\n <g id=\"figure_1\">\n  <g id=\"patch_1\">\n   <path d=\"M 0 295.630125  L 280.512 295.630125  L 280.512 0  L 0 0  z \" style=\"fill: #ffffff\"/>\n  </g>\n  <g id=\"axes_1\">\n   <g id=\"patch_2\">\n    <path d=\"M 46.176 61.294125  L 73.056 61.294125  L 73.056 34.414125  L 46.176 34.414125  z \" clip-path=\"url(#p8edacbd77a)\" style=\"fill: #d3d3d3; opacity: 0.5; stroke: #d3d3d3; stroke-linejoin: miter\"/>\n   </g>\n   <g id=\"patch_3\">\n    <path d=\"M 99.936 88.174125  L 126.816 88.174125  L 126.816 61.294125  L 99.936 61.294125  z \" clip-path=\"url(#p8edacbd77a)\" style=\"fill: #d3d3d3; opacity: 0.5; stroke: #d3d3d3; stroke-linejoin: miter\"/>\n   </g>\n   <g id=\"patch_4\">\n    <path d=\"M 234.336 88.174125  L 261.216 88.174125  L 261.216 61.294125  L 234.336 61.294125  z \" clip-path=\"url(#p8edacbd77a)\" style=\"fill: #d3d3d3; opacity: 0.5; stroke: #d3d3d3; stroke-linejoin: miter\"/>\n   </g>\n   <g id=\"patch_5\">\n    <path d=\"M 46.176 115.054125  L 73.056 115.054125  L 73.056 88.174125  L 46.176 88.174125  z \" clip-path=\"url(#p8edacbd77a)\" style=\"fill: #d3d3d3; opacity: 0.5; stroke: #d3d3d3; stroke-linejoin: miter\"/>\n   </g>\n   <g id=\"patch_6\">\n    <path d=\"M 73.056 115.054125  L 99.936 115.054125  L 99.936 88.174125  L 73.056 88.174125  z \" clip-path=\"url(#p8edacbd77a)\" style=\"fill: #d3d3d3; opacity: 0.5; stroke: #d3d3d3; stroke-linejoin: miter\"/>\n   </g>\n   <g id=\"patch_7\">\n    <path d=\"M 126.816 115.054125  L 153.696 115.054125  L 153.696 88.174125  L 126.816 88.174125  z \" clip-path=\"url(#p8edacbd77a)\" style=\"fill: #d3d3d3; opacity: 0.5; stroke: #d3d3d3; stroke-linejoin: miter\"/>\n   </g>\n   <g id=\"patch_8\">\n    <path d=\"M 153.696 141.934125  L 180.576 141.934125  L 180.576 115.054125  L 153.696 115.054125  z \" clip-path=\"url(#p8edacbd77a)\" style=\"fill: #d3d3d3; opacity: 0.5; stroke: #d3d3d3; stroke-linejoin: miter\"/>\n   </g>\n   <g id=\"patch_9\">\n    <path d=\"M 234.336 141.934125  L 261.216 141.934125  L 261.216 115.054125  L 234.336 115.054125  z \" clip-path=\"url(#p8edacbd77a)\" style=\"fill: #d3d3d3; opacity: 0.5; stroke: #d3d3d3; stroke-linejoin: miter\"/>\n   </g>\n   <g id=\"patch_10\">\n    <path d=\"M 46.176 168.814125  L 73.056 168.814125  L 73.056 141.934125  L 46.176 141.934125  z \" clip-path=\"url(#p8edacbd77a)\" style=\"fill: #d3d3d3; opacity: 0.5; stroke: #d3d3d3; stroke-linejoin: miter\"/>\n   </g>\n   <g id=\"patch_11\">\n    <path d=\"M 126.816 168.814125  L 153.696 168.814125  L 153.696 141.934125  L 126.816 141.934125  z \" clip-path=\"url(#p8edacbd77a)\" style=\"fill: #d3d3d3; opacity: 0.5; stroke: #d3d3d3; stroke-linejoin: miter\"/>\n   </g>\n   <g id=\"patch_12\">\n    <path d=\"M 207.456 168.814125  L 234.336 168.814125  L 234.336 141.934125  L 207.456 141.934125  z \" clip-path=\"url(#p8edacbd77a)\" style=\"fill: #d3d3d3; opacity: 0.5; stroke: #d3d3d3; stroke-linejoin: miter\"/>\n   </g>\n   <g id=\"patch_13\">\n    <path d=\"M 19.296 195.694125  L 46.176 195.694125  L 46.176 168.814125  L 19.296 168.814125  z \" clip-path=\"url(#p8edacbd77a)\" style=\"fill: #d3d3d3; opacity: 0.5; stroke: #d3d3d3; stroke-linejoin: miter\"/>\n   </g>\n   <g id=\"patch_14\">\n    <path d=\"M 99.936 195.694125  L 126.816 195.694125  L 126.816 168.814125  L 99.936 168.814125  z \" clip-path=\"url(#p8edacbd77a)\" style=\"fill: #d3d3d3; opacity: 0.5; stroke: #d3d3d3; stroke-linejoin: miter\"/>\n   </g>\n   <g id=\"patch_15\">\n    <path d=\"M 126.816 222.574125  L 153.696 222.574125  L 153.696 195.694125  L 126.816 195.694125  z \" clip-path=\"url(#p8edacbd77a)\" style=\"fill: #d3d3d3; opacity: 0.5; stroke: #d3d3d3; stroke-linejoin: miter\"/>\n   </g>\n   <g id=\"patch_16\">\n    <path d=\"M 180.576 222.574125  L 207.456 222.574125  L 207.456 195.694125  L 180.576 195.694125  z \" clip-path=\"url(#p8edacbd77a)\" style=\"fill: #d3d3d3; opacity: 0.5; stroke: #d3d3d3; stroke-linejoin: miter\"/>\n   </g>\n   <g id=\"patch_17\">\n    <path d=\"M 207.456 222.574125  L 234.336 222.574125  L 234.336 195.694125  L 207.456 195.694125  z \" clip-path=\"url(#p8edacbd77a)\" style=\"fill: #d3d3d3; opacity: 0.5; stroke: #d3d3d3; stroke-linejoin: miter\"/>\n   </g>\n   <g id=\"patch_18\">\n    <path d=\"M 19.296 249.454125  L 46.176 249.454125  L 46.176 222.574125  L 19.296 222.574125  z \" clip-path=\"url(#p8edacbd77a)\" style=\"fill: #d3d3d3; opacity: 0.5; stroke: #d3d3d3; stroke-linejoin: miter\"/>\n   </g>\n   <g id=\"patch_19\">\n    <path d=\"M 153.696 249.454125  L 180.576 249.454125  L 180.576 222.574125  L 153.696 222.574125  z \" clip-path=\"url(#p8edacbd77a)\" style=\"fill: #d3d3d3; opacity: 0.5; stroke: #d3d3d3; stroke-linejoin: miter\"/>\n   </g>\n   <g id=\"patch_20\">\n    <path d=\"M 207.456 276.334125  L 234.336 276.334125  L 234.336 249.454125  L 207.456 249.454125  z \" clip-path=\"url(#p8edacbd77a)\" style=\"fill: #d3d3d3; opacity: 0.5; stroke: #d3d3d3; stroke-linejoin: miter\"/>\n   </g>\n   <g id=\"line2d_1\">\n    <path d=\"M 19.296 276.334125  L 261.216 276.334125  \" clip-path=\"url(#p8edacbd77a)\" style=\"fill: none; stroke: #000000; stroke-width: 2; stroke-linecap: square\"/>\n   </g>\n   <g id=\"line2d_2\">\n    <path d=\"M 19.296 276.334125  L 19.296 34.414125  \" clip-path=\"url(#p8edacbd77a)\" style=\"fill: none; stroke: #000000; stroke-width: 2; stroke-linecap: square\"/>\n   </g>\n   <g id=\"line2d_3\">\n    <path d=\"M 19.296 249.454125  L 261.216 249.454125  \" clip-path=\"url(#p8edacbd77a)\" style=\"fill: none; stroke: #000000; stroke-linecap: square\"/>\n   </g>\n   <g id=\"line2d_4\">\n    <path d=\"M 46.176 276.334125  L 46.176 34.414125  \" clip-path=\"url(#p8edacbd77a)\" style=\"fill: none; stroke: #000000; stroke-linecap: square\"/>\n   </g>\n   <g id=\"line2d_5\">\n    <path d=\"M 19.296 222.574125  L 261.216 222.574125  \" clip-path=\"url(#p8edacbd77a)\" style=\"fill: none; stroke: #000000; stroke-linecap: square\"/>\n   </g>\n   <g id=\"line2d_6\">\n    <path d=\"M 73.056 276.334125  L 73.056 34.414125  \" clip-path=\"url(#p8edacbd77a)\" style=\"fill: none; stroke: #000000; stroke-linecap: square\"/>\n   </g>\n   <g id=\"line2d_7\">\n    <path d=\"M 19.296 195.694125  L 261.216 195.694125  \" clip-path=\"url(#p8edacbd77a)\" style=\"fill: none; stroke: #000000; stroke-width: 2; stroke-linecap: square\"/>\n   </g>\n   <g id=\"line2d_8\">\n    <path d=\"M 99.936 276.334125  L 99.936 34.414125  \" clip-path=\"url(#p8edacbd77a)\" style=\"fill: none; stroke: #000000; stroke-width: 2; stroke-linecap: square\"/>\n   </g>\n   <g id=\"line2d_9\">\n    <path d=\"M 19.296 168.814125  L 261.216 168.814125  \" clip-path=\"url(#p8edacbd77a)\" style=\"fill: none; stroke: #000000; stroke-linecap: square\"/>\n   </g>\n   <g id=\"line2d_10\">\n    <path d=\"M 126.816 276.334125  L 126.816 34.414125  \" clip-path=\"url(#p8edacbd77a)\" style=\"fill: none; stroke: #000000; stroke-linecap: square\"/>\n   </g>\n   <g id=\"line2d_11\">\n    <path d=\"M 19.296 141.934125  L 261.216 141.934125  \" clip-path=\"url(#p8edacbd77a)\" style=\"fill: none; stroke: #000000; stroke-linecap: square\"/>\n   </g>\n   <g id=\"line2d_12\">\n    <path d=\"M 153.696 276.334125  L 153.696 34.414125  \" clip-path=\"url(#p8edacbd77a)\" style=\"fill: none; stroke: #000000; stroke-linecap: square\"/>\n   </g>\n   <g id=\"line2d_13\">\n    <path d=\"M 19.296 115.054125  L 261.216 115.054125  \" clip-path=\"url(#p8edacbd77a)\" style=\"fill: none; stroke: #000000; stroke-width: 2; stroke-linecap: square\"/>\n   </g>\n   <g id=\"line2d_14\">\n    <path d=\"M 180.576 276.334125  L 180.576 34.414125  \" clip-path=\"url(#p8edacbd77a)\" style=\"fill: none; stroke: #000000; stroke-width: 2; stroke-linecap: square\"/>\n   </g>\n   <g id=\"line2d_15\">\n    <path d=\"M 19.296 88.174125  L 261.216 88.174125  \" clip-path=\"url(#p8edacbd77a)\" style=\"fill: none; stroke: #000000; stroke-linecap: square\"/>\n   </g>\n   <g id=\"line2d_16\">\n    <path d=\"M 207.456 276.334125  L 207.456 34.414125  \" clip-path=\"url(#p8edacbd77a)\" style=\"fill: none; stroke: #000000; stroke-linecap: square\"/>\n   </g>\n   <g id=\"line2d_17\">\n    <path d=\"M 19.296 61.294125  L 261.216 61.294125  \" clip-path=\"url(#p8edacbd77a)\" style=\"fill: none; stroke: #000000; stroke-linecap: square\"/>\n   </g>\n   <g id=\"line2d_18\">\n    <path d=\"M 234.336 276.334125  L 234.336 34.414125  \" clip-path=\"url(#p8edacbd77a)\" style=\"fill: none; stroke: #000000; stroke-linecap: square\"/>\n   </g>\n   <g id=\"line2d_19\">\n    <path d=\"M 19.296 34.414125  L 261.216 34.414125  \" clip-path=\"url(#p8edacbd77a)\" style=\"fill: none; stroke: #000000; stroke-width: 2; stroke-linecap: square\"/>\n   </g>\n   <g id=\"line2d_20\">\n    <path d=\"M 261.216 276.334125  L 261.216 34.414125  \" clip-path=\"url(#p8edacbd77a)\" style=\"fill: none; stroke: #000000; stroke-width: 2; stroke-linecap: square\"/>\n   </g>\n   <g id=\"text_1\">\n    <!-- 2 -->\n    <g style=\"fill: #808080\" transform=\"translate(55.441312 51.165375) scale(0.12 -0.12)\">\n     <defs>\n      <path id=\"DejaVuSans-Bold-32\" d=\"M 1844 884  L 3897 884  L 3897 0  L 506 0  L 506 884  L 2209 2388  Q 2438 2594 2547 2791  Q 2656 2988 2656 3200  Q 2656 3528 2436 3728  Q 2216 3928 1850 3928  Q 1569 3928 1234 3808  Q 900 3688 519 3450  L 519 4475  Q 925 4609 1322 4679  Q 1719 4750 2100 4750  Q 2938 4750 3402 4381  Q 3866 4013 3866 3353  Q 3866 2972 3669 2642  Q 3472 2313 2841 1759  L 1844 884  z \" transform=\"scale(0.015625)\"/>\n     </defs>\n     <use xlink:href=\"#DejaVuSans-Bold-32\"/>\n    </g>\n   </g>\n   <g id=\"text_2\">\n    <!-- 6 -->\n    <g style=\"fill: #808080\" transform=\"translate(109.201312 78.045375) scale(0.12 -0.12)\">\n     <defs>\n      <path id=\"DejaVuSans-Bold-36\" d=\"M 2316 2303  Q 2000 2303 1842 2098  Q 1684 1894 1684 1484  Q 1684 1075 1842 870  Q 2000 666 2316 666  Q 2634 666 2792 870  Q 2950 1075 2950 1484  Q 2950 1894 2792 2098  Q 2634 2303 2316 2303  z M 3803 4544  L 3803 3681  Q 3506 3822 3243 3889  Q 2981 3956 2731 3956  Q 2194 3956 1894 3657  Q 1594 3359 1544 2772  Q 1750 2925 1990 3001  Q 2231 3078 2516 3078  Q 3231 3078 3670 2659  Q 4109 2241 4109 1563  Q 4109 813 3618 361  Q 3128 -91 2303 -91  Q 1394 -91 895 523  Q 397 1138 397 2266  Q 397 3422 980 4083  Q 1563 4744 2578 4744  Q 2900 4744 3203 4694  Q 3506 4644 3803 4544  z \" transform=\"scale(0.015625)\"/>\n     </defs>\n     <use xlink:href=\"#DejaVuSans-Bold-36\"/>\n    </g>\n   </g>\n   <g id=\"text_3\">\n    <!-- 3 -->\n    <g style=\"fill: #808080\" transform=\"translate(243.601312 78.045375) scale(0.12 -0.12)\">\n     <defs>\n      <path id=\"DejaVuSans-Bold-33\" d=\"M 2981 2516  Q 3453 2394 3698 2092  Q 3944 1791 3944 1325  Q 3944 631 3412 270  Q 2881 -91 1863 -91  Q 1503 -91 1142 -33  Q 781 25 428 141  L 428 1069  Q 766 900 1098 814  Q 1431 728 1753 728  Q 2231 728 2486 893  Q 2741 1059 2741 1369  Q 2741 1688 2480 1852  Q 2219 2016 1709 2016  L 1228 2016  L 1228 2791  L 1734 2791  Q 2188 2791 2409 2933  Q 2631 3075 2631 3366  Q 2631 3634 2415 3781  Q 2200 3928 1806 3928  Q 1516 3928 1219 3862  Q 922 3797 628 3669  L 628 4550  Q 984 4650 1334 4700  Q 1684 4750 2022 4750  Q 2931 4750 3382 4451  Q 3834 4153 3834 3553  Q 3834 3144 3618 2883  Q 3403 2622 2981 2516  z \" transform=\"scale(0.015625)\"/>\n     </defs>\n     <use xlink:href=\"#DejaVuSans-Bold-33\"/>\n    </g>\n   </g>\n   <g id=\"text_4\">\n    <!-- 7 -->\n    <g style=\"fill: #808080\" transform=\"translate(55.441312 104.925375) scale(0.12 -0.12)\">\n     <defs>\n      <path id=\"DejaVuSans-Bold-37\" d=\"M 428 4666  L 3944 4666  L 3944 3988  L 2125 0  L 953 0  L 2675 3781  L 428 3781  L 428 4666  z \" transform=\"scale(0.015625)\"/>\n     </defs>\n     <use xlink:href=\"#DejaVuSans-Bold-37\"/>\n    </g>\n   </g>\n   <g id=\"text_5\">\n    <!-- 4 -->\n    <g style=\"fill: #808080\" transform=\"translate(82.321312 104.925375) scale(0.12 -0.12)\">\n     <defs>\n      <path id=\"DejaVuSans-Bold-34\" d=\"M 2356 3675  L 1038 1722  L 2356 1722  L 2356 3675  z M 2156 4666  L 3494 4666  L 3494 1722  L 4159 1722  L 4159 850  L 3494 850  L 3494 0  L 2356 0  L 2356 850  L 288 850  L 288 1881  L 2156 4666  z \" transform=\"scale(0.015625)\"/>\n     </defs>\n     <use xlink:href=\"#DejaVuSans-Bold-34\"/>\n    </g>\n   </g>\n   <g id=\"text_6\">\n    <!-- 8 -->\n    <g style=\"fill: #808080\" transform=\"translate(136.081312 104.925375) scale(0.12 -0.12)\">\n     <defs>\n      <path id=\"DejaVuSans-Bold-38\" d=\"M 2228 2088  Q 1891 2088 1709 1903  Q 1528 1719 1528 1375  Q 1528 1031 1709 848  Q 1891 666 2228 666  Q 2563 666 2741 848  Q 2919 1031 2919 1375  Q 2919 1722 2741 1905  Q 2563 2088 2228 2088  z M 1350 2484  Q 925 2613 709 2878  Q 494 3144 494 3541  Q 494 4131 934 4440  Q 1375 4750 2228 4750  Q 3075 4750 3515 4442  Q 3956 4134 3956 3541  Q 3956 3144 3739 2878  Q 3522 2613 3097 2484  Q 3572 2353 3814 2058  Q 4056 1763 4056 1313  Q 4056 619 3595 264  Q 3134 -91 2228 -91  Q 1319 -91 855 264  Q 391 619 391 1313  Q 391 1763 633 2058  Q 875 2353 1350 2484  z M 1631 3419  Q 1631 3141 1786 2991  Q 1941 2841 2228 2841  Q 2509 2841 2662 2991  Q 2816 3141 2816 3419  Q 2816 3697 2662 3845  Q 2509 3994 2228 3994  Q 1941 3994 1786 3844  Q 1631 3694 1631 3419  z \" transform=\"scale(0.015625)\"/>\n     </defs>\n     <use xlink:href=\"#DejaVuSans-Bold-38\"/>\n    </g>\n   </g>\n   <g id=\"text_7\">\n    <!-- 3 -->\n    <g style=\"fill: #808080\" transform=\"translate(162.961312 131.805375) scale(0.12 -0.12)\">\n     <use xlink:href=\"#DejaVuSans-Bold-33\"/>\n    </g>\n   </g>\n   <g id=\"text_8\">\n    <!-- 2 -->\n    <g style=\"fill: #808080\" transform=\"translate(243.601312 131.805375) scale(0.12 -0.12)\">\n     <use xlink:href=\"#DejaVuSans-Bold-32\"/>\n    </g>\n   </g>\n   <g id=\"text_9\">\n    <!-- 8 -->\n    <g style=\"fill: #808080\" transform=\"translate(55.441312 158.685375) scale(0.12 -0.12)\">\n     <use xlink:href=\"#DejaVuSans-Bold-38\"/>\n    </g>\n   </g>\n   <g id=\"text_10\">\n    <!-- 4 -->\n    <g style=\"fill: #808080\" transform=\"translate(136.081312 158.685375) scale(0.12 -0.12)\">\n     <use xlink:href=\"#DejaVuSans-Bold-34\"/>\n    </g>\n   </g>\n   <g id=\"text_11\">\n    <!-- 1 -->\n    <g style=\"fill: #808080\" transform=\"translate(216.721312 158.685375) scale(0.12 -0.12)\">\n     <defs>\n      <path id=\"DejaVuSans-Bold-31\" d=\"M 750 831  L 1813 831  L 1813 3847  L 722 3622  L 722 4441  L 1806 4666  L 2950 4666  L 2950 831  L 4013 831  L 4013 0  L 750 0  L 750 831  z \" transform=\"scale(0.015625)\"/>\n     </defs>\n     <use xlink:href=\"#DejaVuSans-Bold-31\"/>\n    </g>\n   </g>\n   <g id=\"text_12\">\n    <!-- 6 -->\n    <g style=\"fill: #808080\" transform=\"translate(28.561312 185.565375) scale(0.12 -0.12)\">\n     <use xlink:href=\"#DejaVuSans-Bold-36\"/>\n    </g>\n   </g>\n   <g id=\"text_13\">\n    <!-- 5 -->\n    <g style=\"fill: #808080\" transform=\"translate(109.201312 185.565375) scale(0.12 -0.12)\">\n     <defs>\n      <path id=\"DejaVuSans-Bold-35\" d=\"M 678 4666  L 3669 4666  L 3669 3781  L 1638 3781  L 1638 3059  Q 1775 3097 1914 3117  Q 2053 3138 2203 3138  Q 3056 3138 3531 2711  Q 4006 2284 4006 1522  Q 4006 766 3489 337  Q 2972 -91 2053 -91  Q 1656 -91 1267 -14  Q 878 63 494 219  L 494 1166  Q 875 947 1217 837  Q 1559 728 1863 728  Q 2300 728 2551 942  Q 2803 1156 2803 1522  Q 2803 1891 2551 2103  Q 2300 2316 1863 2316  Q 1603 2316 1309 2248  Q 1016 2181 678 2041  L 678 4666  z \" transform=\"scale(0.015625)\"/>\n     </defs>\n     <use xlink:href=\"#DejaVuSans-Bold-35\"/>\n    </g>\n   </g>\n   <g id=\"text_14\">\n    <!-- 1 -->\n    <g style=\"fill: #808080\" transform=\"translate(136.081312 212.445375) scale(0.12 -0.12)\">\n     <use xlink:href=\"#DejaVuSans-Bold-31\"/>\n    </g>\n   </g>\n   <g id=\"text_15\">\n    <!-- 7 -->\n    <g style=\"fill: #808080\" transform=\"translate(189.841312 212.445375) scale(0.12 -0.12)\">\n     <use xlink:href=\"#DejaVuSans-Bold-37\"/>\n    </g>\n   </g>\n   <g id=\"text_16\">\n    <!-- 8 -->\n    <g style=\"fill: #808080\" transform=\"translate(216.721312 212.445375) scale(0.12 -0.12)\">\n     <use xlink:href=\"#DejaVuSans-Bold-38\"/>\n    </g>\n   </g>\n   <g id=\"text_17\">\n    <!-- 5 -->\n    <g style=\"fill: #808080\" transform=\"translate(28.561312 239.325375) scale(0.12 -0.12)\">\n     <use xlink:href=\"#DejaVuSans-Bold-35\"/>\n    </g>\n   </g>\n   <g id=\"text_18\">\n    <!-- 9 -->\n    <g style=\"fill: #808080\" transform=\"translate(162.961312 239.325375) scale(0.12 -0.12)\">\n     <defs>\n      <path id=\"DejaVuSans-Bold-39\" d=\"M 641 103  L 641 966  Q 928 831 1190 764  Q 1453 697 1709 697  Q 2247 697 2547 995  Q 2847 1294 2900 1881  Q 2688 1725 2447 1647  Q 2206 1569 1925 1569  Q 1209 1569 770 1986  Q 331 2403 331 3084  Q 331 3838 820 4291  Q 1309 4744 2131 4744  Q 3044 4744 3544 4128  Q 4044 3513 4044 2388  Q 4044 1231 3459 570  Q 2875 -91 1856 -91  Q 1528 -91 1228 -42  Q 928 6 641 103  z M 2125 2350  Q 2441 2350 2600 2554  Q 2759 2759 2759 3169  Q 2759 3575 2600 3781  Q 2441 3988 2125 3988  Q 1809 3988 1650 3781  Q 1491 3575 1491 3169  Q 1491 2759 1650 2554  Q 1809 2350 2125 2350  z \" transform=\"scale(0.015625)\"/>\n     </defs>\n     <use xlink:href=\"#DejaVuSans-Bold-39\"/>\n    </g>\n   </g>\n   <g id=\"text_19\">\n    <!-- 4 -->\n    <g style=\"fill: #808080\" transform=\"translate(216.721312 266.205375) scale(0.12 -0.12)\">\n     <use xlink:href=\"#DejaVuSans-Bold-34\"/>\n    </g>\n   </g>\n   <g id=\"text_20\">\n    <!-- A hard problem -->\n    <g transform=\"translate(7.2 16.318125) scale(0.12 -0.12)\">\n     <defs>\n      <path id=\"DejaVuSans-Bold-41\" d=\"M 3419 850  L 1538 850  L 1241 0  L 31 0  L 1759 4666  L 3194 4666  L 4922 0  L 3713 0  L 3419 850  z M 1838 1716  L 3116 1716  L 2478 3572  L 1838 1716  z \" transform=\"scale(0.015625)\"/>\n      <path id=\"DejaVuSans-Bold-20\" transform=\"scale(0.015625)\"/>\n      <path id=\"DejaVuSans-Bold-68\" d=\"M 4056 2131  L 4056 0  L 2931 0  L 2931 347  L 2931 1625  Q 2931 2084 2911 2256  Q 2891 2428 2841 2509  Q 2775 2619 2662 2680  Q 2550 2741 2406 2741  Q 2056 2741 1856 2470  Q 1656 2200 1656 1722  L 1656 0  L 538 0  L 538 4863  L 1656 4863  L 1656 2988  Q 1909 3294 2193 3439  Q 2478 3584 2822 3584  Q 3428 3584 3742 3212  Q 4056 2841 4056 2131  z \" transform=\"scale(0.015625)\"/>\n      <path id=\"DejaVuSans-Bold-61\" d=\"M 2106 1575  Q 1756 1575 1579 1456  Q 1403 1338 1403 1106  Q 1403 894 1545 773  Q 1688 653 1941 653  Q 2256 653 2472 879  Q 2688 1106 2688 1447  L 2688 1575  L 2106 1575  z M 3816 1997  L 3816 0  L 2688 0  L 2688 519  Q 2463 200 2181 54  Q 1900 -91 1497 -91  Q 953 -91 614 226  Q 275 544 275 1050  Q 275 1666 698 1953  Q 1122 2241 2028 2241  L 2688 2241  L 2688 2328  Q 2688 2594 2478 2717  Q 2269 2841 1825 2841  Q 1466 2841 1156 2769  Q 847 2697 581 2553  L 581 3406  Q 941 3494 1303 3539  Q 1666 3584 2028 3584  Q 2975 3584 3395 3211  Q 3816 2838 3816 1997  z \" transform=\"scale(0.015625)\"/>\n      <path id=\"DejaVuSans-Bold-72\" d=\"M 3138 2547  Q 2991 2616 2845 2648  Q 2700 2681 2553 2681  Q 2122 2681 1889 2404  Q 1656 2128 1656 1613  L 1656 0  L 538 0  L 538 3500  L 1656 3500  L 1656 2925  Q 1872 3269 2151 3426  Q 2431 3584 2822 3584  Q 2878 3584 2943 3579  Q 3009 3575 3134 3559  L 3138 2547  z \" transform=\"scale(0.015625)\"/>\n      <path id=\"DejaVuSans-Bold-64\" d=\"M 2919 2988  L 2919 4863  L 4044 4863  L 4044 0  L 2919 0  L 2919 506  Q 2688 197 2409 53  Q 2131 -91 1766 -91  Q 1119 -91 703 423  Q 288 938 288 1747  Q 288 2556 703 3070  Q 1119 3584 1766 3584  Q 2128 3584 2408 3439  Q 2688 3294 2919 2988  z M 2181 722  Q 2541 722 2730 984  Q 2919 1247 2919 1747  Q 2919 2247 2730 2509  Q 2541 2772 2181 2772  Q 1825 2772 1636 2509  Q 1447 2247 1447 1747  Q 1447 1247 1636 984  Q 1825 722 2181 722  z \" transform=\"scale(0.015625)\"/>\n      <path id=\"DejaVuSans-Bold-70\" d=\"M 1656 506  L 1656 -1331  L 538 -1331  L 538 3500  L 1656 3500  L 1656 2988  Q 1888 3294 2169 3439  Q 2450 3584 2816 3584  Q 3463 3584 3878 3070  Q 4294 2556 4294 1747  Q 4294 938 3878 423  Q 3463 -91 2816 -91  Q 2450 -91 2169 54  Q 1888 200 1656 506  z M 2400 2772  Q 2041 2772 1848 2508  Q 1656 2244 1656 1747  Q 1656 1250 1848 986  Q 2041 722 2400 722  Q 2759 722 2948 984  Q 3138 1247 3138 1747  Q 3138 2247 2948 2509  Q 2759 2772 2400 2772  z \" transform=\"scale(0.015625)\"/>\n      <path id=\"DejaVuSans-Bold-6f\" d=\"M 2203 2784  Q 1831 2784 1636 2517  Q 1441 2250 1441 1747  Q 1441 1244 1636 976  Q 1831 709 2203 709  Q 2569 709 2762 976  Q 2956 1244 2956 1747  Q 2956 2250 2762 2517  Q 2569 2784 2203 2784  z M 2203 3584  Q 3106 3584 3614 3096  Q 4122 2609 4122 1747  Q 4122 884 3614 396  Q 3106 -91 2203 -91  Q 1297 -91 786 396  Q 275 884 275 1747  Q 275 2609 786 3096  Q 1297 3584 2203 3584  z \" transform=\"scale(0.015625)\"/>\n      <path id=\"DejaVuSans-Bold-62\" d=\"M 2400 722  Q 2759 722 2948 984  Q 3138 1247 3138 1747  Q 3138 2247 2948 2509  Q 2759 2772 2400 2772  Q 2041 2772 1848 2508  Q 1656 2244 1656 1747  Q 1656 1250 1848 986  Q 2041 722 2400 722  z M 1656 2988  Q 1888 3294 2169 3439  Q 2450 3584 2816 3584  Q 3463 3584 3878 3070  Q 4294 2556 4294 1747  Q 4294 938 3878 423  Q 3463 -91 2816 -91  Q 2450 -91 2169 54  Q 1888 200 1656 506  L 1656 0  L 538 0  L 538 4863  L 1656 4863  L 1656 2988  z \" transform=\"scale(0.015625)\"/>\n      <path id=\"DejaVuSans-Bold-6c\" d=\"M 538 4863  L 1656 4863  L 1656 0  L 538 0  L 538 4863  z \" transform=\"scale(0.015625)\"/>\n      <path id=\"DejaVuSans-Bold-65\" d=\"M 4031 1759  L 4031 1441  L 1416 1441  Q 1456 1047 1700 850  Q 1944 653 2381 653  Q 2734 653 3104 758  Q 3475 863 3866 1075  L 3866 213  Q 3469 63 3072 -14  Q 2675 -91 2278 -91  Q 1328 -91 801 392  Q 275 875 275 1747  Q 275 2603 792 3093  Q 1309 3584 2216 3584  Q 3041 3584 3536 3087  Q 4031 2591 4031 1759  z M 2881 2131  Q 2881 2450 2695 2645  Q 2509 2841 2209 2841  Q 1884 2841 1681 2658  Q 1478 2475 1428 2131  L 2881 2131  z \" transform=\"scale(0.015625)\"/>\n      <path id=\"DejaVuSans-Bold-6d\" d=\"M 3781 2919  Q 3994 3244 4286 3414  Q 4578 3584 4928 3584  Q 5531 3584 5847 3212  Q 6163 2841 6163 2131  L 6163 0  L 5038 0  L 5038 1825  Q 5041 1866 5042 1909  Q 5044 1953 5044 2034  Q 5044 2406 4934 2573  Q 4825 2741 4581 2741  Q 4263 2741 4089 2478  Q 3916 2216 3909 1719  L 3909 0  L 2784 0  L 2784 1825  Q 2784 2406 2684 2573  Q 2584 2741 2328 2741  Q 2006 2741 1831 2477  Q 1656 2213 1656 1722  L 1656 0  L 531 0  L 531 3500  L 1656 3500  L 1656 2988  Q 1863 3284 2130 3434  Q 2397 3584 2719 3584  Q 3081 3584 3359 3409  Q 3638 3234 3781 2919  z \" transform=\"scale(0.015625)\"/>\n     </defs>\n     <use xlink:href=\"#DejaVuSans-Bold-41\"/>\n     <use xlink:href=\"#DejaVuSans-Bold-20\" x=\"77.392578\"/>\n     <use xlink:href=\"#DejaVuSans-Bold-68\" x=\"112.207031\"/>\n     <use xlink:href=\"#DejaVuSans-Bold-61\" x=\"183.398438\"/>\n     <use xlink:href=\"#DejaVuSans-Bold-72\" x=\"250.878906\"/>\n     <use xlink:href=\"#DejaVuSans-Bold-64\" x=\"300.195312\"/>\n     <use xlink:href=\"#DejaVuSans-Bold-20\" x=\"371.777344\"/>\n     <use xlink:href=\"#DejaVuSans-Bold-70\" x=\"406.591797\"/>\n     <use xlink:href=\"#DejaVuSans-Bold-72\" x=\"478.173828\"/>\n     <use xlink:href=\"#DejaVuSans-Bold-6f\" x=\"527.490234\"/>\n     <use xlink:href=\"#DejaVuSans-Bold-62\" x=\"596.191406\"/>\n     <use xlink:href=\"#DejaVuSans-Bold-6c\" x=\"667.773438\"/>\n     <use xlink:href=\"#DejaVuSans-Bold-65\" x=\"702.050781\"/>\n     <use xlink:href=\"#DejaVuSans-Bold-6d\" x=\"769.873047\"/>\n    </g>\n   </g>\n  </g>\n </g>\n <defs>\n  <clipPath id=\"p8edacbd77a\">\n   <rect x=\"7.2\" y=\"22.318125\" width=\"266.112\" height=\"266.112\"/>\n  </clipPath>\n </defs>\n</svg>"
          },
          "metadata": {}
        }
      ],
      "source": [
        "print(sudoku)\n",
        "display(sudoku)\n",
        "display(SVG(sudoku.svg))\n"
      ]
    },
    {
      "cell_type": "code",
      "execution_count": 64,
      "metadata": {
        "id": "xvPz_KHOxsro",
        "outputId": "0f6d7494-f4e9-4f9f-9e43-2b413a7163b0",
        "colab": {
          "base_uri": "https://localhost:8080/"
        }
      },
      "outputs": [
        {
          "output_type": "execute_result",
          "data": {
            "text/plain": [
              "[(1, 2, 2),\n",
              " (2, 4, 6),\n",
              " (2, 9, 3),\n",
              " (3, 2, 7),\n",
              " (3, 3, 4),\n",
              " (3, 5, 8),\n",
              " (4, 6, 3),\n",
              " (4, 9, 2),\n",
              " (5, 2, 8),\n",
              " (5, 5, 4),\n",
              " (5, 8, 1),\n",
              " (6, 1, 6),\n",
              " (6, 4, 5),\n",
              " (7, 5, 1),\n",
              " (7, 7, 7),\n",
              " (7, 8, 8),\n",
              " (8, 1, 5),\n",
              " (8, 6, 9),\n",
              " (9, 8, 4)]"
            ]
          },
          "metadata": {},
          "execution_count": 64
        }
      ],
      "source": [
        "list(sudoku.enumerate())"
      ]
    },
    {
      "cell_type": "markdown",
      "metadata": {
        "id": "QLKdy3duxsrp"
      },
      "source": [
        "## Hogyan fogalmazható meg a feladat a matek eszközeivel?"
      ]
    },
    {
      "cell_type": "markdown",
      "metadata": {
        "id": "0ukfPGwWxsrp"
      },
      "source": [
        "Adottak követelmények (`Item`) és opciók (`Option`). A feladat az opciók egy részének kiválasztása úgy, hogy az összes követelmény teljesüljön.\n",
        "\n",
        "Egy lehetséges formalizálás, $x_1,\\dots, x_m$ logikai változók, egy\n",
        "$c=c(x_1,\\dots,x_n)$ logikai kifejezés.\n",
        "\n",
        "A kérdés ezután az, hogy az $x_i$ értékek (Igaz/Hamis) milyen választása mellett lesz a $c$ logikai kifejezés értéke igaz.\n",
        "\n",
        "Minden logikai kifejezés felírható $\\wedge$ (és) $\\vee$ (vagy) és $\\neg$ (tagadás) segítségével.\n",
        "\n",
        "pl.\n",
        "$$\n",
        "    x_1\\Rightarrow x_2,\\quad \\neg x_1\\vee x_2\n",
        "$$\n",
        "\n",
        "A logikai kifejezés $c$ megadható olyan alakban is, ahol\n",
        "$$\n",
        "    c(x_1,\\dots, x_m) = \\large\\wedge_i c_i(x_1,\\dots,x_m)\\quad\n",
        "    c_i(x_1,\\dots,x_m) = (\\vee_{j\\in S_i} x_j) \\vee (\\vee_{j\\in S'_i} \\neg x_j),\\quad S,S'\\subset\\{1,\\dots, m\\}\n",
        "$$\n",
        "\n",
        "$c_i$ megadható $S$ és $S'$ segítségével. Ha $S_i\\cap S'_i\\neq \\emptyset$ akkor $c_i$ mindig igaz, ezért $c$-ből elhagyható. Ha a váltózók indexelése 1-től indul, akkor egy kényelmes kódolása $c_i$-nek\n",
        "az indexek előjeles listája:\n",
        "$$\n",
        "    \\{j:j \\in S_i\\}\\cup\\{-j:j\\in S'_i\\}\n",
        "$$\n"
      ]
    },
    {
      "cell_type": "markdown",
      "metadata": {
        "id": "lh7v-tcBxsrq"
      },
      "source": [
        "## Sudoku tábla"
      ]
    },
    {
      "cell_type": "code",
      "execution_count": 65,
      "metadata": {
        "id": "TylAbx6Rxsrr"
      },
      "outputs": [],
      "source": [
        "class Option(int):\n",
        "    max_value = 9*9*9\n",
        "\n",
        "    def __init__(self, val):\n",
        "        if not (1 <= abs(val) <= self.max_value):\n",
        "            raise ValueError(f\"Absolute value must be in [1, {self.max_value}]. Obtained {val}\")\n",
        "\n",
        "    def apply(self, grid):\n",
        "        row, col, val = self.to_triple()\n",
        "        row, col = row-1, col-1\n",
        "        if grid[row][col] != 0 and abs(grid[row][col]) != val:\n",
        "            raise ValueError(\"Grid cell at {row+1}, {col+1} is not empty!\")\n",
        "        if grid[row][col] == 0:\n",
        "            grid[row][col] = val\n",
        "\n",
        "    @classmethod\n",
        "    def from_triple(cls, row, col, val):\n",
        "        if not (1<= row <= 9 and 1<= col <= 9 and 1<= val <= 9):\n",
        "            raise ValueError(\n",
        "                \"Invalid triple. \"\n",
        "                \"All numbers must be in [1, 9]. \"\n",
        "                f\"Obtained {row=}, {col=}, {val=}\"\n",
        "                )\n",
        "        return cls((row-1)*81+(col-1)*9+val-1 + 1)\n",
        "\n",
        "    @classmethod\n",
        "    def instances(cls):\n",
        "        for i in range(1, cls.max_value+1):\n",
        "            yield cls(i)\n",
        "\n",
        "    def to_triple(self):\n",
        "        n = abs(self)-1\n",
        "        n, val = divmod(n, 9)\n",
        "        row, col = divmod(n, 9)\n",
        "        row, col, val = row+1, col+1, val+1\n",
        "        return row, col, val\n",
        "\n",
        "    def __neg__(self):\n",
        "        return Option(-int(self))\n",
        "\n",
        "    def __str__(self):\n",
        "        row, col, val = self.to_triple()\n",
        "        prefix = 'not ' if self < 0 else ''\n",
        "        return f\"{prefix}{val}@({row}, {col})\"\n",
        "\n",
        "    def __repr__(self):\n",
        "        return f\"{type(self).__name__}({self!s}, code={self:d})\"\n",
        "\n",
        "    def items(self):\n",
        "        row, col, val = self.to_triple()\n",
        "        yield Item.not_empty(row, col)\n",
        "        yield Item.row_contains(row, val)\n",
        "        yield Item.col_contains(col, val)\n",
        "        yield Item.square_contains(row, col, val)\n",
        "\n",
        "\n",
        "class Clause(list):\n",
        "    def __str__(self):\n",
        "        return ' or '. join(map(str, self))"
      ]
    },
    {
      "cell_type": "code",
      "execution_count": 66,
      "metadata": {
        "id": "vFicJJzkxsrr",
        "outputId": "1f452a77-3e4b-459f-b595-42fa5a61432a",
        "colab": {
          "base_uri": "https://localhost:8080/"
        }
      },
      "outputs": [
        {
          "output_type": "stream",
          "name": "stdout",
          "text": [
            "\u001b[32m.\u001b[0m\u001b[32m.\u001b[0m\u001b[32m.\u001b[0m\u001b[32m                                                                                          [100%]\u001b[0m\n",
            "\u001b[32m\u001b[32m\u001b[1m3 passed\u001b[0m\u001b[32m in 0.02s\u001b[0m\u001b[0m\n"
          ]
        }
      ],
      "source": [
        "%%ipytest\n",
        "from pytest import raises\n",
        "\n",
        "def test_option():\n",
        "    for i in range(1, 10):\n",
        "        for j in range(1, 10):\n",
        "            for val in range(1,10):\n",
        "                option = Option.from_triple(i, j, val)\n",
        "                assert str(option) == f\"{val}@({i}, {j})\"\n",
        "                assert option.to_triple() == (i, j, val)\n",
        "\n",
        "def test_option_invalid():\n",
        "    with raises(ValueError):\n",
        "        option = Option.from_triple(10,9,9)\n",
        "\n",
        "    with raises(ValueError):\n",
        "        option = Option.from_triple(0,9,9)\n",
        "\n",
        "    with raises(ValueError):\n",
        "        option = Option.from_triple(1,10,9)\n",
        "\n",
        "    with raises(ValueError):\n",
        "        option = Option.from_triple(1,0,9)\n",
        "\n",
        "    with raises(ValueError):\n",
        "        option = Option.from_triple(1,9,19)\n",
        "\n",
        "    with raises(ValueError):\n",
        "        option = Option.from_triple(1,9,0)\n",
        "\n",
        "def test_option_all():\n",
        "    for i, o in enumerate(Option.instances(), 1):\n",
        "        assert o == i\n",
        "    assert i == Option.max_value\n",
        "\n"
      ]
    },
    {
      "cell_type": "code",
      "execution_count": 68,
      "metadata": {
        "id": "NreDf94axsrs",
        "outputId": "7196fb91-89f8-47f6-c2a4-a408c36df9a2",
        "colab": {
          "base_uri": "https://localhost:8080/"
        }
      },
      "outputs": [
        {
          "output_type": "execute_result",
          "data": {
            "text/plain": [
              "Option(9@(1, 1), code=9)"
            ]
          },
          "metadata": {},
          "execution_count": 68
        }
      ],
      "source": [
        "-Option.from_triple(1,1,9)"
      ]
    },
    {
      "cell_type": "code",
      "execution_count": 69,
      "metadata": {
        "id": "jZIMgZEKxsrs"
      },
      "outputs": [],
      "source": [
        "def subsquare(i, j):\n",
        "    x, y = 3*i+1, 3*j+1\n",
        "    for row in range(x, x+3):\n",
        "        for col in range(y, y+3):\n",
        "            yield row, col\n",
        "\n",
        "class Item(int):\n",
        "    max_value = 4*9*9-1\n",
        "\n",
        "\n",
        "    def __init__(self, value):\n",
        "        if not (0 <= value <= self.max_value):\n",
        "            raise ValueError(f\"Value must be in [0, max_value]. Obtained {value}\")\n",
        "\n",
        "    @classmethod\n",
        "    def from_triple(cls, item_type, a, b):\n",
        "        if not (0 <= item_type < 4 and 0 <= a < 9 and 0 <= b < 9):\n",
        "            raise ValueError(f\"Invalid parameters: {item_type=}, {a=}, {b=}\")\n",
        "        return cls(item_type*81+a*9+b)\n",
        "\n",
        "    @classmethod\n",
        "    def not_empty(cls, row, col):\n",
        "        return cls.from_triple(0, row-1, col-1)\n",
        "\n",
        "    @classmethod\n",
        "    def row_contains(cls, row, val):\n",
        "        return cls.from_triple(1, row-1, val-1)\n",
        "\n",
        "    @classmethod\n",
        "    def col_contains(cls, col, val):\n",
        "        return cls.from_triple(2, col-1, val-1)\n",
        "\n",
        "    @classmethod\n",
        "    def square_contains(cls, row, col, val):\n",
        "        sq = 3*((row-1)//3) + ((col-1)//3)\n",
        "        return cls.from_triple(3, sq, val-1)\n",
        "\n",
        "    @classmethod\n",
        "    def instances(cls):\n",
        "        for i in range(cls.max_value+1):\n",
        "            yield cls(i)\n",
        "\n",
        "    def __str__(self):\n",
        "        n = self\n",
        "        item_type, n = divmod(n, 81)\n",
        "        i, j = divmod(n, 9)\n",
        "        match item_type:\n",
        "            case 0:\n",
        "                return f\"cell{(i+1, j+1)} ¬∅\"\n",
        "            case 1:\n",
        "                return f\"∃{j+1} in row[{i+1}]\"\n",
        "            case 2:\n",
        "                return f\"∃{j+1} in col[{i+1}]\"\n",
        "            case 3:\n",
        "                val = j+1\n",
        "                i, j = divmod(i, 3)\n",
        "                return f\"∃{val} in square{(i+1, j+1)}\"\n",
        "\n",
        "    def __repr__(self):\n",
        "        return f\"{type(self).__name__}({self!s}, code={self:d})\"\n",
        "\n",
        "    def options(self):\n",
        "        n = self\n",
        "        item_type, n = divmod(n, 81)\n",
        "        i, j = divmod(n, 9)\n",
        "        match item_type:\n",
        "            case 0:\n",
        "                row, col = i+1, j+1\n",
        "                for val in range(1, 10):\n",
        "                    yield Option.from_triple(row, col, val)\n",
        "            case 1:\n",
        "                row = i+1\n",
        "                val = j+1\n",
        "                for col in range(1, 10):\n",
        "                    yield Option.from_triple(row, col, val)\n",
        "            case 2:\n",
        "                val = j+1\n",
        "                col = i+1\n",
        "                for row in range(1, 10):\n",
        "                    yield Option.from_triple(row, col, val)\n",
        "            case 3:\n",
        "                val = j+1\n",
        "                i, j = divmod(i, 3)\n",
        "                for row,col in subsquare(i, j):\n",
        "                    yield Option.from_triple(row, col, val)\n",
        "\n",
        "    def cnf(self):\n",
        "        return Clause(self.options())\n"
      ]
    },
    {
      "cell_type": "code",
      "execution_count": 70,
      "metadata": {
        "id": "dBcWoiVDxsrt",
        "outputId": "c05697d8-d7d2-410b-c750-2e3491ce6283",
        "colab": {
          "base_uri": "https://localhost:8080/"
        }
      },
      "outputs": [
        {
          "output_type": "stream",
          "name": "stdout",
          "text": [
            "item=Item(∃1 in square(2, 3), code=288)\n",
            "1@(4, 7) or 1@(4, 8) or 1@(4, 9) or 1@(5, 7) or 1@(5, 8) or 1@(5, 9) or 1@(6, 7) or 1@(6, 8) or 1@(6, 9)\n",
            "{Option(1@(4, 7), code=298),\n",
            " Option(1@(4, 8), code=307),\n",
            " Option(1@(4, 9), code=316),\n",
            " Option(1@(5, 7), code=379),\n",
            " Option(1@(5, 8), code=388),\n",
            " Option(1@(5, 9), code=397),\n",
            " Option(1@(6, 7), code=460),\n",
            " Option(1@(6, 8), code=469),\n",
            " Option(1@(6, 9), code=478)}\n",
            "len(list(Item.instances()))=324\n"
          ]
        }
      ],
      "source": [
        "\n",
        "item = Item(81*3+45)\n",
        "print(f\"{item=}\")\n",
        "print(item.cnf())\n",
        "pprint(set(item.options()))\n",
        "print(f\"{len(list(Item.instances()))=}\")"
      ]
    },
    {
      "cell_type": "code",
      "execution_count": 71,
      "metadata": {
        "id": "IRFfYKSIxsru",
        "outputId": "24579f4f-7fd3-46e7-ebed-a3ca83dab497",
        "colab": {
          "base_uri": "https://localhost:8080/"
        }
      },
      "outputs": [
        {
          "output_type": "stream",
          "name": "stdout",
          "text": [
            "1@(1, 1) or 2@(1, 1) or not 3@(1, 1)\n"
          ]
        }
      ],
      "source": [
        "print(Clause([Option(1), Option(2), -Option(3)]))"
      ]
    },
    {
      "cell_type": "code",
      "execution_count": 72,
      "metadata": {
        "id": "ZGxDxaorxsru",
        "outputId": "a8d51aba-b059-4441-d994-8c2a8cfca784",
        "colab": {
          "base_uri": "https://localhost:8080/"
        }
      },
      "outputs": [
        {
          "output_type": "stream",
          "name": "stdout",
          "text": [
            "option=Option(1@(2, 3), code=100)\n",
            "[Item(cell(2, 3) ¬∅, code=11),\n",
            " Item(∃1 in row[2], code=90),\n",
            " Item(∃1 in col[3], code=180),\n",
            " Item(∃1 in square(1, 1), code=243)]\n"
          ]
        }
      ],
      "source": [
        "option = Option(100)\n",
        "print(f\"{option=}\")\n",
        "pprint(list(option.items()))"
      ]
    },
    {
      "cell_type": "markdown",
      "metadata": {
        "id": "kCACzp24xsru"
      },
      "source": [
        "## Sudoku solver a `picosat` könyvtárral."
      ]
    },
    {
      "cell_type": "markdown",
      "metadata": {
        "id": "gw_RS388xsrv"
      },
      "source": [
        "A következő kód a `picosat` solver `github` repositorijáról van:\n",
        "\n",
        "https://pypi.org/project/pycosat/\n",
        "\n",
        "https://github.com/conda/pycosat/blob/main/examples/sudoku.py\n",
        "\n",
        "```python\n",
        "\"\"\"\n",
        "The implementation of this Sudoku solver is based on the paper:\n",
        "\n",
        "    \"A SAT-based Sudoku solver\" by Tjark Weber\n",
        "\n",
        "    https://www.lri.fr/~conchon/mpri/weber.pdf\n",
        "\n",
        "If you want to understand the code below, in particular the function valid(),\n",
        "which calculates the 324 clauses corresponding to 9 cells, you are strongly\n",
        "encouraged to read the paper first.  The paper is very short, but contains\n",
        "all necessary information.\n",
        "\"\"\"\n",
        "import pycosat\n",
        "\n",
        "\n",
        "def v(i, j, d):\n",
        "    \"\"\"\n",
        "    Return the number of the variable of cell i, j and digit d,\n",
        "    which is an integer in the range of 1 to 729 (including).\n",
        "    \"\"\"\n",
        "    return 81 * (i - 1) + 9 * (j - 1) + d\n",
        "\n",
        "\n",
        "def sudoku_clauses():\n",
        "    \"\"\"\n",
        "    Create the (11745) Sudoku clauses, and return them as a list.\n",
        "    Note that these clauses are *independent* of the particular\n",
        "    Sudoku puzzle at hand.\n",
        "    \"\"\"\n",
        "    res = []\n",
        "    # for all cells, ensure that the each cell:\n",
        "    for i in range(1, 10):\n",
        "        for j in range(1, 10):\n",
        "            # denotes (at least) one of the 9 digits (1 clause)\n",
        "            res.append([v(i, j, d) for d in range(1, 10)])\n",
        "            # does not denote two different digits at once (36 clauses)\n",
        "            for d in range(1, 10):\n",
        "                for dp in range(d + 1, 10):\n",
        "                    res.append([-v(i, j, d), -v(i, j, dp)])\n",
        "\n",
        "    def valid(cells):\n",
        "        # Append 324 clauses, corresponding to 9 cells, to the result.\n",
        "        # The 9 cells are represented by a list tuples.  The new clauses\n",
        "        # ensure that the cells contain distinct values.\n",
        "        for i, xi in enumerate(cells):\n",
        "            for j, xj in enumerate(cells):\n",
        "                if i < j:\n",
        "                    for d in range(1, 10):\n",
        "                        res.append([-v(xi[0], xi[1], d), -v(xj[0], xj[1], d)])\n",
        "\n",
        "    # ensure rows and columns have distinct values\n",
        "    for i in range(1, 10):\n",
        "        valid([(i, j) for j in range(1, 10)])\n",
        "        valid([(j, i) for j in range(1, 10)])\n",
        "    # ensure 3x3 sub-grids \"regions\" have distinct values\n",
        "    for i in 1, 4, 7:\n",
        "        for j in 1, 4 ,7:\n",
        "            valid([(i + k % 3, j + k // 3) for k in range(9)])\n",
        "\n",
        "    assert len(res) == 81 * (1 + 36) + 27 * 324\n",
        "    return res\n",
        "\n",
        "\n",
        "def solve(grid):\n",
        "    \"\"\"\n",
        "    solve a Sudoku grid inplace\n",
        "    \"\"\"\n",
        "    clauses = sudoku_clauses()\n",
        "    for i in range(1, 10):\n",
        "        for j in range(1, 10):\n",
        "            d = grid[i - 1][j - 1]\n",
        "            # For each digit already known, a clause (with one literal).\n",
        "            # Note:\n",
        "            #     We could also remove all variables for the known cells\n",
        "            #     altogether (which would be more efficient).  However, for\n",
        "            #     the sake of simplicity, we decided not to do that.\n",
        "            if d:\n",
        "                clauses.append([v(i, j, d)])\n",
        "\n",
        "    # solve the SAT problem\n",
        "    sol = set(pycosat.solve(clauses))\n",
        "\n",
        "    def read_cell(i, j):\n",
        "        # return the digit of cell i, j according to the solution\n",
        "        for d in range(1, 10):\n",
        "            if v(i, j, d) in sol:\n",
        "                return d\n",
        "\n",
        "    for i in range(1, 10):\n",
        "        for j in range(1, 10):\n",
        "            grid[i - 1][j - 1] = read_cell(i, j)\n",
        "\n",
        "\n",
        "if __name__ == '__main__':\n",
        "    from pprint import pprint\n",
        "\n",
        "    # hard Sudoku problem, see Fig. 3 in paper by Weber\n",
        "    hard = [[0, 2, 0, 0, 0, 0, 0, 0, 0],\n",
        "            [0, 0, 0, 6, 0, 0, 0, 0, 3],\n",
        "            [0, 7, 4, 0, 8, 0, 0, 0, 0],\n",
        "            [0, 0, 0, 0, 0, 3, 0, 0, 2],\n",
        "            [0, 8, 0, 0, 4, 0, 0, 1, 0],\n",
        "            [6, 0, 0, 5, 0, 0, 0, 0, 0],\n",
        "            [0, 0, 0, 0, 1, 0, 7, 8, 0],\n",
        "            [5, 0, 0, 0, 0, 9, 0, 0, 0],\n",
        "            [0, 0, 0, 0, 0, 0, 0, 4, 0]]\n",
        "    solve(hard)\n",
        "    pprint(hard)\n",
        "    assert [[1, 2, 6, 4, 3, 7, 9, 5, 8],\n",
        "            [8, 9, 5, 6, 2, 1, 4, 7, 3],\n",
        "            [3, 7, 4, 9, 8, 5, 1, 2, 6],\n",
        "            [4, 5, 7, 1, 9, 3, 8, 6, 2],\n",
        "            [9, 8, 3, 2, 4, 6, 5, 1, 7],\n",
        "            [6, 1, 2, 5, 7, 8, 3, 9, 4],\n",
        "            [2, 6, 9, 3, 1, 4, 7, 8, 5],\n",
        "            [5, 4, 8, 7, 6, 9, 2, 3, 1],\n",
        "            [7, 3, 1, 8, 5, 2, 6, 4, 9]] == hard\n",
        "\n",
        "```"
      ]
    },
    {
      "cell_type": "code",
      "source": [
        "! pip install pycosat"
      ],
      "metadata": {
        "id": "v2GAmVojE0z0",
        "outputId": "438a1b6b-a5a8-4d37-ef8b-62bdbcbfdbc8",
        "colab": {
          "base_uri": "https://localhost:8080/"
        }
      },
      "execution_count": 79,
      "outputs": [
        {
          "output_type": "stream",
          "name": "stdout",
          "text": [
            "Collecting pycosat\n",
            "  Downloading pycosat-0.6.6.tar.gz (71 kB)\n",
            "\u001b[?25l     \u001b[90m━━━━━━━━━━━━━━━━━━━━━━━━━━━━━━━━━━━━━━━━\u001b[0m \u001b[32m0.0/71.6 kB\u001b[0m \u001b[31m?\u001b[0m eta \u001b[36m-:--:--\u001b[0m\r\u001b[2K     \u001b[90m━━━━━━━━━━━━━━━━━━━━━━━━━━━━━━━━━━━━━━━━\u001b[0m \u001b[32m71.6/71.6 kB\u001b[0m \u001b[31m3.2 MB/s\u001b[0m eta \u001b[36m0:00:00\u001b[0m\n",
            "\u001b[?25h  Preparing metadata (setup.py) ... \u001b[?25l\u001b[?25hdone\n",
            "Building wheels for collected packages: pycosat\n",
            "  Building wheel for pycosat (setup.py) ... \u001b[?25l\u001b[?25hdone\n",
            "  Created wheel for pycosat: filename=pycosat-0.6.6-cp310-cp310-linux_x86_64.whl size=169340 sha256=4897652e67361cd68e85ab1cc6ee0ddb11162d86edc19e4b887ca6dfa1d5fa80\n",
            "  Stored in directory: /root/.cache/pip/wheels/63/29/df/b8c22ca5812e2d7b342269a53add280b5bad42a540f34c3dc1\n",
            "Successfully built pycosat\n",
            "Installing collected packages: pycosat\n",
            "Successfully installed pycosat-0.6.6\n"
          ]
        }
      ]
    },
    {
      "cell_type": "code",
      "execution_count": 80,
      "metadata": {
        "id": "R6LrH2_sxsrv"
      },
      "outputs": [],
      "source": [
        "import pycosat\n",
        "from itertools import product, combinations\n"
      ]
    },
    {
      "cell_type": "code",
      "execution_count": 81,
      "metadata": {
        "id": "lE0CiVY2xsrv"
      },
      "outputs": [],
      "source": [
        "def sudoku_clauses_naive():\n",
        "    one_value_per_cell = [\n",
        "        Clause((-Option.from_triple(row, col, val0), -Option.from_triple(row, col, val1)))\n",
        "        for row, col, (val0, val1) in product(\n",
        "            range(1, 10),\n",
        "            range(1, 10),\n",
        "            combinations(range(1, 10), 2)\n",
        "        )\n",
        "    ]\n",
        "\n",
        "    return (\n",
        "        [Item(i).cnf() for i in range(4*81)] +\n",
        "        one_value_per_cell\n",
        "    )"
      ]
    },
    {
      "cell_type": "code",
      "execution_count": null,
      "metadata": {
        "id": "LNH12xAsxsrw"
      },
      "outputs": [],
      "source": [
        "\n",
        "def sudoku_clauses():\n",
        "    one_value_per_cell = [\n",
        "        Clause((-Option.from_triple(row, col, val0), -Option.from_triple(row, col, val1)))\n",
        "        for row, col, (val0, val1) in product(\n",
        "            range(1, 10),\n",
        "            range(1, 10),\n",
        "            combinations(range(1, 10), 2)\n",
        "        )\n",
        "    ]\n",
        "\n",
        "    one_location_per_row = [\n",
        "        Clause((-Option.from_triple(row, col0, val), -Option.from_triple(row, col1, val)))\n",
        "        for row, (col0, col1), val in product(\n",
        "            range(1, 10),\n",
        "            combinations(range(1, 10), 2),\n",
        "            range(1, 10),\n",
        "        )\n",
        "    ]\n",
        "\n",
        "    one_location_per_col = [\n",
        "        Clause((-Option.from_triple(row0, col, val), -Option.from_triple(row1, col, val)))\n",
        "        for (row0, row1), col, val in product(\n",
        "            combinations(range(1, 10), 2),\n",
        "            range(1, 10),\n",
        "            range(1, 10)\n",
        "        )\n",
        "    ]\n",
        "\n",
        "    one_location_per_square = [\n",
        "        Clause((-Option.from_triple(row0, col0, val), -Option.from_triple(row1, col1, val)))\n",
        "        for i in range(9)\n",
        "        for ((row0, col0), (row1, col1)), val in product(\n",
        "            combinations(subsquare(i//3, i%3), 2),\n",
        "            range(1, 10)\n",
        "        )\n",
        "    ]\n",
        "\n",
        "    return (\n",
        "        [Item(i).cnf() for i in range(4*81)] +\n",
        "        one_value_per_cell +\n",
        "        one_location_per_row +\n",
        "        one_location_per_col +\n",
        "        one_location_per_square\n",
        "    )"
      ]
    },
    {
      "cell_type": "code",
      "execution_count": null,
      "metadata": {
        "id": "S97tNIe3xsrx"
      },
      "outputs": [],
      "source": [
        "clauses = sudoku_clauses_naive()\n",
        "print(f\"naive: {len(clauses)=}\\n{clauses[0]=!s}\\n{clauses[-5]=!s}\")\n",
        "clauses = sudoku_clauses()\n",
        "print(f\"improved: {len(clauses)=}\\n{clauses[0]=!s}\\n{clauses[-5]=!s}\")\n"
      ]
    },
    {
      "cell_type": "code",
      "execution_count": 82,
      "metadata": {
        "id": "sTKn0w-wxsrx"
      },
      "outputs": [],
      "source": [
        "def naive_solver(sudoku, **kwargs):\n",
        "    \"\"\"\n",
        "    solve a Sudoku grid inplace\n",
        "    \"\"\"\n",
        "    clauses = sudoku_clauses_naive()\n",
        "\n",
        "    clauses.extend(\n",
        "        Clause([Option.from_triple(row, col, val)])\n",
        "        for row, col, val in sudoku.enumerate()\n",
        "    )\n",
        "\n",
        "    sudoku_solved = sudoku.copy()\n",
        "    grid = sudoku_solved.grid\n",
        "    for option in pycosat.solve(clauses, **kwargs):\n",
        "        if option > 0:\n",
        "            Option(option).apply(grid)\n",
        "    sudoku_solved.name += \" solved\"\n",
        "    return sudoku_solved"
      ]
    },
    {
      "cell_type": "code",
      "execution_count": null,
      "metadata": {
        "id": "9whXr2Wyxsrx"
      },
      "outputs": [],
      "source": [
        "def modified_solver(sudoku, **kwargs):\n",
        "    \"\"\"\n",
        "    solve a Sudoku grid inplace\n",
        "    \"\"\"\n",
        "    clauses = sudoku_clauses()\n",
        "\n",
        "    clauses.extend(\n",
        "        Clause([Option.from_triple(row, col, val)])\n",
        "        for row, col, val in sudoku.enumerate()\n",
        "    )\n",
        "\n",
        "    sudoku_solved = sudoku.copy()\n",
        "    grid = sudoku_solved.grid\n",
        "    for option in pycosat.solve(clauses, **kwargs):\n",
        "        if option > 0:\n",
        "            Option(option).apply(grid)\n",
        "    sudoku_solved.name += \" solved\"\n",
        "    return sudoku_solved\n"
      ]
    },
    {
      "cell_type": "code",
      "execution_count": null,
      "metadata": {
        "id": "qFzXGu_Mxsry"
      },
      "outputs": [],
      "source": [
        "class PycosatSolver:\n",
        "    naive_clauses = sudoku_clauses_naive()\n",
        "    clauses = sudoku_clauses()\n",
        "    def solve(self, sudoku, which=\"modified\", **kwargs):\n",
        "        clauses = self.clauses if which == \"modified\" else self.naive_clauses\n",
        "        clauses = clauses.copy()\n",
        "        clauses.extend(\n",
        "            Clause([Option.from_triple(row, col, val)])\n",
        "            for row, col, val in sudoku.enumerate()\n",
        "        )\n",
        "        sudoku_solved = sudoku.copy()\n",
        "        grid = sudoku_solved.grid\n",
        "        for option in pycosat.solve(clauses, **kwargs):\n",
        "            if option > 0:\n",
        "                Option(option).apply(grid)\n",
        "        sudoku_solved.name += \" solved\"\n",
        "        return sudoku_solved\n",
        "\n"
      ]
    },
    {
      "cell_type": "code",
      "execution_count": 83,
      "metadata": {
        "id": "YPWKTMpIxsry",
        "outputId": "e04eafe4-65d4-4f2d-9391-be7d62298cd4",
        "colab": {
          "base_uri": "https://localhost:8080/"
        }
      },
      "outputs": [
        {
          "output_type": "stream",
          "name": "stdout",
          "text": [
            "1.22 s ± 178 ms per loop (mean ± std. dev. of 7 runs, 1 loop each)\n"
          ]
        }
      ],
      "source": [
        "%timeit sudoku_solved = naive_solver(sudoku)"
      ]
    },
    {
      "cell_type": "code",
      "execution_count": null,
      "metadata": {
        "id": "GQMIbmAbxsry"
      },
      "outputs": [],
      "source": [
        "%timeit sudoku_solved = modified_solver(sudoku)"
      ]
    },
    {
      "cell_type": "code",
      "execution_count": null,
      "metadata": {
        "id": "5f8GGNGDxsrz"
      },
      "outputs": [],
      "source": [
        "sudoku_solved = modified_solver(sudoku)\n",
        "print(sudoku_solved)"
      ]
    },
    {
      "cell_type": "code",
      "execution_count": null,
      "metadata": {
        "id": "FySO9U5Rxsrz"
      },
      "outputs": [],
      "source": [
        "display(SVG(sudoku_solved.svg))"
      ]
    },
    {
      "cell_type": "code",
      "execution_count": null,
      "metadata": {
        "id": "RxfsXv8pxsr0"
      },
      "outputs": [],
      "source": [
        "sudoku_solved.draw()"
      ]
    },
    {
      "cell_type": "markdown",
      "metadata": {
        "id": "HsUzN5hyxsr0"
      },
      "source": [
        "## Egész értékű programozás"
      ]
    },
    {
      "cell_type": "markdown",
      "metadata": {
        "id": "1R26Fdgwxsr0"
      },
      "source": [
        "A sudoku feladat úgy is megfogalmazható, hogy adott egy mátrix $A$. $A_{i,j}=1$ ha az $j$. opció kielégíti a $i$. követelményt. A korábbi $x_1,\\dots,x_m$ logikai változókat egy $x$ vektorba összefogva ($\\text{Hamis}=0$ és $\\text{Igaz}=1$)\n",
        "$$\n",
        "    v = Ax\n",
        "$$\n",
        "esetén $v_i$ azt adja meg, hogy a $i$. követelményt hány opció teljesíti a kiválasztottak közül. Azt szeretnénk, ha ez 1 lenne minden $i$-re.\n",
        "\n",
        "Azaz a feladat\n",
        "$$\n",
        "    Ax = \\mathbb{1}, \\quad \\text{úgy, hogy  $x_i\\in\\{0, 1\\}$}\n",
        "$$\n",
        "Ha több megoldás van akkor vehetjük azt, ami minimalizál egy lineráris kifejezést."
      ]
    },
    {
      "cell_type": "markdown",
      "metadata": {
        "id": "HOoHWQGNxsr1"
      },
      "source": [
        "## Lineáris programozás"
      ]
    },
    {
      "cell_type": "markdown",
      "metadata": {
        "id": "JkB5-5hzxsr1"
      },
      "source": [
        "A lineáris programozási feladat általános alakja:\n",
        "$$\n",
        "    x_0=\\arg\\max_x c^T x,\\quad\\text{úgy, hogy}\\quad\n",
        "    Ax \\leq b, \\quad x\\geq0\n",
        "$$\n",
        "Azaz azt az $x_0$ vektort keressük, ami a $\\sum_jc_jx_j$ összeget maximalizálja azon nem negatív koordinátájú $x$-ek között, amik a lineáris feltételnek $(Ax)_j\\geq 0$ eleget tesznek.\n",
        "\n",
        "A feladatban $A$, $c$ és $b$ adottak és $c$, $b$ **nem negatívak** (azaz a koordináták ilyenek).\n",
        "\n",
        "Példa:"
      ]
    },
    {
      "cell_type": "code",
      "execution_count": null,
      "metadata": {
        "id": "mC8GtjeJxsr3"
      },
      "outputs": [],
      "source": [
        "import numpy as np\n",
        "import matplotlib.pyplot as plt"
      ]
    },
    {
      "cell_type": "code",
      "execution_count": null,
      "metadata": {
        "id": "b61GFBJCxsr4"
      },
      "outputs": [],
      "source": [
        "c = np.array([1, 1])\n",
        "b = np.array([2, 3])\n",
        "A = np.array([[1, 2], [2, 1]])\n",
        "print(f\"{c=}, {b=},\\n{A=!s}\")"
      ]
    },
    {
      "cell_type": "code",
      "execution_count": null,
      "metadata": {
        "id": "IJG4ZiUVxsr4"
      },
      "outputs": [],
      "source": [
        "def line(v, b):\n",
        "    p0 = b/(v@v)*v\n",
        "    v_perp = np.array([v[1], -v[0]])\n",
        "    p1 = p0+v_perp\n",
        "    return p0, p1\n",
        "\n",
        "def y_fun(v, b):\n",
        "    return lambda x: b/v[1]-(v[0]/v[1])*x\n",
        "\n",
        "ax = plt.axes((0, 0, 1, 1))\n",
        "ax.set_xlim((-4, 4))\n",
        "ax.set_ylim((-4, 4))\n",
        "ax.set_aspect(\"equal\")\n",
        "for v, b0 in zip(A, b):\n",
        "    ax.axline(*line(v, b0))\n",
        "ax.grid()\n",
        "ax.plot([4/3], [1/3], 'or')\n",
        "ax.axline((4/3, 1/3), (1/3, 4/3), color='red', alpha=0.5)\n",
        "\n",
        "\n",
        "xs = np.linspace(-4, 4, 201)\n",
        "\n",
        "ax.fill_between(xs, -4, np.minimum(y_fun(A[0], b[0])(xs), y_fun(A[1], b[1])(xs)), alpha=0.5)\n",
        "plt.show()\n"
      ]
    },
    {
      "cell_type": "markdown",
      "metadata": {
        "id": "DQIX_3uLxsr4"
      },
      "source": [
        "## `scipy` mixed integer solver (`milp`)."
      ]
    },
    {
      "cell_type": "code",
      "execution_count": null,
      "metadata": {
        "id": "f3amt6tExsr5"
      },
      "outputs": [],
      "source": [
        "from scipy.optimize import milp, Bounds, LinearConstraint\n",
        "import numpy as np"
      ]
    },
    {
      "cell_type": "code",
      "execution_count": null,
      "metadata": {
        "id": "nT7lern_xsr7"
      },
      "outputs": [],
      "source": [
        "help(milp)"
      ]
    },
    {
      "cell_type": "code",
      "execution_count": null,
      "metadata": {
        "id": "kR2IAraGxsr8"
      },
      "outputs": [],
      "source": [
        "sudoku.draw()"
      ]
    },
    {
      "cell_type": "code",
      "execution_count": null,
      "metadata": {
        "id": "Grse1Nhrxsr-"
      },
      "outputs": [],
      "source": [
        "def sudoku_adj_matrix():\n",
        "    options = list(Option.instances())\n",
        "\n",
        "    A = np.zeros((Item.max_value+1, len(options)))\n",
        "    for j, option in enumerate(options):\n",
        "        for item in option.items():\n",
        "            A[item][j] = 1\n",
        "    return A, options\n"
      ]
    },
    {
      "cell_type": "code",
      "execution_count": null,
      "metadata": {
        "id": "lRX5tu3Oxsr-"
      },
      "outputs": [],
      "source": [
        "A, options = sudoku_adj_matrix()\n",
        "pprint(A)"
      ]
    },
    {
      "cell_type": "code",
      "execution_count": null,
      "metadata": {
        "id": "9_vyigyrxsr_"
      },
      "outputs": [],
      "source": [
        "\n",
        "class MilpSolver():\n",
        "    A, options = sudoku_adj_matrix()\n",
        "    options_ub = np.ones_like(options)\n",
        "    items_b = np.ones(A.shape[0])\n",
        "\n",
        "    def solve(self, sudoku):\n",
        "        lower_bound = np.zeros_like(self.options_ub)\n",
        "\n",
        "        lower_bound[\n",
        "            [Option.from_triple(row, col, val)-1 for row, col, val in sudoku.enumerate()]\n",
        "            ] = 1\n",
        "        bounds = Bounds(lower_bound, self.options_ub)\n",
        "        constraints = LinearConstraint(self.A, self.items_b, self.items_b)\n",
        "        solution = milp(\n",
        "            self.options_ub, # all one vector, could be almost anything\n",
        "            integrality=self.options_ub,\n",
        "            bounds=bounds,\n",
        "            constraints=constraints\n",
        "            )\n",
        "        sudoku_solved = sudoku.copy()\n",
        "        sudoku_solved.name += \" solved\"\n",
        "        for option, include in zip(self.options, solution.x):\n",
        "            if include == 1:\n",
        "                option.apply(sudoku_solved.grid)\n",
        "\n",
        "        sudoku_solved.milp_solution = solution\n",
        "        return sudoku_solved\n",
        "\n",
        "\n",
        "\n"
      ]
    },
    {
      "cell_type": "code",
      "execution_count": null,
      "metadata": {
        "id": "dHFgEebnxsr_"
      },
      "outputs": [],
      "source": [
        "milp_solver = MilpSolver()\n",
        "sudoku_solved = milp_solver.solve(sudoku)"
      ]
    },
    {
      "cell_type": "code",
      "execution_count": null,
      "metadata": {
        "id": "xcyTwm22xsr_"
      },
      "outputs": [],
      "source": [
        "%timeit sudoku_solved = milp_solver.solve(sudoku)\n"
      ]
    },
    {
      "cell_type": "code",
      "execution_count": null,
      "metadata": {
        "id": "fqjDlE_JxssA"
      },
      "outputs": [],
      "source": [
        "print(sudoku_solved.milp_solution)\n",
        "sudoku_solved"
      ]
    },
    {
      "cell_type": "code",
      "execution_count": null,
      "metadata": {
        "id": "NNuU2uVMxssA"
      },
      "outputs": [],
      "source": [
        "print(sudoku_solved)"
      ]
    },
    {
      "cell_type": "markdown",
      "metadata": {
        "id": "hMR_J8YgxssB"
      },
      "source": [
        "## Google `OR-tools` (operation research tools)"
      ]
    },
    {
      "cell_type": "code",
      "execution_count": null,
      "metadata": {
        "id": "SlCky8mjxssB"
      },
      "outputs": [],
      "source": [
        "import importlib\n",
        "if importlib.util.find_spec('ortools') is None:\n",
        "    ! pip install ortools\n"
      ]
    },
    {
      "cell_type": "markdown",
      "metadata": {
        "id": "e5SR8ehpxssC"
      },
      "source": [
        "Ezzel is megoldhatnánk. HF."
      ]
    },
    {
      "cell_type": "markdown",
      "metadata": {
        "id": "pqX9zgOExssC"
      },
      "source": [
        "## Feladványok a netről"
      ]
    },
    {
      "cell_type": "code",
      "execution_count": null,
      "metadata": {
        "id": "PyuWN7HTxssC"
      },
      "outputs": [],
      "source": [
        "import urllib"
      ]
    },
    {
      "cell_type": "code",
      "execution_count": null,
      "metadata": {
        "id": "VmQXCoK4xssD"
      },
      "outputs": [],
      "source": [
        "dowload_large = False #or True\n",
        "\n",
        "url50 = \"https://projecteuler.net/project/resources/p096_sudoku.txt\"\n",
        "\n",
        "urllib.request.urlretrieve(url50, \"/tmp/sudoku.txt\")\n",
        "\n",
        "\n",
        "url50000 = \"https://github.com/t-dillon/tdoku/raw/master/data.zip\"\n",
        "\n",
        "if dowload_large:\n",
        "    urllib.request.urlretrieve(url50000, \"/tmp/sudoku-large.zip\")\n",
        "\n"
      ]
    },
    {
      "cell_type": "code",
      "execution_count": null,
      "metadata": {
        "id": "8ODu1w5ixssD"
      },
      "outputs": [],
      "source": [
        "if dowload_large:\n",
        "    ! unzip -l /tmp/sudoku-large.zip\n",
        "    ! unzip -q /tmp/sudoku-large.zip data/puzzles2_17_clue"
      ]
    },
    {
      "cell_type": "code",
      "execution_count": null,
      "metadata": {
        "id": "5-xXPh6NxssD"
      },
      "outputs": [],
      "source": [
        "def drop_comment(file):\n",
        "    while True:\n",
        "        try:\n",
        "            line = next(file).strip()\n",
        "        except EOFError:\n",
        "            return\n",
        "        if not line.startswith(\"#\"):\n",
        "            yield line"
      ]
    },
    {
      "cell_type": "code",
      "execution_count": null,
      "metadata": {
        "id": "kz9Kub2txssE"
      },
      "outputs": [],
      "source": [
        "if dowload_large:\n",
        "    with open('data/puzzles2_17_clue', 'r') as file:\n",
        "        line = next(drop_comment(file))\n",
        "        grid = [[int(ch) if ch.isdigit() else 0 for ch in line[i: i+9]] for i in range(0,81,9)]\n",
        "        sudoku = Sudoku(grid)\n",
        "    sudoku"
      ]
    },
    {
      "cell_type": "code",
      "execution_count": null,
      "metadata": {
        "id": "8Yym-9UQxssF"
      },
      "outputs": [],
      "source": [
        "with open('/tmp/sudoku.txt') as f:\n",
        "    name = f.readline().strip()\n",
        "    grid = [f.readline() for _ in range(9)]\n",
        "    sudoku = Sudoku.from_str(grid, name)"
      ]
    },
    {
      "cell_type": "code",
      "execution_count": null,
      "metadata": {
        "id": "ctgWkmx4xssF"
      },
      "outputs": [],
      "source": [
        "def read_sudokus(filename):\n",
        "    with open(filename, \"r\") as file:\n",
        "        lines = iter(file)\n",
        "        while True:\n",
        "            try:\n",
        "                name = next(lines).strip()\n",
        "                grid = [next(lines) for _ in range(9)]\n",
        "            except StopIteration:\n",
        "                break\n",
        "            yield Sudoku.from_str(grid, name)"
      ]
    },
    {
      "cell_type": "code",
      "execution_count": null,
      "metadata": {
        "id": "eY2OIOQsxssF"
      },
      "outputs": [],
      "source": [
        "from tqdm.auto import tqdm"
      ]
    },
    {
      "cell_type": "code",
      "execution_count": null,
      "metadata": {
        "id": "uzizuuBDxssG"
      },
      "outputs": [],
      "source": [
        "sudokus = list(read_sudokus(\"/tmp/sudoku.txt\"))"
      ]
    },
    {
      "cell_type": "code",
      "execution_count": null,
      "metadata": {
        "id": "KpUkoKKxxssG"
      },
      "outputs": [],
      "source": [
        "%%time\n",
        "\n",
        "sudoku_milp = MilpSolver()\n",
        "solved_milp = [sudoku_milp.solve(sudoku) for sudoku in tqdm(sudokus)]\n"
      ]
    },
    {
      "cell_type": "code",
      "execution_count": null,
      "metadata": {
        "id": "eaN6VTTwxssG"
      },
      "outputs": [],
      "source": [
        "solved_milp[3]"
      ]
    },
    {
      "cell_type": "code",
      "execution_count": null,
      "metadata": {
        "id": "ayXMUYC3xssH"
      },
      "outputs": [],
      "source": [
        "sudokus = list(read_sudokus(\"/tmp/sudoku.txt\"))"
      ]
    },
    {
      "cell_type": "code",
      "execution_count": null,
      "metadata": {
        "id": "GIEBxv25xssH"
      },
      "outputs": [],
      "source": [
        "%%time\n",
        "\n",
        "pycosat_solver = PycosatSolver()\n",
        "solved_picosat = [pycosat_solver.solve(sudoku) for sudoku in tqdm(sudokus)]\n",
        "\n"
      ]
    },
    {
      "cell_type": "code",
      "execution_count": null,
      "metadata": {
        "id": "03FLzZNNxssI"
      },
      "outputs": [],
      "source": [
        "sudokus = list(read_sudokus(\"/tmp/sudoku.txt\"))"
      ]
    },
    {
      "cell_type": "code",
      "execution_count": null,
      "metadata": {
        "id": "uMq5aMtJxssI"
      },
      "outputs": [],
      "source": [
        "%%time\n",
        "\n",
        "pycosat_solver = PycosatSolver()\n",
        "solved_naive = [pycosat_solver.solve(sudoku, \"naive\") for sudoku in tqdm(sudokus)]\n"
      ]
    },
    {
      "cell_type": "markdown",
      "metadata": {
        "id": "FGmbF9gcxssJ"
      },
      "source": [
        "## Saját solver"
      ]
    },
    {
      "cell_type": "markdown",
      "metadata": {
        "id": "RnBG9gPQxssJ"
      },
      "source": [
        "\n",
        "A Sudokuban ki kell tölteni a hiányzó mezőket úgy, hogy minden sor, oszlop és a 9 db 3x3-as négyzet mindegyike tartalmazza az összes számot egytől kilencig.\n",
        "\n",
        "Minden oszlop, sor és kis négyzet kilenc követelményt jelent nevezetesen azt, hogy az adott tábla részen kell, hogy legyen $1,...,9$.\n",
        "Ez összesen $3*9*9$ követelmény. További követlemény, hogy minden mező pontosan egy értéket tartalmazhat. Ez további 81 követelmény, így összesen $4*9*9$\n",
        "követelmény van.\n",
        "\n",
        "Minden cellába írhatjuk a 9 szám bármelyikét ez összesen $9*9*9$ opció.\n",
        "\n",
        "Minden opció ki tud elégíteni néhány követelményt, pl. ha az opció az hogy (1,1) mezőben 2 van, akkor ha ezt az opciót kiválasztjuk, azzal teljesülni fog,\n",
        "hogy az első sorban, első oszlopban és az (1,1) tartalmazó 3x3-as négyzetben is van 2-es.\n",
        "\n",
        "A feladványt, akkor oldottuk meg, ha kiválasztottuk az opciók egy részét úgy, hogy minden követelményt pontosan egy opció teljesít a kiválasztottak közül.\n",
        "\n",
        "\n",
        "Kicsit messzebről ránézve, van egy páros gráfunk. A csúcsok egyik csoportja a követelményekből, a másik az opciókból áll. Egy követelmény és egy opció között akkor megy él, ha az adott opció kiválasztásával kielégítjük a követelményt.\n",
        "\n",
        "A cél opciók egy részének kiválasztása úgy, hogy minden követelménynek pontosan egy szomszédja legyen a kiválasztott opciók között (exact cover).\n",
        "\n",
        "A megoldás megtalálása elméletben egyszerű.\n",
        "\n",
        "1. `G` a játék gráfja (mátrixa). Töröljük azokat az opciókat, amik összegyeztethetelenek a kitöltött mezőkkel.\n",
        "2. Válasszunk egy `item` követelményt.\n",
        "3. A `item` szomszédjait ellenőrizzük le. Azaz menjünk végig azokon az opciókon, amik `item`-et kielégítik:\n",
        "   \n",
        "   - Mindegyik opcióra  készítsük el azt a  kisebb gráfot, amit úgy kapunk, hogy a kiválasztott opciót\n",
        "     beírjuk a táblába.\n",
        "   \n",
        "     Így néhány további követelményt is kielégítünk és néhány opciót el is kell hagynunk.\n",
        "\n",
        "   - Oldjuk meg a kisebb gráffal a feladatot:\n",
        "     \n",
        "     Ha a kisebb feladatnak nincs megoldása, a kiválasztott opcióval nem lehet megoldani a problémát.\n",
        "     Nézzük a következő lehetőséget.\n",
        "\n",
        "     Ha a kisebb feladatnak van megoldása, akkor a feladat megoldása a kiválasztott opció és a kisebb probléma megoldása együtt.\n",
        "\n",
        "Lehet, hogy kóddal leírva könnyebben érthető.\n",
        "\n",
        "```python\n",
        "def search(G):\n",
        "    if G.items:\n",
        "      item = first_item(G.items)\n",
        "      for option in G.options[item]:\n",
        "            solution = search(new_graph(G, option))\n",
        "            if solution is not None:\n",
        "                return (option,) + solution\n",
        "      return None\n",
        "    return tuple()\n",
        "```\n",
        "\n",
        "Itt `new_graph(G, option)` visszaadja a gráfot amit úgy kapunk, hogy\n",
        "`option` által kielégített követelményeket  és azokat az opciókat amik `option`-nal összeegyeztethetlenek elhagyjuk.\n",
        "\n",
        "Azt feltételezzük, hogy a `new_graph` függvény nem módosítja `G`-t a visszaadott gráf másolat.\n",
        "\n",
        "\n",
        "A futási idő attól függ, hogyan választjuk ki követelményt. A legegyszerűbb módszer: vegyük azt amihez aktuálisan a legkevesebb opció tartozik.\n",
        "Ez pont annak felel meg, amit a játék során magunk is csinálnánk, pl ha egy mezőbe csak egy lehetőség maradt az kitöltjük."
      ]
    },
    {
      "cell_type": "code",
      "execution_count": null,
      "metadata": {
        "id": "xJvpInENxssK"
      },
      "outputs": [],
      "source": [
        "def sudoku_graph():\n",
        "    options = {option: list(option.items()) for option in Option.instances()}\n",
        "    items = {item: set(item.options()) for item in Item.instances()}\n",
        "    return options, items\n",
        "\n",
        "\n",
        "def new_graph(graph, option):\n",
        "    options, items = graph\n",
        "    items_covered = [item for item in options[option] if item in items]\n",
        "    conflicting_options = set(o for item in items_covered for o in items[item])\n",
        "    new_options = {\n",
        "        key: [item for item in value if item not in items_covered]\n",
        "        for key, value in options.items()\n",
        "        if key not in conflicting_options\n",
        "    }\n",
        "    new_items = {\n",
        "        key: [opt for opt in value if opt not in conflicting_options]\n",
        "        for key, value in items.items()\n",
        "        if key not in items_covered\n",
        "    }\n",
        "    return new_options, new_items\n",
        "\n",
        "def first_item(items):\n",
        "    return min(items, key=lambda item: len(items[item]))\n",
        "\n",
        "def search(graph):\n",
        "    _, items = graph\n",
        "    if items:\n",
        "        item = first_item(items)\n",
        "        for option in items[item]:\n",
        "            solution = search(new_graph(graph, option))\n",
        "            if solution is not None:\n",
        "                return (option,) + solution\n",
        "        return None\n",
        "    return tuple()\n",
        "\n",
        "def initial_graph(sudoku):\n",
        "    graph = sudoku_graph()\n",
        "    for row, col, val in sudoku.enumerate():\n",
        "        option = Option.from_triple(row, col, val)\n",
        "        graph = new_graph(graph, option)\n",
        "    return graph\n",
        "\n",
        "def sudoku_solver(sudoku):\n",
        "    graph = initial_graph(sudoku)\n",
        "\n",
        "    solution = search(graph)\n",
        "    if solution is None:\n",
        "        return None\n",
        "\n",
        "    sudoku_solved = sudoku.copy()\n",
        "    for option in solution:\n",
        "        option.apply(sudoku_solved.grid)\n",
        "    return sudoku_solved\n"
      ]
    },
    {
      "cell_type": "code",
      "execution_count": null,
      "metadata": {
        "id": "583kSPrsxssL"
      },
      "outputs": [],
      "source": [
        "sudoku"
      ]
    },
    {
      "cell_type": "code",
      "execution_count": null,
      "metadata": {
        "id": "91yCeCPuxssL"
      },
      "outputs": [],
      "source": [
        "options, items = initial_graph(sudoku)"
      ]
    },
    {
      "cell_type": "code",
      "execution_count": null,
      "metadata": {
        "id": "jioGoHooxssL"
      },
      "outputs": [],
      "source": [
        "# pprint(items)"
      ]
    },
    {
      "cell_type": "code",
      "execution_count": null,
      "metadata": {
        "id": "g5gm-QFyxssL"
      },
      "outputs": [],
      "source": [
        "\n",
        "%timeit sudoku_solved = sudoku_solver(sudoku)"
      ]
    },
    {
      "cell_type": "code",
      "execution_count": null,
      "metadata": {
        "id": "S40SqCiHxssL"
      },
      "outputs": [],
      "source": [
        "sudoku_solved = sudoku_solver(sudoku)\n",
        "sudoku_solved"
      ]
    },
    {
      "cell_type": "markdown",
      "metadata": {
        "id": "5GVorJuExssL"
      },
      "source": [
        "### Logging. Megoldás lépésről lépésre"
      ]
    },
    {
      "cell_type": "code",
      "execution_count": null,
      "metadata": {
        "id": "mVReRauAxssM"
      },
      "outputs": [],
      "source": [
        "import logging\n",
        "\n",
        "logging.BASIC_FORMAT"
      ]
    },
    {
      "cell_type": "code",
      "execution_count": null,
      "metadata": {
        "id": "bWbAhzQVxssN"
      },
      "outputs": [],
      "source": [
        "import logging\n",
        "logger = logging.getLogger('sudoku')\n",
        "logging.basicConfig(format=\"%(message)s\", force=True)\n",
        "logger.setLevel(logging.WARNING)\n"
      ]
    },
    {
      "cell_type": "code",
      "execution_count": null,
      "metadata": {
        "id": "XUOSgvdexssN"
      },
      "outputs": [],
      "source": [
        "\n",
        "def search(graph, level=0):\n",
        "    _, items = graph\n",
        "    if items:\n",
        "        item = first_item(items)\n",
        "        logger.info('level %3d: considering %s with %d options', level, item, len(items[item]))\n",
        "\n",
        "        for option in items[item]:\n",
        "            logger.info('level %3d: trying %s for %s', level, option, item)\n",
        "            solution = search(new_graph(graph, option), level+1)\n",
        "            if solution is not None:\n",
        "                logger.info('level %3d: %s works', level, option)\n",
        "                return (option,) + solution\n",
        "            logger.info('level %3d: %s rejected', level, option)\n",
        "        return None\n",
        "    return tuple()"
      ]
    },
    {
      "cell_type": "code",
      "execution_count": null,
      "metadata": {
        "id": "II9i1TDWxssO"
      },
      "outputs": [],
      "source": [
        "# logger.setLevel(logging.DEBUG)"
      ]
    },
    {
      "cell_type": "code",
      "execution_count": null,
      "metadata": {
        "id": "oI3UVcrOxssO"
      },
      "outputs": [],
      "source": [
        "from contextlib import contextmanager\n",
        "\n",
        "@contextmanager\n",
        "def using_level(level, format=None):\n",
        "    logger = logging.getLogger('sudoku')\n",
        "    _level = logger.level\n",
        "    try:\n",
        "        logger.setLevel(level)\n",
        "        yield\n",
        "    finally:\n",
        "        logger.setLevel(_level)"
      ]
    },
    {
      "cell_type": "code",
      "execution_count": null,
      "metadata": {
        "id": "hID4tJbAxssO"
      },
      "outputs": [],
      "source": [
        "sudoku_solved = sudoku_solver(sudoku)\n"
      ]
    },
    {
      "cell_type": "code",
      "execution_count": null,
      "metadata": {
        "id": "dLuUYb1PxssO"
      },
      "outputs": [],
      "source": [
        "grid=[\n",
        "    [0, 2, 0, 0, 0, 0, 0, 0, 0],\n",
        "    [0, 0, 0, 6, 0, 0, 0, 0, 3],\n",
        "    [0, 7, 4, 0, 8, 0, 0, 0, 0],\n",
        "    [0, 0, 0, 0, 0, 3, 0, 0, 2],\n",
        "    [0, 8, 0, 0, 4, 0, 0, 1, 0],\n",
        "    [6, 0, 0, 5, 0, 0, 0, 0, 0],\n",
        "    [0, 0, 0, 0, 1, 0, 7, 8, 0],\n",
        "    [5, 0, 0, 0, 0, 9, 0, 0, 0],\n",
        "    [0, 0, 0, 0, 0, 0, 0, 4, 0]\n",
        "    ]\n",
        "sudoku = Sudoku(grid, \"A hard problem\")\n",
        "\n",
        "fig=sudoku.draw()\n",
        "# fig.savefig('/tmp/hard.png')\n"
      ]
    },
    {
      "cell_type": "code",
      "execution_count": null,
      "metadata": {
        "id": "SpF-jfLQxssP"
      },
      "outputs": [],
      "source": [
        "with using_level(logging.INFO):\n",
        "    sudoku_solved = sudoku_solver(sudoku)\n"
      ]
    },
    {
      "cell_type": "code",
      "execution_count": null,
      "metadata": {
        "id": "1TpeyTqnxssQ"
      },
      "outputs": [],
      "source": [
        "sudokus = list(read_sudokus(\"/tmp/sudoku.txt\"))"
      ]
    },
    {
      "cell_type": "code",
      "execution_count": null,
      "metadata": {
        "id": "F3e_ikj1xssQ"
      },
      "outputs": [],
      "source": [
        "%%time\n",
        "\n",
        "solutions = [sudoku_solver(sudoku) for sudoku in tqdm(sudokus)]"
      ]
    },
    {
      "cell_type": "markdown",
      "metadata": {
        "id": "mm93Ksc3xssQ"
      },
      "source": [
        "A fenti módszer mindig lemásolja a maradék gráfot és azon dolgozik tovább. [Knuth __Dancing Link__](https://arxiv.org/abs/cs/0011047)-nek nevezett módszerével a másolások elkerülhetőek, és valamivel gyorsabb lenne a számolás.\n"
      ]
    }
  ],
  "metadata": {
    "kernelspec": {
      "display_name": "python3.10",
      "language": "python",
      "name": "python3"
    },
    "language_info": {
      "codemirror_mode": {
        "name": "ipython",
        "version": 3
      },
      "file_extension": ".py",
      "mimetype": "text/x-python",
      "name": "python",
      "nbconvert_exporter": "python",
      "pygments_lexer": "ipython3",
      "version": "3.10.12"
    },
    "colab": {
      "provenance": []
    }
  },
  "nbformat": 4,
  "nbformat_minor": 0
}