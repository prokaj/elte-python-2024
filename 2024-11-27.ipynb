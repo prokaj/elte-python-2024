{
 "cells": [
  {
   "cell_type": "code",
   "execution_count": null,
   "metadata": {},
   "outputs": [],
   "source": [
    "import ipytest\n",
    "ipytest.autoconfig()\n",
    "\n",
    "from pprint import pprint"
   ]
  },
  {
   "cell_type": "markdown",
   "metadata": {},
   "source": [
    "# Házifeladat"
   ]
  },
  {
   "cell_type": "code",
   "execution_count": null,
   "metadata": {},
   "outputs": [],
   "source": [
    "import time\n",
    "import numpy as np\n",
    "\n",
    "# import sys\n",
    "# sys.setrecursionlimit(10000)"
   ]
  },
  {
   "cell_type": "code",
   "execution_count": null,
   "metadata": {},
   "outputs": [],
   "source": [
    "def site_percolation(edges, n):\n",
    "    p = np.random.random(n)[np.asarray(edges)].max(axis=1)\n",
    "    order = np.argsort(p)\n",
    "    for i in order:\n",
    "        yield p[i], edges[i]\n",
    "\n",
    "\n",
    "def edge_percolation(edges, n=None):\n",
    "    p = np.random.random(len(edges))\n",
    "    order = np.argsort(p)\n",
    "    for i in order:\n",
    "        yield p[i], edges[i]"
   ]
  },
  {
   "cell_type": "code",
   "execution_count": null,
   "metadata": {},
   "outputs": [],
   "source": [
    "def rectangle(m, n):\n",
    "    vertices = [(i, j) for i in range(m) for j in range(n)]\n",
    "    mapping = {v: idx for  idx, v in enumerate(vertices)}\n",
    "\n",
    "    def neighbors(v):\n",
    "        i, j = v\n",
    "        if i > 0:\n",
    "            yield i-1, j\n",
    "        if j > 0:\n",
    "            yield i, j-1\n",
    "\n",
    "    edges = [(idx, mapping[v1]) for idx, v0 in enumerate(vertices) for v1 in neighbors(v0)]\n",
    "    return vertices, edges\n",
    "\n",
    "def rectangle8(m, n):\n",
    "    vertices = [(i, j) for i in range(m) for j in range(n)]\n",
    "    mapping = {v: idx for  idx, v in enumerate(vertices)}\n",
    "\n",
    "    def neighbors(v):\n",
    "        i, j = v\n",
    "        for j0 in range(j-1, j+2):\n",
    "            if (i-1, j0) in mapping:\n",
    "                yield i-1, j0\n",
    "        if j>0:\n",
    "            yield i, j-1\n",
    "        \n",
    "    edges = [(idx, mapping[v1]) for idx, v0 in enumerate(vertices) for v1 in neighbors(v0)]\n",
    "    return vertices, edges\n",
    "\n",
    "def triangle(m, n):\n",
    "    vertices = [(i,j+i%2) for i in range(m) for j in range(0, n, 2)]\n",
    "    mapping = {v: idx for  idx, v in enumerate(vertices)}\n",
    "\n",
    "    def neighbors(v):\n",
    "        i, j = v\n",
    "        if i > 0:\n",
    "            if j > 0:\n",
    "                yield i-1, j-1\n",
    "            if j+1 < n:\n",
    "                yield i-1, j+1        \n",
    "        if j > 1:\n",
    "            yield i, j-2\n",
    "\n",
    "    edges = [(idx, mapping[v1]) for idx, v0 in enumerate(vertices) for v1 in neighbors(v0)]\n",
    "    return vertices, edges\n",
    "\n",
    "def hexagon(m, n):\n",
    "    shift = [1, 0, 0, 1]\n",
    "    vertices = [(i, j+shift[i%4]) for i in range(m) for j in range(0, n, 2)]\n",
    "    mapping = {v: idx for  idx, v in enumerate(vertices)}\n",
    "\n",
    "    def neighbors(v):\n",
    "        i, j = v\n",
    "        for j0 in range(j-1, j+2):\n",
    "            if (i-1, j0) in mapping:\n",
    "                yield i-1, j0\n",
    "\n",
    "    edges = [(idx, mapping[v1]) for idx, v0 in enumerate(vertices) for v1 in neighbors(v0)]\n",
    "    return vertices, edges"
   ]
  },
  {
   "cell_type": "code",
   "execution_count": null,
   "metadata": {},
   "outputs": [],
   "source": [
    "class UnionFind:\n",
    "\n",
    "    def __init__(self, n):\n",
    "        self.roots = [*range(n)]\n",
    "        self.sizes = [1]*n\n",
    "        self.max_size = 1\n",
    "\n",
    "    def find(self, a):\n",
    "        if self.roots[a]!=a:\n",
    "            self.roots[a] = self.find(self.roots[a])\n",
    "        return self.roots[a]\n",
    "\n",
    "\n",
    "    def union(self, a, b):\n",
    "        ra = self.find(a)\n",
    "        rb = self.find(b)\n",
    "        if ra != rb:\n",
    "            if self.sizes[ra] > self.sizes[rb]:\n",
    "                ra, rb = rb, ra\n",
    "            self.roots[ra] = rb\n",
    "            self.sizes[rb] += self.sizes[ra]\n",
    "            if self.max_size < self.sizes[rb]:\n",
    "                self.max_size = self.sizes[rb]\n",
    "        return self.sizes[rb]\n",
    "\n",
    "\n",
    "def max_comp_sizes(edge_iter, n):\n",
    "    uf = UnionFind(n)\n",
    "    for p, (a, b) in edge_iter:\n",
    "        size = uf.union(a, b)\n",
    "        yield p, uf.max_size\n",
    "\n",
    "\n",
    "def discretize(mon_iter, subdivision, default=1):\n",
    "    it = iter(subdivision)\n",
    "    value = default\n",
    "    t = next(it)\n",
    "    for s, v in mon_iter:\n",
    "        if s < t:\n",
    "            value = v\n",
    "        else:\n",
    "            yield value\n",
    "            t = next(it)\n",
    "            value = v\n",
    "    for _ in it:\n",
    "        yield value\n",
    "    yield value\n"
   ]
  },
  {
   "cell_type": "markdown",
   "metadata": {},
   "source": [
    "# some test"
   ]
  },
  {
   "cell_type": "code",
   "execution_count": null,
   "metadata": {},
   "outputs": [],
   "source": [
    "vertices, edges = rectangle(4, 3)\n",
    "print(f\"{vertices=}\\n{edges=}\")"
   ]
  },
  {
   "cell_type": "code",
   "execution_count": null,
   "metadata": {},
   "outputs": [],
   "source": [
    "print(\"edge percolation\")\n",
    "print(*edge_percolation(edges, len(vertices)), sep=\"\\n\")"
   ]
  },
  {
   "cell_type": "code",
   "execution_count": null,
   "metadata": {},
   "outputs": [],
   "source": [
    "print(\"site percolation\")\n",
    "print(*site_percolation(edges, len(vertices)), sep=\"\\n\")"
   ]
  },
  {
   "cell_type": "code",
   "execution_count": null,
   "metadata": {},
   "outputs": [],
   "source": [
    "# import matplotlib\n",
    "# matplotlib.use(\"TkAgg\")\n",
    "import matplotlib.pyplot as plt\n",
    "%matplotlib inline\n",
    "\n",
    "def plot_graph(vertices, edges):\n",
    "    x, y = zip(*vertices)\n",
    "    for a, b in edges:\n",
    "        x0, y0 = vertices[a]\n",
    "        x1, y1 = vertices[b]\n",
    "        plt.plot((x0,x1), (y0,y1), c=\"blue\", alpha=0.5)\n",
    "    plt.plot(x, y, \"o\", mfc=\"white\", mec=\"red\", markersize=20, alpha=1)\n",
    "    for i, (x, y) in enumerate(vertices):\n",
    "        plt.text(x, y, str(i), fontsize=12, ha=\"center\", va=\"center\")\n",
    "    plt.show()\n",
    "\n",
    "plot_graph(*rectangle(4, 3))\n"
   ]
  },
  {
   "cell_type": "code",
   "execution_count": null,
   "metadata": {},
   "outputs": [],
   "source": [
    "vertices, edges = rectangle8(4, 3)\n",
    "print(f\"{vertices=}\\n{edges=}\")"
   ]
  },
  {
   "cell_type": "code",
   "execution_count": null,
   "metadata": {},
   "outputs": [],
   "source": [
    "\n",
    "print(\"edge percolation\")\n",
    "print(*edge_percolation(edges, len(vertices)), sep=\"\\n\")\n"
   ]
  },
  {
   "cell_type": "code",
   "execution_count": null,
   "metadata": {},
   "outputs": [],
   "source": [
    "\n",
    "print(\"site percolation\")\n",
    "print(*site_percolation(edges, len(vertices)), sep=\"\\n\")\n"
   ]
  },
  {
   "cell_type": "code",
   "execution_count": null,
   "metadata": {},
   "outputs": [],
   "source": [
    "plot_graph(*rectangle8(4, 3))\n"
   ]
  },
  {
   "cell_type": "code",
   "execution_count": null,
   "metadata": {},
   "outputs": [],
   "source": [
    "vertices, edges = triangle(4, 6)\n",
    "print(f\"{vertices=}\\n{edges=}\")"
   ]
  },
  {
   "cell_type": "code",
   "execution_count": null,
   "metadata": {},
   "outputs": [],
   "source": [
    "print(\"edge percolation\")\n",
    "print(*edge_percolation(edges, len(vertices)), sep=\"\\n\")"
   ]
  },
  {
   "cell_type": "code",
   "execution_count": null,
   "metadata": {},
   "outputs": [],
   "source": [
    "print(\"site percolation\")\n",
    "print(*site_percolation(edges, len(vertices)), sep=\"\\n\")\n"
   ]
  },
  {
   "cell_type": "code",
   "execution_count": null,
   "metadata": {},
   "outputs": [],
   "source": [
    "plot_graph(*triangle(4, 6))"
   ]
  },
  {
   "cell_type": "code",
   "execution_count": null,
   "metadata": {},
   "outputs": [],
   "source": [
    "vertices, edges = hexagon(4, 4)\n",
    "print(f\"{vertices=}\\n{edges=}\")"
   ]
  },
  {
   "cell_type": "code",
   "execution_count": null,
   "metadata": {},
   "outputs": [],
   "source": [
    "print(\"edge percolation\")\n",
    "print(*edge_percolation(edges, len(vertices)), sep=\"\\n\")"
   ]
  },
  {
   "cell_type": "code",
   "execution_count": null,
   "metadata": {},
   "outputs": [],
   "source": [
    "print(\"site percolation\")\n",
    "print(*site_percolation(edges, len(vertices)), sep=\"\\n\")"
   ]
  },
  {
   "cell_type": "code",
   "execution_count": null,
   "metadata": {},
   "outputs": [],
   "source": [
    "plot_graph(*hexagon(8, 8))"
   ]
  },
  {
   "cell_type": "markdown",
   "metadata": {},
   "source": [
    "# site percolation"
   ]
  },
  {
   "cell_type": "code",
   "execution_count": null,
   "metadata": {},
   "outputs": [],
   "source": [
    "def experiment(n, percolation_fun):\n",
    "    vertices, edges = rectangle(n, n)\n",
    "    probs = []\n",
    "    sizes = []\n",
    "    for p, size in max_comp_sizes(percolation_fun(edges, len(vertices)), len(vertices)):\n",
    "        probs.append(p)\n",
    "        sizes.append(size)\n",
    "    return probs, sizes\n"
   ]
  },
  {
   "cell_type": "code",
   "execution_count": null,
   "metadata": {},
   "outputs": [],
   "source": [
    "def percolation_max_size(vertices, edges, p_seq, percolation_fun=site_percolation, n_repeat=10):\n",
    "    # p_seq = np.linspace(0, 1, 1001)\n",
    "    comp_size = np.zeros_like(p_seq)\n",
    "    for _ in range(n_repeat):\n",
    "        sizes = [\n",
    "            *discretize(\n",
    "                max_comp_sizes(\n",
    "                    percolation_fun(edges, len(vertices)),\n",
    "                    len(vertices)\n",
    "                ), p_seq)\n",
    "        ]\n",
    "        comp_size += sizes\n",
    "    return comp_size/(len(vertices)*n_repeat)\n"
   ]
  },
  {
   "cell_type": "code",
   "execution_count": null,
   "metadata": {},
   "outputs": [],
   "source": [
    "%%time\n",
    "\n",
    "p_seq = np.linspace(0, 1, 1001)\n",
    "rel_comp_size = percolation_max_size(*rectangle(300, 300), p_seq, n_repeat=10)\n"
   ]
  },
  {
   "cell_type": "code",
   "execution_count": null,
   "metadata": {},
   "outputs": [],
   "source": [
    "plt.plot(p_seq, rel_comp_size)\n",
    "plt.show()"
   ]
  },
  {
   "cell_type": "code",
   "execution_count": null,
   "metadata": {},
   "outputs": [],
   "source": [
    "%%time\n",
    "\n",
    "p_seq = np.linspace(0, 1, 1001)\n",
    "rel_comp_size = percolation_max_size(*rectangle8(300, 300), p_seq, n_repeat=10)\n"
   ]
  },
  {
   "cell_type": "code",
   "execution_count": null,
   "metadata": {},
   "outputs": [],
   "source": [
    "plt.plot(p_seq, rel_comp_size)\n",
    "plt.show()"
   ]
  },
  {
   "cell_type": "code",
   "execution_count": null,
   "metadata": {},
   "outputs": [],
   "source": [
    "%%time\n",
    "\n",
    "p_seq = np.linspace(0, 1, 1001)\n",
    "rel_comp_size = percolation_max_size(*triangle(300, 300), p_seq, n_repeat=10)\n"
   ]
  },
  {
   "cell_type": "code",
   "execution_count": null,
   "metadata": {},
   "outputs": [],
   "source": [
    "plt.plot(p_seq, rel_comp_size)\n",
    "plt.show()"
   ]
  },
  {
   "cell_type": "code",
   "execution_count": null,
   "metadata": {},
   "outputs": [],
   "source": [
    "%%time\n",
    "\n",
    "p_seq = np.linspace(0, 1, 1001)\n",
    "rel_comp_size = percolation_max_size(*hexagon(300, 300), p_seq, n_repeat=10)\n"
   ]
  },
  {
   "cell_type": "code",
   "execution_count": null,
   "metadata": {},
   "outputs": [],
   "source": [
    "plt.plot(p_seq, rel_comp_size)\n",
    "plt.show()"
   ]
  },
  {
   "cell_type": "markdown",
   "metadata": {},
   "source": [
    "# edge percolation"
   ]
  },
  {
   "cell_type": "code",
   "execution_count": null,
   "metadata": {},
   "outputs": [],
   "source": [
    "%%time\n",
    "p_seq = np.linspace(0, 1, 1001)\n",
    "rel_comp_size = percolation_max_size(*rectangle(300, 300), p_seq, percolation_fun=edge_percolation, n_repeat=10)"
   ]
  },
  {
   "cell_type": "code",
   "execution_count": null,
   "metadata": {},
   "outputs": [],
   "source": [
    "plt.plot(p_seq, rel_comp_size)\n",
    "plt.show()"
   ]
  },
  {
   "cell_type": "code",
   "execution_count": null,
   "metadata": {},
   "outputs": [],
   "source": [
    "%%time\n",
    "\n",
    "p_seq = np.linspace(0, 1, 1001)\n",
    "rel_comp_size = percolation_max_size(*rectangle8(300, 300), p_seq, percolation_fun=edge_percolation, n_repeat=10)\n"
   ]
  },
  {
   "cell_type": "code",
   "execution_count": null,
   "metadata": {},
   "outputs": [],
   "source": [
    "plt.plot(p_seq, rel_comp_size)\n",
    "plt.show()"
   ]
  },
  {
   "cell_type": "code",
   "execution_count": null,
   "metadata": {},
   "outputs": [],
   "source": [
    "%%time\n",
    "\n",
    "p_seq = np.linspace(0, 1, 1001)\n",
    "rel_comp_size = percolation_max_size(*triangle(300, 300), p_seq, percolation_fun=edge_percolation, n_repeat=10)\n"
   ]
  },
  {
   "cell_type": "code",
   "execution_count": null,
   "metadata": {},
   "outputs": [],
   "source": [
    "plt.plot(p_seq, rel_comp_size)\n",
    "plt.show()"
   ]
  },
  {
   "cell_type": "code",
   "execution_count": null,
   "metadata": {},
   "outputs": [],
   "source": [
    "%%time\n",
    "\n",
    "p_seq = np.linspace(0, 1, 1001)\n",
    "rel_comp_size = percolation_max_size(*hexagon(300, 300), p_seq, percolation_fun=edge_percolation, n_repeat=10)\n"
   ]
  },
  {
   "cell_type": "code",
   "execution_count": null,
   "metadata": {},
   "outputs": [],
   "source": [
    "plt.plot(p_seq, rel_comp_size)\n",
    "plt.show()"
   ]
  },
  {
   "cell_type": "markdown",
   "metadata": {},
   "source": [
    "# Feladat: Leghosszabb növekvő részsorozat"
   ]
  },
  {
   "cell_type": "markdown",
   "metadata": {},
   "source": [
    "Adott $a_1,a_2,\\dots, a_n$. Keressük meg a leghosszabb növekvő részsorozat **hosszát**!"
   ]
  },
  {
   "cell_type": "code",
   "execution_count": null,
   "metadata": {},
   "outputs": [],
   "source": [
    "def longest_increasing_subsequence(nums):\n",
    "    pass\n",
    "\n",
    "lis = longest_increasing_subsequence\n"
   ]
  },
  {
   "cell_type": "code",
   "execution_count": null,
   "metadata": {},
   "outputs": [],
   "source": [
    "%%ipytest\n",
    "\n",
    "def test_lis():\n",
    "    assert lis([3, 4, -1, 0, 6, 2, 3]) == 4\n",
    "    assert lis([10, 9, 2, 5, 3, 7, 101, 18]) == 4\n",
    "    assert lis([0, 1, 0, 3, 2, 3]) == 4\n",
    "    assert lis([7, 7, 7, 7, 7, 7, 7]) == 1\n",
    "    assert lis([1, 3, 6, 7, 9, 4, 10, 5, 6]) == 6"
   ]
  },
  {
   "cell_type": "markdown",
   "metadata": {},
   "source": [
    "# Sudoku"
   ]
  },
  {
   "cell_type": "markdown",
   "metadata": {},
   "source": [
    "## Sudoku tábla `Matplotlib`-bel"
   ]
  },
  {
   "cell_type": "markdown",
   "metadata": {},
   "source": [
    "A cél sudoku solver megírása. Ma csak megjelenítéssel és feladványok beolvasásával foglakozunk.\n",
    "\n",
    "Ez egy [project Euler](https://projecteuler.net/problem=96) feladat. A teszt adatok is onnan vannak:\n",
    "\n",
    "https://projecteuler.net/project/resources/p096_sudoku.txt"
   ]
  },
  {
   "cell_type": "code",
   "execution_count": null,
   "metadata": {},
   "outputs": [],
   "source": [
    "grid = [[f\"{col}{row}\" for col in \"ABCDEFGHI\"] for row in range(9)]\n",
    "grid"
   ]
  },
  {
   "cell_type": "code",
   "execution_count": null,
   "metadata": {},
   "outputs": [],
   "source": [
    "import uuid\n",
    "\n",
    "class HTMLGrid:\n",
    "    css = \"\"\"\n",
    "        .sudoku-board, .sudoku-board .box, .sudoku-board .box div {\n",
    "            box-sizing: border-box;\n",
    "        }\n",
    "\n",
    "        .sudoku-board, .sudoku-board .box{\n",
    "            display: flex;\n",
    "            flex-wrap: wrap;\n",
    "        }\n",
    "\n",
    "        .sudoku-board .box {\n",
    "           border: solid 1px;\n",
    "           width: 152px;\n",
    "        }\n",
    "\n",
    "        .sudoku-board .box > div {\n",
    "            border: solid 1px;\n",
    "            width: 50px;\n",
    "            text-align: center;\n",
    "        }\n",
    "\n",
    "        .sudoku-board .box > div:before {\n",
    "            display: inline-block;\n",
    "            padding-top: 100%;\n",
    "            content: '';\n",
    "            vertical-align: middle;\n",
    "        }\n",
    "\n",
    "        .sudoku-board .box .clue {\n",
    "            background-color: LightGray;\n",
    "            font-weight: bold;\n",
    "        }\n",
    "\n",
    "        .sudoku-board {\n",
    "            width: 460px;\n",
    "            margin: 0px;\n",
    "            font-size: calc(0.8vw + 10px);\n",
    "            border: solid 2px;\n",
    "        }\n",
    "\n",
    "        .sudoku-board .box div {\n",
    "            color: gray;\n",
    "            text-shadow: 1px 1px 1px white;\n",
    "            vertical-align: middle;\n",
    "        }\n",
    "    \"\"\"\n",
    "\n",
    "    def __init__(self, transform=None):\n",
    "        self.transform = self._transform if transform is None else transform\n",
    "\n",
    "    @staticmethod\n",
    "    def _transform(val):\n",
    "        if isinstance(val, str):\n",
    "            return \"\", val\n",
    "        if val < 0:\n",
    "            return 'class=\"solved\"', -val\n",
    "        elif val == 0:\n",
    "            return \"\", \"\"\n",
    "        else:\n",
    "            return 'class=\"clue\"', val\n",
    "\n",
    "    def box(self, content):\n",
    "        inner = \"\".join(f\"<div {div_class}>{val}</div>\" for div_class, val in content)\n",
    "        return f'<div class=\"box\">{inner}</div>\\n'\n",
    "\n",
    "    def board(self, boxes):\n",
    "        inner = \"\".join(self.box(box) for box in boxes)\n",
    "        return f'<div class=\"sudoku-board\">\\n{inner}</div>\\n'\n",
    "\n",
    "    def __call__(self, grid, title=\"\"):\n",
    "        boxes = [[0]*9 for _ in range(9)]\n",
    "        for i, line in enumerate(grid):\n",
    "          a, ra = divmod(i, 3)\n",
    "          for j, val in enumerate(line):\n",
    "            b, rb = divmod(j, 3)\n",
    "            boxes[a*3+b][ra*3+rb] = self.transform(val)\n",
    "        header = f\"<h3>{title}</h3>\" if title else \"\"\n",
    "        html = f\"<html>\\n<head>\\n<style>\\n{self.css}\\n</style>\\n</head>\\n<body>\\n{header}\\n{self.board(boxes)}</body></html>\"\n",
    "        html = html.replace('sudoku-board', f'sudoku-board-{uuid.uuid1()!s}')\n",
    "        return html\n"
   ]
  },
  {
   "cell_type": "markdown",
   "metadata": {},
   "source": [
    "Ellenőrzés EXCEL oszlop-sor jelöléssel"
   ]
  },
  {
   "cell_type": "code",
   "execution_count": null,
   "metadata": {},
   "outputs": [],
   "source": [
    "from IPython.display import display_html"
   ]
  },
  {
   "cell_type": "code",
   "execution_count": null,
   "metadata": {},
   "outputs": [],
   "source": [
    "html_grid = HTMLGrid()\n",
    "grid = [[f'{j}{i}' for j in \"ABCDEFGHI\"] for i in range(9)]\n",
    "html = html_grid(grid, \"Grid\")\n",
    "print(html)\n"
   ]
  },
  {
   "cell_type": "code",
   "execution_count": null,
   "metadata": {},
   "outputs": [],
   "source": [
    "\n",
    "display_html(html, raw=True)\n"
   ]
  },
  {
   "cell_type": "code",
   "execution_count": null,
   "metadata": {},
   "outputs": [],
   "source": [
    "\n",
    "grid=[\n",
    "    [0, 2, 0, 0, 0, 0, 0, 0, 0],\n",
    "    [0, 0, 0, 6, 0, 0, 0, 0, 3],\n",
    "    [0, 7, 4, 0, 8, 0, 0, 0, 0],\n",
    "    [0, 0, 0, 0, 0, 3, 0, 0, 2],\n",
    "    [0, 8, 0, 0, 4, 0, 0, 1, 0],\n",
    "    [6, 0, 0, 5, 0, 0, 0, 0, 0],\n",
    "    [0, 0, 0, 0, 1, 0, 7, 8, 0],\n",
    "    [5, 0, 0, 0, 0, 9, 0, 0, 0],\n",
    "    [0, 0, 0, 0, 0, 0, 0, 4, 0]\n",
    "    ]\n",
    "\n",
    "html = html_grid(grid, \"Hard problem\")\n",
    "# print(html)\n",
    "display_html(html, raw=True)\n"
   ]
  },
  {
   "cell_type": "code",
   "execution_count": null,
   "metadata": {},
   "outputs": [],
   "source": [
    "\n",
    "from IPython.core.pylabtools import print_figure\n",
    "import matplotlib.pyplot as plt\n",
    "from IPython.display import Image, SVG"
   ]
  },
  {
   "cell_type": "code",
   "execution_count": null,
   "metadata": {},
   "outputs": [],
   "source": [
    "\n",
    "\n",
    "def figure_data(grid, title=\"\", format=\"svg\"):\n",
    "    size = len(grid)\n",
    "    fig = plt.figure(\n",
    "        figsize=(4, 4),\n",
    "        layout=\"compressed\",\n",
    "        )\n",
    "\n",
    "    ax = fig.add_subplot(\n",
    "        1, 1, 1,\n",
    "        aspect=\"equal\",\n",
    "        xmargin=0.01,\n",
    "        ymargin=0.01\n",
    "    )\n",
    "\n",
    "    ax.axis(\"off\")\n",
    "    ax.set_title(title, loc=\"left\", fontdict={\"weight\": \"bold\"})\n",
    "\n",
    "    for x, row in enumerate(reversed(grid)):\n",
    "        for y, value in enumerate(row):\n",
    "            ax.text(\n",
    "                y+0.5, x+0.5,\n",
    "                value,\n",
    "                ha='center',\n",
    "                va='center',\n",
    "                fontsize=12,\n",
    "                color=\"gray\"\n",
    "            )\n",
    "\n",
    "    for x in range(size+1):\n",
    "        linewidth = 1\n",
    "        if x % 3 == 0:\n",
    "            linewidth = 2\n",
    "        ax.plot((0, size), (x, x), color=\"black\", linewidth=linewidth)\n",
    "        ax.plot((x, x), (0, size), color=\"black\", linewidth=linewidth)\n",
    "\n",
    "    data = print_figure(fig, format)\n",
    "    plt.close(fig)\n",
    "    return data\n"
   ]
  },
  {
   "cell_type": "code",
   "execution_count": null,
   "metadata": {},
   "outputs": [],
   "source": [
    "display(Image(figure_data(grid, \"Sudoku grid\", \"png\")))\n",
    "SVG(figure_data(grid, \"Sudoku grid\", \"svg\"))"
   ]
  },
  {
   "cell_type": "code",
   "execution_count": null,
   "metadata": {},
   "outputs": [],
   "source": [
    "def char_value(x):\n",
    "    return int(x) if x.isdigit() else 0\n",
    "\n",
    "class Sudoku:\n",
    "    html_grid = HTMLGrid()\n",
    "\n",
    "    def __init__(self, grid, name=None):\n",
    "        self.grid = grid\n",
    "        self.name = name if name is not None else \"Unnamed Sudoku\"\n",
    "        self._svg_data = None\n",
    "\n",
    "    @classmethod\n",
    "    def from_str(cls, grid, name):\n",
    "        grid = [[char_value(x) for x in line.strip()] for line in grid]\n",
    "        return cls(grid, name)\n",
    "\n",
    "    def enumerate(self):\n",
    "        grid = self.grid\n",
    "        for row, line in enumerate(grid, 1):\n",
    "            for col, value in enumerate(line, 1):\n",
    "                if value != 0:\n",
    "                    yield row, col, value\n",
    "\n",
    "    def copy(self):\n",
    "        grid = [line.copy() for line in self.grid]\n",
    "        return type(self)(grid, self.name)\n",
    "\n",
    "    def as_symbols(self, symbols=\" 𝟭𝟮𝟯𝟰𝟱𝟲𝟳𝟴𝟵\", neg_symbols=\" 123456789\"):\n",
    "        return [\n",
    "            [symbols[abs(x)] if x>=0 else neg_symbols[abs(x)]  for x in line]\n",
    "            for line in self.grid\n",
    "            ]\n",
    "\n",
    "    def txt(self):\n",
    "        return '\\n'.join(map(' '.join, self.as_symbols(\"_𝟭𝟮𝟯𝟰𝟱𝟲𝟳𝟴𝟵\", \"_123456789\")))\n",
    "\n",
    "    def __str__(self):\n",
    "        return f'{self.name}:\\n{self.txt()}'\n",
    "\n",
    "    def _repr_html_(self):\n",
    "        return self.html_grid(self.grid, self.name)\n",
    "\n",
    "    def _repr_svg_(self):\n",
    "        return self.svg\n",
    "\n",
    "    @property\n",
    "    def svg(self):\n",
    "        if self._svg_data is None:\n",
    "            fig = self.draw()\n",
    "            self._svg_data = print_figure(fig, fmt=\"svg\")\n",
    "        return self._svg_data\n",
    "\n",
    "    def draw(self, **kwargs):\n",
    "        grid = self.grid\n",
    "        size = len(grid)\n",
    "        ax = plt.subplot(1, 1, 1, aspect=\"equal\")\n",
    "        ax.axis(\"off\")\n",
    "        ax.set_title(self.name, loc=\"left\", fontdict={\"weight\": \"bold\"})\n",
    "\n",
    "        text_args = {\n",
    "            'fontsize': \"12\",\n",
    "            'color': \"gray\",\n",
    "            'ha': 'center',\n",
    "            'va': 'center'\n",
    "            }\n",
    "        text_args.update(kwargs)\n",
    "        for row, col, value in self.enumerate():\n",
    "            row = size-row+1\n",
    "            if value > 0:\n",
    "                ax.fill([col-1, col, col, col-1], [row-1, row-1, row, row], color=\"lightgray\", alpha=0.5)\n",
    "\n",
    "            ax.text(\n",
    "                col-0.5, row-0.5,\n",
    "                abs(value),\n",
    "                **text_args,\n",
    "                fontweight= \"bold\" if value > 0 else 'normal'\n",
    "            )\n",
    "\n",
    "        for x in range(size+1):\n",
    "            linewidth = 1\n",
    "            if x % 3 == 0:\n",
    "                linewidth = 2\n",
    "            ax.plot((0, size), (x, x), color=\"black\", linewidth=linewidth)\n",
    "            ax.plot((x, x), (0, size), color=\"black\", linewidth=linewidth)\n",
    "\n",
    "        plt.close(ax.figure)\n",
    "\n",
    "        return ax.figure\n"
   ]
  },
  {
   "cell_type": "markdown",
   "metadata": {},
   "source": [
    "### Egy nehéz sudoku"
   ]
  },
  {
   "cell_type": "code",
   "execution_count": null,
   "metadata": {},
   "outputs": [],
   "source": [
    "grid=[\n",
    "    [0, 2, 0, 0, 0, 0, 0, 0, 0],\n",
    "    [0, 0, 0, 6, 0, 0, 0, 0, 3],\n",
    "    [0, 7, 4, 0, 8, 0, 0, 0, 0],\n",
    "    [0, 0, 0, 0, 0, 3, 0, 0, 2],\n",
    "    [0, 8, 0, 0, 4, 0, 0, 1, 0],\n",
    "    [6, 0, 0, 5, 0, 0, 0, 0, 0],\n",
    "    [0, 0, 0, 0, 1, 0, 7, 8, 0],\n",
    "    [5, 0, 0, 0, 0, 9, 0, 0, 0],\n",
    "    [0, 0, 0, 0, 0, 0, 0, 4, 0]\n",
    "    ]\n",
    "sudoku = Sudoku(grid, \"A hard problem\")\n",
    "\n",
    "sudoku.draw()"
   ]
  },
  {
   "cell_type": "code",
   "execution_count": null,
   "metadata": {},
   "outputs": [],
   "source": [
    "print(sudoku)\n",
    "display(sudoku)\n",
    "display(SVG(sudoku.svg))\n"
   ]
  },
  {
   "cell_type": "code",
   "execution_count": null,
   "metadata": {},
   "outputs": [],
   "source": [
    "list(sudoku.enumerate())"
   ]
  },
  {
   "cell_type": "markdown",
   "metadata": {},
   "source": [
    "## Hogyan fogalmazható meg a feladat a matek eszközeivel?"
   ]
  },
  {
   "cell_type": "markdown",
   "metadata": {},
   "source": [
    "Adottak követelmények (`Item`) és opciók (`Option`). A feladat az opciók egy részének kiválasztása úgy, hogy az összes követelmény teljesüljön.\n",
    "\n",
    "Egy lehetséges formalizálás, $x_1,\\dots, x_m$ logikai változók, egy\n",
    "$c=c(x_1,\\dots,x_n)$ logikai kifejezés.\n",
    "\n",
    "A kérdés ezután az, hogy az $x_i$ értékek (Igaz/Hamis) milyen választása mellett lesz a $c$ logikai kifejezés értéke igaz.\n",
    "\n",
    "Minden logikai kifejezés felírható $\\wedge$ (és) $\\vee$ (vagy) és $\\neg$ (tagadás) segítségével.\n",
    "\n",
    "pl.\n",
    "$$\n",
    "    x_1\\Rightarrow x_2,\\quad \\neg x_1\\vee x_2\n",
    "$$\n",
    "\n",
    "A logikai kifejezés $c$ megadható olyan alakban is, ahol\n",
    "$$\n",
    "    c(x_1,\\dots, x_m) = \\large\\wedge_i c_i(x_1,\\dots,x_m)\\quad\n",
    "    c_i(x_1,\\dots,x_m) = (\\vee_{j\\in S_i} x_j) \\vee (\\vee_{j\\in S'_i} \\neg x_j),\\quad S,S'\\subset\\{1,\\dots, m\\}\n",
    "$$\n",
    "\n",
    "$c_i$ megadható $S$ és $S'$ segítségével. Ha $S_i\\cap S'_i\\neq \\emptyset$ akkor $c_i$ mindig igaz, ezért $c$-ből elhagyható. Ha a váltózók indexelése 1-től indul, akkor egy kényelmes kódolása $c_i$-nek\n",
    "az indexek előjeles listája:\n",
    "$$\n",
    "    \\{j:j \\in S_i\\}\\cup\\{-j:j\\in S'_i\\}\n",
    "$$\n"
   ]
  },
  {
   "cell_type": "markdown",
   "metadata": {},
   "source": [
    "## Sudoku tábla"
   ]
  },
  {
   "cell_type": "code",
   "execution_count": null,
   "metadata": {},
   "outputs": [],
   "source": [
    "class Option(int):\n",
    "    max_value = 9*9*9\n",
    "\n",
    "    def __init__(self, val):\n",
    "        if not (1 <= abs(val) <= self.max_value):\n",
    "            raise ValueError(f\"Absolute value must be in [1, {self.max_value}]. Obtained {val}\")\n",
    "\n",
    "    def apply(self, grid):\n",
    "        row, col, val = self.to_triple()\n",
    "        row, col = row-1, col-1\n",
    "        if grid[row][col] != 0 and abs(grid[row][col]) != val:\n",
    "            raise ValueError(\"Grid cell at {row+1}, {col+1} is not empty!\")\n",
    "        if grid[row][col] == 0:\n",
    "            grid[row][col] = val\n",
    "\n",
    "    @classmethod\n",
    "    def from_triple(cls, row, col, val):\n",
    "        if not (1<= row <= 9 and 1<= col <= 9 and 1<= val <= 9):\n",
    "            raise ValueError(\n",
    "                \"Invalid triple. \"\n",
    "                \"All numbers must be in [1, 9]. \"\n",
    "                f\"Obtained {row=}, {col=}, {val=}\"\n",
    "                )\n",
    "        return cls((row-1)*81+(col-1)*9+val-1 + 1)\n",
    "\n",
    "    @classmethod\n",
    "    def instances(cls):\n",
    "        for i in range(1, cls.max_value+1):\n",
    "            yield cls(i)\n",
    "\n",
    "    def to_triple(self):\n",
    "        n = abs(self)-1\n",
    "        n, val = divmod(n, 9)\n",
    "        row, col = divmod(n, 9)\n",
    "        row, col, val = row+1, col+1, val+1\n",
    "        return row, col, val\n",
    "\n",
    "    def __neg__(self):\n",
    "        return Option(-int(self))\n",
    "\n",
    "    def __str__(self):\n",
    "        row, col, val = self.to_triple()\n",
    "        prefix = 'not ' if self < 0 else ''\n",
    "        return f\"{prefix}{val}@({row}, {col})\"\n",
    "\n",
    "    def __repr__(self):\n",
    "        return f\"{type(self).__name__}({self!s}, code={self:d})\"\n",
    "\n",
    "    def items(self):\n",
    "        row, col, val = self.to_triple()\n",
    "        yield Item.not_empty(row, col)\n",
    "        yield Item.row_contains(row, val)\n",
    "        yield Item.col_contains(col, val)\n",
    "        yield Item.square_contains(row, col, val)\n",
    "\n",
    "\n",
    "class Clause(list):\n",
    "    def __str__(self):\n",
    "        return ' or '. join(map(str, self))"
   ]
  },
  {
   "cell_type": "code",
   "execution_count": null,
   "metadata": {},
   "outputs": [],
   "source": [
    "%%ipytest\n",
    "from pytest import raises\n",
    "\n",
    "def test_option():\n",
    "    for i in range(1, 10):\n",
    "        for j in range(1, 10):\n",
    "            for val in range(1,10):\n",
    "                option = Option.from_triple(i, j, val)\n",
    "                assert str(option) == f\"{val}@({i}, {j})\"\n",
    "                assert option.to_triple() == (i, j, val)\n",
    "\n",
    "def test_option_invalid():\n",
    "    with raises(ValueError):\n",
    "        option = Option.from_triple(10,9,9)\n",
    "\n",
    "    with raises(ValueError):\n",
    "        option = Option.from_triple(0,9,9)\n",
    "\n",
    "    with raises(ValueError):\n",
    "        option = Option.from_triple(1,10,9)\n",
    "\n",
    "    with raises(ValueError):\n",
    "        option = Option.from_triple(1,0,9)\n",
    "\n",
    "    with raises(ValueError):\n",
    "        option = Option.from_triple(1,9,19)\n",
    "\n",
    "    with raises(ValueError):\n",
    "        option = Option.from_triple(1,9,0)\n",
    "\n",
    "def test_option_all():\n",
    "    for i, o in enumerate(Option.instances(), 1):\n",
    "        assert o == i\n",
    "    assert i == Option.max_value\n",
    "\n"
   ]
  },
  {
   "cell_type": "code",
   "execution_count": null,
   "metadata": {},
   "outputs": [],
   "source": [
    "-Option.from_triple(1,1,9)"
   ]
  },
  {
   "cell_type": "code",
   "execution_count": null,
   "metadata": {},
   "outputs": [],
   "source": [
    "def subsquare(i, j):\n",
    "    x, y = 3*i+1, 3*j+1\n",
    "    for row in range(x, x+3):\n",
    "        for col in range(y, y+3):\n",
    "            yield row, col\n",
    "\n",
    "class Item(int):\n",
    "    max_value = 4*9*9-1\n",
    "\n",
    "\n",
    "    def __init__(self, value):\n",
    "        if not (0 <= value <= self.max_value):\n",
    "            raise ValueError(f\"Value must be in [0, max_value]. Obtained {value}\")\n",
    "\n",
    "    @classmethod\n",
    "    def from_triple(cls, item_type, a, b):\n",
    "        if not (0 <= item_type < 4 and 0 <= a < 9 and 0 <= b < 9):\n",
    "            raise ValueError(f\"Invalid parameters: {item_type=}, {a=}, {b=}\")\n",
    "        return cls(item_type*81+a*9+b)\n",
    "\n",
    "    @classmethod\n",
    "    def not_empty(cls, row, col):\n",
    "        return cls.from_triple(0, row-1, col-1)\n",
    "\n",
    "    @classmethod\n",
    "    def row_contains(cls, row, val):\n",
    "        return cls.from_triple(1, row-1, val-1)\n",
    "\n",
    "    @classmethod\n",
    "    def col_contains(cls, col, val):\n",
    "        return cls.from_triple(2, col-1, val-1)\n",
    "\n",
    "    @classmethod\n",
    "    def square_contains(cls, row, col, val):\n",
    "        sq = 3*((row-1)//3) + ((col-1)//3)\n",
    "        return cls.from_triple(3, sq, val-1)\n",
    "\n",
    "    @classmethod\n",
    "    def instances(cls):\n",
    "        for i in range(cls.max_value+1):\n",
    "            yield cls(i)\n",
    "\n",
    "    def __str__(self):\n",
    "        n = self\n",
    "        item_type, n = divmod(n, 81)\n",
    "        i, j = divmod(n, 9)\n",
    "        match item_type:\n",
    "            case 0:\n",
    "                return f\"cell{(i+1, j+1)} ¬∅\"\n",
    "            case 1:\n",
    "                return f\"∃{j+1} in row[{i+1}]\"\n",
    "            case 2:\n",
    "                return f\"∃{j+1} in col[{i+1}]\"\n",
    "            case 3:\n",
    "                val = j+1\n",
    "                i, j = divmod(i, 3)\n",
    "                return f\"∃{val} in square{(i+1, j+1)}\"\n",
    "\n",
    "    def __repr__(self):\n",
    "        return f\"{type(self).__name__}({self!s}, code={self:d})\"\n",
    "\n",
    "    def options(self):\n",
    "        n = self\n",
    "        item_type, n = divmod(n, 81)\n",
    "        i, j = divmod(n, 9)\n",
    "        match item_type:\n",
    "            case 0:\n",
    "                row, col = i+1, j+1\n",
    "                for val in range(1, 10):\n",
    "                    yield Option.from_triple(row, col, val)\n",
    "            case 1:\n",
    "                row = i+1\n",
    "                val = j+1\n",
    "                for col in range(1, 10):\n",
    "                    yield Option.from_triple(row, col, val)\n",
    "            case 2:\n",
    "                val = j+1\n",
    "                col = i+1\n",
    "                for row in range(1, 10):\n",
    "                    yield Option.from_triple(row, col, val)\n",
    "            case 3:\n",
    "                val = j+1\n",
    "                i, j = divmod(i, 3)\n",
    "                for row,col in subsquare(i, j):\n",
    "                    yield Option.from_triple(row, col, val)\n",
    "\n",
    "    def cnf(self):\n",
    "        return Clause(self.options())\n"
   ]
  },
  {
   "cell_type": "code",
   "execution_count": null,
   "metadata": {},
   "outputs": [],
   "source": [
    "\n",
    "item = Item(81*3+45)\n",
    "print(f\"{item=}\")\n",
    "print(item.cnf())\n",
    "pprint(set(item.options()))\n",
    "print(f\"{len(list(Item.instances()))=}\")"
   ]
  },
  {
   "cell_type": "code",
   "execution_count": null,
   "metadata": {},
   "outputs": [],
   "source": [
    "print(Clause([Option(1), Option(2), -Option(3)]))"
   ]
  },
  {
   "cell_type": "code",
   "execution_count": null,
   "metadata": {},
   "outputs": [],
   "source": [
    "option = Option(100)\n",
    "print(f\"{option=}\")\n",
    "pprint(list(option.items()))"
   ]
  },
  {
   "cell_type": "markdown",
   "metadata": {},
   "source": [
    "## Sudoku solver a `picosat` könyvtárral."
   ]
  },
  {
   "cell_type": "markdown",
   "metadata": {},
   "source": [
    "A következő kód a `picosat` solver `github` repositorijáról van:\n",
    "\n",
    "https://pypi.org/project/pycosat/\n",
    "\n",
    "https://github.com/conda/pycosat/blob/main/examples/sudoku.py\n",
    "\n",
    "```python\n",
    "\"\"\"\n",
    "The implementation of this Sudoku solver is based on the paper:\n",
    "\n",
    "    \"A SAT-based Sudoku solver\" by Tjark Weber\n",
    "\n",
    "    https://www.lri.fr/~conchon/mpri/weber.pdf\n",
    "\n",
    "If you want to understand the code below, in particular the function valid(),\n",
    "which calculates the 324 clauses corresponding to 9 cells, you are strongly\n",
    "encouraged to read the paper first.  The paper is very short, but contains\n",
    "all necessary information.\n",
    "\"\"\"\n",
    "import pycosat\n",
    "\n",
    "\n",
    "def v(i, j, d):\n",
    "    \"\"\"\n",
    "    Return the number of the variable of cell i, j and digit d,\n",
    "    which is an integer in the range of 1 to 729 (including).\n",
    "    \"\"\"\n",
    "    return 81 * (i - 1) + 9 * (j - 1) + d\n",
    "\n",
    "\n",
    "def sudoku_clauses():\n",
    "    \"\"\"\n",
    "    Create the (11745) Sudoku clauses, and return them as a list.\n",
    "    Note that these clauses are *independent* of the particular\n",
    "    Sudoku puzzle at hand.\n",
    "    \"\"\"\n",
    "    res = []\n",
    "    # for all cells, ensure that the each cell:\n",
    "    for i in range(1, 10):\n",
    "        for j in range(1, 10):\n",
    "            # denotes (at least) one of the 9 digits (1 clause)\n",
    "            res.append([v(i, j, d) for d in range(1, 10)])\n",
    "            # does not denote two different digits at once (36 clauses)\n",
    "            for d in range(1, 10):\n",
    "                for dp in range(d + 1, 10):\n",
    "                    res.append([-v(i, j, d), -v(i, j, dp)])\n",
    "\n",
    "    def valid(cells):\n",
    "        # Append 324 clauses, corresponding to 9 cells, to the result.\n",
    "        # The 9 cells are represented by a list tuples.  The new clauses\n",
    "        # ensure that the cells contain distinct values.\n",
    "        for i, xi in enumerate(cells):\n",
    "            for j, xj in enumerate(cells):\n",
    "                if i < j:\n",
    "                    for d in range(1, 10):\n",
    "                        res.append([-v(xi[0], xi[1], d), -v(xj[0], xj[1], d)])\n",
    "\n",
    "    # ensure rows and columns have distinct values\n",
    "    for i in range(1, 10):\n",
    "        valid([(i, j) for j in range(1, 10)])\n",
    "        valid([(j, i) for j in range(1, 10)])\n",
    "    # ensure 3x3 sub-grids \"regions\" have distinct values\n",
    "    for i in 1, 4, 7:\n",
    "        for j in 1, 4 ,7:\n",
    "            valid([(i + k % 3, j + k // 3) for k in range(9)])\n",
    "\n",
    "    assert len(res) == 81 * (1 + 36) + 27 * 324\n",
    "    return res\n",
    "\n",
    "\n",
    "def solve(grid):\n",
    "    \"\"\"\n",
    "    solve a Sudoku grid inplace\n",
    "    \"\"\"\n",
    "    clauses = sudoku_clauses()\n",
    "    for i in range(1, 10):\n",
    "        for j in range(1, 10):\n",
    "            d = grid[i - 1][j - 1]\n",
    "            # For each digit already known, a clause (with one literal).\n",
    "            # Note:\n",
    "            #     We could also remove all variables for the known cells\n",
    "            #     altogether (which would be more efficient).  However, for\n",
    "            #     the sake of simplicity, we decided not to do that.\n",
    "            if d:\n",
    "                clauses.append([v(i, j, d)])\n",
    "\n",
    "    # solve the SAT problem\n",
    "    sol = set(pycosat.solve(clauses))\n",
    "\n",
    "    def read_cell(i, j):\n",
    "        # return the digit of cell i, j according to the solution\n",
    "        for d in range(1, 10):\n",
    "            if v(i, j, d) in sol:\n",
    "                return d\n",
    "\n",
    "    for i in range(1, 10):\n",
    "        for j in range(1, 10):\n",
    "            grid[i - 1][j - 1] = read_cell(i, j)\n",
    "\n",
    "\n",
    "if __name__ == '__main__':\n",
    "    from pprint import pprint\n",
    "\n",
    "    # hard Sudoku problem, see Fig. 3 in paper by Weber\n",
    "    hard = [[0, 2, 0, 0, 0, 0, 0, 0, 0],\n",
    "            [0, 0, 0, 6, 0, 0, 0, 0, 3],\n",
    "            [0, 7, 4, 0, 8, 0, 0, 0, 0],\n",
    "            [0, 0, 0, 0, 0, 3, 0, 0, 2],\n",
    "            [0, 8, 0, 0, 4, 0, 0, 1, 0],\n",
    "            [6, 0, 0, 5, 0, 0, 0, 0, 0],\n",
    "            [0, 0, 0, 0, 1, 0, 7, 8, 0],\n",
    "            [5, 0, 0, 0, 0, 9, 0, 0, 0],\n",
    "            [0, 0, 0, 0, 0, 0, 0, 4, 0]]\n",
    "    solve(hard)\n",
    "    pprint(hard)\n",
    "    assert [[1, 2, 6, 4, 3, 7, 9, 5, 8],\n",
    "            [8, 9, 5, 6, 2, 1, 4, 7, 3],\n",
    "            [3, 7, 4, 9, 8, 5, 1, 2, 6],\n",
    "            [4, 5, 7, 1, 9, 3, 8, 6, 2],\n",
    "            [9, 8, 3, 2, 4, 6, 5, 1, 7],\n",
    "            [6, 1, 2, 5, 7, 8, 3, 9, 4],\n",
    "            [2, 6, 9, 3, 1, 4, 7, 8, 5],\n",
    "            [5, 4, 8, 7, 6, 9, 2, 3, 1],\n",
    "            [7, 3, 1, 8, 5, 2, 6, 4, 9]] == hard\n",
    "\n",
    "```"
   ]
  },
  {
   "cell_type": "code",
   "execution_count": null,
   "metadata": {},
   "outputs": [],
   "source": [
    "import pycosat\n",
    "from itertools import product, combinations\n"
   ]
  },
  {
   "cell_type": "code",
   "execution_count": null,
   "metadata": {},
   "outputs": [],
   "source": [
    "def sudoku_clauses_naive():\n",
    "    one_value_per_cell = [\n",
    "        Clause((-Option.from_triple(row, col, val0), -Option.from_triple(row, col, val1)))\n",
    "        for row, col, (val0, val1) in product(\n",
    "            range(1, 10),\n",
    "            range(1, 10),\n",
    "            combinations(range(1, 10), 2)\n",
    "        )\n",
    "    ]\n",
    "\n",
    "    return (\n",
    "        [Item(i).cnf() for i in range(4*81)] +\n",
    "        one_value_per_cell\n",
    "    )"
   ]
  },
  {
   "cell_type": "code",
   "execution_count": null,
   "metadata": {},
   "outputs": [],
   "source": [
    "\n",
    "def sudoku_clauses():\n",
    "    one_value_per_cell = [\n",
    "        Clause((-Option.from_triple(row, col, val0), -Option.from_triple(row, col, val1)))\n",
    "        for row, col, (val0, val1) in product(\n",
    "            range(1, 10),\n",
    "            range(1, 10),\n",
    "            combinations(range(1, 10), 2)\n",
    "        )\n",
    "    ]\n",
    "\n",
    "    one_location_per_row = [\n",
    "        Clause((-Option.from_triple(row, col0, val), -Option.from_triple(row, col1, val)))\n",
    "        for row, (col0, col1), val in product(\n",
    "            range(1, 10),\n",
    "            combinations(range(1, 10), 2),\n",
    "            range(1, 10),\n",
    "        )\n",
    "    ]\n",
    "\n",
    "    one_location_per_col = [\n",
    "        Clause((-Option.from_triple(row0, col, val), -Option.from_triple(row1, col, val)))\n",
    "        for (row0, row1), col, val in product(\n",
    "            combinations(range(1, 10), 2),\n",
    "            range(1, 10),\n",
    "            range(1, 10)\n",
    "        )\n",
    "    ]\n",
    "\n",
    "    one_location_per_square = [\n",
    "        Clause((-Option.from_triple(row0, col0, val), -Option.from_triple(row1, col1, val)))\n",
    "        for i in range(9)\n",
    "        for ((row0, col0), (row1, col1)), val in product(\n",
    "            combinations(subsquare(i//3, i%3), 2),\n",
    "            range(1, 10)\n",
    "        )\n",
    "    ]\n",
    "\n",
    "    return (\n",
    "        [Item(i).cnf() for i in range(4*81)] +\n",
    "        one_value_per_cell +\n",
    "        one_location_per_row +\n",
    "        one_location_per_col +\n",
    "        one_location_per_square\n",
    "    )"
   ]
  },
  {
   "cell_type": "code",
   "execution_count": null,
   "metadata": {},
   "outputs": [],
   "source": [
    "clauses = sudoku_clauses_naive()\n",
    "print(f\"naive: {len(clauses)=}\\n{clauses[0]=!s}\\n{clauses[-5]=!s}\")\n",
    "clauses = sudoku_clauses()\n",
    "print(f\"improved: {len(clauses)=}\\n{clauses[0]=!s}\\n{clauses[-5]=!s}\")\n"
   ]
  },
  {
   "cell_type": "code",
   "execution_count": null,
   "metadata": {},
   "outputs": [],
   "source": [
    "def naive_solver(sudoku, **kwargs):\n",
    "    \"\"\"\n",
    "    solve a Sudoku grid inplace\n",
    "    \"\"\"\n",
    "    clauses = sudoku_clauses_naive()\n",
    "\n",
    "    clauses.extend(\n",
    "        Clause([Option.from_triple(row, col, val)])\n",
    "        for row, col, val in sudoku.enumerate()\n",
    "    )\n",
    "\n",
    "    sudoku_solved = sudoku.copy()\n",
    "    grid = sudoku_solved.grid\n",
    "    for option in pycosat.solve(clauses, **kwargs):\n",
    "        if option > 0:\n",
    "            Option(option).apply(grid)\n",
    "    sudoku_solved.name += \" solved\"\n",
    "    return sudoku_solved"
   ]
  },
  {
   "cell_type": "code",
   "execution_count": null,
   "metadata": {},
   "outputs": [],
   "source": [
    "def modified_solver(sudoku, **kwargs):\n",
    "    \"\"\"\n",
    "    solve a Sudoku grid inplace\n",
    "    \"\"\"\n",
    "    clauses = sudoku_clauses()\n",
    "\n",
    "    clauses.extend(\n",
    "        Clause([Option.from_triple(row, col, val)])\n",
    "        for row, col, val in sudoku.enumerate()\n",
    "    )\n",
    "\n",
    "    sudoku_solved = sudoku.copy()\n",
    "    grid = sudoku_solved.grid\n",
    "    for option in pycosat.solve(clauses, **kwargs):\n",
    "        if option > 0:\n",
    "            Option(option).apply(grid)\n",
    "    sudoku_solved.name += \" solved\"\n",
    "    return sudoku_solved\n"
   ]
  },
  {
   "cell_type": "code",
   "execution_count": null,
   "metadata": {},
   "outputs": [],
   "source": [
    "class PycosatSolver:\n",
    "    naive_clauses = sudoku_clauses_naive()\n",
    "    clauses = sudoku_clauses()\n",
    "    def solve(self, sudoku, which=\"modified\", **kwargs):\n",
    "        clauses = self.clauses if which == \"modified\" else self.naive_clauses\n",
    "        clauses = clauses.copy()\n",
    "        clauses.extend(\n",
    "            Clause([Option.from_triple(row, col, val)])\n",
    "            for row, col, val in sudoku.enumerate()\n",
    "        )\n",
    "        sudoku_solved = sudoku.copy()\n",
    "        grid = sudoku_solved.grid\n",
    "        for option in pycosat.solve(clauses, **kwargs):\n",
    "            if option > 0:\n",
    "                Option(option).apply(grid)\n",
    "        sudoku_solved.name += \" solved\"\n",
    "        return sudoku_solved\n",
    "\n"
   ]
  },
  {
   "cell_type": "code",
   "execution_count": null,
   "metadata": {},
   "outputs": [],
   "source": [
    "%timeit sudoku_solved = naive_solver(sudoku)"
   ]
  },
  {
   "cell_type": "code",
   "execution_count": null,
   "metadata": {},
   "outputs": [],
   "source": [
    "%timeit sudoku_solved = modified_solver(sudoku)"
   ]
  },
  {
   "cell_type": "code",
   "execution_count": null,
   "metadata": {},
   "outputs": [],
   "source": [
    "sudoku_solved = modified_solver(sudoku)\n",
    "print(sudoku_solved)"
   ]
  },
  {
   "cell_type": "code",
   "execution_count": null,
   "metadata": {},
   "outputs": [],
   "source": [
    "display(SVG(sudoku_solved.svg))"
   ]
  },
  {
   "cell_type": "code",
   "execution_count": null,
   "metadata": {},
   "outputs": [],
   "source": [
    "sudoku_solved.draw()"
   ]
  },
  {
   "cell_type": "markdown",
   "metadata": {},
   "source": [
    "## Egész értékű programozás"
   ]
  },
  {
   "cell_type": "markdown",
   "metadata": {},
   "source": [
    "A sudoku feladat úgy is megfogalmazható, hogy adott egy mátrix $A$. $A_{i,j}=1$ ha az $j$. opció kielégíti a $i$. követelményt. A korábbi $x_1,\\dots,x_m$ logikai változókat egy $x$ vektorba összefogva ($\\text{Hamis}=0$ és $\\text{Igaz}=1$)\n",
    "$$\n",
    "    v = Ax\n",
    "$$\n",
    "esetén $v_i$ azt adja meg, hogy a $i$. követelményt hány opció teljesíti a kiválasztottak közül. Azt szeretnénk, ha ez 1 lenne minden $i$-re.\n",
    "\n",
    "Azaz a feladat\n",
    "$$\n",
    "    Ax = \\mathbb{1}, \\quad \\text{úgy, hogy  $x_i\\in\\{0, 1\\}$}\n",
    "$$\n",
    "Ha több megoldás van akkor vehetjük azt, ami minimalizál egy lineráris kifejezést."
   ]
  },
  {
   "cell_type": "markdown",
   "metadata": {},
   "source": [
    "## Lineáris programozás"
   ]
  },
  {
   "cell_type": "markdown",
   "metadata": {},
   "source": [
    "A lineáris programozási feladat általános alakja:\n",
    "$$\n",
    "    x_0=\\arg\\max_x c^T x,\\quad\\text{úgy, hogy}\\quad\n",
    "    Ax \\leq b, \\quad x\\geq0\n",
    "$$\n",
    "Azaz azt az $x_0$ vektort keressük, ami a $\\sum_jc_jx_j$ összeget maximalizálja azon nem negatív koordinátájú $x$-ek között, amik a lineáris feltételnek $(Ax)_j\\geq 0$ eleget tesznek.\n",
    "\n",
    "A feladatban $A$, $c$ és $b$ adottak és $c$, $b$ **nem negatívak** (azaz a koordináták ilyenek).\n",
    "\n",
    "Példa:"
   ]
  },
  {
   "cell_type": "code",
   "execution_count": null,
   "metadata": {},
   "outputs": [],
   "source": [
    "import numpy as np\n",
    "import matplotlib.pyplot as plt"
   ]
  },
  {
   "cell_type": "code",
   "execution_count": null,
   "metadata": {},
   "outputs": [],
   "source": [
    "c = np.array([1, 1])\n",
    "b = np.array([2, 3])\n",
    "A = np.array([[1, 2], [2, 1]])\n",
    "print(f\"{c=}, {b=},\\n{A=!s}\")"
   ]
  },
  {
   "cell_type": "code",
   "execution_count": null,
   "metadata": {},
   "outputs": [],
   "source": [
    "def line(v, b):\n",
    "    p0 = b/(v@v)*v\n",
    "    v_perp = np.array([v[1], -v[0]])\n",
    "    p1 = p0+v_perp\n",
    "    return p0, p1\n",
    "\n",
    "def y_fun(v, b):\n",
    "    return lambda x: b/v[1]-(v[0]/v[1])*x\n",
    "\n",
    "ax = plt.axes((0, 0, 1, 1))\n",
    "ax.set_xlim((-4, 4))\n",
    "ax.set_ylim((-4, 4))\n",
    "ax.set_aspect(\"equal\")\n",
    "for v, b0 in zip(A, b):\n",
    "    ax.axline(*line(v, b0))\n",
    "ax.grid()\n",
    "ax.plot([4/3], [1/3], 'or')\n",
    "ax.axline((4/3, 1/3), (1/3, 4/3), color='red', alpha=0.5)\n",
    "\n",
    "\n",
    "xs = np.linspace(-4, 4, 201)\n",
    "\n",
    "ax.fill_between(xs, -4, np.minimum(y_fun(A[0], b[0])(xs), y_fun(A[1], b[1])(xs)), alpha=0.5)\n",
    "plt.show()\n"
   ]
  },
  {
   "cell_type": "markdown",
   "metadata": {},
   "source": [
    "## `scipy` mixed integer solver (`milp`)."
   ]
  },
  {
   "cell_type": "code",
   "execution_count": null,
   "metadata": {},
   "outputs": [],
   "source": [
    "from scipy.optimize import milp, Bounds, LinearConstraint\n",
    "import numpy as np"
   ]
  },
  {
   "cell_type": "code",
   "execution_count": null,
   "metadata": {},
   "outputs": [],
   "source": [
    "help(milp)"
   ]
  },
  {
   "cell_type": "code",
   "execution_count": null,
   "metadata": {},
   "outputs": [],
   "source": [
    "sudoku.draw()"
   ]
  },
  {
   "cell_type": "code",
   "execution_count": null,
   "metadata": {},
   "outputs": [],
   "source": [
    "def sudoku_adj_matrix():\n",
    "    options = list(Option.instances())\n",
    "\n",
    "    A = np.zeros((Item.max_value+1, len(options)))\n",
    "    for j, option in enumerate(options):\n",
    "        for item in option.items():\n",
    "            A[item][j] = 1\n",
    "    return A, options\n"
   ]
  },
  {
   "cell_type": "code",
   "execution_count": null,
   "metadata": {},
   "outputs": [],
   "source": [
    "A, options = sudoku_adj_matrix()\n",
    "pprint(A)"
   ]
  },
  {
   "cell_type": "code",
   "execution_count": null,
   "metadata": {},
   "outputs": [],
   "source": [
    "\n",
    "class MilpSolver():\n",
    "    A, options = sudoku_adj_matrix()\n",
    "    options_ub = np.ones_like(options)\n",
    "    items_b = np.ones(A.shape[0])\n",
    "\n",
    "    def solve(self, sudoku):\n",
    "        lower_bound = np.zeros_like(self.options_ub)\n",
    "\n",
    "        lower_bound[\n",
    "            [Option.from_triple(row, col, val)-1 for row, col, val in sudoku.enumerate()]\n",
    "            ] = 1\n",
    "        bounds = Bounds(lower_bound, self.options_ub)\n",
    "        constraints = LinearConstraint(self.A, self.items_b, self.items_b)\n",
    "        solution = milp(\n",
    "            self.options_ub, # all one vector, could be almost anything\n",
    "            integrality=self.options_ub,\n",
    "            bounds=bounds,\n",
    "            constraints=constraints\n",
    "            )\n",
    "        sudoku_solved = sudoku.copy()\n",
    "        sudoku_solved.name += \" solved\"\n",
    "        for option, include in zip(self.options, solution.x):\n",
    "            if include == 1:\n",
    "                option.apply(sudoku_solved.grid)\n",
    "\n",
    "        sudoku_solved.milp_solution = solution\n",
    "        return sudoku_solved\n",
    "\n",
    "\n",
    "\n"
   ]
  },
  {
   "cell_type": "code",
   "execution_count": null,
   "metadata": {},
   "outputs": [],
   "source": [
    "milp_solver = MilpSolver()\n",
    "sudoku_solved = milp_solver.solve(sudoku)"
   ]
  },
  {
   "cell_type": "code",
   "execution_count": null,
   "metadata": {},
   "outputs": [],
   "source": [
    "%timeit sudoku_solved = milp_solver.solve(sudoku)\n"
   ]
  },
  {
   "cell_type": "code",
   "execution_count": null,
   "metadata": {},
   "outputs": [],
   "source": [
    "print(sudoku_solved.milp_solution)\n",
    "sudoku_solved"
   ]
  },
  {
   "cell_type": "code",
   "execution_count": null,
   "metadata": {},
   "outputs": [],
   "source": [
    "print(sudoku_solved)"
   ]
  },
  {
   "cell_type": "markdown",
   "metadata": {},
   "source": [
    "## Google `OR-tools` (operation research tools)"
   ]
  },
  {
   "cell_type": "code",
   "execution_count": null,
   "metadata": {},
   "outputs": [],
   "source": [
    "import importlib\n",
    "if importlib.util.find_spec('ortools') is None:\n",
    "    ! pip install ortools\n"
   ]
  },
  {
   "cell_type": "markdown",
   "metadata": {},
   "source": [
    "Ezzel is megoldhatnánk. HF."
   ]
  },
  {
   "cell_type": "markdown",
   "metadata": {},
   "source": [
    "## Feladványok a netről"
   ]
  },
  {
   "cell_type": "code",
   "execution_count": null,
   "metadata": {},
   "outputs": [],
   "source": [
    "import urllib"
   ]
  },
  {
   "cell_type": "code",
   "execution_count": null,
   "metadata": {},
   "outputs": [],
   "source": [
    "dowload_large = False #or True\n",
    "\n",
    "url50 = \"https://projecteuler.net/project/resources/p096_sudoku.txt\"\n",
    "\n",
    "urllib.request.urlretrieve(url50, \"/tmp/sudoku.txt\")\n",
    "\n",
    "\n",
    "url50000 = \"https://github.com/t-dillon/tdoku/raw/master/data.zip\"\n",
    "\n",
    "if dowload_large:\n",
    "    urllib.request.urlretrieve(url50000, \"/tmp/sudoku-large.zip\")\n",
    "\n"
   ]
  },
  {
   "cell_type": "code",
   "execution_count": null,
   "metadata": {},
   "outputs": [],
   "source": [
    "if dowload_large:\n",
    "    ! unzip -l /tmp/sudoku-large.zip\n",
    "    ! unzip -q /tmp/sudoku-large.zip data/puzzles2_17_clue"
   ]
  },
  {
   "cell_type": "code",
   "execution_count": null,
   "metadata": {},
   "outputs": [],
   "source": [
    "def drop_comment(file):\n",
    "    while True:\n",
    "        try:\n",
    "            line = next(file).strip()\n",
    "        except EOFError:\n",
    "            return\n",
    "        if not line.startswith(\"#\"):\n",
    "            yield line"
   ]
  },
  {
   "cell_type": "code",
   "execution_count": null,
   "metadata": {},
   "outputs": [],
   "source": [
    "if dowload_large:\n",
    "    with open('data/puzzles2_17_clue', 'r') as file:\n",
    "        line = next(drop_comment(file))\n",
    "        grid = [[int(ch) if ch.isdigit() else 0 for ch in line[i: i+9]] for i in range(0,81,9)]\n",
    "        sudoku = Sudoku(grid)\n",
    "    sudoku"
   ]
  },
  {
   "cell_type": "code",
   "execution_count": null,
   "metadata": {},
   "outputs": [],
   "source": [
    "with open('/tmp/sudoku.txt') as f:\n",
    "    name = f.readline().strip()\n",
    "    grid = [f.readline() for _ in range(9)]\n",
    "    sudoku = Sudoku.from_str(grid, name)"
   ]
  },
  {
   "cell_type": "code",
   "execution_count": null,
   "metadata": {},
   "outputs": [],
   "source": [
    "def read_sudokus(filename):\n",
    "    with open(filename, \"r\") as file:\n",
    "        lines = iter(file)\n",
    "        while True:\n",
    "            try:\n",
    "                name = next(lines).strip()\n",
    "                grid = [next(lines) for _ in range(9)]\n",
    "            except StopIteration:\n",
    "                break\n",
    "            yield Sudoku.from_str(grid, name)"
   ]
  },
  {
   "cell_type": "code",
   "execution_count": null,
   "metadata": {},
   "outputs": [],
   "source": [
    "from tqdm.auto import tqdm"
   ]
  },
  {
   "cell_type": "code",
   "execution_count": null,
   "metadata": {},
   "outputs": [],
   "source": [
    "sudokus = list(read_sudokus(\"/tmp/sudoku.txt\"))"
   ]
  },
  {
   "cell_type": "code",
   "execution_count": null,
   "metadata": {},
   "outputs": [],
   "source": [
    "%%time\n",
    "\n",
    "sudoku_milp = MilpSolver()\n",
    "solved_milp = [sudoku_milp.solve(sudoku) for sudoku in tqdm(sudokus)]\n"
   ]
  },
  {
   "cell_type": "code",
   "execution_count": null,
   "metadata": {},
   "outputs": [],
   "source": [
    "solved_milp[3]"
   ]
  },
  {
   "cell_type": "code",
   "execution_count": null,
   "metadata": {},
   "outputs": [],
   "source": [
    "sudokus = list(read_sudokus(\"/tmp/sudoku.txt\"))"
   ]
  },
  {
   "cell_type": "code",
   "execution_count": null,
   "metadata": {},
   "outputs": [],
   "source": [
    "%%time\n",
    "\n",
    "pycosat_solver = PycosatSolver()\n",
    "solved_picosat = [pycosat_solver.solve(sudoku) for sudoku in tqdm(sudokus)]\n",
    "\n"
   ]
  },
  {
   "cell_type": "code",
   "execution_count": null,
   "metadata": {},
   "outputs": [],
   "source": [
    "sudokus = list(read_sudokus(\"/tmp/sudoku.txt\"))"
   ]
  },
  {
   "cell_type": "code",
   "execution_count": null,
   "metadata": {},
   "outputs": [],
   "source": [
    "%%time\n",
    "\n",
    "pycosat_solver = PycosatSolver()\n",
    "solved_naive = [pycosat_solver.solve(sudoku, \"naive\") for sudoku in tqdm(sudokus)]\n"
   ]
  },
  {
   "cell_type": "markdown",
   "metadata": {},
   "source": [
    "## Saját solver"
   ]
  },
  {
   "cell_type": "markdown",
   "metadata": {},
   "source": [
    "\n",
    "A Sudokuban ki kell tölteni a hiányzó mezőket úgy, hogy minden sor, oszlop és a 9 db 3x3-as négyzet mindegyike tartalmazza az összes számot egytől kilencig.\n",
    "\n",
    "Minden oszlop, sor és kis négyzet kilenc követelményt jelent nevezetesen azt, hogy az adott tábla részen kell, hogy legyen $1,...,9$.\n",
    "Ez összesen $3*9*9$ követelmény. További követlemény, hogy minden mező pontosan egy értéket tartalmazhat. Ez további 81 követelmény, így összesen $4*9*9$\n",
    "követelmény van.\n",
    "\n",
    "Minden cellába írhatjuk a 9 szám bármelyikét ez összesen $9*9*9$ opció.\n",
    "\n",
    "Minden opció ki tud elégíteni néhány követelményt, pl. ha az opció az hogy (1,1) mezőben 2 van, akkor ha ezt az opciót kiválasztjuk, azzal teljesülni fog,\n",
    "hogy az első sorban, első oszlopban és az (1,1) tartalmazó 3x3-as négyzetben is van 2-es.\n",
    "\n",
    "A feladványt, akkor oldottuk meg, ha kiválasztottuk az opciók egy részét úgy, hogy minden követelményt pontosan egy opció teljesít a kiválasztottak közül.\n",
    "\n",
    "\n",
    "Kicsit messzebről ránézve, van egy páros gráfunk. A csúcsok egyik csoportja a követelményekből, a másik az opciókból áll. Egy követelmény és egy opció között akkor megy él, ha az adott opció kiválasztásával kielégítjük a követelményt.\n",
    "\n",
    "A cél opciók egy részének kiválasztása úgy, hogy minden követelménynek pontosan egy szomszédja legyen a kiválasztott opciók között (exact cover).\n",
    "\n",
    "A megoldás megtalálása elméletben egyszerű.\n",
    "\n",
    "1. `G` a játék gráfja (mátrixa). Töröljük azokat az opciókat, amik összegyeztethetelenek a kitöltött mezőkkel.\n",
    "2. Válasszunk egy `item` követelményt.\n",
    "3. A `item` szomszédjait ellenőrizzük le. Azaz menjünk végig azokon az opciókon, amik `item`-et kielégítik:\n",
    "   \n",
    "   - Mindegyik opcióra  készítsük el azt a  kisebb gráfot, amit úgy kapunk, hogy a kiválasztott opciót\n",
    "     beírjuk a táblába.\n",
    "   \n",
    "     Így néhány további követelményt is kielégítünk és néhány opciót el is kell hagynunk.\n",
    "\n",
    "   - Oldjuk meg a kisebb gráffal a feladatot:\n",
    "     \n",
    "     Ha a kisebb feladatnak nincs megoldása, a kiválasztott opcióval nem lehet megoldani a problémát.\n",
    "     Nézzük a következő lehetőséget.\n",
    "\n",
    "     Ha a kisebb feladatnak van megoldása, akkor a feladat megoldása a kiválasztott opció és a kisebb probléma megoldása együtt.\n",
    "\n",
    "Lehet, hogy kóddal leírva könnyebben érthető.\n",
    "\n",
    "```python\n",
    "def search(G):\n",
    "    if G.items:\n",
    "      item = first_item(G.items)\n",
    "      for option in G.options[item]:\n",
    "            solution = search(new_graph(G, option))\n",
    "            if solution is not None:\n",
    "                return (option,) + solution\n",
    "      return None\n",
    "    return tuple()\n",
    "```\n",
    "\n",
    "Itt `new_graph(G, option)` visszaadja a gráfot amit úgy kapunk, hogy\n",
    "`option` által kielégített követelményeket  és azokat az opciókat amik `option`-nal összeegyeztethetlenek elhagyjuk.\n",
    "\n",
    "Azt feltételezzük, hogy a `new_graph` függvény nem módosítja `G`-t a visszaadott gráf másolat.\n",
    "\n",
    "\n",
    "A futási idő attól függ, hogyan választjuk ki követelményt. A legegyszerűbb módszer: vegyük azt amihez aktuálisan a legkevesebb opció tartozik.\n",
    "Ez pont annak felel meg, amit a játék során magunk is csinálnánk, pl ha egy mezőbe csak egy lehetőség maradt az kitöltjük."
   ]
  },
  {
   "cell_type": "code",
   "execution_count": null,
   "metadata": {},
   "outputs": [],
   "source": [
    "def sudoku_graph():\n",
    "    options = {option: list(option.items()) for option in Option.instances()}\n",
    "    items = {item: set(item.options()) for item in Item.instances()}\n",
    "    return options, items\n",
    "\n",
    "\n",
    "def new_graph(graph, option):\n",
    "    options, items = graph\n",
    "    items_covered = [item for item in options[option] if item in items]\n",
    "    conflicting_options = set(o for item in items_covered for o in items[item])\n",
    "    new_options = {\n",
    "        key: [item for item in value if item not in items_covered]\n",
    "        for key, value in options.items()\n",
    "        if key not in conflicting_options\n",
    "    }\n",
    "    new_items = {\n",
    "        key: [opt for opt in value if opt not in conflicting_options]\n",
    "        for key, value in items.items()\n",
    "        if key not in items_covered\n",
    "    }\n",
    "    return new_options, new_items\n",
    "\n",
    "def first_item(items):\n",
    "    return min(items, key=lambda item: len(items[item]))\n",
    "\n",
    "def search(graph):\n",
    "    _, items = graph\n",
    "    if items:\n",
    "        item = first_item(items)\n",
    "        for option in items[item]:\n",
    "            solution = search(new_graph(graph, option))\n",
    "            if solution is not None:\n",
    "                return (option,) + solution\n",
    "        return None\n",
    "    return tuple()\n",
    "\n",
    "def initial_graph(sudoku):\n",
    "    graph = sudoku_graph()\n",
    "    for row, col, val in sudoku.enumerate():\n",
    "        option = Option.from_triple(row, col, val)\n",
    "        graph = new_graph(graph, option)\n",
    "    return graph\n",
    "\n",
    "def sudoku_solver(sudoku):\n",
    "    graph = initial_graph(sudoku)\n",
    "\n",
    "    solution = search(graph)\n",
    "    if solution is None:\n",
    "        return None\n",
    "\n",
    "    sudoku_solved = sudoku.copy()\n",
    "    for option in solution:\n",
    "        option.apply(sudoku_solved.grid)\n",
    "    return sudoku_solved\n"
   ]
  },
  {
   "cell_type": "code",
   "execution_count": null,
   "metadata": {},
   "outputs": [],
   "source": [
    "sudoku"
   ]
  },
  {
   "cell_type": "code",
   "execution_count": null,
   "metadata": {},
   "outputs": [],
   "source": [
    "options, items = initial_graph(sudoku)"
   ]
  },
  {
   "cell_type": "code",
   "execution_count": null,
   "metadata": {},
   "outputs": [],
   "source": [
    "# pprint(items)"
   ]
  },
  {
   "cell_type": "code",
   "execution_count": null,
   "metadata": {},
   "outputs": [],
   "source": [
    "\n",
    "%timeit sudoku_solved = sudoku_solver(sudoku)"
   ]
  },
  {
   "cell_type": "code",
   "execution_count": null,
   "metadata": {},
   "outputs": [],
   "source": [
    "sudoku_solved = sudoku_solver(sudoku)\n",
    "sudoku_solved"
   ]
  },
  {
   "cell_type": "markdown",
   "metadata": {},
   "source": [
    "### Logging. Megoldás lépésről lépésre"
   ]
  },
  {
   "cell_type": "code",
   "execution_count": null,
   "metadata": {},
   "outputs": [],
   "source": [
    "import logging\n",
    "\n",
    "logging.BASIC_FORMAT"
   ]
  },
  {
   "cell_type": "code",
   "execution_count": null,
   "metadata": {},
   "outputs": [],
   "source": [
    "import logging\n",
    "logger = logging.getLogger('sudoku')\n",
    "logging.basicConfig(format=\"%(message)s\", force=True)\n",
    "logger.setLevel(logging.WARNING)\n"
   ]
  },
  {
   "cell_type": "code",
   "execution_count": null,
   "metadata": {},
   "outputs": [],
   "source": [
    "\n",
    "def search(graph, level=0):\n",
    "    _, items = graph\n",
    "    if items:\n",
    "        item = first_item(items)\n",
    "        logger.info('level %3d: considering %s with %d options', level, item, len(items[item]))\n",
    "\n",
    "        for option in items[item]:\n",
    "            logger.info('level %3d: trying %s for %s', level, option, item)\n",
    "            solution = search(new_graph(graph, option), level+1)\n",
    "            if solution is not None:\n",
    "                logger.info('level %3d: %s works', level, option)\n",
    "                return (option,) + solution\n",
    "            logger.info('level %3d: %s rejected', level, option)\n",
    "        return None\n",
    "    return tuple()"
   ]
  },
  {
   "cell_type": "code",
   "execution_count": null,
   "metadata": {},
   "outputs": [],
   "source": [
    "# logger.setLevel(logging.DEBUG)"
   ]
  },
  {
   "cell_type": "code",
   "execution_count": null,
   "metadata": {},
   "outputs": [],
   "source": [
    "from contextlib import contextmanager\n",
    "\n",
    "@contextmanager\n",
    "def using_level(level, format=None):\n",
    "    logger = logging.getLogger('sudoku')\n",
    "    _level = logger.level\n",
    "    try:\n",
    "        logger.setLevel(level)\n",
    "        yield\n",
    "    finally:\n",
    "        logger.setLevel(_level)"
   ]
  },
  {
   "cell_type": "code",
   "execution_count": null,
   "metadata": {},
   "outputs": [],
   "source": [
    "sudoku_solved = sudoku_solver(sudoku)\n"
   ]
  },
  {
   "cell_type": "code",
   "execution_count": null,
   "metadata": {},
   "outputs": [],
   "source": [
    "grid=[\n",
    "    [0, 2, 0, 0, 0, 0, 0, 0, 0],\n",
    "    [0, 0, 0, 6, 0, 0, 0, 0, 3],\n",
    "    [0, 7, 4, 0, 8, 0, 0, 0, 0],\n",
    "    [0, 0, 0, 0, 0, 3, 0, 0, 2],\n",
    "    [0, 8, 0, 0, 4, 0, 0, 1, 0],\n",
    "    [6, 0, 0, 5, 0, 0, 0, 0, 0],\n",
    "    [0, 0, 0, 0, 1, 0, 7, 8, 0],\n",
    "    [5, 0, 0, 0, 0, 9, 0, 0, 0],\n",
    "    [0, 0, 0, 0, 0, 0, 0, 4, 0]\n",
    "    ]\n",
    "sudoku = Sudoku(grid, \"A hard problem\")\n",
    "\n",
    "fig=sudoku.draw()\n",
    "# fig.savefig('/tmp/hard.png')\n"
   ]
  },
  {
   "cell_type": "code",
   "execution_count": null,
   "metadata": {},
   "outputs": [],
   "source": [
    "with using_level(logging.INFO):\n",
    "    sudoku_solved = sudoku_solver(sudoku)\n"
   ]
  },
  {
   "cell_type": "code",
   "execution_count": null,
   "metadata": {},
   "outputs": [],
   "source": [
    "sudokus = list(read_sudokus(\"/tmp/sudoku.txt\"))"
   ]
  },
  {
   "cell_type": "code",
   "execution_count": null,
   "metadata": {},
   "outputs": [],
   "source": [
    "%%time \n",
    "\n",
    "solutions = [sudoku_solver(sudoku) for sudoku in tqdm(sudokus)]"
   ]
  },
  {
   "cell_type": "markdown",
   "metadata": {},
   "source": [
    "A fenti módszer mindig lemásolja a maradék gráfot és azon dolgozik tovább. [Knuth __Dancing Link__](https://arxiv.org/abs/cs/0011047)-nek nevezett módszerével a másolások elkerülhetőek, és valamivel gyorsabb lenne a számolás.\n"
   ]
  }
 ],
 "metadata": {
  "kernelspec": {
   "display_name": "python3.10",
   "language": "python",
   "name": "python3"
  },
  "language_info": {
   "codemirror_mode": {
    "name": "ipython",
    "version": 3
   },
   "file_extension": ".py",
   "mimetype": "text/x-python",
   "name": "python",
   "nbconvert_exporter": "python",
   "pygments_lexer": "ipython3",
   "version": "3.10.12"
  }
 },
 "nbformat": 4,
 "nbformat_minor": 2
}
