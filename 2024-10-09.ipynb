{
 "cells": [
  {
   "cell_type": "markdown",
   "metadata": {},
   "source": [
    "[![Open In Colab](https://colab.research.google.com/assets/colab-badge.svg)](https://colab.research.google.com/github/prokaj/elte-python-2024/blob/main/2024-10-09.ipynb)   "
   ]
  },
  {
   "cell_type": "markdown",
   "metadata": {},
   "source": [
    "## Házi feladatok"
   ]
  },
  {
   "cell_type": "markdown",
   "metadata": {},
   "source": [
    "### Feladat"
   ]
  },
  {
   "cell_type": "markdown",
   "metadata": {},
   "source": [
    "Írjunk egy függvényt, aminek két paramétere van egy `string`-ekből álló lista és pozitív egész \n",
    "küszöbérték. A függvény visszatérési értéke azon karakterek listája, amelyek legalább a küszöbértékben megadott\n",
    "számú sztringben előfordulnak.\n",
    "\n",
    "Pl. ha a függvényünk neve `frequent_chars`, akkor\n",
    "\n",
    "```python\n",
    "frequent_chars([\"alma\", \"malna\",\"golya\"], 3)\n",
    "```\n",
    "\n",
    "értéke `[\"a\",\"l\"]`. Ha a küszöbérték három helyett kettő lenne, akkor még az `\"m\"` is bekerülne a listába.\n",
    "A visszaadott lista legyen sorba rendezve. Lássuk el a függvényt típus annotációval, írjunk hozzá docstring-et (magyarul vagy angolul, ahogy kényelmesebb). \n",
    "\n",
    "Írjunk teszt függvényt, ami ellenőrzi, legalább az alábbi esetkre ellenőrzi a helyes működést:\n",
    "\n",
    "• Az eredmény nem függ a stringek sorrendjétől az argumentumként kapott listában.\n",
    "\n",
    "• A stringek listája üres.\n",
    "\n",
    "• Véletlenszerű stringekből álló lista.\n",
    "\n",
    "• Ugyanaz a string ismétlődik sokszor.\n",
    "\n"
   ]
  },
  {
   "cell_type": "code",
   "execution_count": 1,
   "metadata": {},
   "outputs": [],
   "source": [
    "def frequent_chars(words: list, k: int) -> list:\n",
    "    \"\"\"\n",
    "    Return a list of characters that appear in at least k words in the list.\n",
    "\n",
    "    :param words: A list of words.\n",
    "    :param k: The minimum number of words a character must appear in to be\n",
    "              included in the result.\n",
    "    :return: A list of characters that appear in at least k words in the list.\n",
    "    \"\"\"\n",
    "    freq = {}\n",
    "    for word in words:\n",
    "        for char in set(word):\n",
    "            if char in freq:\n",
    "                freq[char] += 1\n",
    "            else:\n",
    "                freq[char] = 1\n",
    "    return sorted(char for char in freq if freq[char] >= k)\n"
   ]
  },
  {
   "cell_type": "code",
   "execution_count": 2,
   "metadata": {},
   "outputs": [],
   "source": [
    "import ipytest\n",
    "ipytest.autoconfig()"
   ]
  },
  {
   "cell_type": "code",
   "execution_count": null,
   "metadata": {},
   "outputs": [],
   "source": [
    "%%ipytest\n",
    "\n",
    "\n",
    "def test_frequent_chars():\n",
    "    assert frequent_chars(['hello', 'world'], 1) == ['d', 'e', 'h', 'l', 'o', 'r', 'w']\n",
    "    assert frequent_chars(['hello', 'world'], 2) == ['l', 'o']\n",
    "    assert frequent_chars(['hello', 'world'], 3) == []\n",
    "    assert frequent_chars([], 2) == []\n",
    "    assert frequent_chars(['asat', 'adwrt', 'aefwr'], 2) == ['a', 'r', 't', 'w']\n",
    "    assert frequent_chars(['hello', 'hello', 'hello',  'hello' ], 4) == ['e', 'h', 'l', 'o']\n",
    "    "
   ]
  },
  {
   "cell_type": "markdown",
   "metadata": {},
   "source": [
    "### Feladat."
   ]
  },
  {
   "cell_type": "markdown",
   "metadata": {},
   "source": [
    "Írjunk egy függvényt, ami egy sorozatból kigyűjti a különböző elemeket és mindegyikhez feljegyzi hol fordulnak elő. Feltehető, hogy a sorozat elemei használhatóak kulcsként egy szótárban.\n",
    "\n",
    "Pl. Ha függvény neve `collect_positions`, akkor\n",
    "\n",
    "```python\n",
    "collect_positions(\"ababcda\")\n",
    "```\n",
    "\n",
    "hívás eredménye:\n",
    "\n",
    "```python\n",
    "{\"a\": [0, 2, 6], \"b\":[1, 3], \"c\": [4], \"d\": [5]}\n",
    "```\n",
    "\n",
    "A visszaadott szótárban az értékek legyenek nagyság szerinti sorba rendezve.\n",
    "Lássuk el a függvényt  docstring-gel (magyarul vagy angolul, ahogy kényelmesebb).\n",
    "\n",
    "Teszteljük a munkánkat az ipytest modullal, legalább az alábbi esetekre:\n",
    "\n",
    "- Az argumentum legalább 10 hosszú sztring.\n",
    "\n",
    "- Az argumentum sztringek legalább 10 hosszú listája.\n",
    "\n",
    "- Az argumentum map hivás eredménye, pl. ha az előző pontban használt lista lst, akkor map(str.upper, lst), vagy map(str.lower, lst)\n",
    "\n",
    "- A sorozat üres.\n",
    "\n",
    "- A sorozat elemei számok.\n",
    "\n",
    "A megoldásban jól jöhet az `enumerate` függvény. Ha nem muszáj, ne konvertáljuk a bemenő paramétert listává."
   ]
  },
  {
   "cell_type": "code",
   "execution_count": null,
   "metadata": {},
   "outputs": [],
   "source": [
    "def collect_positions(seq):\n",
    "    pos = {}\n",
    "    for i, item in enumerate(seq):\n",
    "        if item not in pos:\n",
    "            pos[item] = []\n",
    "        pos[item].append(i)\n",
    "    return pos"
   ]
  },
  {
   "cell_type": "code",
   "execution_count": null,
   "metadata": {},
   "outputs": [],
   "source": [
    "import collections\n",
    "\n",
    "def collect_positions(seq):\n",
    "    pos = collections.defaultdict(list)\n",
    "    for i, item in enumerate(seq):\n",
    "        pos[item].append(i)\n",
    "    return dict(pos)"
   ]
  },
  {
   "cell_type": "code",
   "execution_count": null,
   "metadata": {},
   "outputs": [],
   "source": [
    "%%ipytest\n",
    "\n",
    "def test_positions_a():\n",
    "    \"10 hosszú sztring\"\n",
    "    seq = \"abracadabra\"\n",
    "    positions = {'a': [0, 3, 5, 7, 10], 'b': [1, 8], 'c': [4], 'd': [6], 'r': [2, 9]}\n",
    "    assert collect_positions(seq) == positions\n",
    "\n",
    "def test_positions_b():\n",
    "    \"sztringek legalább 10 hosszú listája\"\n",
    "    seq = list(\"abracadabra\")\n",
    "    positions = {'a': [0, 3, 5, 7, 10], 'b': [1, 8], 'c': [4], 'd': [6], 'r': [2, 9]}\n",
    "    assert collect_positions(seq) == positions\n",
    "\n",
    "def test_positions_c():\n",
    "    \"map objektum\"\n",
    "    seq = map(str.upper, \"abracadabra\")\n",
    "    positions = {'A': [0, 3, 5, 7, 10], 'B': [1, 8], 'C': [4], 'D': [6], 'R': [2, 9]}\n",
    "    assert collect_positions(seq) == positions\n",
    "\n",
    "\n",
    "def test_positions_d():\n",
    "    \"üres sorozat\"\n",
    "    assert collect_positions(\"\") == {}\n",
    "    assert collect_positions([]) == {}\n",
    "    assert collect_positions(map(int, \"\")) == {}\n",
    "\n",
    "\n",
    "def test_positions_e():\n",
    "    \"számok sorozata\"\n",
    "    seq = [ord(x) for x in \"abracadabra\"]\n",
    "    positions = {ord('a'): [0, 3, 5, 7, 10], ord('b'): [1, 8], ord('c'): [4], ord('d'): [6], ord('r'): [2, 9]}\n",
    "    assert collect_positions(seq) == positions"
   ]
  },
  {
   "cell_type": "markdown",
   "metadata": {},
   "source": [
    "Lehet-e másképp?"
   ]
  },
  {
   "cell_type": "code",
   "execution_count": null,
   "metadata": {},
   "outputs": [],
   "source": [
    "\n",
    "def check_positions(positions, seq):\n",
    "    for key, key_positions in positions.items():\n",
    "        ## all positions are different\n",
    "        assert len(set(key_positions)) == len(key_positions) \n",
    "        ## all positions are valid\n",
    "        for pos in key_positions:\n",
    "            assert seq[pos] == key\n",
    "    ## all positions are covered\n",
    "    assert sum(map(len, positions.values())) == len(seq)\n"
   ]
  },
  {
   "cell_type": "code",
   "execution_count": null,
   "metadata": {},
   "outputs": [],
   "source": [
    "%%ipytest\n",
    "\n",
    "texts = [\"abracadabra\",\n",
    "\"One foot in front of the other, \"\n",
    "\"One more step, and then one more. \"\n",
    "\"Jack's only thoughts were to keep moving \"\n",
    "\"no matter how much his body screamed to \"\n",
    "\"stop and rest. He's lost almost all his \"\n",
    "\"energy and his entire body ached beyond \"\n",
    "\"belief, but he forced himself to take \"\n",
    "\"another step. Then another. And then one more.\"]\n",
    "\n",
    "def test_positions_a():\n",
    "    \"10 hosszú sztring\"\n",
    "    for seq in texts:\n",
    "        check_positions(collect_positions(seq), seq)\n",
    "\n",
    "def test_positions_b():\n",
    "    \"sztringek legalább 10 hosszú listája\"\n",
    "    for seq in texts:\n",
    "        seq = seq.split()\n",
    "        check_positions(collect_positions(seq), seq)\n",
    "\n",
    "def test_positions_c():\n",
    "    \"map objektum\"\n",
    "    for seq in texts:\n",
    "        seq = seq.split()\n",
    "        seq_orig = map(str.upper, seq)\n",
    "        seq_copy = list(map(str.upper, seq))\n",
    "        check_positions(collect_positions(seq_orig), seq_copy)\n",
    "\n",
    "def test_positions_d():\n",
    "    \"üres sorozat\"\n",
    "    assert collect_positions(\"\") == {}\n",
    "    assert collect_positions([]) == {}\n",
    "    assert collect_positions(map(int, \"\")) == {}\n",
    "\n",
    "def test_positions_e():\n",
    "    \"számok sorozata\"\n",
    "    for seq in texts:\n",
    "        seq = seq.split()\n",
    "        seq = [len(x) for x in seq]\n",
    "        check_positions(collect_positions(seq), seq)"
   ]
  },
  {
   "cell_type": "code",
   "execution_count": null,
   "metadata": {},
   "outputs": [],
   "source": [
    "texts"
   ]
  },
  {
   "cell_type": "markdown",
   "metadata": {},
   "source": [
    "## Szorgalmi feladat.\n",
    "\n",
    "Harmonikus sor alatt, az $\\sum_{n=1}^\\infty\n",
    "  \\frac1n$ sort értjük. Ennek a részletösszegeit szeretnénk kiszámítani\n",
    "legalább $10^{-8}$ pontossággal. Ehhez használhatnánk, a definíciót:\n",
    "\n",
    "```python\n",
    "def harmonic_sum_slow(n: int) -> float:\n",
    "    return sum(1/k for k in reversed(range(1, n+1)))\n",
    "```\n",
    "\n",
    "azonban ez túlságosan lassú. A művelet igény lineáris $n$-ben és\n",
    "körülbelül $n=25*10^6$ esetén már egy másodperc körüli a futási idő.\n",
    "\n",
    "A kiindulást a következő ötlet szolgáltathatja, $n\\geq 1$-re:\n",
    "$$\n",
    "\\begin{aligned}\n",
    "    \\log\\left({n+\\frac12}\\right) - \\log\\left({n-\\frac12}\\right)\n",
    "    &=\\int_{n-\\frac1{2}}^{n+\\frac1{2}} \\frac1{x} dx\\\\\n",
    "    &= \\int_{-\\frac1{2}}^{\\frac1{2}} \\frac1{n+x} dx\\\\\n",
    "    & = \\frac1n +\\int_{-\\frac1{2}}^{\\frac1{2}} \\frac1{(n+x)}\n",
    "      -\\frac1ndx\\\\\n",
    "    & = \\frac1n +\\int_{-\\frac1{2}}^{\\frac1{2}} \\frac{x}{(n+x)n}dx\\\\\n",
    "    & = \\frac1n +\\int_{0}^{\\frac1{2}} \\frac{2x^2}{(n^2-x^2)n}dx    \n",
    "\\end{aligned}\n",
    "$$ Ebből becsüljük meg $\\frac1n$ és a bal oldal eltérését.\n",
    "Végül az összeg első néhány tagját megtartva, a többit közelítve a\n",
    "logaritmus megváltozásával próbáljunk gyorsabb és az előírt pontosságú\n",
    "módszert találni.\n",
    "\n",
    "Egy másik lehetőség $1/n+1/(n+1)$ és $2\\log(1+1/n)$ összehasonlítása."
   ]
  },
  {
   "cell_type": "code",
   "execution_count": 1,
   "metadata": {},
   "outputs": [],
   "source": [
    "import math"
   ]
  },
  {
   "cell_type": "code",
   "execution_count": null,
   "metadata": {},
   "outputs": [],
   "source": [
    "\n",
    "def harmonic_sum_slow(n: int) -> float:\n",
    "    return math.fsum(1/k for k in range(1, n+1))"
   ]
  },
  {
   "cell_type": "code",
   "execution_count": null,
   "metadata": {},
   "outputs": [],
   "source": [
    "%%time\n",
    "harmonic_sum_slow((10**8))"
   ]
  },
  {
   "cell_type": "markdown",
   "metadata": {},
   "source": [
    "A megadott formula alapján\n",
    "$$\n",
    "\\begin{aligned}\n",
    "\\left|\\frac1n - \\int_{n-1/2}^{n+1/2} \\frac1{x}dx\\right|\n",
    "&= \\int_0^{1/2} \\frac{2x^2}{(n^2-x^2)n}dx\\\\\n",
    "&\\leq \\frac1{(n^2-1)n}\\int_0^{1/2} 2x^2dx=\\frac1{12(n^2-1)n}\n",
    "\\end{aligned}\n",
    "$$\n",
    "Ha $n_0$-tól összegzünk, akkor\n",
    "$$\n",
    "\\begin{aligned}\n",
    "\\sum_{n=n_0}^\\infty \\frac1{(n^2-1)n}& =\n",
    "\\sum_{n=n_0}^\\infty \\frac1{(n-1)(n+1)n}\\\\\n",
    "&= \\frac12\\sum_{n=n_0}^\\infty \\frac1{n-1}+\\frac1{n+1} -\\frac{2}{n}\\\\\n",
    "&=\\frac12\\left\\{\\sum_{n=n_0-1}\\frac{1}{n}+\\sum_{n=n_0+1}\\frac1n-2\\sum_{n=n_0}\\frac1n\\right\\}\\\\\n",
    "&=\\frac12\\left\\{\\frac1{n_0-1}-\\frac1{n_0}\\right\\}=\\frac{1}{2n_0(n_0-1)}\n",
    "\\end{aligned}\n",
    "$$\n",
    "\n",
    "Ebből az adódik, hogy\n",
    "$$\n",
    "\\left|\\sum_{n=n_0}^{n_1} \\frac1n - \\log\\left(\\frac{n_1+1/2}{n_0-1/2}\\right)\\right|\n",
    "\\leq \\frac{1}{24(n_0(n_0-1))}\n",
    "$$\n",
    "\n",
    "A logaritmus értékét pontosnak vehetjük, így a közelítés hibája akkor lesz kisebb, mint $10^{-8}$, ha\n",
    "$$\n",
    "    24*n_0(n_0-1)>10^8\n",
    "$$"
   ]
  },
  {
   "cell_type": "code",
   "execution_count": null,
   "metadata": {},
   "outputs": [],
   "source": [
    "print(f\"{((1e8)/24)**0.5=}\")\n",
    "n0 = 2500\n"
   ]
  },
  {
   "cell_type": "code",
   "execution_count": null,
   "metadata": {},
   "outputs": [],
   "source": [
    "import math\n",
    "\n",
    "def harmonic_sum_faster(n: int) -> float:\n",
    "    n0 = min(n, 2500)\n",
    "    return math.fsum(1/k for k in range(1, n0+1)) + math.log((n+0.5)/(n0+0.5))"
   ]
  },
  {
   "cell_type": "code",
   "execution_count": null,
   "metadata": {},
   "outputs": [],
   "source": [
    "%%ipytest\n",
    "\n",
    "def test_hs():\n",
    "    for n in range(1, 1000):\n",
    "        assert harmonic_sum_slow(n) == harmonic_sum_faster(n)\n",
    "\n",
    "    for n in range(5000, 100_001, 2_500):\n",
    "        assert abs(harmonic_sum_slow(n)-harmonic_sum_faster(n))<1e-8\n",
    "\n",
    "    for n in range(500_000, 1_000_001, 50_000):\n",
    "        assert abs(harmonic_sum_slow(n)-harmonic_sum_faster(n))<1e-8\n"
   ]
  },
  {
   "cell_type": "code",
   "execution_count": null,
   "metadata": {},
   "outputs": [],
   "source": [
    "%%time\n",
    "harmonic_sum_faster((10**8))"
   ]
  },
  {
   "cell_type": "markdown",
   "metadata": {},
   "source": [
    "# Feladatok\n",
    "\n",
    "Az előző hétek feladatai mellett az alábbi néhány feladattal is foglakozhatunk."
   ]
  },
  {
   "cell_type": "markdown",
   "metadata": {},
   "source": [
    "1. Írjunk egy `Polinom` osztályt. Az `__init__` metódus megkapja az együtthatók sorozatát. Az `__str__` metódus a polinom következő szöveges alakját adja vissza. Pl. Ha az együtthatók `(1, 2, 1)`, akkor\n",
    "```pyhton\n",
    "p = Polinom(1, 2, 1)\n",
    "print(str(p)) \n",
    "```\n",
    "\n",
    "eredménye legyen:\n",
    "```text\n",
    "x^2 +  2x + 1\n",
    "```\n",
    "\n",
    "Ha az együtthatók sorozata üres, akkor a nulla polinomról van szó:\n",
    "```python\n",
    "p = Polinom()\n",
    "print(str(p))\n",
    "```\n",
    "eredménye:\n",
    "```text\n",
    "0\n",
    "```"
   ]
  },
  {
   "cell_type": "markdown",
   "metadata": {},
   "source": [
    "2. Írjuk meg az előadáson szerepelt `Temperature` osztályt."
   ]
  },
  {
   "cell_type": "code",
   "execution_count": 5,
   "metadata": {},
   "outputs": [],
   "source": [
    "class Temperature:\n",
    "    \n",
    "    def __init__(self, celsius=0): \n",
    "        self.celsius = celsius\n",
    "    \n",
    "    def __repr__(self): \n",
    "        return f\"{self.celsius} ℃ [{self.fahrenheit} ℉]\"\n",
    "    \n",
    "    @property\n",
    "    def celsius(self): \n",
    "        pass\n",
    "    \n",
    "    @celsius.setter\n",
    "    def celsius(self, value): \n",
    "        pass\n",
    "    \n",
    "    @property\n",
    "    def fahrenheit(self): \n",
    "        pass\n",
    "    \n",
    "    @fahrenheit.setter\n",
    "    def fahrenheit(self, value): \n",
    "        pass"
   ]
  },
  {
   "cell_type": "markdown",
   "metadata": {},
   "source": [
    "3. Írjunk egy generátor függvényt, ami a prímszámok sorozatát állítja elő. Most kivételesen csak mérsékelten aggódjunk a hatékonyság miatt.\n"
   ]
  }
 ],
 "metadata": {
  "kernelspec": {
   "display_name": "python3.10",
   "language": "python",
   "name": "python3"
  },
  "language_info": {
   "codemirror_mode": {
    "name": "ipython",
    "version": 3
   },
   "file_extension": ".py",
   "mimetype": "text/x-python",
   "name": "python",
   "nbconvert_exporter": "python",
   "pygments_lexer": "ipython3",
   "version": "3.10.12"
  }
 },
 "nbformat": 4,
 "nbformat_minor": 2
}
