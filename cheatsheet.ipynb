{
 "cells": [
  {
   "cell_type": "markdown",
   "id": "7d3c4d55",
   "metadata": {},
   "source": [
    "[![Open In Colab](https://colab.research.google.com/assets/colab-badge.svg)](https://colab.research.google.com/github/prokaj/elte-python-2023/blob/main/cheatsheet.ipynb)   "
   ]
  },
  {
   "cell_type": "markdown",
   "id": "77396dc5",
   "metadata": {
    "_cell_guid": "b1076dfc-b9ad-4769-8c92-a6c4dae69d19",
    "_uuid": "8f2839f25d086af736a60e9eeb907d3b93b6e0e5",
    "papermill": {
     "duration": 0.004702,
     "end_time": "2022-10-18T15:09:07.566588",
     "exception": false,
     "start_time": "2022-10-18T15:09:07.561886",
     "status": "completed"
    },
    "tags": []
   },
   "source": [
    "<h1>Markdown Cheat Sheet for Jupyter Notebooks</h1>\n"
   ]
  },
  {
   "cell_type": "markdown",
   "id": "71389aff",
   "metadata": {},
   "source": [
    "Modified from a [Kaggle](https://www.kaggle.com/code/cuecacuela/the-ultimate-markdown-cheat-sheet) notebook."
   ]
  },
  {
   "cell_type": "markdown",
   "id": "4374c184",
   "metadata": {
    "papermill": {
     "duration": 0.004573,
     "end_time": "2022-10-18T15:09:07.585466",
     "exception": false,
     "start_time": "2022-10-18T15:09:07.580893",
     "status": "completed"
    },
    "tags": []
   },
   "source": [
    "# Index\n",
    "\n",
    "- [Headings](#headings)\n",
    "\n",
    "- [Emphasis](#emphasis-bold-italic-strikethrough-and-mark)\n",
    "\n",
    "- [Links](#links)\n",
    "\n",
    "- [Images](#images)\n",
    "\n",
    "- [Line breaks](#line-breaks)\n",
    "\n",
    "- [Horizontal rules](#horizontal-rules)\n",
    "\n",
    "- [Lists](#lists)\n",
    "\n",
    "- [Code](#code)\n",
    "\n",
    "- [Tables](#tables)\n",
    "\n",
    "- [Math](#math)\n",
    "\n",
    "- [Comment](#comment)\n",
    "\n",
    "- [Emojis and UTF symbols](#emojis-and-utf-symbols)"
   ]
  },
  {
   "cell_type": "markdown",
   "id": "feb96786",
   "metadata": {
    "papermill": {
     "duration": 0.00455,
     "end_time": "2022-10-18T15:09:07.604210",
     "exception": false,
     "start_time": "2022-10-18T15:09:07.599660",
     "status": "completed"
    },
    "tags": []
   },
   "source": [
    "# Headings\n"
   ]
  },
  {
   "cell_type": "markdown",
   "id": "687bb93f",
   "metadata": {},
   "source": [
    "\n",
    "| Markdown                    | Result                       |\n",
    "|-----------------------------|------------------------------|\n",
    "| `# A title at level 1`      | <h1> A title at level 1 </h1>|\n",
    "| `## A title at level 2`     | <h2> A title at level 2 </h2>|\n",
    "| `### A title at level 3`    | <h3> A title at level 3 </h3>|\n",
    "| `#### A title at level 4`   | <h4> A title at level 4 </h4>|\n",
    "| `##### A title at level 5`  | <h5> A title at level 5 </h5>|\n",
    "| `###### A title at level 6` | <h6> A title at level 6 </h6>|\n",
    "\n",
    "\n",
    "You should put blank lines before and after a heading for compatibility."
   ]
  },
  {
   "cell_type": "markdown",
   "id": "ca7176a6",
   "metadata": {
    "papermill": {
     "duration": 0.004549,
     "end_time": "2022-10-18T15:09:07.623436",
     "exception": false,
     "start_time": "2022-10-18T15:09:07.618887",
     "status": "completed"
    },
    "tags": []
   },
   "source": [
    "# Emphasis (Bold, Italic, Strikethrough and Mark)\n",
    "\n"
   ]
  },
  {
   "cell_type": "markdown",
   "id": "540f90d7",
   "metadata": {},
   "source": [
    "\n",
    "| Markdown | Result |\n",
    "|----------|--------|\n",
    "|`*Italic*`|*Italic*|\n",
    "|`**Bold**`|**Bold**|\n",
    "|`~~Strikethrough~~`|~~Strikethrough~~|\n",
    "|`**_Bold Italic_**`|**_Bold Italic_**|\n",
    "|`***Bold Italic***`|***Bold Italic***|\n"
   ]
  },
  {
   "cell_type": "markdown",
   "id": "b7cab9bc",
   "metadata": {
    "papermill": {
     "duration": 0.004512,
     "end_time": "2022-10-18T15:09:07.632822",
     "exception": false,
     "start_time": "2022-10-18T15:09:07.628310",
     "status": "completed"
    },
    "tags": []
   },
   "source": [
    "# Links\n"
   ]
  },
  {
   "cell_type": "markdown",
   "id": "befae182",
   "metadata": {},
   "source": [
    "\n",
    "| Markdown | Result |\n",
    "|----------|--------|\n",
    "|`[External Link](http://google.com)`|[External Link](http://google.com)|\n",
    "|`[Internal Link to Index](#index)`  |[Internal Link to Index](#index)  |\n",
    "\n"
   ]
  },
  {
   "cell_type": "markdown",
   "id": "6dff3bea",
   "metadata": {
    "execution": {
     "iopub.execute_input": "2022-10-18T10:45:18.620912Z",
     "iopub.status.busy": "2022-10-18T10:45:18.620288Z",
     "iopub.status.idle": "2022-10-18T10:45:18.651522Z",
     "shell.execute_reply": "2022-10-18T10:45:18.650243Z",
     "shell.execute_reply.started": "2022-10-18T10:45:18.620798Z"
    },
    "papermill": {
     "duration": 0.005073,
     "end_time": "2022-10-18T15:09:07.642999",
     "exception": false,
     "start_time": "2022-10-18T15:09:07.637926",
     "status": "completed"
    },
    "tags": []
   },
   "source": [
    "# Images\n"
   ]
  },
  {
   "cell_type": "markdown",
   "id": "097c4490",
   "metadata": {},
   "source": [
    "\n",
    "| Markdown | Result |\n",
    "|----------|--------|\n",
    "|`![Alternative text](https://cdn-icons-png.flaticon.com/128/1449/1449236.png)`|![Alternative text](https://cdn-icons-png.flaticon.com/128/1449/1449236.png)|\n"
   ]
  },
  {
   "cell_type": "markdown",
   "id": "67fe07b3",
   "metadata": {
    "papermill": {
     "duration": 0.004542,
     "end_time": "2022-10-18T15:09:07.652445",
     "exception": false,
     "start_time": "2022-10-18T15:09:07.647903",
     "status": "completed"
    },
    "tags": []
   },
   "source": [
    "# Line breaks\n"
   ]
  },
  {
   "cell_type": "markdown",
   "id": "450f1d7e",
   "metadata": {},
   "source": [
    "\n",
    "Two spaces at the end of the line or at least one empty line."
   ]
  },
  {
   "cell_type": "markdown",
   "id": "d384808f",
   "metadata": {
    "papermill": {
     "duration": 0.004508,
     "end_time": "2022-10-18T15:09:07.661686",
     "exception": false,
     "start_time": "2022-10-18T15:09:07.657178",
     "status": "completed"
    },
    "tags": []
   },
   "source": [
    "# Horizontal rules\n"
   ]
  },
  {
   "cell_type": "markdown",
   "id": "dd2a0a03",
   "metadata": {},
   "source": [
    "\n",
    "Three or more `*`, `-` or `_` characters\n",
    "\n",
    "| Markdown | Result |\n",
    "|----------|--------|\n",
    "|`***`     | <hr/>  |\n",
    "|`---`     | <hr/>  |\n",
    "|`___`     | <hr/>  |\n"
   ]
  },
  {
   "cell_type": "markdown",
   "id": "70c8cfae",
   "metadata": {
    "papermill": {
     "duration": 0.004455,
     "end_time": "2022-10-18T15:09:07.670963",
     "exception": false,
     "start_time": "2022-10-18T15:09:07.666508",
     "status": "completed"
    },
    "tags": []
   },
   "source": [
    "# Lists\n"
   ]
  },
  {
   "cell_type": "markdown",
   "id": "1311fa18",
   "metadata": {},
   "source": [
    "\n",
    "\n",
    "| Markdown | Result |\n",
    "|----------|--------|\n",
    "|<code>1. Item 1<br>2. Item 2<br>3. Item 3</code>|<ol><li>Item 1</li><li>Item 2</li><li>Item 3</li></ol>|\n",
    "|<code>- Item 1<br>- Item 2<br>- Item 3</code>|<ul><li>Item 1</li><li>Item 2</li><li>Item 3</li></ul>|\n",
    "\n"
   ]
  },
  {
   "cell_type": "markdown",
   "id": "8f9c6999",
   "metadata": {
    "papermill": {
     "duration": 0.00448,
     "end_time": "2022-10-18T15:09:07.689438",
     "exception": false,
     "start_time": "2022-10-18T15:09:07.684958",
     "status": "completed"
    },
    "tags": []
   },
   "source": [
    "# Code\n"
   ]
  },
  {
   "cell_type": "markdown",
   "id": "4a01804f",
   "metadata": {},
   "source": [
    "\n",
    "### Markdown\n",
    "````\n",
    "```python\n",
    "def fun(a, b):\n",
    "    pass\n",
    "```\n",
    "````\n",
    "\n",
    "### Result\n",
    "\n",
    "```python\n",
    "def fun(a, b):\n",
    "    pass\n",
    "```\n",
    "\n",
    "Note the syntax highlighting!\n"
   ]
  },
  {
   "cell_type": "markdown",
   "id": "447a5cf7",
   "metadata": {
    "papermill": {
     "duration": 0.004526,
     "end_time": "2022-10-18T15:09:07.699726",
     "exception": false,
     "start_time": "2022-10-18T15:09:07.695200",
     "status": "completed"
    },
    "tags": []
   },
   "source": [
    "# Blockquotes\n"
   ]
  },
  {
   "cell_type": "markdown",
   "id": "9f31e897",
   "metadata": {},
   "source": [
    "\n",
    "\n",
    "| Markdown | Result |\n",
    "|----------|--------|\n",
    "|`> Your text`| <blockquote>Your text</blockquote>|\n"
   ]
  },
  {
   "cell_type": "markdown",
   "id": "b119c12b",
   "metadata": {
    "papermill": {
     "duration": 0.004484,
     "end_time": "2022-10-18T15:09:07.709032",
     "exception": false,
     "start_time": "2022-10-18T15:09:07.704548",
     "status": "completed"
    },
    "tags": []
   },
   "source": [
    "# Tables\n"
   ]
  },
  {
   "cell_type": "markdown",
   "id": "65faaf32",
   "metadata": {},
   "source": [
    "\n",
    "\n",
    "### Markdown\n",
    "\n",
    "```\n",
    "| Column1     | Column2     |\n",
    "| ----------- | ----------- |\n",
    "| Item 1.1    | Item 2.1    |\n",
    "| Item 1.2    | Item 2.2    |\n",
    "```\n",
    "\n",
    "### Result\n",
    "\n",
    "| Column1     | Column2     |\n",
    "| ----------- | ----------- |\n",
    "| Item 1.1    | Item 2.1    |\n",
    "| Item 1.2    | Item 2.2    |\n",
    "\n"
   ]
  },
  {
   "cell_type": "markdown",
   "id": "94ef9031",
   "metadata": {},
   "source": [
    "# Math\n"
   ]
  },
  {
   "cell_type": "markdown",
   "id": "3e2c49f9",
   "metadata": {},
   "source": [
    "\n",
    "Use TeX syntax between `$` signs.\n",
    "\n",
    "### Inlined formula, single `$`\n",
    "\n",
    "```text\n",
    "It is well known that $\\cos(\\pi/2-\\alpha)=\\sin(\\alpha)$ for $\\alpha\\in\\mathbb{R}$.\n",
    "```\n",
    "\n",
    "#### Result:\n",
    "\n",
    ">  \n",
    "> It is well known that $\\cos(\\pi/2-\\alpha)=\\sin(\\alpha)$ for $\\alpha\\in\\mathbb{R}$.\n",
    ">  \n",
    "\n",
    "### Displayed equation, double `$$`.\n",
    "\n",
    "```text\n",
    "Stirling's formula claims, that\n",
    "$$\n",
    "    \\lim_{n\\to\\infty} \\frac{n!}{\\sqrt{2\\pi n}\\left(\\frac{n}{e}\\right)^n}=1\n",
    "$$\n",
    "```\n",
    "\n",
    "#### Result:\n",
    "\n",
    ">  \n",
    "> Stirling's formula claims, that\n",
    ">  $$\n",
    ">    \\lim_{n\\to\\infty} \\frac{n!}{\\sqrt{2\\pi n}\\left(\\frac{n}{e}\\right)^n}=1\n",
    ">  $$\n",
    ">  \n"
   ]
  },
  {
   "cell_type": "markdown",
   "id": "f0fd38f2",
   "metadata": {},
   "source": [
    "# Comment"
   ]
  },
  {
   "cell_type": "markdown",
   "id": "8161d5b5",
   "metadata": {},
   "source": [
    "```text\n",
    "Here's a paragraph that will be visible.\n",
    "\n",
    "[This is a comment that will be hidden.]: # \n",
    "\n",
    "And here's another paragraph that's visible.\n",
    "\n",
    "```\n",
    "### Result:\n",
    "\n",
    "> Here's a paragraph that will be visible.\n",
    "> \n",
    "> [This is a comment that will be hidden.]: # \n",
    "> \n",
    "> And here's another paragraph that's visible.\n"
   ]
  },
  {
   "cell_type": "markdown",
   "id": "27115147",
   "metadata": {},
   "source": [
    "# Emojis and UTF symbols\n"
   ]
  },
  {
   "cell_type": "markdown",
   "id": "85c2275d",
   "metadata": {},
   "source": [
    "\n",
    "Simply copy and paste your emojis 🤙😁👍."
   ]
  }
 ],
 "metadata": {
  "kernelspec": {
   "display_name": "Python 3",
   "language": "python",
   "name": "python3"
  },
  "language_info": {
   "codemirror_mode": {
    "name": "ipython",
    "version": 3
   },
   "file_extension": ".py",
   "mimetype": "text/x-python",
   "name": "python",
   "nbconvert_exporter": "python",
   "pygments_lexer": "ipython3",
   "version": "3.7.12"
  },
  "papermill": {
   "default_parameters": {},
   "duration": 9.799974,
   "end_time": "2022-10-18T15:09:08.402826",
   "environment_variables": {},
   "exception": null,
   "input_path": "__notebook__.ipynb",
   "output_path": "__notebook__.ipynb",
   "parameters": {},
   "start_time": "2022-10-18T15:08:58.602852",
   "version": "2.3.4"
  }
 },
 "nbformat": 4,
 "nbformat_minor": 5
}
